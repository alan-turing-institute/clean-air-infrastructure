{
 "cells": [
  {
   "cell_type": "code",
   "execution_count": 1,
   "metadata": {},
   "outputs": [
    {
     "name": "stdout",
     "output_type": "stream",
     "text": [
      "WARNING:tensorflow:From /Users/pohara/Documents/repos/clean-air-infrastructure/python-virtual-environments/env/lib/python3.6/site-packages/gpflow/session_manager.py:31: The name tf.Session is deprecated. Please use tf.compat.v1.Session instead.\n",
      "\n"
     ]
    },
    {
     "name": "stderr",
     "output_type": "stream",
     "text": [
      "WARNING:tensorflow:From /Users/pohara/Documents/repos/clean-air-infrastructure/python-virtual-environments/env/lib/python3.6/site-packages/gpflow/session_manager.py:31: The name tf.Session is deprecated. Please use tf.compat.v1.Session instead.\n",
      "\n"
     ]
    },
    {
     "name": "stdout",
     "output_type": "stream",
     "text": [
      "WARNING:tensorflow:From /Users/pohara/Documents/repos/clean-air-infrastructure/python-virtual-environments/env/lib/python3.6/site-packages/gpflow/misc.py:27: The name tf.GraphKeys is deprecated. Please use tf.compat.v1.GraphKeys instead.\n",
      "\n"
     ]
    },
    {
     "name": "stderr",
     "output_type": "stream",
     "text": [
      "WARNING:tensorflow:From /Users/pohara/Documents/repos/clean-air-infrastructure/python-virtual-environments/env/lib/python3.6/site-packages/gpflow/misc.py:27: The name tf.GraphKeys is deprecated. Please use tf.compat.v1.GraphKeys instead.\n",
      "\n"
     ]
    },
    {
     "name": "stdout",
     "output_type": "stream",
     "text": [
      "WARNING:tensorflow:From /Users/pohara/Documents/repos/clean-air-infrastructure/python-virtual-environments/env/lib/python3.6/site-packages/gpflow/training/tensorflow_optimizer.py:169: The name tf.train.AdadeltaOptimizer is deprecated. Please use tf.compat.v1.train.AdadeltaOptimizer instead.\n",
      "\n"
     ]
    },
    {
     "name": "stderr",
     "output_type": "stream",
     "text": [
      "WARNING:tensorflow:From /Users/pohara/Documents/repos/clean-air-infrastructure/python-virtual-environments/env/lib/python3.6/site-packages/gpflow/training/tensorflow_optimizer.py:169: The name tf.train.AdadeltaOptimizer is deprecated. Please use tf.compat.v1.train.AdadeltaOptimizer instead.\n",
      "\n"
     ]
    },
    {
     "name": "stdout",
     "output_type": "stream",
     "text": [
      "WARNING:tensorflow:From /Users/pohara/Documents/repos/clean-air-infrastructure/python-virtual-environments/env/lib/python3.6/site-packages/gpflow/training/tensorflow_optimizer.py:156: The name tf.train.Optimizer is deprecated. Please use tf.compat.v1.train.Optimizer instead.\n",
      "\n"
     ]
    },
    {
     "name": "stderr",
     "output_type": "stream",
     "text": [
      "WARNING:tensorflow:From /Users/pohara/Documents/repos/clean-air-infrastructure/python-virtual-environments/env/lib/python3.6/site-packages/gpflow/training/tensorflow_optimizer.py:156: The name tf.train.Optimizer is deprecated. Please use tf.compat.v1.train.Optimizer instead.\n",
      "\n"
     ]
    },
    {
     "name": "stdout",
     "output_type": "stream",
     "text": [
      "WARNING:tensorflow:From /Users/pohara/Documents/repos/clean-air-infrastructure/python-virtual-environments/env/lib/python3.6/site-packages/gpflow/training/tensorflow_optimizer.py:169: The name tf.train.AdagradDAOptimizer is deprecated. Please use tf.compat.v1.train.AdagradDAOptimizer instead.\n",
      "\n"
     ]
    },
    {
     "name": "stderr",
     "output_type": "stream",
     "text": [
      "WARNING:tensorflow:From /Users/pohara/Documents/repos/clean-air-infrastructure/python-virtual-environments/env/lib/python3.6/site-packages/gpflow/training/tensorflow_optimizer.py:169: The name tf.train.AdagradDAOptimizer is deprecated. Please use tf.compat.v1.train.AdagradDAOptimizer instead.\n",
      "\n"
     ]
    },
    {
     "name": "stdout",
     "output_type": "stream",
     "text": [
      "WARNING:tensorflow:From /Users/pohara/Documents/repos/clean-air-infrastructure/python-virtual-environments/env/lib/python3.6/site-packages/gpflow/training/tensorflow_optimizer.py:169: The name tf.train.AdagradOptimizer is deprecated. Please use tf.compat.v1.train.AdagradOptimizer instead.\n",
      "\n"
     ]
    },
    {
     "name": "stderr",
     "output_type": "stream",
     "text": [
      "WARNING:tensorflow:From /Users/pohara/Documents/repos/clean-air-infrastructure/python-virtual-environments/env/lib/python3.6/site-packages/gpflow/training/tensorflow_optimizer.py:169: The name tf.train.AdagradOptimizer is deprecated. Please use tf.compat.v1.train.AdagradOptimizer instead.\n",
      "\n"
     ]
    },
    {
     "name": "stdout",
     "output_type": "stream",
     "text": [
      "WARNING:tensorflow:From /Users/pohara/Documents/repos/clean-air-infrastructure/python-virtual-environments/env/lib/python3.6/site-packages/gpflow/training/tensorflow_optimizer.py:169: The name tf.train.AdamOptimizer is deprecated. Please use tf.compat.v1.train.AdamOptimizer instead.\n",
      "\n"
     ]
    },
    {
     "name": "stderr",
     "output_type": "stream",
     "text": [
      "WARNING:tensorflow:From /Users/pohara/Documents/repos/clean-air-infrastructure/python-virtual-environments/env/lib/python3.6/site-packages/gpflow/training/tensorflow_optimizer.py:169: The name tf.train.AdamOptimizer is deprecated. Please use tf.compat.v1.train.AdamOptimizer instead.\n",
      "\n"
     ]
    },
    {
     "name": "stdout",
     "output_type": "stream",
     "text": [
      "WARNING:tensorflow:From /Users/pohara/Documents/repos/clean-air-infrastructure/python-virtual-environments/env/lib/python3.6/site-packages/gpflow/training/tensorflow_optimizer.py:169: The name tf.train.FtrlOptimizer is deprecated. Please use tf.compat.v1.train.FtrlOptimizer instead.\n",
      "\n"
     ]
    },
    {
     "name": "stderr",
     "output_type": "stream",
     "text": [
      "WARNING:tensorflow:From /Users/pohara/Documents/repos/clean-air-infrastructure/python-virtual-environments/env/lib/python3.6/site-packages/gpflow/training/tensorflow_optimizer.py:169: The name tf.train.FtrlOptimizer is deprecated. Please use tf.compat.v1.train.FtrlOptimizer instead.\n",
      "\n"
     ]
    },
    {
     "name": "stdout",
     "output_type": "stream",
     "text": [
      "WARNING:tensorflow:From /Users/pohara/Documents/repos/clean-air-infrastructure/python-virtual-environments/env/lib/python3.6/site-packages/gpflow/training/tensorflow_optimizer.py:169: The name tf.train.GradientDescentOptimizer is deprecated. Please use tf.compat.v1.train.GradientDescentOptimizer instead.\n",
      "\n"
     ]
    },
    {
     "name": "stderr",
     "output_type": "stream",
     "text": [
      "WARNING:tensorflow:From /Users/pohara/Documents/repos/clean-air-infrastructure/python-virtual-environments/env/lib/python3.6/site-packages/gpflow/training/tensorflow_optimizer.py:169: The name tf.train.GradientDescentOptimizer is deprecated. Please use tf.compat.v1.train.GradientDescentOptimizer instead.\n",
      "\n"
     ]
    },
    {
     "name": "stdout",
     "output_type": "stream",
     "text": [
      "WARNING:tensorflow:From /Users/pohara/Documents/repos/clean-air-infrastructure/python-virtual-environments/env/lib/python3.6/site-packages/gpflow/training/tensorflow_optimizer.py:169: The name tf.train.MomentumOptimizer is deprecated. Please use tf.compat.v1.train.MomentumOptimizer instead.\n",
      "\n"
     ]
    },
    {
     "name": "stderr",
     "output_type": "stream",
     "text": [
      "WARNING:tensorflow:From /Users/pohara/Documents/repos/clean-air-infrastructure/python-virtual-environments/env/lib/python3.6/site-packages/gpflow/training/tensorflow_optimizer.py:169: The name tf.train.MomentumOptimizer is deprecated. Please use tf.compat.v1.train.MomentumOptimizer instead.\n",
      "\n"
     ]
    },
    {
     "name": "stdout",
     "output_type": "stream",
     "text": [
      "WARNING:tensorflow:From /Users/pohara/Documents/repos/clean-air-infrastructure/python-virtual-environments/env/lib/python3.6/site-packages/gpflow/training/tensorflow_optimizer.py:169: The name tf.train.ProximalAdagradOptimizer is deprecated. Please use tf.compat.v1.train.ProximalAdagradOptimizer instead.\n",
      "\n"
     ]
    },
    {
     "name": "stderr",
     "output_type": "stream",
     "text": [
      "WARNING:tensorflow:From /Users/pohara/Documents/repos/clean-air-infrastructure/python-virtual-environments/env/lib/python3.6/site-packages/gpflow/training/tensorflow_optimizer.py:169: The name tf.train.ProximalAdagradOptimizer is deprecated. Please use tf.compat.v1.train.ProximalAdagradOptimizer instead.\n",
      "\n"
     ]
    },
    {
     "name": "stdout",
     "output_type": "stream",
     "text": [
      "WARNING:tensorflow:From /Users/pohara/Documents/repos/clean-air-infrastructure/python-virtual-environments/env/lib/python3.6/site-packages/gpflow/training/tensorflow_optimizer.py:169: The name tf.train.ProximalGradientDescentOptimizer is deprecated. Please use tf.compat.v1.train.ProximalGradientDescentOptimizer instead.\n",
      "\n"
     ]
    },
    {
     "name": "stderr",
     "output_type": "stream",
     "text": [
      "WARNING:tensorflow:From /Users/pohara/Documents/repos/clean-air-infrastructure/python-virtual-environments/env/lib/python3.6/site-packages/gpflow/training/tensorflow_optimizer.py:169: The name tf.train.ProximalGradientDescentOptimizer is deprecated. Please use tf.compat.v1.train.ProximalGradientDescentOptimizer instead.\n",
      "\n"
     ]
    },
    {
     "name": "stdout",
     "output_type": "stream",
     "text": [
      "WARNING:tensorflow:From /Users/pohara/Documents/repos/clean-air-infrastructure/python-virtual-environments/env/lib/python3.6/site-packages/gpflow/training/tensorflow_optimizer.py:169: The name tf.train.RMSPropOptimizer is deprecated. Please use tf.compat.v1.train.RMSPropOptimizer instead.\n",
      "\n"
     ]
    },
    {
     "name": "stderr",
     "output_type": "stream",
     "text": [
      "WARNING:tensorflow:From /Users/pohara/Documents/repos/clean-air-infrastructure/python-virtual-environments/env/lib/python3.6/site-packages/gpflow/training/tensorflow_optimizer.py:169: The name tf.train.RMSPropOptimizer is deprecated. Please use tf.compat.v1.train.RMSPropOptimizer instead.\n",
      "\n"
     ]
    },
    {
     "name": "stdout",
     "output_type": "stream",
     "text": [
      "WARNING:tensorflow:From /Users/pohara/Documents/repos/clean-air-infrastructure/python-virtual-environments/env/lib/python3.6/site-packages/gpflow/saver/coders.py:80: The name tf.data.Iterator is deprecated. Please use tf.compat.v1.data.Iterator instead.\n",
      "\n"
     ]
    },
    {
     "name": "stderr",
     "output_type": "stream",
     "text": [
      "WARNING:tensorflow:From /Users/pohara/Documents/repos/clean-air-infrastructure/python-virtual-environments/env/lib/python3.6/site-packages/gpflow/saver/coders.py:80: The name tf.data.Iterator is deprecated. Please use tf.compat.v1.data.Iterator instead.\n",
      "\n"
     ]
    }
   ],
   "source": [
    "import sys\n",
    "import pandas as pd\n",
    "import numpy as np\n",
    "import matplotlib.pyplot as plt\n",
    "import matplotlib.dates as dates\n",
    "\n",
    "# validation modules\n",
    "import experiment\n",
    "import metrics\n",
    "\n",
    "# requires cleanair\n",
    "sys.path.append(\"../containers\")\n",
    "from cleanair.models import ModelData"
   ]
  },
  {
   "cell_type": "code",
   "execution_count": 2,
   "metadata": {},
   "outputs": [],
   "source": [
    "# read experiment from file\n",
    "name = 'basic'\n",
    "cluster = 'laptop'\n",
    "exp = experiment.experiment_from_dir(name, cluster)"
   ]
  },
  {
   "cell_type": "code",
   "execution_count": 3,
   "metadata": {},
   "outputs": [],
   "source": [
    "# load the data_model objects\n",
    "secret_fp = \"../terraform/.secrets/db_secrets.json\"\n",
    "model_data_list = []\n",
    "for data_config in exp.data_config:\n",
    "    model_data = ModelData(config=data_config, secretfile=secret_fp)\n",
    "    model_data_list.append(model_data)"
   ]
  },
  {
   "cell_type": "code",
   "execution_count": 4,
   "metadata": {},
   "outputs": [
    {
     "name": "stdout",
     "output_type": "stream",
     "text": [
      "Xs : (2918, 143)\n",
      "Ys : (2918, 1)\n",
      "Pred index shape: (2918, 0)\n",
      "Y pred shape: (2918,)\n",
      "                                  point_id measurement_start_utc source  \\\n",
      "4150  af257e35-888d-401e-b67c-d8bf0675f6d7   2019-11-03 22:00:00   laqn   \n",
      "1549  6609f5b7-7dd6-44f1-bb7b-ff4182e9a18c   2019-11-03 13:00:00   laqn   \n",
      "1651  edced3c0-5b17-46ed-a877-d59e30d63ed0   2019-11-03 19:00:00   laqn   \n",
      "\n",
      "                                             location_x       lon        lat  \\\n",
      "4150  0101000020e61000004ccff26f7b4cd0bf96c78f3f7ec0... -0.254668  51.503853   \n",
      "1549  0101000020e610000021dc0c0dadfdb9bf811ee4b91fbf... -0.101527  51.493156   \n",
      "1651  0101000020e6100000c51b9947fe60cebf117349d576bd... -0.237335  51.480189   \n",
      "\n",
      "      value_1000_avg_min_width  value_1000_avg_ratio_avg  \\\n",
      "4150                 11.512792                  0.560596   \n",
      "1549                 11.207888                  0.794057   \n",
      "1651                 14.413919                  0.509587   \n",
      "\n",
      "      value_1000_building_height  value_1000_flat  ...  \\\n",
      "4150                   30.500000     3.121158e+06  ...   \n",
      "1549                  148.000000     3.120848e+06  ...   \n",
      "1651                   39.200001     3.121122e+06  ...   \n",
      "\n",
      "      value_10_max_flow_count_norm  value_10_max_occupancy_count_norm  \\\n",
      "4150                      2.489034                           2.671625   \n",
      "1549                     -0.729500                          -0.733093   \n",
      "1651                      0.171230                           0.007470   \n",
      "\n",
      "      value_10_max_occupancy_percentage_norm  value_10_total_flow_count_norm  \\\n",
      "4150                               -0.040775                        5.730803   \n",
      "1549                               -0.573525                       -0.566936   \n",
      "1651                               -0.349984                       -0.126297   \n",
      "\n",
      "      value_10_total_occupancy_count_norm  \\\n",
      "4150                             6.017151   \n",
      "1549                            -0.564524   \n",
      "1651                            -0.205536   \n",
      "\n",
      "      value_10_total_occupancy_percentage_norm  predict_mean  predict_var  \\\n",
      "4150                                  0.592998 -1.614788e-04     6.000299   \n",
      "1549                                 -0.449637 -3.268944e-04     5.999875   \n",
      "1651                                 -0.339634 -8.222112e-13     6.000361   \n",
      "\n",
      "           fit_start_time  tag  \n",
      "4150  2019-11-03T00:00:00  0.0  \n",
      "1549  2019-11-03T00:00:00  0.0  \n",
      "1651  2019-11-03T00:00:00  0.0  \n",
      "\n",
      "[3 rows x 296 columns]\n",
      "Xs : (2918, 143)\n",
      "Ys : (2918, 1)\n",
      "Pred index shape: (2918, 0)\n",
      "Y pred shape: (2918,)\n",
      "                                  point_id measurement_start_utc source  \\\n",
      "3502  7383aa7e-e522-461f-91fc-3d5a1622a328   2019-11-03 22:00:00   laqn   \n",
      "2695  41052e66-a9b2-4640-8f45-2e6904135ad0   2019-11-03 07:00:00   laqn   \n",
      "2274  c58ac148-d64b-43b9-b25d-4bc5c08df423   2019-11-03 18:00:00   laqn   \n",
      "\n",
      "                                             location_x       lon        lat  \\\n",
      "3502  0101000020e6100000ee5a423ee8d9a43f7c26fbe769ba...  0.040725  51.456357   \n",
      "2695  0101000020e610000034415114dfdac0bfd935dd66afc7... -0.131679  51.560040   \n",
      "2274  0101000020e610000083647fa32e55bdbff575901268bb... -0.114581  51.464114   \n",
      "\n",
      "      value_1000_avg_min_width  value_1000_avg_ratio_avg  \\\n",
      "3502                 16.187500                  0.469888   \n",
      "2695                 12.306101                  0.670948   \n",
      "2274                 11.898002                  0.617827   \n",
      "\n",
      "      value_1000_building_height  value_1000_flat  ...  \\\n",
      "3502                        36.2     3.121455e+06  ...   \n",
      "2695                        67.6     3.121244e+06  ...   \n",
      "2274                        66.6     3.120865e+06  ...   \n",
      "\n",
      "      value_10_max_flow_count_norm  value_10_max_occupancy_count_norm  \\\n",
      "3502                     -0.152723                          -0.105829   \n",
      "2695                     -0.729500                          -0.733093   \n",
      "2274                      2.336825                           2.041513   \n",
      "\n",
      "      value_10_max_occupancy_percentage_norm  value_10_total_flow_count_norm  \\\n",
      "3502                               -0.082880                       -0.284776   \n",
      "2695                               -0.573525                       -0.566936   \n",
      "2274                                4.394933                        3.681294   \n",
      "\n",
      "      value_10_total_occupancy_count_norm  \\\n",
      "3502                            -0.260458   \n",
      "2695                            -0.564524   \n",
      "2274                             3.252831   \n",
      "\n",
      "      value_10_total_occupancy_percentage_norm  predict_mean  predict_var  \\\n",
      "3502                                 -0.208194      0.000201     6.000267   \n",
      "2695                                 -0.449637           NaN          NaN   \n",
      "2274                                  6.092507      0.000206     6.000287   \n",
      "\n",
      "           fit_start_time  tag  \n",
      "3502  2019-11-03T00:00:00  0.0  \n",
      "2695                  NaN  NaN  \n",
      "2274  2019-11-03T00:00:00  0.0  \n",
      "\n",
      "[3 rows x 296 columns]\n",
      "Xs : (2918, 143)\n",
      "Ys : (2918, 1)\n",
      "Pred index shape: (2918, 0)\n",
      "Y pred shape: (2918,)\n",
      "                                  point_id measurement_start_utc source  \\\n",
      "1665  63fcc6b8-e803-4d10-8283-c67951a4dce5   2019-11-03 09:00:00   laqn   \n",
      "5648  a4ef6b55-ea17-48ef-b7e8-c7c0cf853bad   2019-11-03 08:00:00   laqn   \n",
      "3914  f43c667d-9ff3-4a84-b3dd-d27d4dc1035d   2019-11-03 02:00:00   laqn   \n",
      "\n",
      "                                             location_x       lon        lat  \\\n",
      "1665  0101000020e61000002ac58ec6a17ecdbf6cb3b112f3bc... -0.230427  51.476168   \n",
      "5648  0101000020e6100000ba94b68ee0e98bbf7d85987333c7... -0.013630  51.556258   \n",
      "3914  0101000020e6100000156ebc7ade55d8bfbc91f258c0c0... -0.380241  51.505870   \n",
      "\n",
      "      value_1000_avg_min_width  value_1000_avg_ratio_avg  \\\n",
      "1665                 13.234375                  0.525006   \n",
      "5648                 13.959900                  0.562350   \n",
      "3914                 11.084695                  0.492918   \n",
      "\n",
      "      value_1000_building_height  value_1000_flat  ...  \\\n",
      "1665                   39.200001     3.121108e+06  ...   \n",
      "5648                   36.400000     3.120944e+06  ...   \n",
      "3914                   42.200000     3.121408e+06  ...   \n",
      "\n",
      "      value_10_max_flow_count_norm  value_10_max_occupancy_count_norm  \\\n",
      "1665                     -0.729500                          -0.733093   \n",
      "5648                     -0.729500                          -0.733093   \n",
      "3914                      1.036411                           1.088527   \n",
      "\n",
      "      value_10_max_occupancy_percentage_norm  value_10_total_flow_count_norm  \\\n",
      "1665                               -0.573525                       -0.566936   \n",
      "5648                               -0.573525                       -0.566936   \n",
      "3914                                1.124060                        0.296951   \n",
      "\n",
      "      value_10_total_occupancy_count_norm  \\\n",
      "1665                            -0.564524   \n",
      "5648                            -0.564524   \n",
      "3914                             0.318505   \n",
      "\n",
      "      value_10_total_occupancy_percentage_norm  predict_mean  predict_var  \\\n",
      "1665                                 -0.449637      0.002045     5.995979   \n",
      "5648                                 -0.449637           NaN          NaN   \n",
      "3914                                  0.385734           NaN          NaN   \n",
      "\n",
      "           fit_start_time  tag  \n",
      "1665  2019-11-03T00:00:00  0.0  \n",
      "5648                  NaN  NaN  \n",
      "3914                  NaN  NaN  \n",
      "\n",
      "[3 rows x 296 columns]\n",
      "Xs : (2918, 143)\n",
      "Ys : (2918, 1)\n",
      "Pred index shape: (2918, 0)\n",
      "Y pred shape: (2918,)\n",
      "                                  point_id measurement_start_utc source  \\\n",
      "5200  4d385920-372d-4e9c-98a8-30ff64853de9   2019-11-03 16:00:00   laqn   \n",
      "4227  d1829176-c5eb-4978-aac9-c21b85413c59   2019-11-03 03:00:00   laqn   \n",
      "3882  f27b57e8-4629-432f-8f1f-8d0b532d8204   2019-11-03 18:00:00   laqn   \n",
      "\n",
      "                                             location_x       lon        lat  \\\n",
      "5200  0101000020e61000006e4495a65c92c13fbb9be2a550bf...  0.137279  51.494649   \n",
      "4227  0101000020e6100000c30e63d2df4bb9bfe4a08499b6b3... -0.098814  51.404010   \n",
      "3882  0101000020e61000001a187959130bc0bf5b94d92093ce... -0.125338  51.613865   \n",
      "\n",
      "      value_1000_avg_min_width  value_1000_avg_ratio_avg  \\\n",
      "5200                 12.672634                  0.455216   \n",
      "4227                 13.045455                  0.418023   \n",
      "3882                 13.371278                  0.478752   \n",
      "\n",
      "      value_1000_building_height  value_1000_flat  ...  \\\n",
      "5200                        39.5     3.120914e+06  ...   \n",
      "4227                        38.0     3.122075e+06  ...   \n",
      "3882                        44.1     3.121085e+06  ...   \n",
      "\n",
      "      value_10_max_flow_count_norm  value_10_max_occupancy_count_norm  \\\n",
      "5200                       -0.7295                          -0.733093   \n",
      "4227                       -0.7295                          -0.733093   \n",
      "3882                       -0.7295                          -0.733093   \n",
      "\n",
      "      value_10_max_occupancy_percentage_norm  value_10_total_flow_count_norm  \\\n",
      "5200                               -0.573525                       -0.566936   \n",
      "4227                               -0.573525                       -0.566936   \n",
      "3882                               -0.573525                       -0.566936   \n",
      "\n",
      "      value_10_total_occupancy_count_norm  \\\n",
      "5200                            -0.564524   \n",
      "4227                            -0.564524   \n",
      "3882                            -0.564524   \n",
      "\n",
      "      value_10_total_occupancy_percentage_norm  predict_mean  predict_var  \\\n",
      "5200                                 -0.449637      0.000354     6.000045   \n",
      "4227                                 -0.449637           NaN          NaN   \n",
      "3882                                 -0.449637     -0.000222     6.000293   \n",
      "\n",
      "           fit_start_time  tag  \n",
      "5200  2019-11-03T00:00:00  0.0  \n",
      "4227                  NaN  NaN  \n",
      "3882  2019-11-03T00:00:00  0.0  \n",
      "\n"
     ]
    },
    {
     "name": "stdout",
     "output_type": "stream",
     "text": [
      "[3 rows x 296 columns]\n"
     ]
    }
   ],
   "source": [
    "# get a list of model data objects with updated prediction columns\n",
    "updated_preds = []\n",
    "\n",
    "\n",
    "for index, row in exp.experiment_df.iterrows():\n",
    "    row = exp.experiment_df.loc[index]\n",
    "    pid = row['param_id']\n",
    "    model = row['model_name']\n",
    "    did = row['data_id']\n",
    "#     y_test = np.load(exp.data_config[did]['y_test_fp'])\n",
    "    Y_pred = np.load(row['y_pred_fp'])\n",
    "    \n",
    "    # look at shapes\n",
    "    data_config = exp.data_config[did]\n",
    "    x_test = np.load(data_config['x_test_fp'])\n",
    "    y_test = np.load(data_config['y_test_fp'])\n",
    "    print(\"Xs :\", x_test.shape)\n",
    "    print(\"Ys :\", y_test.shape)\n",
    "    \n",
    "    # update model_data\n",
    "    normalised_df = model_data_list[did].normalised_pred_data_df.copy()\n",
    "    predict_data_dict = model_data_list[did].get_pred_data_arrays(return_y=True).copy()\n",
    "    \n",
    "    # Create new dataframe with predictions\n",
    "    predict_df = pd.DataFrame(index=predict_data_dict['index'])\n",
    "    print(\"Pred index shape:\", predict_df.shape)\n",
    "    print(\"Y pred shape:\", Y_pred[:, 0].shape)\n",
    "    predict_df['predict_mean'] = Y_pred[:, 0]\n",
    "    predict_df['predict_var'] = Y_pred[:, 1]\n",
    "    predict_df['fit_start_time'] = exp.data_config[did]['pred_start_date']\n",
    "    predict_df['tag'] = 0\n",
    "    \n",
    "    normalised_pred_data_df = pd.concat([model_data_list[did].normalised_pred_data_df, predict_df], axis=1, ignore_index=False)\n",
    "    print(normalised_pred_data_df.sample(3))\n",
    "    updated_preds.append(normalised_pred_data_df)\n",
    "    "
   ]
  },
  {
   "cell_type": "code",
   "execution_count": 5,
   "metadata": {},
   "outputs": [
    {
     "name": "stdout",
     "output_type": "stream",
     "text": [
      "Index(['point_id', 'measurement_start_utc', 'source', 'location_x', 'lon',\n",
      "       'lat', 'value_1000_avg_min_width', 'value_1000_avg_ratio_avg',\n",
      "       'value_1000_building_height', 'value_1000_flat',\n",
      "       ...\n",
      "       'value_10_max_flow_count_norm', 'value_10_max_occupancy_count_norm',\n",
      "       'value_10_max_occupancy_percentage_norm',\n",
      "       'value_10_total_flow_count_norm', 'value_10_total_occupancy_count_norm',\n",
      "       'value_10_total_occupancy_percentage_norm', 'predict_mean',\n",
      "       'predict_var', 'fit_start_time', 'tag'],\n",
      "      dtype='object', length=296)\n"
     ]
    }
   ],
   "source": [
    "i = 0\n",
    "preds = updated_preds[0]\n",
    "preds['measurement_start_utc'] = pd.to_datetime(preds['measurement_start_utc'])\n",
    "gb = preds.groupby('point_id')\n",
    "print(preds.columns)"
   ]
  },
  {
   "cell_type": "code",
   "execution_count": 6,
   "metadata": {},
   "outputs": [],
   "source": [
    "def plot_pretty_timeseries(time, series, ax, sigmas=None):\n",
    "    ax.plot_date(time, series, ',', linestyle='-')\n",
    "    ax.xaxis.grid(True, which=\"major\")\n",
    "    ax.xaxis.set_major_locator(dates.DayLocator(interval=1))\n",
    "    ax.xaxis.set_major_formatter(dates.DateFormatter('%d\\n%m'))\n",
    "    \n",
    "    if not sigmas is None:\n",
    "        factor = 2\n",
    "        y_min = series - factor*np.sqrt(sigmas)\n",
    "        y_max = series + factor*np.sqrt(sigmas)\n",
    "        ax.fill_between(time, y_min, y_max, color='orange', alpha=0.5)\n",
    "        \n",
    "        \n",
    "    return ax"
   ]
  },
  {
   "cell_type": "code",
   "execution_count": 7,
   "metadata": {},
   "outputs": [
    {
     "name": "stderr",
     "output_type": "stream",
     "text": [
      "/Users/pohara/Documents/repos/clean-air-infrastructure/python-virtual-environments/env/lib/python3.6/site-packages/pandas/plotting/_matplotlib/converter.py:103: FutureWarning:\n",
      "\n",
      "Using an implicitly registered datetime converter for a matplotlib plotting method. The converter was registered by pandas on import. Future versions of pandas will require you to explicitly register matplotlib converters.\n",
      "\n",
      "To register the converters:\n",
      "\t>>> from pandas.plotting import register_matplotlib_converters\n",
      "\t>>> register_matplotlib_converters()\n",
      "\n"
     ]
    },
    {
     "ename": "RuntimeError",
     "evalue": "Locator attempting to generate 7972 ticks from 729758.0 to 737729.0: exceeds Locator.MAXTICKS",
     "output_type": "error",
     "traceback": [
      "\u001b[0;31m---------------------------------------------------------------------------\u001b[0m",
      "\u001b[0;31mRuntimeError\u001b[0m                              Traceback (most recent call last)",
      "\u001b[0;32m~/Documents/repos/clean-air-infrastructure/python-virtual-environments/env/lib/python3.6/site-packages/ipykernel/pylab/backend_inline.py\u001b[0m in \u001b[0;36mshow\u001b[0;34m(close, block)\u001b[0m\n\u001b[1;32m     37\u001b[0m             display(\n\u001b[1;32m     38\u001b[0m                 \u001b[0mfigure_manager\u001b[0m\u001b[0;34m.\u001b[0m\u001b[0mcanvas\u001b[0m\u001b[0;34m.\u001b[0m\u001b[0mfigure\u001b[0m\u001b[0;34m,\u001b[0m\u001b[0;34m\u001b[0m\u001b[0m\n\u001b[0;32m---> 39\u001b[0;31m                 \u001b[0mmetadata\u001b[0m\u001b[0;34m=\u001b[0m\u001b[0m_fetch_figure_metadata\u001b[0m\u001b[0;34m(\u001b[0m\u001b[0mfigure_manager\u001b[0m\u001b[0;34m.\u001b[0m\u001b[0mcanvas\u001b[0m\u001b[0;34m.\u001b[0m\u001b[0mfigure\u001b[0m\u001b[0;34m)\u001b[0m\u001b[0;34m\u001b[0m\u001b[0m\n\u001b[0m\u001b[1;32m     40\u001b[0m             )\n\u001b[1;32m     41\u001b[0m     \u001b[0;32mfinally\u001b[0m\u001b[0;34m:\u001b[0m\u001b[0;34m\u001b[0m\u001b[0m\n",
      "\u001b[0;32m~/Documents/repos/clean-air-infrastructure/python-virtual-environments/env/lib/python3.6/site-packages/ipykernel/pylab/backend_inline.py\u001b[0m in \u001b[0;36m_fetch_figure_metadata\u001b[0;34m(fig)\u001b[0m\n\u001b[1;32m    175\u001b[0m         \u001b[0;31m# the background is transparent\u001b[0m\u001b[0;34m\u001b[0m\u001b[0;34m\u001b[0m\u001b[0m\n\u001b[1;32m    176\u001b[0m         ticksLight = _is_light([label.get_color()\n\u001b[0;32m--> 177\u001b[0;31m                                 \u001b[0;32mfor\u001b[0m \u001b[0maxes\u001b[0m \u001b[0;32min\u001b[0m \u001b[0mfig\u001b[0m\u001b[0;34m.\u001b[0m\u001b[0maxes\u001b[0m\u001b[0;34m\u001b[0m\u001b[0m\n\u001b[0m\u001b[1;32m    178\u001b[0m                                 \u001b[0;32mfor\u001b[0m \u001b[0maxis\u001b[0m \u001b[0;32min\u001b[0m \u001b[0;34m(\u001b[0m\u001b[0maxes\u001b[0m\u001b[0;34m.\u001b[0m\u001b[0mxaxis\u001b[0m\u001b[0;34m,\u001b[0m \u001b[0maxes\u001b[0m\u001b[0;34m.\u001b[0m\u001b[0myaxis\u001b[0m\u001b[0;34m)\u001b[0m\u001b[0;34m\u001b[0m\u001b[0m\n\u001b[1;32m    179\u001b[0m                                 for label in axis.get_ticklabels()])\n",
      "\u001b[0;32m~/Documents/repos/clean-air-infrastructure/python-virtual-environments/env/lib/python3.6/site-packages/ipykernel/pylab/backend_inline.py\u001b[0m in \u001b[0;36m<listcomp>\u001b[0;34m(.0)\u001b[0m\n\u001b[1;32m    177\u001b[0m                                 \u001b[0;32mfor\u001b[0m \u001b[0maxes\u001b[0m \u001b[0;32min\u001b[0m \u001b[0mfig\u001b[0m\u001b[0;34m.\u001b[0m\u001b[0maxes\u001b[0m\u001b[0;34m\u001b[0m\u001b[0m\n\u001b[1;32m    178\u001b[0m                                 \u001b[0;32mfor\u001b[0m \u001b[0maxis\u001b[0m \u001b[0;32min\u001b[0m \u001b[0;34m(\u001b[0m\u001b[0maxes\u001b[0m\u001b[0;34m.\u001b[0m\u001b[0mxaxis\u001b[0m\u001b[0;34m,\u001b[0m \u001b[0maxes\u001b[0m\u001b[0;34m.\u001b[0m\u001b[0myaxis\u001b[0m\u001b[0;34m)\u001b[0m\u001b[0;34m\u001b[0m\u001b[0m\n\u001b[0;32m--> 179\u001b[0;31m                                 for label in axis.get_ticklabels()])\n\u001b[0m\u001b[1;32m    180\u001b[0m         \u001b[0;32mif\u001b[0m \u001b[0mticksLight\u001b[0m\u001b[0;34m.\u001b[0m\u001b[0msize\u001b[0m \u001b[0;32mand\u001b[0m \u001b[0;34m(\u001b[0m\u001b[0mticksLight\u001b[0m \u001b[0;34m==\u001b[0m \u001b[0mticksLight\u001b[0m\u001b[0;34m[\u001b[0m\u001b[0;36m0\u001b[0m\u001b[0;34m]\u001b[0m\u001b[0;34m)\u001b[0m\u001b[0;34m.\u001b[0m\u001b[0mall\u001b[0m\u001b[0;34m(\u001b[0m\u001b[0;34m)\u001b[0m\u001b[0;34m:\u001b[0m\u001b[0;34m\u001b[0m\u001b[0m\n\u001b[1;32m    181\u001b[0m             \u001b[0;31m# there are one or more tick labels, all with the same lightness\u001b[0m\u001b[0;34m\u001b[0m\u001b[0;34m\u001b[0m\u001b[0m\n",
      "\u001b[0;32m~/Documents/repos/clean-air-infrastructure/python-virtual-environments/env/lib/python3.6/site-packages/matplotlib/axis.py\u001b[0m in \u001b[0;36mget_ticklabels\u001b[0;34m(self, minor, which)\u001b[0m\n\u001b[1;32m   1294\u001b[0m         \u001b[0;32mif\u001b[0m \u001b[0mminor\u001b[0m\u001b[0;34m:\u001b[0m\u001b[0;34m\u001b[0m\u001b[0m\n\u001b[1;32m   1295\u001b[0m             \u001b[0;32mreturn\u001b[0m \u001b[0mself\u001b[0m\u001b[0;34m.\u001b[0m\u001b[0mget_minorticklabels\u001b[0m\u001b[0;34m(\u001b[0m\u001b[0;34m)\u001b[0m\u001b[0;34m\u001b[0m\u001b[0m\n\u001b[0;32m-> 1296\u001b[0;31m         \u001b[0;32mreturn\u001b[0m \u001b[0mself\u001b[0m\u001b[0;34m.\u001b[0m\u001b[0mget_majorticklabels\u001b[0m\u001b[0;34m(\u001b[0m\u001b[0;34m)\u001b[0m\u001b[0;34m\u001b[0m\u001b[0m\n\u001b[0m\u001b[1;32m   1297\u001b[0m \u001b[0;34m\u001b[0m\u001b[0m\n\u001b[1;32m   1298\u001b[0m     \u001b[0;32mdef\u001b[0m \u001b[0mget_majorticklines\u001b[0m\u001b[0;34m(\u001b[0m\u001b[0mself\u001b[0m\u001b[0;34m)\u001b[0m\u001b[0;34m:\u001b[0m\u001b[0;34m\u001b[0m\u001b[0m\n",
      "\u001b[0;32m~/Documents/repos/clean-air-infrastructure/python-virtual-environments/env/lib/python3.6/site-packages/matplotlib/axis.py\u001b[0m in \u001b[0;36mget_majorticklabels\u001b[0;34m(self)\u001b[0m\n\u001b[1;32m   1250\u001b[0m     \u001b[0;32mdef\u001b[0m \u001b[0mget_majorticklabels\u001b[0m\u001b[0;34m(\u001b[0m\u001b[0mself\u001b[0m\u001b[0;34m)\u001b[0m\u001b[0;34m:\u001b[0m\u001b[0;34m\u001b[0m\u001b[0m\n\u001b[1;32m   1251\u001b[0m         \u001b[0;34m'Return a list of Text instances for the major ticklabels.'\u001b[0m\u001b[0;34m\u001b[0m\u001b[0m\n\u001b[0;32m-> 1252\u001b[0;31m         \u001b[0mticks\u001b[0m \u001b[0;34m=\u001b[0m \u001b[0mself\u001b[0m\u001b[0;34m.\u001b[0m\u001b[0mget_major_ticks\u001b[0m\u001b[0;34m(\u001b[0m\u001b[0;34m)\u001b[0m\u001b[0;34m\u001b[0m\u001b[0m\n\u001b[0m\u001b[1;32m   1253\u001b[0m         \u001b[0mlabels1\u001b[0m \u001b[0;34m=\u001b[0m \u001b[0;34m[\u001b[0m\u001b[0mtick\u001b[0m\u001b[0;34m.\u001b[0m\u001b[0mlabel1\u001b[0m \u001b[0;32mfor\u001b[0m \u001b[0mtick\u001b[0m \u001b[0;32min\u001b[0m \u001b[0mticks\u001b[0m \u001b[0;32mif\u001b[0m \u001b[0mtick\u001b[0m\u001b[0;34m.\u001b[0m\u001b[0mlabel1\u001b[0m\u001b[0;34m.\u001b[0m\u001b[0mget_visible\u001b[0m\u001b[0;34m(\u001b[0m\u001b[0;34m)\u001b[0m\u001b[0;34m]\u001b[0m\u001b[0;34m\u001b[0m\u001b[0m\n\u001b[1;32m   1254\u001b[0m         \u001b[0mlabels2\u001b[0m \u001b[0;34m=\u001b[0m \u001b[0;34m[\u001b[0m\u001b[0mtick\u001b[0m\u001b[0;34m.\u001b[0m\u001b[0mlabel2\u001b[0m \u001b[0;32mfor\u001b[0m \u001b[0mtick\u001b[0m \u001b[0;32min\u001b[0m \u001b[0mticks\u001b[0m \u001b[0;32mif\u001b[0m \u001b[0mtick\u001b[0m\u001b[0;34m.\u001b[0m\u001b[0mlabel2\u001b[0m\u001b[0;34m.\u001b[0m\u001b[0mget_visible\u001b[0m\u001b[0;34m(\u001b[0m\u001b[0;34m)\u001b[0m\u001b[0;34m]\u001b[0m\u001b[0;34m\u001b[0m\u001b[0m\n",
      "\u001b[0;32m~/Documents/repos/clean-air-infrastructure/python-virtual-environments/env/lib/python3.6/site-packages/matplotlib/axis.py\u001b[0m in \u001b[0;36mget_major_ticks\u001b[0;34m(self, numticks)\u001b[0m\n\u001b[1;32m   1405\u001b[0m         \u001b[0;34m'Get the tick instances; grow as necessary.'\u001b[0m\u001b[0;34m\u001b[0m\u001b[0m\n\u001b[1;32m   1406\u001b[0m         \u001b[0;32mif\u001b[0m \u001b[0mnumticks\u001b[0m \u001b[0;32mis\u001b[0m \u001b[0;32mNone\u001b[0m\u001b[0;34m:\u001b[0m\u001b[0;34m\u001b[0m\u001b[0m\n\u001b[0;32m-> 1407\u001b[0;31m             \u001b[0mnumticks\u001b[0m \u001b[0;34m=\u001b[0m \u001b[0mlen\u001b[0m\u001b[0;34m(\u001b[0m\u001b[0mself\u001b[0m\u001b[0;34m.\u001b[0m\u001b[0mget_majorticklocs\u001b[0m\u001b[0;34m(\u001b[0m\u001b[0;34m)\u001b[0m\u001b[0;34m)\u001b[0m\u001b[0;34m\u001b[0m\u001b[0m\n\u001b[0m\u001b[1;32m   1408\u001b[0m \u001b[0;34m\u001b[0m\u001b[0m\n\u001b[1;32m   1409\u001b[0m         \u001b[0;32mwhile\u001b[0m \u001b[0mlen\u001b[0m\u001b[0;34m(\u001b[0m\u001b[0mself\u001b[0m\u001b[0;34m.\u001b[0m\u001b[0mmajorTicks\u001b[0m\u001b[0;34m)\u001b[0m \u001b[0;34m<\u001b[0m \u001b[0mnumticks\u001b[0m\u001b[0;34m:\u001b[0m\u001b[0;34m\u001b[0m\u001b[0m\n",
      "\u001b[0;32m~/Documents/repos/clean-air-infrastructure/python-virtual-environments/env/lib/python3.6/site-packages/matplotlib/axis.py\u001b[0m in \u001b[0;36mget_majorticklocs\u001b[0;34m(self)\u001b[0m\n\u001b[1;32m   1322\u001b[0m     \u001b[0;32mdef\u001b[0m \u001b[0mget_majorticklocs\u001b[0m\u001b[0;34m(\u001b[0m\u001b[0mself\u001b[0m\u001b[0;34m)\u001b[0m\u001b[0;34m:\u001b[0m\u001b[0;34m\u001b[0m\u001b[0m\n\u001b[1;32m   1323\u001b[0m         \u001b[0;34m\"\"\"Get the array of major tick locations in data coordinates.\"\"\"\u001b[0m\u001b[0;34m\u001b[0m\u001b[0m\n\u001b[0;32m-> 1324\u001b[0;31m         \u001b[0;32mreturn\u001b[0m \u001b[0mself\u001b[0m\u001b[0;34m.\u001b[0m\u001b[0mmajor\u001b[0m\u001b[0;34m.\u001b[0m\u001b[0mlocator\u001b[0m\u001b[0;34m(\u001b[0m\u001b[0;34m)\u001b[0m\u001b[0;34m\u001b[0m\u001b[0m\n\u001b[0m\u001b[1;32m   1325\u001b[0m \u001b[0;34m\u001b[0m\u001b[0m\n\u001b[1;32m   1326\u001b[0m     \u001b[0;32mdef\u001b[0m \u001b[0mget_minorticklocs\u001b[0m\u001b[0;34m(\u001b[0m\u001b[0mself\u001b[0m\u001b[0;34m)\u001b[0m\u001b[0;34m:\u001b[0m\u001b[0;34m\u001b[0m\u001b[0m\n",
      "\u001b[0;32m~/Documents/repos/clean-air-infrastructure/python-virtual-environments/env/lib/python3.6/site-packages/matplotlib/dates.py\u001b[0m in \u001b[0;36m__call__\u001b[0;34m(self)\u001b[0m\n\u001b[1;32m   1241\u001b[0m             \u001b[0;32mreturn\u001b[0m \u001b[0;34m[\u001b[0m\u001b[0;34m]\u001b[0m\u001b[0;34m\u001b[0m\u001b[0m\n\u001b[1;32m   1242\u001b[0m \u001b[0;34m\u001b[0m\u001b[0m\n\u001b[0;32m-> 1243\u001b[0;31m         \u001b[0;32mreturn\u001b[0m \u001b[0mself\u001b[0m\u001b[0;34m.\u001b[0m\u001b[0mtick_values\u001b[0m\u001b[0;34m(\u001b[0m\u001b[0mdmin\u001b[0m\u001b[0;34m,\u001b[0m \u001b[0mdmax\u001b[0m\u001b[0;34m)\u001b[0m\u001b[0;34m\u001b[0m\u001b[0m\n\u001b[0m\u001b[1;32m   1244\u001b[0m \u001b[0;34m\u001b[0m\u001b[0m\n\u001b[1;32m   1245\u001b[0m     \u001b[0;32mdef\u001b[0m \u001b[0mtick_values\u001b[0m\u001b[0;34m(\u001b[0m\u001b[0mself\u001b[0m\u001b[0;34m,\u001b[0m \u001b[0mvmin\u001b[0m\u001b[0;34m,\u001b[0m \u001b[0mvmax\u001b[0m\u001b[0;34m)\u001b[0m\u001b[0;34m:\u001b[0m\u001b[0;34m\u001b[0m\u001b[0m\n",
      "\u001b[0;32m~/Documents/repos/clean-air-infrastructure/python-virtual-environments/env/lib/python3.6/site-packages/matplotlib/dates.py\u001b[0m in \u001b[0;36mtick_values\u001b[0;34m(self, vmin, vmax)\u001b[0m\n\u001b[1;32m   1263\u001b[0m         \u001b[0;32mif\u001b[0m \u001b[0mlen\u001b[0m\u001b[0;34m(\u001b[0m\u001b[0mdates\u001b[0m\u001b[0;34m)\u001b[0m \u001b[0;34m==\u001b[0m \u001b[0;36m0\u001b[0m\u001b[0;34m:\u001b[0m\u001b[0;34m\u001b[0m\u001b[0m\n\u001b[1;32m   1264\u001b[0m             \u001b[0;32mreturn\u001b[0m \u001b[0mdate2num\u001b[0m\u001b[0;34m(\u001b[0m\u001b[0;34m[\u001b[0m\u001b[0mvmin\u001b[0m\u001b[0;34m,\u001b[0m \u001b[0mvmax\u001b[0m\u001b[0;34m]\u001b[0m\u001b[0;34m)\u001b[0m\u001b[0;34m\u001b[0m\u001b[0m\n\u001b[0;32m-> 1265\u001b[0;31m         \u001b[0;32mreturn\u001b[0m \u001b[0mself\u001b[0m\u001b[0;34m.\u001b[0m\u001b[0mraise_if_exceeds\u001b[0m\u001b[0;34m(\u001b[0m\u001b[0mdate2num\u001b[0m\u001b[0;34m(\u001b[0m\u001b[0mdates\u001b[0m\u001b[0;34m)\u001b[0m\u001b[0;34m)\u001b[0m\u001b[0;34m\u001b[0m\u001b[0m\n\u001b[0m\u001b[1;32m   1266\u001b[0m \u001b[0;34m\u001b[0m\u001b[0m\n\u001b[1;32m   1267\u001b[0m     \u001b[0;32mdef\u001b[0m \u001b[0m_get_unit\u001b[0m\u001b[0;34m(\u001b[0m\u001b[0mself\u001b[0m\u001b[0;34m)\u001b[0m\u001b[0;34m:\u001b[0m\u001b[0;34m\u001b[0m\u001b[0m\n",
      "\u001b[0;32m~/Documents/repos/clean-air-infrastructure/python-virtual-environments/env/lib/python3.6/site-packages/matplotlib/ticker.py\u001b[0m in \u001b[0;36mraise_if_exceeds\u001b[0;34m(self, locs)\u001b[0m\n\u001b[1;32m   1521\u001b[0m             raise RuntimeError(\"Locator attempting to generate {} ticks from \"\n\u001b[1;32m   1522\u001b[0m                                \"{} to {}: exceeds Locator.MAXTICKS\".format(\n\u001b[0;32m-> 1523\u001b[0;31m                                    len(locs), locs[0], locs[-1]))\n\u001b[0m\u001b[1;32m   1524\u001b[0m         \u001b[0;32mreturn\u001b[0m \u001b[0mlocs\u001b[0m\u001b[0;34m\u001b[0m\u001b[0m\n\u001b[1;32m   1525\u001b[0m \u001b[0;34m\u001b[0m\u001b[0m\n",
      "\u001b[0;31mRuntimeError\u001b[0m: Locator attempting to generate 7972 ticks from 729758.0 to 737729.0: exceeds Locator.MAXTICKS"
     ]
    }
   ],
   "source": [
    "n = 2 # number of rows\n",
    "c = 2 # number of columns\n",
    "fig, axs = plt.subplots(n, c, sharex=True, sharey=True)\n",
    "i = 0\n",
    "j = 0\n",
    "for point, row in gb:\n",
    "    plot_pretty_timeseries(row['measurement_start_utc'], row['predict_mean'], axs[i, j], sigmas=row['predict_var'])\n",
    "    plot_pretty_timeseries(row['measurement_start_utc'], row['NO2'], axs[i, j])\n",
    "    i += j % c\n",
    "    j += 1\n",
    "    j = j % c\n",
    "    if i == n:\n",
    "        break"
   ]
  },
  {
   "cell_type": "code",
   "execution_count": null,
   "metadata": {},
   "outputs": [],
   "source": []
  }
 ],
 "metadata": {
  "kernelspec": {
   "display_name": "cleanair",
   "language": "python",
   "name": "cleanair"
  },
  "language_info": {
   "codemirror_mode": {
    "name": "ipython",
    "version": 3
   },
   "file_extension": ".py",
   "mimetype": "text/x-python",
   "name": "python",
   "nbconvert_exporter": "python",
   "pygments_lexer": "ipython3",
   "version": "3.6.5"
  }
 },
 "nbformat": 4,
 "nbformat_minor": 2
}
