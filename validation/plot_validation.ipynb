{
 "cells": [
  {
   "cell_type": "code",
   "execution_count": 1,
   "metadata": {},
   "outputs": [
    {
     "name": "stdout",
     "output_type": "stream",
     "text": [
      "WARNING:tensorflow:From /Users/pohara/Documents/repos/clean-air-infrastructure/python-virtual-environments/env/lib/python3.6/site-packages/gpflow/session_manager.py:31: The name tf.Session is deprecated. Please use tf.compat.v1.Session instead.\n",
      "\n"
     ]
    },
    {
     "name": "stderr",
     "output_type": "stream",
     "text": [
      "WARNING:tensorflow:From /Users/pohara/Documents/repos/clean-air-infrastructure/python-virtual-environments/env/lib/python3.6/site-packages/gpflow/session_manager.py:31: The name tf.Session is deprecated. Please use tf.compat.v1.Session instead.\n",
      "\n"
     ]
    },
    {
     "name": "stdout",
     "output_type": "stream",
     "text": [
      "WARNING:tensorflow:From /Users/pohara/Documents/repos/clean-air-infrastructure/python-virtual-environments/env/lib/python3.6/site-packages/gpflow/misc.py:27: The name tf.GraphKeys is deprecated. Please use tf.compat.v1.GraphKeys instead.\n",
      "\n"
     ]
    },
    {
     "name": "stderr",
     "output_type": "stream",
     "text": [
      "WARNING:tensorflow:From /Users/pohara/Documents/repos/clean-air-infrastructure/python-virtual-environments/env/lib/python3.6/site-packages/gpflow/misc.py:27: The name tf.GraphKeys is deprecated. Please use tf.compat.v1.GraphKeys instead.\n",
      "\n"
     ]
    },
    {
     "name": "stdout",
     "output_type": "stream",
     "text": [
      "WARNING:tensorflow:From /Users/pohara/Documents/repos/clean-air-infrastructure/python-virtual-environments/env/lib/python3.6/site-packages/gpflow/training/tensorflow_optimizer.py:169: The name tf.train.AdadeltaOptimizer is deprecated. Please use tf.compat.v1.train.AdadeltaOptimizer instead.\n",
      "\n"
     ]
    },
    {
     "name": "stderr",
     "output_type": "stream",
     "text": [
      "WARNING:tensorflow:From /Users/pohara/Documents/repos/clean-air-infrastructure/python-virtual-environments/env/lib/python3.6/site-packages/gpflow/training/tensorflow_optimizer.py:169: The name tf.train.AdadeltaOptimizer is deprecated. Please use tf.compat.v1.train.AdadeltaOptimizer instead.\n",
      "\n"
     ]
    },
    {
     "name": "stdout",
     "output_type": "stream",
     "text": [
      "WARNING:tensorflow:From /Users/pohara/Documents/repos/clean-air-infrastructure/python-virtual-environments/env/lib/python3.6/site-packages/gpflow/training/tensorflow_optimizer.py:156: The name tf.train.Optimizer is deprecated. Please use tf.compat.v1.train.Optimizer instead.\n",
      "\n"
     ]
    },
    {
     "name": "stderr",
     "output_type": "stream",
     "text": [
      "WARNING:tensorflow:From /Users/pohara/Documents/repos/clean-air-infrastructure/python-virtual-environments/env/lib/python3.6/site-packages/gpflow/training/tensorflow_optimizer.py:156: The name tf.train.Optimizer is deprecated. Please use tf.compat.v1.train.Optimizer instead.\n",
      "\n"
     ]
    },
    {
     "name": "stdout",
     "output_type": "stream",
     "text": [
      "WARNING:tensorflow:From /Users/pohara/Documents/repos/clean-air-infrastructure/python-virtual-environments/env/lib/python3.6/site-packages/gpflow/training/tensorflow_optimizer.py:169: The name tf.train.AdagradDAOptimizer is deprecated. Please use tf.compat.v1.train.AdagradDAOptimizer instead.\n",
      "\n"
     ]
    },
    {
     "name": "stderr",
     "output_type": "stream",
     "text": [
      "WARNING:tensorflow:From /Users/pohara/Documents/repos/clean-air-infrastructure/python-virtual-environments/env/lib/python3.6/site-packages/gpflow/training/tensorflow_optimizer.py:169: The name tf.train.AdagradDAOptimizer is deprecated. Please use tf.compat.v1.train.AdagradDAOptimizer instead.\n",
      "\n"
     ]
    },
    {
     "name": "stdout",
     "output_type": "stream",
     "text": [
      "WARNING:tensorflow:From /Users/pohara/Documents/repos/clean-air-infrastructure/python-virtual-environments/env/lib/python3.6/site-packages/gpflow/training/tensorflow_optimizer.py:169: The name tf.train.AdagradOptimizer is deprecated. Please use tf.compat.v1.train.AdagradOptimizer instead.\n",
      "\n"
     ]
    },
    {
     "name": "stderr",
     "output_type": "stream",
     "text": [
      "WARNING:tensorflow:From /Users/pohara/Documents/repos/clean-air-infrastructure/python-virtual-environments/env/lib/python3.6/site-packages/gpflow/training/tensorflow_optimizer.py:169: The name tf.train.AdagradOptimizer is deprecated. Please use tf.compat.v1.train.AdagradOptimizer instead.\n",
      "\n"
     ]
    },
    {
     "name": "stdout",
     "output_type": "stream",
     "text": [
      "WARNING:tensorflow:From /Users/pohara/Documents/repos/clean-air-infrastructure/python-virtual-environments/env/lib/python3.6/site-packages/gpflow/training/tensorflow_optimizer.py:169: The name tf.train.AdamOptimizer is deprecated. Please use tf.compat.v1.train.AdamOptimizer instead.\n",
      "\n"
     ]
    },
    {
     "name": "stderr",
     "output_type": "stream",
     "text": [
      "WARNING:tensorflow:From /Users/pohara/Documents/repos/clean-air-infrastructure/python-virtual-environments/env/lib/python3.6/site-packages/gpflow/training/tensorflow_optimizer.py:169: The name tf.train.AdamOptimizer is deprecated. Please use tf.compat.v1.train.AdamOptimizer instead.\n",
      "\n"
     ]
    },
    {
     "name": "stdout",
     "output_type": "stream",
     "text": [
      "WARNING:tensorflow:From /Users/pohara/Documents/repos/clean-air-infrastructure/python-virtual-environments/env/lib/python3.6/site-packages/gpflow/training/tensorflow_optimizer.py:169: The name tf.train.FtrlOptimizer is deprecated. Please use tf.compat.v1.train.FtrlOptimizer instead.\n",
      "\n"
     ]
    },
    {
     "name": "stderr",
     "output_type": "stream",
     "text": [
      "WARNING:tensorflow:From /Users/pohara/Documents/repos/clean-air-infrastructure/python-virtual-environments/env/lib/python3.6/site-packages/gpflow/training/tensorflow_optimizer.py:169: The name tf.train.FtrlOptimizer is deprecated. Please use tf.compat.v1.train.FtrlOptimizer instead.\n",
      "\n"
     ]
    },
    {
     "name": "stdout",
     "output_type": "stream",
     "text": [
      "WARNING:tensorflow:From /Users/pohara/Documents/repos/clean-air-infrastructure/python-virtual-environments/env/lib/python3.6/site-packages/gpflow/training/tensorflow_optimizer.py:169: The name tf.train.GradientDescentOptimizer is deprecated. Please use tf.compat.v1.train.GradientDescentOptimizer instead.\n",
      "\n"
     ]
    },
    {
     "name": "stderr",
     "output_type": "stream",
     "text": [
      "WARNING:tensorflow:From /Users/pohara/Documents/repos/clean-air-infrastructure/python-virtual-environments/env/lib/python3.6/site-packages/gpflow/training/tensorflow_optimizer.py:169: The name tf.train.GradientDescentOptimizer is deprecated. Please use tf.compat.v1.train.GradientDescentOptimizer instead.\n",
      "\n"
     ]
    },
    {
     "name": "stdout",
     "output_type": "stream",
     "text": [
      "WARNING:tensorflow:From /Users/pohara/Documents/repos/clean-air-infrastructure/python-virtual-environments/env/lib/python3.6/site-packages/gpflow/training/tensorflow_optimizer.py:169: The name tf.train.MomentumOptimizer is deprecated. Please use tf.compat.v1.train.MomentumOptimizer instead.\n",
      "\n"
     ]
    },
    {
     "name": "stderr",
     "output_type": "stream",
     "text": [
      "WARNING:tensorflow:From /Users/pohara/Documents/repos/clean-air-infrastructure/python-virtual-environments/env/lib/python3.6/site-packages/gpflow/training/tensorflow_optimizer.py:169: The name tf.train.MomentumOptimizer is deprecated. Please use tf.compat.v1.train.MomentumOptimizer instead.\n",
      "\n"
     ]
    },
    {
     "name": "stdout",
     "output_type": "stream",
     "text": [
      "WARNING:tensorflow:From /Users/pohara/Documents/repos/clean-air-infrastructure/python-virtual-environments/env/lib/python3.6/site-packages/gpflow/training/tensorflow_optimizer.py:169: The name tf.train.ProximalAdagradOptimizer is deprecated. Please use tf.compat.v1.train.ProximalAdagradOptimizer instead.\n",
      "\n"
     ]
    },
    {
     "name": "stderr",
     "output_type": "stream",
     "text": [
      "WARNING:tensorflow:From /Users/pohara/Documents/repos/clean-air-infrastructure/python-virtual-environments/env/lib/python3.6/site-packages/gpflow/training/tensorflow_optimizer.py:169: The name tf.train.ProximalAdagradOptimizer is deprecated. Please use tf.compat.v1.train.ProximalAdagradOptimizer instead.\n",
      "\n"
     ]
    },
    {
     "name": "stdout",
     "output_type": "stream",
     "text": [
      "WARNING:tensorflow:From /Users/pohara/Documents/repos/clean-air-infrastructure/python-virtual-environments/env/lib/python3.6/site-packages/gpflow/training/tensorflow_optimizer.py:169: The name tf.train.ProximalGradientDescentOptimizer is deprecated. Please use tf.compat.v1.train.ProximalGradientDescentOptimizer instead.\n",
      "\n"
     ]
    },
    {
     "name": "stderr",
     "output_type": "stream",
     "text": [
      "WARNING:tensorflow:From /Users/pohara/Documents/repos/clean-air-infrastructure/python-virtual-environments/env/lib/python3.6/site-packages/gpflow/training/tensorflow_optimizer.py:169: The name tf.train.ProximalGradientDescentOptimizer is deprecated. Please use tf.compat.v1.train.ProximalGradientDescentOptimizer instead.\n",
      "\n"
     ]
    },
    {
     "name": "stdout",
     "output_type": "stream",
     "text": [
      "WARNING:tensorflow:From /Users/pohara/Documents/repos/clean-air-infrastructure/python-virtual-environments/env/lib/python3.6/site-packages/gpflow/training/tensorflow_optimizer.py:169: The name tf.train.RMSPropOptimizer is deprecated. Please use tf.compat.v1.train.RMSPropOptimizer instead.\n",
      "\n"
     ]
    },
    {
     "name": "stderr",
     "output_type": "stream",
     "text": [
      "WARNING:tensorflow:From /Users/pohara/Documents/repos/clean-air-infrastructure/python-virtual-environments/env/lib/python3.6/site-packages/gpflow/training/tensorflow_optimizer.py:169: The name tf.train.RMSPropOptimizer is deprecated. Please use tf.compat.v1.train.RMSPropOptimizer instead.\n",
      "\n"
     ]
    },
    {
     "name": "stdout",
     "output_type": "stream",
     "text": [
      "WARNING:tensorflow:From /Users/pohara/Documents/repos/clean-air-infrastructure/python-virtual-environments/env/lib/python3.6/site-packages/gpflow/saver/coders.py:80: The name tf.data.Iterator is deprecated. Please use tf.compat.v1.data.Iterator instead.\n",
      "\n"
     ]
    },
    {
     "name": "stderr",
     "output_type": "stream",
     "text": [
      "WARNING:tensorflow:From /Users/pohara/Documents/repos/clean-air-infrastructure/python-virtual-environments/env/lib/python3.6/site-packages/gpflow/saver/coders.py:80: The name tf.data.Iterator is deprecated. Please use tf.compat.v1.data.Iterator instead.\n",
      "\n"
     ]
    }
   ],
   "source": [
    "import sys\n",
    "import pandas as pd\n",
    "import numpy as np\n",
    "import matplotlib.pyplot as plt\n",
    "import matplotlib.dates as dates\n",
    "\n",
    "# validation modules\n",
    "import experiment\n",
    "import metrics\n",
    "\n",
    "# requires cleanair\n",
    "sys.path.append(\"../containers\")\n",
    "from cleanair.models import ModelData"
   ]
  },
  {
   "cell_type": "code",
   "execution_count": 2,
   "metadata": {},
   "outputs": [],
   "source": [
    "# read experiment from file\n",
    "name = 'basic'\n",
    "cluster = 'laptop'\n",
    "exp = experiment.experiment_from_dir(name, cluster)"
   ]
  },
  {
   "cell_type": "code",
   "execution_count": 3,
   "metadata": {},
   "outputs": [],
   "source": [
    "# load the data_model objects\n",
    "secret_fp = \"../terraform/.secrets/db_secrets.json\"\n",
    "model_data_list = []\n",
    "for data_config in exp.data_config:\n",
    "    model_data = ModelData(config=data_config, secretfile=secret_fp)\n",
    "    model_data_list.append(model_data)"
   ]
  },
  {
   "cell_type": "code",
   "execution_count": 4,
   "metadata": {},
   "outputs": [
    {
     "name": "stdout",
     "output_type": "stream",
     "text": [
      "Xs : (2918, 143)\n",
      "Ys : (2918, 1)\n",
      "Pred index shape: (2918, 0)\n",
      "Y pred shape: (2918,)\n",
      "                                  point_id measurement_start_utc source  \\\n",
      "4071  f75378a6-389c-4247-acff-f7cddda7a848   2019-11-03 15:00:00   laqn   \n",
      "1875  4a6cd532-62ef-4555-aedb-8e522d05ab76   2019-11-03 03:00:00   laqn   \n",
      "5098  63266eab-400d-4421-8ebe-8243a95a5243   2019-11-03 10:00:00   laqn   \n",
      "\n",
      "                                             location_x       lon        lat  \\\n",
      "4071  0101000020e61000003ebb86e64d94d6bf02f7677c9fc5... -0.352802  51.543930   \n",
      "1875  0101000020e61000003eec8502b68361bf9032e202d0c4... -0.002138  51.537598   \n",
      "5098  0101000020e61000006d718dcf64ffc83f3909a52f84ba...  0.195294  51.457159   \n",
      "\n",
      "      value_1000_avg_min_width  value_1000_avg_ratio_avg  \\\n",
      "4071                 11.154446                  0.474338   \n",
      "1875                 13.159341                  0.835119   \n",
      "5098                 12.838983                  0.416274   \n",
      "\n",
      "      value_1000_building_height  value_1000_flat  ...  \\\n",
      "4071                        27.5     3.121361e+06  ...   \n",
      "1875                        86.2     3.120790e+06  ...   \n",
      "5098                        33.1     3.121021e+06  ...   \n",
      "\n",
      "      value_10_max_flow_count_norm  value_10_max_occupancy_count_norm  \\\n",
      "4071                      0.353304                           0.315750   \n",
      "1875                     -0.729500                          -0.733093   \n",
      "5098                     -0.729500                          -0.733093   \n",
      "\n",
      "      value_10_max_occupancy_percentage_norm  value_10_total_flow_count_norm  \\\n",
      "4071                                0.162348                        0.924946   \n",
      "1875                               -0.573525                       -0.566936   \n",
      "5098                               -0.573525                       -0.566936   \n",
      "\n",
      "      value_10_total_occupancy_count_norm  \\\n",
      "4071                             0.847027   \n",
      "1875                            -0.564524   \n",
      "5098                            -0.564524   \n",
      "\n",
      "      value_10_total_occupancy_percentage_norm  predict_mean  predict_var  \\\n",
      "4071                                  0.531828           NaN          NaN   \n",
      "1875                                 -0.449637           NaN          NaN   \n",
      "5098                                 -0.449637           NaN          NaN   \n",
      "\n",
      "      fit_start_time  tag  \n",
      "4071             NaN  NaN  \n",
      "1875             NaN  NaN  \n",
      "5098             NaN  NaN  \n",
      "\n",
      "[3 rows x 296 columns]\n",
      "Xs : (2918, 143)\n",
      "Ys : (2918, 1)\n",
      "Pred index shape: (2918, 0)\n",
      "Y pred shape: (2918,)\n",
      "                                  point_id measurement_start_utc source  \\\n",
      "3533  5da26eba-6966-49cc-846b-190f566ed0da   2019-11-03 05:00:00   laqn   \n",
      "5554  389f0815-9dc5-43fe-b595-90eb09dcd25b   2019-11-03 10:00:00   laqn   \n",
      "1177  1fc00df2-0c3a-4185-b24c-eca4fa954229   2019-11-03 01:00:00   laqn   \n",
      "\n",
      "                                             location_x       lon        lat  \\\n",
      "3533  0101000020e610000096a67eed451423bf2bddb4a8e1bd... -0.000146  51.483449   \n",
      "5554  0101000020e61000005e499c90d877c8bf8be1ad796cba... -0.191157  51.456435   \n",
      "1177  0101000020e6100000dfb520f5b63d81bf99756608edc1... -0.008418  51.515046   \n",
      "\n",
      "      value_1000_avg_min_width  value_1000_avg_ratio_avg  \\\n",
      "3533                 11.256637                  0.615592   \n",
      "5554                 12.480769                  0.653848   \n",
      "1177                 12.235772                  0.801710   \n",
      "\n",
      "      value_1000_building_height  value_1000_flat  ...  \\\n",
      "3533                       193.9     3.120617e+06  ...   \n",
      "5554                        98.5     3.122086e+06  ...   \n",
      "1177                       118.4     3.120643e+06  ...   \n",
      "\n",
      "      value_10_max_flow_count_norm  value_10_max_occupancy_count_norm  \\\n",
      "3533                     -0.023249                           0.008292   \n",
      "5554                     -0.729500                          -0.733093   \n",
      "1177                      0.495194                           0.457458   \n",
      "\n",
      "      value_10_max_occupancy_percentage_norm  value_10_total_flow_count_norm  \\\n",
      "3533                               -0.362599                       -0.221437   \n",
      "5554                               -0.573525                       -0.566936   \n",
      "1177                               -0.159801                        0.629030   \n",
      "\n",
      "      value_10_total_occupancy_count_norm  \\\n",
      "3533                            -0.205138   \n",
      "5554                            -0.564524   \n",
      "1177                             0.586913   \n",
      "\n",
      "      value_10_total_occupancy_percentage_norm  predict_mean  predict_var  \\\n",
      "3533                                 -0.345841           NaN          NaN   \n",
      "5554                                 -0.449637           NaN          NaN   \n",
      "1177                                 -0.049462      0.000387     6.000257   \n",
      "\n",
      "           fit_start_time  tag  \n",
      "3533                  NaN  NaN  \n",
      "5554                  NaN  NaN  \n",
      "1177  2019-11-03T00:00:00  0.0  \n",
      "\n",
      "[3 rows x 296 columns]\n",
      "Xs : (2918, 143)\n",
      "Ys : (2918, 1)\n",
      "Pred index shape: (2918, 0)\n",
      "Y pred shape: (2918,)\n",
      "                                  point_id measurement_start_utc source  \\\n",
      "2838  23db3e6b-da36-4c97-9121-c64c7d37a061   2019-11-03 06:00:00   laqn   \n",
      "3365  a74df4a0-0318-4aac-8dfa-193ab2fbae35   2019-11-03 05:00:00   laqn   \n",
      "5058  05c135e2-8a89-428d-bd0f-45188bc8c3fe   2019-11-03 18:00:00   laqn   \n",
      "\n",
      "                                             location_x       lon        lat  \\\n",
      "2838  0101000020e61000003fdb30c6ad28dabf0ed3960044b9... -0.408733  51.447388   \n",
      "3365  0101000020e6100000561a33127139ccbf8700d12f8dbf... -0.220503  51.496496   \n",
      "5058  0101000020e6100000da3ba3ad4a22bf3f8044132862c1...  0.121617  51.510808   \n",
      "\n",
      "      value_1000_avg_min_width  value_1000_avg_ratio_avg  \\\n",
      "2838                 12.344782                  0.484411   \n",
      "3365                 12.307692                  0.823273   \n",
      "5058                 13.454988                  0.431678   \n",
      "\n",
      "      value_1000_building_height  value_1000_flat  ...  \\\n",
      "2838                   67.800000     3.121458e+06  ...   \n",
      "3365                   81.300003     3.121455e+06  ...   \n",
      "5058                   27.700000     3.120885e+06  ...   \n",
      "\n",
      "      value_10_max_flow_count_norm  value_10_max_occupancy_count_norm  \\\n",
      "2838                     -0.029665                          -0.014409   \n",
      "3365                     -0.729500                          -0.733093   \n",
      "5058                      0.199252                           0.247570   \n",
      "\n",
      "      value_10_max_occupancy_percentage_norm  value_10_total_flow_count_norm  \\\n",
      "2838                               -0.191900                       -0.224575   \n",
      "3365                               -0.573525                       -0.566936   \n",
      "5058                                1.604570                       -0.112589   \n",
      "\n",
      "      value_10_total_occupancy_count_norm  \\\n",
      "2838                            -0.216142   \n",
      "3365                            -0.564524   \n",
      "5058                            -0.089148   \n",
      "\n",
      "      value_10_total_occupancy_percentage_norm  predict_mean  predict_var  \\\n",
      "2838                                 -0.261842           NaN          NaN   \n",
      "3365                                 -0.449637           NaN          NaN   \n",
      "5058                                  0.622190           NaN          NaN   \n",
      "\n",
      "      fit_start_time  tag  \n",
      "2838             NaN  NaN  \n",
      "3365             NaN  NaN  \n",
      "5058             NaN  NaN  \n",
      "\n",
      "[3 rows x 296 columns]\n",
      "Xs : (2918, 143)\n",
      "Ys : (2918, 1)\n",
      "Pred index shape: (2918, 0)\n",
      "Y pred shape: (2918,)\n",
      "                                  point_id measurement_start_utc source  \\\n",
      "4275  9d85a715-2f55-4992-ab09-46a88837e396   2019-11-03 03:00:00   laqn   \n",
      "2385  3bf5e0ed-220c-4702-bc48-379ae0244614   2019-11-03 09:00:00   laqn   \n",
      "1952  77573412-b976-4e00-bdae-2697cec310a8   2019-11-03 08:00:00   laqn   \n",
      "\n",
      "                                             location_x       lon        lat  \\\n",
      "4275  0101000020e61000004c6f7f2e1a32bebfb72407ec6aae... -0.117952  51.362638   \n",
      "2385  0101000020e6100000c2d8a5ba3efbd2bf89f02f82c6b4... -0.296585  51.412308   \n",
      "1952  0101000020e61000000f43ab933314c9bfc8073d9b55b3... -0.195929  51.401050   \n",
      "\n",
      "      value_1000_avg_min_width  value_1000_avg_ratio_avg  \\\n",
      "4275                 13.209983                  0.399932   \n",
      "2385                 13.262159                  0.622192   \n",
      "1952                 10.317746                  0.470128   \n",
      "\n",
      "      value_1000_building_height  value_1000_flat  ...  \\\n",
      "4275                        35.7     3.120885e+06  ...   \n",
      "2385                        52.1     3.121506e+06  ...   \n",
      "1952                        53.4     3.121026e+06  ...   \n",
      "\n",
      "      value_10_max_flow_count_norm  value_10_max_occupancy_count_norm  \\\n",
      "4275                      1.203963                           1.099389   \n",
      "2385                      2.387304                           2.065460   \n",
      "1952                     -0.729500                          -0.733093   \n",
      "\n",
      "      value_10_max_occupancy_percentage_norm  value_10_total_flow_count_norm  \\\n",
      "4275                                0.175311                        0.378918   \n",
      "2385                                0.721316                        0.957811   \n",
      "1952                               -0.573525                       -0.566936   \n",
      "\n",
      "      value_10_total_occupancy_count_norm  \\\n",
      "4275                             0.323770   \n",
      "2385                             0.792072   \n",
      "1952                            -0.564524   \n",
      "\n",
      "      value_10_total_occupancy_percentage_norm  predict_mean  predict_var  \\\n",
      "4275                                 -0.081139           NaN          NaN   \n",
      "2385                                  0.187547      0.000786      5.99944   \n",
      "1952                                 -0.449637           NaN          NaN   \n",
      "\n",
      "           fit_start_time  tag  \n",
      "4275                  NaN  NaN  \n",
      "2385  2019-11-03T00:00:00  0.0  \n",
      "1952                  NaN  NaN  \n",
      "\n"
     ]
    },
    {
     "name": "stdout",
     "output_type": "stream",
     "text": [
      "[3 rows x 296 columns]\n"
     ]
    }
   ],
   "source": [
    "# get a list of model data objects with updated prediction columns\n",
    "updated_preds = []\n",
    "\n",
    "\n",
    "for index, row in exp.experiment_df.iterrows():\n",
    "    row = exp.experiment_df.loc[index]\n",
    "    pid = row['param_id']\n",
    "    model = row['model_name']\n",
    "    did = row['data_id']\n",
    "#     y_test = np.load(exp.data_config[did]['y_test_fp'])\n",
    "    Y_pred = np.load(row['y_pred_fp'])\n",
    "    \n",
    "    # look at shapes\n",
    "    data_config = exp.data_config[did]\n",
    "    x_test = np.load(data_config['x_test_fp'])\n",
    "    y_test = np.load(data_config['y_test_fp'])\n",
    "    print(\"Xs :\", x_test.shape)\n",
    "    print(\"Ys :\", y_test.shape)\n",
    "    \n",
    "    # update model_data\n",
    "    normalised_df = model_data_list[did].normalised_pred_data_df.copy()\n",
    "    predict_data_dict = model_data_list[did].get_pred_data_arrays(return_y=True).copy()\n",
    "    \n",
    "    # Create new dataframe with predictions\n",
    "    predict_df = pd.DataFrame(index=predict_data_dict['index'])\n",
    "    print(\"Pred index shape:\", predict_df.shape)\n",
    "    print(\"Y pred shape:\", Y_pred[:, 0].shape)\n",
    "    predict_df['predict_mean'] = Y_pred[:, 0]\n",
    "    predict_df['predict_var'] = Y_pred[:, 1]\n",
    "    predict_df['fit_start_time'] = exp.data_config[did]['pred_start_date']\n",
    "    predict_df['tag'] = 0\n",
    "    \n",
    "    normalised_pred_data_df = pd.concat([model_data_list[did].normalised_pred_data_df, predict_df], axis=1, ignore_index=False)\n",
    "    print(normalised_pred_data_df.sample(3))\n",
    "    updated_preds.append(normalised_pred_data_df)\n",
    "    "
   ]
  },
  {
   "cell_type": "code",
   "execution_count": 45,
   "metadata": {},
   "outputs": [
    {
     "name": "stdout",
     "output_type": "stream",
     "text": [
      "Index(['point_id', 'measurement_start_utc', 'source', 'location_x', 'lon',\n",
      "       'lat', 'value_1000_avg_min_width', 'value_1000_avg_ratio_avg',\n",
      "       'value_1000_building_height', 'value_1000_flat',\n",
      "       ...\n",
      "       'value_10_max_flow_count_norm', 'value_10_max_occupancy_count_norm',\n",
      "       'value_10_max_occupancy_percentage_norm',\n",
      "       'value_10_total_flow_count_norm', 'value_10_total_occupancy_count_norm',\n",
      "       'value_10_total_occupancy_percentage_norm', 'predict_mean',\n",
      "       'predict_var', 'fit_start_time', 'tag'],\n",
      "      dtype='object', length=296)\n"
     ]
    }
   ],
   "source": [
    "i = 2\n",
    "preds = updated_preds[i]\n",
    "preds['measurement_start_utc'] = pd.to_datetime(preds['measurement_start_utc'])\n",
    "gb = preds.groupby('point_id')\n",
    "print(preds.columns)"
   ]
  },
  {
   "cell_type": "code",
   "execution_count": 46,
   "metadata": {},
   "outputs": [],
   "source": [
    "def plot_pretty_timeseries(time, series, ax, sigmas=None, locator=dates.DayLocator(interval=1)):\n",
    "    ax.plot_date(time, series, ',', linestyle='-')\n",
    "    ax.xaxis.grid(True, which=\"major\")\n",
    "#     ax.xaxis.set_major_locator(locator)\n",
    "#     ax.xaxis.set_major_formatter(dates.DateFormatter('%d\\n%m'))\n",
    "    ax.xaxis.set_major_formatter(dates.DateFormatter('%H:%M'))\n",
    "    \n",
    "    if not sigmas is None:\n",
    "        factor = 2\n",
    "        y_min = series - factor*np.sqrt(sigmas)\n",
    "        y_max = series + factor*np.sqrt(sigmas)\n",
    "        ax.fill_between(time, y_min, y_max, color='orange', alpha=0.5)\n",
    "        \n",
    "        \n",
    "    return ax"
   ]
  },
  {
   "cell_type": "code",
   "execution_count": 47,
   "metadata": {},
   "outputs": [
    {
     "name": "stdout",
     "output_type": "stream",
     "text": [
      "times: (24,)\n",
      "means: (24,)\n",
      "sigmas: (24,)\n"
     ]
    },
    {
     "data": {
      "image/png": "[encoded data removed]",
      "text/plain": [
       "<Figure size 432x288 with 1 Axes>"
      ]
     },
     "metadata": {
      "needs_background": "light"
     },
     "output_type": "display_data"
    },
    {
     "name": "stdout",
     "output_type": "stream",
     "text": [
      "times: (24,)\n",
      "means: (24,)\n",
      "sigmas: (24,)\n"
     ]
    },
    {
     "data": {
      "image/png": "[encoded data removed]",
      "text/plain": [
       "<Figure size 432x288 with 1 Axes>"
      ]
     },
     "metadata": {
      "needs_background": "light"
     },
     "output_type": "display_data"
    },
    {
     "name": "stdout",
     "output_type": "stream",
     "text": [
      "times: (24,)\n",
      "means: (24,)\n",
      "sigmas: (24,)\n"
     ]
    },
    {
     "data": {
      "image/png": "[encoded data removed]",
      "text/plain": [
       "<Figure size 432x288 with 1 Axes>"
      ]
     },
     "metadata": {
      "needs_background": "light"
     },
     "output_type": "display_data"
    },
    {
     "name": "stdout",
     "output_type": "stream",
     "text": [
      "times: (24,)\n",
      "means: (24,)\n",
      "sigmas: (24,)\n"
     ]
    },
    {
     "data": {
      "image/png": "[encoded data removed]",
      "text/plain": [
       "<Figure size 432x288 with 1 Axes>"
      ]
     },
     "metadata": {
      "needs_background": "light"
     },
     "output_type": "display_data"
    },
    {
     "name": "stdout",
     "output_type": "stream",
     "text": [
      "times: (24,)\n",
      "means: (24,)\n",
      "sigmas: (24,)\n"
     ]
    },
    {
     "data": {
      "image/png": "[encoded data removed]",
      "text/plain": [
       "<Figure size 432x288 with 1 Axes>"
      ]
     },
     "metadata": {
      "needs_background": "light"
     },
     "output_type": "display_data"
    },
    {
     "name": "stdout",
     "output_type": "stream",
     "text": [
      "times: (24,)\n",
      "means: (24,)\n",
      "sigmas: (24,)\n"
     ]
    },
    {
     "data": {
      "image/png": "[encoded data removed]",
      "text/plain": [
       "<Figure size 432x288 with 1 Axes>"
      ]
     },
     "metadata": {
      "needs_background": "light"
     },
     "output_type": "display_data"
    },
    {
     "name": "stdout",
     "output_type": "stream",
     "text": [
      "times: (24,)\n",
      "means: (24,)\n",
      "sigmas: (24,)\n"
     ]
    },
    {
     "data": {
      "image/png": "[encoded data removed]",
      "text/plain": [
       "<Figure size 432x288 with 1 Axes>"
      ]
     },
     "metadata": {
      "needs_background": "light"
     },
     "output_type": "display_data"
    },
    {
     "name": "stdout",
     "output_type": "stream",
     "text": [
      "times: (24,)\n",
      "means: (24,)\n",
      "sigmas: (24,)\n"
     ]
    },
    {
     "data": {
      "image/png": "[encoded data removed]",
      "text/plain": [
       "<Figure size 432x288 with 1 Axes>"
      ]
     },
     "metadata": {
      "needs_background": "light"
     },
     "output_type": "display_data"
    },
    {
     "name": "stdout",
     "output_type": "stream",
     "text": [
      "times: (24,)\n",
      "means: (24,)\n",
      "sigmas: (24,)\n"
     ]
    },
    {
     "data": {
      "image/png": "[encoded data removed]",
      "text/plain": [
       "<Figure size 432x288 with 1 Axes>"
      ]
     },
     "metadata": {
      "needs_background": "light"
     },
     "output_type": "display_data"
    },
    {
     "name": "stdout",
     "output_type": "stream",
     "text": [
      "times: (24,)\n",
      "means: (24,)\n",
      "sigmas: (24,)\n"
     ]
    },
    {
     "data": {
      "image/png": "[encoded data removed]",
      "text/plain": [
       "<Figure size 432x288 with 1 Axes>"
      ]
     },
     "metadata": {
      "needs_background": "light"
     },
     "output_type": "display_data"
    },
    {
     "name": "stdout",
     "output_type": "stream",
     "text": [
      "times: (24,)\n",
      "means: (24,)\n",
      "sigmas: (24,)\n"
     ]
    },
    {
     "data": {
      "image/png": "[encoded data removed]",
      "text/plain": [
       "<Figure size 432x288 with 1 Axes>"
      ]
     },
     "metadata": {
      "needs_background": "light"
     },
     "output_type": "display_data"
    }
   ],
   "source": [
    "count = 0\n",
    "for point, row in gb:\n",
    "    fig0, ax = plt.subplots()\n",
    "    times = row['measurement_start_utc']\n",
    "    means = row['predict_mean']\n",
    "    sigmas = row['predict_var']\n",
    "    print(\"times:\", times.shape)\n",
    "    print(\"means:\", means.shape)\n",
    "    print(\"sigmas:\", sigmas.shape)\n",
    "    locator = dates.HourLocator(interval=6)\n",
    "    plot_pretty_timeseries(times, means, ax, sigmas=sigmas, locator=locator)\n",
    "    plot_pretty_timeseries(times, row['NO2'], ax, locator=locator)\n",
    "    plt.show()\n",
    "    count += 1\n",
    "    if count > 10:\n",
    "        break"
   ]
  },
  {
   "cell_type": "code",
   "execution_count": 32,
   "metadata": {},
   "outputs": [
    {
     "name": "stdout",
     "output_type": "stream",
     "text": [
      "0016baa9-b443-47a9-93c0-6ef19de90f37 5904    0.000362\n",
      "5905    0.000204\n",
      "5906    0.000240\n",
      "5907    0.000242\n",
      "5908    0.000227\n",
      "5909    0.000176\n",
      "5910    0.000210\n",
      "5911    0.000182\n",
      "5912    0.000162\n",
      "5913    0.000172\n",
      "5914    0.000250\n",
      "5915    0.000397\n",
      "5916    0.000368\n",
      "5917    0.000264\n",
      "5918    0.000313\n",
      "5919    0.000276\n",
      "5920    0.000212\n",
      "5921    0.000209\n",
      "5922    0.000168\n",
      "5923    0.000146\n",
      "5924    0.000118\n",
      "5925    0.000046\n",
      "5926    0.000047\n",
      "5927    0.000028\n",
      "Name: predict_mean, dtype: float64\n",
      "03545b62-45cc-40d2-97ef-b8187848ff7f 2040   NaN\n",
      "2041   NaN\n",
      "2042   NaN\n",
      "2043   NaN\n",
      "2044   NaN\n",
      "2045   NaN\n",
      "2046   NaN\n",
      "2047   NaN\n",
      "2048   NaN\n",
      "2049   NaN\n",
      "2050   NaN\n",
      "2051   NaN\n",
      "2052   NaN\n",
      "2053   NaN\n",
      "2054   NaN\n",
      "2055   NaN\n",
      "2056   NaN\n",
      "2057   NaN\n",
      "2058   NaN\n",
      "2059   NaN\n",
      "2060   NaN\n",
      "2061   NaN\n",
      "2062   NaN\n",
      "2063   NaN\n",
      "Name: predict_mean, dtype: float64\n",
      "048fc820-7d21-40d7-85d6-2cceb3457e05 2712   NaN\n",
      "2713   NaN\n",
      "2714   NaN\n",
      "2715   NaN\n",
      "2716   NaN\n",
      "2717   NaN\n",
      "2718   NaN\n",
      "2719   NaN\n",
      "2720   NaN\n",
      "2721   NaN\n",
      "2722   NaN\n",
      "2723   NaN\n",
      "2724   NaN\n",
      "2725   NaN\n",
      "2726   NaN\n",
      "2727   NaN\n",
      "2728   NaN\n",
      "2729   NaN\n",
      "2730   NaN\n",
      "2731   NaN\n",
      "2732   NaN\n",
      "2733   NaN\n",
      "2734   NaN\n",
      "2735   NaN\n",
      "Name: predict_mean, dtype: float64\n",
      "054159c1-9679-4514-ac15-9d0e00e6a9cf 2880   NaN\n",
      "2881   NaN\n",
      "2882   NaN\n",
      "2883   NaN\n",
      "2884   NaN\n",
      "2885   NaN\n",
      "2886   NaN\n",
      "2887   NaN\n",
      "2888   NaN\n",
      "2889   NaN\n",
      "2890   NaN\n",
      "2891   NaN\n",
      "2892   NaN\n",
      "2893   NaN\n",
      "2894   NaN\n",
      "2895   NaN\n",
      "2896   NaN\n",
      "2897   NaN\n",
      "2898   NaN\n",
      "2899   NaN\n",
      "2900   NaN\n",
      "2901   NaN\n",
      "2902   NaN\n",
      "2903   NaN\n",
      "Name: predict_mean, dtype: float64\n"
     ]
    },
    {
     "ename": "RuntimeError",
     "evalue": "Locator attempting to generate 31887 ticks from 729757.7083333334 to 737729.2083333334: exceeds Locator.MAXTICKS",
     "output_type": "error",
     "traceback": [
      "\u001b[0;31m---------------------------------------------------------------------------\u001b[0m",
      "\u001b[0;31mRuntimeError\u001b[0m                              Traceback (most recent call last)",
      "\u001b[0;32m~/Documents/repos/clean-air-infrastructure/python-virtual-environments/env/lib/python3.6/site-packages/ipykernel/pylab/backend_inline.py\u001b[0m in \u001b[0;36mshow\u001b[0;34m(close, block)\u001b[0m\n\u001b[1;32m     37\u001b[0m             display(\n\u001b[1;32m     38\u001b[0m                 \u001b[0mfigure_manager\u001b[0m\u001b[0;34m.\u001b[0m\u001b[0mcanvas\u001b[0m\u001b[0;34m.\u001b[0m\u001b[0mfigure\u001b[0m\u001b[0;34m,\u001b[0m\u001b[0;34m\u001b[0m\u001b[0m\n\u001b[0;32m---> 39\u001b[0;31m                 \u001b[0mmetadata\u001b[0m\u001b[0;34m=\u001b[0m\u001b[0m_fetch_figure_metadata\u001b[0m\u001b[0;34m(\u001b[0m\u001b[0mfigure_manager\u001b[0m\u001b[0;34m.\u001b[0m\u001b[0mcanvas\u001b[0m\u001b[0;34m.\u001b[0m\u001b[0mfigure\u001b[0m\u001b[0;34m)\u001b[0m\u001b[0;34m\u001b[0m\u001b[0m\n\u001b[0m\u001b[1;32m     40\u001b[0m             )\n\u001b[1;32m     41\u001b[0m     \u001b[0;32mfinally\u001b[0m\u001b[0;34m:\u001b[0m\u001b[0;34m\u001b[0m\u001b[0m\n",
      "\u001b[0;32m~/Documents/repos/clean-air-infrastructure/python-virtual-environments/env/lib/python3.6/site-packages/ipykernel/pylab/backend_inline.py\u001b[0m in \u001b[0;36m_fetch_figure_metadata\u001b[0;34m(fig)\u001b[0m\n\u001b[1;32m    175\u001b[0m         \u001b[0;31m# the background is transparent\u001b[0m\u001b[0;34m\u001b[0m\u001b[0;34m\u001b[0m\u001b[0m\n\u001b[1;32m    176\u001b[0m         ticksLight = _is_light([label.get_color()\n\u001b[0;32m--> 177\u001b[0;31m                                 \u001b[0;32mfor\u001b[0m \u001b[0maxes\u001b[0m \u001b[0;32min\u001b[0m \u001b[0mfig\u001b[0m\u001b[0;34m.\u001b[0m\u001b[0maxes\u001b[0m\u001b[0;34m\u001b[0m\u001b[0m\n\u001b[0m\u001b[1;32m    178\u001b[0m                                 \u001b[0;32mfor\u001b[0m \u001b[0maxis\u001b[0m \u001b[0;32min\u001b[0m \u001b[0;34m(\u001b[0m\u001b[0maxes\u001b[0m\u001b[0;34m.\u001b[0m\u001b[0mxaxis\u001b[0m\u001b[0;34m,\u001b[0m \u001b[0maxes\u001b[0m\u001b[0;34m.\u001b[0m\u001b[0myaxis\u001b[0m\u001b[0;34m)\u001b[0m\u001b[0;34m\u001b[0m\u001b[0m\n\u001b[1;32m    179\u001b[0m                                 for label in axis.get_ticklabels()])\n",
      "\u001b[0;32m~/Documents/repos/clean-air-infrastructure/python-virtual-environments/env/lib/python3.6/site-packages/ipykernel/pylab/backend_inline.py\u001b[0m in \u001b[0;36m<listcomp>\u001b[0;34m(.0)\u001b[0m\n\u001b[1;32m    177\u001b[0m                                 \u001b[0;32mfor\u001b[0m \u001b[0maxes\u001b[0m \u001b[0;32min\u001b[0m \u001b[0mfig\u001b[0m\u001b[0;34m.\u001b[0m\u001b[0maxes\u001b[0m\u001b[0;34m\u001b[0m\u001b[0m\n\u001b[1;32m    178\u001b[0m                                 \u001b[0;32mfor\u001b[0m \u001b[0maxis\u001b[0m \u001b[0;32min\u001b[0m \u001b[0;34m(\u001b[0m\u001b[0maxes\u001b[0m\u001b[0;34m.\u001b[0m\u001b[0mxaxis\u001b[0m\u001b[0;34m,\u001b[0m \u001b[0maxes\u001b[0m\u001b[0;34m.\u001b[0m\u001b[0myaxis\u001b[0m\u001b[0;34m)\u001b[0m\u001b[0;34m\u001b[0m\u001b[0m\n\u001b[0;32m--> 179\u001b[0;31m                                 for label in axis.get_ticklabels()])\n\u001b[0m\u001b[1;32m    180\u001b[0m         \u001b[0;32mif\u001b[0m \u001b[0mticksLight\u001b[0m\u001b[0;34m.\u001b[0m\u001b[0msize\u001b[0m \u001b[0;32mand\u001b[0m \u001b[0;34m(\u001b[0m\u001b[0mticksLight\u001b[0m \u001b[0;34m==\u001b[0m \u001b[0mticksLight\u001b[0m\u001b[0;34m[\u001b[0m\u001b[0;36m0\u001b[0m\u001b[0;34m]\u001b[0m\u001b[0;34m)\u001b[0m\u001b[0;34m.\u001b[0m\u001b[0mall\u001b[0m\u001b[0;34m(\u001b[0m\u001b[0;34m)\u001b[0m\u001b[0;34m:\u001b[0m\u001b[0;34m\u001b[0m\u001b[0m\n\u001b[1;32m    181\u001b[0m             \u001b[0;31m# there are one or more tick labels, all with the same lightness\u001b[0m\u001b[0;34m\u001b[0m\u001b[0;34m\u001b[0m\u001b[0m\n",
      "\u001b[0;32m~/Documents/repos/clean-air-infrastructure/python-virtual-environments/env/lib/python3.6/site-packages/matplotlib/axis.py\u001b[0m in \u001b[0;36mget_ticklabels\u001b[0;34m(self, minor, which)\u001b[0m\n\u001b[1;32m   1294\u001b[0m         \u001b[0;32mif\u001b[0m \u001b[0mminor\u001b[0m\u001b[0;34m:\u001b[0m\u001b[0;34m\u001b[0m\u001b[0m\n\u001b[1;32m   1295\u001b[0m             \u001b[0;32mreturn\u001b[0m \u001b[0mself\u001b[0m\u001b[0;34m.\u001b[0m\u001b[0mget_minorticklabels\u001b[0m\u001b[0;34m(\u001b[0m\u001b[0;34m)\u001b[0m\u001b[0;34m\u001b[0m\u001b[0m\n\u001b[0;32m-> 1296\u001b[0;31m         \u001b[0;32mreturn\u001b[0m \u001b[0mself\u001b[0m\u001b[0;34m.\u001b[0m\u001b[0mget_majorticklabels\u001b[0m\u001b[0;34m(\u001b[0m\u001b[0;34m)\u001b[0m\u001b[0;34m\u001b[0m\u001b[0m\n\u001b[0m\u001b[1;32m   1297\u001b[0m \u001b[0;34m\u001b[0m\u001b[0m\n\u001b[1;32m   1298\u001b[0m     \u001b[0;32mdef\u001b[0m \u001b[0mget_majorticklines\u001b[0m\u001b[0;34m(\u001b[0m\u001b[0mself\u001b[0m\u001b[0;34m)\u001b[0m\u001b[0;34m:\u001b[0m\u001b[0;34m\u001b[0m\u001b[0m\n",
      "\u001b[0;32m~/Documents/repos/clean-air-infrastructure/python-virtual-environments/env/lib/python3.6/site-packages/matplotlib/axis.py\u001b[0m in \u001b[0;36mget_majorticklabels\u001b[0;34m(self)\u001b[0m\n\u001b[1;32m   1250\u001b[0m     \u001b[0;32mdef\u001b[0m \u001b[0mget_majorticklabels\u001b[0m\u001b[0;34m(\u001b[0m\u001b[0mself\u001b[0m\u001b[0;34m)\u001b[0m\u001b[0;34m:\u001b[0m\u001b[0;34m\u001b[0m\u001b[0m\n\u001b[1;32m   1251\u001b[0m         \u001b[0;34m'Return a list of Text instances for the major ticklabels.'\u001b[0m\u001b[0;34m\u001b[0m\u001b[0m\n\u001b[0;32m-> 1252\u001b[0;31m         \u001b[0mticks\u001b[0m \u001b[0;34m=\u001b[0m \u001b[0mself\u001b[0m\u001b[0;34m.\u001b[0m\u001b[0mget_major_ticks\u001b[0m\u001b[0;34m(\u001b[0m\u001b[0;34m)\u001b[0m\u001b[0;34m\u001b[0m\u001b[0m\n\u001b[0m\u001b[1;32m   1253\u001b[0m         \u001b[0mlabels1\u001b[0m \u001b[0;34m=\u001b[0m \u001b[0;34m[\u001b[0m\u001b[0mtick\u001b[0m\u001b[0;34m.\u001b[0m\u001b[0mlabel1\u001b[0m \u001b[0;32mfor\u001b[0m \u001b[0mtick\u001b[0m \u001b[0;32min\u001b[0m \u001b[0mticks\u001b[0m \u001b[0;32mif\u001b[0m \u001b[0mtick\u001b[0m\u001b[0;34m.\u001b[0m\u001b[0mlabel1\u001b[0m\u001b[0;34m.\u001b[0m\u001b[0mget_visible\u001b[0m\u001b[0;34m(\u001b[0m\u001b[0;34m)\u001b[0m\u001b[0;34m]\u001b[0m\u001b[0;34m\u001b[0m\u001b[0m\n\u001b[1;32m   1254\u001b[0m         \u001b[0mlabels2\u001b[0m \u001b[0;34m=\u001b[0m \u001b[0;34m[\u001b[0m\u001b[0mtick\u001b[0m\u001b[0;34m.\u001b[0m\u001b[0mlabel2\u001b[0m \u001b[0;32mfor\u001b[0m \u001b[0mtick\u001b[0m \u001b[0;32min\u001b[0m \u001b[0mticks\u001b[0m \u001b[0;32mif\u001b[0m \u001b[0mtick\u001b[0m\u001b[0;34m.\u001b[0m\u001b[0mlabel2\u001b[0m\u001b[0;34m.\u001b[0m\u001b[0mget_visible\u001b[0m\u001b[0;34m(\u001b[0m\u001b[0;34m)\u001b[0m\u001b[0;34m]\u001b[0m\u001b[0;34m\u001b[0m\u001b[0m\n",
      "\u001b[0;32m~/Documents/repos/clean-air-infrastructure/python-virtual-environments/env/lib/python3.6/site-packages/matplotlib/axis.py\u001b[0m in \u001b[0;36mget_major_ticks\u001b[0;34m(self, numticks)\u001b[0m\n\u001b[1;32m   1405\u001b[0m         \u001b[0;34m'Get the tick instances; grow as necessary.'\u001b[0m\u001b[0;34m\u001b[0m\u001b[0m\n\u001b[1;32m   1406\u001b[0m         \u001b[0;32mif\u001b[0m \u001b[0mnumticks\u001b[0m \u001b[0;32mis\u001b[0m \u001b[0;32mNone\u001b[0m\u001b[0;34m:\u001b[0m\u001b[0;34m\u001b[0m\u001b[0m\n\u001b[0;32m-> 1407\u001b[0;31m             \u001b[0mnumticks\u001b[0m \u001b[0;34m=\u001b[0m \u001b[0mlen\u001b[0m\u001b[0;34m(\u001b[0m\u001b[0mself\u001b[0m\u001b[0;34m.\u001b[0m\u001b[0mget_majorticklocs\u001b[0m\u001b[0;34m(\u001b[0m\u001b[0;34m)\u001b[0m\u001b[0;34m)\u001b[0m\u001b[0;34m\u001b[0m\u001b[0m\n\u001b[0m\u001b[1;32m   1408\u001b[0m \u001b[0;34m\u001b[0m\u001b[0m\n\u001b[1;32m   1409\u001b[0m         \u001b[0;32mwhile\u001b[0m \u001b[0mlen\u001b[0m\u001b[0;34m(\u001b[0m\u001b[0mself\u001b[0m\u001b[0;34m.\u001b[0m\u001b[0mmajorTicks\u001b[0m\u001b[0;34m)\u001b[0m \u001b[0;34m<\u001b[0m \u001b[0mnumticks\u001b[0m\u001b[0;34m:\u001b[0m\u001b[0;34m\u001b[0m\u001b[0m\n",
      "\u001b[0;32m~/Documents/repos/clean-air-infrastructure/python-virtual-environments/env/lib/python3.6/site-packages/matplotlib/axis.py\u001b[0m in \u001b[0;36mget_majorticklocs\u001b[0;34m(self)\u001b[0m\n\u001b[1;32m   1322\u001b[0m     \u001b[0;32mdef\u001b[0m \u001b[0mget_majorticklocs\u001b[0m\u001b[0;34m(\u001b[0m\u001b[0mself\u001b[0m\u001b[0;34m)\u001b[0m\u001b[0;34m:\u001b[0m\u001b[0;34m\u001b[0m\u001b[0m\n\u001b[1;32m   1323\u001b[0m         \u001b[0;34m\"\"\"Get the array of major tick locations in data coordinates.\"\"\"\u001b[0m\u001b[0;34m\u001b[0m\u001b[0m\n\u001b[0;32m-> 1324\u001b[0;31m         \u001b[0;32mreturn\u001b[0m \u001b[0mself\u001b[0m\u001b[0;34m.\u001b[0m\u001b[0mmajor\u001b[0m\u001b[0;34m.\u001b[0m\u001b[0mlocator\u001b[0m\u001b[0;34m(\u001b[0m\u001b[0;34m)\u001b[0m\u001b[0;34m\u001b[0m\u001b[0m\n\u001b[0m\u001b[1;32m   1325\u001b[0m \u001b[0;34m\u001b[0m\u001b[0m\n\u001b[1;32m   1326\u001b[0m     \u001b[0;32mdef\u001b[0m \u001b[0mget_minorticklocs\u001b[0m\u001b[0;34m(\u001b[0m\u001b[0mself\u001b[0m\u001b[0;34m)\u001b[0m\u001b[0;34m:\u001b[0m\u001b[0;34m\u001b[0m\u001b[0m\n",
      "\u001b[0;32m~/Documents/repos/clean-air-infrastructure/python-virtual-environments/env/lib/python3.6/site-packages/matplotlib/dates.py\u001b[0m in \u001b[0;36m__call__\u001b[0;34m(self)\u001b[0m\n\u001b[1;32m   1241\u001b[0m             \u001b[0;32mreturn\u001b[0m \u001b[0;34m[\u001b[0m\u001b[0;34m]\u001b[0m\u001b[0;34m\u001b[0m\u001b[0m\n\u001b[1;32m   1242\u001b[0m \u001b[0;34m\u001b[0m\u001b[0m\n\u001b[0;32m-> 1243\u001b[0;31m         \u001b[0;32mreturn\u001b[0m \u001b[0mself\u001b[0m\u001b[0;34m.\u001b[0m\u001b[0mtick_values\u001b[0m\u001b[0;34m(\u001b[0m\u001b[0mdmin\u001b[0m\u001b[0;34m,\u001b[0m \u001b[0mdmax\u001b[0m\u001b[0;34m)\u001b[0m\u001b[0;34m\u001b[0m\u001b[0m\n\u001b[0m\u001b[1;32m   1244\u001b[0m \u001b[0;34m\u001b[0m\u001b[0m\n\u001b[1;32m   1245\u001b[0m     \u001b[0;32mdef\u001b[0m \u001b[0mtick_values\u001b[0m\u001b[0;34m(\u001b[0m\u001b[0mself\u001b[0m\u001b[0;34m,\u001b[0m \u001b[0mvmin\u001b[0m\u001b[0;34m,\u001b[0m \u001b[0mvmax\u001b[0m\u001b[0;34m)\u001b[0m\u001b[0;34m:\u001b[0m\u001b[0;34m\u001b[0m\u001b[0m\n",
      "\u001b[0;32m~/Documents/repos/clean-air-infrastructure/python-virtual-environments/env/lib/python3.6/site-packages/matplotlib/dates.py\u001b[0m in \u001b[0;36mtick_values\u001b[0;34m(self, vmin, vmax)\u001b[0m\n\u001b[1;32m   1263\u001b[0m         \u001b[0;32mif\u001b[0m \u001b[0mlen\u001b[0m\u001b[0;34m(\u001b[0m\u001b[0mdates\u001b[0m\u001b[0;34m)\u001b[0m \u001b[0;34m==\u001b[0m \u001b[0;36m0\u001b[0m\u001b[0;34m:\u001b[0m\u001b[0;34m\u001b[0m\u001b[0m\n\u001b[1;32m   1264\u001b[0m             \u001b[0;32mreturn\u001b[0m \u001b[0mdate2num\u001b[0m\u001b[0;34m(\u001b[0m\u001b[0;34m[\u001b[0m\u001b[0mvmin\u001b[0m\u001b[0;34m,\u001b[0m \u001b[0mvmax\u001b[0m\u001b[0;34m]\u001b[0m\u001b[0;34m)\u001b[0m\u001b[0;34m\u001b[0m\u001b[0m\n\u001b[0;32m-> 1265\u001b[0;31m         \u001b[0;32mreturn\u001b[0m \u001b[0mself\u001b[0m\u001b[0;34m.\u001b[0m\u001b[0mraise_if_exceeds\u001b[0m\u001b[0;34m(\u001b[0m\u001b[0mdate2num\u001b[0m\u001b[0;34m(\u001b[0m\u001b[0mdates\u001b[0m\u001b[0;34m)\u001b[0m\u001b[0;34m)\u001b[0m\u001b[0;34m\u001b[0m\u001b[0m\n\u001b[0m\u001b[1;32m   1266\u001b[0m \u001b[0;34m\u001b[0m\u001b[0m\n\u001b[1;32m   1267\u001b[0m     \u001b[0;32mdef\u001b[0m \u001b[0m_get_unit\u001b[0m\u001b[0;34m(\u001b[0m\u001b[0mself\u001b[0m\u001b[0;34m)\u001b[0m\u001b[0;34m:\u001b[0m\u001b[0;34m\u001b[0m\u001b[0m\n",
      "\u001b[0;32m~/Documents/repos/clean-air-infrastructure/python-virtual-environments/env/lib/python3.6/site-packages/matplotlib/ticker.py\u001b[0m in \u001b[0;36mraise_if_exceeds\u001b[0;34m(self, locs)\u001b[0m\n\u001b[1;32m   1521\u001b[0m             raise RuntimeError(\"Locator attempting to generate {} ticks from \"\n\u001b[1;32m   1522\u001b[0m                                \"{} to {}: exceeds Locator.MAXTICKS\".format(\n\u001b[0;32m-> 1523\u001b[0;31m                                    len(locs), locs[0], locs[-1]))\n\u001b[0m\u001b[1;32m   1524\u001b[0m         \u001b[0;32mreturn\u001b[0m \u001b[0mlocs\u001b[0m\u001b[0;34m\u001b[0m\u001b[0m\n\u001b[1;32m   1525\u001b[0m \u001b[0;34m\u001b[0m\u001b[0m\n",
      "\u001b[0;31mRuntimeError\u001b[0m: Locator attempting to generate 31887 ticks from 729757.7083333334 to 737729.2083333334: exceeds Locator.MAXTICKS"
     ]
    }
   ],
   "source": [
    "n = 2 # number of rows\n",
    "c = 2 # number of columns\n",
    "fig, axs = plt.subplots(n, c, sharex=True, sharey=True)\n",
    "i = 0\n",
    "j = 0\n",
    "for point, row in gb:\n",
    "    print(point, row['predict_mean'])\n",
    "    plot_pretty_timeseries(row['measurement_start_utc'], row['predict_mean'], axs[i, j], sigmas=row['predict_var'], locator=dates.HourLocator(interval=6))\n",
    "    plot_pretty_timeseries(row['measurement_start_utc'], row['NO2'], axs[i, j], locator=dates.HourLocator(interval=6))\n",
    "    i += j % c\n",
    "    j += 1\n",
    "    j = j % c\n",
    "    if i == n:\n",
    "        break"
   ]
  },
  {
   "cell_type": "code",
   "execution_count": null,
   "metadata": {},
   "outputs": [],
   "source": []
  }
 ],
 "metadata": {
  "kernelspec": {
   "display_name": "cleanair",
   "language": "python",
   "name": "cleanair"
  },
  "language_info": {
   "codemirror_mode": {
    "name": "ipython",
    "version": 3
   },
   "file_extension": ".py",
   "mimetype": "text/x-python",
   "name": "python",
   "nbconvert_exporter": "python",
   "pygments_lexer": "ipython3",
   "version": "3.6.5"
  }
 },
 "nbformat": 4,
 "nbformat_minor": 2
}
