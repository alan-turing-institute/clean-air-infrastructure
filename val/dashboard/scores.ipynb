{
 "cells": [
  {
   "cell_type": "code",
   "execution_count": 18,
   "metadata": {},
   "outputs": [],
   "source": [
    "import plotly.express as px\n",
    "import plotly.graph_objects as go\n",
    "\n",
    "import pandas as pd\n",
    "import importlib\n",
    "import sys\n",
    "\n",
    "# import validation module\n",
    "sys.path.append('../')\n",
    "validation = importlib.import_module('validation')\n",
    "\n",
    "# import cleanair module\n",
    "sys.path.append('../../containers')\n",
    "cleanair = importlib.import_module('cleanair')\n",
    "from cleanair.databases import DBReader\n",
    "from cleanair.databases.tables import LAQNSite"
   ]
  },
  {
   "cell_type": "code",
   "execution_count": 19,
   "metadata": {},
   "outputs": [
    {
     "name": "stdout",
     "output_type": "stream",
     "text": [
      "\n",
      "../experiment_data/basic/results/svgp_param0_data0/test_pred.pickle\n",
      "\n",
      "predict df shape: (3888, 0)\n",
      "NO2 mean shape: (3888,)\n",
      "NO2 var shape: (3888,)\n",
      "\n",
      "../experiment_data/basic/results/svgp_param1_data0/test_pred.pickle\n",
      "\n",
      "predict df shape: (3888, 0)\n",
      "NO2 mean shape: (3888,)\n",
      "NO2 var shape: (3888,)\n",
      "\n",
      "../experiment_data/basic/results/svgp_param2_data0/test_pred.pickle\n",
      "\n",
      "predict df shape: (3888, 0)\n",
      "NO2 mean shape: (3888,)\n",
      "NO2 var shape: (3888,)\n",
      "\n",
      "../experiment_data/basic/results/svgp_param3_data0/test_pred.pickle\n",
      "\n",
      "predict df shape: (3888, 0)\n",
      "NO2 mean shape: (3888,)\n",
      "NO2 var shape: (3888,)\n"
     ]
    }
   ],
   "source": [
    "name = 'basic'\n",
    "experiment_data = '../experiment_data/'\n",
    "exp = validation.util.load_experiment_from_directory(\n",
    "    name,\n",
    "    directory=experiment_data,\n",
    "    secretfile='../../terraform/.secrets/db_secrets.json'\n",
    ")\n",
    "exp.update_model_data_list(update_train=False, update_test=True)"
   ]
  },
  {
   "cell_type": "code",
   "execution_count": 20,
   "metadata": {},
   "outputs": [
    {
     "data": {
      "application/vnd.plotly.v1+json": {
       "config": {
        "plotlyServerURL": "https://plot.ly"
       },
       "data": [
        {
         "hoverlabel": {
          "namelength": 0
         },
         "hovertemplate": "x=%{x}<br>r2=%{y}",
         "legendgroup": "",
         "line": {
          "color": "#636efa",
          "dash": "solid"
         },
         "mode": "lines",
         "name": "",
         "showlegend": false,
         "type": "scatter",
         "x": [
          "2019-11-03 00:00:00",
          "2019-11-03 01:00:00",
          "2019-11-03 02:00:00",
          "2019-11-03 03:00:00",
          "2019-11-03 04:00:00",
          "2019-11-03 05:00:00",
          "2019-11-03 06:00:00",
          "2019-11-03 07:00:00",
          "2019-11-03 08:00:00",
          "2019-11-03 09:00:00",
          "2019-11-03 10:00:00",
          "2019-11-03 11:00:00",
          "2019-11-03 12:00:00",
          "2019-11-03 13:00:00",
          "2019-11-03 14:00:00",
          "2019-11-03 15:00:00",
          "2019-11-03 16:00:00",
          "2019-11-03 17:00:00",
          "2019-11-03 18:00:00",
          "2019-11-03 19:00:00",
          "2019-11-03 20:00:00",
          "2019-11-03 21:00:00",
          "2019-11-03 22:00:00",
          "2019-11-03 23:00:00"
         ],
         "xaxis": "x",
         "y": [
          -1.8864741587678684,
          -2.2071310908393946,
          -2.6986627053869907,
          -2.7436924965337206,
          -3.6847103682743825,
          -3.9166250414549166,
          -4.852259252662129,
          -6.904023360676759,
          -7.207343359142811,
          -4.759842235168904,
          -3.3310975263243066,
          -2.8939398517223163,
          -2.7569387826897787,
          -2.7080611396060097,
          -4.000846923447522,
          -5.058707005134771,
          -6.683855497677816,
          -7.973870639459907,
          -9.790798809939805,
          -9.781646645994849,
          -11.806966272053996,
          -7.478877129730961,
          -3.820582767962261,
          -2.781010883832879
         ],
         "yaxis": "y"
        }
       ],
       "layout": {
        "legend": {
         "tracegroupgap": 0
        },
        "margin": {
         "t": 60
        },
        "template": {
         "data": {
          "bar": [
           {
            "error_x": {
             "color": "#2a3f5f"
            },
            "error_y": {
             "color": "#2a3f5f"
            },
            "marker": {
             "line": {
              "color": "#E5ECF6",
              "width": 0.5
             }
            },
            "type": "bar"
           }
          ],
          "barpolar": [
           {
            "marker": {
             "line": {
              "color": "#E5ECF6",
              "width": 0.5
             }
            },
            "type": "barpolar"
           }
          ],
          "carpet": [
           {
            "aaxis": {
             "endlinecolor": "#2a3f5f",
             "gridcolor": "white",
             "linecolor": "white",
             "minorgridcolor": "white",
             "startlinecolor": "#2a3f5f"
            },
            "baxis": {
             "endlinecolor": "#2a3f5f",
             "gridcolor": "white",
             "linecolor": "white",
             "minorgridcolor": "white",
             "startlinecolor": "#2a3f5f"
            },
            "type": "carpet"
           }
          ],
          "choropleth": [
           {
            "colorbar": {
             "outlinewidth": 0,
             "ticks": ""
            },
            "type": "choropleth"
           }
          ],
          "contour": [
           {
            "colorbar": {
             "outlinewidth": 0,
             "ticks": ""
            },
            "colorscale": [
             [
              0,
              "#0d0887"
             ],
             [
              0.1111111111111111,
              "#46039f"
             ],
             [
              0.2222222222222222,
              "#7201a8"
             ],
             [
              0.3333333333333333,
              "#9c179e"
             ],
             [
              0.4444444444444444,
              "#bd3786"
             ],
             [
              0.5555555555555556,
              "#d8576b"
             ],
             [
              0.6666666666666666,
              "#ed7953"
             ],
             [
              0.7777777777777778,
              "#fb9f3a"
             ],
             [
              0.8888888888888888,
              "#fdca26"
             ],
             [
              1,
              "#f0f921"
             ]
            ],
            "type": "contour"
           }
          ],
          "contourcarpet": [
           {
            "colorbar": {
             "outlinewidth": 0,
             "ticks": ""
            },
            "type": "contourcarpet"
           }
          ],
          "heatmap": [
           {
            "colorbar": {
             "outlinewidth": 0,
             "ticks": ""
            },
            "colorscale": [
             [
              0,
              "#0d0887"
             ],
             [
              0.1111111111111111,
              "#46039f"
             ],
             [
              0.2222222222222222,
              "#7201a8"
             ],
             [
              0.3333333333333333,
              "#9c179e"
             ],
             [
              0.4444444444444444,
              "#bd3786"
             ],
             [
              0.5555555555555556,
              "#d8576b"
             ],
             [
              0.6666666666666666,
              "#ed7953"
             ],
             [
              0.7777777777777778,
              "#fb9f3a"
             ],
             [
              0.8888888888888888,
              "#fdca26"
             ],
             [
              1,
              "#f0f921"
             ]
            ],
            "type": "heatmap"
           }
          ],
          "heatmapgl": [
           {
            "colorbar": {
             "outlinewidth": 0,
             "ticks": ""
            },
            "colorscale": [
             [
              0,
              "#0d0887"
             ],
             [
              0.1111111111111111,
              "#46039f"
             ],
             [
              0.2222222222222222,
              "#7201a8"
             ],
             [
              0.3333333333333333,
              "#9c179e"
             ],
             [
              0.4444444444444444,
              "#bd3786"
             ],
             [
              0.5555555555555556,
              "#d8576b"
             ],
             [
              0.6666666666666666,
              "#ed7953"
             ],
             [
              0.7777777777777778,
              "#fb9f3a"
             ],
             [
              0.8888888888888888,
              "#fdca26"
             ],
             [
              1,
              "#f0f921"
             ]
            ],
            "type": "heatmapgl"
           }
          ],
          "histogram": [
           {
            "marker": {
             "colorbar": {
              "outlinewidth": 0,
              "ticks": ""
             }
            },
            "type": "histogram"
           }
          ],
          "histogram2d": [
           {
            "colorbar": {
             "outlinewidth": 0,
             "ticks": ""
            },
            "colorscale": [
             [
              0,
              "#0d0887"
             ],
             [
              0.1111111111111111,
              "#46039f"
             ],
             [
              0.2222222222222222,
              "#7201a8"
             ],
             [
              0.3333333333333333,
              "#9c179e"
             ],
             [
              0.4444444444444444,
              "#bd3786"
             ],
             [
              0.5555555555555556,
              "#d8576b"
             ],
             [
              0.6666666666666666,
              "#ed7953"
             ],
             [
              0.7777777777777778,
              "#fb9f3a"
             ],
             [
              0.8888888888888888,
              "#fdca26"
             ],
             [
              1,
              "#f0f921"
             ]
            ],
            "type": "histogram2d"
           }
          ],
          "histogram2dcontour": [
           {
            "colorbar": {
             "outlinewidth": 0,
             "ticks": ""
            },
            "colorscale": [
             [
              0,
              "#0d0887"
             ],
             [
              0.1111111111111111,
              "#46039f"
             ],
             [
              0.2222222222222222,
              "#7201a8"
             ],
             [
              0.3333333333333333,
              "#9c179e"
             ],
             [
              0.4444444444444444,
              "#bd3786"
             ],
             [
              0.5555555555555556,
              "#d8576b"
             ],
             [
              0.6666666666666666,
              "#ed7953"
             ],
             [
              0.7777777777777778,
              "#fb9f3a"
             ],
             [
              0.8888888888888888,
              "#fdca26"
             ],
             [
              1,
              "#f0f921"
             ]
            ],
            "type": "histogram2dcontour"
           }
          ],
          "mesh3d": [
           {
            "colorbar": {
             "outlinewidth": 0,
             "ticks": ""
            },
            "type": "mesh3d"
           }
          ],
          "parcoords": [
           {
            "line": {
             "colorbar": {
              "outlinewidth": 0,
              "ticks": ""
             }
            },
            "type": "parcoords"
           }
          ],
          "pie": [
           {
            "automargin": true,
            "type": "pie"
           }
          ],
          "scatter": [
           {
            "marker": {
             "colorbar": {
              "outlinewidth": 0,
              "ticks": ""
             }
            },
            "type": "scatter"
           }
          ],
          "scatter3d": [
           {
            "line": {
             "colorbar": {
              "outlinewidth": 0,
              "ticks": ""
             }
            },
            "marker": {
             "colorbar": {
              "outlinewidth": 0,
              "ticks": ""
             }
            },
            "type": "scatter3d"
           }
          ],
          "scattercarpet": [
           {
            "marker": {
             "colorbar": {
              "outlinewidth": 0,
              "ticks": ""
             }
            },
            "type": "scattercarpet"
           }
          ],
          "scattergeo": [
           {
            "marker": {
             "colorbar": {
              "outlinewidth": 0,
              "ticks": ""
             }
            },
            "type": "scattergeo"
           }
          ],
          "scattergl": [
           {
            "marker": {
             "colorbar": {
              "outlinewidth": 0,
              "ticks": ""
             }
            },
            "type": "scattergl"
           }
          ],
          "scattermapbox": [
           {
            "marker": {
             "colorbar": {
              "outlinewidth": 0,
              "ticks": ""
             }
            },
            "type": "scattermapbox"
           }
          ],
          "scatterpolar": [
           {
            "marker": {
             "colorbar": {
              "outlinewidth": 0,
              "ticks": ""
             }
            },
            "type": "scatterpolar"
           }
          ],
          "scatterpolargl": [
           {
            "marker": {
             "colorbar": {
              "outlinewidth": 0,
              "ticks": ""
             }
            },
            "type": "scatterpolargl"
           }
          ],
          "scatterternary": [
           {
            "marker": {
             "colorbar": {
              "outlinewidth": 0,
              "ticks": ""
             }
            },
            "type": "scatterternary"
           }
          ],
          "surface": [
           {
            "colorbar": {
             "outlinewidth": 0,
             "ticks": ""
            },
            "colorscale": [
             [
              0,
              "#0d0887"
             ],
             [
              0.1111111111111111,
              "#46039f"
             ],
             [
              0.2222222222222222,
              "#7201a8"
             ],
             [
              0.3333333333333333,
              "#9c179e"
             ],
             [
              0.4444444444444444,
              "#bd3786"
             ],
             [
              0.5555555555555556,
              "#d8576b"
             ],
             [
              0.6666666666666666,
              "#ed7953"
             ],
             [
              0.7777777777777778,
              "#fb9f3a"
             ],
             [
              0.8888888888888888,
              "#fdca26"
             ],
             [
              1,
              "#f0f921"
             ]
            ],
            "type": "surface"
           }
          ],
          "table": [
           {
            "cells": {
             "fill": {
              "color": "#EBF0F8"
             },
             "line": {
              "color": "white"
             }
            },
            "header": {
             "fill": {
              "color": "#C8D4E3"
             },
             "line": {
              "color": "white"
             }
            },
            "type": "table"
           }
          ]
         },
         "layout": {
          "annotationdefaults": {
           "arrowcolor": "#2a3f5f",
           "arrowhead": 0,
           "arrowwidth": 1
          },
          "coloraxis": {
           "colorbar": {
            "outlinewidth": 0,
            "ticks": ""
           }
          },
          "colorscale": {
           "diverging": [
            [
             0,
             "#8e0152"
            ],
            [
             0.1,
             "#c51b7d"
            ],
            [
             0.2,
             "#de77ae"
            ],
            [
             0.3,
             "#f1b6da"
            ],
            [
             0.4,
             "#fde0ef"
            ],
            [
             0.5,
             "#f7f7f7"
            ],
            [
             0.6,
             "#e6f5d0"
            ],
            [
             0.7,
             "#b8e186"
            ],
            [
             0.8,
             "#7fbc41"
            ],
            [
             0.9,
             "#4d9221"
            ],
            [
             1,
             "#276419"
            ]
           ],
           "sequential": [
            [
             0,
             "#0d0887"
            ],
            [
             0.1111111111111111,
             "#46039f"
            ],
            [
             0.2222222222222222,
             "#7201a8"
            ],
            [
             0.3333333333333333,
             "#9c179e"
            ],
            [
             0.4444444444444444,
             "#bd3786"
            ],
            [
             0.5555555555555556,
             "#d8576b"
            ],
            [
             0.6666666666666666,
             "#ed7953"
            ],
            [
             0.7777777777777778,
             "#fb9f3a"
            ],
            [
             0.8888888888888888,
             "#fdca26"
            ],
            [
             1,
             "#f0f921"
            ]
           ],
           "sequentialminus": [
            [
             0,
             "#0d0887"
            ],
            [
             0.1111111111111111,
             "#46039f"
            ],
            [
             0.2222222222222222,
             "#7201a8"
            ],
            [
             0.3333333333333333,
             "#9c179e"
            ],
            [
             0.4444444444444444,
             "#bd3786"
            ],
            [
             0.5555555555555556,
             "#d8576b"
            ],
            [
             0.6666666666666666,
             "#ed7953"
            ],
            [
             0.7777777777777778,
             "#fb9f3a"
            ],
            [
             0.8888888888888888,
             "#fdca26"
            ],
            [
             1,
             "#f0f921"
            ]
           ]
          },
          "colorway": [
           "#636efa",
           "#EF553B",
           "#00cc96",
           "#ab63fa",
           "#FFA15A",
           "#19d3f3",
           "#FF6692",
           "#B6E880",
           "#FF97FF",
           "#FECB52"
          ],
          "font": {
           "color": "#2a3f5f"
          },
          "geo": {
           "bgcolor": "white",
           "lakecolor": "white",
           "landcolor": "#E5ECF6",
           "showlakes": true,
           "showland": true,
           "subunitcolor": "white"
          },
          "hoverlabel": {
           "align": "left"
          },
          "hovermode": "closest",
          "mapbox": {
           "style": "light"
          },
          "paper_bgcolor": "white",
          "plot_bgcolor": "#E5ECF6",
          "polar": {
           "angularaxis": {
            "gridcolor": "white",
            "linecolor": "white",
            "ticks": ""
           },
           "bgcolor": "#E5ECF6",
           "radialaxis": {
            "gridcolor": "white",
            "linecolor": "white",
            "ticks": ""
           }
          },
          "scene": {
           "xaxis": {
            "backgroundcolor": "#E5ECF6",
            "gridcolor": "white",
            "gridwidth": 2,
            "linecolor": "white",
            "showbackground": true,
            "ticks": "",
            "zerolinecolor": "white"
           },
           "yaxis": {
            "backgroundcolor": "#E5ECF6",
            "gridcolor": "white",
            "gridwidth": 2,
            "linecolor": "white",
            "showbackground": true,
            "ticks": "",
            "zerolinecolor": "white"
           },
           "zaxis": {
            "backgroundcolor": "#E5ECF6",
            "gridcolor": "white",
            "gridwidth": 2,
            "linecolor": "white",
            "showbackground": true,
            "ticks": "",
            "zerolinecolor": "white"
           }
          },
          "shapedefaults": {
           "line": {
            "color": "#2a3f5f"
           }
          },
          "ternary": {
           "aaxis": {
            "gridcolor": "white",
            "linecolor": "white",
            "ticks": ""
           },
           "baxis": {
            "gridcolor": "white",
            "linecolor": "white",
            "ticks": ""
           },
           "bgcolor": "#E5ECF6",
           "caxis": {
            "gridcolor": "white",
            "linecolor": "white",
            "ticks": ""
           }
          },
          "title": {
           "x": 0.05
          },
          "xaxis": {
           "automargin": true,
           "gridcolor": "white",
           "linecolor": "white",
           "ticks": "",
           "title": {
            "standoff": 15
           },
           "zerolinecolor": "white",
           "zerolinewidth": 2
          },
          "yaxis": {
           "automargin": true,
           "gridcolor": "white",
           "linecolor": "white",
           "ticks": "",
           "title": {
            "standoff": 15
           },
           "zerolinecolor": "white",
           "zerolinewidth": 2
          }
         }
        },
        "xaxis": {
         "anchor": "y",
         "domain": [
          0,
          1
         ],
         "title": {
          "text": "x"
         }
        },
        "yaxis": {
         "anchor": "x",
         "domain": [
          0,
          1
         ],
         "title": {
          "text": "r2"
         }
        }
       }
      },
      "text/html": [
       "<div>\n",
       "        \n",
       "        \n",
       "            <div id=\"6591df8d-242d-4552-9e39-6b739693c4a0\" class=\"plotly-graph-div\" style=\"height:525px; width:100%;\"></div>\n",
       "            <script type=\"text/javascript\">\n",
       "                require([\"plotly\"], function(Plotly) {\n",
       "                    window.PLOTLYENV=window.PLOTLYENV || {};\n",
       "                    \n",
       "                if (document.getElementById(\"6591df8d-242d-4552-9e39-6b739693c4a0\")) {\n",
       "                    Plotly.newPlot(\n",
       "                        '6591df8d-242d-4552-9e39-6b739693c4a0',\n",
       "                        [{\"hoverlabel\": {\"namelength\": 0}, \"hovertemplate\": \"x=%{x}<br>r2=%{y}\", \"legendgroup\": \"\", \"line\": {\"color\": \"#636efa\", \"dash\": \"solid\"}, \"mode\": \"lines\", \"name\": \"\", \"showlegend\": false, \"type\": \"scatter\", \"x\": [\"2019-11-03 00:00:00\", \"2019-11-03 01:00:00\", \"2019-11-03 02:00:00\", \"2019-11-03 03:00:00\", \"2019-11-03 04:00:00\", \"2019-11-03 05:00:00\", \"2019-11-03 06:00:00\", \"2019-11-03 07:00:00\", \"2019-11-03 08:00:00\", \"2019-11-03 09:00:00\", \"2019-11-03 10:00:00\", \"2019-11-03 11:00:00\", \"2019-11-03 12:00:00\", \"2019-11-03 13:00:00\", \"2019-11-03 14:00:00\", \"2019-11-03 15:00:00\", \"2019-11-03 16:00:00\", \"2019-11-03 17:00:00\", \"2019-11-03 18:00:00\", \"2019-11-03 19:00:00\", \"2019-11-03 20:00:00\", \"2019-11-03 21:00:00\", \"2019-11-03 22:00:00\", \"2019-11-03 23:00:00\"], \"xaxis\": \"x\", \"y\": [-1.8864741587678684, -2.2071310908393946, -2.6986627053869907, -2.7436924965337206, -3.6847103682743825, -3.9166250414549166, -4.852259252662129, -6.904023360676759, -7.207343359142811, -4.759842235168904, -3.3310975263243066, -2.8939398517223163, -2.7569387826897787, -2.7080611396060097, -4.000846923447522, -5.058707005134771, -6.683855497677816, -7.973870639459907, -9.790798809939805, -9.781646645994849, -11.806966272053996, -7.478877129730961, -3.820582767962261, -2.781010883832879], \"yaxis\": \"y\"}],\n",
       "                        {\"legend\": {\"tracegroupgap\": 0}, \"margin\": {\"t\": 60}, \"template\": {\"data\": {\"bar\": [{\"error_x\": {\"color\": \"#2a3f5f\"}, \"error_y\": {\"color\": \"#2a3f5f\"}, \"marker\": {\"line\": {\"color\": \"#E5ECF6\", \"width\": 0.5}}, \"type\": \"bar\"}], \"barpolar\": [{\"marker\": {\"line\": {\"color\": \"#E5ECF6\", \"width\": 0.5}}, \"type\": \"barpolar\"}], \"carpet\": [{\"aaxis\": {\"endlinecolor\": \"#2a3f5f\", \"gridcolor\": \"white\", \"linecolor\": \"white\", \"minorgridcolor\": \"white\", \"startlinecolor\": \"#2a3f5f\"}, \"baxis\": {\"endlinecolor\": \"#2a3f5f\", \"gridcolor\": \"white\", \"linecolor\": \"white\", \"minorgridcolor\": \"white\", \"startlinecolor\": \"#2a3f5f\"}, \"type\": \"carpet\"}], \"choropleth\": [{\"colorbar\": {\"outlinewidth\": 0, \"ticks\": \"\"}, \"type\": \"choropleth\"}], \"contour\": [{\"colorbar\": {\"outlinewidth\": 0, \"ticks\": \"\"}, \"colorscale\": [[0.0, \"#0d0887\"], [0.1111111111111111, \"#46039f\"], [0.2222222222222222, \"#7201a8\"], [0.3333333333333333, \"#9c179e\"], [0.4444444444444444, \"#bd3786\"], [0.5555555555555556, \"#d8576b\"], [0.6666666666666666, \"#ed7953\"], [0.7777777777777778, \"#fb9f3a\"], [0.8888888888888888, \"#fdca26\"], [1.0, \"#f0f921\"]], \"type\": \"contour\"}], \"contourcarpet\": [{\"colorbar\": {\"outlinewidth\": 0, \"ticks\": \"\"}, \"type\": \"contourcarpet\"}], \"heatmap\": [{\"colorbar\": {\"outlinewidth\": 0, \"ticks\": \"\"}, \"colorscale\": [[0.0, \"#0d0887\"], [0.1111111111111111, \"#46039f\"], [0.2222222222222222, \"#7201a8\"], [0.3333333333333333, \"#9c179e\"], [0.4444444444444444, \"#bd3786\"], [0.5555555555555556, \"#d8576b\"], [0.6666666666666666, \"#ed7953\"], [0.7777777777777778, \"#fb9f3a\"], [0.8888888888888888, \"#fdca26\"], [1.0, \"#f0f921\"]], \"type\": \"heatmap\"}], \"heatmapgl\": [{\"colorbar\": {\"outlinewidth\": 0, \"ticks\": \"\"}, \"colorscale\": [[0.0, \"#0d0887\"], [0.1111111111111111, \"#46039f\"], [0.2222222222222222, \"#7201a8\"], [0.3333333333333333, \"#9c179e\"], [0.4444444444444444, \"#bd3786\"], [0.5555555555555556, \"#d8576b\"], [0.6666666666666666, \"#ed7953\"], [0.7777777777777778, \"#fb9f3a\"], [0.8888888888888888, \"#fdca26\"], [1.0, \"#f0f921\"]], \"type\": \"heatmapgl\"}], \"histogram\": [{\"marker\": {\"colorbar\": {\"outlinewidth\": 0, \"ticks\": \"\"}}, \"type\": \"histogram\"}], \"histogram2d\": [{\"colorbar\": {\"outlinewidth\": 0, \"ticks\": \"\"}, \"colorscale\": [[0.0, \"#0d0887\"], [0.1111111111111111, \"#46039f\"], [0.2222222222222222, \"#7201a8\"], [0.3333333333333333, \"#9c179e\"], [0.4444444444444444, \"#bd3786\"], [0.5555555555555556, \"#d8576b\"], [0.6666666666666666, \"#ed7953\"], [0.7777777777777778, \"#fb9f3a\"], [0.8888888888888888, \"#fdca26\"], [1.0, \"#f0f921\"]], \"type\": \"histogram2d\"}], \"histogram2dcontour\": [{\"colorbar\": {\"outlinewidth\": 0, \"ticks\": \"\"}, \"colorscale\": [[0.0, \"#0d0887\"], [0.1111111111111111, \"#46039f\"], [0.2222222222222222, \"#7201a8\"], [0.3333333333333333, \"#9c179e\"], [0.4444444444444444, \"#bd3786\"], [0.5555555555555556, \"#d8576b\"], [0.6666666666666666, \"#ed7953\"], [0.7777777777777778, \"#fb9f3a\"], [0.8888888888888888, \"#fdca26\"], [1.0, \"#f0f921\"]], \"type\": \"histogram2dcontour\"}], \"mesh3d\": [{\"colorbar\": {\"outlinewidth\": 0, \"ticks\": \"\"}, \"type\": \"mesh3d\"}], \"parcoords\": [{\"line\": {\"colorbar\": {\"outlinewidth\": 0, \"ticks\": \"\"}}, \"type\": \"parcoords\"}], \"pie\": [{\"automargin\": true, \"type\": \"pie\"}], \"scatter\": [{\"marker\": {\"colorbar\": {\"outlinewidth\": 0, \"ticks\": \"\"}}, \"type\": \"scatter\"}], \"scatter3d\": [{\"line\": {\"colorbar\": {\"outlinewidth\": 0, \"ticks\": \"\"}}, \"marker\": {\"colorbar\": {\"outlinewidth\": 0, \"ticks\": \"\"}}, \"type\": \"scatter3d\"}], \"scattercarpet\": [{\"marker\": {\"colorbar\": {\"outlinewidth\": 0, \"ticks\": \"\"}}, \"type\": \"scattercarpet\"}], \"scattergeo\": [{\"marker\": {\"colorbar\": {\"outlinewidth\": 0, \"ticks\": \"\"}}, \"type\": \"scattergeo\"}], \"scattergl\": [{\"marker\": {\"colorbar\": {\"outlinewidth\": 0, \"ticks\": \"\"}}, \"type\": \"scattergl\"}], \"scattermapbox\": [{\"marker\": {\"colorbar\": {\"outlinewidth\": 0, \"ticks\": \"\"}}, \"type\": \"scattermapbox\"}], \"scatterpolar\": [{\"marker\": {\"colorbar\": {\"outlinewidth\": 0, \"ticks\": \"\"}}, \"type\": \"scatterpolar\"}], \"scatterpolargl\": [{\"marker\": {\"colorbar\": {\"outlinewidth\": 0, \"ticks\": \"\"}}, \"type\": \"scatterpolargl\"}], \"scatterternary\": [{\"marker\": {\"colorbar\": {\"outlinewidth\": 0, \"ticks\": \"\"}}, \"type\": \"scatterternary\"}], \"surface\": [{\"colorbar\": {\"outlinewidth\": 0, \"ticks\": \"\"}, \"colorscale\": [[0.0, \"#0d0887\"], [0.1111111111111111, \"#46039f\"], [0.2222222222222222, \"#7201a8\"], [0.3333333333333333, \"#9c179e\"], [0.4444444444444444, \"#bd3786\"], [0.5555555555555556, \"#d8576b\"], [0.6666666666666666, \"#ed7953\"], [0.7777777777777778, \"#fb9f3a\"], [0.8888888888888888, \"#fdca26\"], [1.0, \"#f0f921\"]], \"type\": \"surface\"}], \"table\": [{\"cells\": {\"fill\": {\"color\": \"#EBF0F8\"}, \"line\": {\"color\": \"white\"}}, \"header\": {\"fill\": {\"color\": \"#C8D4E3\"}, \"line\": {\"color\": \"white\"}}, \"type\": \"table\"}]}, \"layout\": {\"annotationdefaults\": {\"arrowcolor\": \"#2a3f5f\", \"arrowhead\": 0, \"arrowwidth\": 1}, \"coloraxis\": {\"colorbar\": {\"outlinewidth\": 0, \"ticks\": \"\"}}, \"colorscale\": {\"diverging\": [[0, \"#8e0152\"], [0.1, \"#c51b7d\"], [0.2, \"#de77ae\"], [0.3, \"#f1b6da\"], [0.4, \"#fde0ef\"], [0.5, \"#f7f7f7\"], [0.6, \"#e6f5d0\"], [0.7, \"#b8e186\"], [0.8, \"#7fbc41\"], [0.9, \"#4d9221\"], [1, \"#276419\"]], \"sequential\": [[0.0, \"#0d0887\"], [0.1111111111111111, \"#46039f\"], [0.2222222222222222, \"#7201a8\"], [0.3333333333333333, \"#9c179e\"], [0.4444444444444444, \"#bd3786\"], [0.5555555555555556, \"#d8576b\"], [0.6666666666666666, \"#ed7953\"], [0.7777777777777778, \"#fb9f3a\"], [0.8888888888888888, \"#fdca26\"], [1.0, \"#f0f921\"]], \"sequentialminus\": [[0.0, \"#0d0887\"], [0.1111111111111111, \"#46039f\"], [0.2222222222222222, \"#7201a8\"], [0.3333333333333333, \"#9c179e\"], [0.4444444444444444, \"#bd3786\"], [0.5555555555555556, \"#d8576b\"], [0.6666666666666666, \"#ed7953\"], [0.7777777777777778, \"#fb9f3a\"], [0.8888888888888888, \"#fdca26\"], [1.0, \"#f0f921\"]]}, \"colorway\": [\"#636efa\", \"#EF553B\", \"#00cc96\", \"#ab63fa\", \"#FFA15A\", \"#19d3f3\", \"#FF6692\", \"#B6E880\", \"#FF97FF\", \"#FECB52\"], \"font\": {\"color\": \"#2a3f5f\"}, \"geo\": {\"bgcolor\": \"white\", \"lakecolor\": \"white\", \"landcolor\": \"#E5ECF6\", \"showlakes\": true, \"showland\": true, \"subunitcolor\": \"white\"}, \"hoverlabel\": {\"align\": \"left\"}, \"hovermode\": \"closest\", \"mapbox\": {\"style\": \"light\"}, \"paper_bgcolor\": \"white\", \"plot_bgcolor\": \"#E5ECF6\", \"polar\": {\"angularaxis\": {\"gridcolor\": \"white\", \"linecolor\": \"white\", \"ticks\": \"\"}, \"bgcolor\": \"#E5ECF6\", \"radialaxis\": {\"gridcolor\": \"white\", \"linecolor\": \"white\", \"ticks\": \"\"}}, \"scene\": {\"xaxis\": {\"backgroundcolor\": \"#E5ECF6\", \"gridcolor\": \"white\", \"gridwidth\": 2, \"linecolor\": \"white\", \"showbackground\": true, \"ticks\": \"\", \"zerolinecolor\": \"white\"}, \"yaxis\": {\"backgroundcolor\": \"#E5ECF6\", \"gridcolor\": \"white\", \"gridwidth\": 2, \"linecolor\": \"white\", \"showbackground\": true, \"ticks\": \"\", \"zerolinecolor\": \"white\"}, \"zaxis\": {\"backgroundcolor\": \"#E5ECF6\", \"gridcolor\": \"white\", \"gridwidth\": 2, \"linecolor\": \"white\", \"showbackground\": true, \"ticks\": \"\", \"zerolinecolor\": \"white\"}}, \"shapedefaults\": {\"line\": {\"color\": \"#2a3f5f\"}}, \"ternary\": {\"aaxis\": {\"gridcolor\": \"white\", \"linecolor\": \"white\", \"ticks\": \"\"}, \"baxis\": {\"gridcolor\": \"white\", \"linecolor\": \"white\", \"ticks\": \"\"}, \"bgcolor\": \"#E5ECF6\", \"caxis\": {\"gridcolor\": \"white\", \"linecolor\": \"white\", \"ticks\": \"\"}}, \"title\": {\"x\": 0.05}, \"xaxis\": {\"automargin\": true, \"gridcolor\": \"white\", \"linecolor\": \"white\", \"ticks\": \"\", \"title\": {\"standoff\": 15}, \"zerolinecolor\": \"white\", \"zerolinewidth\": 2}, \"yaxis\": {\"automargin\": true, \"gridcolor\": \"white\", \"linecolor\": \"white\", \"ticks\": \"\", \"title\": {\"standoff\": 15}, \"zerolinecolor\": \"white\", \"zerolinewidth\": 2}}}, \"xaxis\": {\"anchor\": \"y\", \"domain\": [0.0, 1.0], \"title\": {\"text\": \"x\"}}, \"yaxis\": {\"anchor\": \"x\", \"domain\": [0.0, 1.0], \"title\": {\"text\": \"r2\"}}},\n",
       "                        {\"responsive\": true}\n",
       "                    ).then(function(){\n",
       "                            \n",
       "var gd = document.getElementById('6591df8d-242d-4552-9e39-6b739693c4a0');\n",
       "var x = new MutationObserver(function (mutations, observer) {{\n",
       "        var display = window.getComputedStyle(gd).display;\n",
       "        if (!display || display === 'none') {{\n",
       "            console.log([gd, 'removed!']);\n",
       "            Plotly.purge(gd);\n",
       "            observer.disconnect();\n",
       "        }}\n",
       "}});\n",
       "\n",
       "// Listen for the removal of the full notebook cells\n",
       "var notebookContainer = gd.closest('#notebook-container');\n",
       "if (notebookContainer) {{\n",
       "    x.observe(notebookContainer, {childList: true});\n",
       "}}\n",
       "\n",
       "// Listen for the clearing of the current output cell\n",
       "var outputEl = gd.closest('.output');\n",
       "if (outputEl) {{\n",
       "    x.observe(outputEl, {childList: true});\n",
       "}}\n",
       "\n",
       "                        })\n",
       "                };\n",
       "                });\n",
       "            </script>\n",
       "        </div>"
      ]
     },
     "metadata": {},
     "output_type": "display_data"
    },
    {
     "data": {
      "application/vnd.plotly.v1+json": {
       "config": {
        "plotlyServerURL": "https://plot.ly"
       },
       "data": [
        {
         "hoverlabel": {
          "namelength": 0
         },
         "hovertemplate": "x=%{x}<br>r2=%{y}",
         "legendgroup": "",
         "line": {
          "color": "#636efa",
          "dash": "solid"
         },
         "mode": "lines",
         "name": "",
         "showlegend": false,
         "type": "scatter",
         "x": [
          "2019-11-03 00:00:00",
          "2019-11-03 01:00:00",
          "2019-11-03 02:00:00",
          "2019-11-03 03:00:00",
          "2019-11-03 04:00:00",
          "2019-11-03 05:00:00",
          "2019-11-03 06:00:00",
          "2019-11-03 07:00:00",
          "2019-11-03 08:00:00",
          "2019-11-03 09:00:00",
          "2019-11-03 10:00:00",
          "2019-11-03 11:00:00",
          "2019-11-03 12:00:00",
          "2019-11-03 13:00:00",
          "2019-11-03 14:00:00",
          "2019-11-03 15:00:00",
          "2019-11-03 16:00:00",
          "2019-11-03 17:00:00",
          "2019-11-03 18:00:00",
          "2019-11-03 19:00:00",
          "2019-11-03 20:00:00",
          "2019-11-03 21:00:00",
          "2019-11-03 22:00:00",
          "2019-11-03 23:00:00"
         ],
         "xaxis": "x",
         "y": [
          -1.8904685523320546,
          -2.2124082977397705,
          -2.706432963243818,
          -2.7517694916409066,
          -3.6933079068450843,
          -3.9238919235536596,
          -4.859546354459403,
          -6.911436254188007,
          -7.214782893351623,
          -4.765280476638264,
          -3.335639206273809,
          -2.8980514777576394,
          -2.7606034908117105,
          -2.7113532027877048,
          -4.004788513080624,
          -5.06259455426036,
          -6.6879029459382,
          -7.977996083987055,
          -9.795216790650944,
          -9.785487014956828,
          -11.811235252376807,
          -7.481763906692056,
          -3.822742841328571,
          -2.782894977907185
         ],
         "yaxis": "y"
        }
       ],
       "layout": {
        "legend": {
         "tracegroupgap": 0
        },
        "margin": {
         "t": 60
        },
        "template": {
         "data": {
          "bar": [
           {
            "error_x": {
             "color": "#2a3f5f"
            },
            "error_y": {
             "color": "#2a3f5f"
            },
            "marker": {
             "line": {
              "color": "#E5ECF6",
              "width": 0.5
             }
            },
            "type": "bar"
           }
          ],
          "barpolar": [
           {
            "marker": {
             "line": {
              "color": "#E5ECF6",
              "width": 0.5
             }
            },
            "type": "barpolar"
           }
          ],
          "carpet": [
           {
            "aaxis": {
             "endlinecolor": "#2a3f5f",
             "gridcolor": "white",
             "linecolor": "white",
             "minorgridcolor": "white",
             "startlinecolor": "#2a3f5f"
            },
            "baxis": {
             "endlinecolor": "#2a3f5f",
             "gridcolor": "white",
             "linecolor": "white",
             "minorgridcolor": "white",
             "startlinecolor": "#2a3f5f"
            },
            "type": "carpet"
           }
          ],
          "choropleth": [
           {
            "colorbar": {
             "outlinewidth": 0,
             "ticks": ""
            },
            "type": "choropleth"
           }
          ],
          "contour": [
           {
            "colorbar": {
             "outlinewidth": 0,
             "ticks": ""
            },
            "colorscale": [
             [
              0,
              "#0d0887"
             ],
             [
              0.1111111111111111,
              "#46039f"
             ],
             [
              0.2222222222222222,
              "#7201a8"
             ],
             [
              0.3333333333333333,
              "#9c179e"
             ],
             [
              0.4444444444444444,
              "#bd3786"
             ],
             [
              0.5555555555555556,
              "#d8576b"
             ],
             [
              0.6666666666666666,
              "#ed7953"
             ],
             [
              0.7777777777777778,
              "#fb9f3a"
             ],
             [
              0.8888888888888888,
              "#fdca26"
             ],
             [
              1,
              "#f0f921"
             ]
            ],
            "type": "contour"
           }
          ],
          "contourcarpet": [
           {
            "colorbar": {
             "outlinewidth": 0,
             "ticks": ""
            },
            "type": "contourcarpet"
           }
          ],
          "heatmap": [
           {
            "colorbar": {
             "outlinewidth": 0,
             "ticks": ""
            },
            "colorscale": [
             [
              0,
              "#0d0887"
             ],
             [
              0.1111111111111111,
              "#46039f"
             ],
             [
              0.2222222222222222,
              "#7201a8"
             ],
             [
              0.3333333333333333,
              "#9c179e"
             ],
             [
              0.4444444444444444,
              "#bd3786"
             ],
             [
              0.5555555555555556,
              "#d8576b"
             ],
             [
              0.6666666666666666,
              "#ed7953"
             ],
             [
              0.7777777777777778,
              "#fb9f3a"
             ],
             [
              0.8888888888888888,
              "#fdca26"
             ],
             [
              1,
              "#f0f921"
             ]
            ],
            "type": "heatmap"
           }
          ],
          "heatmapgl": [
           {
            "colorbar": {
             "outlinewidth": 0,
             "ticks": ""
            },
            "colorscale": [
             [
              0,
              "#0d0887"
             ],
             [
              0.1111111111111111,
              "#46039f"
             ],
             [
              0.2222222222222222,
              "#7201a8"
             ],
             [
              0.3333333333333333,
              "#9c179e"
             ],
             [
              0.4444444444444444,
              "#bd3786"
             ],
             [
              0.5555555555555556,
              "#d8576b"
             ],
             [
              0.6666666666666666,
              "#ed7953"
             ],
             [
              0.7777777777777778,
              "#fb9f3a"
             ],
             [
              0.8888888888888888,
              "#fdca26"
             ],
             [
              1,
              "#f0f921"
             ]
            ],
            "type": "heatmapgl"
           }
          ],
          "histogram": [
           {
            "marker": {
             "colorbar": {
              "outlinewidth": 0,
              "ticks": ""
             }
            },
            "type": "histogram"
           }
          ],
          "histogram2d": [
           {
            "colorbar": {
             "outlinewidth": 0,
             "ticks": ""
            },
            "colorscale": [
             [
              0,
              "#0d0887"
             ],
             [
              0.1111111111111111,
              "#46039f"
             ],
             [
              0.2222222222222222,
              "#7201a8"
             ],
             [
              0.3333333333333333,
              "#9c179e"
             ],
             [
              0.4444444444444444,
              "#bd3786"
             ],
             [
              0.5555555555555556,
              "#d8576b"
             ],
             [
              0.6666666666666666,
              "#ed7953"
             ],
             [
              0.7777777777777778,
              "#fb9f3a"
             ],
             [
              0.8888888888888888,
              "#fdca26"
             ],
             [
              1,
              "#f0f921"
             ]
            ],
            "type": "histogram2d"
           }
          ],
          "histogram2dcontour": [
           {
            "colorbar": {
             "outlinewidth": 0,
             "ticks": ""
            },
            "colorscale": [
             [
              0,
              "#0d0887"
             ],
             [
              0.1111111111111111,
              "#46039f"
             ],
             [
              0.2222222222222222,
              "#7201a8"
             ],
             [
              0.3333333333333333,
              "#9c179e"
             ],
             [
              0.4444444444444444,
              "#bd3786"
             ],
             [
              0.5555555555555556,
              "#d8576b"
             ],
             [
              0.6666666666666666,
              "#ed7953"
             ],
             [
              0.7777777777777778,
              "#fb9f3a"
             ],
             [
              0.8888888888888888,
              "#fdca26"
             ],
             [
              1,
              "#f0f921"
             ]
            ],
            "type": "histogram2dcontour"
           }
          ],
          "mesh3d": [
           {
            "colorbar": {
             "outlinewidth": 0,
             "ticks": ""
            },
            "type": "mesh3d"
           }
          ],
          "parcoords": [
           {
            "line": {
             "colorbar": {
              "outlinewidth": 0,
              "ticks": ""
             }
            },
            "type": "parcoords"
           }
          ],
          "pie": [
           {
            "automargin": true,
            "type": "pie"
           }
          ],
          "scatter": [
           {
            "marker": {
             "colorbar": {
              "outlinewidth": 0,
              "ticks": ""
             }
            },
            "type": "scatter"
           }
          ],
          "scatter3d": [
           {
            "line": {
             "colorbar": {
              "outlinewidth": 0,
              "ticks": ""
             }
            },
            "marker": {
             "colorbar": {
              "outlinewidth": 0,
              "ticks": ""
             }
            },
            "type": "scatter3d"
           }
          ],
          "scattercarpet": [
           {
            "marker": {
             "colorbar": {
              "outlinewidth": 0,
              "ticks": ""
             }
            },
            "type": "scattercarpet"
           }
          ],
          "scattergeo": [
           {
            "marker": {
             "colorbar": {
              "outlinewidth": 0,
              "ticks": ""
             }
            },
            "type": "scattergeo"
           }
          ],
          "scattergl": [
           {
            "marker": {
             "colorbar": {
              "outlinewidth": 0,
              "ticks": ""
             }
            },
            "type": "scattergl"
           }
          ],
          "scattermapbox": [
           {
            "marker": {
             "colorbar": {
              "outlinewidth": 0,
              "ticks": ""
             }
            },
            "type": "scattermapbox"
           }
          ],
          "scatterpolar": [
           {
            "marker": {
             "colorbar": {
              "outlinewidth": 0,
              "ticks": ""
             }
            },
            "type": "scatterpolar"
           }
          ],
          "scatterpolargl": [
           {
            "marker": {
             "colorbar": {
              "outlinewidth": 0,
              "ticks": ""
             }
            },
            "type": "scatterpolargl"
           }
          ],
          "scatterternary": [
           {
            "marker": {
             "colorbar": {
              "outlinewidth": 0,
              "ticks": ""
             }
            },
            "type": "scatterternary"
           }
          ],
          "surface": [
           {
            "colorbar": {
             "outlinewidth": 0,
             "ticks": ""
            },
            "colorscale": [
             [
              0,
              "#0d0887"
             ],
             [
              0.1111111111111111,
              "#46039f"
             ],
             [
              0.2222222222222222,
              "#7201a8"
             ],
             [
              0.3333333333333333,
              "#9c179e"
             ],
             [
              0.4444444444444444,
              "#bd3786"
             ],
             [
              0.5555555555555556,
              "#d8576b"
             ],
             [
              0.6666666666666666,
              "#ed7953"
             ],
             [
              0.7777777777777778,
              "#fb9f3a"
             ],
             [
              0.8888888888888888,
              "#fdca26"
             ],
             [
              1,
              "#f0f921"
             ]
            ],
            "type": "surface"
           }
          ],
          "table": [
           {
            "cells": {
             "fill": {
              "color": "#EBF0F8"
             },
             "line": {
              "color": "white"
             }
            },
            "header": {
             "fill": {
              "color": "#C8D4E3"
             },
             "line": {
              "color": "white"
             }
            },
            "type": "table"
           }
          ]
         },
         "layout": {
          "annotationdefaults": {
           "arrowcolor": "#2a3f5f",
           "arrowhead": 0,
           "arrowwidth": 1
          },
          "coloraxis": {
           "colorbar": {
            "outlinewidth": 0,
            "ticks": ""
           }
          },
          "colorscale": {
           "diverging": [
            [
             0,
             "#8e0152"
            ],
            [
             0.1,
             "#c51b7d"
            ],
            [
             0.2,
             "#de77ae"
            ],
            [
             0.3,
             "#f1b6da"
            ],
            [
             0.4,
             "#fde0ef"
            ],
            [
             0.5,
             "#f7f7f7"
            ],
            [
             0.6,
             "#e6f5d0"
            ],
            [
             0.7,
             "#b8e186"
            ],
            [
             0.8,
             "#7fbc41"
            ],
            [
             0.9,
             "#4d9221"
            ],
            [
             1,
             "#276419"
            ]
           ],
           "sequential": [
            [
             0,
             "#0d0887"
            ],
            [
             0.1111111111111111,
             "#46039f"
            ],
            [
             0.2222222222222222,
             "#7201a8"
            ],
            [
             0.3333333333333333,
             "#9c179e"
            ],
            [
             0.4444444444444444,
             "#bd3786"
            ],
            [
             0.5555555555555556,
             "#d8576b"
            ],
            [
             0.6666666666666666,
             "#ed7953"
            ],
            [
             0.7777777777777778,
             "#fb9f3a"
            ],
            [
             0.8888888888888888,
             "#fdca26"
            ],
            [
             1,
             "#f0f921"
            ]
           ],
           "sequentialminus": [
            [
             0,
             "#0d0887"
            ],
            [
             0.1111111111111111,
             "#46039f"
            ],
            [
             0.2222222222222222,
             "#7201a8"
            ],
            [
             0.3333333333333333,
             "#9c179e"
            ],
            [
             0.4444444444444444,
             "#bd3786"
            ],
            [
             0.5555555555555556,
             "#d8576b"
            ],
            [
             0.6666666666666666,
             "#ed7953"
            ],
            [
             0.7777777777777778,
             "#fb9f3a"
            ],
            [
             0.8888888888888888,
             "#fdca26"
            ],
            [
             1,
             "#f0f921"
            ]
           ]
          },
          "colorway": [
           "#636efa",
           "#EF553B",
           "#00cc96",
           "#ab63fa",
           "#FFA15A",
           "#19d3f3",
           "#FF6692",
           "#B6E880",
           "#FF97FF",
           "#FECB52"
          ],
          "font": {
           "color": "#2a3f5f"
          },
          "geo": {
           "bgcolor": "white",
           "lakecolor": "white",
           "landcolor": "#E5ECF6",
           "showlakes": true,
           "showland": true,
           "subunitcolor": "white"
          },
          "hoverlabel": {
           "align": "left"
          },
          "hovermode": "closest",
          "mapbox": {
           "style": "light"
          },
          "paper_bgcolor": "white",
          "plot_bgcolor": "#E5ECF6",
          "polar": {
           "angularaxis": {
            "gridcolor": "white",
            "linecolor": "white",
            "ticks": ""
           },
           "bgcolor": "#E5ECF6",
           "radialaxis": {
            "gridcolor": "white",
            "linecolor": "white",
            "ticks": ""
           }
          },
          "scene": {
           "xaxis": {
            "backgroundcolor": "#E5ECF6",
            "gridcolor": "white",
            "gridwidth": 2,
            "linecolor": "white",
            "showbackground": true,
            "ticks": "",
            "zerolinecolor": "white"
           },
           "yaxis": {
            "backgroundcolor": "#E5ECF6",
            "gridcolor": "white",
            "gridwidth": 2,
            "linecolor": "white",
            "showbackground": true,
            "ticks": "",
            "zerolinecolor": "white"
           },
           "zaxis": {
            "backgroundcolor": "#E5ECF6",
            "gridcolor": "white",
            "gridwidth": 2,
            "linecolor": "white",
            "showbackground": true,
            "ticks": "",
            "zerolinecolor": "white"
           }
          },
          "shapedefaults": {
           "line": {
            "color": "#2a3f5f"
           }
          },
          "ternary": {
           "aaxis": {
            "gridcolor": "white",
            "linecolor": "white",
            "ticks": ""
           },
           "baxis": {
            "gridcolor": "white",
            "linecolor": "white",
            "ticks": ""
           },
           "bgcolor": "#E5ECF6",
           "caxis": {
            "gridcolor": "white",
            "linecolor": "white",
            "ticks": ""
           }
          },
          "title": {
           "x": 0.05
          },
          "xaxis": {
           "automargin": true,
           "gridcolor": "white",
           "linecolor": "white",
           "ticks": "",
           "title": {
            "standoff": 15
           },
           "zerolinecolor": "white",
           "zerolinewidth": 2
          },
          "yaxis": {
           "automargin": true,
           "gridcolor": "white",
           "linecolor": "white",
           "ticks": "",
           "title": {
            "standoff": 15
           },
           "zerolinecolor": "white",
           "zerolinewidth": 2
          }
         }
        },
        "xaxis": {
         "anchor": "y",
         "domain": [
          0,
          1
         ],
         "title": {
          "text": "x"
         }
        },
        "yaxis": {
         "anchor": "x",
         "domain": [
          0,
          1
         ],
         "title": {
          "text": "r2"
         }
        }
       }
      },
      "text/html": [
       "<div>\n",
       "        \n",
       "        \n",
       "            <div id=\"eced6056-cae5-4093-9ffd-4ac077804766\" class=\"plotly-graph-div\" style=\"height:525px; width:100%;\"></div>\n",
       "            <script type=\"text/javascript\">\n",
       "                require([\"plotly\"], function(Plotly) {\n",
       "                    window.PLOTLYENV=window.PLOTLYENV || {};\n",
       "                    \n",
       "                if (document.getElementById(\"eced6056-cae5-4093-9ffd-4ac077804766\")) {\n",
       "                    Plotly.newPlot(\n",
       "                        'eced6056-cae5-4093-9ffd-4ac077804766',\n",
       "                        [{\"hoverlabel\": {\"namelength\": 0}, \"hovertemplate\": \"x=%{x}<br>r2=%{y}\", \"legendgroup\": \"\", \"line\": {\"color\": \"#636efa\", \"dash\": \"solid\"}, \"mode\": \"lines\", \"name\": \"\", \"showlegend\": false, \"type\": \"scatter\", \"x\": [\"2019-11-03 00:00:00\", \"2019-11-03 01:00:00\", \"2019-11-03 02:00:00\", \"2019-11-03 03:00:00\", \"2019-11-03 04:00:00\", \"2019-11-03 05:00:00\", \"2019-11-03 06:00:00\", \"2019-11-03 07:00:00\", \"2019-11-03 08:00:00\", \"2019-11-03 09:00:00\", \"2019-11-03 10:00:00\", \"2019-11-03 11:00:00\", \"2019-11-03 12:00:00\", \"2019-11-03 13:00:00\", \"2019-11-03 14:00:00\", \"2019-11-03 15:00:00\", \"2019-11-03 16:00:00\", \"2019-11-03 17:00:00\", \"2019-11-03 18:00:00\", \"2019-11-03 19:00:00\", \"2019-11-03 20:00:00\", \"2019-11-03 21:00:00\", \"2019-11-03 22:00:00\", \"2019-11-03 23:00:00\"], \"xaxis\": \"x\", \"y\": [-1.8904685523320546, -2.2124082977397705, -2.706432963243818, -2.7517694916409066, -3.6933079068450843, -3.9238919235536596, -4.859546354459403, -6.911436254188007, -7.214782893351623, -4.765280476638264, -3.335639206273809, -2.8980514777576394, -2.7606034908117105, -2.7113532027877048, -4.004788513080624, -5.06259455426036, -6.6879029459382, -7.977996083987055, -9.795216790650944, -9.785487014956828, -11.811235252376807, -7.481763906692056, -3.822742841328571, -2.782894977907185], \"yaxis\": \"y\"}],\n",
       "                        {\"legend\": {\"tracegroupgap\": 0}, \"margin\": {\"t\": 60}, \"template\": {\"data\": {\"bar\": [{\"error_x\": {\"color\": \"#2a3f5f\"}, \"error_y\": {\"color\": \"#2a3f5f\"}, \"marker\": {\"line\": {\"color\": \"#E5ECF6\", \"width\": 0.5}}, \"type\": \"bar\"}], \"barpolar\": [{\"marker\": {\"line\": {\"color\": \"#E5ECF6\", \"width\": 0.5}}, \"type\": \"barpolar\"}], \"carpet\": [{\"aaxis\": {\"endlinecolor\": \"#2a3f5f\", \"gridcolor\": \"white\", \"linecolor\": \"white\", \"minorgridcolor\": \"white\", \"startlinecolor\": \"#2a3f5f\"}, \"baxis\": {\"endlinecolor\": \"#2a3f5f\", \"gridcolor\": \"white\", \"linecolor\": \"white\", \"minorgridcolor\": \"white\", \"startlinecolor\": \"#2a3f5f\"}, \"type\": \"carpet\"}], \"choropleth\": [{\"colorbar\": {\"outlinewidth\": 0, \"ticks\": \"\"}, \"type\": \"choropleth\"}], \"contour\": [{\"colorbar\": {\"outlinewidth\": 0, \"ticks\": \"\"}, \"colorscale\": [[0.0, \"#0d0887\"], [0.1111111111111111, \"#46039f\"], [0.2222222222222222, \"#7201a8\"], [0.3333333333333333, \"#9c179e\"], [0.4444444444444444, \"#bd3786\"], [0.5555555555555556, \"#d8576b\"], [0.6666666666666666, \"#ed7953\"], [0.7777777777777778, \"#fb9f3a\"], [0.8888888888888888, \"#fdca26\"], [1.0, \"#f0f921\"]], \"type\": \"contour\"}], \"contourcarpet\": [{\"colorbar\": {\"outlinewidth\": 0, \"ticks\": \"\"}, \"type\": \"contourcarpet\"}], \"heatmap\": [{\"colorbar\": {\"outlinewidth\": 0, \"ticks\": \"\"}, \"colorscale\": [[0.0, \"#0d0887\"], [0.1111111111111111, \"#46039f\"], [0.2222222222222222, \"#7201a8\"], [0.3333333333333333, \"#9c179e\"], [0.4444444444444444, \"#bd3786\"], [0.5555555555555556, \"#d8576b\"], [0.6666666666666666, \"#ed7953\"], [0.7777777777777778, \"#fb9f3a\"], [0.8888888888888888, \"#fdca26\"], [1.0, \"#f0f921\"]], \"type\": \"heatmap\"}], \"heatmapgl\": [{\"colorbar\": {\"outlinewidth\": 0, \"ticks\": \"\"}, \"colorscale\": [[0.0, \"#0d0887\"], [0.1111111111111111, \"#46039f\"], [0.2222222222222222, \"#7201a8\"], [0.3333333333333333, \"#9c179e\"], [0.4444444444444444, \"#bd3786\"], [0.5555555555555556, \"#d8576b\"], [0.6666666666666666, \"#ed7953\"], [0.7777777777777778, \"#fb9f3a\"], [0.8888888888888888, \"#fdca26\"], [1.0, \"#f0f921\"]], \"type\": \"heatmapgl\"}], \"histogram\": [{\"marker\": {\"colorbar\": {\"outlinewidth\": 0, \"ticks\": \"\"}}, \"type\": \"histogram\"}], \"histogram2d\": [{\"colorbar\": {\"outlinewidth\": 0, \"ticks\": \"\"}, \"colorscale\": [[0.0, \"#0d0887\"], [0.1111111111111111, \"#46039f\"], [0.2222222222222222, \"#7201a8\"], [0.3333333333333333, \"#9c179e\"], [0.4444444444444444, \"#bd3786\"], [0.5555555555555556, \"#d8576b\"], [0.6666666666666666, \"#ed7953\"], [0.7777777777777778, \"#fb9f3a\"], [0.8888888888888888, \"#fdca26\"], [1.0, \"#f0f921\"]], \"type\": \"histogram2d\"}], \"histogram2dcontour\": [{\"colorbar\": {\"outlinewidth\": 0, \"ticks\": \"\"}, \"colorscale\": [[0.0, \"#0d0887\"], [0.1111111111111111, \"#46039f\"], [0.2222222222222222, \"#7201a8\"], [0.3333333333333333, \"#9c179e\"], [0.4444444444444444, \"#bd3786\"], [0.5555555555555556, \"#d8576b\"], [0.6666666666666666, \"#ed7953\"], [0.7777777777777778, \"#fb9f3a\"], [0.8888888888888888, \"#fdca26\"], [1.0, \"#f0f921\"]], \"type\": \"histogram2dcontour\"}], \"mesh3d\": [{\"colorbar\": {\"outlinewidth\": 0, \"ticks\": \"\"}, \"type\": \"mesh3d\"}], \"parcoords\": [{\"line\": {\"colorbar\": {\"outlinewidth\": 0, \"ticks\": \"\"}}, \"type\": \"parcoords\"}], \"pie\": [{\"automargin\": true, \"type\": \"pie\"}], \"scatter\": [{\"marker\": {\"colorbar\": {\"outlinewidth\": 0, \"ticks\": \"\"}}, \"type\": \"scatter\"}], \"scatter3d\": [{\"line\": {\"colorbar\": {\"outlinewidth\": 0, \"ticks\": \"\"}}, \"marker\": {\"colorbar\": {\"outlinewidth\": 0, \"ticks\": \"\"}}, \"type\": \"scatter3d\"}], \"scattercarpet\": [{\"marker\": {\"colorbar\": {\"outlinewidth\": 0, \"ticks\": \"\"}}, \"type\": \"scattercarpet\"}], \"scattergeo\": [{\"marker\": {\"colorbar\": {\"outlinewidth\": 0, \"ticks\": \"\"}}, \"type\": \"scattergeo\"}], \"scattergl\": [{\"marker\": {\"colorbar\": {\"outlinewidth\": 0, \"ticks\": \"\"}}, \"type\": \"scattergl\"}], \"scattermapbox\": [{\"marker\": {\"colorbar\": {\"outlinewidth\": 0, \"ticks\": \"\"}}, \"type\": \"scattermapbox\"}], \"scatterpolar\": [{\"marker\": {\"colorbar\": {\"outlinewidth\": 0, \"ticks\": \"\"}}, \"type\": \"scatterpolar\"}], \"scatterpolargl\": [{\"marker\": {\"colorbar\": {\"outlinewidth\": 0, \"ticks\": \"\"}}, \"type\": \"scatterpolargl\"}], \"scatterternary\": [{\"marker\": {\"colorbar\": {\"outlinewidth\": 0, \"ticks\": \"\"}}, \"type\": \"scatterternary\"}], \"surface\": [{\"colorbar\": {\"outlinewidth\": 0, \"ticks\": \"\"}, \"colorscale\": [[0.0, \"#0d0887\"], [0.1111111111111111, \"#46039f\"], [0.2222222222222222, \"#7201a8\"], [0.3333333333333333, \"#9c179e\"], [0.4444444444444444, \"#bd3786\"], [0.5555555555555556, \"#d8576b\"], [0.6666666666666666, \"#ed7953\"], [0.7777777777777778, \"#fb9f3a\"], [0.8888888888888888, \"#fdca26\"], [1.0, \"#f0f921\"]], \"type\": \"surface\"}], \"table\": [{\"cells\": {\"fill\": {\"color\": \"#EBF0F8\"}, \"line\": {\"color\": \"white\"}}, \"header\": {\"fill\": {\"color\": \"#C8D4E3\"}, \"line\": {\"color\": \"white\"}}, \"type\": \"table\"}]}, \"layout\": {\"annotationdefaults\": {\"arrowcolor\": \"#2a3f5f\", \"arrowhead\": 0, \"arrowwidth\": 1}, \"coloraxis\": {\"colorbar\": {\"outlinewidth\": 0, \"ticks\": \"\"}}, \"colorscale\": {\"diverging\": [[0, \"#8e0152\"], [0.1, \"#c51b7d\"], [0.2, \"#de77ae\"], [0.3, \"#f1b6da\"], [0.4, \"#fde0ef\"], [0.5, \"#f7f7f7\"], [0.6, \"#e6f5d0\"], [0.7, \"#b8e186\"], [0.8, \"#7fbc41\"], [0.9, \"#4d9221\"], [1, \"#276419\"]], \"sequential\": [[0.0, \"#0d0887\"], [0.1111111111111111, \"#46039f\"], [0.2222222222222222, \"#7201a8\"], [0.3333333333333333, \"#9c179e\"], [0.4444444444444444, \"#bd3786\"], [0.5555555555555556, \"#d8576b\"], [0.6666666666666666, \"#ed7953\"], [0.7777777777777778, \"#fb9f3a\"], [0.8888888888888888, \"#fdca26\"], [1.0, \"#f0f921\"]], \"sequentialminus\": [[0.0, \"#0d0887\"], [0.1111111111111111, \"#46039f\"], [0.2222222222222222, \"#7201a8\"], [0.3333333333333333, \"#9c179e\"], [0.4444444444444444, \"#bd3786\"], [0.5555555555555556, \"#d8576b\"], [0.6666666666666666, \"#ed7953\"], [0.7777777777777778, \"#fb9f3a\"], [0.8888888888888888, \"#fdca26\"], [1.0, \"#f0f921\"]]}, \"colorway\": [\"#636efa\", \"#EF553B\", \"#00cc96\", \"#ab63fa\", \"#FFA15A\", \"#19d3f3\", \"#FF6692\", \"#B6E880\", \"#FF97FF\", \"#FECB52\"], \"font\": {\"color\": \"#2a3f5f\"}, \"geo\": {\"bgcolor\": \"white\", \"lakecolor\": \"white\", \"landcolor\": \"#E5ECF6\", \"showlakes\": true, \"showland\": true, \"subunitcolor\": \"white\"}, \"hoverlabel\": {\"align\": \"left\"}, \"hovermode\": \"closest\", \"mapbox\": {\"style\": \"light\"}, \"paper_bgcolor\": \"white\", \"plot_bgcolor\": \"#E5ECF6\", \"polar\": {\"angularaxis\": {\"gridcolor\": \"white\", \"linecolor\": \"white\", \"ticks\": \"\"}, \"bgcolor\": \"#E5ECF6\", \"radialaxis\": {\"gridcolor\": \"white\", \"linecolor\": \"white\", \"ticks\": \"\"}}, \"scene\": {\"xaxis\": {\"backgroundcolor\": \"#E5ECF6\", \"gridcolor\": \"white\", \"gridwidth\": 2, \"linecolor\": \"white\", \"showbackground\": true, \"ticks\": \"\", \"zerolinecolor\": \"white\"}, \"yaxis\": {\"backgroundcolor\": \"#E5ECF6\", \"gridcolor\": \"white\", \"gridwidth\": 2, \"linecolor\": \"white\", \"showbackground\": true, \"ticks\": \"\", \"zerolinecolor\": \"white\"}, \"zaxis\": {\"backgroundcolor\": \"#E5ECF6\", \"gridcolor\": \"white\", \"gridwidth\": 2, \"linecolor\": \"white\", \"showbackground\": true, \"ticks\": \"\", \"zerolinecolor\": \"white\"}}, \"shapedefaults\": {\"line\": {\"color\": \"#2a3f5f\"}}, \"ternary\": {\"aaxis\": {\"gridcolor\": \"white\", \"linecolor\": \"white\", \"ticks\": \"\"}, \"baxis\": {\"gridcolor\": \"white\", \"linecolor\": \"white\", \"ticks\": \"\"}, \"bgcolor\": \"#E5ECF6\", \"caxis\": {\"gridcolor\": \"white\", \"linecolor\": \"white\", \"ticks\": \"\"}}, \"title\": {\"x\": 0.05}, \"xaxis\": {\"automargin\": true, \"gridcolor\": \"white\", \"linecolor\": \"white\", \"ticks\": \"\", \"title\": {\"standoff\": 15}, \"zerolinecolor\": \"white\", \"zerolinewidth\": 2}, \"yaxis\": {\"automargin\": true, \"gridcolor\": \"white\", \"linecolor\": \"white\", \"ticks\": \"\", \"title\": {\"standoff\": 15}, \"zerolinecolor\": \"white\", \"zerolinewidth\": 2}}}, \"xaxis\": {\"anchor\": \"y\", \"domain\": [0.0, 1.0], \"title\": {\"text\": \"x\"}}, \"yaxis\": {\"anchor\": \"x\", \"domain\": [0.0, 1.0], \"title\": {\"text\": \"r2\"}}},\n",
       "                        {\"responsive\": true}\n",
       "                    ).then(function(){\n",
       "                            \n",
       "var gd = document.getElementById('eced6056-cae5-4093-9ffd-4ac077804766');\n",
       "var x = new MutationObserver(function (mutations, observer) {{\n",
       "        var display = window.getComputedStyle(gd).display;\n",
       "        if (!display || display === 'none') {{\n",
       "            console.log([gd, 'removed!']);\n",
       "            Plotly.purge(gd);\n",
       "            observer.disconnect();\n",
       "        }}\n",
       "}});\n",
       "\n",
       "// Listen for the removal of the full notebook cells\n",
       "var notebookContainer = gd.closest('#notebook-container');\n",
       "if (notebookContainer) {{\n",
       "    x.observe(notebookContainer, {childList: true});\n",
       "}}\n",
       "\n",
       "// Listen for the clearing of the current output cell\n",
       "var outputEl = gd.closest('.output');\n",
       "if (outputEl) {{\n",
       "    x.observe(outputEl, {childList: true});\n",
       "}}\n",
       "\n",
       "                        })\n",
       "                };\n",
       "                });\n",
       "            </script>\n",
       "        </div>"
      ]
     },
     "metadata": {},
     "output_type": "display_data"
    },
    {
     "data": {
      "application/vnd.plotly.v1+json": {
       "config": {
        "plotlyServerURL": "https://plot.ly"
       },
       "data": [
        {
         "hoverlabel": {
          "namelength": 0
         },
         "hovertemplate": "x=%{x}<br>r2=%{y}",
         "legendgroup": "",
         "line": {
          "color": "#636efa",
          "dash": "solid"
         },
         "mode": "lines",
         "name": "",
         "showlegend": false,
         "type": "scatter",
         "x": [
          "2019-11-03 00:00:00",
          "2019-11-03 01:00:00",
          "2019-11-03 02:00:00",
          "2019-11-03 03:00:00",
          "2019-11-03 04:00:00",
          "2019-11-03 05:00:00",
          "2019-11-03 06:00:00",
          "2019-11-03 07:00:00",
          "2019-11-03 08:00:00",
          "2019-11-03 09:00:00",
          "2019-11-03 10:00:00",
          "2019-11-03 11:00:00",
          "2019-11-03 12:00:00",
          "2019-11-03 13:00:00",
          "2019-11-03 14:00:00",
          "2019-11-03 15:00:00",
          "2019-11-03 16:00:00",
          "2019-11-03 17:00:00",
          "2019-11-03 18:00:00",
          "2019-11-03 19:00:00",
          "2019-11-03 20:00:00",
          "2019-11-03 21:00:00",
          "2019-11-03 22:00:00",
          "2019-11-03 23:00:00"
         ],
         "xaxis": "x",
         "y": [
          -1.9039504379782022,
          -2.23001217981297,
          -2.7291396212674526,
          -2.774480973553427,
          -3.7154787507900915,
          -3.941478354810795,
          -4.876134028866903,
          -6.928935365881553,
          -7.231624005121686,
          -4.777341919445242,
          -3.3450771562585704,
          -2.9057841247658973,
          -2.76758792305389,
          -2.717457444723581,
          -4.012446021001394,
          -5.070456819670106,
          -6.6961889242296,
          -7.98641020584196,
          -9.804051477121012,
          -9.793126579885469,
          -11.81982423443827,
          -7.487783397981451,
          -3.827216817864569,
          -2.7866219730223736
         ],
         "yaxis": "y"
        }
       ],
       "layout": {
        "legend": {
         "tracegroupgap": 0
        },
        "margin": {
         "t": 60
        },
        "template": {
         "data": {
          "bar": [
           {
            "error_x": {
             "color": "#2a3f5f"
            },
            "error_y": {
             "color": "#2a3f5f"
            },
            "marker": {
             "line": {
              "color": "#E5ECF6",
              "width": 0.5
             }
            },
            "type": "bar"
           }
          ],
          "barpolar": [
           {
            "marker": {
             "line": {
              "color": "#E5ECF6",
              "width": 0.5
             }
            },
            "type": "barpolar"
           }
          ],
          "carpet": [
           {
            "aaxis": {
             "endlinecolor": "#2a3f5f",
             "gridcolor": "white",
             "linecolor": "white",
             "minorgridcolor": "white",
             "startlinecolor": "#2a3f5f"
            },
            "baxis": {
             "endlinecolor": "#2a3f5f",
             "gridcolor": "white",
             "linecolor": "white",
             "minorgridcolor": "white",
             "startlinecolor": "#2a3f5f"
            },
            "type": "carpet"
           }
          ],
          "choropleth": [
           {
            "colorbar": {
             "outlinewidth": 0,
             "ticks": ""
            },
            "type": "choropleth"
           }
          ],
          "contour": [
           {
            "colorbar": {
             "outlinewidth": 0,
             "ticks": ""
            },
            "colorscale": [
             [
              0,
              "#0d0887"
             ],
             [
              0.1111111111111111,
              "#46039f"
             ],
             [
              0.2222222222222222,
              "#7201a8"
             ],
             [
              0.3333333333333333,
              "#9c179e"
             ],
             [
              0.4444444444444444,
              "#bd3786"
             ],
             [
              0.5555555555555556,
              "#d8576b"
             ],
             [
              0.6666666666666666,
              "#ed7953"
             ],
             [
              0.7777777777777778,
              "#fb9f3a"
             ],
             [
              0.8888888888888888,
              "#fdca26"
             ],
             [
              1,
              "#f0f921"
             ]
            ],
            "type": "contour"
           }
          ],
          "contourcarpet": [
           {
            "colorbar": {
             "outlinewidth": 0,
             "ticks": ""
            },
            "type": "contourcarpet"
           }
          ],
          "heatmap": [
           {
            "colorbar": {
             "outlinewidth": 0,
             "ticks": ""
            },
            "colorscale": [
             [
              0,
              "#0d0887"
             ],
             [
              0.1111111111111111,
              "#46039f"
             ],
             [
              0.2222222222222222,
              "#7201a8"
             ],
             [
              0.3333333333333333,
              "#9c179e"
             ],
             [
              0.4444444444444444,
              "#bd3786"
             ],
             [
              0.5555555555555556,
              "#d8576b"
             ],
             [
              0.6666666666666666,
              "#ed7953"
             ],
             [
              0.7777777777777778,
              "#fb9f3a"
             ],
             [
              0.8888888888888888,
              "#fdca26"
             ],
             [
              1,
              "#f0f921"
             ]
            ],
            "type": "heatmap"
           }
          ],
          "heatmapgl": [
           {
            "colorbar": {
             "outlinewidth": 0,
             "ticks": ""
            },
            "colorscale": [
             [
              0,
              "#0d0887"
             ],
             [
              0.1111111111111111,
              "#46039f"
             ],
             [
              0.2222222222222222,
              "#7201a8"
             ],
             [
              0.3333333333333333,
              "#9c179e"
             ],
             [
              0.4444444444444444,
              "#bd3786"
             ],
             [
              0.5555555555555556,
              "#d8576b"
             ],
             [
              0.6666666666666666,
              "#ed7953"
             ],
             [
              0.7777777777777778,
              "#fb9f3a"
             ],
             [
              0.8888888888888888,
              "#fdca26"
             ],
             [
              1,
              "#f0f921"
             ]
            ],
            "type": "heatmapgl"
           }
          ],
          "histogram": [
           {
            "marker": {
             "colorbar": {
              "outlinewidth": 0,
              "ticks": ""
             }
            },
            "type": "histogram"
           }
          ],
          "histogram2d": [
           {
            "colorbar": {
             "outlinewidth": 0,
             "ticks": ""
            },
            "colorscale": [
             [
              0,
              "#0d0887"
             ],
             [
              0.1111111111111111,
              "#46039f"
             ],
             [
              0.2222222222222222,
              "#7201a8"
             ],
             [
              0.3333333333333333,
              "#9c179e"
             ],
             [
              0.4444444444444444,
              "#bd3786"
             ],
             [
              0.5555555555555556,
              "#d8576b"
             ],
             [
              0.6666666666666666,
              "#ed7953"
             ],
             [
              0.7777777777777778,
              "#fb9f3a"
             ],
             [
              0.8888888888888888,
              "#fdca26"
             ],
             [
              1,
              "#f0f921"
             ]
            ],
            "type": "histogram2d"
           }
          ],
          "histogram2dcontour": [
           {
            "colorbar": {
             "outlinewidth": 0,
             "ticks": ""
            },
            "colorscale": [
             [
              0,
              "#0d0887"
             ],
             [
              0.1111111111111111,
              "#46039f"
             ],
             [
              0.2222222222222222,
              "#7201a8"
             ],
             [
              0.3333333333333333,
              "#9c179e"
             ],
             [
              0.4444444444444444,
              "#bd3786"
             ],
             [
              0.5555555555555556,
              "#d8576b"
             ],
             [
              0.6666666666666666,
              "#ed7953"
             ],
             [
              0.7777777777777778,
              "#fb9f3a"
             ],
             [
              0.8888888888888888,
              "#fdca26"
             ],
             [
              1,
              "#f0f921"
             ]
            ],
            "type": "histogram2dcontour"
           }
          ],
          "mesh3d": [
           {
            "colorbar": {
             "outlinewidth": 0,
             "ticks": ""
            },
            "type": "mesh3d"
           }
          ],
          "parcoords": [
           {
            "line": {
             "colorbar": {
              "outlinewidth": 0,
              "ticks": ""
             }
            },
            "type": "parcoords"
           }
          ],
          "pie": [
           {
            "automargin": true,
            "type": "pie"
           }
          ],
          "scatter": [
           {
            "marker": {
             "colorbar": {
              "outlinewidth": 0,
              "ticks": ""
             }
            },
            "type": "scatter"
           }
          ],
          "scatter3d": [
           {
            "line": {
             "colorbar": {
              "outlinewidth": 0,
              "ticks": ""
             }
            },
            "marker": {
             "colorbar": {
              "outlinewidth": 0,
              "ticks": ""
             }
            },
            "type": "scatter3d"
           }
          ],
          "scattercarpet": [
           {
            "marker": {
             "colorbar": {
              "outlinewidth": 0,
              "ticks": ""
             }
            },
            "type": "scattercarpet"
           }
          ],
          "scattergeo": [
           {
            "marker": {
             "colorbar": {
              "outlinewidth": 0,
              "ticks": ""
             }
            },
            "type": "scattergeo"
           }
          ],
          "scattergl": [
           {
            "marker": {
             "colorbar": {
              "outlinewidth": 0,
              "ticks": ""
             }
            },
            "type": "scattergl"
           }
          ],
          "scattermapbox": [
           {
            "marker": {
             "colorbar": {
              "outlinewidth": 0,
              "ticks": ""
             }
            },
            "type": "scattermapbox"
           }
          ],
          "scatterpolar": [
           {
            "marker": {
             "colorbar": {
              "outlinewidth": 0,
              "ticks": ""
             }
            },
            "type": "scatterpolar"
           }
          ],
          "scatterpolargl": [
           {
            "marker": {
             "colorbar": {
              "outlinewidth": 0,
              "ticks": ""
             }
            },
            "type": "scatterpolargl"
           }
          ],
          "scatterternary": [
           {
            "marker": {
             "colorbar": {
              "outlinewidth": 0,
              "ticks": ""
             }
            },
            "type": "scatterternary"
           }
          ],
          "surface": [
           {
            "colorbar": {
             "outlinewidth": 0,
             "ticks": ""
            },
            "colorscale": [
             [
              0,
              "#0d0887"
             ],
             [
              0.1111111111111111,
              "#46039f"
             ],
             [
              0.2222222222222222,
              "#7201a8"
             ],
             [
              0.3333333333333333,
              "#9c179e"
             ],
             [
              0.4444444444444444,
              "#bd3786"
             ],
             [
              0.5555555555555556,
              "#d8576b"
             ],
             [
              0.6666666666666666,
              "#ed7953"
             ],
             [
              0.7777777777777778,
              "#fb9f3a"
             ],
             [
              0.8888888888888888,
              "#fdca26"
             ],
             [
              1,
              "#f0f921"
             ]
            ],
            "type": "surface"
           }
          ],
          "table": [
           {
            "cells": {
             "fill": {
              "color": "#EBF0F8"
             },
             "line": {
              "color": "white"
             }
            },
            "header": {
             "fill": {
              "color": "#C8D4E3"
             },
             "line": {
              "color": "white"
             }
            },
            "type": "table"
           }
          ]
         },
         "layout": {
          "annotationdefaults": {
           "arrowcolor": "#2a3f5f",
           "arrowhead": 0,
           "arrowwidth": 1
          },
          "coloraxis": {
           "colorbar": {
            "outlinewidth": 0,
            "ticks": ""
           }
          },
          "colorscale": {
           "diverging": [
            [
             0,
             "#8e0152"
            ],
            [
             0.1,
             "#c51b7d"
            ],
            [
             0.2,
             "#de77ae"
            ],
            [
             0.3,
             "#f1b6da"
            ],
            [
             0.4,
             "#fde0ef"
            ],
            [
             0.5,
             "#f7f7f7"
            ],
            [
             0.6,
             "#e6f5d0"
            ],
            [
             0.7,
             "#b8e186"
            ],
            [
             0.8,
             "#7fbc41"
            ],
            [
             0.9,
             "#4d9221"
            ],
            [
             1,
             "#276419"
            ]
           ],
           "sequential": [
            [
             0,
             "#0d0887"
            ],
            [
             0.1111111111111111,
             "#46039f"
            ],
            [
             0.2222222222222222,
             "#7201a8"
            ],
            [
             0.3333333333333333,
             "#9c179e"
            ],
            [
             0.4444444444444444,
             "#bd3786"
            ],
            [
             0.5555555555555556,
             "#d8576b"
            ],
            [
             0.6666666666666666,
             "#ed7953"
            ],
            [
             0.7777777777777778,
             "#fb9f3a"
            ],
            [
             0.8888888888888888,
             "#fdca26"
            ],
            [
             1,
             "#f0f921"
            ]
           ],
           "sequentialminus": [
            [
             0,
             "#0d0887"
            ],
            [
             0.1111111111111111,
             "#46039f"
            ],
            [
             0.2222222222222222,
             "#7201a8"
            ],
            [
             0.3333333333333333,
             "#9c179e"
            ],
            [
             0.4444444444444444,
             "#bd3786"
            ],
            [
             0.5555555555555556,
             "#d8576b"
            ],
            [
             0.6666666666666666,
             "#ed7953"
            ],
            [
             0.7777777777777778,
             "#fb9f3a"
            ],
            [
             0.8888888888888888,
             "#fdca26"
            ],
            [
             1,
             "#f0f921"
            ]
           ]
          },
          "colorway": [
           "#636efa",
           "#EF553B",
           "#00cc96",
           "#ab63fa",
           "#FFA15A",
           "#19d3f3",
           "#FF6692",
           "#B6E880",
           "#FF97FF",
           "#FECB52"
          ],
          "font": {
           "color": "#2a3f5f"
          },
          "geo": {
           "bgcolor": "white",
           "lakecolor": "white",
           "landcolor": "#E5ECF6",
           "showlakes": true,
           "showland": true,
           "subunitcolor": "white"
          },
          "hoverlabel": {
           "align": "left"
          },
          "hovermode": "closest",
          "mapbox": {
           "style": "light"
          },
          "paper_bgcolor": "white",
          "plot_bgcolor": "#E5ECF6",
          "polar": {
           "angularaxis": {
            "gridcolor": "white",
            "linecolor": "white",
            "ticks": ""
           },
           "bgcolor": "#E5ECF6",
           "radialaxis": {
            "gridcolor": "white",
            "linecolor": "white",
            "ticks": ""
           }
          },
          "scene": {
           "xaxis": {
            "backgroundcolor": "#E5ECF6",
            "gridcolor": "white",
            "gridwidth": 2,
            "linecolor": "white",
            "showbackground": true,
            "ticks": "",
            "zerolinecolor": "white"
           },
           "yaxis": {
            "backgroundcolor": "#E5ECF6",
            "gridcolor": "white",
            "gridwidth": 2,
            "linecolor": "white",
            "showbackground": true,
            "ticks": "",
            "zerolinecolor": "white"
           },
           "zaxis": {
            "backgroundcolor": "#E5ECF6",
            "gridcolor": "white",
            "gridwidth": 2,
            "linecolor": "white",
            "showbackground": true,
            "ticks": "",
            "zerolinecolor": "white"
           }
          },
          "shapedefaults": {
           "line": {
            "color": "#2a3f5f"
           }
          },
          "ternary": {
           "aaxis": {
            "gridcolor": "white",
            "linecolor": "white",
            "ticks": ""
           },
           "baxis": {
            "gridcolor": "white",
            "linecolor": "white",
            "ticks": ""
           },
           "bgcolor": "#E5ECF6",
           "caxis": {
            "gridcolor": "white",
            "linecolor": "white",
            "ticks": ""
           }
          },
          "title": {
           "x": 0.05
          },
          "xaxis": {
           "automargin": true,
           "gridcolor": "white",
           "linecolor": "white",
           "ticks": "",
           "title": {
            "standoff": 15
           },
           "zerolinecolor": "white",
           "zerolinewidth": 2
          },
          "yaxis": {
           "automargin": true,
           "gridcolor": "white",
           "linecolor": "white",
           "ticks": "",
           "title": {
            "standoff": 15
           },
           "zerolinecolor": "white",
           "zerolinewidth": 2
          }
         }
        },
        "xaxis": {
         "anchor": "y",
         "domain": [
          0,
          1
         ],
         "title": {
          "text": "x"
         }
        },
        "yaxis": {
         "anchor": "x",
         "domain": [
          0,
          1
         ],
         "title": {
          "text": "r2"
         }
        }
       }
      },
      "text/html": [
       "<div>\n",
       "        \n",
       "        \n",
       "            <div id=\"f033230e-dc31-43a9-b8b3-50d860cde015\" class=\"plotly-graph-div\" style=\"height:525px; width:100%;\"></div>\n",
       "            <script type=\"text/javascript\">\n",
       "                require([\"plotly\"], function(Plotly) {\n",
       "                    window.PLOTLYENV=window.PLOTLYENV || {};\n",
       "                    \n",
       "                if (document.getElementById(\"f033230e-dc31-43a9-b8b3-50d860cde015\")) {\n",
       "                    Plotly.newPlot(\n",
       "                        'f033230e-dc31-43a9-b8b3-50d860cde015',\n",
       "                        [{\"hoverlabel\": {\"namelength\": 0}, \"hovertemplate\": \"x=%{x}<br>r2=%{y}\", \"legendgroup\": \"\", \"line\": {\"color\": \"#636efa\", \"dash\": \"solid\"}, \"mode\": \"lines\", \"name\": \"\", \"showlegend\": false, \"type\": \"scatter\", \"x\": [\"2019-11-03 00:00:00\", \"2019-11-03 01:00:00\", \"2019-11-03 02:00:00\", \"2019-11-03 03:00:00\", \"2019-11-03 04:00:00\", \"2019-11-03 05:00:00\", \"2019-11-03 06:00:00\", \"2019-11-03 07:00:00\", \"2019-11-03 08:00:00\", \"2019-11-03 09:00:00\", \"2019-11-03 10:00:00\", \"2019-11-03 11:00:00\", \"2019-11-03 12:00:00\", \"2019-11-03 13:00:00\", \"2019-11-03 14:00:00\", \"2019-11-03 15:00:00\", \"2019-11-03 16:00:00\", \"2019-11-03 17:00:00\", \"2019-11-03 18:00:00\", \"2019-11-03 19:00:00\", \"2019-11-03 20:00:00\", \"2019-11-03 21:00:00\", \"2019-11-03 22:00:00\", \"2019-11-03 23:00:00\"], \"xaxis\": \"x\", \"y\": [-1.9039504379782022, -2.23001217981297, -2.7291396212674526, -2.774480973553427, -3.7154787507900915, -3.941478354810795, -4.876134028866903, -6.928935365881553, -7.231624005121686, -4.777341919445242, -3.3450771562585704, -2.9057841247658973, -2.76758792305389, -2.717457444723581, -4.012446021001394, -5.070456819670106, -6.6961889242296, -7.98641020584196, -9.804051477121012, -9.793126579885469, -11.81982423443827, -7.487783397981451, -3.827216817864569, -2.7866219730223736], \"yaxis\": \"y\"}],\n",
       "                        {\"legend\": {\"tracegroupgap\": 0}, \"margin\": {\"t\": 60}, \"template\": {\"data\": {\"bar\": [{\"error_x\": {\"color\": \"#2a3f5f\"}, \"error_y\": {\"color\": \"#2a3f5f\"}, \"marker\": {\"line\": {\"color\": \"#E5ECF6\", \"width\": 0.5}}, \"type\": \"bar\"}], \"barpolar\": [{\"marker\": {\"line\": {\"color\": \"#E5ECF6\", \"width\": 0.5}}, \"type\": \"barpolar\"}], \"carpet\": [{\"aaxis\": {\"endlinecolor\": \"#2a3f5f\", \"gridcolor\": \"white\", \"linecolor\": \"white\", \"minorgridcolor\": \"white\", \"startlinecolor\": \"#2a3f5f\"}, \"baxis\": {\"endlinecolor\": \"#2a3f5f\", \"gridcolor\": \"white\", \"linecolor\": \"white\", \"minorgridcolor\": \"white\", \"startlinecolor\": \"#2a3f5f\"}, \"type\": \"carpet\"}], \"choropleth\": [{\"colorbar\": {\"outlinewidth\": 0, \"ticks\": \"\"}, \"type\": \"choropleth\"}], \"contour\": [{\"colorbar\": {\"outlinewidth\": 0, \"ticks\": \"\"}, \"colorscale\": [[0.0, \"#0d0887\"], [0.1111111111111111, \"#46039f\"], [0.2222222222222222, \"#7201a8\"], [0.3333333333333333, \"#9c179e\"], [0.4444444444444444, \"#bd3786\"], [0.5555555555555556, \"#d8576b\"], [0.6666666666666666, \"#ed7953\"], [0.7777777777777778, \"#fb9f3a\"], [0.8888888888888888, \"#fdca26\"], [1.0, \"#f0f921\"]], \"type\": \"contour\"}], \"contourcarpet\": [{\"colorbar\": {\"outlinewidth\": 0, \"ticks\": \"\"}, \"type\": \"contourcarpet\"}], \"heatmap\": [{\"colorbar\": {\"outlinewidth\": 0, \"ticks\": \"\"}, \"colorscale\": [[0.0, \"#0d0887\"], [0.1111111111111111, \"#46039f\"], [0.2222222222222222, \"#7201a8\"], [0.3333333333333333, \"#9c179e\"], [0.4444444444444444, \"#bd3786\"], [0.5555555555555556, \"#d8576b\"], [0.6666666666666666, \"#ed7953\"], [0.7777777777777778, \"#fb9f3a\"], [0.8888888888888888, \"#fdca26\"], [1.0, \"#f0f921\"]], \"type\": \"heatmap\"}], \"heatmapgl\": [{\"colorbar\": {\"outlinewidth\": 0, \"ticks\": \"\"}, \"colorscale\": [[0.0, \"#0d0887\"], [0.1111111111111111, \"#46039f\"], [0.2222222222222222, \"#7201a8\"], [0.3333333333333333, \"#9c179e\"], [0.4444444444444444, \"#bd3786\"], [0.5555555555555556, \"#d8576b\"], [0.6666666666666666, \"#ed7953\"], [0.7777777777777778, \"#fb9f3a\"], [0.8888888888888888, \"#fdca26\"], [1.0, \"#f0f921\"]], \"type\": \"heatmapgl\"}], \"histogram\": [{\"marker\": {\"colorbar\": {\"outlinewidth\": 0, \"ticks\": \"\"}}, \"type\": \"histogram\"}], \"histogram2d\": [{\"colorbar\": {\"outlinewidth\": 0, \"ticks\": \"\"}, \"colorscale\": [[0.0, \"#0d0887\"], [0.1111111111111111, \"#46039f\"], [0.2222222222222222, \"#7201a8\"], [0.3333333333333333, \"#9c179e\"], [0.4444444444444444, \"#bd3786\"], [0.5555555555555556, \"#d8576b\"], [0.6666666666666666, \"#ed7953\"], [0.7777777777777778, \"#fb9f3a\"], [0.8888888888888888, \"#fdca26\"], [1.0, \"#f0f921\"]], \"type\": \"histogram2d\"}], \"histogram2dcontour\": [{\"colorbar\": {\"outlinewidth\": 0, \"ticks\": \"\"}, \"colorscale\": [[0.0, \"#0d0887\"], [0.1111111111111111, \"#46039f\"], [0.2222222222222222, \"#7201a8\"], [0.3333333333333333, \"#9c179e\"], [0.4444444444444444, \"#bd3786\"], [0.5555555555555556, \"#d8576b\"], [0.6666666666666666, \"#ed7953\"], [0.7777777777777778, \"#fb9f3a\"], [0.8888888888888888, \"#fdca26\"], [1.0, \"#f0f921\"]], \"type\": \"histogram2dcontour\"}], \"mesh3d\": [{\"colorbar\": {\"outlinewidth\": 0, \"ticks\": \"\"}, \"type\": \"mesh3d\"}], \"parcoords\": [{\"line\": {\"colorbar\": {\"outlinewidth\": 0, \"ticks\": \"\"}}, \"type\": \"parcoords\"}], \"pie\": [{\"automargin\": true, \"type\": \"pie\"}], \"scatter\": [{\"marker\": {\"colorbar\": {\"outlinewidth\": 0, \"ticks\": \"\"}}, \"type\": \"scatter\"}], \"scatter3d\": [{\"line\": {\"colorbar\": {\"outlinewidth\": 0, \"ticks\": \"\"}}, \"marker\": {\"colorbar\": {\"outlinewidth\": 0, \"ticks\": \"\"}}, \"type\": \"scatter3d\"}], \"scattercarpet\": [{\"marker\": {\"colorbar\": {\"outlinewidth\": 0, \"ticks\": \"\"}}, \"type\": \"scattercarpet\"}], \"scattergeo\": [{\"marker\": {\"colorbar\": {\"outlinewidth\": 0, \"ticks\": \"\"}}, \"type\": \"scattergeo\"}], \"scattergl\": [{\"marker\": {\"colorbar\": {\"outlinewidth\": 0, \"ticks\": \"\"}}, \"type\": \"scattergl\"}], \"scattermapbox\": [{\"marker\": {\"colorbar\": {\"outlinewidth\": 0, \"ticks\": \"\"}}, \"type\": \"scattermapbox\"}], \"scatterpolar\": [{\"marker\": {\"colorbar\": {\"outlinewidth\": 0, \"ticks\": \"\"}}, \"type\": \"scatterpolar\"}], \"scatterpolargl\": [{\"marker\": {\"colorbar\": {\"outlinewidth\": 0, \"ticks\": \"\"}}, \"type\": \"scatterpolargl\"}], \"scatterternary\": [{\"marker\": {\"colorbar\": {\"outlinewidth\": 0, \"ticks\": \"\"}}, \"type\": \"scatterternary\"}], \"surface\": [{\"colorbar\": {\"outlinewidth\": 0, \"ticks\": \"\"}, \"colorscale\": [[0.0, \"#0d0887\"], [0.1111111111111111, \"#46039f\"], [0.2222222222222222, \"#7201a8\"], [0.3333333333333333, \"#9c179e\"], [0.4444444444444444, \"#bd3786\"], [0.5555555555555556, \"#d8576b\"], [0.6666666666666666, \"#ed7953\"], [0.7777777777777778, \"#fb9f3a\"], [0.8888888888888888, \"#fdca26\"], [1.0, \"#f0f921\"]], \"type\": \"surface\"}], \"table\": [{\"cells\": {\"fill\": {\"color\": \"#EBF0F8\"}, \"line\": {\"color\": \"white\"}}, \"header\": {\"fill\": {\"color\": \"#C8D4E3\"}, \"line\": {\"color\": \"white\"}}, \"type\": \"table\"}]}, \"layout\": {\"annotationdefaults\": {\"arrowcolor\": \"#2a3f5f\", \"arrowhead\": 0, \"arrowwidth\": 1}, \"coloraxis\": {\"colorbar\": {\"outlinewidth\": 0, \"ticks\": \"\"}}, \"colorscale\": {\"diverging\": [[0, \"#8e0152\"], [0.1, \"#c51b7d\"], [0.2, \"#de77ae\"], [0.3, \"#f1b6da\"], [0.4, \"#fde0ef\"], [0.5, \"#f7f7f7\"], [0.6, \"#e6f5d0\"], [0.7, \"#b8e186\"], [0.8, \"#7fbc41\"], [0.9, \"#4d9221\"], [1, \"#276419\"]], \"sequential\": [[0.0, \"#0d0887\"], [0.1111111111111111, \"#46039f\"], [0.2222222222222222, \"#7201a8\"], [0.3333333333333333, \"#9c179e\"], [0.4444444444444444, \"#bd3786\"], [0.5555555555555556, \"#d8576b\"], [0.6666666666666666, \"#ed7953\"], [0.7777777777777778, \"#fb9f3a\"], [0.8888888888888888, \"#fdca26\"], [1.0, \"#f0f921\"]], \"sequentialminus\": [[0.0, \"#0d0887\"], [0.1111111111111111, \"#46039f\"], [0.2222222222222222, \"#7201a8\"], [0.3333333333333333, \"#9c179e\"], [0.4444444444444444, \"#bd3786\"], [0.5555555555555556, \"#d8576b\"], [0.6666666666666666, \"#ed7953\"], [0.7777777777777778, \"#fb9f3a\"], [0.8888888888888888, \"#fdca26\"], [1.0, \"#f0f921\"]]}, \"colorway\": [\"#636efa\", \"#EF553B\", \"#00cc96\", \"#ab63fa\", \"#FFA15A\", \"#19d3f3\", \"#FF6692\", \"#B6E880\", \"#FF97FF\", \"#FECB52\"], \"font\": {\"color\": \"#2a3f5f\"}, \"geo\": {\"bgcolor\": \"white\", \"lakecolor\": \"white\", \"landcolor\": \"#E5ECF6\", \"showlakes\": true, \"showland\": true, \"subunitcolor\": \"white\"}, \"hoverlabel\": {\"align\": \"left\"}, \"hovermode\": \"closest\", \"mapbox\": {\"style\": \"light\"}, \"paper_bgcolor\": \"white\", \"plot_bgcolor\": \"#E5ECF6\", \"polar\": {\"angularaxis\": {\"gridcolor\": \"white\", \"linecolor\": \"white\", \"ticks\": \"\"}, \"bgcolor\": \"#E5ECF6\", \"radialaxis\": {\"gridcolor\": \"white\", \"linecolor\": \"white\", \"ticks\": \"\"}}, \"scene\": {\"xaxis\": {\"backgroundcolor\": \"#E5ECF6\", \"gridcolor\": \"white\", \"gridwidth\": 2, \"linecolor\": \"white\", \"showbackground\": true, \"ticks\": \"\", \"zerolinecolor\": \"white\"}, \"yaxis\": {\"backgroundcolor\": \"#E5ECF6\", \"gridcolor\": \"white\", \"gridwidth\": 2, \"linecolor\": \"white\", \"showbackground\": true, \"ticks\": \"\", \"zerolinecolor\": \"white\"}, \"zaxis\": {\"backgroundcolor\": \"#E5ECF6\", \"gridcolor\": \"white\", \"gridwidth\": 2, \"linecolor\": \"white\", \"showbackground\": true, \"ticks\": \"\", \"zerolinecolor\": \"white\"}}, \"shapedefaults\": {\"line\": {\"color\": \"#2a3f5f\"}}, \"ternary\": {\"aaxis\": {\"gridcolor\": \"white\", \"linecolor\": \"white\", \"ticks\": \"\"}, \"baxis\": {\"gridcolor\": \"white\", \"linecolor\": \"white\", \"ticks\": \"\"}, \"bgcolor\": \"#E5ECF6\", \"caxis\": {\"gridcolor\": \"white\", \"linecolor\": \"white\", \"ticks\": \"\"}}, \"title\": {\"x\": 0.05}, \"xaxis\": {\"automargin\": true, \"gridcolor\": \"white\", \"linecolor\": \"white\", \"ticks\": \"\", \"title\": {\"standoff\": 15}, \"zerolinecolor\": \"white\", \"zerolinewidth\": 2}, \"yaxis\": {\"automargin\": true, \"gridcolor\": \"white\", \"linecolor\": \"white\", \"ticks\": \"\", \"title\": {\"standoff\": 15}, \"zerolinecolor\": \"white\", \"zerolinewidth\": 2}}}, \"xaxis\": {\"anchor\": \"y\", \"domain\": [0.0, 1.0], \"title\": {\"text\": \"x\"}}, \"yaxis\": {\"anchor\": \"x\", \"domain\": [0.0, 1.0], \"title\": {\"text\": \"r2\"}}},\n",
       "                        {\"responsive\": true}\n",
       "                    ).then(function(){\n",
       "                            \n",
       "var gd = document.getElementById('f033230e-dc31-43a9-b8b3-50d860cde015');\n",
       "var x = new MutationObserver(function (mutations, observer) {{\n",
       "        var display = window.getComputedStyle(gd).display;\n",
       "        if (!display || display === 'none') {{\n",
       "            console.log([gd, 'removed!']);\n",
       "            Plotly.purge(gd);\n",
       "            observer.disconnect();\n",
       "        }}\n",
       "}});\n",
       "\n",
       "// Listen for the removal of the full notebook cells\n",
       "var notebookContainer = gd.closest('#notebook-container');\n",
       "if (notebookContainer) {{\n",
       "    x.observe(notebookContainer, {childList: true});\n",
       "}}\n",
       "\n",
       "// Listen for the clearing of the current output cell\n",
       "var outputEl = gd.closest('.output');\n",
       "if (outputEl) {{\n",
       "    x.observe(outputEl, {childList: true});\n",
       "}}\n",
       "\n",
       "                        })\n",
       "                };\n",
       "                });\n",
       "            </script>\n",
       "        </div>"
      ]
     },
     "metadata": {},
     "output_type": "display_data"
    },
    {
     "data": {
      "application/vnd.plotly.v1+json": {
       "config": {
        "plotlyServerURL": "https://plot.ly"
       },
       "data": [
        {
         "hoverlabel": {
          "namelength": 0
         },
         "hovertemplate": "x=%{x}<br>r2=%{y}",
         "legendgroup": "",
         "line": {
          "color": "#636efa",
          "dash": "solid"
         },
         "mode": "lines",
         "name": "",
         "showlegend": false,
         "type": "scatter",
         "x": [
          "2019-11-03 00:00:00",
          "2019-11-03 01:00:00",
          "2019-11-03 02:00:00",
          "2019-11-03 03:00:00",
          "2019-11-03 04:00:00",
          "2019-11-03 05:00:00",
          "2019-11-03 06:00:00",
          "2019-11-03 07:00:00",
          "2019-11-03 08:00:00",
          "2019-11-03 09:00:00",
          "2019-11-03 10:00:00",
          "2019-11-03 11:00:00",
          "2019-11-03 12:00:00",
          "2019-11-03 13:00:00",
          "2019-11-03 14:00:00",
          "2019-11-03 15:00:00",
          "2019-11-03 16:00:00",
          "2019-11-03 17:00:00",
          "2019-11-03 18:00:00",
          "2019-11-03 19:00:00",
          "2019-11-03 20:00:00",
          "2019-11-03 21:00:00",
          "2019-11-03 22:00:00",
          "2019-11-03 23:00:00"
         ],
         "xaxis": "x",
         "y": [
          -1.8997261959816991,
          -2.2257871779050022,
          -2.7240559688027255,
          -2.7700711391568604,
          -3.7112842776063095,
          -3.9382704790765564,
          -4.87281689986768,
          -6.9258761463190375,
          -7.229179020928472,
          -4.776297060368996,
          -3.34433113727835,
          -2.9051158231089556,
          -2.76724112319289,
          -2.717165661501636,
          -4.012640531164231,
          -5.070704029633475,
          -6.696719787580691,
          -7.987099888590237,
          -9.804803446330812,
          -9.793992428869636,
          -11.821095358353741,
          -7.488857224390644,
          -3.828076574658426,
          -2.7874398797457167
         ],
         "yaxis": "y"
        }
       ],
       "layout": {
        "legend": {
         "tracegroupgap": 0
        },
        "margin": {
         "t": 60
        },
        "template": {
         "data": {
          "bar": [
           {
            "error_x": {
             "color": "#2a3f5f"
            },
            "error_y": {
             "color": "#2a3f5f"
            },
            "marker": {
             "line": {
              "color": "#E5ECF6",
              "width": 0.5
             }
            },
            "type": "bar"
           }
          ],
          "barpolar": [
           {
            "marker": {
             "line": {
              "color": "#E5ECF6",
              "width": 0.5
             }
            },
            "type": "barpolar"
           }
          ],
          "carpet": [
           {
            "aaxis": {
             "endlinecolor": "#2a3f5f",
             "gridcolor": "white",
             "linecolor": "white",
             "minorgridcolor": "white",
             "startlinecolor": "#2a3f5f"
            },
            "baxis": {
             "endlinecolor": "#2a3f5f",
             "gridcolor": "white",
             "linecolor": "white",
             "minorgridcolor": "white",
             "startlinecolor": "#2a3f5f"
            },
            "type": "carpet"
           }
          ],
          "choropleth": [
           {
            "colorbar": {
             "outlinewidth": 0,
             "ticks": ""
            },
            "type": "choropleth"
           }
          ],
          "contour": [
           {
            "colorbar": {
             "outlinewidth": 0,
             "ticks": ""
            },
            "colorscale": [
             [
              0,
              "#0d0887"
             ],
             [
              0.1111111111111111,
              "#46039f"
             ],
             [
              0.2222222222222222,
              "#7201a8"
             ],
             [
              0.3333333333333333,
              "#9c179e"
             ],
             [
              0.4444444444444444,
              "#bd3786"
             ],
             [
              0.5555555555555556,
              "#d8576b"
             ],
             [
              0.6666666666666666,
              "#ed7953"
             ],
             [
              0.7777777777777778,
              "#fb9f3a"
             ],
             [
              0.8888888888888888,
              "#fdca26"
             ],
             [
              1,
              "#f0f921"
             ]
            ],
            "type": "contour"
           }
          ],
          "contourcarpet": [
           {
            "colorbar": {
             "outlinewidth": 0,
             "ticks": ""
            },
            "type": "contourcarpet"
           }
          ],
          "heatmap": [
           {
            "colorbar": {
             "outlinewidth": 0,
             "ticks": ""
            },
            "colorscale": [
             [
              0,
              "#0d0887"
             ],
             [
              0.1111111111111111,
              "#46039f"
             ],
             [
              0.2222222222222222,
              "#7201a8"
             ],
             [
              0.3333333333333333,
              "#9c179e"
             ],
             [
              0.4444444444444444,
              "#bd3786"
             ],
             [
              0.5555555555555556,
              "#d8576b"
             ],
             [
              0.6666666666666666,
              "#ed7953"
             ],
             [
              0.7777777777777778,
              "#fb9f3a"
             ],
             [
              0.8888888888888888,
              "#fdca26"
             ],
             [
              1,
              "#f0f921"
             ]
            ],
            "type": "heatmap"
           }
          ],
          "heatmapgl": [
           {
            "colorbar": {
             "outlinewidth": 0,
             "ticks": ""
            },
            "colorscale": [
             [
              0,
              "#0d0887"
             ],
             [
              0.1111111111111111,
              "#46039f"
             ],
             [
              0.2222222222222222,
              "#7201a8"
             ],
             [
              0.3333333333333333,
              "#9c179e"
             ],
             [
              0.4444444444444444,
              "#bd3786"
             ],
             [
              0.5555555555555556,
              "#d8576b"
             ],
             [
              0.6666666666666666,
              "#ed7953"
             ],
             [
              0.7777777777777778,
              "#fb9f3a"
             ],
             [
              0.8888888888888888,
              "#fdca26"
             ],
             [
              1,
              "#f0f921"
             ]
            ],
            "type": "heatmapgl"
           }
          ],
          "histogram": [
           {
            "marker": {
             "colorbar": {
              "outlinewidth": 0,
              "ticks": ""
             }
            },
            "type": "histogram"
           }
          ],
          "histogram2d": [
           {
            "colorbar": {
             "outlinewidth": 0,
             "ticks": ""
            },
            "colorscale": [
             [
              0,
              "#0d0887"
             ],
             [
              0.1111111111111111,
              "#46039f"
             ],
             [
              0.2222222222222222,
              "#7201a8"
             ],
             [
              0.3333333333333333,
              "#9c179e"
             ],
             [
              0.4444444444444444,
              "#bd3786"
             ],
             [
              0.5555555555555556,
              "#d8576b"
             ],
             [
              0.6666666666666666,
              "#ed7953"
             ],
             [
              0.7777777777777778,
              "#fb9f3a"
             ],
             [
              0.8888888888888888,
              "#fdca26"
             ],
             [
              1,
              "#f0f921"
             ]
            ],
            "type": "histogram2d"
           }
          ],
          "histogram2dcontour": [
           {
            "colorbar": {
             "outlinewidth": 0,
             "ticks": ""
            },
            "colorscale": [
             [
              0,
              "#0d0887"
             ],
             [
              0.1111111111111111,
              "#46039f"
             ],
             [
              0.2222222222222222,
              "#7201a8"
             ],
             [
              0.3333333333333333,
              "#9c179e"
             ],
             [
              0.4444444444444444,
              "#bd3786"
             ],
             [
              0.5555555555555556,
              "#d8576b"
             ],
             [
              0.6666666666666666,
              "#ed7953"
             ],
             [
              0.7777777777777778,
              "#fb9f3a"
             ],
             [
              0.8888888888888888,
              "#fdca26"
             ],
             [
              1,
              "#f0f921"
             ]
            ],
            "type": "histogram2dcontour"
           }
          ],
          "mesh3d": [
           {
            "colorbar": {
             "outlinewidth": 0,
             "ticks": ""
            },
            "type": "mesh3d"
           }
          ],
          "parcoords": [
           {
            "line": {
             "colorbar": {
              "outlinewidth": 0,
              "ticks": ""
             }
            },
            "type": "parcoords"
           }
          ],
          "pie": [
           {
            "automargin": true,
            "type": "pie"
           }
          ],
          "scatter": [
           {
            "marker": {
             "colorbar": {
              "outlinewidth": 0,
              "ticks": ""
             }
            },
            "type": "scatter"
           }
          ],
          "scatter3d": [
           {
            "line": {
             "colorbar": {
              "outlinewidth": 0,
              "ticks": ""
             }
            },
            "marker": {
             "colorbar": {
              "outlinewidth": 0,
              "ticks": ""
             }
            },
            "type": "scatter3d"
           }
          ],
          "scattercarpet": [
           {
            "marker": {
             "colorbar": {
              "outlinewidth": 0,
              "ticks": ""
             }
            },
            "type": "scattercarpet"
           }
          ],
          "scattergeo": [
           {
            "marker": {
             "colorbar": {
              "outlinewidth": 0,
              "ticks": ""
             }
            },
            "type": "scattergeo"
           }
          ],
          "scattergl": [
           {
            "marker": {
             "colorbar": {
              "outlinewidth": 0,
              "ticks": ""
             }
            },
            "type": "scattergl"
           }
          ],
          "scattermapbox": [
           {
            "marker": {
             "colorbar": {
              "outlinewidth": 0,
              "ticks": ""
             }
            },
            "type": "scattermapbox"
           }
          ],
          "scatterpolar": [
           {
            "marker": {
             "colorbar": {
              "outlinewidth": 0,
              "ticks": ""
             }
            },
            "type": "scatterpolar"
           }
          ],
          "scatterpolargl": [
           {
            "marker": {
             "colorbar": {
              "outlinewidth": 0,
              "ticks": ""
             }
            },
            "type": "scatterpolargl"
           }
          ],
          "scatterternary": [
           {
            "marker": {
             "colorbar": {
              "outlinewidth": 0,
              "ticks": ""
             }
            },
            "type": "scatterternary"
           }
          ],
          "surface": [
           {
            "colorbar": {
             "outlinewidth": 0,
             "ticks": ""
            },
            "colorscale": [
             [
              0,
              "#0d0887"
             ],
             [
              0.1111111111111111,
              "#46039f"
             ],
             [
              0.2222222222222222,
              "#7201a8"
             ],
             [
              0.3333333333333333,
              "#9c179e"
             ],
             [
              0.4444444444444444,
              "#bd3786"
             ],
             [
              0.5555555555555556,
              "#d8576b"
             ],
             [
              0.6666666666666666,
              "#ed7953"
             ],
             [
              0.7777777777777778,
              "#fb9f3a"
             ],
             [
              0.8888888888888888,
              "#fdca26"
             ],
             [
              1,
              "#f0f921"
             ]
            ],
            "type": "surface"
           }
          ],
          "table": [
           {
            "cells": {
             "fill": {
              "color": "#EBF0F8"
             },
             "line": {
              "color": "white"
             }
            },
            "header": {
             "fill": {
              "color": "#C8D4E3"
             },
             "line": {
              "color": "white"
             }
            },
            "type": "table"
           }
          ]
         },
         "layout": {
          "annotationdefaults": {
           "arrowcolor": "#2a3f5f",
           "arrowhead": 0,
           "arrowwidth": 1
          },
          "coloraxis": {
           "colorbar": {
            "outlinewidth": 0,
            "ticks": ""
           }
          },
          "colorscale": {
           "diverging": [
            [
             0,
             "#8e0152"
            ],
            [
             0.1,
             "#c51b7d"
            ],
            [
             0.2,
             "#de77ae"
            ],
            [
             0.3,
             "#f1b6da"
            ],
            [
             0.4,
             "#fde0ef"
            ],
            [
             0.5,
             "#f7f7f7"
            ],
            [
             0.6,
             "#e6f5d0"
            ],
            [
             0.7,
             "#b8e186"
            ],
            [
             0.8,
             "#7fbc41"
            ],
            [
             0.9,
             "#4d9221"
            ],
            [
             1,
             "#276419"
            ]
           ],
           "sequential": [
            [
             0,
             "#0d0887"
            ],
            [
             0.1111111111111111,
             "#46039f"
            ],
            [
             0.2222222222222222,
             "#7201a8"
            ],
            [
             0.3333333333333333,
             "#9c179e"
            ],
            [
             0.4444444444444444,
             "#bd3786"
            ],
            [
             0.5555555555555556,
             "#d8576b"
            ],
            [
             0.6666666666666666,
             "#ed7953"
            ],
            [
             0.7777777777777778,
             "#fb9f3a"
            ],
            [
             0.8888888888888888,
             "#fdca26"
            ],
            [
             1,
             "#f0f921"
            ]
           ],
           "sequentialminus": [
            [
             0,
             "#0d0887"
            ],
            [
             0.1111111111111111,
             "#46039f"
            ],
            [
             0.2222222222222222,
             "#7201a8"
            ],
            [
             0.3333333333333333,
             "#9c179e"
            ],
            [
             0.4444444444444444,
             "#bd3786"
            ],
            [
             0.5555555555555556,
             "#d8576b"
            ],
            [
             0.6666666666666666,
             "#ed7953"
            ],
            [
             0.7777777777777778,
             "#fb9f3a"
            ],
            [
             0.8888888888888888,
             "#fdca26"
            ],
            [
             1,
             "#f0f921"
            ]
           ]
          },
          "colorway": [
           "#636efa",
           "#EF553B",
           "#00cc96",
           "#ab63fa",
           "#FFA15A",
           "#19d3f3",
           "#FF6692",
           "#B6E880",
           "#FF97FF",
           "#FECB52"
          ],
          "font": {
           "color": "#2a3f5f"
          },
          "geo": {
           "bgcolor": "white",
           "lakecolor": "white",
           "landcolor": "#E5ECF6",
           "showlakes": true,
           "showland": true,
           "subunitcolor": "white"
          },
          "hoverlabel": {
           "align": "left"
          },
          "hovermode": "closest",
          "mapbox": {
           "style": "light"
          },
          "paper_bgcolor": "white",
          "plot_bgcolor": "#E5ECF6",
          "polar": {
           "angularaxis": {
            "gridcolor": "white",
            "linecolor": "white",
            "ticks": ""
           },
           "bgcolor": "#E5ECF6",
           "radialaxis": {
            "gridcolor": "white",
            "linecolor": "white",
            "ticks": ""
           }
          },
          "scene": {
           "xaxis": {
            "backgroundcolor": "#E5ECF6",
            "gridcolor": "white",
            "gridwidth": 2,
            "linecolor": "white",
            "showbackground": true,
            "ticks": "",
            "zerolinecolor": "white"
           },
           "yaxis": {
            "backgroundcolor": "#E5ECF6",
            "gridcolor": "white",
            "gridwidth": 2,
            "linecolor": "white",
            "showbackground": true,
            "ticks": "",
            "zerolinecolor": "white"
           },
           "zaxis": {
            "backgroundcolor": "#E5ECF6",
            "gridcolor": "white",
            "gridwidth": 2,
            "linecolor": "white",
            "showbackground": true,
            "ticks": "",
            "zerolinecolor": "white"
           }
          },
          "shapedefaults": {
           "line": {
            "color": "#2a3f5f"
           }
          },
          "ternary": {
           "aaxis": {
            "gridcolor": "white",
            "linecolor": "white",
            "ticks": ""
           },
           "baxis": {
            "gridcolor": "white",
            "linecolor": "white",
            "ticks": ""
           },
           "bgcolor": "#E5ECF6",
           "caxis": {
            "gridcolor": "white",
            "linecolor": "white",
            "ticks": ""
           }
          },
          "title": {
           "x": 0.05
          },
          "xaxis": {
           "automargin": true,
           "gridcolor": "white",
           "linecolor": "white",
           "ticks": "",
           "title": {
            "standoff": 15
           },
           "zerolinecolor": "white",
           "zerolinewidth": 2
          },
          "yaxis": {
           "automargin": true,
           "gridcolor": "white",
           "linecolor": "white",
           "ticks": "",
           "title": {
            "standoff": 15
           },
           "zerolinecolor": "white",
           "zerolinewidth": 2
          }
         }
        },
        "xaxis": {
         "anchor": "y",
         "domain": [
          0,
          1
         ],
         "title": {
          "text": "x"
         }
        },
        "yaxis": {
         "anchor": "x",
         "domain": [
          0,
          1
         ],
         "title": {
          "text": "r2"
         }
        }
       }
      },
      "text/html": [
       "<div>\n",
       "        \n",
       "        \n",
       "            <div id=\"3147dc41-bb11-4f32-badc-74c246a27d84\" class=\"plotly-graph-div\" style=\"height:525px; width:100%;\"></div>\n",
       "            <script type=\"text/javascript\">\n",
       "                require([\"plotly\"], function(Plotly) {\n",
       "                    window.PLOTLYENV=window.PLOTLYENV || {};\n",
       "                    \n",
       "                if (document.getElementById(\"3147dc41-bb11-4f32-badc-74c246a27d84\")) {\n",
       "                    Plotly.newPlot(\n",
       "                        '3147dc41-bb11-4f32-badc-74c246a27d84',\n",
       "                        [{\"hoverlabel\": {\"namelength\": 0}, \"hovertemplate\": \"x=%{x}<br>r2=%{y}\", \"legendgroup\": \"\", \"line\": {\"color\": \"#636efa\", \"dash\": \"solid\"}, \"mode\": \"lines\", \"name\": \"\", \"showlegend\": false, \"type\": \"scatter\", \"x\": [\"2019-11-03 00:00:00\", \"2019-11-03 01:00:00\", \"2019-11-03 02:00:00\", \"2019-11-03 03:00:00\", \"2019-11-03 04:00:00\", \"2019-11-03 05:00:00\", \"2019-11-03 06:00:00\", \"2019-11-03 07:00:00\", \"2019-11-03 08:00:00\", \"2019-11-03 09:00:00\", \"2019-11-03 10:00:00\", \"2019-11-03 11:00:00\", \"2019-11-03 12:00:00\", \"2019-11-03 13:00:00\", \"2019-11-03 14:00:00\", \"2019-11-03 15:00:00\", \"2019-11-03 16:00:00\", \"2019-11-03 17:00:00\", \"2019-11-03 18:00:00\", \"2019-11-03 19:00:00\", \"2019-11-03 20:00:00\", \"2019-11-03 21:00:00\", \"2019-11-03 22:00:00\", \"2019-11-03 23:00:00\"], \"xaxis\": \"x\", \"y\": [-1.8997261959816991, -2.2257871779050022, -2.7240559688027255, -2.7700711391568604, -3.7112842776063095, -3.9382704790765564, -4.87281689986768, -6.9258761463190375, -7.229179020928472, -4.776297060368996, -3.34433113727835, -2.9051158231089556, -2.76724112319289, -2.717165661501636, -4.012640531164231, -5.070704029633475, -6.696719787580691, -7.987099888590237, -9.804803446330812, -9.793992428869636, -11.821095358353741, -7.488857224390644, -3.828076574658426, -2.7874398797457167], \"yaxis\": \"y\"}],\n",
       "                        {\"legend\": {\"tracegroupgap\": 0}, \"margin\": {\"t\": 60}, \"template\": {\"data\": {\"bar\": [{\"error_x\": {\"color\": \"#2a3f5f\"}, \"error_y\": {\"color\": \"#2a3f5f\"}, \"marker\": {\"line\": {\"color\": \"#E5ECF6\", \"width\": 0.5}}, \"type\": \"bar\"}], \"barpolar\": [{\"marker\": {\"line\": {\"color\": \"#E5ECF6\", \"width\": 0.5}}, \"type\": \"barpolar\"}], \"carpet\": [{\"aaxis\": {\"endlinecolor\": \"#2a3f5f\", \"gridcolor\": \"white\", \"linecolor\": \"white\", \"minorgridcolor\": \"white\", \"startlinecolor\": \"#2a3f5f\"}, \"baxis\": {\"endlinecolor\": \"#2a3f5f\", \"gridcolor\": \"white\", \"linecolor\": \"white\", \"minorgridcolor\": \"white\", \"startlinecolor\": \"#2a3f5f\"}, \"type\": \"carpet\"}], \"choropleth\": [{\"colorbar\": {\"outlinewidth\": 0, \"ticks\": \"\"}, \"type\": \"choropleth\"}], \"contour\": [{\"colorbar\": {\"outlinewidth\": 0, \"ticks\": \"\"}, \"colorscale\": [[0.0, \"#0d0887\"], [0.1111111111111111, \"#46039f\"], [0.2222222222222222, \"#7201a8\"], [0.3333333333333333, \"#9c179e\"], [0.4444444444444444, \"#bd3786\"], [0.5555555555555556, \"#d8576b\"], [0.6666666666666666, \"#ed7953\"], [0.7777777777777778, \"#fb9f3a\"], [0.8888888888888888, \"#fdca26\"], [1.0, \"#f0f921\"]], \"type\": \"contour\"}], \"contourcarpet\": [{\"colorbar\": {\"outlinewidth\": 0, \"ticks\": \"\"}, \"type\": \"contourcarpet\"}], \"heatmap\": [{\"colorbar\": {\"outlinewidth\": 0, \"ticks\": \"\"}, \"colorscale\": [[0.0, \"#0d0887\"], [0.1111111111111111, \"#46039f\"], [0.2222222222222222, \"#7201a8\"], [0.3333333333333333, \"#9c179e\"], [0.4444444444444444, \"#bd3786\"], [0.5555555555555556, \"#d8576b\"], [0.6666666666666666, \"#ed7953\"], [0.7777777777777778, \"#fb9f3a\"], [0.8888888888888888, \"#fdca26\"], [1.0, \"#f0f921\"]], \"type\": \"heatmap\"}], \"heatmapgl\": [{\"colorbar\": {\"outlinewidth\": 0, \"ticks\": \"\"}, \"colorscale\": [[0.0, \"#0d0887\"], [0.1111111111111111, \"#46039f\"], [0.2222222222222222, \"#7201a8\"], [0.3333333333333333, \"#9c179e\"], [0.4444444444444444, \"#bd3786\"], [0.5555555555555556, \"#d8576b\"], [0.6666666666666666, \"#ed7953\"], [0.7777777777777778, \"#fb9f3a\"], [0.8888888888888888, \"#fdca26\"], [1.0, \"#f0f921\"]], \"type\": \"heatmapgl\"}], \"histogram\": [{\"marker\": {\"colorbar\": {\"outlinewidth\": 0, \"ticks\": \"\"}}, \"type\": \"histogram\"}], \"histogram2d\": [{\"colorbar\": {\"outlinewidth\": 0, \"ticks\": \"\"}, \"colorscale\": [[0.0, \"#0d0887\"], [0.1111111111111111, \"#46039f\"], [0.2222222222222222, \"#7201a8\"], [0.3333333333333333, \"#9c179e\"], [0.4444444444444444, \"#bd3786\"], [0.5555555555555556, \"#d8576b\"], [0.6666666666666666, \"#ed7953\"], [0.7777777777777778, \"#fb9f3a\"], [0.8888888888888888, \"#fdca26\"], [1.0, \"#f0f921\"]], \"type\": \"histogram2d\"}], \"histogram2dcontour\": [{\"colorbar\": {\"outlinewidth\": 0, \"ticks\": \"\"}, \"colorscale\": [[0.0, \"#0d0887\"], [0.1111111111111111, \"#46039f\"], [0.2222222222222222, \"#7201a8\"], [0.3333333333333333, \"#9c179e\"], [0.4444444444444444, \"#bd3786\"], [0.5555555555555556, \"#d8576b\"], [0.6666666666666666, \"#ed7953\"], [0.7777777777777778, \"#fb9f3a\"], [0.8888888888888888, \"#fdca26\"], [1.0, \"#f0f921\"]], \"type\": \"histogram2dcontour\"}], \"mesh3d\": [{\"colorbar\": {\"outlinewidth\": 0, \"ticks\": \"\"}, \"type\": \"mesh3d\"}], \"parcoords\": [{\"line\": {\"colorbar\": {\"outlinewidth\": 0, \"ticks\": \"\"}}, \"type\": \"parcoords\"}], \"pie\": [{\"automargin\": true, \"type\": \"pie\"}], \"scatter\": [{\"marker\": {\"colorbar\": {\"outlinewidth\": 0, \"ticks\": \"\"}}, \"type\": \"scatter\"}], \"scatter3d\": [{\"line\": {\"colorbar\": {\"outlinewidth\": 0, \"ticks\": \"\"}}, \"marker\": {\"colorbar\": {\"outlinewidth\": 0, \"ticks\": \"\"}}, \"type\": \"scatter3d\"}], \"scattercarpet\": [{\"marker\": {\"colorbar\": {\"outlinewidth\": 0, \"ticks\": \"\"}}, \"type\": \"scattercarpet\"}], \"scattergeo\": [{\"marker\": {\"colorbar\": {\"outlinewidth\": 0, \"ticks\": \"\"}}, \"type\": \"scattergeo\"}], \"scattergl\": [{\"marker\": {\"colorbar\": {\"outlinewidth\": 0, \"ticks\": \"\"}}, \"type\": \"scattergl\"}], \"scattermapbox\": [{\"marker\": {\"colorbar\": {\"outlinewidth\": 0, \"ticks\": \"\"}}, \"type\": \"scattermapbox\"}], \"scatterpolar\": [{\"marker\": {\"colorbar\": {\"outlinewidth\": 0, \"ticks\": \"\"}}, \"type\": \"scatterpolar\"}], \"scatterpolargl\": [{\"marker\": {\"colorbar\": {\"outlinewidth\": 0, \"ticks\": \"\"}}, \"type\": \"scatterpolargl\"}], \"scatterternary\": [{\"marker\": {\"colorbar\": {\"outlinewidth\": 0, \"ticks\": \"\"}}, \"type\": \"scatterternary\"}], \"surface\": [{\"colorbar\": {\"outlinewidth\": 0, \"ticks\": \"\"}, \"colorscale\": [[0.0, \"#0d0887\"], [0.1111111111111111, \"#46039f\"], [0.2222222222222222, \"#7201a8\"], [0.3333333333333333, \"#9c179e\"], [0.4444444444444444, \"#bd3786\"], [0.5555555555555556, \"#d8576b\"], [0.6666666666666666, \"#ed7953\"], [0.7777777777777778, \"#fb9f3a\"], [0.8888888888888888, \"#fdca26\"], [1.0, \"#f0f921\"]], \"type\": \"surface\"}], \"table\": [{\"cells\": {\"fill\": {\"color\": \"#EBF0F8\"}, \"line\": {\"color\": \"white\"}}, \"header\": {\"fill\": {\"color\": \"#C8D4E3\"}, \"line\": {\"color\": \"white\"}}, \"type\": \"table\"}]}, \"layout\": {\"annotationdefaults\": {\"arrowcolor\": \"#2a3f5f\", \"arrowhead\": 0, \"arrowwidth\": 1}, \"coloraxis\": {\"colorbar\": {\"outlinewidth\": 0, \"ticks\": \"\"}}, \"colorscale\": {\"diverging\": [[0, \"#8e0152\"], [0.1, \"#c51b7d\"], [0.2, \"#de77ae\"], [0.3, \"#f1b6da\"], [0.4, \"#fde0ef\"], [0.5, \"#f7f7f7\"], [0.6, \"#e6f5d0\"], [0.7, \"#b8e186\"], [0.8, \"#7fbc41\"], [0.9, \"#4d9221\"], [1, \"#276419\"]], \"sequential\": [[0.0, \"#0d0887\"], [0.1111111111111111, \"#46039f\"], [0.2222222222222222, \"#7201a8\"], [0.3333333333333333, \"#9c179e\"], [0.4444444444444444, \"#bd3786\"], [0.5555555555555556, \"#d8576b\"], [0.6666666666666666, \"#ed7953\"], [0.7777777777777778, \"#fb9f3a\"], [0.8888888888888888, \"#fdca26\"], [1.0, \"#f0f921\"]], \"sequentialminus\": [[0.0, \"#0d0887\"], [0.1111111111111111, \"#46039f\"], [0.2222222222222222, \"#7201a8\"], [0.3333333333333333, \"#9c179e\"], [0.4444444444444444, \"#bd3786\"], [0.5555555555555556, \"#d8576b\"], [0.6666666666666666, \"#ed7953\"], [0.7777777777777778, \"#fb9f3a\"], [0.8888888888888888, \"#fdca26\"], [1.0, \"#f0f921\"]]}, \"colorway\": [\"#636efa\", \"#EF553B\", \"#00cc96\", \"#ab63fa\", \"#FFA15A\", \"#19d3f3\", \"#FF6692\", \"#B6E880\", \"#FF97FF\", \"#FECB52\"], \"font\": {\"color\": \"#2a3f5f\"}, \"geo\": {\"bgcolor\": \"white\", \"lakecolor\": \"white\", \"landcolor\": \"#E5ECF6\", \"showlakes\": true, \"showland\": true, \"subunitcolor\": \"white\"}, \"hoverlabel\": {\"align\": \"left\"}, \"hovermode\": \"closest\", \"mapbox\": {\"style\": \"light\"}, \"paper_bgcolor\": \"white\", \"plot_bgcolor\": \"#E5ECF6\", \"polar\": {\"angularaxis\": {\"gridcolor\": \"white\", \"linecolor\": \"white\", \"ticks\": \"\"}, \"bgcolor\": \"#E5ECF6\", \"radialaxis\": {\"gridcolor\": \"white\", \"linecolor\": \"white\", \"ticks\": \"\"}}, \"scene\": {\"xaxis\": {\"backgroundcolor\": \"#E5ECF6\", \"gridcolor\": \"white\", \"gridwidth\": 2, \"linecolor\": \"white\", \"showbackground\": true, \"ticks\": \"\", \"zerolinecolor\": \"white\"}, \"yaxis\": {\"backgroundcolor\": \"#E5ECF6\", \"gridcolor\": \"white\", \"gridwidth\": 2, \"linecolor\": \"white\", \"showbackground\": true, \"ticks\": \"\", \"zerolinecolor\": \"white\"}, \"zaxis\": {\"backgroundcolor\": \"#E5ECF6\", \"gridcolor\": \"white\", \"gridwidth\": 2, \"linecolor\": \"white\", \"showbackground\": true, \"ticks\": \"\", \"zerolinecolor\": \"white\"}}, \"shapedefaults\": {\"line\": {\"color\": \"#2a3f5f\"}}, \"ternary\": {\"aaxis\": {\"gridcolor\": \"white\", \"linecolor\": \"white\", \"ticks\": \"\"}, \"baxis\": {\"gridcolor\": \"white\", \"linecolor\": \"white\", \"ticks\": \"\"}, \"bgcolor\": \"#E5ECF6\", \"caxis\": {\"gridcolor\": \"white\", \"linecolor\": \"white\", \"ticks\": \"\"}}, \"title\": {\"x\": 0.05}, \"xaxis\": {\"automargin\": true, \"gridcolor\": \"white\", \"linecolor\": \"white\", \"ticks\": \"\", \"title\": {\"standoff\": 15}, \"zerolinecolor\": \"white\", \"zerolinewidth\": 2}, \"yaxis\": {\"automargin\": true, \"gridcolor\": \"white\", \"linecolor\": \"white\", \"ticks\": \"\", \"title\": {\"standoff\": 15}, \"zerolinecolor\": \"white\", \"zerolinewidth\": 2}}}, \"xaxis\": {\"anchor\": \"y\", \"domain\": [0.0, 1.0], \"title\": {\"text\": \"x\"}}, \"yaxis\": {\"anchor\": \"x\", \"domain\": [0.0, 1.0], \"title\": {\"text\": \"r2\"}}},\n",
       "                        {\"responsive\": true}\n",
       "                    ).then(function(){\n",
       "                            \n",
       "var gd = document.getElementById('3147dc41-bb11-4f32-badc-74c246a27d84');\n",
       "var x = new MutationObserver(function (mutations, observer) {{\n",
       "        var display = window.getComputedStyle(gd).display;\n",
       "        if (!display || display === 'none') {{\n",
       "            console.log([gd, 'removed!']);\n",
       "            Plotly.purge(gd);\n",
       "            observer.disconnect();\n",
       "        }}\n",
       "}});\n",
       "\n",
       "// Listen for the removal of the full notebook cells\n",
       "var notebookContainer = gd.closest('#notebook-container');\n",
       "if (notebookContainer) {{\n",
       "    x.observe(notebookContainer, {childList: true});\n",
       "}}\n",
       "\n",
       "// Listen for the clearing of the current output cell\n",
       "var outputEl = gd.closest('.output');\n",
       "if (outputEl) {{\n",
       "    x.observe(outputEl, {childList: true});\n",
       "}}\n",
       "\n",
       "                        })\n",
       "                };\n",
       "                });\n",
       "            </script>\n",
       "        </div>"
      ]
     },
     "metadata": {},
     "output_type": "display_data"
    }
   ],
   "source": [
    "for model_data in exp.model_data_list:\n",
    "    scores = validation.metrics.measure_scores_by_hour(\n",
    "        model_data.normalised_pred_data_df, validation.metrics.get_metric_methods()\n",
    "    )\n",
    "\n",
    "    fig = px.line(scores, x=scores.index, y=scores.r2)\n",
    "    fig.show()\n"
   ]
  },
  {
   "cell_type": "code",
   "execution_count": 21,
   "metadata": {},
   "outputs": [
    {
     "data": {
      "application/vnd.plotly.v1+json": {
       "config": {
        "plotlyServerURL": "https://plot.ly"
       },
       "data": [
        {
         "name": "experiment 0",
         "type": "scatter",
         "x": [
          "2019-11-03 00:00:00",
          "2019-11-03 01:00:00",
          "2019-11-03 02:00:00",
          "2019-11-03 03:00:00",
          "2019-11-03 04:00:00",
          "2019-11-03 05:00:00",
          "2019-11-03 06:00:00",
          "2019-11-03 07:00:00",
          "2019-11-03 08:00:00",
          "2019-11-03 09:00:00",
          "2019-11-03 10:00:00",
          "2019-11-03 11:00:00",
          "2019-11-03 12:00:00",
          "2019-11-03 13:00:00",
          "2019-11-03 14:00:00",
          "2019-11-03 15:00:00",
          "2019-11-03 16:00:00",
          "2019-11-03 17:00:00",
          "2019-11-03 18:00:00",
          "2019-11-03 19:00:00",
          "2019-11-03 20:00:00",
          "2019-11-03 21:00:00",
          "2019-11-03 22:00:00",
          "2019-11-03 23:00:00"
         ],
         "y": [
          16.182509230121575,
          14.339926924427491,
          14.703152966215205,
          14.201009735307137,
          19.409617090279475,
          23.509691143883472,
          32.0828297297273,
          43.97722052263697,
          43.789266153583135,
          35.73359299374281,
          26.708645240907252,
          28.291415664826445,
          27.58459480377913,
          28.20849808322125,
          32.738333831735666,
          35.82359293738223,
          41.864490608035716,
          43.846587143539054,
          47.48624067295877,
          49.0610089110328,
          50.24423960768486,
          44.666223385319796,
          25.226388062240698,
          19.188083514884138
         ]
        },
        {
         "name": "experiment 1",
         "type": "scatter",
         "x": [
          "2019-11-03 00:00:00",
          "2019-11-03 01:00:00",
          "2019-11-03 02:00:00",
          "2019-11-03 03:00:00",
          "2019-11-03 04:00:00",
          "2019-11-03 05:00:00",
          "2019-11-03 06:00:00",
          "2019-11-03 07:00:00",
          "2019-11-03 08:00:00",
          "2019-11-03 09:00:00",
          "2019-11-03 10:00:00",
          "2019-11-03 11:00:00",
          "2019-11-03 12:00:00",
          "2019-11-03 13:00:00",
          "2019-11-03 14:00:00",
          "2019-11-03 15:00:00",
          "2019-11-03 16:00:00",
          "2019-11-03 17:00:00",
          "2019-11-03 18:00:00",
          "2019-11-03 19:00:00",
          "2019-11-03 20:00:00",
          "2019-11-03 21:00:00",
          "2019-11-03 22:00:00",
          "2019-11-03 23:00:00"
         ],
         "y": [
          16.212286462714005,
          14.335074335394655,
          14.765911063786808,
          14.184992849847113,
          19.43638751282495,
          23.5259349563047,
          32.083945664157085,
          43.99492998938812,
          43.80643518912119,
          35.69260937444086,
          26.745956802423315,
          28.295247972155863,
          27.6239100859327,
          28.21548493853453,
          32.75486131962411,
          35.85489659385538,
          41.89054725337209,
          43.859126513083,
          47.509986822609065,
          49.07386223630349,
          50.26194341918368,
          44.6651815226505,
          25.234452670813248,
          19.188039482420926
         ]
        }
       ],
       "layout": {
        "template": {
         "data": {
          "bar": [
           {
            "error_x": {
             "color": "#2a3f5f"
            },
            "error_y": {
             "color": "#2a3f5f"
            },
            "marker": {
             "line": {
              "color": "#E5ECF6",
              "width": 0.5
             }
            },
            "type": "bar"
           }
          ],
          "barpolar": [
           {
            "marker": {
             "line": {
              "color": "#E5ECF6",
              "width": 0.5
             }
            },
            "type": "barpolar"
           }
          ],
          "carpet": [
           {
            "aaxis": {
             "endlinecolor": "#2a3f5f",
             "gridcolor": "white",
             "linecolor": "white",
             "minorgridcolor": "white",
             "startlinecolor": "#2a3f5f"
            },
            "baxis": {
             "endlinecolor": "#2a3f5f",
             "gridcolor": "white",
             "linecolor": "white",
             "minorgridcolor": "white",
             "startlinecolor": "#2a3f5f"
            },
            "type": "carpet"
           }
          ],
          "choropleth": [
           {
            "colorbar": {
             "outlinewidth": 0,
             "ticks": ""
            },
            "type": "choropleth"
           }
          ],
          "contour": [
           {
            "colorbar": {
             "outlinewidth": 0,
             "ticks": ""
            },
            "colorscale": [
             [
              0,
              "#0d0887"
             ],
             [
              0.1111111111111111,
              "#46039f"
             ],
             [
              0.2222222222222222,
              "#7201a8"
             ],
             [
              0.3333333333333333,
              "#9c179e"
             ],
             [
              0.4444444444444444,
              "#bd3786"
             ],
             [
              0.5555555555555556,
              "#d8576b"
             ],
             [
              0.6666666666666666,
              "#ed7953"
             ],
             [
              0.7777777777777778,
              "#fb9f3a"
             ],
             [
              0.8888888888888888,
              "#fdca26"
             ],
             [
              1,
              "#f0f921"
             ]
            ],
            "type": "contour"
           }
          ],
          "contourcarpet": [
           {
            "colorbar": {
             "outlinewidth": 0,
             "ticks": ""
            },
            "type": "contourcarpet"
           }
          ],
          "heatmap": [
           {
            "colorbar": {
             "outlinewidth": 0,
             "ticks": ""
            },
            "colorscale": [
             [
              0,
              "#0d0887"
             ],
             [
              0.1111111111111111,
              "#46039f"
             ],
             [
              0.2222222222222222,
              "#7201a8"
             ],
             [
              0.3333333333333333,
              "#9c179e"
             ],
             [
              0.4444444444444444,
              "#bd3786"
             ],
             [
              0.5555555555555556,
              "#d8576b"
             ],
             [
              0.6666666666666666,
              "#ed7953"
             ],
             [
              0.7777777777777778,
              "#fb9f3a"
             ],
             [
              0.8888888888888888,
              "#fdca26"
             ],
             [
              1,
              "#f0f921"
             ]
            ],
            "type": "heatmap"
           }
          ],
          "heatmapgl": [
           {
            "colorbar": {
             "outlinewidth": 0,
             "ticks": ""
            },
            "colorscale": [
             [
              0,
              "#0d0887"
             ],
             [
              0.1111111111111111,
              "#46039f"
             ],
             [
              0.2222222222222222,
              "#7201a8"
             ],
             [
              0.3333333333333333,
              "#9c179e"
             ],
             [
              0.4444444444444444,
              "#bd3786"
             ],
             [
              0.5555555555555556,
              "#d8576b"
             ],
             [
              0.6666666666666666,
              "#ed7953"
             ],
             [
              0.7777777777777778,
              "#fb9f3a"
             ],
             [
              0.8888888888888888,
              "#fdca26"
             ],
             [
              1,
              "#f0f921"
             ]
            ],
            "type": "heatmapgl"
           }
          ],
          "histogram": [
           {
            "marker": {
             "colorbar": {
              "outlinewidth": 0,
              "ticks": ""
             }
            },
            "type": "histogram"
           }
          ],
          "histogram2d": [
           {
            "colorbar": {
             "outlinewidth": 0,
             "ticks": ""
            },
            "colorscale": [
             [
              0,
              "#0d0887"
             ],
             [
              0.1111111111111111,
              "#46039f"
             ],
             [
              0.2222222222222222,
              "#7201a8"
             ],
             [
              0.3333333333333333,
              "#9c179e"
             ],
             [
              0.4444444444444444,
              "#bd3786"
             ],
             [
              0.5555555555555556,
              "#d8576b"
             ],
             [
              0.6666666666666666,
              "#ed7953"
             ],
             [
              0.7777777777777778,
              "#fb9f3a"
             ],
             [
              0.8888888888888888,
              "#fdca26"
             ],
             [
              1,
              "#f0f921"
             ]
            ],
            "type": "histogram2d"
           }
          ],
          "histogram2dcontour": [
           {
            "colorbar": {
             "outlinewidth": 0,
             "ticks": ""
            },
            "colorscale": [
             [
              0,
              "#0d0887"
             ],
             [
              0.1111111111111111,
              "#46039f"
             ],
             [
              0.2222222222222222,
              "#7201a8"
             ],
             [
              0.3333333333333333,
              "#9c179e"
             ],
             [
              0.4444444444444444,
              "#bd3786"
             ],
             [
              0.5555555555555556,
              "#d8576b"
             ],
             [
              0.6666666666666666,
              "#ed7953"
             ],
             [
              0.7777777777777778,
              "#fb9f3a"
             ],
             [
              0.8888888888888888,
              "#fdca26"
             ],
             [
              1,
              "#f0f921"
             ]
            ],
            "type": "histogram2dcontour"
           }
          ],
          "mesh3d": [
           {
            "colorbar": {
             "outlinewidth": 0,
             "ticks": ""
            },
            "type": "mesh3d"
           }
          ],
          "parcoords": [
           {
            "line": {
             "colorbar": {
              "outlinewidth": 0,
              "ticks": ""
             }
            },
            "type": "parcoords"
           }
          ],
          "pie": [
           {
            "automargin": true,
            "type": "pie"
           }
          ],
          "scatter": [
           {
            "marker": {
             "colorbar": {
              "outlinewidth": 0,
              "ticks": ""
             }
            },
            "type": "scatter"
           }
          ],
          "scatter3d": [
           {
            "line": {
             "colorbar": {
              "outlinewidth": 0,
              "ticks": ""
             }
            },
            "marker": {
             "colorbar": {
              "outlinewidth": 0,
              "ticks": ""
             }
            },
            "type": "scatter3d"
           }
          ],
          "scattercarpet": [
           {
            "marker": {
             "colorbar": {
              "outlinewidth": 0,
              "ticks": ""
             }
            },
            "type": "scattercarpet"
           }
          ],
          "scattergeo": [
           {
            "marker": {
             "colorbar": {
              "outlinewidth": 0,
              "ticks": ""
             }
            },
            "type": "scattergeo"
           }
          ],
          "scattergl": [
           {
            "marker": {
             "colorbar": {
              "outlinewidth": 0,
              "ticks": ""
             }
            },
            "type": "scattergl"
           }
          ],
          "scattermapbox": [
           {
            "marker": {
             "colorbar": {
              "outlinewidth": 0,
              "ticks": ""
             }
            },
            "type": "scattermapbox"
           }
          ],
          "scatterpolar": [
           {
            "marker": {
             "colorbar": {
              "outlinewidth": 0,
              "ticks": ""
             }
            },
            "type": "scatterpolar"
           }
          ],
          "scatterpolargl": [
           {
            "marker": {
             "colorbar": {
              "outlinewidth": 0,
              "ticks": ""
             }
            },
            "type": "scatterpolargl"
           }
          ],
          "scatterternary": [
           {
            "marker": {
             "colorbar": {
              "outlinewidth": 0,
              "ticks": ""
             }
            },
            "type": "scatterternary"
           }
          ],
          "surface": [
           {
            "colorbar": {
             "outlinewidth": 0,
             "ticks": ""
            },
            "colorscale": [
             [
              0,
              "#0d0887"
             ],
             [
              0.1111111111111111,
              "#46039f"
             ],
             [
              0.2222222222222222,
              "#7201a8"
             ],
             [
              0.3333333333333333,
              "#9c179e"
             ],
             [
              0.4444444444444444,
              "#bd3786"
             ],
             [
              0.5555555555555556,
              "#d8576b"
             ],
             [
              0.6666666666666666,
              "#ed7953"
             ],
             [
              0.7777777777777778,
              "#fb9f3a"
             ],
             [
              0.8888888888888888,
              "#fdca26"
             ],
             [
              1,
              "#f0f921"
             ]
            ],
            "type": "surface"
           }
          ],
          "table": [
           {
            "cells": {
             "fill": {
              "color": "#EBF0F8"
             },
             "line": {
              "color": "white"
             }
            },
            "header": {
             "fill": {
              "color": "#C8D4E3"
             },
             "line": {
              "color": "white"
             }
            },
            "type": "table"
           }
          ]
         },
         "layout": {
          "annotationdefaults": {
           "arrowcolor": "#2a3f5f",
           "arrowhead": 0,
           "arrowwidth": 1
          },
          "coloraxis": {
           "colorbar": {
            "outlinewidth": 0,
            "ticks": ""
           }
          },
          "colorscale": {
           "diverging": [
            [
             0,
             "#8e0152"
            ],
            [
             0.1,
             "#c51b7d"
            ],
            [
             0.2,
             "#de77ae"
            ],
            [
             0.3,
             "#f1b6da"
            ],
            [
             0.4,
             "#fde0ef"
            ],
            [
             0.5,
             "#f7f7f7"
            ],
            [
             0.6,
             "#e6f5d0"
            ],
            [
             0.7,
             "#b8e186"
            ],
            [
             0.8,
             "#7fbc41"
            ],
            [
             0.9,
             "#4d9221"
            ],
            [
             1,
             "#276419"
            ]
           ],
           "sequential": [
            [
             0,
             "#0d0887"
            ],
            [
             0.1111111111111111,
             "#46039f"
            ],
            [
             0.2222222222222222,
             "#7201a8"
            ],
            [
             0.3333333333333333,
             "#9c179e"
            ],
            [
             0.4444444444444444,
             "#bd3786"
            ],
            [
             0.5555555555555556,
             "#d8576b"
            ],
            [
             0.6666666666666666,
             "#ed7953"
            ],
            [
             0.7777777777777778,
             "#fb9f3a"
            ],
            [
             0.8888888888888888,
             "#fdca26"
            ],
            [
             1,
             "#f0f921"
            ]
           ],
           "sequentialminus": [
            [
             0,
             "#0d0887"
            ],
            [
             0.1111111111111111,
             "#46039f"
            ],
            [
             0.2222222222222222,
             "#7201a8"
            ],
            [
             0.3333333333333333,
             "#9c179e"
            ],
            [
             0.4444444444444444,
             "#bd3786"
            ],
            [
             0.5555555555555556,
             "#d8576b"
            ],
            [
             0.6666666666666666,
             "#ed7953"
            ],
            [
             0.7777777777777778,
             "#fb9f3a"
            ],
            [
             0.8888888888888888,
             "#fdca26"
            ],
            [
             1,
             "#f0f921"
            ]
           ]
          },
          "colorway": [
           "#636efa",
           "#EF553B",
           "#00cc96",
           "#ab63fa",
           "#FFA15A",
           "#19d3f3",
           "#FF6692",
           "#B6E880",
           "#FF97FF",
           "#FECB52"
          ],
          "font": {
           "color": "#2a3f5f"
          },
          "geo": {
           "bgcolor": "white",
           "lakecolor": "white",
           "landcolor": "#E5ECF6",
           "showlakes": true,
           "showland": true,
           "subunitcolor": "white"
          },
          "hoverlabel": {
           "align": "left"
          },
          "hovermode": "closest",
          "mapbox": {
           "style": "light"
          },
          "paper_bgcolor": "white",
          "plot_bgcolor": "#E5ECF6",
          "polar": {
           "angularaxis": {
            "gridcolor": "white",
            "linecolor": "white",
            "ticks": ""
           },
           "bgcolor": "#E5ECF6",
           "radialaxis": {
            "gridcolor": "white",
            "linecolor": "white",
            "ticks": ""
           }
          },
          "scene": {
           "xaxis": {
            "backgroundcolor": "#E5ECF6",
            "gridcolor": "white",
            "gridwidth": 2,
            "linecolor": "white",
            "showbackground": true,
            "ticks": "",
            "zerolinecolor": "white"
           },
           "yaxis": {
            "backgroundcolor": "#E5ECF6",
            "gridcolor": "white",
            "gridwidth": 2,
            "linecolor": "white",
            "showbackground": true,
            "ticks": "",
            "zerolinecolor": "white"
           },
           "zaxis": {
            "backgroundcolor": "#E5ECF6",
            "gridcolor": "white",
            "gridwidth": 2,
            "linecolor": "white",
            "showbackground": true,
            "ticks": "",
            "zerolinecolor": "white"
           }
          },
          "shapedefaults": {
           "line": {
            "color": "#2a3f5f"
           }
          },
          "ternary": {
           "aaxis": {
            "gridcolor": "white",
            "linecolor": "white",
            "ticks": ""
           },
           "baxis": {
            "gridcolor": "white",
            "linecolor": "white",
            "ticks": ""
           },
           "bgcolor": "#E5ECF6",
           "caxis": {
            "gridcolor": "white",
            "linecolor": "white",
            "ticks": ""
           }
          },
          "title": {
           "x": 0.05
          },
          "xaxis": {
           "automargin": true,
           "gridcolor": "white",
           "linecolor": "white",
           "ticks": "",
           "title": {
            "standoff": 15
           },
           "zerolinecolor": "white",
           "zerolinewidth": 2
          },
          "yaxis": {
           "automargin": true,
           "gridcolor": "white",
           "linecolor": "white",
           "ticks": "",
           "title": {
            "standoff": 15
           },
           "zerolinecolor": "white",
           "zerolinewidth": 2
          }
         }
        }
       }
      },
      "text/html": [
       "<div>\n",
       "        \n",
       "        \n",
       "            <div id=\"af3ef30b-5733-44d7-bc9e-37498e3f94b7\" class=\"plotly-graph-div\" style=\"height:525px; width:100%;\"></div>\n",
       "            <script type=\"text/javascript\">\n",
       "                require([\"plotly\"], function(Plotly) {\n",
       "                    window.PLOTLYENV=window.PLOTLYENV || {};\n",
       "                    \n",
       "                if (document.getElementById(\"af3ef30b-5733-44d7-bc9e-37498e3f94b7\")) {\n",
       "                    Plotly.newPlot(\n",
       "                        'af3ef30b-5733-44d7-bc9e-37498e3f94b7',\n",
       "                        [{\"name\": \"experiment 0\", \"type\": \"scatter\", \"x\": [\"2019-11-03 00:00:00\", \"2019-11-03 01:00:00\", \"2019-11-03 02:00:00\", \"2019-11-03 03:00:00\", \"2019-11-03 04:00:00\", \"2019-11-03 05:00:00\", \"2019-11-03 06:00:00\", \"2019-11-03 07:00:00\", \"2019-11-03 08:00:00\", \"2019-11-03 09:00:00\", \"2019-11-03 10:00:00\", \"2019-11-03 11:00:00\", \"2019-11-03 12:00:00\", \"2019-11-03 13:00:00\", \"2019-11-03 14:00:00\", \"2019-11-03 15:00:00\", \"2019-11-03 16:00:00\", \"2019-11-03 17:00:00\", \"2019-11-03 18:00:00\", \"2019-11-03 19:00:00\", \"2019-11-03 20:00:00\", \"2019-11-03 21:00:00\", \"2019-11-03 22:00:00\", \"2019-11-03 23:00:00\"], \"y\": [16.182509230121575, 14.339926924427491, 14.703152966215205, 14.201009735307137, 19.409617090279475, 23.509691143883472, 32.0828297297273, 43.97722052263697, 43.789266153583135, 35.73359299374281, 26.708645240907252, 28.291415664826445, 27.58459480377913, 28.20849808322125, 32.738333831735666, 35.82359293738223, 41.864490608035716, 43.846587143539054, 47.48624067295877, 49.0610089110328, 50.24423960768486, 44.666223385319796, 25.226388062240698, 19.188083514884138]}, {\"name\": \"experiment 1\", \"type\": \"scatter\", \"x\": [\"2019-11-03 00:00:00\", \"2019-11-03 01:00:00\", \"2019-11-03 02:00:00\", \"2019-11-03 03:00:00\", \"2019-11-03 04:00:00\", \"2019-11-03 05:00:00\", \"2019-11-03 06:00:00\", \"2019-11-03 07:00:00\", \"2019-11-03 08:00:00\", \"2019-11-03 09:00:00\", \"2019-11-03 10:00:00\", \"2019-11-03 11:00:00\", \"2019-11-03 12:00:00\", \"2019-11-03 13:00:00\", \"2019-11-03 14:00:00\", \"2019-11-03 15:00:00\", \"2019-11-03 16:00:00\", \"2019-11-03 17:00:00\", \"2019-11-03 18:00:00\", \"2019-11-03 19:00:00\", \"2019-11-03 20:00:00\", \"2019-11-03 21:00:00\", \"2019-11-03 22:00:00\", \"2019-11-03 23:00:00\"], \"y\": [16.212286462714005, 14.335074335394655, 14.765911063786808, 14.184992849847113, 19.43638751282495, 23.5259349563047, 32.083945664157085, 43.99492998938812, 43.80643518912119, 35.69260937444086, 26.745956802423315, 28.295247972155863, 27.6239100859327, 28.21548493853453, 32.75486131962411, 35.85489659385538, 41.89054725337209, 43.859126513083, 47.509986822609065, 49.07386223630349, 50.26194341918368, 44.6651815226505, 25.234452670813248, 19.188039482420926]}],\n",
       "                        {\"template\": {\"data\": {\"bar\": [{\"error_x\": {\"color\": \"#2a3f5f\"}, \"error_y\": {\"color\": \"#2a3f5f\"}, \"marker\": {\"line\": {\"color\": \"#E5ECF6\", \"width\": 0.5}}, \"type\": \"bar\"}], \"barpolar\": [{\"marker\": {\"line\": {\"color\": \"#E5ECF6\", \"width\": 0.5}}, \"type\": \"barpolar\"}], \"carpet\": [{\"aaxis\": {\"endlinecolor\": \"#2a3f5f\", \"gridcolor\": \"white\", \"linecolor\": \"white\", \"minorgridcolor\": \"white\", \"startlinecolor\": \"#2a3f5f\"}, \"baxis\": {\"endlinecolor\": \"#2a3f5f\", \"gridcolor\": \"white\", \"linecolor\": \"white\", \"minorgridcolor\": \"white\", \"startlinecolor\": \"#2a3f5f\"}, \"type\": \"carpet\"}], \"choropleth\": [{\"colorbar\": {\"outlinewidth\": 0, \"ticks\": \"\"}, \"type\": \"choropleth\"}], \"contour\": [{\"colorbar\": {\"outlinewidth\": 0, \"ticks\": \"\"}, \"colorscale\": [[0.0, \"#0d0887\"], [0.1111111111111111, \"#46039f\"], [0.2222222222222222, \"#7201a8\"], [0.3333333333333333, \"#9c179e\"], [0.4444444444444444, \"#bd3786\"], [0.5555555555555556, \"#d8576b\"], [0.6666666666666666, \"#ed7953\"], [0.7777777777777778, \"#fb9f3a\"], [0.8888888888888888, \"#fdca26\"], [1.0, \"#f0f921\"]], \"type\": \"contour\"}], \"contourcarpet\": [{\"colorbar\": {\"outlinewidth\": 0, \"ticks\": \"\"}, \"type\": \"contourcarpet\"}], \"heatmap\": [{\"colorbar\": {\"outlinewidth\": 0, \"ticks\": \"\"}, \"colorscale\": [[0.0, \"#0d0887\"], [0.1111111111111111, \"#46039f\"], [0.2222222222222222, \"#7201a8\"], [0.3333333333333333, \"#9c179e\"], [0.4444444444444444, \"#bd3786\"], [0.5555555555555556, \"#d8576b\"], [0.6666666666666666, \"#ed7953\"], [0.7777777777777778, \"#fb9f3a\"], [0.8888888888888888, \"#fdca26\"], [1.0, \"#f0f921\"]], \"type\": \"heatmap\"}], \"heatmapgl\": [{\"colorbar\": {\"outlinewidth\": 0, \"ticks\": \"\"}, \"colorscale\": [[0.0, \"#0d0887\"], [0.1111111111111111, \"#46039f\"], [0.2222222222222222, \"#7201a8\"], [0.3333333333333333, \"#9c179e\"], [0.4444444444444444, \"#bd3786\"], [0.5555555555555556, \"#d8576b\"], [0.6666666666666666, \"#ed7953\"], [0.7777777777777778, \"#fb9f3a\"], [0.8888888888888888, \"#fdca26\"], [1.0, \"#f0f921\"]], \"type\": \"heatmapgl\"}], \"histogram\": [{\"marker\": {\"colorbar\": {\"outlinewidth\": 0, \"ticks\": \"\"}}, \"type\": \"histogram\"}], \"histogram2d\": [{\"colorbar\": {\"outlinewidth\": 0, \"ticks\": \"\"}, \"colorscale\": [[0.0, \"#0d0887\"], [0.1111111111111111, \"#46039f\"], [0.2222222222222222, \"#7201a8\"], [0.3333333333333333, \"#9c179e\"], [0.4444444444444444, \"#bd3786\"], [0.5555555555555556, \"#d8576b\"], [0.6666666666666666, \"#ed7953\"], [0.7777777777777778, \"#fb9f3a\"], [0.8888888888888888, \"#fdca26\"], [1.0, \"#f0f921\"]], \"type\": \"histogram2d\"}], \"histogram2dcontour\": [{\"colorbar\": {\"outlinewidth\": 0, \"ticks\": \"\"}, \"colorscale\": [[0.0, \"#0d0887\"], [0.1111111111111111, \"#46039f\"], [0.2222222222222222, \"#7201a8\"], [0.3333333333333333, \"#9c179e\"], [0.4444444444444444, \"#bd3786\"], [0.5555555555555556, \"#d8576b\"], [0.6666666666666666, \"#ed7953\"], [0.7777777777777778, \"#fb9f3a\"], [0.8888888888888888, \"#fdca26\"], [1.0, \"#f0f921\"]], \"type\": \"histogram2dcontour\"}], \"mesh3d\": [{\"colorbar\": {\"outlinewidth\": 0, \"ticks\": \"\"}, \"type\": \"mesh3d\"}], \"parcoords\": [{\"line\": {\"colorbar\": {\"outlinewidth\": 0, \"ticks\": \"\"}}, \"type\": \"parcoords\"}], \"pie\": [{\"automargin\": true, \"type\": \"pie\"}], \"scatter\": [{\"marker\": {\"colorbar\": {\"outlinewidth\": 0, \"ticks\": \"\"}}, \"type\": \"scatter\"}], \"scatter3d\": [{\"line\": {\"colorbar\": {\"outlinewidth\": 0, \"ticks\": \"\"}}, \"marker\": {\"colorbar\": {\"outlinewidth\": 0, \"ticks\": \"\"}}, \"type\": \"scatter3d\"}], \"scattercarpet\": [{\"marker\": {\"colorbar\": {\"outlinewidth\": 0, \"ticks\": \"\"}}, \"type\": \"scattercarpet\"}], \"scattergeo\": [{\"marker\": {\"colorbar\": {\"outlinewidth\": 0, \"ticks\": \"\"}}, \"type\": \"scattergeo\"}], \"scattergl\": [{\"marker\": {\"colorbar\": {\"outlinewidth\": 0, \"ticks\": \"\"}}, \"type\": \"scattergl\"}], \"scattermapbox\": [{\"marker\": {\"colorbar\": {\"outlinewidth\": 0, \"ticks\": \"\"}}, \"type\": \"scattermapbox\"}], \"scatterpolar\": [{\"marker\": {\"colorbar\": {\"outlinewidth\": 0, \"ticks\": \"\"}}, \"type\": \"scatterpolar\"}], \"scatterpolargl\": [{\"marker\": {\"colorbar\": {\"outlinewidth\": 0, \"ticks\": \"\"}}, \"type\": \"scatterpolargl\"}], \"scatterternary\": [{\"marker\": {\"colorbar\": {\"outlinewidth\": 0, \"ticks\": \"\"}}, \"type\": \"scatterternary\"}], \"surface\": [{\"colorbar\": {\"outlinewidth\": 0, \"ticks\": \"\"}, \"colorscale\": [[0.0, \"#0d0887\"], [0.1111111111111111, \"#46039f\"], [0.2222222222222222, \"#7201a8\"], [0.3333333333333333, \"#9c179e\"], [0.4444444444444444, \"#bd3786\"], [0.5555555555555556, \"#d8576b\"], [0.6666666666666666, \"#ed7953\"], [0.7777777777777778, \"#fb9f3a\"], [0.8888888888888888, \"#fdca26\"], [1.0, \"#f0f921\"]], \"type\": \"surface\"}], \"table\": [{\"cells\": {\"fill\": {\"color\": \"#EBF0F8\"}, \"line\": {\"color\": \"white\"}}, \"header\": {\"fill\": {\"color\": \"#C8D4E3\"}, \"line\": {\"color\": \"white\"}}, \"type\": \"table\"}]}, \"layout\": {\"annotationdefaults\": {\"arrowcolor\": \"#2a3f5f\", \"arrowhead\": 0, \"arrowwidth\": 1}, \"coloraxis\": {\"colorbar\": {\"outlinewidth\": 0, \"ticks\": \"\"}}, \"colorscale\": {\"diverging\": [[0, \"#8e0152\"], [0.1, \"#c51b7d\"], [0.2, \"#de77ae\"], [0.3, \"#f1b6da\"], [0.4, \"#fde0ef\"], [0.5, \"#f7f7f7\"], [0.6, \"#e6f5d0\"], [0.7, \"#b8e186\"], [0.8, \"#7fbc41\"], [0.9, \"#4d9221\"], [1, \"#276419\"]], \"sequential\": [[0.0, \"#0d0887\"], [0.1111111111111111, \"#46039f\"], [0.2222222222222222, \"#7201a8\"], [0.3333333333333333, \"#9c179e\"], [0.4444444444444444, \"#bd3786\"], [0.5555555555555556, \"#d8576b\"], [0.6666666666666666, \"#ed7953\"], [0.7777777777777778, \"#fb9f3a\"], [0.8888888888888888, \"#fdca26\"], [1.0, \"#f0f921\"]], \"sequentialminus\": [[0.0, \"#0d0887\"], [0.1111111111111111, \"#46039f\"], [0.2222222222222222, \"#7201a8\"], [0.3333333333333333, \"#9c179e\"], [0.4444444444444444, \"#bd3786\"], [0.5555555555555556, \"#d8576b\"], [0.6666666666666666, \"#ed7953\"], [0.7777777777777778, \"#fb9f3a\"], [0.8888888888888888, \"#fdca26\"], [1.0, \"#f0f921\"]]}, \"colorway\": [\"#636efa\", \"#EF553B\", \"#00cc96\", \"#ab63fa\", \"#FFA15A\", \"#19d3f3\", \"#FF6692\", \"#B6E880\", \"#FF97FF\", \"#FECB52\"], \"font\": {\"color\": \"#2a3f5f\"}, \"geo\": {\"bgcolor\": \"white\", \"lakecolor\": \"white\", \"landcolor\": \"#E5ECF6\", \"showlakes\": true, \"showland\": true, \"subunitcolor\": \"white\"}, \"hoverlabel\": {\"align\": \"left\"}, \"hovermode\": \"closest\", \"mapbox\": {\"style\": \"light\"}, \"paper_bgcolor\": \"white\", \"plot_bgcolor\": \"#E5ECF6\", \"polar\": {\"angularaxis\": {\"gridcolor\": \"white\", \"linecolor\": \"white\", \"ticks\": \"\"}, \"bgcolor\": \"#E5ECF6\", \"radialaxis\": {\"gridcolor\": \"white\", \"linecolor\": \"white\", \"ticks\": \"\"}}, \"scene\": {\"xaxis\": {\"backgroundcolor\": \"#E5ECF6\", \"gridcolor\": \"white\", \"gridwidth\": 2, \"linecolor\": \"white\", \"showbackground\": true, \"ticks\": \"\", \"zerolinecolor\": \"white\"}, \"yaxis\": {\"backgroundcolor\": \"#E5ECF6\", \"gridcolor\": \"white\", \"gridwidth\": 2, \"linecolor\": \"white\", \"showbackground\": true, \"ticks\": \"\", \"zerolinecolor\": \"white\"}, \"zaxis\": {\"backgroundcolor\": \"#E5ECF6\", \"gridcolor\": \"white\", \"gridwidth\": 2, \"linecolor\": \"white\", \"showbackground\": true, \"ticks\": \"\", \"zerolinecolor\": \"white\"}}, \"shapedefaults\": {\"line\": {\"color\": \"#2a3f5f\"}}, \"ternary\": {\"aaxis\": {\"gridcolor\": \"white\", \"linecolor\": \"white\", \"ticks\": \"\"}, \"baxis\": {\"gridcolor\": \"white\", \"linecolor\": \"white\", \"ticks\": \"\"}, \"bgcolor\": \"#E5ECF6\", \"caxis\": {\"gridcolor\": \"white\", \"linecolor\": \"white\", \"ticks\": \"\"}}, \"title\": {\"x\": 0.05}, \"xaxis\": {\"automargin\": true, \"gridcolor\": \"white\", \"linecolor\": \"white\", \"ticks\": \"\", \"title\": {\"standoff\": 15}, \"zerolinecolor\": \"white\", \"zerolinewidth\": 2}, \"yaxis\": {\"automargin\": true, \"gridcolor\": \"white\", \"linecolor\": \"white\", \"ticks\": \"\", \"title\": {\"standoff\": 15}, \"zerolinecolor\": \"white\", \"zerolinewidth\": 2}}}},\n",
       "                        {\"responsive\": true}\n",
       "                    ).then(function(){\n",
       "                            \n",
       "var gd = document.getElementById('af3ef30b-5733-44d7-bc9e-37498e3f94b7');\n",
       "var x = new MutationObserver(function (mutations, observer) {{\n",
       "        var display = window.getComputedStyle(gd).display;\n",
       "        if (!display || display === 'none') {{\n",
       "            console.log([gd, 'removed!']);\n",
       "            Plotly.purge(gd);\n",
       "            observer.disconnect();\n",
       "        }}\n",
       "}});\n",
       "\n",
       "// Listen for the removal of the full notebook cells\n",
       "var notebookContainer = gd.closest('#notebook-container');\n",
       "if (notebookContainer) {{\n",
       "    x.observe(notebookContainer, {childList: true});\n",
       "}}\n",
       "\n",
       "// Listen for the clearing of the current output cell\n",
       "var outputEl = gd.closest('.output');\n",
       "if (outputEl) {{\n",
       "    x.observe(outputEl, {childList: true});\n",
       "}}\n",
       "\n",
       "                        })\n",
       "                };\n",
       "                });\n",
       "            </script>\n",
       "        </div>"
      ]
     },
     "metadata": {},
     "output_type": "display_data"
    }
   ],
   "source": [
    "fig = go.Figure()\n",
    "i = 0\n",
    "for model_data in exp.model_data_list:\n",
    "    scores = validation.metrics.measure_scores_by_hour(\n",
    "        model_data.normalised_pred_data_df, validation.metrics.get_metric_methods()\n",
    "    )\n",
    "\n",
    "    fig.add_trace(go.Scatter(x=scores.index, y=scores.mae, name='experiment {i}'.format(i=i)))\n",
    "    if i > 0:\n",
    "        break\n",
    "    i += 1\n",
    "\n",
    "fig.show()"
   ]
  },
  {
   "cell_type": "code",
   "execution_count": 22,
   "metadata": {},
   "outputs": [],
   "source": [
    "def get_LAQN_sensor_info(secret_fp):\n",
    "\n",
    "    db_reader = DBReader(secretfile=secret_fp)\n",
    "\n",
    "    with db_reader.dbcnxn.open_session() as session:\n",
    "        \n",
    "        LAQN_table = session.query(LAQNSite)\n",
    "\n",
    "        return pd.read_sql(LAQN_table.statement, LAQN_table.session.bind)"
   ]
  },
  {
   "cell_type": "code",
   "execution_count": 23,
   "metadata": {},
   "outputs": [],
   "source": [
    "sensor_df = get_LAQN_sensor_info('../../terraform/.secrets/db_secrets.json')"
   ]
  },
  {
   "cell_type": "code",
   "execution_count": 54,
   "metadata": {},
   "outputs": [
    {
     "name": "stdout",
     "output_type": "stream",
     "text": [
      "Index(['point_id', 'measurement_start_utc', 'source', 'location', 'in_london',\n",
      "       'lon', 'lat', 'date_opened', 'date_closed', 'value_1000_flat',\n",
      "       'value_500_flat', 'value_200_flat', 'value_100_flat', 'value_10_flat',\n",
      "       'epoch', 'NO2', 'epoch_norm', 'lat_norm', 'lon_norm',\n",
      "       'value_1000_flat_norm', 'NO2_mean', 'NO2_var'],\n",
      "      dtype='object')\n"
     ]
    },
    {
     "data": {
      "application/vnd.plotly.v1+json": {
       "config": {
        "plotlyServerURL": "https://plot.ly"
       },
       "data": [
        {
         "lat": [
          51.512999883209496,
          51.512999883209496,
          51.512999883209496,
          51.512999883209496,
          51.512999883209496,
          51.512999883209496,
          51.512999883209496,
          51.512999883209496,
          51.512999883209496,
          51.512999883209496,
          51.512999883209496,
          51.512999883209496,
          51.512999883209496,
          51.512999883209496,
          51.512999883209496,
          51.512999883209496,
          51.512999883209496,
          51.512999883209496,
          51.512999883209496,
          51.512999883209496,
          51.512999883209496,
          51.512999883209496,
          51.512999883209496,
          51.512999883209496,
          51.512999883209496,
          51.512999883209496,
          51.512999883209496,
          51.512999883209496,
          51.512999883209496,
          51.512999883209496,
          51.512999883209496,
          51.512999883209496,
          51.512999883209496,
          51.512999883209496,
          51.512999883209496,
          51.512999883209496,
          51.512999883209496,
          51.512999883209496,
          51.512999883209496,
          51.512999883209496,
          51.512999883209496,
          51.512999883209496,
          51.512999883209496,
          51.512999883209496,
          51.512999883209496,
          51.512999883209496,
          51.512999883209496,
          51.512999883209496,
          51.512999883209496,
          51.512999883209496,
          51.512999883209496,
          51.512999883209496,
          51.512999883209496,
          51.512999883209496,
          51.512999883209496,
          51.512999883209496,
          51.512999883209496,
          51.512999883209496,
          51.512999883209496,
          51.512999883209496,
          51.512999883209496,
          51.512999883209496,
          51.512999883209496,
          51.512999883209496,
          51.512999883209496,
          51.512999883209496,
          51.512999883209496,
          51.512999883209496,
          51.512999883209496,
          51.512999883209496,
          51.512999883209496,
          51.512999883209496,
          51.512999883209496,
          51.512999883209496,
          51.512999883209496,
          51.512999883209496,
          51.512999883209496,
          51.512999883209496,
          51.512999883209496,
          51.512999883209496,
          51.512999883209496,
          51.512999883209496,
          51.512999883209496,
          51.512999883209496,
          51.512999883209496,
          51.512999883209496,
          51.512999883209496,
          51.512999883209496,
          51.512999883209496,
          51.512999883209496,
          51.512999883209496,
          51.512999883209496,
          51.512999883209496,
          51.512999883209496,
          51.512999883209496,
          51.512999883209496,
          51.53085,
          51.53085,
          51.53085,
          51.53085,
          51.53085,
          51.53085,
          51.53085,
          51.53085,
          51.53085,
          51.53085,
          51.53085,
          51.53085,
          51.53085,
          51.53085,
          51.53085,
          51.53085,
          51.53085,
          51.53085,
          51.53085,
          51.53085,
          51.53085,
          51.53085,
          51.53085,
          51.53085,
          51.40162,
          51.40162,
          51.40162,
          51.40162,
          51.40162,
          51.40162,
          51.40162,
          51.40162,
          51.40162,
          51.40162,
          51.40162,
          51.40162,
          51.40162,
          51.40162,
          51.40162,
          51.40162,
          51.40162,
          51.40162,
          51.40162,
          51.40162,
          51.40162,
          51.40162,
          51.40162,
          51.40162,
          51.614864007,
          51.614864007,
          51.614864007,
          51.614864007,
          51.614864007,
          51.614864007,
          51.614864007,
          51.614864007,
          51.614864007,
          51.614864007,
          51.614864007,
          51.614864007,
          51.614864007,
          51.614864007,
          51.614864007,
          51.614864007,
          51.614864007,
          51.614864007,
          51.614864007,
          51.614864007,
          51.614864007,
          51.614864007,
          51.614864007,
          51.614864007,
          51.537799,
          51.537799,
          51.537799,
          51.537799,
          51.537799,
          51.537799,
          51.537799,
          51.537799,
          51.537799,
          51.537799,
          51.537799,
          51.537799,
          51.537799,
          51.537799,
          51.537799,
          51.537799,
          51.537799,
          51.537799,
          51.537799,
          51.537799,
          51.537799,
          51.537799,
          51.537799,
          51.537799,
          51.5173675146177,
          51.5173675146177,
          51.5173675146177,
          51.5173675146177,
          51.5173675146177,
          51.5173675146177,
          51.5173675146177,
          51.5173675146177,
          51.5173675146177,
          51.5173675146177,
          51.5173675146177,
          51.5173675146177,
          51.5173675146177,
          51.5173675146177,
          51.5173675146177,
          51.5173675146177,
          51.5173675146177,
          51.5173675146177,
          51.5173675146177,
          51.5173675146177,
          51.5173675146177,
          51.5173675146177,
          51.5173675146177,
          51.5173675146177,
          51.486957000000004,
          51.486957000000004,
          51.486957000000004,
          51.486957000000004,
          51.486957000000004,
          51.486957000000004,
          51.486957000000004,
          51.486957000000004,
          51.486957000000004,
          51.486957000000004,
          51.486957000000004,
          51.486957000000004,
          51.486957000000004,
          51.486957000000004,
          51.486957000000004,
          51.486957000000004,
          51.486957000000004,
          51.486957000000004,
          51.486957000000004,
          51.486957000000004,
          51.486957000000004,
          51.486957000000004,
          51.486957000000004,
          51.486957000000004,
          51.487989,
          51.487989,
          51.487989,
          51.487989,
          51.487989,
          51.487989,
          51.487989,
          51.487989,
          51.487989,
          51.487989,
          51.487989,
          51.487989,
          51.487989,
          51.487989,
          51.487989,
          51.487989,
          51.487989,
          51.487989,
          51.487989,
          51.487989,
          51.487989,
          51.487989,
          51.487989,
          51.487989,
          51.47953128382029,
          51.47953128382029,
          51.47953128382029,
          51.47953128382029,
          51.47953128382029,
          51.47953128382029,
          51.47953128382029,
          51.47953128382029,
          51.47953128382029,
          51.47953128382029,
          51.47953128382029,
          51.47953128382029,
          51.47953128382029,
          51.47953128382029,
          51.47953128382029,
          51.47953128382029,
          51.47953128382029,
          51.47953128382029,
          51.47953128382029,
          51.47953128382029,
          51.47953128382029,
          51.47953128382029,
          51.47953128382029,
          51.47953128382029,
          51.481071,
          51.481071,
          51.481071,
          51.481071,
          51.481071,
          51.481071,
          51.481071,
          51.481071,
          51.481071,
          51.481071,
          51.481071,
          51.481071,
          51.481071,
          51.481071,
          51.481071,
          51.481071,
          51.481071,
          51.481071,
          51.481071,
          51.481071,
          51.481071,
          51.481071,
          51.481071,
          51.481071,
          51.487534000000004,
          51.487534000000004,
          51.487534000000004,
          51.487534000000004,
          51.487534000000004,
          51.487534000000004,
          51.487534000000004,
          51.487534000000004,
          51.487534000000004,
          51.487534000000004,
          51.487534000000004,
          51.487534000000004,
          51.487534000000004,
          51.487534000000004,
          51.487534000000004,
          51.487534000000004,
          51.487534000000004,
          51.487534000000004,
          51.487534000000004,
          51.487534000000004,
          51.487534000000004,
          51.487534000000004,
          51.487534000000004,
          51.487534000000004,
          51.453142251100395,
          51.453142251100395,
          51.453142251100395,
          51.453142251100395,
          51.453142251100395,
          51.453142251100395,
          51.453142251100395,
          51.453142251100395,
          51.453142251100395,
          51.453142251100395,
          51.453142251100395,
          51.453142251100395,
          51.453142251100395,
          51.453142251100395,
          51.453142251100395,
          51.453142251100395,
          51.453142251100395,
          51.453142251100395,
          51.453142251100395,
          51.453142251100395,
          51.453142251100395,
          51.453142251100395,
          51.453142251100395,
          51.453142251100395,
          51.599302,
          51.599302,
          51.599302,
          51.599302,
          51.599302,
          51.599302,
          51.599302,
          51.599302,
          51.599302,
          51.599302,
          51.599302,
          51.599302,
          51.599302,
          51.599302,
          51.599302,
          51.599302,
          51.599302,
          51.599302,
          51.599302,
          51.599302,
          51.599302,
          51.599302,
          51.599302,
          51.599302,
          51.513847178423006,
          51.513847178423006,
          51.513847178423006,
          51.513847178423006,
          51.513847178423006,
          51.513847178423006,
          51.513847178423006,
          51.513847178423006,
          51.513847178423006,
          51.513847178423006,
          51.513847178423006,
          51.513847178423006,
          51.513847178423006,
          51.513847178423006,
          51.513847178423006,
          51.513847178423006,
          51.513847178423006,
          51.513847178423006,
          51.513847178423006,
          51.513847178423006,
          51.513847178423006,
          51.513847178423006,
          51.513847178423006,
          51.513847178423006,
          51.588417,
          51.588417,
          51.588417,
          51.588417,
          51.588417,
          51.588417,
          51.588417,
          51.588417,
          51.588417,
          51.588417,
          51.588417,
          51.588417,
          51.588417,
          51.588417,
          51.588417,
          51.588417,
          51.588417,
          51.588417,
          51.588417,
          51.588417,
          51.588417,
          51.588417,
          51.588417,
          51.588417,
          51.490532,
          51.490532,
          51.490532,
          51.490532,
          51.490532,
          51.490532,
          51.490532,
          51.490532,
          51.490532,
          51.490532,
          51.490532,
          51.490532,
          51.490532,
          51.490532,
          51.490532,
          51.490532,
          51.490532,
          51.490532,
          51.490532,
          51.490532,
          51.490532,
          51.490532,
          51.490532,
          51.490532,
          51.515046000000005,
          51.515046000000005,
          51.515046000000005,
          51.515046000000005,
          51.515046000000005,
          51.515046000000005,
          51.515046000000005,
          51.515046000000005,
          51.515046000000005,
          51.515046000000005,
          51.515046000000005,
          51.515046000000005,
          51.515046000000005,
          51.515046000000005,
          51.515046000000005,
          51.515046000000005,
          51.515046000000005,
          51.515046000000005,
          51.515046000000005,
          51.515046000000005,
          51.515046000000005,
          51.515046000000005,
          51.515046000000005,
          51.515046000000005,
          51.489398,
          51.489398,
          51.489398,
          51.489398,
          51.489398,
          51.489398,
          51.489398,
          51.489398,
          51.489398,
          51.489398,
          51.489398,
          51.489398,
          51.489398,
          51.489398,
          51.489398,
          51.489398,
          51.489398,
          51.489398,
          51.489398,
          51.489398,
          51.489398,
          51.489398,
          51.489398,
          51.489398,
          51.487437,
          51.487437,
          51.487437,
          51.487437,
          51.487437,
          51.487437,
          51.487437,
          51.487437,
          51.487437,
          51.487437,
          51.487437,
          51.487437,
          51.487437,
          51.487437,
          51.487437,
          51.487437,
          51.487437,
          51.487437,
          51.487437,
          51.487437,
          51.487437,
          51.487437,
          51.487437,
          51.487437,
          51.6450367266602,
          51.6450367266602,
          51.6450367266602,
          51.6450367266602,
          51.6450367266602,
          51.6450367266602,
          51.6450367266602,
          51.6450367266602,
          51.6450367266602,
          51.6450367266602,
          51.6450367266602,
          51.6450367266602,
          51.6450367266602,
          51.6450367266602,
          51.6450367266602,
          51.6450367266602,
          51.6450367266602,
          51.6450367266602,
          51.6450367266602,
          51.6450367266602,
          51.6450367266602,
          51.6450367266602,
          51.6450367266602,
          51.6450367266602,
          51.490198,
          51.490198,
          51.490198,
          51.490198,
          51.490198,
          51.490198,
          51.490198,
          51.490198,
          51.490198,
          51.490198,
          51.490198,
          51.490198,
          51.490198,
          51.490198,
          51.490198,
          51.490198,
          51.490198,
          51.490198,
          51.490198,
          51.490198,
          51.490198,
          51.490198,
          51.490198,
          51.490198,
          51.3586596124998,
          51.3586596124998,
          51.3586596124998,
          51.3586596124998,
          51.3586596124998,
          51.3586596124998,
          51.3586596124998,
          51.3586596124998,
          51.3586596124998,
          51.3586596124998,
          51.3586596124998,
          51.3586596124998,
          51.3586596124998,
          51.3586596124998,
          51.3586596124998,
          51.3586596124998,
          51.3586596124998,
          51.3586596124998,
          51.3586596124998,
          51.3586596124998,
          51.3586596124998,
          51.3586596124998,
          51.3586596124998,
          51.3586596124998,
          51.521046747603904,
          51.521046747603904,
          51.521046747603904,
          51.521046747603904,
          51.521046747603904,
          51.521046747603904,
          51.521046747603904,
          51.521046747603904,
          51.521046747603904,
          51.521046747603904,
          51.521046747603904,
          51.521046747603904,
          51.521046747603904,
          51.521046747603904,
          51.521046747603904,
          51.521046747603904,
          51.521046747603904,
          51.521046747603904,
          51.521046747603904,
          51.521046747603904,
          51.521046747603904,
          51.521046747603904,
          51.521046747603904,
          51.521046747603904,
          51.521046747603904,
          51.521046747603904,
          51.521046747603904,
          51.521046747603904,
          51.521046747603904,
          51.521046747603904,
          51.521046747603904,
          51.521046747603904,
          51.521046747603904,
          51.521046747603904,
          51.521046747603904,
          51.521046747603904,
          51.521046747603904,
          51.521046747603904,
          51.521046747603904,
          51.521046747603904,
          51.521046747603904,
          51.521046747603904,
          51.521046747603904,
          51.521046747603904,
          51.521046747603904,
          51.521046747603904,
          51.521046747603904,
          51.521046747603904,
          51.521046747603904,
          51.521046747603904,
          51.521046747603904,
          51.521046747603904,
          51.521046747603904,
          51.521046747603904,
          51.521046747603904,
          51.521046747603904,
          51.521046747603904,
          51.521046747603904,
          51.521046747603904,
          51.521046747603904,
          51.521046747603904,
          51.521046747603904,
          51.521046747603904,
          51.521046747603904,
          51.521046747603904,
          51.521046747603904,
          51.521046747603904,
          51.521046747603904,
          51.521046747603904,
          51.521046747603904,
          51.521046747603904,
          51.521046747603904,
          51.521046747603904,
          51.521046747603904,
          51.521046747603904,
          51.521046747603904,
          51.521046747603904,
          51.521046747603904,
          51.521046747603904,
          51.521046747603904,
          51.521046747603904,
          51.521046747603904,
          51.521046747603904,
          51.521046747603904,
          51.521046747603904,
          51.521046747603904,
          51.521046747603904,
          51.521046747603904,
          51.521046747603904,
          51.521046747603904,
          51.521046747603904,
          51.521046747603904,
          51.521046747603904,
          51.521046747603904,
          51.521046747603904,
          51.521046747603904,
          51.515046167401294,
          51.515046167401294,
          51.515046167401294,
          51.515046167401294,
          51.515046167401294,
          51.515046167401294,
          51.515046167401294,
          51.515046167401294,
          51.515046167401294,
          51.515046167401294,
          51.515046167401294,
          51.515046167401294,
          51.515046167401294,
          51.515046167401294,
          51.515046167401294,
          51.515046167401294,
          51.515046167401294,
          51.515046167401294,
          51.515046167401294,
          51.515046167401294,
          51.515046167401294,
          51.515046167401294,
          51.515046167401294,
          51.515046167401294,
          51.4346627060562,
          51.4346627060562,
          51.4346627060562,
          51.4346627060562,
          51.4346627060562,
          51.4346627060562,
          51.4346627060562,
          51.4346627060562,
          51.4346627060562,
          51.4346627060562,
          51.4346627060562,
          51.4346627060562,
          51.4346627060562,
          51.4346627060562,
          51.4346627060562,
          51.4346627060562,
          51.4346627060562,
          51.4346627060562,
          51.4346627060562,
          51.4346627060562,
          51.4346627060562,
          51.4346627060562,
          51.4346627060562,
          51.4346627060562,
          51.562376,
          51.562376,
          51.562376,
          51.562376,
          51.562376,
          51.562376,
          51.562376,
          51.562376,
          51.562376,
          51.562376,
          51.562376,
          51.562376,
          51.562376,
          51.562376,
          51.562376,
          51.562376,
          51.562376,
          51.562376,
          51.562376,
          51.562376,
          51.562376,
          51.562376,
          51.562376,
          51.562376,
          51.3739530635378,
          51.3739530635378,
          51.3739530635378,
          51.3739530635378,
          51.3739530635378,
          51.3739530635378,
          51.3739530635378,
          51.3739530635378,
          51.3739530635378,
          51.3739530635378,
          51.3739530635378,
          51.3739530635378,
          51.3739530635378,
          51.3739530635378,
          51.3739530635378,
          51.3739530635378,
          51.3739530635378,
          51.3739530635378,
          51.3739530635378,
          51.3739530635378,
          51.3739530635378,
          51.3739530635378,
          51.3739530635378,
          51.3739530635378,
          51.617327,
          51.617327,
          51.617327,
          51.617327,
          51.617327,
          51.617327,
          51.617327,
          51.617327,
          51.617327,
          51.617327,
          51.617327,
          51.617327,
          51.617327,
          51.617327,
          51.617327,
          51.617327,
          51.617327,
          51.617327,
          51.617327,
          51.617327,
          51.617327,
          51.617327,
          51.617327,
          51.617327,
          51.511976982579796,
          51.511976982579796,
          51.511976982579796,
          51.511976982579796,
          51.511976982579796,
          51.511976982579796,
          51.511976982579796,
          51.511976982579796,
          51.511976982579796,
          51.511976982579796,
          51.511976982579796,
          51.511976982579796,
          51.511976982579796,
          51.511976982579796,
          51.511976982579796,
          51.511976982579796,
          51.511976982579796,
          51.511976982579796,
          51.511976982579796,
          51.511976982579796,
          51.511976982579796,
          51.511976982579796,
          51.511976982579796,
          51.511976982579796,
          51.659803000000004,
          51.659803000000004,
          51.659803000000004,
          51.659803000000004,
          51.659803000000004,
          51.659803000000004,
          51.659803000000004,
          51.659803000000004,
          51.659803000000004,
          51.659803000000004,
          51.659803000000004,
          51.659803000000004,
          51.659803000000004,
          51.659803000000004,
          51.659803000000004,
          51.659803000000004,
          51.659803000000004,
          51.659803000000004,
          51.659803000000004,
          51.659803000000004,
          51.659803000000004,
          51.659803000000004,
          51.659803000000004,
          51.659803000000004,
          51.55226,
          51.55226,
          51.55226,
          51.55226,
          51.55226,
          51.55226,
          51.55226,
          51.55226,
          51.55226,
          51.55226,
          51.55226,
          51.55226,
          51.55226,
          51.55226,
          51.55226,
          51.55226,
          51.55226,
          51.55226,
          51.55226,
          51.55226,
          51.55226,
          51.55226,
          51.55226,
          51.55226,
          51.42025,
          51.42025,
          51.42025,
          51.42025,
          51.42025,
          51.42025,
          51.42025,
          51.42025,
          51.42025,
          51.42025,
          51.42025,
          51.42025,
          51.42025,
          51.42025,
          51.42025,
          51.42025,
          51.42025,
          51.42025,
          51.42025,
          51.42025,
          51.42025,
          51.42025,
          51.42025,
          51.42025,
          51.405546,
          51.405546,
          51.405546,
          51.405546,
          51.405546,
          51.405546,
          51.405546,
          51.405546,
          51.405546,
          51.405546,
          51.405546,
          51.405546,
          51.405546,
          51.405546,
          51.405546,
          51.405546,
          51.405546,
          51.405546,
          51.405546,
          51.405546,
          51.405546,
          51.405546,
          51.405546,
          51.405546,
          51.556239,
          51.556239,
          51.556239,
          51.556239,
          51.556239,
          51.556239,
          51.556239,
          51.556239,
          51.556239,
          51.556239,
          51.556239,
          51.556239,
          51.556239,
          51.556239,
          51.556239,
          51.556239,
          51.556239,
          51.556239,
          51.556239,
          51.556239,
          51.556239,
          51.556239,
          51.556239,
          51.556239,
          51.5168016452062,
          51.5168016452062,
          51.5168016452062,
          51.5168016452062,
          51.5168016452062,
          51.5168016452062,
          51.5168016452062,
          51.5168016452062,
          51.5168016452062,
          51.5168016452062,
          51.5168016452062,
          51.5168016452062,
          51.5168016452062,
          51.5168016452062,
          51.5168016452062,
          51.5168016452062,
          51.5168016452062,
          51.5168016452062,
          51.5168016452062,
          51.5168016452062,
          51.5168016452062,
          51.5168016452062,
          51.5168016452062,
          51.5168016452062,
          51.377922999999996,
          51.377922999999996,
          51.377922999999996,
          51.377922999999996,
          51.377922999999996,
          51.377922999999996,
          51.377922999999996,
          51.377922999999996,
          51.377922999999996,
          51.377922999999996,
          51.377922999999996,
          51.377922999999996,
          51.377922999999996,
          51.377922999999996,
          51.377922999999996,
          51.377922999999996,
          51.377922999999996,
          51.377922999999996,
          51.377922999999996,
          51.377922999999996,
          51.377922999999996,
          51.377922999999996,
          51.377922999999996,
          51.377922999999996,
          51.494681,
          51.494681,
          51.494681,
          51.494681,
          51.494681,
          51.494681,
          51.494681,
          51.494681,
          51.494681,
          51.494681,
          51.494681,
          51.494681,
          51.494681,
          51.494681,
          51.494681,
          51.494681,
          51.494681,
          51.494681,
          51.494681,
          51.494681,
          51.494681,
          51.494681,
          51.494681,
          51.494681,
          51.412308,
          51.412308,
          51.412308,
          51.412308,
          51.412308,
          51.412308,
          51.412308,
          51.412308,
          51.412308,
          51.412308,
          51.412308,
          51.412308,
          51.412308,
          51.412308,
          51.412308,
          51.412308,
          51.412308,
          51.412308,
          51.412308,
          51.412308,
          51.412308,
          51.412308,
          51.412308,
          51.412308,
          51.516065999999995,
          51.516065999999995,
          51.516065999999995,
          51.516065999999995,
          51.516065999999995,
          51.516065999999995,
          51.516065999999995,
          51.516065999999995,
          51.516065999999995,
          51.516065999999995,
          51.516065999999995,
          51.516065999999995,
          51.516065999999995,
          51.516065999999995,
          51.516065999999995,
          51.516065999999995,
          51.516065999999995,
          51.516065999999995,
          51.516065999999995,
          51.516065999999995,
          51.516065999999995,
          51.516065999999995,
          51.516065999999995,
          51.516065999999995,
          51.50954368539129,
          51.50954368539129,
          51.50954368539129,
          51.50954368539129,
          51.50954368539129,
          51.50954368539129,
          51.50954368539129,
          51.50954368539129,
          51.50954368539129,
          51.50954368539129,
          51.50954368539129,
          51.50954368539129,
          51.50954368539129,
          51.50954368539129,
          51.50954368539129,
          51.50954368539129,
          51.50954368539129,
          51.50954368539129,
          51.50954368539129,
          51.50954368539129,
          51.50954368539129,
          51.50954368539129,
          51.50954368539129,
          51.50954368539129,
          51.480371999999996,
          51.480371999999996,
          51.480371999999996,
          51.480371999999996,
          51.480371999999996,
          51.480371999999996,
          51.480371999999996,
          51.480371999999996,
          51.480371999999996,
          51.480371999999996,
          51.480371999999996,
          51.480371999999996,
          51.480371999999996,
          51.480371999999996,
          51.480371999999996,
          51.480371999999996,
          51.480371999999996,
          51.480371999999996,
          51.480371999999996,
          51.480371999999996,
          51.480371999999996,
          51.480371999999996,
          51.480371999999996,
          51.480371999999996,
          51.480371999999996,
          51.480371999999996,
          51.480371999999996,
          51.480371999999996,
          51.480371999999996,
          51.480371999999996,
          51.480371999999996,
          51.480371999999996,
          51.480371999999996,
          51.480371999999996,
          51.480371999999996,
          51.480371999999996,
          51.480371999999996,
          51.480371999999996,
          51.480371999999996,
          51.480371999999996,
          51.480371999999996,
          51.480371999999996,
          51.480371999999996,
          51.480371999999996,
          51.480371999999996,
          51.480371999999996,
          51.480371999999996,
          51.480371999999996,
          51.480371999999996,
          51.480371999999996,
          51.480371999999996,
          51.480371999999996,
          51.480371999999996,
          51.480371999999996,
          51.480371999999996,
          51.480371999999996,
          51.480371999999996,
          51.480371999999996,
          51.480371999999996,
          51.480371999999996,
          51.480371999999996,
          51.480371999999996,
          51.480371999999996,
          51.480371999999996,
          51.480371999999996,
          51.480371999999996,
          51.480371999999996,
          51.480371999999996,
          51.480371999999996,
          51.480371999999996,
          51.480371999999996,
          51.480371999999996,
          51.480371999999996,
          51.480371999999996,
          51.480371999999996,
          51.480371999999996,
          51.480371999999996,
          51.480371999999996,
          51.480371999999996,
          51.480371999999996,
          51.480371999999996,
          51.480371999999996,
          51.480371999999996,
          51.480371999999996,
          51.480371999999996,
          51.480371999999996,
          51.480371999999996,
          51.480371999999996,
          51.480371999999996,
          51.480371999999996,
          51.480371999999996,
          51.480371999999996,
          51.480371999999996,
          51.480371999999996,
          51.480371999999996,
          51.480371999999996,
          51.522529999999996,
          51.522529999999996,
          51.522529999999996,
          51.522529999999996,
          51.522529999999996,
          51.522529999999996,
          51.522529999999996,
          51.522529999999996,
          51.522529999999996,
          51.522529999999996,
          51.522529999999996,
          51.522529999999996,
          51.522529999999996,
          51.522529999999996,
          51.522529999999996,
          51.522529999999996,
          51.522529999999996,
          51.522529999999996,
          51.522529999999996,
          51.522529999999996,
          51.522529999999996,
          51.522529999999996,
          51.522529999999996,
          51.522529999999996,
          51.447388000000004,
          51.447388000000004,
          51.447388000000004,
          51.447388000000004,
          51.447388000000004,
          51.447388000000004,
          51.447388000000004,
          51.447388000000004,
          51.447388000000004,
          51.447388000000004,
          51.447388000000004,
          51.447388000000004,
          51.447388000000004,
          51.447388000000004,
          51.447388000000004,
          51.447388000000004,
          51.447388000000004,
          51.447388000000004,
          51.447388000000004,
          51.447388000000004,
          51.447388000000004,
          51.447388000000004,
          51.447388000000004,
          51.447388000000004,
          51.42821314294989,
          51.42821314294989,
          51.42821314294989,
          51.42821314294989,
          51.42821314294989,
          51.42821314294989,
          51.42821314294989,
          51.42821314294989,
          51.42821314294989,
          51.42821314294989,
          51.42821314294989,
          51.42821314294989,
          51.42821314294989,
          51.42821314294989,
          51.42821314294989,
          51.42821314294989,
          51.42821314294989,
          51.42821314294989,
          51.42821314294989,
          51.42821314294989,
          51.42821314294989,
          51.42821314294989,
          51.42821314294989,
          51.42821314294989,
          51.504563,
          51.504563,
          51.504563,
          51.504563,
          51.504563,
          51.504563,
          51.504563,
          51.504563,
          51.504563,
          51.504563,
          51.504563,
          51.504563,
          51.504563,
          51.504563,
          51.504563,
          51.504563,
          51.504563,
          51.504563,
          51.504563,
          51.504563,
          51.504563,
          51.504563,
          51.504563,
          51.504563,
          51.362230565540294,
          51.362230565540294,
          51.362230565540294,
          51.362230565540294,
          51.362230565540294,
          51.362230565540294,
          51.362230565540294,
          51.362230565540294,
          51.362230565540294,
          51.362230565540294,
          51.362230565540294,
          51.362230565540294,
          51.362230565540294,
          51.362230565540294,
          51.362230565540294,
          51.362230565540294,
          51.362230565540294,
          51.362230565540294,
          51.362230565540294,
          51.362230565540294,
          51.362230565540294,
          51.362230565540294,
          51.362230565540294,
          51.362230565540294,
          51.494648681305506,
          51.494648681305506,
          51.494648681305506,
          51.494648681305506,
          51.494648681305506,
          51.494648681305506,
          51.494648681305506,
          51.494648681305506,
          51.494648681305506,
          51.494648681305506,
          51.494648681305506,
          51.494648681305506,
          51.494648681305506,
          51.494648681305506,
          51.494648681305506,
          51.494648681305506,
          51.494648681305506,
          51.494648681305506,
          51.494648681305506,
          51.494648681305506,
          51.494648681305506,
          51.494648681305506,
          51.494648681305506,
          51.494648681305506,
          51.557895,
          51.557895,
          51.557895,
          51.557895,
          51.557895,
          51.557895,
          51.557895,
          51.557895,
          51.557895,
          51.557895,
          51.557895,
          51.557895,
          51.557895,
          51.557895,
          51.557895,
          51.557895,
          51.557895,
          51.557895,
          51.557895,
          51.557895,
          51.557895,
          51.557895,
          51.557895,
          51.557895,
          51.474954,
          51.474954,
          51.474954,
          51.474954,
          51.474954,
          51.474954,
          51.474954,
          51.474954,
          51.474954,
          51.474954,
          51.474954,
          51.474954,
          51.474954,
          51.474954,
          51.474954,
          51.474954,
          51.474954,
          51.474954,
          51.474954,
          51.474954,
          51.474954,
          51.474954,
          51.474954,
          51.474954,
          51.46372060471911,
          51.46372060471911,
          51.46372060471911,
          51.46372060471911,
          51.46372060471911,
          51.46372060471911,
          51.46372060471911,
          51.46372060471911,
          51.46372060471911,
          51.46372060471911,
          51.46372060471911,
          51.46372060471911,
          51.46372060471911,
          51.46372060471911,
          51.46372060471911,
          51.46372060471911,
          51.46372060471911,
          51.46372060471911,
          51.46372060471911,
          51.46372060471911,
          51.46372060471911,
          51.46372060471911,
          51.46372060471911,
          51.46372060471911,
          51.555378000000005,
          51.555378000000005,
          51.555378000000005,
          51.555378000000005,
          51.555378000000005,
          51.555378000000005,
          51.555378000000005,
          51.555378000000005,
          51.555378000000005,
          51.555378000000005,
          51.555378000000005,
          51.555378000000005,
          51.555378000000005,
          51.555378000000005,
          51.555378000000005,
          51.555378000000005,
          51.555378000000005,
          51.555378000000005,
          51.555378000000005,
          51.555378000000005,
          51.555378000000005,
          51.555378000000005,
          51.555378000000005,
          51.555378000000005,
          51.4252560360937,
          51.4252560360937,
          51.4252560360937,
          51.4252560360937,
          51.4252560360937,
          51.4252560360937,
          51.4252560360937,
          51.4252560360937,
          51.4252560360937,
          51.4252560360937,
          51.4252560360937,
          51.4252560360937,
          51.4252560360937,
          51.4252560360937,
          51.4252560360937,
          51.4252560360937,
          51.4252560360937,
          51.4252560360937,
          51.4252560360937,
          51.4252560360937,
          51.4252560360937,
          51.4252560360937,
          51.4252560360937,
          51.4252560360937,
          51.495504,
          51.495504,
          51.495504,
          51.495504,
          51.495504,
          51.495504,
          51.495504,
          51.495504,
          51.495504,
          51.495504,
          51.495504,
          51.495504,
          51.495504,
          51.495504,
          51.495504,
          51.495504,
          51.495504,
          51.495504,
          51.495504,
          51.495504,
          51.495504,
          51.495504,
          51.495504,
          51.495504,
          51.4161384794862,
          51.4161384794862,
          51.4161384794862,
          51.4161384794862,
          51.4161384794862,
          51.4161384794862,
          51.4161384794862,
          51.4161384794862,
          51.4161384794862,
          51.4161384794862,
          51.4161384794862,
          51.4161384794862,
          51.4161384794862,
          51.4161384794862,
          51.4161384794862,
          51.4161384794862,
          51.4161384794862,
          51.4161384794862,
          51.4161384794862,
          51.4161384794862,
          51.4161384794862,
          51.4161384794862,
          51.4161384794862,
          51.4161384794862,
          51.614675,
          51.614675,
          51.614675,
          51.614675,
          51.614675,
          51.614675,
          51.614675,
          51.614675,
          51.614675,
          51.614675,
          51.614675,
          51.614675,
          51.614675,
          51.614675,
          51.614675,
          51.614675,
          51.614675,
          51.614675,
          51.614675,
          51.614675,
          51.614675,
          51.614675,
          51.614675,
          51.614675,
          51.527975,
          51.527975,
          51.527975,
          51.527975,
          51.527975,
          51.527975,
          51.527975,
          51.527975,
          51.527975,
          51.527975,
          51.527975,
          51.527975,
          51.527975,
          51.527975,
          51.527975,
          51.527975,
          51.527975,
          51.527975,
          51.527975,
          51.527975,
          51.527975,
          51.527975,
          51.527975,
          51.527975,
          51.523607819148104,
          51.523607819148104,
          51.523607819148104,
          51.523607819148104,
          51.523607819148104,
          51.523607819148104,
          51.523607819148104,
          51.523607819148104,
          51.523607819148104,
          51.523607819148104,
          51.523607819148104,
          51.523607819148104,
          51.523607819148104,
          51.523607819148104,
          51.523607819148104,
          51.523607819148104,
          51.523607819148104,
          51.523607819148104,
          51.523607819148104,
          51.523607819148104,
          51.523607819148104,
          51.523607819148104,
          51.523607819148104,
          51.523607819148104,
          51.463429,
          51.463429,
          51.463429,
          51.463429,
          51.463429,
          51.463429,
          51.463429,
          51.463429,
          51.463429,
          51.463429,
          51.463429,
          51.463429,
          51.463429,
          51.463429,
          51.463429,
          51.463429,
          51.463429,
          51.463429,
          51.463429,
          51.463429,
          51.463429,
          51.463429,
          51.463429,
          51.463429,
          51.5189160348806,
          51.5189160348806,
          51.5189160348806,
          51.5189160348806,
          51.5189160348806,
          51.5189160348806,
          51.5189160348806,
          51.5189160348806,
          51.5189160348806,
          51.5189160348806,
          51.5189160348806,
          51.5189160348806,
          51.5189160348806,
          51.5189160348806,
          51.5189160348806,
          51.5189160348806,
          51.5189160348806,
          51.5189160348806,
          51.5189160348806,
          51.5189160348806,
          51.5189160348806,
          51.5189160348806,
          51.5189160348806,
          51.5189160348806,
          51.48049949364671,
          51.48049949364671,
          51.48049949364671,
          51.48049949364671,
          51.48049949364671,
          51.48049949364671,
          51.48049949364671,
          51.48049949364671,
          51.48049949364671,
          51.48049949364671,
          51.48049949364671,
          51.48049949364671,
          51.48049949364671,
          51.48049949364671,
          51.48049949364671,
          51.48049949364671,
          51.48049949364671,
          51.48049949364671,
          51.48049949364671,
          51.48049949364671,
          51.48049949364671,
          51.48049949364671,
          51.48049949364671,
          51.48049949364671,
          51.476168,
          51.476168,
          51.476168,
          51.476168,
          51.476168,
          51.476168,
          51.476168,
          51.476168,
          51.476168,
          51.476168,
          51.476168,
          51.476168,
          51.476168,
          51.476168,
          51.476168,
          51.476168,
          51.476168,
          51.476168,
          51.476168,
          51.476168,
          51.476168,
          51.476168,
          51.476168,
          51.476168,
          51.48113,
          51.48113,
          51.48113,
          51.48113,
          51.48113,
          51.48113,
          51.48113,
          51.48113,
          51.48113,
          51.48113,
          51.48113,
          51.48113,
          51.48113,
          51.48113,
          51.48113,
          51.48113,
          51.48113,
          51.48113,
          51.48113,
          51.48113,
          51.48113,
          51.48113,
          51.48113,
          51.48113,
          51.4931557048667,
          51.4931557048667,
          51.4931557048667,
          51.4931557048667,
          51.4931557048667,
          51.4931557048667,
          51.4931557048667,
          51.4931557048667,
          51.4931557048667,
          51.4931557048667,
          51.4931557048667,
          51.4931557048667,
          51.4931557048667,
          51.4931557048667,
          51.4931557048667,
          51.4931557048667,
          51.4931557048667,
          51.4931557048667,
          51.4931557048667,
          51.4931557048667,
          51.4931557048667,
          51.4931557048667,
          51.4931557048667,
          51.4931557048667,
          51.510498999999996,
          51.510498999999996,
          51.510498999999996,
          51.510498999999996,
          51.510498999999996,
          51.510498999999996,
          51.510498999999996,
          51.510498999999996,
          51.510498999999996,
          51.510498999999996,
          51.510498999999996,
          51.510498999999996,
          51.510498999999996,
          51.510498999999996,
          51.510498999999996,
          51.510498999999996,
          51.510498999999996,
          51.510498999999996,
          51.510498999999996,
          51.510498999999996,
          51.510498999999996,
          51.510498999999996,
          51.510498999999996,
          51.510498999999996,
          51.481478,
          51.481478,
          51.481478,
          51.481478,
          51.481478,
          51.481478,
          51.481478,
          51.481478,
          51.481478,
          51.481478,
          51.481478,
          51.481478,
          51.481478,
          51.481478,
          51.481478,
          51.481478,
          51.481478,
          51.481478,
          51.481478,
          51.481478,
          51.481478,
          51.481478,
          51.481478,
          51.481478,
          51.4646910611736,
          51.4646910611736,
          51.4646910611736,
          51.4646910611736,
          51.4646910611736,
          51.4646910611736,
          51.4646910611736,
          51.4646910611736,
          51.4646910611736,
          51.4646910611736,
          51.4646910611736,
          51.4646910611736,
          51.4646910611736,
          51.4646910611736,
          51.4646910611736,
          51.4646910611736,
          51.4646910611736,
          51.4646910611736,
          51.4646910611736,
          51.4646910611736,
          51.4646910611736,
          51.4646910611736,
          51.4646910611736,
          51.4646910611736,
          51.576609999999995,
          51.576609999999995,
          51.576609999999995,
          51.576609999999995,
          51.576609999999995,
          51.576609999999995,
          51.576609999999995,
          51.576609999999995,
          51.576609999999995,
          51.576609999999995,
          51.576609999999995,
          51.576609999999995,
          51.576609999999995,
          51.576609999999995,
          51.576609999999995,
          51.576609999999995,
          51.576609999999995,
          51.576609999999995,
          51.576609999999995,
          51.576609999999995,
          51.576609999999995,
          51.576609999999995,
          51.576609999999995,
          51.576609999999995,
          51.544219,
          51.544219,
          51.544219,
          51.544219,
          51.544219,
          51.544219,
          51.544219,
          51.544219,
          51.544219,
          51.544219,
          51.544219,
          51.544219,
          51.544219,
          51.544219,
          51.544219,
          51.544219,
          51.544219,
          51.544219,
          51.544219,
          51.544219,
          51.544219,
          51.544219,
          51.544219,
          51.544219,
          51.472504,
          51.472504,
          51.472504,
          51.472504,
          51.472504,
          51.472504,
          51.472504,
          51.472504,
          51.472504,
          51.472504,
          51.472504,
          51.472504,
          51.472504,
          51.472504,
          51.472504,
          51.472504,
          51.472504,
          51.472504,
          51.472504,
          51.472504,
          51.472504,
          51.472504,
          51.472504,
          51.472504,
          51.445468,
          51.445468,
          51.445468,
          51.445468,
          51.445468,
          51.445468,
          51.445468,
          51.445468,
          51.445468,
          51.445468,
          51.445468,
          51.445468,
          51.445468,
          51.445468,
          51.445468,
          51.445468,
          51.445468,
          51.445468,
          51.445468,
          51.445468,
          51.445468,
          51.445468,
          51.445468,
          51.445468,
          51.601728,
          51.601728,
          51.601728,
          51.601728,
          51.601728,
          51.601728,
          51.601728,
          51.601728,
          51.601728,
          51.601728,
          51.601728,
          51.601728,
          51.601728,
          51.601728,
          51.601728,
          51.601728,
          51.601728,
          51.601728,
          51.601728,
          51.601728,
          51.601728,
          51.601728,
          51.601728,
          51.601728,
          51.456357000000004,
          51.456357000000004,
          51.456357000000004,
          51.456357000000004,
          51.456357000000004,
          51.456357000000004,
          51.456357000000004,
          51.456357000000004,
          51.456357000000004,
          51.456357000000004,
          51.456357000000004,
          51.456357000000004,
          51.456357000000004,
          51.456357000000004,
          51.456357000000004,
          51.456357000000004,
          51.456357000000004,
          51.456357000000004,
          51.456357000000004,
          51.456357000000004,
          51.456357000000004,
          51.456357000000004,
          51.456357000000004,
          51.456357000000004,
          51.522529486084395,
          51.522529486084395,
          51.522529486084395,
          51.522529486084395,
          51.522529486084395,
          51.522529486084395,
          51.522529486084395,
          51.522529486084395,
          51.522529486084395,
          51.522529486084395,
          51.522529486084395,
          51.522529486084395,
          51.522529486084395,
          51.522529486084395,
          51.522529486084395,
          51.522529486084395,
          51.522529486084395,
          51.522529486084395,
          51.522529486084395,
          51.522529486084395,
          51.522529486084395,
          51.522529486084395,
          51.522529486084395,
          51.522529486084395,
          51.661283000000005,
          51.661283000000005,
          51.661283000000005,
          51.661283000000005,
          51.661283000000005,
          51.661283000000005,
          51.661283000000005,
          51.661283000000005,
          51.661283000000005,
          51.661283000000005,
          51.661283000000005,
          51.661283000000005,
          51.661283000000005,
          51.661283000000005,
          51.661283000000005,
          51.661283000000005,
          51.661283000000005,
          51.661283000000005,
          51.661283000000005,
          51.661283000000005,
          51.661283000000005,
          51.661283000000005,
          51.661283000000005,
          51.661283000000005,
          51.522287,
          51.522287,
          51.522287,
          51.522287,
          51.522287,
          51.522287,
          51.522287,
          51.522287,
          51.522287,
          51.522287,
          51.522287,
          51.522287,
          51.522287,
          51.522287,
          51.522287,
          51.522287,
          51.522287,
          51.522287,
          51.522287,
          51.522287,
          51.522287,
          51.522287,
          51.522287,
          51.522287,
          51.490610208214704,
          51.490610208214704,
          51.490610208214704,
          51.490610208214704,
          51.490610208214704,
          51.490610208214704,
          51.490610208214704,
          51.490610208214704,
          51.490610208214704,
          51.490610208214704,
          51.490610208214704,
          51.490610208214704,
          51.490610208214704,
          51.490610208214704,
          51.490610208214704,
          51.490610208214704,
          51.490610208214704,
          51.490610208214704,
          51.490610208214704,
          51.490610208214704,
          51.490610208214704,
          51.490610208214704,
          51.490610208214704,
          51.490610208214704,
          51.490610208214704,
          51.490610208214704,
          51.490610208214704,
          51.490610208214704,
          51.490610208214704,
          51.490610208214704,
          51.490610208214704,
          51.490610208214704,
          51.490610208214704,
          51.490610208214704,
          51.490610208214704,
          51.490610208214704,
          51.490610208214704,
          51.490610208214704,
          51.490610208214704,
          51.490610208214704,
          51.490610208214704,
          51.490610208214704,
          51.490610208214704,
          51.490610208214704,
          51.490610208214704,
          51.490610208214704,
          51.490610208214704,
          51.490610208214704,
          51.490610208214704,
          51.490610208214704,
          51.490610208214704,
          51.490610208214704,
          51.490610208214704,
          51.490610208214704,
          51.490610208214704,
          51.490610208214704,
          51.490610208214704,
          51.490610208214704,
          51.490610208214704,
          51.490610208214704,
          51.490610208214704,
          51.490610208214704,
          51.490610208214704,
          51.490610208214704,
          51.490610208214704,
          51.490610208214704,
          51.490610208214704,
          51.490610208214704,
          51.490610208214704,
          51.490610208214704,
          51.490610208214704,
          51.490610208214704,
          51.490610208214704,
          51.490610208214704,
          51.490610208214704,
          51.490610208214704,
          51.490610208214704,
          51.490610208214704,
          51.490610208214704,
          51.490610208214704,
          51.490610208214704,
          51.490610208214704,
          51.490610208214704,
          51.490610208214704,
          51.490610208214704,
          51.490610208214704,
          51.490610208214704,
          51.490610208214704,
          51.490610208214704,
          51.490610208214704,
          51.490610208214704,
          51.490610208214704,
          51.490610208214704,
          51.490610208214704,
          51.490610208214704,
          51.490610208214704,
          51.500676,
          51.500676,
          51.500676,
          51.500676,
          51.500676,
          51.500676,
          51.500676,
          51.500676,
          51.500676,
          51.500676,
          51.500676,
          51.500676,
          51.500676,
          51.500676,
          51.500676,
          51.500676,
          51.500676,
          51.500676,
          51.500676,
          51.500676,
          51.500676,
          51.500676,
          51.500676,
          51.500676,
          51.379312,
          51.379312,
          51.379312,
          51.379312,
          51.379312,
          51.379312,
          51.379312,
          51.379312,
          51.379312,
          51.379312,
          51.379312,
          51.379312,
          51.379312,
          51.379312,
          51.379312,
          51.379312,
          51.379312,
          51.379312,
          51.379312,
          51.379312,
          51.379312,
          51.379312,
          51.379312,
          51.379312,
          51.493491999999996,
          51.493491999999996,
          51.493491999999996,
          51.493491999999996,
          51.493491999999996,
          51.493491999999996,
          51.493491999999996,
          51.493491999999996,
          51.493491999999996,
          51.493491999999996,
          51.493491999999996,
          51.493491999999996,
          51.493491999999996,
          51.493491999999996,
          51.493491999999996,
          51.493491999999996,
          51.493491999999996,
          51.493491999999996,
          51.493491999999996,
          51.493491999999996,
          51.493491999999996,
          51.493491999999996,
          51.493491999999996,
          51.493491999999996,
          51.572976000000004,
          51.572976000000004,
          51.572976000000004,
          51.572976000000004,
          51.572976000000004,
          51.572976000000004,
          51.572976000000004,
          51.572976000000004,
          51.572976000000004,
          51.572976000000004,
          51.572976000000004,
          51.572976000000004,
          51.572976000000004,
          51.572976000000004,
          51.572976000000004,
          51.572976000000004,
          51.572976000000004,
          51.572976000000004,
          51.572976000000004,
          51.572976000000004,
          51.572976000000004,
          51.572976000000004,
          51.572976000000004,
          51.572976000000004,
          51.489134,
          51.489134,
          51.489134,
          51.489134,
          51.489134,
          51.489134,
          51.489134,
          51.489134,
          51.489134,
          51.489134,
          51.489134,
          51.489134,
          51.489134,
          51.489134,
          51.489134,
          51.489134,
          51.489134,
          51.489134,
          51.489134,
          51.489134,
          51.489134,
          51.489134,
          51.489134,
          51.489134,
          51.463402,
          51.463402,
          51.463402,
          51.463402,
          51.463402,
          51.463402,
          51.463402,
          51.463402,
          51.463402,
          51.463402,
          51.463402,
          51.463402,
          51.463402,
          51.463402,
          51.463402,
          51.463402,
          51.463402,
          51.463402,
          51.463402,
          51.463402,
          51.463402,
          51.463402,
          51.463402,
          51.463402,
          51.569484331523704,
          51.569484331523704,
          51.569484331523704,
          51.569484331523704,
          51.569484331523704,
          51.569484331523704,
          51.569484331523704,
          51.569484331523704,
          51.569484331523704,
          51.569484331523704,
          51.569484331523704,
          51.569484331523704,
          51.569484331523704,
          51.569484331523704,
          51.569484331523704,
          51.569484331523704,
          51.569484331523704,
          51.569484331523704,
          51.569484331523704,
          51.569484331523704,
          51.569484331523704,
          51.569484331523704,
          51.569484331523704,
          51.569484331523704,
          51.496309000000004,
          51.496309000000004,
          51.496309000000004,
          51.496309000000004,
          51.496309000000004,
          51.496309000000004,
          51.496309000000004,
          51.496309000000004,
          51.496309000000004,
          51.496309000000004,
          51.496309000000004,
          51.496309000000004,
          51.496309000000004,
          51.496309000000004,
          51.496309000000004,
          51.496309000000004,
          51.496309000000004,
          51.496309000000004,
          51.496309000000004,
          51.496309000000004,
          51.496309000000004,
          51.496309000000004,
          51.496309000000004,
          51.496309000000004,
          51.514525336231394,
          51.514525336231394,
          51.514525336231394,
          51.514525336231394,
          51.514525336231394,
          51.514525336231394,
          51.514525336231394,
          51.514525336231394,
          51.514525336231394,
          51.514525336231394,
          51.514525336231394,
          51.514525336231394,
          51.514525336231394,
          51.514525336231394,
          51.514525336231394,
          51.514525336231394,
          51.514525336231394,
          51.514525336231394,
          51.514525336231394,
          51.514525336231394,
          51.514525336231394,
          51.514525336231394,
          51.514525336231394,
          51.514525336231394,
          51.66864334727,
          51.66864334727,
          51.66864334727,
          51.66864334727,
          51.66864334727,
          51.66864334727,
          51.66864334727,
          51.66864334727,
          51.66864334727,
          51.66864334727,
          51.66864334727,
          51.66864334727,
          51.66864334727,
          51.66864334727,
          51.66864334727,
          51.66864334727,
          51.66864334727,
          51.66864334727,
          51.66864334727,
          51.66864334727,
          51.66864334727,
          51.66864334727,
          51.66864334727,
          51.66864334727,
          51.540519,
          51.540519,
          51.540519,
          51.540519,
          51.540519,
          51.540519,
          51.540519,
          51.540519,
          51.540519,
          51.540519,
          51.540519,
          51.540519,
          51.540519,
          51.540519,
          51.540519,
          51.540519,
          51.540519,
          51.540519,
          51.540519,
          51.540519,
          51.540519,
          51.540519,
          51.540519,
          51.540519,
          51.459444,
          51.459444,
          51.459444,
          51.459444,
          51.459444,
          51.459444,
          51.459444,
          51.459444,
          51.459444,
          51.459444,
          51.459444,
          51.459444,
          51.459444,
          51.459444,
          51.459444,
          51.459444,
          51.459444,
          51.459444,
          51.459444,
          51.459444,
          51.459444,
          51.459444,
          51.459444,
          51.459444,
          51.526454,
          51.526454,
          51.526454,
          51.526454,
          51.526454,
          51.526454,
          51.526454,
          51.526454,
          51.526454,
          51.526454,
          51.526454,
          51.526454,
          51.526454,
          51.526454,
          51.526454,
          51.526454,
          51.526454,
          51.526454,
          51.526454,
          51.526454,
          51.526454,
          51.526454,
          51.526454,
          51.526454,
          51.552476,
          51.552476,
          51.552476,
          51.552476,
          51.552476,
          51.552476,
          51.552476,
          51.552476,
          51.552476,
          51.552476,
          51.552476,
          51.552476,
          51.552476,
          51.552476,
          51.552476,
          51.552476,
          51.552476,
          51.552476,
          51.552476,
          51.552476,
          51.552476,
          51.552476,
          51.552476,
          51.552476,
          51.482982,
          51.482982,
          51.482982,
          51.482982,
          51.482982,
          51.482982,
          51.482982,
          51.482982,
          51.482982,
          51.482982,
          51.482982,
          51.482982,
          51.482982,
          51.482982,
          51.482982,
          51.482982,
          51.482982,
          51.482982,
          51.482982,
          51.482982,
          51.482982,
          51.482982,
          51.482982,
          51.482982,
          51.520787459334,
          51.520787459334,
          51.520787459334,
          51.520787459334,
          51.520787459334,
          51.520787459334,
          51.520787459334,
          51.520787459334,
          51.520787459334,
          51.520787459334,
          51.520787459334,
          51.520787459334,
          51.520787459334,
          51.520787459334,
          51.520787459334,
          51.520787459334,
          51.520787459334,
          51.520787459334,
          51.520787459334,
          51.520787459334,
          51.520787459334,
          51.520787459334,
          51.520787459334,
          51.520787459334,
          51.4854867739729,
          51.4854867739729,
          51.4854867739729,
          51.4854867739729,
          51.4854867739729,
          51.4854867739729,
          51.4854867739729,
          51.4854867739729,
          51.4854867739729,
          51.4854867739729,
          51.4854867739729,
          51.4854867739729,
          51.4854867739729,
          51.4854867739729,
          51.4854867739729,
          51.4854867739729,
          51.4854867739729,
          51.4854867739729,
          51.4854867739729,
          51.4854867739729,
          51.4854867739729,
          51.4854867739729,
          51.4854867739729,
          51.4854867739729,
          51.449672896035395,
          51.449672896035395,
          51.449672896035395,
          51.449672896035395,
          51.449672896035395,
          51.449672896035395,
          51.449672896035395,
          51.449672896035395,
          51.449672896035395,
          51.449672896035395,
          51.449672896035395,
          51.449672896035395,
          51.449672896035395,
          51.449672896035395,
          51.449672896035395,
          51.449672896035395,
          51.449672896035395,
          51.449672896035395,
          51.449672896035395,
          51.449672896035395,
          51.449672896035395,
          51.449672896035395,
          51.449672896035395,
          51.449672896035395,
          51.38356522779429,
          51.38356522779429,
          51.38356522779429,
          51.38356522779429,
          51.38356522779429,
          51.38356522779429,
          51.38356522779429,
          51.38356522779429,
          51.38356522779429,
          51.38356522779429,
          51.38356522779429,
          51.38356522779429,
          51.38356522779429,
          51.38356522779429,
          51.38356522779429,
          51.38356522779429,
          51.38356522779429,
          51.38356522779429,
          51.38356522779429,
          51.38356522779429,
          51.38356522779429,
          51.38356522779429,
          51.38356522779429,
          51.38356522779429,
          51.529389,
          51.529389,
          51.529389,
          51.529389,
          51.529389,
          51.529389,
          51.529389,
          51.529389,
          51.529389,
          51.529389,
          51.529389,
          51.529389,
          51.529389,
          51.529389,
          51.529389,
          51.529389,
          51.529389,
          51.529389,
          51.529389,
          51.529389,
          51.529389,
          51.529389,
          51.529389,
          51.529389,
          51.479129,
          51.479129,
          51.479129,
          51.479129,
          51.479129,
          51.479129,
          51.479129,
          51.479129,
          51.479129,
          51.479129,
          51.479129,
          51.479129,
          51.479129,
          51.479129,
          51.479129,
          51.479129,
          51.479129,
          51.479129,
          51.479129,
          51.479129,
          51.479129,
          51.479129,
          51.479129,
          51.479129,
          51.552656,
          51.552656,
          51.552656,
          51.552656,
          51.552656,
          51.552656,
          51.552656,
          51.552656,
          51.552656,
          51.552656,
          51.552656,
          51.552656,
          51.552656,
          51.552656,
          51.552656,
          51.552656,
          51.552656,
          51.552656,
          51.552656,
          51.552656,
          51.552656,
          51.552656,
          51.552656,
          51.552656,
          51.511970118827705,
          51.511970118827705,
          51.511970118827705,
          51.511970118827705,
          51.511970118827705,
          51.511970118827705,
          51.511970118827705,
          51.511970118827705,
          51.511970118827705,
          51.511970118827705,
          51.511970118827705,
          51.511970118827705,
          51.511970118827705,
          51.511970118827705,
          51.511970118827705,
          51.511970118827705,
          51.511970118827705,
          51.511970118827705,
          51.511970118827705,
          51.511970118827705,
          51.511970118827705,
          51.511970118827705,
          51.511970118827705,
          51.511970118827705,
          51.479167,
          51.479167,
          51.479167,
          51.479167,
          51.479167,
          51.479167,
          51.479167,
          51.479167,
          51.479167,
          51.479167,
          51.479167,
          51.479167,
          51.479167,
          51.479167,
          51.479167,
          51.479167,
          51.479167,
          51.479167,
          51.479167,
          51.479167,
          51.479167,
          51.479167,
          51.479167,
          51.479167,
          51.563752,
          51.563752,
          51.563752,
          51.563752,
          51.563752,
          51.563752,
          51.563752,
          51.563752,
          51.563752,
          51.563752,
          51.563752,
          51.563752,
          51.563752,
          51.563752,
          51.563752,
          51.563752,
          51.563752,
          51.563752,
          51.563752,
          51.563752,
          51.563752,
          51.563752,
          51.563752,
          51.563752,
          51.5038527919816,
          51.5038527919816,
          51.5038527919816,
          51.5038527919816,
          51.5038527919816,
          51.5038527919816,
          51.5038527919816,
          51.5038527919816,
          51.5038527919816,
          51.5038527919816,
          51.5038527919816,
          51.5038527919816,
          51.5038527919816,
          51.5038527919816,
          51.5038527919816,
          51.5038527919816,
          51.5038527919816,
          51.5038527919816,
          51.5038527919816,
          51.5038527919816,
          51.5038527919816,
          51.5038527919816,
          51.5038527919816,
          51.5038527919816,
          51.489863,
          51.489863,
          51.489863,
          51.489863,
          51.489863,
          51.489863,
          51.489863,
          51.489863,
          51.489863,
          51.489863,
          51.489863,
          51.489863,
          51.489863,
          51.489863,
          51.489863,
          51.489863,
          51.489863,
          51.489863,
          51.489863,
          51.489863,
          51.489863,
          51.489863,
          51.489863,
          51.489863,
          51.456962,
          51.456962,
          51.456962,
          51.456962,
          51.456962,
          51.456962,
          51.456962,
          51.456962,
          51.456962,
          51.456962,
          51.456962,
          51.456962,
          51.456962,
          51.456962,
          51.456962,
          51.456962,
          51.456962,
          51.456962,
          51.456962,
          51.456962,
          51.456962,
          51.456962,
          51.456962,
          51.456962,
          51.48878,
          51.48878,
          51.48878,
          51.48878,
          51.48878,
          51.48878,
          51.48878,
          51.48878,
          51.48878,
          51.48878,
          51.48878,
          51.48878,
          51.48878,
          51.48878,
          51.48878,
          51.48878,
          51.48878,
          51.48878,
          51.48878,
          51.48878,
          51.48878,
          51.48878,
          51.48878,
          51.48878,
          51.46369035681111,
          51.46369035681111,
          51.46369035681111,
          51.46369035681111,
          51.46369035681111,
          51.46369035681111,
          51.46369035681111,
          51.46369035681111,
          51.46369035681111,
          51.46369035681111,
          51.46369035681111,
          51.46369035681111,
          51.46369035681111,
          51.46369035681111,
          51.46369035681111,
          51.46369035681111,
          51.46369035681111,
          51.46369035681111,
          51.46369035681111,
          51.46369035681111,
          51.46369035681111,
          51.46369035681111,
          51.46369035681111,
          51.46369035681111,
          51.411349,
          51.411349,
          51.411349,
          51.411349,
          51.411349,
          51.411349,
          51.411349,
          51.411349,
          51.411349,
          51.411349,
          51.411349,
          51.411349,
          51.411349,
          51.411349,
          51.411349,
          51.411349,
          51.411349,
          51.411349,
          51.411349,
          51.411349,
          51.411349,
          51.411349,
          51.411349,
          51.411349,
          51.4794049933959,
          51.4794049933959,
          51.4794049933959,
          51.4794049933959,
          51.4794049933959,
          51.4794049933959,
          51.4794049933959,
          51.4794049933959,
          51.4794049933959,
          51.4794049933959,
          51.4794049933959,
          51.4794049933959,
          51.4794049933959,
          51.4794049933959,
          51.4794049933959,
          51.4794049933959,
          51.4794049933959,
          51.4794049933959,
          51.4794049933959,
          51.4794049933959,
          51.4794049933959,
          51.4794049933959,
          51.4794049933959,
          51.4794049933959,
          51.52254,
          51.52254,
          51.52254,
          51.52254,
          51.52254,
          51.52254,
          51.52254,
          51.52254,
          51.52254,
          51.52254,
          51.52254,
          51.52254,
          51.52254,
          51.52254,
          51.52254,
          51.52254,
          51.52254,
          51.52254,
          51.52254,
          51.52254,
          51.52254,
          51.52254,
          51.52254,
          51.52254,
          51.52254,
          51.52254,
          51.52254,
          51.52254,
          51.52254,
          51.52254,
          51.52254,
          51.52254,
          51.52254,
          51.52254,
          51.52254,
          51.52254,
          51.52254,
          51.52254,
          51.52254,
          51.52254,
          51.52254,
          51.52254,
          51.52254,
          51.52254,
          51.52254,
          51.52254,
          51.52254,
          51.52254,
          51.52254,
          51.52254,
          51.52254,
          51.52254,
          51.52254,
          51.52254,
          51.52254,
          51.52254,
          51.52254,
          51.52254,
          51.52254,
          51.52254,
          51.52254,
          51.52254,
          51.52254,
          51.52254,
          51.52254,
          51.52254,
          51.52254,
          51.52254,
          51.52254,
          51.52254,
          51.52254,
          51.52254,
          51.52254,
          51.52254,
          51.52254,
          51.52254,
          51.52254,
          51.52254,
          51.52254,
          51.52254,
          51.52254,
          51.52254,
          51.52254,
          51.52254,
          51.52254,
          51.52254,
          51.52254,
          51.52254,
          51.52254,
          51.52254,
          51.52254,
          51.52254,
          51.52254,
          51.52254,
          51.52254,
          51.52254,
          51.514727,
          51.514727,
          51.514727,
          51.514727,
          51.514727,
          51.514727,
          51.514727,
          51.514727,
          51.514727,
          51.514727,
          51.514727,
          51.514727,
          51.514727,
          51.514727,
          51.514727,
          51.514727,
          51.514727,
          51.514727,
          51.514727,
          51.514727,
          51.514727,
          51.514727,
          51.514727,
          51.514727,
          51.52022527317099,
          51.52022527317099,
          51.52022527317099,
          51.52022527317099,
          51.52022527317099,
          51.52022527317099,
          51.52022527317099,
          51.52022527317099,
          51.52022527317099,
          51.52022527317099,
          51.52022527317099,
          51.52022527317099,
          51.52022527317099,
          51.52022527317099,
          51.52022527317099,
          51.52022527317099,
          51.52022527317099,
          51.52022527317099,
          51.52022527317099,
          51.52022527317099,
          51.52022527317099,
          51.52022527317099,
          51.52022527317099,
          51.52022527317099,
          51.46411354116201,
          51.46411354116201,
          51.46411354116201,
          51.46411354116201,
          51.46411354116201,
          51.46411354116201,
          51.46411354116201,
          51.46411354116201,
          51.46411354116201,
          51.46411354116201,
          51.46411354116201,
          51.46411354116201,
          51.46411354116201,
          51.46411354116201,
          51.46411354116201,
          51.46411354116201,
          51.46411354116201,
          51.46411354116201,
          51.46411354116201,
          51.46411354116201,
          51.46411354116201,
          51.46411354116201,
          51.46411354116201,
          51.46411354116201,
          51.486884,
          51.486884,
          51.486884,
          51.486884,
          51.486884,
          51.486884,
          51.486884,
          51.486884,
          51.486884,
          51.486884,
          51.486884,
          51.486884,
          51.486884,
          51.486884,
          51.486884,
          51.486884,
          51.486884,
          51.486884,
          51.486884,
          51.486884,
          51.486884,
          51.486884,
          51.486884,
          51.486884,
          51.498166999999995,
          51.498166999999995,
          51.498166999999995,
          51.498166999999995,
          51.498166999999995,
          51.498166999999995,
          51.498166999999995,
          51.498166999999995,
          51.498166999999995,
          51.498166999999995,
          51.498166999999995,
          51.498166999999995,
          51.498166999999995,
          51.498166999999995,
          51.498166999999995,
          51.498166999999995,
          51.498166999999995,
          51.498166999999995,
          51.498166999999995,
          51.498166999999995,
          51.498166999999995,
          51.498166999999995,
          51.498166999999995,
          51.498166999999995,
          51.484384000000006,
          51.484384000000006,
          51.484384000000006,
          51.484384000000006,
          51.484384000000006,
          51.484384000000006,
          51.484384000000006,
          51.484384000000006,
          51.484384000000006,
          51.484384000000006,
          51.484384000000006,
          51.484384000000006,
          51.484384000000006,
          51.484384000000006,
          51.484384000000006,
          51.484384000000006,
          51.484384000000006,
          51.484384000000006,
          51.484384000000006,
          51.484384000000006,
          51.484384000000006,
          51.484384000000006,
          51.484384000000006,
          51.484384000000006,
          51.4355006647773,
          51.4355006647773,
          51.4355006647773,
          51.4355006647773,
          51.4355006647773,
          51.4355006647773,
          51.4355006647773,
          51.4355006647773,
          51.4355006647773,
          51.4355006647773,
          51.4355006647773,
          51.4355006647773,
          51.4355006647773,
          51.4355006647773,
          51.4355006647773,
          51.4355006647773,
          51.4355006647773,
          51.4355006647773,
          51.4355006647773,
          51.4355006647773,
          51.4355006647773,
          51.4355006647773,
          51.4355006647773,
          51.4355006647773,
          51.518947999999995,
          51.518947999999995,
          51.518947999999995,
          51.518947999999995,
          51.518947999999995,
          51.518947999999995,
          51.518947999999995,
          51.518947999999995,
          51.518947999999995,
          51.518947999999995,
          51.518947999999995,
          51.518947999999995,
          51.518947999999995,
          51.518947999999995,
          51.518947999999995,
          51.518947999999995,
          51.518947999999995,
          51.518947999999995,
          51.518947999999995,
          51.518947999999995,
          51.518947999999995,
          51.518947999999995,
          51.518947999999995,
          51.518947999999995,
          51.532405461780904,
          51.532405461780904,
          51.532405461780904,
          51.532405461780904,
          51.532405461780904,
          51.532405461780904,
          51.532405461780904,
          51.532405461780904,
          51.532405461780904,
          51.532405461780904,
          51.532405461780904,
          51.532405461780904,
          51.532405461780904,
          51.532405461780904,
          51.532405461780904,
          51.532405461780904,
          51.532405461780904,
          51.532405461780904,
          51.532405461780904,
          51.532405461780904,
          51.532405461780904,
          51.532405461780904,
          51.532405461780904,
          51.532405461780904,
          51.47943952812221,
          51.47943952812221,
          51.47943952812221,
          51.47943952812221,
          51.47943952812221,
          51.47943952812221,
          51.47943952812221,
          51.47943952812221,
          51.47943952812221,
          51.47943952812221,
          51.47943952812221,
          51.47943952812221,
          51.47943952812221,
          51.47943952812221,
          51.47943952812221,
          51.47943952812221,
          51.47943952812221,
          51.47943952812221,
          51.47943952812221,
          51.47943952812221,
          51.47943952812221,
          51.47943952812221,
          51.47943952812221,
          51.47943952812221,
          51.493232791686104,
          51.493232791686104,
          51.493232791686104,
          51.493232791686104,
          51.493232791686104,
          51.493232791686104,
          51.493232791686104,
          51.493232791686104,
          51.493232791686104,
          51.493232791686104,
          51.493232791686104,
          51.493232791686104,
          51.493232791686104,
          51.493232791686104,
          51.493232791686104,
          51.493232791686104,
          51.493232791686104,
          51.493232791686104,
          51.493232791686104,
          51.493232791686104,
          51.493232791686104,
          51.493232791686104,
          51.493232791686104,
          51.493232791686104,
          51.5013906712066,
          51.5013906712066,
          51.5013906712066,
          51.5013906712066,
          51.5013906712066,
          51.5013906712066,
          51.5013906712066,
          51.5013906712066,
          51.5013906712066,
          51.5013906712066,
          51.5013906712066,
          51.5013906712066,
          51.5013906712066,
          51.5013906712066,
          51.5013906712066,
          51.5013906712066,
          51.5013906712066,
          51.5013906712066,
          51.5013906712066,
          51.5013906712066,
          51.5013906712066,
          51.5013906712066,
          51.5013906712066,
          51.5013906712066,
          51.492507,
          51.492507,
          51.492507,
          51.492507,
          51.492507,
          51.492507,
          51.492507,
          51.492507,
          51.492507,
          51.492507,
          51.492507,
          51.492507,
          51.492507,
          51.492507,
          51.492507,
          51.492507,
          51.492507,
          51.492507,
          51.492507,
          51.492507,
          51.492507,
          51.492507,
          51.492507,
          51.492507,
          51.533238,
          51.533238,
          51.533238,
          51.533238,
          51.533238,
          51.533238,
          51.533238,
          51.533238,
          51.533238,
          51.533238,
          51.533238,
          51.533238,
          51.533238,
          51.533238,
          51.533238,
          51.533238,
          51.533238,
          51.533238,
          51.533238,
          51.533238,
          51.533238,
          51.533238,
          51.533238,
          51.533238,
          51.4563,
          51.4563,
          51.4563,
          51.4563,
          51.4563,
          51.4563,
          51.4563,
          51.4563,
          51.4563,
          51.4563,
          51.4563,
          51.4563,
          51.4563,
          51.4563,
          51.4563,
          51.4563,
          51.4563,
          51.4563,
          51.4563,
          51.4563,
          51.4563,
          51.4563,
          51.4563,
          51.4563,
          51.4563,
          51.4563,
          51.4563,
          51.4563,
          51.4563,
          51.4563,
          51.4563,
          51.4563,
          51.4563,
          51.4563,
          51.4563,
          51.4563,
          51.4563,
          51.4563,
          51.4563,
          51.4563,
          51.4563,
          51.4563,
          51.4563,
          51.4563,
          51.4563,
          51.4563,
          51.4563,
          51.4563,
          51.4563,
          51.4563,
          51.4563,
          51.4563,
          51.4563,
          51.4563,
          51.4563,
          51.4563,
          51.4563,
          51.4563,
          51.4563,
          51.4563,
          51.4563,
          51.4563,
          51.4563,
          51.4563,
          51.4563,
          51.4563,
          51.4563,
          51.4563,
          51.4563,
          51.4563,
          51.4563,
          51.4563,
          51.4563,
          51.4563,
          51.4563,
          51.4563,
          51.4563,
          51.4563,
          51.4563,
          51.4563,
          51.4563,
          51.4563,
          51.4563,
          51.4563,
          51.4563,
          51.4563,
          51.4563,
          51.4563,
          51.4563,
          51.4563,
          51.4563,
          51.4563,
          51.4563,
          51.4563,
          51.4563,
          51.4563,
          51.499140000000004,
          51.499140000000004,
          51.499140000000004,
          51.499140000000004,
          51.499140000000004,
          51.499140000000004,
          51.499140000000004,
          51.499140000000004,
          51.499140000000004,
          51.499140000000004,
          51.499140000000004,
          51.499140000000004,
          51.499140000000004,
          51.499140000000004,
          51.499140000000004,
          51.499140000000004,
          51.499140000000004,
          51.499140000000004,
          51.499140000000004,
          51.499140000000004,
          51.499140000000004,
          51.499140000000004,
          51.499140000000004,
          51.499140000000004,
          51.46598327466621,
          51.46598327466621,
          51.46598327466621,
          51.46598327466621,
          51.46598327466621,
          51.46598327466621,
          51.46598327466621,
          51.46598327466621,
          51.46598327466621,
          51.46598327466621,
          51.46598327466621,
          51.46598327466621,
          51.46598327466621,
          51.46598327466621,
          51.46598327466621,
          51.46598327466621,
          51.46598327466621,
          51.46598327466621,
          51.46598327466621,
          51.46598327466621,
          51.46598327466621,
          51.46598327466621,
          51.46598327466621,
          51.46598327466621,
          51.46598327466621,
          51.46598327466621,
          51.46598327466621,
          51.46598327466621,
          51.46598327466621,
          51.46598327466621,
          51.46598327466621,
          51.46598327466621,
          51.46598327466621,
          51.46598327466621,
          51.46598327466621,
          51.46598327466621,
          51.46598327466621,
          51.46598327466621,
          51.46598327466621,
          51.46598327466621,
          51.46598327466621,
          51.46598327466621,
          51.46598327466621,
          51.46598327466621,
          51.46598327466621,
          51.46598327466621,
          51.46598327466621,
          51.46598327466621,
          51.46598327466621,
          51.46598327466621,
          51.46598327466621,
          51.46598327466621,
          51.46598327466621,
          51.46598327466621,
          51.46598327466621,
          51.46598327466621,
          51.46598327466621,
          51.46598327466621,
          51.46598327466621,
          51.46598327466621,
          51.46598327466621,
          51.46598327466621,
          51.46598327466621,
          51.46598327466621,
          51.46598327466621,
          51.46598327466621,
          51.46598327466621,
          51.46598327466621,
          51.46598327466621,
          51.46598327466621,
          51.46598327466621,
          51.46598327466621,
          51.46598327466621,
          51.46598327466621,
          51.46598327466621,
          51.46598327466621,
          51.46598327466621,
          51.46598327466621,
          51.46598327466621,
          51.46598327466621,
          51.46598327466621,
          51.46598327466621,
          51.46598327466621,
          51.46598327466621,
          51.46598327466621,
          51.46598327466621,
          51.46598327466621,
          51.46598327466621,
          51.46598327466621,
          51.46598327466621,
          51.46598327466621,
          51.46598327466621,
          51.46598327466621,
          51.46598327466621,
          51.46598327466621,
          51.46598327466621,
          51.480189,
          51.480189,
          51.480189,
          51.480189,
          51.480189,
          51.480189,
          51.480189,
          51.480189,
          51.480189,
          51.480189,
          51.480189,
          51.480189,
          51.480189,
          51.480189,
          51.480189,
          51.480189,
          51.480189,
          51.480189,
          51.480189,
          51.480189,
          51.480189,
          51.480189,
          51.480189,
          51.480189,
          51.429331,
          51.429331,
          51.429331,
          51.429331,
          51.429331,
          51.429331,
          51.429331,
          51.429331,
          51.429331,
          51.429331,
          51.429331,
          51.429331,
          51.429331,
          51.429331,
          51.429331,
          51.429331,
          51.429331,
          51.429331,
          51.429331,
          51.429331,
          51.429331,
          51.429331,
          51.429331,
          51.429331,
          51.45255156046479,
          51.45255156046479,
          51.45255156046479,
          51.45255156046479,
          51.45255156046479,
          51.45255156046479,
          51.45255156046479,
          51.45255156046479,
          51.45255156046479,
          51.45255156046479,
          51.45255156046479,
          51.45255156046479,
          51.45255156046479,
          51.45255156046479,
          51.45255156046479,
          51.45255156046479,
          51.45255156046479,
          51.45255156046479,
          51.45255156046479,
          51.45255156046479,
          51.45255156046479,
          51.45255156046479,
          51.45255156046479,
          51.45255156046479,
          51.591901,
          51.591901,
          51.591901,
          51.591901,
          51.591901,
          51.591901,
          51.591901,
          51.591901,
          51.591901,
          51.591901,
          51.591901,
          51.591901,
          51.591901,
          51.591901,
          51.591901,
          51.591901,
          51.591901,
          51.591901,
          51.591901,
          51.591901,
          51.591901,
          51.591901,
          51.591901,
          51.591901,
          51.4650325059122,
          51.4650325059122,
          51.4650325059122,
          51.4650325059122,
          51.4650325059122,
          51.4650325059122,
          51.4650325059122,
          51.4650325059122,
          51.4650325059122,
          51.4650325059122,
          51.4650325059122,
          51.4650325059122,
          51.4650325059122,
          51.4650325059122,
          51.4650325059122,
          51.4650325059122,
          51.4650325059122,
          51.4650325059122,
          51.4650325059122,
          51.4650325059122,
          51.4650325059122,
          51.4650325059122,
          51.4650325059122,
          51.4650325059122,
          51.613865000000004,
          51.613865000000004,
          51.613865000000004,
          51.613865000000004,
          51.613865000000004,
          51.613865000000004,
          51.613865000000004,
          51.613865000000004,
          51.613865000000004,
          51.613865000000004,
          51.613865000000004,
          51.613865000000004,
          51.613865000000004,
          51.613865000000004,
          51.613865000000004,
          51.613865000000004,
          51.613865000000004,
          51.613865000000004,
          51.613865000000004,
          51.613865000000004,
          51.613865000000004,
          51.613865000000004,
          51.613865000000004,
          51.613865000000004,
          51.492695,
          51.492695,
          51.492695,
          51.492695,
          51.492695,
          51.492695,
          51.492695,
          51.492695,
          51.492695,
          51.492695,
          51.492695,
          51.492695,
          51.492695,
          51.492695,
          51.492695,
          51.492695,
          51.492695,
          51.492695,
          51.492695,
          51.492695,
          51.492695,
          51.492695,
          51.492695,
          51.492695,
          51.5839769007709,
          51.5839769007709,
          51.5839769007709,
          51.5839769007709,
          51.5839769007709,
          51.5839769007709,
          51.5839769007709,
          51.5839769007709,
          51.5839769007709,
          51.5839769007709,
          51.5839769007709,
          51.5839769007709,
          51.5839769007709,
          51.5839769007709,
          51.5839769007709,
          51.5839769007709,
          51.5839769007709,
          51.5839769007709,
          51.5839769007709,
          51.5839769007709,
          51.5839769007709,
          51.5839769007709,
          51.5839769007709,
          51.5839769007709,
          51.493774669581796,
          51.493774669581796,
          51.493774669581796,
          51.493774669581796,
          51.493774669581796,
          51.493774669581796,
          51.493774669581796,
          51.493774669581796,
          51.493774669581796,
          51.493774669581796,
          51.493774669581796,
          51.493774669581796,
          51.493774669581796,
          51.493774669581796,
          51.493774669581796,
          51.493774669581796,
          51.493774669581796,
          51.493774669581796,
          51.493774669581796,
          51.493774669581796,
          51.493774669581796,
          51.493774669581796,
          51.493774669581796,
          51.493774669581796,
          51.45258,
          51.45258,
          51.45258,
          51.45258,
          51.45258,
          51.45258,
          51.45258,
          51.45258,
          51.45258,
          51.45258,
          51.45258,
          51.45258,
          51.45258,
          51.45258,
          51.45258,
          51.45258,
          51.45258,
          51.45258,
          51.45258,
          51.45258,
          51.45258,
          51.45258,
          51.45258,
          51.45258,
          51.38928690450499,
          51.38928690450499,
          51.38928690450499,
          51.38928690450499,
          51.38928690450499,
          51.38928690450499,
          51.38928690450499,
          51.38928690450499,
          51.38928690450499,
          51.38928690450499,
          51.38928690450499,
          51.38928690450499,
          51.38928690450499,
          51.38928690450499,
          51.38928690450499,
          51.38928690450499,
          51.38928690450499,
          51.38928690450499,
          51.38928690450499,
          51.38928690450499,
          51.38928690450499,
          51.38928690450499,
          51.38928690450499,
          51.38928690450499,
          51.51392874042129,
          51.51392874042129,
          51.51392874042129,
          51.51392874042129,
          51.51392874042129,
          51.51392874042129,
          51.51392874042129,
          51.51392874042129,
          51.51392874042129,
          51.51392874042129,
          51.51392874042129,
          51.51392874042129,
          51.51392874042129,
          51.51392874042129,
          51.51392874042129,
          51.51392874042129,
          51.51392874042129,
          51.51392874042129,
          51.51392874042129,
          51.51392874042129,
          51.51392874042129,
          51.51392874042129,
          51.51392874042129,
          51.51392874042129,
          51.537597999999996,
          51.537597999999996,
          51.537597999999996,
          51.537597999999996,
          51.537597999999996,
          51.537597999999996,
          51.537597999999996,
          51.537597999999996,
          51.537597999999996,
          51.537597999999996,
          51.537597999999996,
          51.537597999999996,
          51.537597999999996,
          51.537597999999996,
          51.537597999999996,
          51.537597999999996,
          51.537597999999996,
          51.537597999999996,
          51.537597999999996,
          51.537597999999996,
          51.537597999999996,
          51.537597999999996,
          51.537597999999996,
          51.537597999999996,
          51.410039000000005,
          51.410039000000005,
          51.410039000000005,
          51.410039000000005,
          51.410039000000005,
          51.410039000000005,
          51.410039000000005,
          51.410039000000005,
          51.410039000000005,
          51.410039000000005,
          51.410039000000005,
          51.410039000000005,
          51.410039000000005,
          51.410039000000005,
          51.410039000000005,
          51.410039000000005,
          51.410039000000005,
          51.410039000000005,
          51.410039000000005,
          51.410039000000005,
          51.410039000000005,
          51.410039000000005,
          51.410039000000005,
          51.410039000000005,
          51.483907253348505,
          51.483907253348505,
          51.483907253348505,
          51.483907253348505,
          51.483907253348505,
          51.483907253348505,
          51.483907253348505,
          51.483907253348505,
          51.483907253348505,
          51.483907253348505,
          51.483907253348505,
          51.483907253348505,
          51.483907253348505,
          51.483907253348505,
          51.483907253348505,
          51.483907253348505,
          51.483907253348505,
          51.483907253348505,
          51.483907253348505,
          51.483907253348505,
          51.483907253348505,
          51.483907253348505,
          51.483907253348505,
          51.483907253348505
         ],
         "lon": [
          -0.150913488159214,
          -0.150913488159214,
          -0.150913488159214,
          -0.150913488159214,
          -0.150913488159214,
          -0.150913488159214,
          -0.150913488159214,
          -0.150913488159214,
          -0.150913488159214,
          -0.150913488159214,
          -0.150913488159214,
          -0.150913488159214,
          -0.150913488159214,
          -0.150913488159214,
          -0.150913488159214,
          -0.150913488159214,
          -0.150913488159214,
          -0.150913488159214,
          -0.150913488159214,
          -0.150913488159214,
          -0.150913488159214,
          -0.150913488159214,
          -0.150913488159214,
          -0.150913488159214,
          -0.150913488159214,
          -0.150913488159214,
          -0.150913488159214,
          -0.150913488159214,
          -0.150913488159214,
          -0.150913488159214,
          -0.150913488159214,
          -0.150913488159214,
          -0.150913488159214,
          -0.150913488159214,
          -0.150913488159214,
          -0.150913488159214,
          -0.150913488159214,
          -0.150913488159214,
          -0.150913488159214,
          -0.150913488159214,
          -0.150913488159214,
          -0.150913488159214,
          -0.150913488159214,
          -0.150913488159214,
          -0.150913488159214,
          -0.150913488159214,
          -0.150913488159214,
          -0.150913488159214,
          -0.150913488159214,
          -0.150913488159214,
          -0.150913488159214,
          -0.150913488159214,
          -0.150913488159214,
          -0.150913488159214,
          -0.150913488159214,
          -0.150913488159214,
          -0.150913488159214,
          -0.150913488159214,
          -0.150913488159214,
          -0.150913488159214,
          -0.150913488159214,
          -0.150913488159214,
          -0.150913488159214,
          -0.150913488159214,
          -0.150913488159214,
          -0.150913488159214,
          -0.150913488159214,
          -0.150913488159214,
          -0.150913488159214,
          -0.150913488159214,
          -0.150913488159214,
          -0.150913488159214,
          -0.150913488159214,
          -0.150913488159214,
          -0.150913488159214,
          -0.150913488159214,
          -0.150913488159214,
          -0.150913488159214,
          -0.150913488159214,
          -0.150913488159214,
          -0.150913488159214,
          -0.150913488159214,
          -0.150913488159214,
          -0.150913488159214,
          -0.150913488159214,
          -0.150913488159214,
          -0.150913488159214,
          -0.150913488159214,
          -0.150913488159214,
          -0.150913488159214,
          -0.150913488159214,
          -0.150913488159214,
          -0.150913488159214,
          -0.150913488159214,
          -0.150913488159214,
          -0.150913488159214,
          -0.292488,
          -0.292488,
          -0.292488,
          -0.292488,
          -0.292488,
          -0.292488,
          -0.292488,
          -0.292488,
          -0.292488,
          -0.292488,
          -0.292488,
          -0.292488,
          -0.292488,
          -0.292488,
          -0.292488,
          -0.292488,
          -0.292488,
          -0.292488,
          -0.292488,
          -0.292488,
          -0.292488,
          -0.292488,
          -0.292488,
          -0.292488,
          -0.19589212,
          -0.19589212,
          -0.19589212,
          -0.19589212,
          -0.19589212,
          -0.19589212,
          -0.19589212,
          -0.19589212,
          -0.19589212,
          -0.19589212,
          -0.19589212,
          -0.19589212,
          -0.19589212,
          -0.19589212,
          -0.19589212,
          -0.19589212,
          -0.19589212,
          -0.19589212,
          -0.19589212,
          -0.19589212,
          -0.19589212,
          -0.19589212,
          -0.19589212,
          -0.19589212,
          -0.050765836368899996,
          -0.050765836368899996,
          -0.050765836368899996,
          -0.050765836368899996,
          -0.050765836368899996,
          -0.050765836368899996,
          -0.050765836368899996,
          -0.050765836368899996,
          -0.050765836368899996,
          -0.050765836368899996,
          -0.050765836368899996,
          -0.050765836368899996,
          -0.050765836368899996,
          -0.050765836368899996,
          -0.050765836368899996,
          -0.050765836368899996,
          -0.050765836368899996,
          -0.050765836368899996,
          -0.050765836368899996,
          -0.050765836368899996,
          -0.050765836368899996,
          -0.050765836368899996,
          -0.050765836368899996,
          -0.050765836368899996,
          -0.24779299999999999,
          -0.24779299999999999,
          -0.24779299999999999,
          -0.24779299999999999,
          -0.24779299999999999,
          -0.24779299999999999,
          -0.24779299999999999,
          -0.24779299999999999,
          -0.24779299999999999,
          -0.24779299999999999,
          -0.24779299999999999,
          -0.24779299999999999,
          -0.24779299999999999,
          -0.24779299999999999,
          -0.24779299999999999,
          -0.24779299999999999,
          -0.24779299999999999,
          -0.24779299999999999,
          -0.24779299999999999,
          -0.24779299999999999,
          -0.24779299999999999,
          -0.24779299999999999,
          -0.24779299999999999,
          -0.24779299999999999,
          -0.12019471131710001,
          -0.12019471131710001,
          -0.12019471131710001,
          -0.12019471131710001,
          -0.12019471131710001,
          -0.12019471131710001,
          -0.12019471131710001,
          -0.12019471131710001,
          -0.12019471131710001,
          -0.12019471131710001,
          -0.12019471131710001,
          -0.12019471131710001,
          -0.12019471131710001,
          -0.12019471131710001,
          -0.12019471131710001,
          -0.12019471131710001,
          -0.12019471131710001,
          -0.12019471131710001,
          -0.12019471131710001,
          -0.12019471131710001,
          -0.12019471131710001,
          -0.12019471131710001,
          -0.12019471131710001,
          -0.12019471131710001,
          0.095111,
          0.095111,
          0.095111,
          0.095111,
          0.095111,
          0.095111,
          0.095111,
          0.095111,
          0.095111,
          0.095111,
          0.095111,
          0.095111,
          0.095111,
          0.095111,
          0.095111,
          0.095111,
          0.095111,
          0.095111,
          0.095111,
          0.095111,
          0.095111,
          0.095111,
          0.095111,
          0.095111,
          -0.480984,
          -0.480984,
          -0.480984,
          -0.480984,
          -0.480984,
          -0.480984,
          -0.480984,
          -0.480984,
          -0.480984,
          -0.480984,
          -0.480984,
          -0.480984,
          -0.480984,
          -0.480984,
          -0.480984,
          -0.480984,
          -0.480984,
          -0.480984,
          -0.480984,
          -0.480984,
          -0.480984,
          -0.480984,
          -0.480984,
          -0.480984,
          -0.0252606031340197,
          -0.0252606031340197,
          -0.0252606031340197,
          -0.0252606031340197,
          -0.0252606031340197,
          -0.0252606031340197,
          -0.0252606031340197,
          -0.0252606031340197,
          -0.0252606031340197,
          -0.0252606031340197,
          -0.0252606031340197,
          -0.0252606031340197,
          -0.0252606031340197,
          -0.0252606031340197,
          -0.0252606031340197,
          -0.0252606031340197,
          -0.0252606031340197,
          -0.0252606031340197,
          -0.0252606031340197,
          -0.0252606031340197,
          -0.0252606031340197,
          -0.0252606031340197,
          -0.0252606031340197,
          -0.0252606031340197,
          -0.442092,
          -0.442092,
          -0.442092,
          -0.442092,
          -0.442092,
          -0.442092,
          -0.442092,
          -0.442092,
          -0.442092,
          -0.442092,
          -0.442092,
          -0.442092,
          -0.442092,
          -0.442092,
          -0.442092,
          -0.442092,
          -0.442092,
          -0.442092,
          -0.442092,
          -0.442092,
          -0.442092,
          -0.442092,
          -0.442092,
          -0.442092,
          -0.479451,
          -0.479451,
          -0.479451,
          -0.479451,
          -0.479451,
          -0.479451,
          -0.479451,
          -0.479451,
          -0.479451,
          -0.479451,
          -0.479451,
          -0.479451,
          -0.479451,
          -0.479451,
          -0.479451,
          -0.479451,
          -0.479451,
          -0.479451,
          -0.479451,
          -0.479451,
          -0.479451,
          -0.479451,
          -0.479451,
          -0.479451,
          -0.341218138106469,
          -0.341218138106469,
          -0.341218138106469,
          -0.341218138106469,
          -0.341218138106469,
          -0.341218138106469,
          -0.341218138106469,
          -0.341218138106469,
          -0.341218138106469,
          -0.341218138106469,
          -0.341218138106469,
          -0.341218138106469,
          -0.341218138106469,
          -0.341218138106469,
          -0.341218138106469,
          -0.341218138106469,
          -0.341218138106469,
          -0.341218138106469,
          -0.341218138106469,
          -0.341218138106469,
          -0.341218138106469,
          -0.341218138106469,
          -0.341218138106469,
          -0.341218138106469,
          -0.068218,
          -0.068218,
          -0.068218,
          -0.068218,
          -0.068218,
          -0.068218,
          -0.068218,
          -0.068218,
          -0.068218,
          -0.068218,
          -0.068218,
          -0.068218,
          -0.068218,
          -0.068218,
          -0.068218,
          -0.068218,
          -0.068218,
          -0.068218,
          -0.068218,
          -0.068218,
          -0.068218,
          -0.068218,
          -0.068218,
          -0.068218,
          -0.07776568175200001,
          -0.07776568175200001,
          -0.07776568175200001,
          -0.07776568175200001,
          -0.07776568175200001,
          -0.07776568175200001,
          -0.07776568175200001,
          -0.07776568175200001,
          -0.07776568175200001,
          -0.07776568175200001,
          -0.07776568175200001,
          -0.07776568175200001,
          -0.07776568175200001,
          -0.07776568175200001,
          -0.07776568175200001,
          -0.07776568175200001,
          -0.07776568175200001,
          -0.07776568175200001,
          -0.07776568175200001,
          -0.07776568175200001,
          -0.07776568175200001,
          -0.07776568175200001,
          -0.07776568175200001,
          -0.07776568175200001,
          -0.362989,
          -0.362989,
          -0.362989,
          -0.362989,
          -0.362989,
          -0.362989,
          -0.362989,
          -0.362989,
          -0.362989,
          -0.362989,
          -0.362989,
          -0.362989,
          -0.362989,
          -0.362989,
          -0.362989,
          -0.362989,
          -0.362989,
          -0.362989,
          -0.362989,
          -0.362989,
          -0.362989,
          -0.362989,
          -0.362989,
          -0.362989,
          0.074003,
          0.074003,
          0.074003,
          0.074003,
          0.074003,
          0.074003,
          0.074003,
          0.074003,
          0.074003,
          0.074003,
          0.074003,
          0.074003,
          0.074003,
          0.074003,
          0.074003,
          0.074003,
          0.074003,
          0.074003,
          0.074003,
          0.074003,
          0.074003,
          0.074003,
          0.074003,
          0.074003,
          -0.008418,
          -0.008418,
          -0.008418,
          -0.008418,
          -0.008418,
          -0.008418,
          -0.008418,
          -0.008418,
          -0.008418,
          -0.008418,
          -0.008418,
          -0.008418,
          -0.008418,
          -0.008418,
          -0.008418,
          -0.008418,
          -0.008418,
          -0.008418,
          -0.008418,
          -0.008418,
          -0.008418,
          -0.008418,
          -0.008418,
          -0.008418,
          -0.310081,
          -0.310081,
          -0.310081,
          -0.310081,
          -0.310081,
          -0.310081,
          -0.310081,
          -0.310081,
          -0.310081,
          -0.310081,
          -0.310081,
          -0.310081,
          -0.310081,
          -0.310081,
          -0.310081,
          -0.310081,
          -0.310081,
          -0.310081,
          -0.310081,
          -0.310081,
          -0.310081,
          -0.310081,
          -0.310081,
          -0.310081,
          -0.168397,
          -0.168397,
          -0.168397,
          -0.168397,
          -0.168397,
          -0.168397,
          -0.168397,
          -0.168397,
          -0.168397,
          -0.168397,
          -0.168397,
          -0.168397,
          -0.168397,
          -0.168397,
          -0.168397,
          -0.168397,
          -0.168397,
          -0.168397,
          -0.168397,
          -0.168397,
          -0.168397,
          -0.168397,
          -0.168397,
          -0.168397,
          -0.0661800662229116,
          -0.0661800662229116,
          -0.0661800662229116,
          -0.0661800662229116,
          -0.0661800662229116,
          -0.0661800662229116,
          -0.0661800662229116,
          -0.0661800662229116,
          -0.0661800662229116,
          -0.0661800662229116,
          -0.0661800662229116,
          -0.0661800662229116,
          -0.0661800662229116,
          -0.0661800662229116,
          -0.0661800662229116,
          -0.0661800662229116,
          -0.0661800662229116,
          -0.0661800662229116,
          -0.0661800662229116,
          -0.0661800662229116,
          -0.0661800662229116,
          -0.0661800662229116,
          -0.0661800662229116,
          -0.0661800662229116,
          -0.190863,
          -0.190863,
          -0.190863,
          -0.190863,
          -0.190863,
          -0.190863,
          -0.190863,
          -0.190863,
          -0.190863,
          -0.190863,
          -0.190863,
          -0.190863,
          -0.190863,
          -0.190863,
          -0.190863,
          -0.190863,
          -0.190863,
          -0.190863,
          -0.190863,
          -0.190863,
          -0.190863,
          -0.190863,
          -0.190863,
          -0.190863,
          -0.149723946604927,
          -0.149723946604927,
          -0.149723946604927,
          -0.149723946604927,
          -0.149723946604927,
          -0.149723946604927,
          -0.149723946604927,
          -0.149723946604927,
          -0.149723946604927,
          -0.149723946604927,
          -0.149723946604927,
          -0.149723946604927,
          -0.149723946604927,
          -0.149723946604927,
          -0.149723946604927,
          -0.149723946604927,
          -0.149723946604927,
          -0.149723946604927,
          -0.149723946604927,
          -0.149723946604927,
          -0.149723946604927,
          -0.149723946604927,
          -0.149723946604927,
          -0.149723946604927,
          -0.213492139585065,
          -0.213492139585065,
          -0.213492139585065,
          -0.213492139585065,
          -0.213492139585065,
          -0.213492139585065,
          -0.213492139585065,
          -0.213492139585065,
          -0.213492139585065,
          -0.213492139585065,
          -0.213492139585065,
          -0.213492139585065,
          -0.213492139585065,
          -0.213492139585065,
          -0.213492139585065,
          -0.213492139585065,
          -0.213492139585065,
          -0.213492139585065,
          -0.213492139585065,
          -0.213492139585065,
          -0.213492139585065,
          -0.213492139585065,
          -0.213492139585065,
          -0.213492139585065,
          -0.213492139585065,
          -0.213492139585065,
          -0.213492139585065,
          -0.213492139585065,
          -0.213492139585065,
          -0.213492139585065,
          -0.213492139585065,
          -0.213492139585065,
          -0.213492139585065,
          -0.213492139585065,
          -0.213492139585065,
          -0.213492139585065,
          -0.213492139585065,
          -0.213492139585065,
          -0.213492139585065,
          -0.213492139585065,
          -0.213492139585065,
          -0.213492139585065,
          -0.213492139585065,
          -0.213492139585065,
          -0.213492139585065,
          -0.213492139585065,
          -0.213492139585065,
          -0.213492139585065,
          -0.213492139585065,
          -0.213492139585065,
          -0.213492139585065,
          -0.213492139585065,
          -0.213492139585065,
          -0.213492139585065,
          -0.213492139585065,
          -0.213492139585065,
          -0.213492139585065,
          -0.213492139585065,
          -0.213492139585065,
          -0.213492139585065,
          -0.213492139585065,
          -0.213492139585065,
          -0.213492139585065,
          -0.213492139585065,
          -0.213492139585065,
          -0.213492139585065,
          -0.213492139585065,
          -0.213492139585065,
          -0.213492139585065,
          -0.213492139585065,
          -0.213492139585065,
          -0.213492139585065,
          -0.213492139585065,
          -0.213492139585065,
          -0.213492139585065,
          -0.213492139585065,
          -0.213492139585065,
          -0.213492139585065,
          -0.213492139585065,
          -0.213492139585065,
          -0.213492139585065,
          -0.213492139585065,
          -0.213492139585065,
          -0.213492139585065,
          -0.213492139585065,
          -0.213492139585065,
          -0.213492139585065,
          -0.213492139585065,
          -0.213492139585065,
          -0.213492139585065,
          -0.213492139585065,
          -0.213492139585065,
          -0.213492139585065,
          -0.213492139585065,
          -0.213492139585065,
          -0.213492139585065,
          -0.008418492656427409,
          -0.008418492656427409,
          -0.008418492656427409,
          -0.008418492656427409,
          -0.008418492656427409,
          -0.008418492656427409,
          -0.008418492656427409,
          -0.008418492656427409,
          -0.008418492656427409,
          -0.008418492656427409,
          -0.008418492656427409,
          -0.008418492656427409,
          -0.008418492656427409,
          -0.008418492656427409,
          -0.008418492656427409,
          -0.008418492656427409,
          -0.008418492656427409,
          -0.008418492656427409,
          -0.008418492656427409,
          -0.008418492656427409,
          -0.008418492656427409,
          -0.008418492656427409,
          -0.008418492656427409,
          -0.008418492656427409,
          0.0642224671704697,
          0.0642224671704697,
          0.0642224671704697,
          0.0642224671704697,
          0.0642224671704697,
          0.0642224671704697,
          0.0642224671704697,
          0.0642224671704697,
          0.0642224671704697,
          0.0642224671704697,
          0.0642224671704697,
          0.0642224671704697,
          0.0642224671704697,
          0.0642224671704697,
          0.0642224671704697,
          0.0642224671704697,
          0.0642224671704697,
          0.0642224671704697,
          0.0642224671704697,
          0.0642224671704697,
          0.0642224671704697,
          0.0642224671704697,
          0.0642224671704697,
          0.0642224671704697,
          -0.004898,
          -0.004898,
          -0.004898,
          -0.004898,
          -0.004898,
          -0.004898,
          -0.004898,
          -0.004898,
          -0.004898,
          -0.004898,
          -0.004898,
          -0.004898,
          -0.004898,
          -0.004898,
          -0.004898,
          -0.004898,
          -0.004898,
          -0.004898,
          -0.004898,
          -0.004898,
          -0.004898,
          -0.004898,
          -0.004898,
          -0.004898,
          -0.0967638468323854,
          -0.0967638468323854,
          -0.0967638468323854,
          -0.0967638468323854,
          -0.0967638468323854,
          -0.0967638468323854,
          -0.0967638468323854,
          -0.0967638468323854,
          -0.0967638468323854,
          -0.0967638468323854,
          -0.0967638468323854,
          -0.0967638468323854,
          -0.0967638468323854,
          -0.0967638468323854,
          -0.0967638468323854,
          -0.0967638468323854,
          -0.0967638468323854,
          -0.0967638468323854,
          -0.0967638468323854,
          -0.0967638468323854,
          -0.0967638468323854,
          -0.0967638468323854,
          -0.0967638468323854,
          -0.0967638468323854,
          -0.298775,
          -0.298775,
          -0.298775,
          -0.298775,
          -0.298775,
          -0.298775,
          -0.298775,
          -0.298775,
          -0.298775,
          -0.298775,
          -0.298775,
          -0.298775,
          -0.298775,
          -0.298775,
          -0.298775,
          -0.298775,
          -0.298775,
          -0.298775,
          -0.298775,
          -0.298775,
          -0.298775,
          -0.298775,
          -0.298775,
          -0.298775,
          -0.12162720332855999,
          -0.12162720332855999,
          -0.12162720332855999,
          -0.12162720332855999,
          -0.12162720332855999,
          -0.12162720332855999,
          -0.12162720332855999,
          -0.12162720332855999,
          -0.12162720332855999,
          -0.12162720332855999,
          -0.12162720332855999,
          -0.12162720332855999,
          -0.12162720332855999,
          -0.12162720332855999,
          -0.12162720332855999,
          -0.12162720332855999,
          -0.12162720332855999,
          -0.12162720332855999,
          -0.12162720332855999,
          -0.12162720332855999,
          -0.12162720332855999,
          -0.12162720332855999,
          -0.12162720332855999,
          -0.12162720332855999,
          -0.261916,
          -0.261916,
          -0.261916,
          -0.261916,
          -0.261916,
          -0.261916,
          -0.261916,
          -0.261916,
          -0.261916,
          -0.261916,
          -0.261916,
          -0.261916,
          -0.261916,
          -0.261916,
          -0.261916,
          -0.261916,
          -0.261916,
          -0.261916,
          -0.261916,
          -0.261916,
          -0.261916,
          -0.261916,
          -0.261916,
          -0.261916,
          -0.40278,
          -0.40278,
          -0.40278,
          -0.40278,
          -0.40278,
          -0.40278,
          -0.40278,
          -0.40278,
          -0.40278,
          -0.40278,
          -0.40278,
          -0.40278,
          -0.40278,
          -0.40278,
          -0.40278,
          -0.40278,
          -0.40278,
          -0.40278,
          -0.40278,
          -0.40278,
          -0.40278,
          -0.40278,
          -0.40278,
          -0.40278,
          -0.41851499999999997,
          -0.41851499999999997,
          -0.41851499999999997,
          -0.41851499999999997,
          -0.41851499999999997,
          -0.41851499999999997,
          -0.41851499999999997,
          -0.41851499999999997,
          -0.41851499999999997,
          -0.41851499999999997,
          -0.41851499999999997,
          -0.41851499999999997,
          -0.41851499999999997,
          -0.41851499999999997,
          -0.41851499999999997,
          -0.41851499999999997,
          -0.41851499999999997,
          -0.41851499999999997,
          -0.41851499999999997,
          -0.41851499999999997,
          -0.41851499999999997,
          -0.41851499999999997,
          -0.41851499999999997,
          -0.41851499999999997,
          0.018882,
          0.018882,
          0.018882,
          0.018882,
          0.018882,
          0.018882,
          0.018882,
          0.018882,
          0.018882,
          0.018882,
          0.018882,
          0.018882,
          0.018882,
          0.018882,
          0.018882,
          0.018882,
          0.018882,
          0.018882,
          0.018882,
          0.018882,
          0.018882,
          0.018882,
          0.018882,
          0.018882,
          -0.013628,
          -0.013628,
          -0.013628,
          -0.013628,
          -0.013628,
          -0.013628,
          -0.013628,
          -0.013628,
          -0.013628,
          -0.013628,
          -0.013628,
          -0.013628,
          -0.013628,
          -0.013628,
          -0.013628,
          -0.013628,
          -0.013628,
          -0.013628,
          -0.013628,
          -0.013628,
          -0.013628,
          -0.013628,
          -0.013628,
          -0.013628,
          -0.145657269364411,
          -0.145657269364411,
          -0.145657269364411,
          -0.145657269364411,
          -0.145657269364411,
          -0.145657269364411,
          -0.145657269364411,
          -0.145657269364411,
          -0.145657269364411,
          -0.145657269364411,
          -0.145657269364411,
          -0.145657269364411,
          -0.145657269364411,
          -0.145657269364411,
          -0.145657269364411,
          -0.145657269364411,
          -0.145657269364411,
          -0.145657269364411,
          -0.145657269364411,
          -0.145657269364411,
          -0.145657269364411,
          -0.145657269364411,
          -0.145657269364411,
          -0.145657269364411,
          -0.240414,
          -0.240414,
          -0.240414,
          -0.240414,
          -0.240414,
          -0.240414,
          -0.240414,
          -0.240414,
          -0.240414,
          -0.240414,
          -0.240414,
          -0.240414,
          -0.240414,
          -0.240414,
          -0.240414,
          -0.240414,
          -0.240414,
          -0.240414,
          -0.240414,
          -0.240414,
          -0.240414,
          -0.240414,
          -0.240414,
          -0.240414,
          -0.131938,
          -0.131938,
          -0.131938,
          -0.131938,
          -0.131938,
          -0.131938,
          -0.131938,
          -0.131938,
          -0.131938,
          -0.131938,
          -0.131938,
          -0.131938,
          -0.131938,
          -0.131938,
          -0.131938,
          -0.131938,
          -0.131938,
          -0.131938,
          -0.131938,
          -0.131938,
          -0.131938,
          -0.131938,
          -0.131938,
          -0.131938,
          -0.29658478,
          -0.29658478,
          -0.29658478,
          -0.29658478,
          -0.29658478,
          -0.29658478,
          -0.29658478,
          -0.29658478,
          -0.29658478,
          -0.29658478,
          -0.29658478,
          -0.29658478,
          -0.29658478,
          -0.29658478,
          -0.29658478,
          -0.29658478,
          -0.29658478,
          -0.29658478,
          -0.29658478,
          -0.29658478,
          -0.29658478,
          -0.29658478,
          -0.29658478,
          -0.29658478,
          -0.13516388,
          -0.13516388,
          -0.13516388,
          -0.13516388,
          -0.13516388,
          -0.13516388,
          -0.13516388,
          -0.13516388,
          -0.13516388,
          -0.13516388,
          -0.13516388,
          -0.13516388,
          -0.13516388,
          -0.13516388,
          -0.13516388,
          -0.13516388,
          -0.13516388,
          -0.13516388,
          -0.13516388,
          -0.13516388,
          -0.13516388,
          -0.13516388,
          -0.13516388,
          -0.13516388,
          -0.0873571979556188,
          -0.0873571979556188,
          -0.0873571979556188,
          -0.0873571979556188,
          -0.0873571979556188,
          -0.0873571979556188,
          -0.0873571979556188,
          -0.0873571979556188,
          -0.0873571979556188,
          -0.0873571979556188,
          -0.0873571979556188,
          -0.0873571979556188,
          -0.0873571979556188,
          -0.0873571979556188,
          -0.0873571979556188,
          -0.0873571979556188,
          -0.0873571979556188,
          -0.0873571979556188,
          -0.0873571979556188,
          -0.0873571979556188,
          -0.0873571979556188,
          -0.0873571979556188,
          -0.0873571979556188,
          -0.0873571979556188,
          -0.508729,
          -0.508729,
          -0.508729,
          -0.508729,
          -0.508729,
          -0.508729,
          -0.508729,
          -0.508729,
          -0.508729,
          -0.508729,
          -0.508729,
          -0.508729,
          -0.508729,
          -0.508729,
          -0.508729,
          -0.508729,
          -0.508729,
          -0.508729,
          -0.508729,
          -0.508729,
          -0.508729,
          -0.508729,
          -0.508729,
          -0.508729,
          -0.508729,
          -0.508729,
          -0.508729,
          -0.508729,
          -0.508729,
          -0.508729,
          -0.508729,
          -0.508729,
          -0.508729,
          -0.508729,
          -0.508729,
          -0.508729,
          -0.508729,
          -0.508729,
          -0.508729,
          -0.508729,
          -0.508729,
          -0.508729,
          -0.508729,
          -0.508729,
          -0.508729,
          -0.508729,
          -0.508729,
          -0.508729,
          -0.508729,
          -0.508729,
          -0.508729,
          -0.508729,
          -0.508729,
          -0.508729,
          -0.508729,
          -0.508729,
          -0.508729,
          -0.508729,
          -0.508729,
          -0.508729,
          -0.508729,
          -0.508729,
          -0.508729,
          -0.508729,
          -0.508729,
          -0.508729,
          -0.508729,
          -0.508729,
          -0.508729,
          -0.508729,
          -0.508729,
          -0.508729,
          -0.508729,
          -0.508729,
          -0.508729,
          -0.508729,
          -0.508729,
          -0.508729,
          -0.508729,
          -0.508729,
          -0.508729,
          -0.508729,
          -0.508729,
          -0.508729,
          -0.508729,
          -0.508729,
          -0.508729,
          -0.508729,
          -0.508729,
          -0.508729,
          -0.508729,
          -0.508729,
          -0.508729,
          -0.508729,
          -0.508729,
          -0.508729,
          -0.042155,
          -0.042155,
          -0.042155,
          -0.042155,
          -0.042155,
          -0.042155,
          -0.042155,
          -0.042155,
          -0.042155,
          -0.042155,
          -0.042155,
          -0.042155,
          -0.042155,
          -0.042155,
          -0.042155,
          -0.042155,
          -0.042155,
          -0.042155,
          -0.042155,
          -0.042155,
          -0.042155,
          -0.042155,
          -0.042155,
          -0.042155,
          -0.408733,
          -0.408733,
          -0.408733,
          -0.408733,
          -0.408733,
          -0.408733,
          -0.408733,
          -0.408733,
          -0.408733,
          -0.408733,
          -0.408733,
          -0.408733,
          -0.408733,
          -0.408733,
          -0.408733,
          -0.408733,
          -0.408733,
          -0.408733,
          -0.408733,
          -0.408733,
          -0.408733,
          -0.408733,
          -0.408733,
          -0.408733,
          -0.13186863879576,
          -0.13186863879576,
          -0.13186863879576,
          -0.13186863879576,
          -0.13186863879576,
          -0.13186863879576,
          -0.13186863879576,
          -0.13186863879576,
          -0.13186863879576,
          -0.13186863879576,
          -0.13186863879576,
          -0.13186863879576,
          -0.13186863879576,
          -0.13186863879576,
          -0.13186863879576,
          -0.13186863879576,
          -0.13186863879576,
          -0.13186863879576,
          -0.13186863879576,
          -0.13186863879576,
          -0.13186863879576,
          -0.13186863879576,
          -0.13186863879576,
          -0.13186863879576,
          -0.22466999999999998,
          -0.22466999999999998,
          -0.22466999999999998,
          -0.22466999999999998,
          -0.22466999999999998,
          -0.22466999999999998,
          -0.22466999999999998,
          -0.22466999999999998,
          -0.22466999999999998,
          -0.22466999999999998,
          -0.22466999999999998,
          -0.22466999999999998,
          -0.22466999999999998,
          -0.22466999999999998,
          -0.22466999999999998,
          -0.22466999999999998,
          -0.22466999999999998,
          -0.22466999999999998,
          -0.22466999999999998,
          -0.22466999999999998,
          -0.22466999999999998,
          -0.22466999999999998,
          -0.22466999999999998,
          -0.22466999999999998,
          -0.11760450735139201,
          -0.11760450735139201,
          -0.11760450735139201,
          -0.11760450735139201,
          -0.11760450735139201,
          -0.11760450735139201,
          -0.11760450735139201,
          -0.11760450735139201,
          -0.11760450735139201,
          -0.11760450735139201,
          -0.11760450735139201,
          -0.11760450735139201,
          -0.11760450735139201,
          -0.11760450735139201,
          -0.11760450735139201,
          -0.11760450735139201,
          -0.11760450735139201,
          -0.11760450735139201,
          -0.11760450735139201,
          -0.11760450735139201,
          -0.11760450735139201,
          -0.11760450735139201,
          -0.11760450735139201,
          -0.11760450735139201,
          0.137279111232178,
          0.137279111232178,
          0.137279111232178,
          0.137279111232178,
          0.137279111232178,
          0.137279111232178,
          0.137279111232178,
          0.137279111232178,
          0.137279111232178,
          0.137279111232178,
          0.137279111232178,
          0.137279111232178,
          0.137279111232178,
          0.137279111232178,
          0.137279111232178,
          0.137279111232178,
          0.137279111232178,
          0.137279111232178,
          0.137279111232178,
          0.137279111232178,
          0.137279111232178,
          0.137279111232178,
          0.137279111232178,
          0.137279111232178,
          -0.10698900000000001,
          -0.10698900000000001,
          -0.10698900000000001,
          -0.10698900000000001,
          -0.10698900000000001,
          -0.10698900000000001,
          -0.10698900000000001,
          -0.10698900000000001,
          -0.10698900000000001,
          -0.10698900000000001,
          -0.10698900000000001,
          -0.10698900000000001,
          -0.10698900000000001,
          -0.10698900000000001,
          -0.10698900000000001,
          -0.10698900000000001,
          -0.10698900000000001,
          -0.10698900000000001,
          -0.10698900000000001,
          -0.10698900000000001,
          -0.10698900000000001,
          -0.10698900000000001,
          -0.10698900000000001,
          -0.10698900000000001,
          -0.039641,
          -0.039641,
          -0.039641,
          -0.039641,
          -0.039641,
          -0.039641,
          -0.039641,
          -0.039641,
          -0.039641,
          -0.039641,
          -0.039641,
          -0.039641,
          -0.039641,
          -0.039641,
          -0.039641,
          -0.039641,
          -0.039641,
          -0.039641,
          -0.039641,
          -0.039641,
          -0.039641,
          -0.039641,
          -0.039641,
          -0.039641,
          -0.215890144123119,
          -0.215890144123119,
          -0.215890144123119,
          -0.215890144123119,
          -0.215890144123119,
          -0.215890144123119,
          -0.215890144123119,
          -0.215890144123119,
          -0.215890144123119,
          -0.215890144123119,
          -0.215890144123119,
          -0.215890144123119,
          -0.215890144123119,
          -0.215890144123119,
          -0.215890144123119,
          -0.215890144123119,
          -0.215890144123119,
          -0.215890144123119,
          -0.215890144123119,
          -0.215890144123119,
          -0.215890144123119,
          -0.215890144123119,
          -0.215890144123119,
          -0.215890144123119,
          -0.116146,
          -0.116146,
          -0.116146,
          -0.116146,
          -0.116146,
          -0.116146,
          -0.116146,
          -0.116146,
          -0.116146,
          -0.116146,
          -0.116146,
          -0.116146,
          -0.116146,
          -0.116146,
          -0.116146,
          -0.116146,
          -0.116146,
          -0.116146,
          -0.116146,
          -0.116146,
          -0.116146,
          -0.116146,
          -0.116146,
          -0.116146,
          -0.345608290872898,
          -0.345608290872898,
          -0.345608290872898,
          -0.345608290872898,
          -0.345608290872898,
          -0.345608290872898,
          -0.345608290872898,
          -0.345608290872898,
          -0.345608290872898,
          -0.345608290872898,
          -0.345608290872898,
          -0.345608290872898,
          -0.345608290872898,
          -0.345608290872898,
          -0.345608290872898,
          -0.345608290872898,
          -0.345608290872898,
          -0.345608290872898,
          -0.345608290872898,
          -0.345608290872898,
          -0.345608290872898,
          -0.345608290872898,
          -0.345608290872898,
          -0.345608290872898,
          -0.178809,
          -0.178809,
          -0.178809,
          -0.178809,
          -0.178809,
          -0.178809,
          -0.178809,
          -0.178809,
          -0.178809,
          -0.178809,
          -0.178809,
          -0.178809,
          -0.178809,
          -0.178809,
          -0.178809,
          -0.178809,
          -0.178809,
          -0.178809,
          -0.178809,
          -0.178809,
          -0.178809,
          -0.178809,
          -0.178809,
          -0.178809,
          -0.19223080504282397,
          -0.19223080504282397,
          -0.19223080504282397,
          -0.19223080504282397,
          -0.19223080504282397,
          -0.19223080504282397,
          -0.19223080504282397,
          -0.19223080504282397,
          -0.19223080504282397,
          -0.19223080504282397,
          -0.19223080504282397,
          -0.19223080504282397,
          -0.19223080504282397,
          -0.19223080504282397,
          -0.19223080504282397,
          -0.19223080504282397,
          -0.19223080504282397,
          -0.19223080504282397,
          -0.19223080504282397,
          -0.19223080504282397,
          -0.19223080504282397,
          -0.19223080504282397,
          -0.19223080504282397,
          -0.19223080504282397,
          -0.176607,
          -0.176607,
          -0.176607,
          -0.176607,
          -0.176607,
          -0.176607,
          -0.176607,
          -0.176607,
          -0.176607,
          -0.176607,
          -0.176607,
          -0.176607,
          -0.176607,
          -0.176607,
          -0.176607,
          -0.176607,
          -0.176607,
          -0.176607,
          -0.176607,
          -0.176607,
          -0.176607,
          -0.176607,
          -0.176607,
          -0.176607,
          -0.1287742,
          -0.1287742,
          -0.1287742,
          -0.1287742,
          -0.1287742,
          -0.1287742,
          -0.1287742,
          -0.1287742,
          -0.1287742,
          -0.1287742,
          -0.1287742,
          -0.1287742,
          -0.1287742,
          -0.1287742,
          -0.1287742,
          -0.1287742,
          -0.1287742,
          -0.1287742,
          -0.1287742,
          -0.1287742,
          -0.1287742,
          -0.1287742,
          -0.1287742,
          -0.1287742,
          -0.26550263179975403,
          -0.26550263179975403,
          -0.26550263179975403,
          -0.26550263179975403,
          -0.26550263179975403,
          -0.26550263179975403,
          -0.26550263179975403,
          -0.26550263179975403,
          -0.26550263179975403,
          -0.26550263179975403,
          -0.26550263179975403,
          -0.26550263179975403,
          -0.26550263179975403,
          -0.26550263179975403,
          -0.26550263179975403,
          -0.26550263179975403,
          -0.26550263179975403,
          -0.26550263179975403,
          -0.26550263179975403,
          -0.26550263179975403,
          -0.26550263179975403,
          -0.26550263179975403,
          -0.26550263179975403,
          -0.26550263179975403,
          -0.215871,
          -0.215871,
          -0.215871,
          -0.215871,
          -0.215871,
          -0.215871,
          -0.215871,
          -0.215871,
          -0.215871,
          -0.215871,
          -0.215871,
          -0.215871,
          -0.215871,
          -0.215871,
          -0.215871,
          -0.215871,
          -0.215871,
          -0.215871,
          -0.215871,
          -0.215871,
          -0.215871,
          -0.215871,
          -0.215871,
          -0.215871,
          -0.26565205238622197,
          -0.26565205238622197,
          -0.26565205238622197,
          -0.26565205238622197,
          -0.26565205238622197,
          -0.26565205238622197,
          -0.26565205238622197,
          -0.26565205238622197,
          -0.26565205238622197,
          -0.26565205238622197,
          -0.26565205238622197,
          -0.26565205238622197,
          -0.26565205238622197,
          -0.26565205238622197,
          -0.26565205238622197,
          -0.26565205238622197,
          -0.26565205238622197,
          -0.26565205238622197,
          -0.26565205238622197,
          -0.26565205238622197,
          -0.26565205238622197,
          -0.26565205238622197,
          -0.26565205238622197,
          -0.26565205238622197,
          -0.0595528932573422,
          -0.0595528932573422,
          -0.0595528932573422,
          -0.0595528932573422,
          -0.0595528932573422,
          -0.0595528932573422,
          -0.0595528932573422,
          -0.0595528932573422,
          -0.0595528932573422,
          -0.0595528932573422,
          -0.0595528932573422,
          -0.0595528932573422,
          -0.0595528932573422,
          -0.0595528932573422,
          -0.0595528932573422,
          -0.0595528932573422,
          -0.0595528932573422,
          -0.0595528932573422,
          -0.0595528932573422,
          -0.0595528932573422,
          -0.0595528932573422,
          -0.0595528932573422,
          -0.0595528932573422,
          -0.0595528932573422,
          -0.230427,
          -0.230427,
          -0.230427,
          -0.230427,
          -0.230427,
          -0.230427,
          -0.230427,
          -0.230427,
          -0.230427,
          -0.230427,
          -0.230427,
          -0.230427,
          -0.230427,
          -0.230427,
          -0.230427,
          -0.230427,
          -0.230427,
          -0.230427,
          -0.230427,
          -0.230427,
          -0.230427,
          -0.230427,
          -0.230427,
          -0.230427,
          -0.42376,
          -0.42376,
          -0.42376,
          -0.42376,
          -0.42376,
          -0.42376,
          -0.42376,
          -0.42376,
          -0.42376,
          -0.42376,
          -0.42376,
          -0.42376,
          -0.42376,
          -0.42376,
          -0.42376,
          -0.42376,
          -0.42376,
          -0.42376,
          -0.42376,
          -0.42376,
          -0.42376,
          -0.42376,
          -0.42376,
          -0.42376,
          -0.101527038274853,
          -0.101527038274853,
          -0.101527038274853,
          -0.101527038274853,
          -0.101527038274853,
          -0.101527038274853,
          -0.101527038274853,
          -0.101527038274853,
          -0.101527038274853,
          -0.101527038274853,
          -0.101527038274853,
          -0.101527038274853,
          -0.101527038274853,
          -0.101527038274853,
          -0.101527038274853,
          -0.101527038274853,
          -0.101527038274853,
          -0.101527038274853,
          -0.101527038274853,
          -0.101527038274853,
          -0.101527038274853,
          -0.101527038274853,
          -0.101527038274853,
          -0.101527038274853,
          -0.09163400000000001,
          -0.09163400000000001,
          -0.09163400000000001,
          -0.09163400000000001,
          -0.09163400000000001,
          -0.09163400000000001,
          -0.09163400000000001,
          -0.09163400000000001,
          -0.09163400000000001,
          -0.09163400000000001,
          -0.09163400000000001,
          -0.09163400000000001,
          -0.09163400000000001,
          -0.09163400000000001,
          -0.09163400000000001,
          -0.09163400000000001,
          -0.09163400000000001,
          -0.09163400000000001,
          -0.09163400000000001,
          -0.09163400000000001,
          -0.09163400000000001,
          -0.09163400000000001,
          -0.09163400000000001,
          -0.09163400000000001,
          -0.486675,
          -0.486675,
          -0.486675,
          -0.486675,
          -0.486675,
          -0.486675,
          -0.486675,
          -0.486675,
          -0.486675,
          -0.486675,
          -0.486675,
          -0.486675,
          -0.486675,
          -0.486675,
          -0.486675,
          -0.486675,
          -0.486675,
          -0.486675,
          -0.486675,
          -0.486675,
          -0.486675,
          -0.486675,
          -0.486675,
          -0.486675,
          -0.0160682432041528,
          -0.0160682432041528,
          -0.0160682432041528,
          -0.0160682432041528,
          -0.0160682432041528,
          -0.0160682432041528,
          -0.0160682432041528,
          -0.0160682432041528,
          -0.0160682432041528,
          -0.0160682432041528,
          -0.0160682432041528,
          -0.0160682432041528,
          -0.0160682432041528,
          -0.0160682432041528,
          -0.0160682432041528,
          -0.0160682432041528,
          -0.0160682432041528,
          -0.0160682432041528,
          -0.0160682432041528,
          -0.0160682432041528,
          -0.0160682432041528,
          -0.0160682432041528,
          -0.0160682432041528,
          -0.0160682432041528,
          0.030858,
          0.030858,
          0.030858,
          0.030858,
          0.030858,
          0.030858,
          0.030858,
          0.030858,
          0.030858,
          0.030858,
          0.030858,
          0.030858,
          0.030858,
          0.030858,
          0.030858,
          0.030858,
          0.030858,
          0.030858,
          0.030858,
          0.030858,
          0.030858,
          0.030858,
          0.030858,
          0.030858,
          -0.175284,
          -0.175284,
          -0.175284,
          -0.175284,
          -0.175284,
          -0.175284,
          -0.175284,
          -0.175284,
          -0.175284,
          -0.175284,
          -0.175284,
          -0.175284,
          -0.175284,
          -0.175284,
          -0.175284,
          -0.175284,
          -0.175284,
          -0.175284,
          -0.175284,
          -0.175284,
          -0.175284,
          -0.175284,
          -0.175284,
          -0.175284,
          -0.012381,
          -0.012381,
          -0.012381,
          -0.012381,
          -0.012381,
          -0.012381,
          -0.012381,
          -0.012381,
          -0.012381,
          -0.012381,
          -0.012381,
          -0.012381,
          -0.012381,
          -0.012381,
          -0.012381,
          -0.012381,
          -0.012381,
          -0.012381,
          -0.012381,
          -0.012381,
          -0.012381,
          -0.012381,
          -0.012381,
          -0.012381,
          -0.020266,
          -0.020266,
          -0.020266,
          -0.020266,
          -0.020266,
          -0.020266,
          -0.020266,
          -0.020266,
          -0.020266,
          -0.020266,
          -0.020266,
          -0.020266,
          -0.020266,
          -0.020266,
          -0.020266,
          -0.020266,
          -0.020266,
          -0.020266,
          -0.020266,
          -0.020266,
          -0.020266,
          -0.020266,
          -0.020266,
          -0.020266,
          -0.016442,
          -0.016442,
          -0.016442,
          -0.016442,
          -0.016442,
          -0.016442,
          -0.016442,
          -0.016442,
          -0.016442,
          -0.016442,
          -0.016442,
          -0.016442,
          -0.016442,
          -0.016442,
          -0.016442,
          -0.016442,
          -0.016442,
          -0.016442,
          -0.016442,
          -0.016442,
          -0.016442,
          -0.016442,
          -0.016442,
          -0.016442,
          0.040725,
          0.040725,
          0.040725,
          0.040725,
          0.040725,
          0.040725,
          0.040725,
          0.040725,
          0.040725,
          0.040725,
          0.040725,
          0.040725,
          0.040725,
          0.040725,
          0.040725,
          0.040725,
          0.040725,
          0.040725,
          0.040725,
          0.040725,
          0.040725,
          0.040725,
          0.040725,
          0.040725,
          -0.0421550991900347,
          -0.0421550991900347,
          -0.0421550991900347,
          -0.0421550991900347,
          -0.0421550991900347,
          -0.0421550991900347,
          -0.0421550991900347,
          -0.0421550991900347,
          -0.0421550991900347,
          -0.0421550991900347,
          -0.0421550991900347,
          -0.0421550991900347,
          -0.0421550991900347,
          -0.0421550991900347,
          -0.0421550991900347,
          -0.0421550991900347,
          -0.0421550991900347,
          -0.0421550991900347,
          -0.0421550991900347,
          -0.0421550991900347,
          -0.0421550991900347,
          -0.0421550991900347,
          -0.0421550991900347,
          -0.0421550991900347,
          -0.270633,
          -0.270633,
          -0.270633,
          -0.270633,
          -0.270633,
          -0.270633,
          -0.270633,
          -0.270633,
          -0.270633,
          -0.270633,
          -0.270633,
          -0.270633,
          -0.270633,
          -0.270633,
          -0.270633,
          -0.270633,
          -0.270633,
          -0.270633,
          -0.270633,
          -0.270633,
          -0.270633,
          -0.270633,
          -0.270633,
          -0.270633,
          -0.12584800000000002,
          -0.12584800000000002,
          -0.12584800000000002,
          -0.12584800000000002,
          -0.12584800000000002,
          -0.12584800000000002,
          -0.12584800000000002,
          -0.12584800000000002,
          -0.12584800000000002,
          -0.12584800000000002,
          -0.12584800000000002,
          -0.12584800000000002,
          -0.12584800000000002,
          -0.12584800000000002,
          -0.12584800000000002,
          -0.12584800000000002,
          -0.12584800000000002,
          -0.12584800000000002,
          -0.12584800000000002,
          -0.12584800000000002,
          -0.12584800000000002,
          -0.12584800000000002,
          -0.12584800000000002,
          -0.12584800000000002,
          0.158914493927518,
          0.158914493927518,
          0.158914493927518,
          0.158914493927518,
          0.158914493927518,
          0.158914493927518,
          0.158914493927518,
          0.158914493927518,
          0.158914493927518,
          0.158914493927518,
          0.158914493927518,
          0.158914493927518,
          0.158914493927518,
          0.158914493927518,
          0.158914493927518,
          0.158914493927518,
          0.158914493927518,
          0.158914493927518,
          0.158914493927518,
          0.158914493927518,
          0.158914493927518,
          0.158914493927518,
          0.158914493927518,
          0.158914493927518,
          0.158914493927518,
          0.158914493927518,
          0.158914493927518,
          0.158914493927518,
          0.158914493927518,
          0.158914493927518,
          0.158914493927518,
          0.158914493927518,
          0.158914493927518,
          0.158914493927518,
          0.158914493927518,
          0.158914493927518,
          0.158914493927518,
          0.158914493927518,
          0.158914493927518,
          0.158914493927518,
          0.158914493927518,
          0.158914493927518,
          0.158914493927518,
          0.158914493927518,
          0.158914493927518,
          0.158914493927518,
          0.158914493927518,
          0.158914493927518,
          0.158914493927518,
          0.158914493927518,
          0.158914493927518,
          0.158914493927518,
          0.158914493927518,
          0.158914493927518,
          0.158914493927518,
          0.158914493927518,
          0.158914493927518,
          0.158914493927518,
          0.158914493927518,
          0.158914493927518,
          0.158914493927518,
          0.158914493927518,
          0.158914493927518,
          0.158914493927518,
          0.158914493927518,
          0.158914493927518,
          0.158914493927518,
          0.158914493927518,
          0.158914493927518,
          0.158914493927518,
          0.158914493927518,
          0.158914493927518,
          0.158914493927518,
          0.158914493927518,
          0.158914493927518,
          0.158914493927518,
          0.158914493927518,
          0.158914493927518,
          0.158914493927518,
          0.158914493927518,
          0.158914493927518,
          0.158914493927518,
          0.158914493927518,
          0.158914493927518,
          0.158914493927518,
          0.158914493927518,
          0.158914493927518,
          0.158914493927518,
          0.158914493927518,
          0.158914493927518,
          0.158914493927518,
          0.158914493927518,
          0.158914493927518,
          0.158914493927518,
          0.158914493927518,
          0.158914493927518,
          -0.284383,
          -0.284383,
          -0.284383,
          -0.284383,
          -0.284383,
          -0.284383,
          -0.284383,
          -0.284383,
          -0.284383,
          -0.284383,
          -0.284383,
          -0.284383,
          -0.284383,
          -0.284383,
          -0.284383,
          -0.284383,
          -0.284383,
          -0.284383,
          -0.284383,
          -0.284383,
          -0.284383,
          -0.284383,
          -0.284383,
          -0.284383,
          -0.28125900000000004,
          -0.28125900000000004,
          -0.28125900000000004,
          -0.28125900000000004,
          -0.28125900000000004,
          -0.28125900000000004,
          -0.28125900000000004,
          -0.28125900000000004,
          -0.28125900000000004,
          -0.28125900000000004,
          -0.28125900000000004,
          -0.28125900000000004,
          -0.28125900000000004,
          -0.28125900000000004,
          -0.28125900000000004,
          -0.28125900000000004,
          -0.28125900000000004,
          -0.28125900000000004,
          -0.28125900000000004,
          -0.28125900000000004,
          -0.28125900000000004,
          -0.28125900000000004,
          -0.28125900000000004,
          -0.28125900000000004,
          -0.14990599999999998,
          -0.14990599999999998,
          -0.14990599999999998,
          -0.14990599999999998,
          -0.14990599999999998,
          -0.14990599999999998,
          -0.14990599999999998,
          -0.14990599999999998,
          -0.14990599999999998,
          -0.14990599999999998,
          -0.14990599999999998,
          -0.14990599999999998,
          -0.14990599999999998,
          -0.14990599999999998,
          -0.14990599999999998,
          -0.14990599999999998,
          -0.14990599999999998,
          -0.14990599999999998,
          -0.14990599999999998,
          -0.14990599999999998,
          -0.14990599999999998,
          -0.14990599999999998,
          -0.14990599999999998,
          -0.14990599999999998,
          0.179079,
          0.179079,
          0.179079,
          0.179079,
          0.179079,
          0.179079,
          0.179079,
          0.179079,
          0.179079,
          0.179079,
          0.179079,
          0.179079,
          0.179079,
          0.179079,
          0.179079,
          0.179079,
          0.179079,
          0.179079,
          0.179079,
          0.179079,
          0.179079,
          0.179079,
          0.179079,
          0.179079,
          -0.012977,
          -0.012977,
          -0.012977,
          -0.012977,
          -0.012977,
          -0.012977,
          -0.012977,
          -0.012977,
          -0.012977,
          -0.012977,
          -0.012977,
          -0.012977,
          -0.012977,
          -0.012977,
          -0.012977,
          -0.012977,
          -0.012977,
          -0.012977,
          -0.012977,
          -0.012977,
          -0.012977,
          -0.012977,
          -0.012977,
          -0.012977,
          -0.427525,
          -0.427525,
          -0.427525,
          -0.427525,
          -0.427525,
          -0.427525,
          -0.427525,
          -0.427525,
          -0.427525,
          -0.427525,
          -0.427525,
          -0.427525,
          -0.427525,
          -0.427525,
          -0.427525,
          -0.427525,
          -0.427525,
          -0.427525,
          -0.427525,
          -0.427525,
          -0.427525,
          -0.427525,
          -0.427525,
          -0.427525,
          0.0829074748964946,
          0.0829074748964946,
          0.0829074748964946,
          0.0829074748964946,
          0.0829074748964946,
          0.0829074748964946,
          0.0829074748964946,
          0.0829074748964946,
          0.0829074748964946,
          0.0829074748964946,
          0.0829074748964946,
          0.0829074748964946,
          0.0829074748964946,
          0.0829074748964946,
          0.0829074748964946,
          0.0829074748964946,
          0.0829074748964946,
          0.0829074748964946,
          0.0829074748964946,
          0.0829074748964946,
          0.0829074748964946,
          0.0829074748964946,
          0.0829074748964946,
          0.0829074748964946,
          -0.460826,
          -0.460826,
          -0.460826,
          -0.460826,
          -0.460826,
          -0.460826,
          -0.460826,
          -0.460826,
          -0.460826,
          -0.460826,
          -0.460826,
          -0.460826,
          -0.460826,
          -0.460826,
          -0.460826,
          -0.460826,
          -0.460826,
          -0.460826,
          -0.460826,
          -0.460826,
          -0.460826,
          -0.460826,
          -0.460826,
          -0.460826,
          -0.10451562633787599,
          -0.10451562633787599,
          -0.10451562633787599,
          -0.10451562633787599,
          -0.10451562633787599,
          -0.10451562633787599,
          -0.10451562633787599,
          -0.10451562633787599,
          -0.10451562633787599,
          -0.10451562633787599,
          -0.10451562633787599,
          -0.10451562633787599,
          -0.10451562633787599,
          -0.10451562633787599,
          -0.10451562633787599,
          -0.10451562633787599,
          -0.10451562633787599,
          -0.10451562633787599,
          -0.10451562633787599,
          -0.10451562633787599,
          -0.10451562633787599,
          -0.10451562633787599,
          -0.10451562633787599,
          -0.10451562633787599,
          -0.02200720557,
          -0.02200720557,
          -0.02200720557,
          -0.02200720557,
          -0.02200720557,
          -0.02200720557,
          -0.02200720557,
          -0.02200720557,
          -0.02200720557,
          -0.02200720557,
          -0.02200720557,
          -0.02200720557,
          -0.02200720557,
          -0.02200720557,
          -0.02200720557,
          -0.02200720557,
          -0.02200720557,
          -0.02200720557,
          -0.02200720557,
          -0.02200720557,
          -0.02200720557,
          -0.02200720557,
          -0.02200720557,
          -0.02200720557,
          -0.033306999999999996,
          -0.033306999999999996,
          -0.033306999999999996,
          -0.033306999999999996,
          -0.033306999999999996,
          -0.033306999999999996,
          -0.033306999999999996,
          -0.033306999999999996,
          -0.033306999999999996,
          -0.033306999999999996,
          -0.033306999999999996,
          -0.033306999999999996,
          -0.033306999999999996,
          -0.033306999999999996,
          -0.033306999999999996,
          -0.033306999999999996,
          -0.033306999999999996,
          -0.033306999999999996,
          -0.033306999999999996,
          -0.033306999999999996,
          -0.033306999999999996,
          -0.033306999999999996,
          -0.033306999999999996,
          -0.033306999999999996,
          -0.479444,
          -0.479444,
          -0.479444,
          -0.479444,
          -0.479444,
          -0.479444,
          -0.479444,
          -0.479444,
          -0.479444,
          -0.479444,
          -0.479444,
          -0.479444,
          -0.479444,
          -0.479444,
          -0.479444,
          -0.479444,
          -0.479444,
          -0.479444,
          -0.479444,
          -0.479444,
          -0.479444,
          -0.479444,
          -0.479444,
          -0.479444,
          -0.08491,
          -0.08491,
          -0.08491,
          -0.08491,
          -0.08491,
          -0.08491,
          -0.08491,
          -0.08491,
          -0.08491,
          -0.08491,
          -0.08491,
          -0.08491,
          -0.08491,
          -0.08491,
          -0.08491,
          -0.08491,
          -0.08491,
          -0.08491,
          -0.08491,
          -0.08491,
          -0.08491,
          -0.08491,
          -0.08491,
          -0.08491,
          -0.258089,
          -0.258089,
          -0.258089,
          -0.258089,
          -0.258089,
          -0.258089,
          -0.258089,
          -0.258089,
          -0.258089,
          -0.258089,
          -0.258089,
          -0.258089,
          -0.258089,
          -0.258089,
          -0.258089,
          -0.258089,
          -0.258089,
          -0.258089,
          -0.258089,
          -0.258089,
          -0.258089,
          -0.258089,
          -0.258089,
          -0.258089,
          -0.41189499999999996,
          -0.41189499999999996,
          -0.41189499999999996,
          -0.41189499999999996,
          -0.41189499999999996,
          -0.41189499999999996,
          -0.41189499999999996,
          -0.41189499999999996,
          -0.41189499999999996,
          -0.41189499999999996,
          -0.41189499999999996,
          -0.41189499999999996,
          -0.41189499999999996,
          -0.41189499999999996,
          -0.41189499999999996,
          -0.41189499999999996,
          -0.41189499999999996,
          -0.41189499999999996,
          -0.41189499999999996,
          -0.41189499999999996,
          -0.41189499999999996,
          -0.41189499999999996,
          -0.41189499999999996,
          -0.41189499999999996,
          0.20546070569404398,
          0.20546070569404398,
          0.20546070569404398,
          0.20546070569404398,
          0.20546070569404398,
          0.20546070569404398,
          0.20546070569404398,
          0.20546070569404398,
          0.20546070569404398,
          0.20546070569404398,
          0.20546070569404398,
          0.20546070569404398,
          0.20546070569404398,
          0.20546070569404398,
          0.20546070569404398,
          0.20546070569404398,
          0.20546070569404398,
          0.20546070569404398,
          0.20546070569404398,
          0.20546070569404398,
          0.20546070569404398,
          0.20546070569404398,
          0.20546070569404398,
          0.20546070569404398,
          -0.12454523481921302,
          -0.12454523481921302,
          -0.12454523481921302,
          -0.12454523481921302,
          -0.12454523481921302,
          -0.12454523481921302,
          -0.12454523481921302,
          -0.12454523481921302,
          -0.12454523481921302,
          -0.12454523481921302,
          -0.12454523481921302,
          -0.12454523481921302,
          -0.12454523481921302,
          -0.12454523481921302,
          -0.12454523481921302,
          -0.12454523481921302,
          -0.12454523481921302,
          -0.12454523481921302,
          -0.12454523481921302,
          -0.12454523481921302,
          -0.12454523481921302,
          -0.12454523481921302,
          -0.12454523481921302,
          -0.12454523481921302,
          -0.0374153592115306,
          -0.0374153592115306,
          -0.0374153592115306,
          -0.0374153592115306,
          -0.0374153592115306,
          -0.0374153592115306,
          -0.0374153592115306,
          -0.0374153592115306,
          -0.0374153592115306,
          -0.0374153592115306,
          -0.0374153592115306,
          -0.0374153592115306,
          -0.0374153592115306,
          -0.0374153592115306,
          -0.0374153592115306,
          -0.0374153592115306,
          -0.0374153592115306,
          -0.0374153592115306,
          -0.0374153592115306,
          -0.0374153592115306,
          -0.0374153592115306,
          -0.0374153592115306,
          -0.0374153592115306,
          -0.0374153592115306,
          -0.1364178614733,
          -0.1364178614733,
          -0.1364178614733,
          -0.1364178614733,
          -0.1364178614733,
          -0.1364178614733,
          -0.1364178614733,
          -0.1364178614733,
          -0.1364178614733,
          -0.1364178614733,
          -0.1364178614733,
          -0.1364178614733,
          -0.1364178614733,
          -0.1364178614733,
          -0.1364178614733,
          -0.1364178614733,
          -0.1364178614733,
          -0.1364178614733,
          -0.1364178614733,
          -0.1364178614733,
          -0.1364178614733,
          -0.1364178614733,
          -0.1364178614733,
          -0.1364178614733,
          0.132857,
          0.132857,
          0.132857,
          0.132857,
          0.132857,
          0.132857,
          0.132857,
          0.132857,
          0.132857,
          0.132857,
          0.132857,
          0.132857,
          0.132857,
          0.132857,
          0.132857,
          0.132857,
          0.132857,
          0.132857,
          0.132857,
          0.132857,
          0.132857,
          0.132857,
          0.132857,
          0.132857,
          -0.36476,
          -0.36476,
          -0.36476,
          -0.36476,
          -0.36476,
          -0.36476,
          -0.36476,
          -0.36476,
          -0.36476,
          -0.36476,
          -0.36476,
          -0.36476,
          -0.36476,
          -0.36476,
          -0.36476,
          -0.36476,
          -0.36476,
          -0.36476,
          -0.36476,
          -0.36476,
          -0.36476,
          -0.36476,
          -0.36476,
          -0.36476,
          -0.24877399999999997,
          -0.24877399999999997,
          -0.24877399999999997,
          -0.24877399999999997,
          -0.24877399999999997,
          -0.24877399999999997,
          -0.24877399999999997,
          -0.24877399999999997,
          -0.24877399999999997,
          -0.24877399999999997,
          -0.24877399999999997,
          -0.24877399999999997,
          -0.24877399999999997,
          -0.24877399999999997,
          -0.24877399999999997,
          -0.24877399999999997,
          -0.24877399999999997,
          -0.24877399999999997,
          -0.24877399999999997,
          -0.24877399999999997,
          -0.24877399999999997,
          -0.24877399999999997,
          -0.24877399999999997,
          -0.24877399999999997,
          -0.11671310352854598,
          -0.11671310352854598,
          -0.11671310352854598,
          -0.11671310352854598,
          -0.11671310352854598,
          -0.11671310352854598,
          -0.11671310352854598,
          -0.11671310352854598,
          -0.11671310352854598,
          -0.11671310352854598,
          -0.11671310352854598,
          -0.11671310352854598,
          -0.11671310352854598,
          -0.11671310352854598,
          -0.11671310352854598,
          -0.11671310352854598,
          -0.11671310352854598,
          -0.11671310352854598,
          -0.11671310352854598,
          -0.11671310352854598,
          -0.11671310352854598,
          -0.11671310352854598,
          -0.11671310352854598,
          -0.11671310352854598,
          -0.44055600000000006,
          -0.44055600000000006,
          -0.44055600000000006,
          -0.44055600000000006,
          -0.44055600000000006,
          -0.44055600000000006,
          -0.44055600000000006,
          -0.44055600000000006,
          -0.44055600000000006,
          -0.44055600000000006,
          -0.44055600000000006,
          -0.44055600000000006,
          -0.44055600000000006,
          -0.44055600000000006,
          -0.44055600000000006,
          -0.44055600000000006,
          -0.44055600000000006,
          -0.44055600000000006,
          -0.44055600000000006,
          -0.44055600000000006,
          -0.44055600000000006,
          -0.44055600000000006,
          -0.44055600000000006,
          -0.44055600000000006,
          0.17789100000000002,
          0.17789100000000002,
          0.17789100000000002,
          0.17789100000000002,
          0.17789100000000002,
          0.17789100000000002,
          0.17789100000000002,
          0.17789100000000002,
          0.17789100000000002,
          0.17789100000000002,
          0.17789100000000002,
          0.17789100000000002,
          0.17789100000000002,
          0.17789100000000002,
          0.17789100000000002,
          0.17789100000000002,
          0.17789100000000002,
          0.17789100000000002,
          0.17789100000000002,
          0.17789100000000002,
          0.17789100000000002,
          0.17789100000000002,
          0.17789100000000002,
          0.17789100000000002,
          -0.25466810162037196,
          -0.25466810162037196,
          -0.25466810162037196,
          -0.25466810162037196,
          -0.25466810162037196,
          -0.25466810162037196,
          -0.25466810162037196,
          -0.25466810162037196,
          -0.25466810162037196,
          -0.25466810162037196,
          -0.25466810162037196,
          -0.25466810162037196,
          -0.25466810162037196,
          -0.25466810162037196,
          -0.25466810162037196,
          -0.25466810162037196,
          -0.25466810162037196,
          -0.25466810162037196,
          -0.25466810162037196,
          -0.25466810162037196,
          -0.25466810162037196,
          -0.25466810162037196,
          -0.25466810162037196,
          -0.25466810162037196,
          -0.31750500000000004,
          -0.31750500000000004,
          -0.31750500000000004,
          -0.31750500000000004,
          -0.31750500000000004,
          -0.31750500000000004,
          -0.31750500000000004,
          -0.31750500000000004,
          -0.31750500000000004,
          -0.31750500000000004,
          -0.31750500000000004,
          -0.31750500000000004,
          -0.31750500000000004,
          -0.31750500000000004,
          -0.31750500000000004,
          -0.31750500000000004,
          -0.31750500000000004,
          -0.31750500000000004,
          -0.31750500000000004,
          -0.31750500000000004,
          -0.31750500000000004,
          -0.31750500000000004,
          -0.31750500000000004,
          -0.31750500000000004,
          -0.191074,
          -0.191074,
          -0.191074,
          -0.191074,
          -0.191074,
          -0.191074,
          -0.191074,
          -0.191074,
          -0.191074,
          -0.191074,
          -0.191074,
          -0.191074,
          -0.191074,
          -0.191074,
          -0.191074,
          -0.191074,
          -0.191074,
          -0.191074,
          -0.191074,
          -0.191074,
          -0.191074,
          -0.191074,
          -0.191074,
          -0.191074,
          -0.44162700000000005,
          -0.44162700000000005,
          -0.44162700000000005,
          -0.44162700000000005,
          -0.44162700000000005,
          -0.44162700000000005,
          -0.44162700000000005,
          -0.44162700000000005,
          -0.44162700000000005,
          -0.44162700000000005,
          -0.44162700000000005,
          -0.44162700000000005,
          -0.44162700000000005,
          -0.44162700000000005,
          -0.44162700000000005,
          -0.44162700000000005,
          -0.44162700000000005,
          -0.44162700000000005,
          -0.44162700000000005,
          -0.44162700000000005,
          -0.44162700000000005,
          -0.44162700000000005,
          -0.44162700000000005,
          -0.44162700000000005,
          -0.16671348599480598,
          -0.16671348599480598,
          -0.16671348599480598,
          -0.16671348599480598,
          -0.16671348599480598,
          -0.16671348599480598,
          -0.16671348599480598,
          -0.16671348599480598,
          -0.16671348599480598,
          -0.16671348599480598,
          -0.16671348599480598,
          -0.16671348599480598,
          -0.16671348599480598,
          -0.16671348599480598,
          -0.16671348599480598,
          -0.16671348599480598,
          -0.16671348599480598,
          -0.16671348599480598,
          -0.16671348599480598,
          -0.16671348599480598,
          -0.16671348599480598,
          -0.16671348599480598,
          -0.16671348599480598,
          -0.16671348599480598,
          -0.12311,
          -0.12311,
          -0.12311,
          -0.12311,
          -0.12311,
          -0.12311,
          -0.12311,
          -0.12311,
          -0.12311,
          -0.12311,
          -0.12311,
          -0.12311,
          -0.12311,
          -0.12311,
          -0.12311,
          -0.12311,
          -0.12311,
          -0.12311,
          -0.12311,
          -0.12311,
          -0.12311,
          -0.12311,
          -0.12311,
          -0.12311,
          -0.0252372551577627,
          -0.0252372551577627,
          -0.0252372551577627,
          -0.0252372551577627,
          -0.0252372551577627,
          -0.0252372551577627,
          -0.0252372551577627,
          -0.0252372551577627,
          -0.0252372551577627,
          -0.0252372551577627,
          -0.0252372551577627,
          -0.0252372551577627,
          -0.0252372551577627,
          -0.0252372551577627,
          -0.0252372551577627,
          -0.0252372551577627,
          -0.0252372551577627,
          -0.0252372551577627,
          -0.0252372551577627,
          -0.0252372551577627,
          -0.0252372551577627,
          -0.0252372551577627,
          -0.0252372551577627,
          -0.0252372551577627,
          -0.15459,
          -0.15459,
          -0.15459,
          -0.15459,
          -0.15459,
          -0.15459,
          -0.15459,
          -0.15459,
          -0.15459,
          -0.15459,
          -0.15459,
          -0.15459,
          -0.15459,
          -0.15459,
          -0.15459,
          -0.15459,
          -0.15459,
          -0.15459,
          -0.15459,
          -0.15459,
          -0.15459,
          -0.15459,
          -0.15459,
          -0.15459,
          -0.15459,
          -0.15459,
          -0.15459,
          -0.15459,
          -0.15459,
          -0.15459,
          -0.15459,
          -0.15459,
          -0.15459,
          -0.15459,
          -0.15459,
          -0.15459,
          -0.15459,
          -0.15459,
          -0.15459,
          -0.15459,
          -0.15459,
          -0.15459,
          -0.15459,
          -0.15459,
          -0.15459,
          -0.15459,
          -0.15459,
          -0.15459,
          -0.15459,
          -0.15459,
          -0.15459,
          -0.15459,
          -0.15459,
          -0.15459,
          -0.15459,
          -0.15459,
          -0.15459,
          -0.15459,
          -0.15459,
          -0.15459,
          -0.15459,
          -0.15459,
          -0.15459,
          -0.15459,
          -0.15459,
          -0.15459,
          -0.15459,
          -0.15459,
          -0.15459,
          -0.15459,
          -0.15459,
          -0.15459,
          -0.15459,
          -0.15459,
          -0.15459,
          -0.15459,
          -0.15459,
          -0.15459,
          -0.15459,
          -0.15459,
          -0.15459,
          -0.15459,
          -0.15459,
          -0.15459,
          -0.15459,
          -0.15459,
          -0.15459,
          -0.15459,
          -0.15459,
          -0.15459,
          -0.15459,
          -0.15459,
          -0.15459,
          -0.15459,
          -0.15459,
          -0.15459,
          0.014554,
          0.014554,
          0.014554,
          0.014554,
          0.014554,
          0.014554,
          0.014554,
          0.014554,
          0.014554,
          0.014554,
          0.014554,
          0.014554,
          0.014554,
          0.014554,
          0.014554,
          0.014554,
          0.014554,
          0.014554,
          0.014554,
          0.014554,
          0.014554,
          0.014554,
          0.014554,
          0.014554,
          -0.0961060474176381,
          -0.0961060474176381,
          -0.0961060474176381,
          -0.0961060474176381,
          -0.0961060474176381,
          -0.0961060474176381,
          -0.0961060474176381,
          -0.0961060474176381,
          -0.0961060474176381,
          -0.0961060474176381,
          -0.0961060474176381,
          -0.0961060474176381,
          -0.0961060474176381,
          -0.0961060474176381,
          -0.0961060474176381,
          -0.0961060474176381,
          -0.0961060474176381,
          -0.0961060474176381,
          -0.0961060474176381,
          -0.0961060474176381,
          -0.0961060474176381,
          -0.0961060474176381,
          -0.0961060474176381,
          -0.0961060474176381,
          -0.11458102695123,
          -0.11458102695123,
          -0.11458102695123,
          -0.11458102695123,
          -0.11458102695123,
          -0.11458102695123,
          -0.11458102695123,
          -0.11458102695123,
          -0.11458102695123,
          -0.11458102695123,
          -0.11458102695123,
          -0.11458102695123,
          -0.11458102695123,
          -0.11458102695123,
          -0.11458102695123,
          -0.11458102695123,
          -0.11458102695123,
          -0.11458102695123,
          -0.11458102695123,
          -0.11458102695123,
          -0.11458102695123,
          -0.11458102695123,
          -0.11458102695123,
          -0.11458102695123,
          0.017901,
          0.017901,
          0.017901,
          0.017901,
          0.017901,
          0.017901,
          0.017901,
          0.017901,
          0.017901,
          0.017901,
          0.017901,
          0.017901,
          0.017901,
          0.017901,
          0.017901,
          0.017901,
          0.017901,
          0.017901,
          0.017901,
          0.017901,
          0.017901,
          0.017901,
          0.017901,
          0.017901,
          -0.412333,
          -0.412333,
          -0.412333,
          -0.412333,
          -0.412333,
          -0.412333,
          -0.412333,
          -0.412333,
          -0.412333,
          -0.412333,
          -0.412333,
          -0.412333,
          -0.412333,
          -0.412333,
          -0.412333,
          -0.412333,
          -0.412333,
          -0.412333,
          -0.412333,
          -0.412333,
          -0.412333,
          -0.412333,
          -0.412333,
          -0.412333,
          -0.45569499999999996,
          -0.45569499999999996,
          -0.45569499999999996,
          -0.45569499999999996,
          -0.45569499999999996,
          -0.45569499999999996,
          -0.45569499999999996,
          -0.45569499999999996,
          -0.45569499999999996,
          -0.45569499999999996,
          -0.45569499999999996,
          -0.45569499999999996,
          -0.45569499999999996,
          -0.45569499999999996,
          -0.45569499999999996,
          -0.45569499999999996,
          -0.45569499999999996,
          -0.45569499999999996,
          -0.45569499999999996,
          -0.45569499999999996,
          -0.45569499999999996,
          -0.45569499999999996,
          -0.45569499999999996,
          -0.45569499999999996,
          -0.257029893767993,
          -0.257029893767993,
          -0.257029893767993,
          -0.257029893767993,
          -0.257029893767993,
          -0.257029893767993,
          -0.257029893767993,
          -0.257029893767993,
          -0.257029893767993,
          -0.257029893767993,
          -0.257029893767993,
          -0.257029893767993,
          -0.257029893767993,
          -0.257029893767993,
          -0.257029893767993,
          -0.257029893767993,
          -0.257029893767993,
          -0.257029893767993,
          -0.257029893767993,
          -0.257029893767993,
          -0.257029893767993,
          -0.257029893767993,
          -0.257029893767993,
          -0.257029893767993,
          -0.265617,
          -0.265617,
          -0.265617,
          -0.265617,
          -0.265617,
          -0.265617,
          -0.265617,
          -0.265617,
          -0.265617,
          -0.265617,
          -0.265617,
          -0.265617,
          -0.265617,
          -0.265617,
          -0.265617,
          -0.265617,
          -0.265617,
          -0.265617,
          -0.265617,
          -0.265617,
          -0.265617,
          -0.265617,
          -0.265617,
          -0.265617,
          -0.21771890863937698,
          -0.21771890863937698,
          -0.21771890863937698,
          -0.21771890863937698,
          -0.21771890863937698,
          -0.21771890863937698,
          -0.21771890863937698,
          -0.21771890863937698,
          -0.21771890863937698,
          -0.21771890863937698,
          -0.21771890863937698,
          -0.21771890863937698,
          -0.21771890863937698,
          -0.21771890863937698,
          -0.21771890863937698,
          -0.21771890863937698,
          -0.21771890863937698,
          -0.21771890863937698,
          -0.21771890863937698,
          -0.21771890863937698,
          -0.21771890863937698,
          -0.21771890863937698,
          -0.21771890863937698,
          -0.21771890863937698,
          -0.141786953606306,
          -0.141786953606306,
          -0.141786953606306,
          -0.141786953606306,
          -0.141786953606306,
          -0.141786953606306,
          -0.141786953606306,
          -0.141786953606306,
          -0.141786953606306,
          -0.141786953606306,
          -0.141786953606306,
          -0.141786953606306,
          -0.141786953606306,
          -0.141786953606306,
          -0.141786953606306,
          -0.141786953606306,
          -0.141786953606306,
          -0.141786953606306,
          -0.141786953606306,
          -0.141786953606306,
          -0.141786953606306,
          -0.141786953606306,
          -0.141786953606306,
          -0.141786953606306,
          -0.147391757027028,
          -0.147391757027028,
          -0.147391757027028,
          -0.147391757027028,
          -0.147391757027028,
          -0.147391757027028,
          -0.147391757027028,
          -0.147391757027028,
          -0.147391757027028,
          -0.147391757027028,
          -0.147391757027028,
          -0.147391757027028,
          -0.147391757027028,
          -0.147391757027028,
          -0.147391757027028,
          -0.147391757027028,
          -0.147391757027028,
          -0.147391757027028,
          -0.147391757027028,
          -0.147391757027028,
          -0.147391757027028,
          -0.147391757027028,
          -0.147391757027028,
          -0.147391757027028,
          -0.0782034373606952,
          -0.0782034373606952,
          -0.0782034373606952,
          -0.0782034373606952,
          -0.0782034373606952,
          -0.0782034373606952,
          -0.0782034373606952,
          -0.0782034373606952,
          -0.0782034373606952,
          -0.0782034373606952,
          -0.0782034373606952,
          -0.0782034373606952,
          -0.0782034373606952,
          -0.0782034373606952,
          -0.0782034373606952,
          -0.0782034373606952,
          -0.0782034373606952,
          -0.0782034373606952,
          -0.0782034373606952,
          -0.0782034373606952,
          -0.0782034373606952,
          -0.0782034373606952,
          -0.0782034373606952,
          -0.0782034373606952,
          -0.257252,
          -0.257252,
          -0.257252,
          -0.257252,
          -0.257252,
          -0.257252,
          -0.257252,
          -0.257252,
          -0.257252,
          -0.257252,
          -0.257252,
          -0.257252,
          -0.257252,
          -0.257252,
          -0.257252,
          -0.257252,
          -0.257252,
          -0.257252,
          -0.257252,
          -0.257252,
          -0.257252,
          -0.257252,
          -0.257252,
          -0.257252,
          -0.12959400000000001,
          -0.12959400000000001,
          -0.12959400000000001,
          -0.12959400000000001,
          -0.12959400000000001,
          -0.12959400000000001,
          -0.12959400000000001,
          -0.12959400000000001,
          -0.12959400000000001,
          -0.12959400000000001,
          -0.12959400000000001,
          -0.12959400000000001,
          -0.12959400000000001,
          -0.12959400000000001,
          -0.12959400000000001,
          -0.12959400000000001,
          -0.12959400000000001,
          -0.12959400000000001,
          -0.12959400000000001,
          -0.12959400000000001,
          -0.12959400000000001,
          -0.12959400000000001,
          -0.12959400000000001,
          -0.12959400000000001,
          0.08560599999999999,
          0.08560599999999999,
          0.08560599999999999,
          0.08560599999999999,
          0.08560599999999999,
          0.08560599999999999,
          0.08560599999999999,
          0.08560599999999999,
          0.08560599999999999,
          0.08560599999999999,
          0.08560599999999999,
          0.08560599999999999,
          0.08560599999999999,
          0.08560599999999999,
          0.08560599999999999,
          0.08560599999999999,
          0.08560599999999999,
          0.08560599999999999,
          0.08560599999999999,
          0.08560599999999999,
          0.08560599999999999,
          0.08560599999999999,
          0.08560599999999999,
          0.08560599999999999,
          0.08560599999999999,
          0.08560599999999999,
          0.08560599999999999,
          0.08560599999999999,
          0.08560599999999999,
          0.08560599999999999,
          0.08560599999999999,
          0.08560599999999999,
          0.08560599999999999,
          0.08560599999999999,
          0.08560599999999999,
          0.08560599999999999,
          0.08560599999999999,
          0.08560599999999999,
          0.08560599999999999,
          0.08560599999999999,
          0.08560599999999999,
          0.08560599999999999,
          0.08560599999999999,
          0.08560599999999999,
          0.08560599999999999,
          0.08560599999999999,
          0.08560599999999999,
          0.08560599999999999,
          0.08560599999999999,
          0.08560599999999999,
          0.08560599999999999,
          0.08560599999999999,
          0.08560599999999999,
          0.08560599999999999,
          0.08560599999999999,
          0.08560599999999999,
          0.08560599999999999,
          0.08560599999999999,
          0.08560599999999999,
          0.08560599999999999,
          0.08560599999999999,
          0.08560599999999999,
          0.08560599999999999,
          0.08560599999999999,
          0.08560599999999999,
          0.08560599999999999,
          0.08560599999999999,
          0.08560599999999999,
          0.08560599999999999,
          0.08560599999999999,
          0.08560599999999999,
          0.08560599999999999,
          0.08560599999999999,
          0.08560599999999999,
          0.08560599999999999,
          0.08560599999999999,
          0.08560599999999999,
          0.08560599999999999,
          0.08560599999999999,
          0.08560599999999999,
          0.08560599999999999,
          0.08560599999999999,
          0.08560599999999999,
          0.08560599999999999,
          0.08560599999999999,
          0.08560599999999999,
          0.08560599999999999,
          0.08560599999999999,
          0.08560599999999999,
          0.08560599999999999,
          0.08560599999999999,
          0.08560599999999999,
          0.08560599999999999,
          0.08560599999999999,
          0.08560599999999999,
          0.08560599999999999,
          -0.164338,
          -0.164338,
          -0.164338,
          -0.164338,
          -0.164338,
          -0.164338,
          -0.164338,
          -0.164338,
          -0.164338,
          -0.164338,
          -0.164338,
          -0.164338,
          -0.164338,
          -0.164338,
          -0.164338,
          -0.164338,
          -0.164338,
          -0.164338,
          -0.164338,
          -0.164338,
          -0.164338,
          -0.164338,
          -0.164338,
          -0.164338,
          0.184877126994369,
          0.184877126994369,
          0.184877126994369,
          0.184877126994369,
          0.184877126994369,
          0.184877126994369,
          0.184877126994369,
          0.184877126994369,
          0.184877126994369,
          0.184877126994369,
          0.184877126994369,
          0.184877126994369,
          0.184877126994369,
          0.184877126994369,
          0.184877126994369,
          0.184877126994369,
          0.184877126994369,
          0.184877126994369,
          0.184877126994369,
          0.184877126994369,
          0.184877126994369,
          0.184877126994369,
          0.184877126994369,
          0.184877126994369,
          0.184877126994369,
          0.184877126994369,
          0.184877126994369,
          0.184877126994369,
          0.184877126994369,
          0.184877126994369,
          0.184877126994369,
          0.184877126994369,
          0.184877126994369,
          0.184877126994369,
          0.184877126994369,
          0.184877126994369,
          0.184877126994369,
          0.184877126994369,
          0.184877126994369,
          0.184877126994369,
          0.184877126994369,
          0.184877126994369,
          0.184877126994369,
          0.184877126994369,
          0.184877126994369,
          0.184877126994369,
          0.184877126994369,
          0.184877126994369,
          0.184877126994369,
          0.184877126994369,
          0.184877126994369,
          0.184877126994369,
          0.184877126994369,
          0.184877126994369,
          0.184877126994369,
          0.184877126994369,
          0.184877126994369,
          0.184877126994369,
          0.184877126994369,
          0.184877126994369,
          0.184877126994369,
          0.184877126994369,
          0.184877126994369,
          0.184877126994369,
          0.184877126994369,
          0.184877126994369,
          0.184877126994369,
          0.184877126994369,
          0.184877126994369,
          0.184877126994369,
          0.184877126994369,
          0.184877126994369,
          0.184877126994369,
          0.184877126994369,
          0.184877126994369,
          0.184877126994369,
          0.184877126994369,
          0.184877126994369,
          0.184877126994369,
          0.184877126994369,
          0.184877126994369,
          0.184877126994369,
          0.184877126994369,
          0.184877126994369,
          0.184877126994369,
          0.184877126994369,
          0.184877126994369,
          0.184877126994369,
          0.184877126994369,
          0.184877126994369,
          0.184877126994369,
          0.184877126994369,
          0.184877126994369,
          0.184877126994369,
          0.184877126994369,
          0.184877126994369,
          -0.237335,
          -0.237335,
          -0.237335,
          -0.237335,
          -0.237335,
          -0.237335,
          -0.237335,
          -0.237335,
          -0.237335,
          -0.237335,
          -0.237335,
          -0.237335,
          -0.237335,
          -0.237335,
          -0.237335,
          -0.237335,
          -0.237335,
          -0.237335,
          -0.237335,
          -0.237335,
          -0.237335,
          -0.237335,
          -0.237335,
          -0.237335,
          -0.166524,
          -0.166524,
          -0.166524,
          -0.166524,
          -0.166524,
          -0.166524,
          -0.166524,
          -0.166524,
          -0.166524,
          -0.166524,
          -0.166524,
          -0.166524,
          -0.166524,
          -0.166524,
          -0.166524,
          -0.166524,
          -0.166524,
          -0.166524,
          -0.166524,
          -0.166524,
          -0.166524,
          -0.166524,
          -0.166524,
          -0.166524,
          0.0707291040798463,
          0.0707291040798463,
          0.0707291040798463,
          0.0707291040798463,
          0.0707291040798463,
          0.0707291040798463,
          0.0707291040798463,
          0.0707291040798463,
          0.0707291040798463,
          0.0707291040798463,
          0.0707291040798463,
          0.0707291040798463,
          0.0707291040798463,
          0.0707291040798463,
          0.0707291040798463,
          0.0707291040798463,
          0.0707291040798463,
          0.0707291040798463,
          0.0707291040798463,
          0.0707291040798463,
          0.0707291040798463,
          0.0707291040798463,
          0.0707291040798463,
          0.0707291040798463,
          -0.205992,
          -0.205992,
          -0.205992,
          -0.205992,
          -0.205992,
          -0.205992,
          -0.205992,
          -0.205992,
          -0.205992,
          -0.205992,
          -0.205992,
          -0.205992,
          -0.205992,
          -0.205992,
          -0.205992,
          -0.205992,
          -0.205992,
          -0.205992,
          -0.205992,
          -0.205992,
          -0.205992,
          -0.205992,
          -0.205992,
          -0.205992,
          -0.21582458094757198,
          -0.21582458094757198,
          -0.21582458094757198,
          -0.21582458094757198,
          -0.21582458094757198,
          -0.21582458094757198,
          -0.21582458094757198,
          -0.21582458094757198,
          -0.21582458094757198,
          -0.21582458094757198,
          -0.21582458094757198,
          -0.21582458094757198,
          -0.21582458094757198,
          -0.21582458094757198,
          -0.21582458094757198,
          -0.21582458094757198,
          -0.21582458094757198,
          -0.21582458094757198,
          -0.21582458094757198,
          -0.21582458094757198,
          -0.21582458094757198,
          -0.21582458094757198,
          -0.21582458094757198,
          -0.21582458094757198,
          -0.125338,
          -0.125338,
          -0.125338,
          -0.125338,
          -0.125338,
          -0.125338,
          -0.125338,
          -0.125338,
          -0.125338,
          -0.125338,
          -0.125338,
          -0.125338,
          -0.125338,
          -0.125338,
          -0.125338,
          -0.125338,
          -0.125338,
          -0.125338,
          -0.125338,
          -0.125338,
          -0.125338,
          -0.125338,
          -0.125338,
          -0.125338,
          -0.224787,
          -0.224787,
          -0.224787,
          -0.224787,
          -0.224787,
          -0.224787,
          -0.224787,
          -0.224787,
          -0.224787,
          -0.224787,
          -0.224787,
          -0.224787,
          -0.224787,
          -0.224787,
          -0.224787,
          -0.224787,
          -0.224787,
          -0.224787,
          -0.224787,
          -0.224787,
          -0.224787,
          -0.224787,
          -0.224787,
          -0.224787,
          -0.125400278484885,
          -0.125400278484885,
          -0.125400278484885,
          -0.125400278484885,
          -0.125400278484885,
          -0.125400278484885,
          -0.125400278484885,
          -0.125400278484885,
          -0.125400278484885,
          -0.125400278484885,
          -0.125400278484885,
          -0.125400278484885,
          -0.125400278484885,
          -0.125400278484885,
          -0.125400278484885,
          -0.125400278484885,
          -0.125400278484885,
          -0.125400278484885,
          -0.125400278484885,
          -0.125400278484885,
          -0.125400278484885,
          -0.125400278484885,
          -0.125400278484885,
          -0.125400278484885,
          0.0107796237032558,
          0.0107796237032558,
          0.0107796237032558,
          0.0107796237032558,
          0.0107796237032558,
          0.0107796237032558,
          0.0107796237032558,
          0.0107796237032558,
          0.0107796237032558,
          0.0107796237032558,
          0.0107796237032558,
          0.0107796237032558,
          0.0107796237032558,
          0.0107796237032558,
          0.0107796237032558,
          0.0107796237032558,
          0.0107796237032558,
          0.0107796237032558,
          0.0107796237032558,
          0.0107796237032558,
          0.0107796237032558,
          0.0107796237032558,
          0.0107796237032558,
          0.0107796237032558,
          0.070766,
          0.070766,
          0.070766,
          0.070766,
          0.070766,
          0.070766,
          0.070766,
          0.070766,
          0.070766,
          0.070766,
          0.070766,
          0.070766,
          0.070766,
          0.070766,
          0.070766,
          0.070766,
          0.070766,
          0.070766,
          0.070766,
          0.070766,
          0.070766,
          0.070766,
          0.070766,
          0.070766,
          -0.14166152477989302,
          -0.14166152477989302,
          -0.14166152477989302,
          -0.14166152477989302,
          -0.14166152477989302,
          -0.14166152477989302,
          -0.14166152477989302,
          -0.14166152477989302,
          -0.14166152477989302,
          -0.14166152477989302,
          -0.14166152477989302,
          -0.14166152477989302,
          -0.14166152477989302,
          -0.14166152477989302,
          -0.14166152477989302,
          -0.14166152477989302,
          -0.14166152477989302,
          -0.14166152477989302,
          -0.14166152477989302,
          -0.14166152477989302,
          -0.14166152477989302,
          -0.14166152477989302,
          -0.14166152477989302,
          -0.14166152477989302,
          -0.152792701881935,
          -0.152792701881935,
          -0.152792701881935,
          -0.152792701881935,
          -0.152792701881935,
          -0.152792701881935,
          -0.152792701881935,
          -0.152792701881935,
          -0.152792701881935,
          -0.152792701881935,
          -0.152792701881935,
          -0.152792701881935,
          -0.152792701881935,
          -0.152792701881935,
          -0.152792701881935,
          -0.152792701881935,
          -0.152792701881935,
          -0.152792701881935,
          -0.152792701881935,
          -0.152792701881935,
          -0.152792701881935,
          -0.152792701881935,
          -0.152792701881935,
          -0.152792701881935,
          -0.0021379999999999997,
          -0.0021379999999999997,
          -0.0021379999999999997,
          -0.0021379999999999997,
          -0.0021379999999999997,
          -0.0021379999999999997,
          -0.0021379999999999997,
          -0.0021379999999999997,
          -0.0021379999999999997,
          -0.0021379999999999997,
          -0.0021379999999999997,
          -0.0021379999999999997,
          -0.0021379999999999997,
          -0.0021379999999999997,
          -0.0021379999999999997,
          -0.0021379999999999997,
          -0.0021379999999999997,
          -0.0021379999999999997,
          -0.0021379999999999997,
          -0.0021379999999999997,
          -0.0021379999999999997,
          -0.0021379999999999997,
          -0.0021379999999999997,
          -0.0021379999999999997,
          -0.127523,
          -0.127523,
          -0.127523,
          -0.127523,
          -0.127523,
          -0.127523,
          -0.127523,
          -0.127523,
          -0.127523,
          -0.127523,
          -0.127523,
          -0.127523,
          -0.127523,
          -0.127523,
          -0.127523,
          -0.127523,
          -0.127523,
          -0.127523,
          -0.127523,
          -0.127523,
          -0.127523,
          -0.127523,
          -0.127523,
          -0.127523,
          0.000407396935849736,
          0.000407396935849736,
          0.000407396935849736,
          0.000407396935849736,
          0.000407396935849736,
          0.000407396935849736,
          0.000407396935849736,
          0.000407396935849736,
          0.000407396935849736,
          0.000407396935849736,
          0.000407396935849736,
          0.000407396935849736,
          0.000407396935849736,
          0.000407396935849736,
          0.000407396935849736,
          0.000407396935849736,
          0.000407396935849736,
          0.000407396935849736,
          0.000407396935849736,
          0.000407396935849736,
          0.000407396935849736,
          0.000407396935849736,
          0.000407396935849736,
          0.000407396935849736
         ],
         "mode": "markers",
         "type": "scattergeo"
        }
       ],
       "layout": {
        "geo": {
         "lataxis": {
          "range": [
           51.25,
           51.75
          ]
         },
         "lonaxis": {
          "range": [
           -0.5,
           0.2
          ],
          "showgrid": true
         },
         "projection": {
          "scale": 1
         },
         "resolution": 50,
         "showrivers": true
        },
        "template": {
         "data": {
          "bar": [
           {
            "error_x": {
             "color": "#2a3f5f"
            },
            "error_y": {
             "color": "#2a3f5f"
            },
            "marker": {
             "line": {
              "color": "#E5ECF6",
              "width": 0.5
             }
            },
            "type": "bar"
           }
          ],
          "barpolar": [
           {
            "marker": {
             "line": {
              "color": "#E5ECF6",
              "width": 0.5
             }
            },
            "type": "barpolar"
           }
          ],
          "carpet": [
           {
            "aaxis": {
             "endlinecolor": "#2a3f5f",
             "gridcolor": "white",
             "linecolor": "white",
             "minorgridcolor": "white",
             "startlinecolor": "#2a3f5f"
            },
            "baxis": {
             "endlinecolor": "#2a3f5f",
             "gridcolor": "white",
             "linecolor": "white",
             "minorgridcolor": "white",
             "startlinecolor": "#2a3f5f"
            },
            "type": "carpet"
           }
          ],
          "choropleth": [
           {
            "colorbar": {
             "outlinewidth": 0,
             "ticks": ""
            },
            "type": "choropleth"
           }
          ],
          "contour": [
           {
            "colorbar": {
             "outlinewidth": 0,
             "ticks": ""
            },
            "colorscale": [
             [
              0,
              "#0d0887"
             ],
             [
              0.1111111111111111,
              "#46039f"
             ],
             [
              0.2222222222222222,
              "#7201a8"
             ],
             [
              0.3333333333333333,
              "#9c179e"
             ],
             [
              0.4444444444444444,
              "#bd3786"
             ],
             [
              0.5555555555555556,
              "#d8576b"
             ],
             [
              0.6666666666666666,
              "#ed7953"
             ],
             [
              0.7777777777777778,
              "#fb9f3a"
             ],
             [
              0.8888888888888888,
              "#fdca26"
             ],
             [
              1,
              "#f0f921"
             ]
            ],
            "type": "contour"
           }
          ],
          "contourcarpet": [
           {
            "colorbar": {
             "outlinewidth": 0,
             "ticks": ""
            },
            "type": "contourcarpet"
           }
          ],
          "heatmap": [
           {
            "colorbar": {
             "outlinewidth": 0,
             "ticks": ""
            },
            "colorscale": [
             [
              0,
              "#0d0887"
             ],
             [
              0.1111111111111111,
              "#46039f"
             ],
             [
              0.2222222222222222,
              "#7201a8"
             ],
             [
              0.3333333333333333,
              "#9c179e"
             ],
             [
              0.4444444444444444,
              "#bd3786"
             ],
             [
              0.5555555555555556,
              "#d8576b"
             ],
             [
              0.6666666666666666,
              "#ed7953"
             ],
             [
              0.7777777777777778,
              "#fb9f3a"
             ],
             [
              0.8888888888888888,
              "#fdca26"
             ],
             [
              1,
              "#f0f921"
             ]
            ],
            "type": "heatmap"
           }
          ],
          "heatmapgl": [
           {
            "colorbar": {
             "outlinewidth": 0,
             "ticks": ""
            },
            "colorscale": [
             [
              0,
              "#0d0887"
             ],
             [
              0.1111111111111111,
              "#46039f"
             ],
             [
              0.2222222222222222,
              "#7201a8"
             ],
             [
              0.3333333333333333,
              "#9c179e"
             ],
             [
              0.4444444444444444,
              "#bd3786"
             ],
             [
              0.5555555555555556,
              "#d8576b"
             ],
             [
              0.6666666666666666,
              "#ed7953"
             ],
             [
              0.7777777777777778,
              "#fb9f3a"
             ],
             [
              0.8888888888888888,
              "#fdca26"
             ],
             [
              1,
              "#f0f921"
             ]
            ],
            "type": "heatmapgl"
           }
          ],
          "histogram": [
           {
            "marker": {
             "colorbar": {
              "outlinewidth": 0,
              "ticks": ""
             }
            },
            "type": "histogram"
           }
          ],
          "histogram2d": [
           {
            "colorbar": {
             "outlinewidth": 0,
             "ticks": ""
            },
            "colorscale": [
             [
              0,
              "#0d0887"
             ],
             [
              0.1111111111111111,
              "#46039f"
             ],
             [
              0.2222222222222222,
              "#7201a8"
             ],
             [
              0.3333333333333333,
              "#9c179e"
             ],
             [
              0.4444444444444444,
              "#bd3786"
             ],
             [
              0.5555555555555556,
              "#d8576b"
             ],
             [
              0.6666666666666666,
              "#ed7953"
             ],
             [
              0.7777777777777778,
              "#fb9f3a"
             ],
             [
              0.8888888888888888,
              "#fdca26"
             ],
             [
              1,
              "#f0f921"
             ]
            ],
            "type": "histogram2d"
           }
          ],
          "histogram2dcontour": [
           {
            "colorbar": {
             "outlinewidth": 0,
             "ticks": ""
            },
            "colorscale": [
             [
              0,
              "#0d0887"
             ],
             [
              0.1111111111111111,
              "#46039f"
             ],
             [
              0.2222222222222222,
              "#7201a8"
             ],
             [
              0.3333333333333333,
              "#9c179e"
             ],
             [
              0.4444444444444444,
              "#bd3786"
             ],
             [
              0.5555555555555556,
              "#d8576b"
             ],
             [
              0.6666666666666666,
              "#ed7953"
             ],
             [
              0.7777777777777778,
              "#fb9f3a"
             ],
             [
              0.8888888888888888,
              "#fdca26"
             ],
             [
              1,
              "#f0f921"
             ]
            ],
            "type": "histogram2dcontour"
           }
          ],
          "mesh3d": [
           {
            "colorbar": {
             "outlinewidth": 0,
             "ticks": ""
            },
            "type": "mesh3d"
           }
          ],
          "parcoords": [
           {
            "line": {
             "colorbar": {
              "outlinewidth": 0,
              "ticks": ""
             }
            },
            "type": "parcoords"
           }
          ],
          "pie": [
           {
            "automargin": true,
            "type": "pie"
           }
          ],
          "scatter": [
           {
            "marker": {
             "colorbar": {
              "outlinewidth": 0,
              "ticks": ""
             }
            },
            "type": "scatter"
           }
          ],
          "scatter3d": [
           {
            "line": {
             "colorbar": {
              "outlinewidth": 0,
              "ticks": ""
             }
            },
            "marker": {
             "colorbar": {
              "outlinewidth": 0,
              "ticks": ""
             }
            },
            "type": "scatter3d"
           }
          ],
          "scattercarpet": [
           {
            "marker": {
             "colorbar": {
              "outlinewidth": 0,
              "ticks": ""
             }
            },
            "type": "scattercarpet"
           }
          ],
          "scattergeo": [
           {
            "marker": {
             "colorbar": {
              "outlinewidth": 0,
              "ticks": ""
             }
            },
            "type": "scattergeo"
           }
          ],
          "scattergl": [
           {
            "marker": {
             "colorbar": {
              "outlinewidth": 0,
              "ticks": ""
             }
            },
            "type": "scattergl"
           }
          ],
          "scattermapbox": [
           {
            "marker": {
             "colorbar": {
              "outlinewidth": 0,
              "ticks": ""
             }
            },
            "type": "scattermapbox"
           }
          ],
          "scatterpolar": [
           {
            "marker": {
             "colorbar": {
              "outlinewidth": 0,
              "ticks": ""
             }
            },
            "type": "scatterpolar"
           }
          ],
          "scatterpolargl": [
           {
            "marker": {
             "colorbar": {
              "outlinewidth": 0,
              "ticks": ""
             }
            },
            "type": "scatterpolargl"
           }
          ],
          "scatterternary": [
           {
            "marker": {
             "colorbar": {
              "outlinewidth": 0,
              "ticks": ""
             }
            },
            "type": "scatterternary"
           }
          ],
          "surface": [
           {
            "colorbar": {
             "outlinewidth": 0,
             "ticks": ""
            },
            "colorscale": [
             [
              0,
              "#0d0887"
             ],
             [
              0.1111111111111111,
              "#46039f"
             ],
             [
              0.2222222222222222,
              "#7201a8"
             ],
             [
              0.3333333333333333,
              "#9c179e"
             ],
             [
              0.4444444444444444,
              "#bd3786"
             ],
             [
              0.5555555555555556,
              "#d8576b"
             ],
             [
              0.6666666666666666,
              "#ed7953"
             ],
             [
              0.7777777777777778,
              "#fb9f3a"
             ],
             [
              0.8888888888888888,
              "#fdca26"
             ],
             [
              1,
              "#f0f921"
             ]
            ],
            "type": "surface"
           }
          ],
          "table": [
           {
            "cells": {
             "fill": {
              "color": "#EBF0F8"
             },
             "line": {
              "color": "white"
             }
            },
            "header": {
             "fill": {
              "color": "#C8D4E3"
             },
             "line": {
              "color": "white"
             }
            },
            "type": "table"
           }
          ]
         },
         "layout": {
          "annotationdefaults": {
           "arrowcolor": "#2a3f5f",
           "arrowhead": 0,
           "arrowwidth": 1
          },
          "coloraxis": {
           "colorbar": {
            "outlinewidth": 0,
            "ticks": ""
           }
          },
          "colorscale": {
           "diverging": [
            [
             0,
             "#8e0152"
            ],
            [
             0.1,
             "#c51b7d"
            ],
            [
             0.2,
             "#de77ae"
            ],
            [
             0.3,
             "#f1b6da"
            ],
            [
             0.4,
             "#fde0ef"
            ],
            [
             0.5,
             "#f7f7f7"
            ],
            [
             0.6,
             "#e6f5d0"
            ],
            [
             0.7,
             "#b8e186"
            ],
            [
             0.8,
             "#7fbc41"
            ],
            [
             0.9,
             "#4d9221"
            ],
            [
             1,
             "#276419"
            ]
           ],
           "sequential": [
            [
             0,
             "#0d0887"
            ],
            [
             0.1111111111111111,
             "#46039f"
            ],
            [
             0.2222222222222222,
             "#7201a8"
            ],
            [
             0.3333333333333333,
             "#9c179e"
            ],
            [
             0.4444444444444444,
             "#bd3786"
            ],
            [
             0.5555555555555556,
             "#d8576b"
            ],
            [
             0.6666666666666666,
             "#ed7953"
            ],
            [
             0.7777777777777778,
             "#fb9f3a"
            ],
            [
             0.8888888888888888,
             "#fdca26"
            ],
            [
             1,
             "#f0f921"
            ]
           ],
           "sequentialminus": [
            [
             0,
             "#0d0887"
            ],
            [
             0.1111111111111111,
             "#46039f"
            ],
            [
             0.2222222222222222,
             "#7201a8"
            ],
            [
             0.3333333333333333,
             "#9c179e"
            ],
            [
             0.4444444444444444,
             "#bd3786"
            ],
            [
             0.5555555555555556,
             "#d8576b"
            ],
            [
             0.6666666666666666,
             "#ed7953"
            ],
            [
             0.7777777777777778,
             "#fb9f3a"
            ],
            [
             0.8888888888888888,
             "#fdca26"
            ],
            [
             1,
             "#f0f921"
            ]
           ]
          },
          "colorway": [
           "#636efa",
           "#EF553B",
           "#00cc96",
           "#ab63fa",
           "#FFA15A",
           "#19d3f3",
           "#FF6692",
           "#B6E880",
           "#FF97FF",
           "#FECB52"
          ],
          "font": {
           "color": "#2a3f5f"
          },
          "geo": {
           "bgcolor": "white",
           "lakecolor": "white",
           "landcolor": "#E5ECF6",
           "showlakes": true,
           "showland": true,
           "subunitcolor": "white"
          },
          "hoverlabel": {
           "align": "left"
          },
          "hovermode": "closest",
          "mapbox": {
           "style": "light"
          },
          "paper_bgcolor": "white",
          "plot_bgcolor": "#E5ECF6",
          "polar": {
           "angularaxis": {
            "gridcolor": "white",
            "linecolor": "white",
            "ticks": ""
           },
           "bgcolor": "#E5ECF6",
           "radialaxis": {
            "gridcolor": "white",
            "linecolor": "white",
            "ticks": ""
           }
          },
          "scene": {
           "xaxis": {
            "backgroundcolor": "#E5ECF6",
            "gridcolor": "white",
            "gridwidth": 2,
            "linecolor": "white",
            "showbackground": true,
            "ticks": "",
            "zerolinecolor": "white"
           },
           "yaxis": {
            "backgroundcolor": "#E5ECF6",
            "gridcolor": "white",
            "gridwidth": 2,
            "linecolor": "white",
            "showbackground": true,
            "ticks": "",
            "zerolinecolor": "white"
           },
           "zaxis": {
            "backgroundcolor": "#E5ECF6",
            "gridcolor": "white",
            "gridwidth": 2,
            "linecolor": "white",
            "showbackground": true,
            "ticks": "",
            "zerolinecolor": "white"
           }
          },
          "shapedefaults": {
           "line": {
            "color": "#2a3f5f"
           }
          },
          "ternary": {
           "aaxis": {
            "gridcolor": "white",
            "linecolor": "white",
            "ticks": ""
           },
           "baxis": {
            "gridcolor": "white",
            "linecolor": "white",
            "ticks": ""
           },
           "bgcolor": "#E5ECF6",
           "caxis": {
            "gridcolor": "white",
            "linecolor": "white",
            "ticks": ""
           }
          },
          "title": {
           "x": 0.05
          },
          "xaxis": {
           "automargin": true,
           "gridcolor": "white",
           "linecolor": "white",
           "ticks": "",
           "title": {
            "standoff": 15
           },
           "zerolinecolor": "white",
           "zerolinewidth": 2
          },
          "yaxis": {
           "automargin": true,
           "gridcolor": "white",
           "linecolor": "white",
           "ticks": "",
           "title": {
            "standoff": 15
           },
           "zerolinecolor": "white",
           "zerolinewidth": 2
          }
         }
        }
       }
      },
      "text/html": [
       "<div>\n",
       "        \n",
       "        \n",
       "            <div id=\"687a1e85-7d1a-4230-9611-590708179782\" class=\"plotly-graph-div\" style=\"height:525px; width:100%;\"></div>\n",
       "            <script type=\"text/javascript\">\n",
       "                require([\"plotly\"], function(Plotly) {\n",
       "                    window.PLOTLYENV=window.PLOTLYENV || {};\n",
       "                    \n",
       "                if (document.getElementById(\"687a1e85-7d1a-4230-9611-590708179782\")) {\n",
       "                    Plotly.newPlot(\n",
       "                        '687a1e85-7d1a-4230-9611-590708179782',\n",
       "                        [{\"lat\": [51.512999883209496, 51.512999883209496, 51.512999883209496, 51.512999883209496, 51.512999883209496, 51.512999883209496, 51.512999883209496, 51.512999883209496, 51.512999883209496, 51.512999883209496, 51.512999883209496, 51.512999883209496, 51.512999883209496, 51.512999883209496, 51.512999883209496, 51.512999883209496, 51.512999883209496, 51.512999883209496, 51.512999883209496, 51.512999883209496, 51.512999883209496, 51.512999883209496, 51.512999883209496, 51.512999883209496, 51.512999883209496, 51.512999883209496, 51.512999883209496, 51.512999883209496, 51.512999883209496, 51.512999883209496, 51.512999883209496, 51.512999883209496, 51.512999883209496, 51.512999883209496, 51.512999883209496, 51.512999883209496, 51.512999883209496, 51.512999883209496, 51.512999883209496, 51.512999883209496, 51.512999883209496, 51.512999883209496, 51.512999883209496, 51.512999883209496, 51.512999883209496, 51.512999883209496, 51.512999883209496, 51.512999883209496, 51.512999883209496, 51.512999883209496, 51.512999883209496, 51.512999883209496, 51.512999883209496, 51.512999883209496, 51.512999883209496, 51.512999883209496, 51.512999883209496, 51.512999883209496, 51.512999883209496, 51.512999883209496, 51.512999883209496, 51.512999883209496, 51.512999883209496, 51.512999883209496, 51.512999883209496, 51.512999883209496, 51.512999883209496, 51.512999883209496, 51.512999883209496, 51.512999883209496, 51.512999883209496, 51.512999883209496, 51.512999883209496, 51.512999883209496, 51.512999883209496, 51.512999883209496, 51.512999883209496, 51.512999883209496, 51.512999883209496, 51.512999883209496, 51.512999883209496, 51.512999883209496, 51.512999883209496, 51.512999883209496, 51.512999883209496, 51.512999883209496, 51.512999883209496, 51.512999883209496, 51.512999883209496, 51.512999883209496, 51.512999883209496, 51.512999883209496, 51.512999883209496, 51.512999883209496, 51.512999883209496, 51.512999883209496, 51.53085, 51.53085, 51.53085, 51.53085, 51.53085, 51.53085, 51.53085, 51.53085, 51.53085, 51.53085, 51.53085, 51.53085, 51.53085, 51.53085, 51.53085, 51.53085, 51.53085, 51.53085, 51.53085, 51.53085, 51.53085, 51.53085, 51.53085, 51.53085, 51.40162, 51.40162, 51.40162, 51.40162, 51.40162, 51.40162, 51.40162, 51.40162, 51.40162, 51.40162, 51.40162, 51.40162, 51.40162, 51.40162, 51.40162, 51.40162, 51.40162, 51.40162, 51.40162, 51.40162, 51.40162, 51.40162, 51.40162, 51.40162, 51.614864007, 51.614864007, 51.614864007, 51.614864007, 51.614864007, 51.614864007, 51.614864007, 51.614864007, 51.614864007, 51.614864007, 51.614864007, 51.614864007, 51.614864007, 51.614864007, 51.614864007, 51.614864007, 51.614864007, 51.614864007, 51.614864007, 51.614864007, 51.614864007, 51.614864007, 51.614864007, 51.614864007, 51.537799, 51.537799, 51.537799, 51.537799, 51.537799, 51.537799, 51.537799, 51.537799, 51.537799, 51.537799, 51.537799, 51.537799, 51.537799, 51.537799, 51.537799, 51.537799, 51.537799, 51.537799, 51.537799, 51.537799, 51.537799, 51.537799, 51.537799, 51.537799, 51.5173675146177, 51.5173675146177, 51.5173675146177, 51.5173675146177, 51.5173675146177, 51.5173675146177, 51.5173675146177, 51.5173675146177, 51.5173675146177, 51.5173675146177, 51.5173675146177, 51.5173675146177, 51.5173675146177, 51.5173675146177, 51.5173675146177, 51.5173675146177, 51.5173675146177, 51.5173675146177, 51.5173675146177, 51.5173675146177, 51.5173675146177, 51.5173675146177, 51.5173675146177, 51.5173675146177, 51.486957000000004, 51.486957000000004, 51.486957000000004, 51.486957000000004, 51.486957000000004, 51.486957000000004, 51.486957000000004, 51.486957000000004, 51.486957000000004, 51.486957000000004, 51.486957000000004, 51.486957000000004, 51.486957000000004, 51.486957000000004, 51.486957000000004, 51.486957000000004, 51.486957000000004, 51.486957000000004, 51.486957000000004, 51.486957000000004, 51.486957000000004, 51.486957000000004, 51.486957000000004, 51.486957000000004, 51.487989, 51.487989, 51.487989, 51.487989, 51.487989, 51.487989, 51.487989, 51.487989, 51.487989, 51.487989, 51.487989, 51.487989, 51.487989, 51.487989, 51.487989, 51.487989, 51.487989, 51.487989, 51.487989, 51.487989, 51.487989, 51.487989, 51.487989, 51.487989, 51.47953128382029, 51.47953128382029, 51.47953128382029, 51.47953128382029, 51.47953128382029, 51.47953128382029, 51.47953128382029, 51.47953128382029, 51.47953128382029, 51.47953128382029, 51.47953128382029, 51.47953128382029, 51.47953128382029, 51.47953128382029, 51.47953128382029, 51.47953128382029, 51.47953128382029, 51.47953128382029, 51.47953128382029, 51.47953128382029, 51.47953128382029, 51.47953128382029, 51.47953128382029, 51.47953128382029, 51.481071, 51.481071, 51.481071, 51.481071, 51.481071, 51.481071, 51.481071, 51.481071, 51.481071, 51.481071, 51.481071, 51.481071, 51.481071, 51.481071, 51.481071, 51.481071, 51.481071, 51.481071, 51.481071, 51.481071, 51.481071, 51.481071, 51.481071, 51.481071, 51.487534000000004, 51.487534000000004, 51.487534000000004, 51.487534000000004, 51.487534000000004, 51.487534000000004, 51.487534000000004, 51.487534000000004, 51.487534000000004, 51.487534000000004, 51.487534000000004, 51.487534000000004, 51.487534000000004, 51.487534000000004, 51.487534000000004, 51.487534000000004, 51.487534000000004, 51.487534000000004, 51.487534000000004, 51.487534000000004, 51.487534000000004, 51.487534000000004, 51.487534000000004, 51.487534000000004, 51.453142251100395, 51.453142251100395, 51.453142251100395, 51.453142251100395, 51.453142251100395, 51.453142251100395, 51.453142251100395, 51.453142251100395, 51.453142251100395, 51.453142251100395, 51.453142251100395, 51.453142251100395, 51.453142251100395, 51.453142251100395, 51.453142251100395, 51.453142251100395, 51.453142251100395, 51.453142251100395, 51.453142251100395, 51.453142251100395, 51.453142251100395, 51.453142251100395, 51.453142251100395, 51.453142251100395, 51.599302, 51.599302, 51.599302, 51.599302, 51.599302, 51.599302, 51.599302, 51.599302, 51.599302, 51.599302, 51.599302, 51.599302, 51.599302, 51.599302, 51.599302, 51.599302, 51.599302, 51.599302, 51.599302, 51.599302, 51.599302, 51.599302, 51.599302, 51.599302, 51.513847178423006, 51.513847178423006, 51.513847178423006, 51.513847178423006, 51.513847178423006, 51.513847178423006, 51.513847178423006, 51.513847178423006, 51.513847178423006, 51.513847178423006, 51.513847178423006, 51.513847178423006, 51.513847178423006, 51.513847178423006, 51.513847178423006, 51.513847178423006, 51.513847178423006, 51.513847178423006, 51.513847178423006, 51.513847178423006, 51.513847178423006, 51.513847178423006, 51.513847178423006, 51.513847178423006, 51.588417, 51.588417, 51.588417, 51.588417, 51.588417, 51.588417, 51.588417, 51.588417, 51.588417, 51.588417, 51.588417, 51.588417, 51.588417, 51.588417, 51.588417, 51.588417, 51.588417, 51.588417, 51.588417, 51.588417, 51.588417, 51.588417, 51.588417, 51.588417, 51.490532, 51.490532, 51.490532, 51.490532, 51.490532, 51.490532, 51.490532, 51.490532, 51.490532, 51.490532, 51.490532, 51.490532, 51.490532, 51.490532, 51.490532, 51.490532, 51.490532, 51.490532, 51.490532, 51.490532, 51.490532, 51.490532, 51.490532, 51.490532, 51.515046000000005, 51.515046000000005, 51.515046000000005, 51.515046000000005, 51.515046000000005, 51.515046000000005, 51.515046000000005, 51.515046000000005, 51.515046000000005, 51.515046000000005, 51.515046000000005, 51.515046000000005, 51.515046000000005, 51.515046000000005, 51.515046000000005, 51.515046000000005, 51.515046000000005, 51.515046000000005, 51.515046000000005, 51.515046000000005, 51.515046000000005, 51.515046000000005, 51.515046000000005, 51.515046000000005, 51.489398, 51.489398, 51.489398, 51.489398, 51.489398, 51.489398, 51.489398, 51.489398, 51.489398, 51.489398, 51.489398, 51.489398, 51.489398, 51.489398, 51.489398, 51.489398, 51.489398, 51.489398, 51.489398, 51.489398, 51.489398, 51.489398, 51.489398, 51.489398, 51.487437, 51.487437, 51.487437, 51.487437, 51.487437, 51.487437, 51.487437, 51.487437, 51.487437, 51.487437, 51.487437, 51.487437, 51.487437, 51.487437, 51.487437, 51.487437, 51.487437, 51.487437, 51.487437, 51.487437, 51.487437, 51.487437, 51.487437, 51.487437, 51.6450367266602, 51.6450367266602, 51.6450367266602, 51.6450367266602, 51.6450367266602, 51.6450367266602, 51.6450367266602, 51.6450367266602, 51.6450367266602, 51.6450367266602, 51.6450367266602, 51.6450367266602, 51.6450367266602, 51.6450367266602, 51.6450367266602, 51.6450367266602, 51.6450367266602, 51.6450367266602, 51.6450367266602, 51.6450367266602, 51.6450367266602, 51.6450367266602, 51.6450367266602, 51.6450367266602, 51.490198, 51.490198, 51.490198, 51.490198, 51.490198, 51.490198, 51.490198, 51.490198, 51.490198, 51.490198, 51.490198, 51.490198, 51.490198, 51.490198, 51.490198, 51.490198, 51.490198, 51.490198, 51.490198, 51.490198, 51.490198, 51.490198, 51.490198, 51.490198, 51.3586596124998, 51.3586596124998, 51.3586596124998, 51.3586596124998, 51.3586596124998, 51.3586596124998, 51.3586596124998, 51.3586596124998, 51.3586596124998, 51.3586596124998, 51.3586596124998, 51.3586596124998, 51.3586596124998, 51.3586596124998, 51.3586596124998, 51.3586596124998, 51.3586596124998, 51.3586596124998, 51.3586596124998, 51.3586596124998, 51.3586596124998, 51.3586596124998, 51.3586596124998, 51.3586596124998, 51.521046747603904, 51.521046747603904, 51.521046747603904, 51.521046747603904, 51.521046747603904, 51.521046747603904, 51.521046747603904, 51.521046747603904, 51.521046747603904, 51.521046747603904, 51.521046747603904, 51.521046747603904, 51.521046747603904, 51.521046747603904, 51.521046747603904, 51.521046747603904, 51.521046747603904, 51.521046747603904, 51.521046747603904, 51.521046747603904, 51.521046747603904, 51.521046747603904, 51.521046747603904, 51.521046747603904, 51.521046747603904, 51.521046747603904, 51.521046747603904, 51.521046747603904, 51.521046747603904, 51.521046747603904, 51.521046747603904, 51.521046747603904, 51.521046747603904, 51.521046747603904, 51.521046747603904, 51.521046747603904, 51.521046747603904, 51.521046747603904, 51.521046747603904, 51.521046747603904, 51.521046747603904, 51.521046747603904, 51.521046747603904, 51.521046747603904, 51.521046747603904, 51.521046747603904, 51.521046747603904, 51.521046747603904, 51.521046747603904, 51.521046747603904, 51.521046747603904, 51.521046747603904, 51.521046747603904, 51.521046747603904, 51.521046747603904, 51.521046747603904, 51.521046747603904, 51.521046747603904, 51.521046747603904, 51.521046747603904, 51.521046747603904, 51.521046747603904, 51.521046747603904, 51.521046747603904, 51.521046747603904, 51.521046747603904, 51.521046747603904, 51.521046747603904, 51.521046747603904, 51.521046747603904, 51.521046747603904, 51.521046747603904, 51.521046747603904, 51.521046747603904, 51.521046747603904, 51.521046747603904, 51.521046747603904, 51.521046747603904, 51.521046747603904, 51.521046747603904, 51.521046747603904, 51.521046747603904, 51.521046747603904, 51.521046747603904, 51.521046747603904, 51.521046747603904, 51.521046747603904, 51.521046747603904, 51.521046747603904, 51.521046747603904, 51.521046747603904, 51.521046747603904, 51.521046747603904, 51.521046747603904, 51.521046747603904, 51.521046747603904, 51.515046167401294, 51.515046167401294, 51.515046167401294, 51.515046167401294, 51.515046167401294, 51.515046167401294, 51.515046167401294, 51.515046167401294, 51.515046167401294, 51.515046167401294, 51.515046167401294, 51.515046167401294, 51.515046167401294, 51.515046167401294, 51.515046167401294, 51.515046167401294, 51.515046167401294, 51.515046167401294, 51.515046167401294, 51.515046167401294, 51.515046167401294, 51.515046167401294, 51.515046167401294, 51.515046167401294, 51.4346627060562, 51.4346627060562, 51.4346627060562, 51.4346627060562, 51.4346627060562, 51.4346627060562, 51.4346627060562, 51.4346627060562, 51.4346627060562, 51.4346627060562, 51.4346627060562, 51.4346627060562, 51.4346627060562, 51.4346627060562, 51.4346627060562, 51.4346627060562, 51.4346627060562, 51.4346627060562, 51.4346627060562, 51.4346627060562, 51.4346627060562, 51.4346627060562, 51.4346627060562, 51.4346627060562, 51.562376, 51.562376, 51.562376, 51.562376, 51.562376, 51.562376, 51.562376, 51.562376, 51.562376, 51.562376, 51.562376, 51.562376, 51.562376, 51.562376, 51.562376, 51.562376, 51.562376, 51.562376, 51.562376, 51.562376, 51.562376, 51.562376, 51.562376, 51.562376, 51.3739530635378, 51.3739530635378, 51.3739530635378, 51.3739530635378, 51.3739530635378, 51.3739530635378, 51.3739530635378, 51.3739530635378, 51.3739530635378, 51.3739530635378, 51.3739530635378, 51.3739530635378, 51.3739530635378, 51.3739530635378, 51.3739530635378, 51.3739530635378, 51.3739530635378, 51.3739530635378, 51.3739530635378, 51.3739530635378, 51.3739530635378, 51.3739530635378, 51.3739530635378, 51.3739530635378, 51.617327, 51.617327, 51.617327, 51.617327, 51.617327, 51.617327, 51.617327, 51.617327, 51.617327, 51.617327, 51.617327, 51.617327, 51.617327, 51.617327, 51.617327, 51.617327, 51.617327, 51.617327, 51.617327, 51.617327, 51.617327, 51.617327, 51.617327, 51.617327, 51.511976982579796, 51.511976982579796, 51.511976982579796, 51.511976982579796, 51.511976982579796, 51.511976982579796, 51.511976982579796, 51.511976982579796, 51.511976982579796, 51.511976982579796, 51.511976982579796, 51.511976982579796, 51.511976982579796, 51.511976982579796, 51.511976982579796, 51.511976982579796, 51.511976982579796, 51.511976982579796, 51.511976982579796, 51.511976982579796, 51.511976982579796, 51.511976982579796, 51.511976982579796, 51.511976982579796, 51.659803000000004, 51.659803000000004, 51.659803000000004, 51.659803000000004, 51.659803000000004, 51.659803000000004, 51.659803000000004, 51.659803000000004, 51.659803000000004, 51.659803000000004, 51.659803000000004, 51.659803000000004, 51.659803000000004, 51.659803000000004, 51.659803000000004, 51.659803000000004, 51.659803000000004, 51.659803000000004, 51.659803000000004, 51.659803000000004, 51.659803000000004, 51.659803000000004, 51.659803000000004, 51.659803000000004, 51.55226, 51.55226, 51.55226, 51.55226, 51.55226, 51.55226, 51.55226, 51.55226, 51.55226, 51.55226, 51.55226, 51.55226, 51.55226, 51.55226, 51.55226, 51.55226, 51.55226, 51.55226, 51.55226, 51.55226, 51.55226, 51.55226, 51.55226, 51.55226, 51.42025, 51.42025, 51.42025, 51.42025, 51.42025, 51.42025, 51.42025, 51.42025, 51.42025, 51.42025, 51.42025, 51.42025, 51.42025, 51.42025, 51.42025, 51.42025, 51.42025, 51.42025, 51.42025, 51.42025, 51.42025, 51.42025, 51.42025, 51.42025, 51.405546, 51.405546, 51.405546, 51.405546, 51.405546, 51.405546, 51.405546, 51.405546, 51.405546, 51.405546, 51.405546, 51.405546, 51.405546, 51.405546, 51.405546, 51.405546, 51.405546, 51.405546, 51.405546, 51.405546, 51.405546, 51.405546, 51.405546, 51.405546, 51.556239, 51.556239, 51.556239, 51.556239, 51.556239, 51.556239, 51.556239, 51.556239, 51.556239, 51.556239, 51.556239, 51.556239, 51.556239, 51.556239, 51.556239, 51.556239, 51.556239, 51.556239, 51.556239, 51.556239, 51.556239, 51.556239, 51.556239, 51.556239, 51.5168016452062, 51.5168016452062, 51.5168016452062, 51.5168016452062, 51.5168016452062, 51.5168016452062, 51.5168016452062, 51.5168016452062, 51.5168016452062, 51.5168016452062, 51.5168016452062, 51.5168016452062, 51.5168016452062, 51.5168016452062, 51.5168016452062, 51.5168016452062, 51.5168016452062, 51.5168016452062, 51.5168016452062, 51.5168016452062, 51.5168016452062, 51.5168016452062, 51.5168016452062, 51.5168016452062, 51.377922999999996, 51.377922999999996, 51.377922999999996, 51.377922999999996, 51.377922999999996, 51.377922999999996, 51.377922999999996, 51.377922999999996, 51.377922999999996, 51.377922999999996, 51.377922999999996, 51.377922999999996, 51.377922999999996, 51.377922999999996, 51.377922999999996, 51.377922999999996, 51.377922999999996, 51.377922999999996, 51.377922999999996, 51.377922999999996, 51.377922999999996, 51.377922999999996, 51.377922999999996, 51.377922999999996, 51.494681, 51.494681, 51.494681, 51.494681, 51.494681, 51.494681, 51.494681, 51.494681, 51.494681, 51.494681, 51.494681, 51.494681, 51.494681, 51.494681, 51.494681, 51.494681, 51.494681, 51.494681, 51.494681, 51.494681, 51.494681, 51.494681, 51.494681, 51.494681, 51.412308, 51.412308, 51.412308, 51.412308, 51.412308, 51.412308, 51.412308, 51.412308, 51.412308, 51.412308, 51.412308, 51.412308, 51.412308, 51.412308, 51.412308, 51.412308, 51.412308, 51.412308, 51.412308, 51.412308, 51.412308, 51.412308, 51.412308, 51.412308, 51.516065999999995, 51.516065999999995, 51.516065999999995, 51.516065999999995, 51.516065999999995, 51.516065999999995, 51.516065999999995, 51.516065999999995, 51.516065999999995, 51.516065999999995, 51.516065999999995, 51.516065999999995, 51.516065999999995, 51.516065999999995, 51.516065999999995, 51.516065999999995, 51.516065999999995, 51.516065999999995, 51.516065999999995, 51.516065999999995, 51.516065999999995, 51.516065999999995, 51.516065999999995, 51.516065999999995, 51.50954368539129, 51.50954368539129, 51.50954368539129, 51.50954368539129, 51.50954368539129, 51.50954368539129, 51.50954368539129, 51.50954368539129, 51.50954368539129, 51.50954368539129, 51.50954368539129, 51.50954368539129, 51.50954368539129, 51.50954368539129, 51.50954368539129, 51.50954368539129, 51.50954368539129, 51.50954368539129, 51.50954368539129, 51.50954368539129, 51.50954368539129, 51.50954368539129, 51.50954368539129, 51.50954368539129, 51.480371999999996, 51.480371999999996, 51.480371999999996, 51.480371999999996, 51.480371999999996, 51.480371999999996, 51.480371999999996, 51.480371999999996, 51.480371999999996, 51.480371999999996, 51.480371999999996, 51.480371999999996, 51.480371999999996, 51.480371999999996, 51.480371999999996, 51.480371999999996, 51.480371999999996, 51.480371999999996, 51.480371999999996, 51.480371999999996, 51.480371999999996, 51.480371999999996, 51.480371999999996, 51.480371999999996, 51.480371999999996, 51.480371999999996, 51.480371999999996, 51.480371999999996, 51.480371999999996, 51.480371999999996, 51.480371999999996, 51.480371999999996, 51.480371999999996, 51.480371999999996, 51.480371999999996, 51.480371999999996, 51.480371999999996, 51.480371999999996, 51.480371999999996, 51.480371999999996, 51.480371999999996, 51.480371999999996, 51.480371999999996, 51.480371999999996, 51.480371999999996, 51.480371999999996, 51.480371999999996, 51.480371999999996, 51.480371999999996, 51.480371999999996, 51.480371999999996, 51.480371999999996, 51.480371999999996, 51.480371999999996, 51.480371999999996, 51.480371999999996, 51.480371999999996, 51.480371999999996, 51.480371999999996, 51.480371999999996, 51.480371999999996, 51.480371999999996, 51.480371999999996, 51.480371999999996, 51.480371999999996, 51.480371999999996, 51.480371999999996, 51.480371999999996, 51.480371999999996, 51.480371999999996, 51.480371999999996, 51.480371999999996, 51.480371999999996, 51.480371999999996, 51.480371999999996, 51.480371999999996, 51.480371999999996, 51.480371999999996, 51.480371999999996, 51.480371999999996, 51.480371999999996, 51.480371999999996, 51.480371999999996, 51.480371999999996, 51.480371999999996, 51.480371999999996, 51.480371999999996, 51.480371999999996, 51.480371999999996, 51.480371999999996, 51.480371999999996, 51.480371999999996, 51.480371999999996, 51.480371999999996, 51.480371999999996, 51.480371999999996, 51.522529999999996, 51.522529999999996, 51.522529999999996, 51.522529999999996, 51.522529999999996, 51.522529999999996, 51.522529999999996, 51.522529999999996, 51.522529999999996, 51.522529999999996, 51.522529999999996, 51.522529999999996, 51.522529999999996, 51.522529999999996, 51.522529999999996, 51.522529999999996, 51.522529999999996, 51.522529999999996, 51.522529999999996, 51.522529999999996, 51.522529999999996, 51.522529999999996, 51.522529999999996, 51.522529999999996, 51.447388000000004, 51.447388000000004, 51.447388000000004, 51.447388000000004, 51.447388000000004, 51.447388000000004, 51.447388000000004, 51.447388000000004, 51.447388000000004, 51.447388000000004, 51.447388000000004, 51.447388000000004, 51.447388000000004, 51.447388000000004, 51.447388000000004, 51.447388000000004, 51.447388000000004, 51.447388000000004, 51.447388000000004, 51.447388000000004, 51.447388000000004, 51.447388000000004, 51.447388000000004, 51.447388000000004, 51.42821314294989, 51.42821314294989, 51.42821314294989, 51.42821314294989, 51.42821314294989, 51.42821314294989, 51.42821314294989, 51.42821314294989, 51.42821314294989, 51.42821314294989, 51.42821314294989, 51.42821314294989, 51.42821314294989, 51.42821314294989, 51.42821314294989, 51.42821314294989, 51.42821314294989, 51.42821314294989, 51.42821314294989, 51.42821314294989, 51.42821314294989, 51.42821314294989, 51.42821314294989, 51.42821314294989, 51.504563, 51.504563, 51.504563, 51.504563, 51.504563, 51.504563, 51.504563, 51.504563, 51.504563, 51.504563, 51.504563, 51.504563, 51.504563, 51.504563, 51.504563, 51.504563, 51.504563, 51.504563, 51.504563, 51.504563, 51.504563, 51.504563, 51.504563, 51.504563, 51.362230565540294, 51.362230565540294, 51.362230565540294, 51.362230565540294, 51.362230565540294, 51.362230565540294, 51.362230565540294, 51.362230565540294, 51.362230565540294, 51.362230565540294, 51.362230565540294, 51.362230565540294, 51.362230565540294, 51.362230565540294, 51.362230565540294, 51.362230565540294, 51.362230565540294, 51.362230565540294, 51.362230565540294, 51.362230565540294, 51.362230565540294, 51.362230565540294, 51.362230565540294, 51.362230565540294, 51.494648681305506, 51.494648681305506, 51.494648681305506, 51.494648681305506, 51.494648681305506, 51.494648681305506, 51.494648681305506, 51.494648681305506, 51.494648681305506, 51.494648681305506, 51.494648681305506, 51.494648681305506, 51.494648681305506, 51.494648681305506, 51.494648681305506, 51.494648681305506, 51.494648681305506, 51.494648681305506, 51.494648681305506, 51.494648681305506, 51.494648681305506, 51.494648681305506, 51.494648681305506, 51.494648681305506, 51.557895, 51.557895, 51.557895, 51.557895, 51.557895, 51.557895, 51.557895, 51.557895, 51.557895, 51.557895, 51.557895, 51.557895, 51.557895, 51.557895, 51.557895, 51.557895, 51.557895, 51.557895, 51.557895, 51.557895, 51.557895, 51.557895, 51.557895, 51.557895, 51.474954, 51.474954, 51.474954, 51.474954, 51.474954, 51.474954, 51.474954, 51.474954, 51.474954, 51.474954, 51.474954, 51.474954, 51.474954, 51.474954, 51.474954, 51.474954, 51.474954, 51.474954, 51.474954, 51.474954, 51.474954, 51.474954, 51.474954, 51.474954, 51.46372060471911, 51.46372060471911, 51.46372060471911, 51.46372060471911, 51.46372060471911, 51.46372060471911, 51.46372060471911, 51.46372060471911, 51.46372060471911, 51.46372060471911, 51.46372060471911, 51.46372060471911, 51.46372060471911, 51.46372060471911, 51.46372060471911, 51.46372060471911, 51.46372060471911, 51.46372060471911, 51.46372060471911, 51.46372060471911, 51.46372060471911, 51.46372060471911, 51.46372060471911, 51.46372060471911, 51.555378000000005, 51.555378000000005, 51.555378000000005, 51.555378000000005, 51.555378000000005, 51.555378000000005, 51.555378000000005, 51.555378000000005, 51.555378000000005, 51.555378000000005, 51.555378000000005, 51.555378000000005, 51.555378000000005, 51.555378000000005, 51.555378000000005, 51.555378000000005, 51.555378000000005, 51.555378000000005, 51.555378000000005, 51.555378000000005, 51.555378000000005, 51.555378000000005, 51.555378000000005, 51.555378000000005, 51.4252560360937, 51.4252560360937, 51.4252560360937, 51.4252560360937, 51.4252560360937, 51.4252560360937, 51.4252560360937, 51.4252560360937, 51.4252560360937, 51.4252560360937, 51.4252560360937, 51.4252560360937, 51.4252560360937, 51.4252560360937, 51.4252560360937, 51.4252560360937, 51.4252560360937, 51.4252560360937, 51.4252560360937, 51.4252560360937, 51.4252560360937, 51.4252560360937, 51.4252560360937, 51.4252560360937, 51.495504, 51.495504, 51.495504, 51.495504, 51.495504, 51.495504, 51.495504, 51.495504, 51.495504, 51.495504, 51.495504, 51.495504, 51.495504, 51.495504, 51.495504, 51.495504, 51.495504, 51.495504, 51.495504, 51.495504, 51.495504, 51.495504, 51.495504, 51.495504, 51.4161384794862, 51.4161384794862, 51.4161384794862, 51.4161384794862, 51.4161384794862, 51.4161384794862, 51.4161384794862, 51.4161384794862, 51.4161384794862, 51.4161384794862, 51.4161384794862, 51.4161384794862, 51.4161384794862, 51.4161384794862, 51.4161384794862, 51.4161384794862, 51.4161384794862, 51.4161384794862, 51.4161384794862, 51.4161384794862, 51.4161384794862, 51.4161384794862, 51.4161384794862, 51.4161384794862, 51.614675, 51.614675, 51.614675, 51.614675, 51.614675, 51.614675, 51.614675, 51.614675, 51.614675, 51.614675, 51.614675, 51.614675, 51.614675, 51.614675, 51.614675, 51.614675, 51.614675, 51.614675, 51.614675, 51.614675, 51.614675, 51.614675, 51.614675, 51.614675, 51.527975, 51.527975, 51.527975, 51.527975, 51.527975, 51.527975, 51.527975, 51.527975, 51.527975, 51.527975, 51.527975, 51.527975, 51.527975, 51.527975, 51.527975, 51.527975, 51.527975, 51.527975, 51.527975, 51.527975, 51.527975, 51.527975, 51.527975, 51.527975, 51.523607819148104, 51.523607819148104, 51.523607819148104, 51.523607819148104, 51.523607819148104, 51.523607819148104, 51.523607819148104, 51.523607819148104, 51.523607819148104, 51.523607819148104, 51.523607819148104, 51.523607819148104, 51.523607819148104, 51.523607819148104, 51.523607819148104, 51.523607819148104, 51.523607819148104, 51.523607819148104, 51.523607819148104, 51.523607819148104, 51.523607819148104, 51.523607819148104, 51.523607819148104, 51.523607819148104, 51.463429, 51.463429, 51.463429, 51.463429, 51.463429, 51.463429, 51.463429, 51.463429, 51.463429, 51.463429, 51.463429, 51.463429, 51.463429, 51.463429, 51.463429, 51.463429, 51.463429, 51.463429, 51.463429, 51.463429, 51.463429, 51.463429, 51.463429, 51.463429, 51.5189160348806, 51.5189160348806, 51.5189160348806, 51.5189160348806, 51.5189160348806, 51.5189160348806, 51.5189160348806, 51.5189160348806, 51.5189160348806, 51.5189160348806, 51.5189160348806, 51.5189160348806, 51.5189160348806, 51.5189160348806, 51.5189160348806, 51.5189160348806, 51.5189160348806, 51.5189160348806, 51.5189160348806, 51.5189160348806, 51.5189160348806, 51.5189160348806, 51.5189160348806, 51.5189160348806, 51.48049949364671, 51.48049949364671, 51.48049949364671, 51.48049949364671, 51.48049949364671, 51.48049949364671, 51.48049949364671, 51.48049949364671, 51.48049949364671, 51.48049949364671, 51.48049949364671, 51.48049949364671, 51.48049949364671, 51.48049949364671, 51.48049949364671, 51.48049949364671, 51.48049949364671, 51.48049949364671, 51.48049949364671, 51.48049949364671, 51.48049949364671, 51.48049949364671, 51.48049949364671, 51.48049949364671, 51.476168, 51.476168, 51.476168, 51.476168, 51.476168, 51.476168, 51.476168, 51.476168, 51.476168, 51.476168, 51.476168, 51.476168, 51.476168, 51.476168, 51.476168, 51.476168, 51.476168, 51.476168, 51.476168, 51.476168, 51.476168, 51.476168, 51.476168, 51.476168, 51.48113, 51.48113, 51.48113, 51.48113, 51.48113, 51.48113, 51.48113, 51.48113, 51.48113, 51.48113, 51.48113, 51.48113, 51.48113, 51.48113, 51.48113, 51.48113, 51.48113, 51.48113, 51.48113, 51.48113, 51.48113, 51.48113, 51.48113, 51.48113, 51.4931557048667, 51.4931557048667, 51.4931557048667, 51.4931557048667, 51.4931557048667, 51.4931557048667, 51.4931557048667, 51.4931557048667, 51.4931557048667, 51.4931557048667, 51.4931557048667, 51.4931557048667, 51.4931557048667, 51.4931557048667, 51.4931557048667, 51.4931557048667, 51.4931557048667, 51.4931557048667, 51.4931557048667, 51.4931557048667, 51.4931557048667, 51.4931557048667, 51.4931557048667, 51.4931557048667, 51.510498999999996, 51.510498999999996, 51.510498999999996, 51.510498999999996, 51.510498999999996, 51.510498999999996, 51.510498999999996, 51.510498999999996, 51.510498999999996, 51.510498999999996, 51.510498999999996, 51.510498999999996, 51.510498999999996, 51.510498999999996, 51.510498999999996, 51.510498999999996, 51.510498999999996, 51.510498999999996, 51.510498999999996, 51.510498999999996, 51.510498999999996, 51.510498999999996, 51.510498999999996, 51.510498999999996, 51.481478, 51.481478, 51.481478, 51.481478, 51.481478, 51.481478, 51.481478, 51.481478, 51.481478, 51.481478, 51.481478, 51.481478, 51.481478, 51.481478, 51.481478, 51.481478, 51.481478, 51.481478, 51.481478, 51.481478, 51.481478, 51.481478, 51.481478, 51.481478, 51.4646910611736, 51.4646910611736, 51.4646910611736, 51.4646910611736, 51.4646910611736, 51.4646910611736, 51.4646910611736, 51.4646910611736, 51.4646910611736, 51.4646910611736, 51.4646910611736, 51.4646910611736, 51.4646910611736, 51.4646910611736, 51.4646910611736, 51.4646910611736, 51.4646910611736, 51.4646910611736, 51.4646910611736, 51.4646910611736, 51.4646910611736, 51.4646910611736, 51.4646910611736, 51.4646910611736, 51.576609999999995, 51.576609999999995, 51.576609999999995, 51.576609999999995, 51.576609999999995, 51.576609999999995, 51.576609999999995, 51.576609999999995, 51.576609999999995, 51.576609999999995, 51.576609999999995, 51.576609999999995, 51.576609999999995, 51.576609999999995, 51.576609999999995, 51.576609999999995, 51.576609999999995, 51.576609999999995, 51.576609999999995, 51.576609999999995, 51.576609999999995, 51.576609999999995, 51.576609999999995, 51.576609999999995, 51.544219, 51.544219, 51.544219, 51.544219, 51.544219, 51.544219, 51.544219, 51.544219, 51.544219, 51.544219, 51.544219, 51.544219, 51.544219, 51.544219, 51.544219, 51.544219, 51.544219, 51.544219, 51.544219, 51.544219, 51.544219, 51.544219, 51.544219, 51.544219, 51.472504, 51.472504, 51.472504, 51.472504, 51.472504, 51.472504, 51.472504, 51.472504, 51.472504, 51.472504, 51.472504, 51.472504, 51.472504, 51.472504, 51.472504, 51.472504, 51.472504, 51.472504, 51.472504, 51.472504, 51.472504, 51.472504, 51.472504, 51.472504, 51.445468, 51.445468, 51.445468, 51.445468, 51.445468, 51.445468, 51.445468, 51.445468, 51.445468, 51.445468, 51.445468, 51.445468, 51.445468, 51.445468, 51.445468, 51.445468, 51.445468, 51.445468, 51.445468, 51.445468, 51.445468, 51.445468, 51.445468, 51.445468, 51.601728, 51.601728, 51.601728, 51.601728, 51.601728, 51.601728, 51.601728, 51.601728, 51.601728, 51.601728, 51.601728, 51.601728, 51.601728, 51.601728, 51.601728, 51.601728, 51.601728, 51.601728, 51.601728, 51.601728, 51.601728, 51.601728, 51.601728, 51.601728, 51.456357000000004, 51.456357000000004, 51.456357000000004, 51.456357000000004, 51.456357000000004, 51.456357000000004, 51.456357000000004, 51.456357000000004, 51.456357000000004, 51.456357000000004, 51.456357000000004, 51.456357000000004, 51.456357000000004, 51.456357000000004, 51.456357000000004, 51.456357000000004, 51.456357000000004, 51.456357000000004, 51.456357000000004, 51.456357000000004, 51.456357000000004, 51.456357000000004, 51.456357000000004, 51.456357000000004, 51.522529486084395, 51.522529486084395, 51.522529486084395, 51.522529486084395, 51.522529486084395, 51.522529486084395, 51.522529486084395, 51.522529486084395, 51.522529486084395, 51.522529486084395, 51.522529486084395, 51.522529486084395, 51.522529486084395, 51.522529486084395, 51.522529486084395, 51.522529486084395, 51.522529486084395, 51.522529486084395, 51.522529486084395, 51.522529486084395, 51.522529486084395, 51.522529486084395, 51.522529486084395, 51.522529486084395, 51.661283000000005, 51.661283000000005, 51.661283000000005, 51.661283000000005, 51.661283000000005, 51.661283000000005, 51.661283000000005, 51.661283000000005, 51.661283000000005, 51.661283000000005, 51.661283000000005, 51.661283000000005, 51.661283000000005, 51.661283000000005, 51.661283000000005, 51.661283000000005, 51.661283000000005, 51.661283000000005, 51.661283000000005, 51.661283000000005, 51.661283000000005, 51.661283000000005, 51.661283000000005, 51.661283000000005, 51.522287, 51.522287, 51.522287, 51.522287, 51.522287, 51.522287, 51.522287, 51.522287, 51.522287, 51.522287, 51.522287, 51.522287, 51.522287, 51.522287, 51.522287, 51.522287, 51.522287, 51.522287, 51.522287, 51.522287, 51.522287, 51.522287, 51.522287, 51.522287, 51.490610208214704, 51.490610208214704, 51.490610208214704, 51.490610208214704, 51.490610208214704, 51.490610208214704, 51.490610208214704, 51.490610208214704, 51.490610208214704, 51.490610208214704, 51.490610208214704, 51.490610208214704, 51.490610208214704, 51.490610208214704, 51.490610208214704, 51.490610208214704, 51.490610208214704, 51.490610208214704, 51.490610208214704, 51.490610208214704, 51.490610208214704, 51.490610208214704, 51.490610208214704, 51.490610208214704, 51.490610208214704, 51.490610208214704, 51.490610208214704, 51.490610208214704, 51.490610208214704, 51.490610208214704, 51.490610208214704, 51.490610208214704, 51.490610208214704, 51.490610208214704, 51.490610208214704, 51.490610208214704, 51.490610208214704, 51.490610208214704, 51.490610208214704, 51.490610208214704, 51.490610208214704, 51.490610208214704, 51.490610208214704, 51.490610208214704, 51.490610208214704, 51.490610208214704, 51.490610208214704, 51.490610208214704, 51.490610208214704, 51.490610208214704, 51.490610208214704, 51.490610208214704, 51.490610208214704, 51.490610208214704, 51.490610208214704, 51.490610208214704, 51.490610208214704, 51.490610208214704, 51.490610208214704, 51.490610208214704, 51.490610208214704, 51.490610208214704, 51.490610208214704, 51.490610208214704, 51.490610208214704, 51.490610208214704, 51.490610208214704, 51.490610208214704, 51.490610208214704, 51.490610208214704, 51.490610208214704, 51.490610208214704, 51.490610208214704, 51.490610208214704, 51.490610208214704, 51.490610208214704, 51.490610208214704, 51.490610208214704, 51.490610208214704, 51.490610208214704, 51.490610208214704, 51.490610208214704, 51.490610208214704, 51.490610208214704, 51.490610208214704, 51.490610208214704, 51.490610208214704, 51.490610208214704, 51.490610208214704, 51.490610208214704, 51.490610208214704, 51.490610208214704, 51.490610208214704, 51.490610208214704, 51.490610208214704, 51.490610208214704, 51.500676, 51.500676, 51.500676, 51.500676, 51.500676, 51.500676, 51.500676, 51.500676, 51.500676, 51.500676, 51.500676, 51.500676, 51.500676, 51.500676, 51.500676, 51.500676, 51.500676, 51.500676, 51.500676, 51.500676, 51.500676, 51.500676, 51.500676, 51.500676, 51.379312, 51.379312, 51.379312, 51.379312, 51.379312, 51.379312, 51.379312, 51.379312, 51.379312, 51.379312, 51.379312, 51.379312, 51.379312, 51.379312, 51.379312, 51.379312, 51.379312, 51.379312, 51.379312, 51.379312, 51.379312, 51.379312, 51.379312, 51.379312, 51.493491999999996, 51.493491999999996, 51.493491999999996, 51.493491999999996, 51.493491999999996, 51.493491999999996, 51.493491999999996, 51.493491999999996, 51.493491999999996, 51.493491999999996, 51.493491999999996, 51.493491999999996, 51.493491999999996, 51.493491999999996, 51.493491999999996, 51.493491999999996, 51.493491999999996, 51.493491999999996, 51.493491999999996, 51.493491999999996, 51.493491999999996, 51.493491999999996, 51.493491999999996, 51.493491999999996, 51.572976000000004, 51.572976000000004, 51.572976000000004, 51.572976000000004, 51.572976000000004, 51.572976000000004, 51.572976000000004, 51.572976000000004, 51.572976000000004, 51.572976000000004, 51.572976000000004, 51.572976000000004, 51.572976000000004, 51.572976000000004, 51.572976000000004, 51.572976000000004, 51.572976000000004, 51.572976000000004, 51.572976000000004, 51.572976000000004, 51.572976000000004, 51.572976000000004, 51.572976000000004, 51.572976000000004, 51.489134, 51.489134, 51.489134, 51.489134, 51.489134, 51.489134, 51.489134, 51.489134, 51.489134, 51.489134, 51.489134, 51.489134, 51.489134, 51.489134, 51.489134, 51.489134, 51.489134, 51.489134, 51.489134, 51.489134, 51.489134, 51.489134, 51.489134, 51.489134, 51.463402, 51.463402, 51.463402, 51.463402, 51.463402, 51.463402, 51.463402, 51.463402, 51.463402, 51.463402, 51.463402, 51.463402, 51.463402, 51.463402, 51.463402, 51.463402, 51.463402, 51.463402, 51.463402, 51.463402, 51.463402, 51.463402, 51.463402, 51.463402, 51.569484331523704, 51.569484331523704, 51.569484331523704, 51.569484331523704, 51.569484331523704, 51.569484331523704, 51.569484331523704, 51.569484331523704, 51.569484331523704, 51.569484331523704, 51.569484331523704, 51.569484331523704, 51.569484331523704, 51.569484331523704, 51.569484331523704, 51.569484331523704, 51.569484331523704, 51.569484331523704, 51.569484331523704, 51.569484331523704, 51.569484331523704, 51.569484331523704, 51.569484331523704, 51.569484331523704, 51.496309000000004, 51.496309000000004, 51.496309000000004, 51.496309000000004, 51.496309000000004, 51.496309000000004, 51.496309000000004, 51.496309000000004, 51.496309000000004, 51.496309000000004, 51.496309000000004, 51.496309000000004, 51.496309000000004, 51.496309000000004, 51.496309000000004, 51.496309000000004, 51.496309000000004, 51.496309000000004, 51.496309000000004, 51.496309000000004, 51.496309000000004, 51.496309000000004, 51.496309000000004, 51.496309000000004, 51.514525336231394, 51.514525336231394, 51.514525336231394, 51.514525336231394, 51.514525336231394, 51.514525336231394, 51.514525336231394, 51.514525336231394, 51.514525336231394, 51.514525336231394, 51.514525336231394, 51.514525336231394, 51.514525336231394, 51.514525336231394, 51.514525336231394, 51.514525336231394, 51.514525336231394, 51.514525336231394, 51.514525336231394, 51.514525336231394, 51.514525336231394, 51.514525336231394, 51.514525336231394, 51.514525336231394, 51.66864334727, 51.66864334727, 51.66864334727, 51.66864334727, 51.66864334727, 51.66864334727, 51.66864334727, 51.66864334727, 51.66864334727, 51.66864334727, 51.66864334727, 51.66864334727, 51.66864334727, 51.66864334727, 51.66864334727, 51.66864334727, 51.66864334727, 51.66864334727, 51.66864334727, 51.66864334727, 51.66864334727, 51.66864334727, 51.66864334727, 51.66864334727, 51.540519, 51.540519, 51.540519, 51.540519, 51.540519, 51.540519, 51.540519, 51.540519, 51.540519, 51.540519, 51.540519, 51.540519, 51.540519, 51.540519, 51.540519, 51.540519, 51.540519, 51.540519, 51.540519, 51.540519, 51.540519, 51.540519, 51.540519, 51.540519, 51.459444, 51.459444, 51.459444, 51.459444, 51.459444, 51.459444, 51.459444, 51.459444, 51.459444, 51.459444, 51.459444, 51.459444, 51.459444, 51.459444, 51.459444, 51.459444, 51.459444, 51.459444, 51.459444, 51.459444, 51.459444, 51.459444, 51.459444, 51.459444, 51.526454, 51.526454, 51.526454, 51.526454, 51.526454, 51.526454, 51.526454, 51.526454, 51.526454, 51.526454, 51.526454, 51.526454, 51.526454, 51.526454, 51.526454, 51.526454, 51.526454, 51.526454, 51.526454, 51.526454, 51.526454, 51.526454, 51.526454, 51.526454, 51.552476, 51.552476, 51.552476, 51.552476, 51.552476, 51.552476, 51.552476, 51.552476, 51.552476, 51.552476, 51.552476, 51.552476, 51.552476, 51.552476, 51.552476, 51.552476, 51.552476, 51.552476, 51.552476, 51.552476, 51.552476, 51.552476, 51.552476, 51.552476, 51.482982, 51.482982, 51.482982, 51.482982, 51.482982, 51.482982, 51.482982, 51.482982, 51.482982, 51.482982, 51.482982, 51.482982, 51.482982, 51.482982, 51.482982, 51.482982, 51.482982, 51.482982, 51.482982, 51.482982, 51.482982, 51.482982, 51.482982, 51.482982, 51.520787459334, 51.520787459334, 51.520787459334, 51.520787459334, 51.520787459334, 51.520787459334, 51.520787459334, 51.520787459334, 51.520787459334, 51.520787459334, 51.520787459334, 51.520787459334, 51.520787459334, 51.520787459334, 51.520787459334, 51.520787459334, 51.520787459334, 51.520787459334, 51.520787459334, 51.520787459334, 51.520787459334, 51.520787459334, 51.520787459334, 51.520787459334, 51.4854867739729, 51.4854867739729, 51.4854867739729, 51.4854867739729, 51.4854867739729, 51.4854867739729, 51.4854867739729, 51.4854867739729, 51.4854867739729, 51.4854867739729, 51.4854867739729, 51.4854867739729, 51.4854867739729, 51.4854867739729, 51.4854867739729, 51.4854867739729, 51.4854867739729, 51.4854867739729, 51.4854867739729, 51.4854867739729, 51.4854867739729, 51.4854867739729, 51.4854867739729, 51.4854867739729, 51.449672896035395, 51.449672896035395, 51.449672896035395, 51.449672896035395, 51.449672896035395, 51.449672896035395, 51.449672896035395, 51.449672896035395, 51.449672896035395, 51.449672896035395, 51.449672896035395, 51.449672896035395, 51.449672896035395, 51.449672896035395, 51.449672896035395, 51.449672896035395, 51.449672896035395, 51.449672896035395, 51.449672896035395, 51.449672896035395, 51.449672896035395, 51.449672896035395, 51.449672896035395, 51.449672896035395, 51.38356522779429, 51.38356522779429, 51.38356522779429, 51.38356522779429, 51.38356522779429, 51.38356522779429, 51.38356522779429, 51.38356522779429, 51.38356522779429, 51.38356522779429, 51.38356522779429, 51.38356522779429, 51.38356522779429, 51.38356522779429, 51.38356522779429, 51.38356522779429, 51.38356522779429, 51.38356522779429, 51.38356522779429, 51.38356522779429, 51.38356522779429, 51.38356522779429, 51.38356522779429, 51.38356522779429, 51.529389, 51.529389, 51.529389, 51.529389, 51.529389, 51.529389, 51.529389, 51.529389, 51.529389, 51.529389, 51.529389, 51.529389, 51.529389, 51.529389, 51.529389, 51.529389, 51.529389, 51.529389, 51.529389, 51.529389, 51.529389, 51.529389, 51.529389, 51.529389, 51.479129, 51.479129, 51.479129, 51.479129, 51.479129, 51.479129, 51.479129, 51.479129, 51.479129, 51.479129, 51.479129, 51.479129, 51.479129, 51.479129, 51.479129, 51.479129, 51.479129, 51.479129, 51.479129, 51.479129, 51.479129, 51.479129, 51.479129, 51.479129, 51.552656, 51.552656, 51.552656, 51.552656, 51.552656, 51.552656, 51.552656, 51.552656, 51.552656, 51.552656, 51.552656, 51.552656, 51.552656, 51.552656, 51.552656, 51.552656, 51.552656, 51.552656, 51.552656, 51.552656, 51.552656, 51.552656, 51.552656, 51.552656, 51.511970118827705, 51.511970118827705, 51.511970118827705, 51.511970118827705, 51.511970118827705, 51.511970118827705, 51.511970118827705, 51.511970118827705, 51.511970118827705, 51.511970118827705, 51.511970118827705, 51.511970118827705, 51.511970118827705, 51.511970118827705, 51.511970118827705, 51.511970118827705, 51.511970118827705, 51.511970118827705, 51.511970118827705, 51.511970118827705, 51.511970118827705, 51.511970118827705, 51.511970118827705, 51.511970118827705, 51.479167, 51.479167, 51.479167, 51.479167, 51.479167, 51.479167, 51.479167, 51.479167, 51.479167, 51.479167, 51.479167, 51.479167, 51.479167, 51.479167, 51.479167, 51.479167, 51.479167, 51.479167, 51.479167, 51.479167, 51.479167, 51.479167, 51.479167, 51.479167, 51.563752, 51.563752, 51.563752, 51.563752, 51.563752, 51.563752, 51.563752, 51.563752, 51.563752, 51.563752, 51.563752, 51.563752, 51.563752, 51.563752, 51.563752, 51.563752, 51.563752, 51.563752, 51.563752, 51.563752, 51.563752, 51.563752, 51.563752, 51.563752, 51.5038527919816, 51.5038527919816, 51.5038527919816, 51.5038527919816, 51.5038527919816, 51.5038527919816, 51.5038527919816, 51.5038527919816, 51.5038527919816, 51.5038527919816, 51.5038527919816, 51.5038527919816, 51.5038527919816, 51.5038527919816, 51.5038527919816, 51.5038527919816, 51.5038527919816, 51.5038527919816, 51.5038527919816, 51.5038527919816, 51.5038527919816, 51.5038527919816, 51.5038527919816, 51.5038527919816, 51.489863, 51.489863, 51.489863, 51.489863, 51.489863, 51.489863, 51.489863, 51.489863, 51.489863, 51.489863, 51.489863, 51.489863, 51.489863, 51.489863, 51.489863, 51.489863, 51.489863, 51.489863, 51.489863, 51.489863, 51.489863, 51.489863, 51.489863, 51.489863, 51.456962, 51.456962, 51.456962, 51.456962, 51.456962, 51.456962, 51.456962, 51.456962, 51.456962, 51.456962, 51.456962, 51.456962, 51.456962, 51.456962, 51.456962, 51.456962, 51.456962, 51.456962, 51.456962, 51.456962, 51.456962, 51.456962, 51.456962, 51.456962, 51.48878, 51.48878, 51.48878, 51.48878, 51.48878, 51.48878, 51.48878, 51.48878, 51.48878, 51.48878, 51.48878, 51.48878, 51.48878, 51.48878, 51.48878, 51.48878, 51.48878, 51.48878, 51.48878, 51.48878, 51.48878, 51.48878, 51.48878, 51.48878, 51.46369035681111, 51.46369035681111, 51.46369035681111, 51.46369035681111, 51.46369035681111, 51.46369035681111, 51.46369035681111, 51.46369035681111, 51.46369035681111, 51.46369035681111, 51.46369035681111, 51.46369035681111, 51.46369035681111, 51.46369035681111, 51.46369035681111, 51.46369035681111, 51.46369035681111, 51.46369035681111, 51.46369035681111, 51.46369035681111, 51.46369035681111, 51.46369035681111, 51.46369035681111, 51.46369035681111, 51.411349, 51.411349, 51.411349, 51.411349, 51.411349, 51.411349, 51.411349, 51.411349, 51.411349, 51.411349, 51.411349, 51.411349, 51.411349, 51.411349, 51.411349, 51.411349, 51.411349, 51.411349, 51.411349, 51.411349, 51.411349, 51.411349, 51.411349, 51.411349, 51.4794049933959, 51.4794049933959, 51.4794049933959, 51.4794049933959, 51.4794049933959, 51.4794049933959, 51.4794049933959, 51.4794049933959, 51.4794049933959, 51.4794049933959, 51.4794049933959, 51.4794049933959, 51.4794049933959, 51.4794049933959, 51.4794049933959, 51.4794049933959, 51.4794049933959, 51.4794049933959, 51.4794049933959, 51.4794049933959, 51.4794049933959, 51.4794049933959, 51.4794049933959, 51.4794049933959, 51.52254, 51.52254, 51.52254, 51.52254, 51.52254, 51.52254, 51.52254, 51.52254, 51.52254, 51.52254, 51.52254, 51.52254, 51.52254, 51.52254, 51.52254, 51.52254, 51.52254, 51.52254, 51.52254, 51.52254, 51.52254, 51.52254, 51.52254, 51.52254, 51.52254, 51.52254, 51.52254, 51.52254, 51.52254, 51.52254, 51.52254, 51.52254, 51.52254, 51.52254, 51.52254, 51.52254, 51.52254, 51.52254, 51.52254, 51.52254, 51.52254, 51.52254, 51.52254, 51.52254, 51.52254, 51.52254, 51.52254, 51.52254, 51.52254, 51.52254, 51.52254, 51.52254, 51.52254, 51.52254, 51.52254, 51.52254, 51.52254, 51.52254, 51.52254, 51.52254, 51.52254, 51.52254, 51.52254, 51.52254, 51.52254, 51.52254, 51.52254, 51.52254, 51.52254, 51.52254, 51.52254, 51.52254, 51.52254, 51.52254, 51.52254, 51.52254, 51.52254, 51.52254, 51.52254, 51.52254, 51.52254, 51.52254, 51.52254, 51.52254, 51.52254, 51.52254, 51.52254, 51.52254, 51.52254, 51.52254, 51.52254, 51.52254, 51.52254, 51.52254, 51.52254, 51.52254, 51.514727, 51.514727, 51.514727, 51.514727, 51.514727, 51.514727, 51.514727, 51.514727, 51.514727, 51.514727, 51.514727, 51.514727, 51.514727, 51.514727, 51.514727, 51.514727, 51.514727, 51.514727, 51.514727, 51.514727, 51.514727, 51.514727, 51.514727, 51.514727, 51.52022527317099, 51.52022527317099, 51.52022527317099, 51.52022527317099, 51.52022527317099, 51.52022527317099, 51.52022527317099, 51.52022527317099, 51.52022527317099, 51.52022527317099, 51.52022527317099, 51.52022527317099, 51.52022527317099, 51.52022527317099, 51.52022527317099, 51.52022527317099, 51.52022527317099, 51.52022527317099, 51.52022527317099, 51.52022527317099, 51.52022527317099, 51.52022527317099, 51.52022527317099, 51.52022527317099, 51.46411354116201, 51.46411354116201, 51.46411354116201, 51.46411354116201, 51.46411354116201, 51.46411354116201, 51.46411354116201, 51.46411354116201, 51.46411354116201, 51.46411354116201, 51.46411354116201, 51.46411354116201, 51.46411354116201, 51.46411354116201, 51.46411354116201, 51.46411354116201, 51.46411354116201, 51.46411354116201, 51.46411354116201, 51.46411354116201, 51.46411354116201, 51.46411354116201, 51.46411354116201, 51.46411354116201, 51.486884, 51.486884, 51.486884, 51.486884, 51.486884, 51.486884, 51.486884, 51.486884, 51.486884, 51.486884, 51.486884, 51.486884, 51.486884, 51.486884, 51.486884, 51.486884, 51.486884, 51.486884, 51.486884, 51.486884, 51.486884, 51.486884, 51.486884, 51.486884, 51.498166999999995, 51.498166999999995, 51.498166999999995, 51.498166999999995, 51.498166999999995, 51.498166999999995, 51.498166999999995, 51.498166999999995, 51.498166999999995, 51.498166999999995, 51.498166999999995, 51.498166999999995, 51.498166999999995, 51.498166999999995, 51.498166999999995, 51.498166999999995, 51.498166999999995, 51.498166999999995, 51.498166999999995, 51.498166999999995, 51.498166999999995, 51.498166999999995, 51.498166999999995, 51.498166999999995, 51.484384000000006, 51.484384000000006, 51.484384000000006, 51.484384000000006, 51.484384000000006, 51.484384000000006, 51.484384000000006, 51.484384000000006, 51.484384000000006, 51.484384000000006, 51.484384000000006, 51.484384000000006, 51.484384000000006, 51.484384000000006, 51.484384000000006, 51.484384000000006, 51.484384000000006, 51.484384000000006, 51.484384000000006, 51.484384000000006, 51.484384000000006, 51.484384000000006, 51.484384000000006, 51.484384000000006, 51.4355006647773, 51.4355006647773, 51.4355006647773, 51.4355006647773, 51.4355006647773, 51.4355006647773, 51.4355006647773, 51.4355006647773, 51.4355006647773, 51.4355006647773, 51.4355006647773, 51.4355006647773, 51.4355006647773, 51.4355006647773, 51.4355006647773, 51.4355006647773, 51.4355006647773, 51.4355006647773, 51.4355006647773, 51.4355006647773, 51.4355006647773, 51.4355006647773, 51.4355006647773, 51.4355006647773, 51.518947999999995, 51.518947999999995, 51.518947999999995, 51.518947999999995, 51.518947999999995, 51.518947999999995, 51.518947999999995, 51.518947999999995, 51.518947999999995, 51.518947999999995, 51.518947999999995, 51.518947999999995, 51.518947999999995, 51.518947999999995, 51.518947999999995, 51.518947999999995, 51.518947999999995, 51.518947999999995, 51.518947999999995, 51.518947999999995, 51.518947999999995, 51.518947999999995, 51.518947999999995, 51.518947999999995, 51.532405461780904, 51.532405461780904, 51.532405461780904, 51.532405461780904, 51.532405461780904, 51.532405461780904, 51.532405461780904, 51.532405461780904, 51.532405461780904, 51.532405461780904, 51.532405461780904, 51.532405461780904, 51.532405461780904, 51.532405461780904, 51.532405461780904, 51.532405461780904, 51.532405461780904, 51.532405461780904, 51.532405461780904, 51.532405461780904, 51.532405461780904, 51.532405461780904, 51.532405461780904, 51.532405461780904, 51.47943952812221, 51.47943952812221, 51.47943952812221, 51.47943952812221, 51.47943952812221, 51.47943952812221, 51.47943952812221, 51.47943952812221, 51.47943952812221, 51.47943952812221, 51.47943952812221, 51.47943952812221, 51.47943952812221, 51.47943952812221, 51.47943952812221, 51.47943952812221, 51.47943952812221, 51.47943952812221, 51.47943952812221, 51.47943952812221, 51.47943952812221, 51.47943952812221, 51.47943952812221, 51.47943952812221, 51.493232791686104, 51.493232791686104, 51.493232791686104, 51.493232791686104, 51.493232791686104, 51.493232791686104, 51.493232791686104, 51.493232791686104, 51.493232791686104, 51.493232791686104, 51.493232791686104, 51.493232791686104, 51.493232791686104, 51.493232791686104, 51.493232791686104, 51.493232791686104, 51.493232791686104, 51.493232791686104, 51.493232791686104, 51.493232791686104, 51.493232791686104, 51.493232791686104, 51.493232791686104, 51.493232791686104, 51.5013906712066, 51.5013906712066, 51.5013906712066, 51.5013906712066, 51.5013906712066, 51.5013906712066, 51.5013906712066, 51.5013906712066, 51.5013906712066, 51.5013906712066, 51.5013906712066, 51.5013906712066, 51.5013906712066, 51.5013906712066, 51.5013906712066, 51.5013906712066, 51.5013906712066, 51.5013906712066, 51.5013906712066, 51.5013906712066, 51.5013906712066, 51.5013906712066, 51.5013906712066, 51.5013906712066, 51.492507, 51.492507, 51.492507, 51.492507, 51.492507, 51.492507, 51.492507, 51.492507, 51.492507, 51.492507, 51.492507, 51.492507, 51.492507, 51.492507, 51.492507, 51.492507, 51.492507, 51.492507, 51.492507, 51.492507, 51.492507, 51.492507, 51.492507, 51.492507, 51.533238, 51.533238, 51.533238, 51.533238, 51.533238, 51.533238, 51.533238, 51.533238, 51.533238, 51.533238, 51.533238, 51.533238, 51.533238, 51.533238, 51.533238, 51.533238, 51.533238, 51.533238, 51.533238, 51.533238, 51.533238, 51.533238, 51.533238, 51.533238, 51.4563, 51.4563, 51.4563, 51.4563, 51.4563, 51.4563, 51.4563, 51.4563, 51.4563, 51.4563, 51.4563, 51.4563, 51.4563, 51.4563, 51.4563, 51.4563, 51.4563, 51.4563, 51.4563, 51.4563, 51.4563, 51.4563, 51.4563, 51.4563, 51.4563, 51.4563, 51.4563, 51.4563, 51.4563, 51.4563, 51.4563, 51.4563, 51.4563, 51.4563, 51.4563, 51.4563, 51.4563, 51.4563, 51.4563, 51.4563, 51.4563, 51.4563, 51.4563, 51.4563, 51.4563, 51.4563, 51.4563, 51.4563, 51.4563, 51.4563, 51.4563, 51.4563, 51.4563, 51.4563, 51.4563, 51.4563, 51.4563, 51.4563, 51.4563, 51.4563, 51.4563, 51.4563, 51.4563, 51.4563, 51.4563, 51.4563, 51.4563, 51.4563, 51.4563, 51.4563, 51.4563, 51.4563, 51.4563, 51.4563, 51.4563, 51.4563, 51.4563, 51.4563, 51.4563, 51.4563, 51.4563, 51.4563, 51.4563, 51.4563, 51.4563, 51.4563, 51.4563, 51.4563, 51.4563, 51.4563, 51.4563, 51.4563, 51.4563, 51.4563, 51.4563, 51.4563, 51.499140000000004, 51.499140000000004, 51.499140000000004, 51.499140000000004, 51.499140000000004, 51.499140000000004, 51.499140000000004, 51.499140000000004, 51.499140000000004, 51.499140000000004, 51.499140000000004, 51.499140000000004, 51.499140000000004, 51.499140000000004, 51.499140000000004, 51.499140000000004, 51.499140000000004, 51.499140000000004, 51.499140000000004, 51.499140000000004, 51.499140000000004, 51.499140000000004, 51.499140000000004, 51.499140000000004, 51.46598327466621, 51.46598327466621, 51.46598327466621, 51.46598327466621, 51.46598327466621, 51.46598327466621, 51.46598327466621, 51.46598327466621, 51.46598327466621, 51.46598327466621, 51.46598327466621, 51.46598327466621, 51.46598327466621, 51.46598327466621, 51.46598327466621, 51.46598327466621, 51.46598327466621, 51.46598327466621, 51.46598327466621, 51.46598327466621, 51.46598327466621, 51.46598327466621, 51.46598327466621, 51.46598327466621, 51.46598327466621, 51.46598327466621, 51.46598327466621, 51.46598327466621, 51.46598327466621, 51.46598327466621, 51.46598327466621, 51.46598327466621, 51.46598327466621, 51.46598327466621, 51.46598327466621, 51.46598327466621, 51.46598327466621, 51.46598327466621, 51.46598327466621, 51.46598327466621, 51.46598327466621, 51.46598327466621, 51.46598327466621, 51.46598327466621, 51.46598327466621, 51.46598327466621, 51.46598327466621, 51.46598327466621, 51.46598327466621, 51.46598327466621, 51.46598327466621, 51.46598327466621, 51.46598327466621, 51.46598327466621, 51.46598327466621, 51.46598327466621, 51.46598327466621, 51.46598327466621, 51.46598327466621, 51.46598327466621, 51.46598327466621, 51.46598327466621, 51.46598327466621, 51.46598327466621, 51.46598327466621, 51.46598327466621, 51.46598327466621, 51.46598327466621, 51.46598327466621, 51.46598327466621, 51.46598327466621, 51.46598327466621, 51.46598327466621, 51.46598327466621, 51.46598327466621, 51.46598327466621, 51.46598327466621, 51.46598327466621, 51.46598327466621, 51.46598327466621, 51.46598327466621, 51.46598327466621, 51.46598327466621, 51.46598327466621, 51.46598327466621, 51.46598327466621, 51.46598327466621, 51.46598327466621, 51.46598327466621, 51.46598327466621, 51.46598327466621, 51.46598327466621, 51.46598327466621, 51.46598327466621, 51.46598327466621, 51.46598327466621, 51.480189, 51.480189, 51.480189, 51.480189, 51.480189, 51.480189, 51.480189, 51.480189, 51.480189, 51.480189, 51.480189, 51.480189, 51.480189, 51.480189, 51.480189, 51.480189, 51.480189, 51.480189, 51.480189, 51.480189, 51.480189, 51.480189, 51.480189, 51.480189, 51.429331, 51.429331, 51.429331, 51.429331, 51.429331, 51.429331, 51.429331, 51.429331, 51.429331, 51.429331, 51.429331, 51.429331, 51.429331, 51.429331, 51.429331, 51.429331, 51.429331, 51.429331, 51.429331, 51.429331, 51.429331, 51.429331, 51.429331, 51.429331, 51.45255156046479, 51.45255156046479, 51.45255156046479, 51.45255156046479, 51.45255156046479, 51.45255156046479, 51.45255156046479, 51.45255156046479, 51.45255156046479, 51.45255156046479, 51.45255156046479, 51.45255156046479, 51.45255156046479, 51.45255156046479, 51.45255156046479, 51.45255156046479, 51.45255156046479, 51.45255156046479, 51.45255156046479, 51.45255156046479, 51.45255156046479, 51.45255156046479, 51.45255156046479, 51.45255156046479, 51.591901, 51.591901, 51.591901, 51.591901, 51.591901, 51.591901, 51.591901, 51.591901, 51.591901, 51.591901, 51.591901, 51.591901, 51.591901, 51.591901, 51.591901, 51.591901, 51.591901, 51.591901, 51.591901, 51.591901, 51.591901, 51.591901, 51.591901, 51.591901, 51.4650325059122, 51.4650325059122, 51.4650325059122, 51.4650325059122, 51.4650325059122, 51.4650325059122, 51.4650325059122, 51.4650325059122, 51.4650325059122, 51.4650325059122, 51.4650325059122, 51.4650325059122, 51.4650325059122, 51.4650325059122, 51.4650325059122, 51.4650325059122, 51.4650325059122, 51.4650325059122, 51.4650325059122, 51.4650325059122, 51.4650325059122, 51.4650325059122, 51.4650325059122, 51.4650325059122, 51.613865000000004, 51.613865000000004, 51.613865000000004, 51.613865000000004, 51.613865000000004, 51.613865000000004, 51.613865000000004, 51.613865000000004, 51.613865000000004, 51.613865000000004, 51.613865000000004, 51.613865000000004, 51.613865000000004, 51.613865000000004, 51.613865000000004, 51.613865000000004, 51.613865000000004, 51.613865000000004, 51.613865000000004, 51.613865000000004, 51.613865000000004, 51.613865000000004, 51.613865000000004, 51.613865000000004, 51.492695, 51.492695, 51.492695, 51.492695, 51.492695, 51.492695, 51.492695, 51.492695, 51.492695, 51.492695, 51.492695, 51.492695, 51.492695, 51.492695, 51.492695, 51.492695, 51.492695, 51.492695, 51.492695, 51.492695, 51.492695, 51.492695, 51.492695, 51.492695, 51.5839769007709, 51.5839769007709, 51.5839769007709, 51.5839769007709, 51.5839769007709, 51.5839769007709, 51.5839769007709, 51.5839769007709, 51.5839769007709, 51.5839769007709, 51.5839769007709, 51.5839769007709, 51.5839769007709, 51.5839769007709, 51.5839769007709, 51.5839769007709, 51.5839769007709, 51.5839769007709, 51.5839769007709, 51.5839769007709, 51.5839769007709, 51.5839769007709, 51.5839769007709, 51.5839769007709, 51.493774669581796, 51.493774669581796, 51.493774669581796, 51.493774669581796, 51.493774669581796, 51.493774669581796, 51.493774669581796, 51.493774669581796, 51.493774669581796, 51.493774669581796, 51.493774669581796, 51.493774669581796, 51.493774669581796, 51.493774669581796, 51.493774669581796, 51.493774669581796, 51.493774669581796, 51.493774669581796, 51.493774669581796, 51.493774669581796, 51.493774669581796, 51.493774669581796, 51.493774669581796, 51.493774669581796, 51.45258, 51.45258, 51.45258, 51.45258, 51.45258, 51.45258, 51.45258, 51.45258, 51.45258, 51.45258, 51.45258, 51.45258, 51.45258, 51.45258, 51.45258, 51.45258, 51.45258, 51.45258, 51.45258, 51.45258, 51.45258, 51.45258, 51.45258, 51.45258, 51.38928690450499, 51.38928690450499, 51.38928690450499, 51.38928690450499, 51.38928690450499, 51.38928690450499, 51.38928690450499, 51.38928690450499, 51.38928690450499, 51.38928690450499, 51.38928690450499, 51.38928690450499, 51.38928690450499, 51.38928690450499, 51.38928690450499, 51.38928690450499, 51.38928690450499, 51.38928690450499, 51.38928690450499, 51.38928690450499, 51.38928690450499, 51.38928690450499, 51.38928690450499, 51.38928690450499, 51.51392874042129, 51.51392874042129, 51.51392874042129, 51.51392874042129, 51.51392874042129, 51.51392874042129, 51.51392874042129, 51.51392874042129, 51.51392874042129, 51.51392874042129, 51.51392874042129, 51.51392874042129, 51.51392874042129, 51.51392874042129, 51.51392874042129, 51.51392874042129, 51.51392874042129, 51.51392874042129, 51.51392874042129, 51.51392874042129, 51.51392874042129, 51.51392874042129, 51.51392874042129, 51.51392874042129, 51.537597999999996, 51.537597999999996, 51.537597999999996, 51.537597999999996, 51.537597999999996, 51.537597999999996, 51.537597999999996, 51.537597999999996, 51.537597999999996, 51.537597999999996, 51.537597999999996, 51.537597999999996, 51.537597999999996, 51.537597999999996, 51.537597999999996, 51.537597999999996, 51.537597999999996, 51.537597999999996, 51.537597999999996, 51.537597999999996, 51.537597999999996, 51.537597999999996, 51.537597999999996, 51.537597999999996, 51.410039000000005, 51.410039000000005, 51.410039000000005, 51.410039000000005, 51.410039000000005, 51.410039000000005, 51.410039000000005, 51.410039000000005, 51.410039000000005, 51.410039000000005, 51.410039000000005, 51.410039000000005, 51.410039000000005, 51.410039000000005, 51.410039000000005, 51.410039000000005, 51.410039000000005, 51.410039000000005, 51.410039000000005, 51.410039000000005, 51.410039000000005, 51.410039000000005, 51.410039000000005, 51.410039000000005, 51.483907253348505, 51.483907253348505, 51.483907253348505, 51.483907253348505, 51.483907253348505, 51.483907253348505, 51.483907253348505, 51.483907253348505, 51.483907253348505, 51.483907253348505, 51.483907253348505, 51.483907253348505, 51.483907253348505, 51.483907253348505, 51.483907253348505, 51.483907253348505, 51.483907253348505, 51.483907253348505, 51.483907253348505, 51.483907253348505, 51.483907253348505, 51.483907253348505, 51.483907253348505, 51.483907253348505], \"lon\": [-0.150913488159214, -0.150913488159214, -0.150913488159214, -0.150913488159214, -0.150913488159214, -0.150913488159214, -0.150913488159214, -0.150913488159214, -0.150913488159214, -0.150913488159214, -0.150913488159214, -0.150913488159214, -0.150913488159214, -0.150913488159214, -0.150913488159214, -0.150913488159214, -0.150913488159214, -0.150913488159214, -0.150913488159214, -0.150913488159214, -0.150913488159214, -0.150913488159214, -0.150913488159214, -0.150913488159214, -0.150913488159214, -0.150913488159214, -0.150913488159214, -0.150913488159214, -0.150913488159214, -0.150913488159214, -0.150913488159214, -0.150913488159214, -0.150913488159214, -0.150913488159214, -0.150913488159214, -0.150913488159214, -0.150913488159214, -0.150913488159214, -0.150913488159214, -0.150913488159214, -0.150913488159214, -0.150913488159214, -0.150913488159214, -0.150913488159214, -0.150913488159214, -0.150913488159214, -0.150913488159214, -0.150913488159214, -0.150913488159214, -0.150913488159214, -0.150913488159214, -0.150913488159214, -0.150913488159214, -0.150913488159214, -0.150913488159214, -0.150913488159214, -0.150913488159214, -0.150913488159214, -0.150913488159214, -0.150913488159214, -0.150913488159214, -0.150913488159214, -0.150913488159214, -0.150913488159214, -0.150913488159214, -0.150913488159214, -0.150913488159214, -0.150913488159214, -0.150913488159214, -0.150913488159214, -0.150913488159214, -0.150913488159214, -0.150913488159214, -0.150913488159214, -0.150913488159214, -0.150913488159214, -0.150913488159214, -0.150913488159214, -0.150913488159214, -0.150913488159214, -0.150913488159214, -0.150913488159214, -0.150913488159214, -0.150913488159214, -0.150913488159214, -0.150913488159214, -0.150913488159214, -0.150913488159214, -0.150913488159214, -0.150913488159214, -0.150913488159214, -0.150913488159214, -0.150913488159214, -0.150913488159214, -0.150913488159214, -0.150913488159214, -0.292488, -0.292488, -0.292488, -0.292488, -0.292488, -0.292488, -0.292488, -0.292488, -0.292488, -0.292488, -0.292488, -0.292488, -0.292488, -0.292488, -0.292488, -0.292488, -0.292488, -0.292488, -0.292488, -0.292488, -0.292488, -0.292488, -0.292488, -0.292488, -0.19589212, -0.19589212, -0.19589212, -0.19589212, -0.19589212, -0.19589212, -0.19589212, -0.19589212, -0.19589212, -0.19589212, -0.19589212, -0.19589212, -0.19589212, -0.19589212, -0.19589212, -0.19589212, -0.19589212, -0.19589212, -0.19589212, -0.19589212, -0.19589212, -0.19589212, -0.19589212, -0.19589212, -0.050765836368899996, -0.050765836368899996, -0.050765836368899996, -0.050765836368899996, -0.050765836368899996, -0.050765836368899996, -0.050765836368899996, -0.050765836368899996, -0.050765836368899996, -0.050765836368899996, -0.050765836368899996, -0.050765836368899996, -0.050765836368899996, -0.050765836368899996, -0.050765836368899996, -0.050765836368899996, -0.050765836368899996, -0.050765836368899996, -0.050765836368899996, -0.050765836368899996, -0.050765836368899996, -0.050765836368899996, -0.050765836368899996, -0.050765836368899996, -0.24779299999999999, -0.24779299999999999, -0.24779299999999999, -0.24779299999999999, -0.24779299999999999, -0.24779299999999999, -0.24779299999999999, -0.24779299999999999, -0.24779299999999999, -0.24779299999999999, -0.24779299999999999, -0.24779299999999999, -0.24779299999999999, -0.24779299999999999, -0.24779299999999999, -0.24779299999999999, -0.24779299999999999, -0.24779299999999999, -0.24779299999999999, -0.24779299999999999, -0.24779299999999999, -0.24779299999999999, -0.24779299999999999, -0.24779299999999999, -0.12019471131710001, -0.12019471131710001, -0.12019471131710001, -0.12019471131710001, -0.12019471131710001, -0.12019471131710001, -0.12019471131710001, -0.12019471131710001, -0.12019471131710001, -0.12019471131710001, -0.12019471131710001, -0.12019471131710001, -0.12019471131710001, -0.12019471131710001, -0.12019471131710001, -0.12019471131710001, -0.12019471131710001, -0.12019471131710001, -0.12019471131710001, -0.12019471131710001, -0.12019471131710001, -0.12019471131710001, -0.12019471131710001, -0.12019471131710001, 0.095111, 0.095111, 0.095111, 0.095111, 0.095111, 0.095111, 0.095111, 0.095111, 0.095111, 0.095111, 0.095111, 0.095111, 0.095111, 0.095111, 0.095111, 0.095111, 0.095111, 0.095111, 0.095111, 0.095111, 0.095111, 0.095111, 0.095111, 0.095111, -0.480984, -0.480984, -0.480984, -0.480984, -0.480984, -0.480984, -0.480984, -0.480984, -0.480984, -0.480984, -0.480984, -0.480984, -0.480984, -0.480984, -0.480984, -0.480984, -0.480984, -0.480984, -0.480984, -0.480984, -0.480984, -0.480984, -0.480984, -0.480984, -0.0252606031340197, -0.0252606031340197, -0.0252606031340197, -0.0252606031340197, -0.0252606031340197, -0.0252606031340197, -0.0252606031340197, -0.0252606031340197, -0.0252606031340197, -0.0252606031340197, -0.0252606031340197, -0.0252606031340197, -0.0252606031340197, -0.0252606031340197, -0.0252606031340197, -0.0252606031340197, -0.0252606031340197, -0.0252606031340197, -0.0252606031340197, -0.0252606031340197, -0.0252606031340197, -0.0252606031340197, -0.0252606031340197, -0.0252606031340197, -0.442092, -0.442092, -0.442092, -0.442092, -0.442092, -0.442092, -0.442092, -0.442092, -0.442092, -0.442092, -0.442092, -0.442092, -0.442092, -0.442092, -0.442092, -0.442092, -0.442092, -0.442092, -0.442092, -0.442092, -0.442092, -0.442092, -0.442092, -0.442092, -0.479451, -0.479451, -0.479451, -0.479451, -0.479451, -0.479451, -0.479451, -0.479451, -0.479451, -0.479451, -0.479451, -0.479451, -0.479451, -0.479451, -0.479451, -0.479451, -0.479451, -0.479451, -0.479451, -0.479451, -0.479451, -0.479451, -0.479451, -0.479451, -0.341218138106469, -0.341218138106469, -0.341218138106469, -0.341218138106469, -0.341218138106469, -0.341218138106469, -0.341218138106469, -0.341218138106469, -0.341218138106469, -0.341218138106469, -0.341218138106469, -0.341218138106469, -0.341218138106469, -0.341218138106469, -0.341218138106469, -0.341218138106469, -0.341218138106469, -0.341218138106469, -0.341218138106469, -0.341218138106469, -0.341218138106469, -0.341218138106469, -0.341218138106469, -0.341218138106469, -0.068218, -0.068218, -0.068218, -0.068218, -0.068218, -0.068218, -0.068218, -0.068218, -0.068218, -0.068218, -0.068218, -0.068218, -0.068218, -0.068218, -0.068218, -0.068218, -0.068218, -0.068218, -0.068218, -0.068218, -0.068218, -0.068218, -0.068218, -0.068218, -0.07776568175200001, -0.07776568175200001, -0.07776568175200001, -0.07776568175200001, -0.07776568175200001, -0.07776568175200001, -0.07776568175200001, -0.07776568175200001, -0.07776568175200001, -0.07776568175200001, -0.07776568175200001, -0.07776568175200001, -0.07776568175200001, -0.07776568175200001, -0.07776568175200001, -0.07776568175200001, -0.07776568175200001, -0.07776568175200001, -0.07776568175200001, -0.07776568175200001, -0.07776568175200001, -0.07776568175200001, -0.07776568175200001, -0.07776568175200001, -0.362989, -0.362989, -0.362989, -0.362989, -0.362989, -0.362989, -0.362989, -0.362989, -0.362989, -0.362989, -0.362989, -0.362989, -0.362989, -0.362989, -0.362989, -0.362989, -0.362989, -0.362989, -0.362989, -0.362989, -0.362989, -0.362989, -0.362989, -0.362989, 0.074003, 0.074003, 0.074003, 0.074003, 0.074003, 0.074003, 0.074003, 0.074003, 0.074003, 0.074003, 0.074003, 0.074003, 0.074003, 0.074003, 0.074003, 0.074003, 0.074003, 0.074003, 0.074003, 0.074003, 0.074003, 0.074003, 0.074003, 0.074003, -0.008418, -0.008418, -0.008418, -0.008418, -0.008418, -0.008418, -0.008418, -0.008418, -0.008418, -0.008418, -0.008418, -0.008418, -0.008418, -0.008418, -0.008418, -0.008418, -0.008418, -0.008418, -0.008418, -0.008418, -0.008418, -0.008418, -0.008418, -0.008418, -0.310081, -0.310081, -0.310081, -0.310081, -0.310081, -0.310081, -0.310081, -0.310081, -0.310081, -0.310081, -0.310081, -0.310081, -0.310081, -0.310081, -0.310081, -0.310081, -0.310081, -0.310081, -0.310081, -0.310081, -0.310081, -0.310081, -0.310081, -0.310081, -0.168397, -0.168397, -0.168397, -0.168397, -0.168397, -0.168397, -0.168397, -0.168397, -0.168397, -0.168397, -0.168397, -0.168397, -0.168397, -0.168397, -0.168397, -0.168397, -0.168397, -0.168397, -0.168397, -0.168397, -0.168397, -0.168397, -0.168397, -0.168397, -0.0661800662229116, -0.0661800662229116, -0.0661800662229116, -0.0661800662229116, -0.0661800662229116, -0.0661800662229116, -0.0661800662229116, -0.0661800662229116, -0.0661800662229116, -0.0661800662229116, -0.0661800662229116, -0.0661800662229116, -0.0661800662229116, -0.0661800662229116, -0.0661800662229116, -0.0661800662229116, -0.0661800662229116, -0.0661800662229116, -0.0661800662229116, -0.0661800662229116, -0.0661800662229116, -0.0661800662229116, -0.0661800662229116, -0.0661800662229116, -0.190863, -0.190863, -0.190863, -0.190863, -0.190863, -0.190863, -0.190863, -0.190863, -0.190863, -0.190863, -0.190863, -0.190863, -0.190863, -0.190863, -0.190863, -0.190863, -0.190863, -0.190863, -0.190863, -0.190863, -0.190863, -0.190863, -0.190863, -0.190863, -0.149723946604927, -0.149723946604927, -0.149723946604927, -0.149723946604927, -0.149723946604927, -0.149723946604927, -0.149723946604927, -0.149723946604927, -0.149723946604927, -0.149723946604927, -0.149723946604927, -0.149723946604927, -0.149723946604927, -0.149723946604927, -0.149723946604927, -0.149723946604927, -0.149723946604927, -0.149723946604927, -0.149723946604927, -0.149723946604927, -0.149723946604927, -0.149723946604927, -0.149723946604927, -0.149723946604927, -0.213492139585065, -0.213492139585065, -0.213492139585065, -0.213492139585065, -0.213492139585065, -0.213492139585065, -0.213492139585065, -0.213492139585065, -0.213492139585065, -0.213492139585065, -0.213492139585065, -0.213492139585065, -0.213492139585065, -0.213492139585065, -0.213492139585065, -0.213492139585065, -0.213492139585065, -0.213492139585065, -0.213492139585065, -0.213492139585065, -0.213492139585065, -0.213492139585065, -0.213492139585065, -0.213492139585065, -0.213492139585065, -0.213492139585065, -0.213492139585065, -0.213492139585065, -0.213492139585065, -0.213492139585065, -0.213492139585065, -0.213492139585065, -0.213492139585065, -0.213492139585065, -0.213492139585065, -0.213492139585065, -0.213492139585065, -0.213492139585065, -0.213492139585065, -0.213492139585065, -0.213492139585065, -0.213492139585065, -0.213492139585065, -0.213492139585065, -0.213492139585065, -0.213492139585065, -0.213492139585065, -0.213492139585065, -0.213492139585065, -0.213492139585065, -0.213492139585065, -0.213492139585065, -0.213492139585065, -0.213492139585065, -0.213492139585065, -0.213492139585065, -0.213492139585065, -0.213492139585065, -0.213492139585065, -0.213492139585065, -0.213492139585065, -0.213492139585065, -0.213492139585065, -0.213492139585065, -0.213492139585065, -0.213492139585065, -0.213492139585065, -0.213492139585065, -0.213492139585065, -0.213492139585065, -0.213492139585065, -0.213492139585065, -0.213492139585065, -0.213492139585065, -0.213492139585065, -0.213492139585065, -0.213492139585065, -0.213492139585065, -0.213492139585065, -0.213492139585065, -0.213492139585065, -0.213492139585065, -0.213492139585065, -0.213492139585065, -0.213492139585065, -0.213492139585065, -0.213492139585065, -0.213492139585065, -0.213492139585065, -0.213492139585065, -0.213492139585065, -0.213492139585065, -0.213492139585065, -0.213492139585065, -0.213492139585065, -0.213492139585065, -0.008418492656427409, -0.008418492656427409, -0.008418492656427409, -0.008418492656427409, -0.008418492656427409, -0.008418492656427409, -0.008418492656427409, -0.008418492656427409, -0.008418492656427409, -0.008418492656427409, -0.008418492656427409, -0.008418492656427409, -0.008418492656427409, -0.008418492656427409, -0.008418492656427409, -0.008418492656427409, -0.008418492656427409, -0.008418492656427409, -0.008418492656427409, -0.008418492656427409, -0.008418492656427409, -0.008418492656427409, -0.008418492656427409, -0.008418492656427409, 0.0642224671704697, 0.0642224671704697, 0.0642224671704697, 0.0642224671704697, 0.0642224671704697, 0.0642224671704697, 0.0642224671704697, 0.0642224671704697, 0.0642224671704697, 0.0642224671704697, 0.0642224671704697, 0.0642224671704697, 0.0642224671704697, 0.0642224671704697, 0.0642224671704697, 0.0642224671704697, 0.0642224671704697, 0.0642224671704697, 0.0642224671704697, 0.0642224671704697, 0.0642224671704697, 0.0642224671704697, 0.0642224671704697, 0.0642224671704697, -0.004898, -0.004898, -0.004898, -0.004898, -0.004898, -0.004898, -0.004898, -0.004898, -0.004898, -0.004898, -0.004898, -0.004898, -0.004898, -0.004898, -0.004898, -0.004898, -0.004898, -0.004898, -0.004898, -0.004898, -0.004898, -0.004898, -0.004898, -0.004898, -0.0967638468323854, -0.0967638468323854, -0.0967638468323854, -0.0967638468323854, -0.0967638468323854, -0.0967638468323854, -0.0967638468323854, -0.0967638468323854, -0.0967638468323854, -0.0967638468323854, -0.0967638468323854, -0.0967638468323854, -0.0967638468323854, -0.0967638468323854, -0.0967638468323854, -0.0967638468323854, -0.0967638468323854, -0.0967638468323854, -0.0967638468323854, -0.0967638468323854, -0.0967638468323854, -0.0967638468323854, -0.0967638468323854, -0.0967638468323854, -0.298775, -0.298775, -0.298775, -0.298775, -0.298775, -0.298775, -0.298775, -0.298775, -0.298775, -0.298775, -0.298775, -0.298775, -0.298775, -0.298775, -0.298775, -0.298775, -0.298775, -0.298775, -0.298775, -0.298775, -0.298775, -0.298775, -0.298775, -0.298775, -0.12162720332855999, -0.12162720332855999, -0.12162720332855999, -0.12162720332855999, -0.12162720332855999, -0.12162720332855999, -0.12162720332855999, -0.12162720332855999, -0.12162720332855999, -0.12162720332855999, -0.12162720332855999, -0.12162720332855999, -0.12162720332855999, -0.12162720332855999, -0.12162720332855999, -0.12162720332855999, -0.12162720332855999, -0.12162720332855999, -0.12162720332855999, -0.12162720332855999, -0.12162720332855999, -0.12162720332855999, -0.12162720332855999, -0.12162720332855999, -0.261916, -0.261916, -0.261916, -0.261916, -0.261916, -0.261916, -0.261916, -0.261916, -0.261916, -0.261916, -0.261916, -0.261916, -0.261916, -0.261916, -0.261916, -0.261916, -0.261916, -0.261916, -0.261916, -0.261916, -0.261916, -0.261916, -0.261916, -0.261916, -0.40278, -0.40278, -0.40278, -0.40278, -0.40278, -0.40278, -0.40278, -0.40278, -0.40278, -0.40278, -0.40278, -0.40278, -0.40278, -0.40278, -0.40278, -0.40278, -0.40278, -0.40278, -0.40278, -0.40278, -0.40278, -0.40278, -0.40278, -0.40278, -0.41851499999999997, -0.41851499999999997, -0.41851499999999997, -0.41851499999999997, -0.41851499999999997, -0.41851499999999997, -0.41851499999999997, -0.41851499999999997, -0.41851499999999997, -0.41851499999999997, -0.41851499999999997, -0.41851499999999997, -0.41851499999999997, -0.41851499999999997, -0.41851499999999997, -0.41851499999999997, -0.41851499999999997, -0.41851499999999997, -0.41851499999999997, -0.41851499999999997, -0.41851499999999997, -0.41851499999999997, -0.41851499999999997, -0.41851499999999997, 0.018882, 0.018882, 0.018882, 0.018882, 0.018882, 0.018882, 0.018882, 0.018882, 0.018882, 0.018882, 0.018882, 0.018882, 0.018882, 0.018882, 0.018882, 0.018882, 0.018882, 0.018882, 0.018882, 0.018882, 0.018882, 0.018882, 0.018882, 0.018882, -0.013628, -0.013628, -0.013628, -0.013628, -0.013628, -0.013628, -0.013628, -0.013628, -0.013628, -0.013628, -0.013628, -0.013628, -0.013628, -0.013628, -0.013628, -0.013628, -0.013628, -0.013628, -0.013628, -0.013628, -0.013628, -0.013628, -0.013628, -0.013628, -0.145657269364411, -0.145657269364411, -0.145657269364411, -0.145657269364411, -0.145657269364411, -0.145657269364411, -0.145657269364411, -0.145657269364411, -0.145657269364411, -0.145657269364411, -0.145657269364411, -0.145657269364411, -0.145657269364411, -0.145657269364411, -0.145657269364411, -0.145657269364411, -0.145657269364411, -0.145657269364411, -0.145657269364411, -0.145657269364411, -0.145657269364411, -0.145657269364411, -0.145657269364411, -0.145657269364411, -0.240414, -0.240414, -0.240414, -0.240414, -0.240414, -0.240414, -0.240414, -0.240414, -0.240414, -0.240414, -0.240414, -0.240414, -0.240414, -0.240414, -0.240414, -0.240414, -0.240414, -0.240414, -0.240414, -0.240414, -0.240414, -0.240414, -0.240414, -0.240414, -0.131938, -0.131938, -0.131938, -0.131938, -0.131938, -0.131938, -0.131938, -0.131938, -0.131938, -0.131938, -0.131938, -0.131938, -0.131938, -0.131938, -0.131938, -0.131938, -0.131938, -0.131938, -0.131938, -0.131938, -0.131938, -0.131938, -0.131938, -0.131938, -0.29658478, -0.29658478, -0.29658478, -0.29658478, -0.29658478, -0.29658478, -0.29658478, -0.29658478, -0.29658478, -0.29658478, -0.29658478, -0.29658478, -0.29658478, -0.29658478, -0.29658478, -0.29658478, -0.29658478, -0.29658478, -0.29658478, -0.29658478, -0.29658478, -0.29658478, -0.29658478, -0.29658478, -0.13516388, -0.13516388, -0.13516388, -0.13516388, -0.13516388, -0.13516388, -0.13516388, -0.13516388, -0.13516388, -0.13516388, -0.13516388, -0.13516388, -0.13516388, -0.13516388, -0.13516388, -0.13516388, -0.13516388, -0.13516388, -0.13516388, -0.13516388, -0.13516388, -0.13516388, -0.13516388, -0.13516388, -0.0873571979556188, -0.0873571979556188, -0.0873571979556188, -0.0873571979556188, -0.0873571979556188, -0.0873571979556188, -0.0873571979556188, -0.0873571979556188, -0.0873571979556188, -0.0873571979556188, -0.0873571979556188, -0.0873571979556188, -0.0873571979556188, -0.0873571979556188, -0.0873571979556188, -0.0873571979556188, -0.0873571979556188, -0.0873571979556188, -0.0873571979556188, -0.0873571979556188, -0.0873571979556188, -0.0873571979556188, -0.0873571979556188, -0.0873571979556188, -0.508729, -0.508729, -0.508729, -0.508729, -0.508729, -0.508729, -0.508729, -0.508729, -0.508729, -0.508729, -0.508729, -0.508729, -0.508729, -0.508729, -0.508729, -0.508729, -0.508729, -0.508729, -0.508729, -0.508729, -0.508729, -0.508729, -0.508729, -0.508729, -0.508729, -0.508729, -0.508729, -0.508729, -0.508729, -0.508729, -0.508729, -0.508729, -0.508729, -0.508729, -0.508729, -0.508729, -0.508729, -0.508729, -0.508729, -0.508729, -0.508729, -0.508729, -0.508729, -0.508729, -0.508729, -0.508729, -0.508729, -0.508729, -0.508729, -0.508729, -0.508729, -0.508729, -0.508729, -0.508729, -0.508729, -0.508729, -0.508729, -0.508729, -0.508729, -0.508729, -0.508729, -0.508729, -0.508729, -0.508729, -0.508729, -0.508729, -0.508729, -0.508729, -0.508729, -0.508729, -0.508729, -0.508729, -0.508729, -0.508729, -0.508729, -0.508729, -0.508729, -0.508729, -0.508729, -0.508729, -0.508729, -0.508729, -0.508729, -0.508729, -0.508729, -0.508729, -0.508729, -0.508729, -0.508729, -0.508729, -0.508729, -0.508729, -0.508729, -0.508729, -0.508729, -0.508729, -0.042155, -0.042155, -0.042155, -0.042155, -0.042155, -0.042155, -0.042155, -0.042155, -0.042155, -0.042155, -0.042155, -0.042155, -0.042155, -0.042155, -0.042155, -0.042155, -0.042155, -0.042155, -0.042155, -0.042155, -0.042155, -0.042155, -0.042155, -0.042155, -0.408733, -0.408733, -0.408733, -0.408733, -0.408733, -0.408733, -0.408733, -0.408733, -0.408733, -0.408733, -0.408733, -0.408733, -0.408733, -0.408733, -0.408733, -0.408733, -0.408733, -0.408733, -0.408733, -0.408733, -0.408733, -0.408733, -0.408733, -0.408733, -0.13186863879576, -0.13186863879576, -0.13186863879576, -0.13186863879576, -0.13186863879576, -0.13186863879576, -0.13186863879576, -0.13186863879576, -0.13186863879576, -0.13186863879576, -0.13186863879576, -0.13186863879576, -0.13186863879576, -0.13186863879576, -0.13186863879576, -0.13186863879576, -0.13186863879576, -0.13186863879576, -0.13186863879576, -0.13186863879576, -0.13186863879576, -0.13186863879576, -0.13186863879576, -0.13186863879576, -0.22466999999999998, -0.22466999999999998, -0.22466999999999998, -0.22466999999999998, -0.22466999999999998, -0.22466999999999998, -0.22466999999999998, -0.22466999999999998, -0.22466999999999998, -0.22466999999999998, -0.22466999999999998, -0.22466999999999998, -0.22466999999999998, -0.22466999999999998, -0.22466999999999998, -0.22466999999999998, -0.22466999999999998, -0.22466999999999998, -0.22466999999999998, -0.22466999999999998, -0.22466999999999998, -0.22466999999999998, -0.22466999999999998, -0.22466999999999998, -0.11760450735139201, -0.11760450735139201, -0.11760450735139201, -0.11760450735139201, -0.11760450735139201, -0.11760450735139201, -0.11760450735139201, -0.11760450735139201, -0.11760450735139201, -0.11760450735139201, -0.11760450735139201, -0.11760450735139201, -0.11760450735139201, -0.11760450735139201, -0.11760450735139201, -0.11760450735139201, -0.11760450735139201, -0.11760450735139201, -0.11760450735139201, -0.11760450735139201, -0.11760450735139201, -0.11760450735139201, -0.11760450735139201, -0.11760450735139201, 0.137279111232178, 0.137279111232178, 0.137279111232178, 0.137279111232178, 0.137279111232178, 0.137279111232178, 0.137279111232178, 0.137279111232178, 0.137279111232178, 0.137279111232178, 0.137279111232178, 0.137279111232178, 0.137279111232178, 0.137279111232178, 0.137279111232178, 0.137279111232178, 0.137279111232178, 0.137279111232178, 0.137279111232178, 0.137279111232178, 0.137279111232178, 0.137279111232178, 0.137279111232178, 0.137279111232178, -0.10698900000000001, -0.10698900000000001, -0.10698900000000001, -0.10698900000000001, -0.10698900000000001, -0.10698900000000001, -0.10698900000000001, -0.10698900000000001, -0.10698900000000001, -0.10698900000000001, -0.10698900000000001, -0.10698900000000001, -0.10698900000000001, -0.10698900000000001, -0.10698900000000001, -0.10698900000000001, -0.10698900000000001, -0.10698900000000001, -0.10698900000000001, -0.10698900000000001, -0.10698900000000001, -0.10698900000000001, -0.10698900000000001, -0.10698900000000001, -0.039641, -0.039641, -0.039641, -0.039641, -0.039641, -0.039641, -0.039641, -0.039641, -0.039641, -0.039641, -0.039641, -0.039641, -0.039641, -0.039641, -0.039641, -0.039641, -0.039641, -0.039641, -0.039641, -0.039641, -0.039641, -0.039641, -0.039641, -0.039641, -0.215890144123119, -0.215890144123119, -0.215890144123119, -0.215890144123119, -0.215890144123119, -0.215890144123119, -0.215890144123119, -0.215890144123119, -0.215890144123119, -0.215890144123119, -0.215890144123119, -0.215890144123119, -0.215890144123119, -0.215890144123119, -0.215890144123119, -0.215890144123119, -0.215890144123119, -0.215890144123119, -0.215890144123119, -0.215890144123119, -0.215890144123119, -0.215890144123119, -0.215890144123119, -0.215890144123119, -0.116146, -0.116146, -0.116146, -0.116146, -0.116146, -0.116146, -0.116146, -0.116146, -0.116146, -0.116146, -0.116146, -0.116146, -0.116146, -0.116146, -0.116146, -0.116146, -0.116146, -0.116146, -0.116146, -0.116146, -0.116146, -0.116146, -0.116146, -0.116146, -0.345608290872898, -0.345608290872898, -0.345608290872898, -0.345608290872898, -0.345608290872898, -0.345608290872898, -0.345608290872898, -0.345608290872898, -0.345608290872898, -0.345608290872898, -0.345608290872898, -0.345608290872898, -0.345608290872898, -0.345608290872898, -0.345608290872898, -0.345608290872898, -0.345608290872898, -0.345608290872898, -0.345608290872898, -0.345608290872898, -0.345608290872898, -0.345608290872898, -0.345608290872898, -0.345608290872898, -0.178809, -0.178809, -0.178809, -0.178809, -0.178809, -0.178809, -0.178809, -0.178809, -0.178809, -0.178809, -0.178809, -0.178809, -0.178809, -0.178809, -0.178809, -0.178809, -0.178809, -0.178809, -0.178809, -0.178809, -0.178809, -0.178809, -0.178809, -0.178809, -0.19223080504282397, -0.19223080504282397, -0.19223080504282397, -0.19223080504282397, -0.19223080504282397, -0.19223080504282397, -0.19223080504282397, -0.19223080504282397, -0.19223080504282397, -0.19223080504282397, -0.19223080504282397, -0.19223080504282397, -0.19223080504282397, -0.19223080504282397, -0.19223080504282397, -0.19223080504282397, -0.19223080504282397, -0.19223080504282397, -0.19223080504282397, -0.19223080504282397, -0.19223080504282397, -0.19223080504282397, -0.19223080504282397, -0.19223080504282397, -0.176607, -0.176607, -0.176607, -0.176607, -0.176607, -0.176607, -0.176607, -0.176607, -0.176607, -0.176607, -0.176607, -0.176607, -0.176607, -0.176607, -0.176607, -0.176607, -0.176607, -0.176607, -0.176607, -0.176607, -0.176607, -0.176607, -0.176607, -0.176607, -0.1287742, -0.1287742, -0.1287742, -0.1287742, -0.1287742, -0.1287742, -0.1287742, -0.1287742, -0.1287742, -0.1287742, -0.1287742, -0.1287742, -0.1287742, -0.1287742, -0.1287742, -0.1287742, -0.1287742, -0.1287742, -0.1287742, -0.1287742, -0.1287742, -0.1287742, -0.1287742, -0.1287742, -0.26550263179975403, -0.26550263179975403, -0.26550263179975403, -0.26550263179975403, -0.26550263179975403, -0.26550263179975403, -0.26550263179975403, -0.26550263179975403, -0.26550263179975403, -0.26550263179975403, -0.26550263179975403, -0.26550263179975403, -0.26550263179975403, -0.26550263179975403, -0.26550263179975403, -0.26550263179975403, -0.26550263179975403, -0.26550263179975403, -0.26550263179975403, -0.26550263179975403, -0.26550263179975403, -0.26550263179975403, -0.26550263179975403, -0.26550263179975403, -0.215871, -0.215871, -0.215871, -0.215871, -0.215871, -0.215871, -0.215871, -0.215871, -0.215871, -0.215871, -0.215871, -0.215871, -0.215871, -0.215871, -0.215871, -0.215871, -0.215871, -0.215871, -0.215871, -0.215871, -0.215871, -0.215871, -0.215871, -0.215871, -0.26565205238622197, -0.26565205238622197, -0.26565205238622197, -0.26565205238622197, -0.26565205238622197, -0.26565205238622197, -0.26565205238622197, -0.26565205238622197, -0.26565205238622197, -0.26565205238622197, -0.26565205238622197, -0.26565205238622197, -0.26565205238622197, -0.26565205238622197, -0.26565205238622197, -0.26565205238622197, -0.26565205238622197, -0.26565205238622197, -0.26565205238622197, -0.26565205238622197, -0.26565205238622197, -0.26565205238622197, -0.26565205238622197, -0.26565205238622197, -0.0595528932573422, -0.0595528932573422, -0.0595528932573422, -0.0595528932573422, -0.0595528932573422, -0.0595528932573422, -0.0595528932573422, -0.0595528932573422, -0.0595528932573422, -0.0595528932573422, -0.0595528932573422, -0.0595528932573422, -0.0595528932573422, -0.0595528932573422, -0.0595528932573422, -0.0595528932573422, -0.0595528932573422, -0.0595528932573422, -0.0595528932573422, -0.0595528932573422, -0.0595528932573422, -0.0595528932573422, -0.0595528932573422, -0.0595528932573422, -0.230427, -0.230427, -0.230427, -0.230427, -0.230427, -0.230427, -0.230427, -0.230427, -0.230427, -0.230427, -0.230427, -0.230427, -0.230427, -0.230427, -0.230427, -0.230427, -0.230427, -0.230427, -0.230427, -0.230427, -0.230427, -0.230427, -0.230427, -0.230427, -0.42376, -0.42376, -0.42376, -0.42376, -0.42376, -0.42376, -0.42376, -0.42376, -0.42376, -0.42376, -0.42376, -0.42376, -0.42376, -0.42376, -0.42376, -0.42376, -0.42376, -0.42376, -0.42376, -0.42376, -0.42376, -0.42376, -0.42376, -0.42376, -0.101527038274853, -0.101527038274853, -0.101527038274853, -0.101527038274853, -0.101527038274853, -0.101527038274853, -0.101527038274853, -0.101527038274853, -0.101527038274853, -0.101527038274853, -0.101527038274853, -0.101527038274853, -0.101527038274853, -0.101527038274853, -0.101527038274853, -0.101527038274853, -0.101527038274853, -0.101527038274853, -0.101527038274853, -0.101527038274853, -0.101527038274853, -0.101527038274853, -0.101527038274853, -0.101527038274853, -0.09163400000000001, -0.09163400000000001, -0.09163400000000001, -0.09163400000000001, -0.09163400000000001, -0.09163400000000001, -0.09163400000000001, -0.09163400000000001, -0.09163400000000001, -0.09163400000000001, -0.09163400000000001, -0.09163400000000001, -0.09163400000000001, -0.09163400000000001, -0.09163400000000001, -0.09163400000000001, -0.09163400000000001, -0.09163400000000001, -0.09163400000000001, -0.09163400000000001, -0.09163400000000001, -0.09163400000000001, -0.09163400000000001, -0.09163400000000001, -0.486675, -0.486675, -0.486675, -0.486675, -0.486675, -0.486675, -0.486675, -0.486675, -0.486675, -0.486675, -0.486675, -0.486675, -0.486675, -0.486675, -0.486675, -0.486675, -0.486675, -0.486675, -0.486675, -0.486675, -0.486675, -0.486675, -0.486675, -0.486675, -0.0160682432041528, -0.0160682432041528, -0.0160682432041528, -0.0160682432041528, -0.0160682432041528, -0.0160682432041528, -0.0160682432041528, -0.0160682432041528, -0.0160682432041528, -0.0160682432041528, -0.0160682432041528, -0.0160682432041528, -0.0160682432041528, -0.0160682432041528, -0.0160682432041528, -0.0160682432041528, -0.0160682432041528, -0.0160682432041528, -0.0160682432041528, -0.0160682432041528, -0.0160682432041528, -0.0160682432041528, -0.0160682432041528, -0.0160682432041528, 0.030858, 0.030858, 0.030858, 0.030858, 0.030858, 0.030858, 0.030858, 0.030858, 0.030858, 0.030858, 0.030858, 0.030858, 0.030858, 0.030858, 0.030858, 0.030858, 0.030858, 0.030858, 0.030858, 0.030858, 0.030858, 0.030858, 0.030858, 0.030858, -0.175284, -0.175284, -0.175284, -0.175284, -0.175284, -0.175284, -0.175284, -0.175284, -0.175284, -0.175284, -0.175284, -0.175284, -0.175284, -0.175284, -0.175284, -0.175284, -0.175284, -0.175284, -0.175284, -0.175284, -0.175284, -0.175284, -0.175284, -0.175284, -0.012381, -0.012381, -0.012381, -0.012381, -0.012381, -0.012381, -0.012381, -0.012381, -0.012381, -0.012381, -0.012381, -0.012381, -0.012381, -0.012381, -0.012381, -0.012381, -0.012381, -0.012381, -0.012381, -0.012381, -0.012381, -0.012381, -0.012381, -0.012381, -0.020266, -0.020266, -0.020266, -0.020266, -0.020266, -0.020266, -0.020266, -0.020266, -0.020266, -0.020266, -0.020266, -0.020266, -0.020266, -0.020266, -0.020266, -0.020266, -0.020266, -0.020266, -0.020266, -0.020266, -0.020266, -0.020266, -0.020266, -0.020266, -0.016442, -0.016442, -0.016442, -0.016442, -0.016442, -0.016442, -0.016442, -0.016442, -0.016442, -0.016442, -0.016442, -0.016442, -0.016442, -0.016442, -0.016442, -0.016442, -0.016442, -0.016442, -0.016442, -0.016442, -0.016442, -0.016442, -0.016442, -0.016442, 0.040725, 0.040725, 0.040725, 0.040725, 0.040725, 0.040725, 0.040725, 0.040725, 0.040725, 0.040725, 0.040725, 0.040725, 0.040725, 0.040725, 0.040725, 0.040725, 0.040725, 0.040725, 0.040725, 0.040725, 0.040725, 0.040725, 0.040725, 0.040725, -0.0421550991900347, -0.0421550991900347, -0.0421550991900347, -0.0421550991900347, -0.0421550991900347, -0.0421550991900347, -0.0421550991900347, -0.0421550991900347, -0.0421550991900347, -0.0421550991900347, -0.0421550991900347, -0.0421550991900347, -0.0421550991900347, -0.0421550991900347, -0.0421550991900347, -0.0421550991900347, -0.0421550991900347, -0.0421550991900347, -0.0421550991900347, -0.0421550991900347, -0.0421550991900347, -0.0421550991900347, -0.0421550991900347, -0.0421550991900347, -0.270633, -0.270633, -0.270633, -0.270633, -0.270633, -0.270633, -0.270633, -0.270633, -0.270633, -0.270633, -0.270633, -0.270633, -0.270633, -0.270633, -0.270633, -0.270633, -0.270633, -0.270633, -0.270633, -0.270633, -0.270633, -0.270633, -0.270633, -0.270633, -0.12584800000000002, -0.12584800000000002, -0.12584800000000002, -0.12584800000000002, -0.12584800000000002, -0.12584800000000002, -0.12584800000000002, -0.12584800000000002, -0.12584800000000002, -0.12584800000000002, -0.12584800000000002, -0.12584800000000002, -0.12584800000000002, -0.12584800000000002, -0.12584800000000002, -0.12584800000000002, -0.12584800000000002, -0.12584800000000002, -0.12584800000000002, -0.12584800000000002, -0.12584800000000002, -0.12584800000000002, -0.12584800000000002, -0.12584800000000002, 0.158914493927518, 0.158914493927518, 0.158914493927518, 0.158914493927518, 0.158914493927518, 0.158914493927518, 0.158914493927518, 0.158914493927518, 0.158914493927518, 0.158914493927518, 0.158914493927518, 0.158914493927518, 0.158914493927518, 0.158914493927518, 0.158914493927518, 0.158914493927518, 0.158914493927518, 0.158914493927518, 0.158914493927518, 0.158914493927518, 0.158914493927518, 0.158914493927518, 0.158914493927518, 0.158914493927518, 0.158914493927518, 0.158914493927518, 0.158914493927518, 0.158914493927518, 0.158914493927518, 0.158914493927518, 0.158914493927518, 0.158914493927518, 0.158914493927518, 0.158914493927518, 0.158914493927518, 0.158914493927518, 0.158914493927518, 0.158914493927518, 0.158914493927518, 0.158914493927518, 0.158914493927518, 0.158914493927518, 0.158914493927518, 0.158914493927518, 0.158914493927518, 0.158914493927518, 0.158914493927518, 0.158914493927518, 0.158914493927518, 0.158914493927518, 0.158914493927518, 0.158914493927518, 0.158914493927518, 0.158914493927518, 0.158914493927518, 0.158914493927518, 0.158914493927518, 0.158914493927518, 0.158914493927518, 0.158914493927518, 0.158914493927518, 0.158914493927518, 0.158914493927518, 0.158914493927518, 0.158914493927518, 0.158914493927518, 0.158914493927518, 0.158914493927518, 0.158914493927518, 0.158914493927518, 0.158914493927518, 0.158914493927518, 0.158914493927518, 0.158914493927518, 0.158914493927518, 0.158914493927518, 0.158914493927518, 0.158914493927518, 0.158914493927518, 0.158914493927518, 0.158914493927518, 0.158914493927518, 0.158914493927518, 0.158914493927518, 0.158914493927518, 0.158914493927518, 0.158914493927518, 0.158914493927518, 0.158914493927518, 0.158914493927518, 0.158914493927518, 0.158914493927518, 0.158914493927518, 0.158914493927518, 0.158914493927518, 0.158914493927518, -0.284383, -0.284383, -0.284383, -0.284383, -0.284383, -0.284383, -0.284383, -0.284383, -0.284383, -0.284383, -0.284383, -0.284383, -0.284383, -0.284383, -0.284383, -0.284383, -0.284383, -0.284383, -0.284383, -0.284383, -0.284383, -0.284383, -0.284383, -0.284383, -0.28125900000000004, -0.28125900000000004, -0.28125900000000004, -0.28125900000000004, -0.28125900000000004, -0.28125900000000004, -0.28125900000000004, -0.28125900000000004, -0.28125900000000004, -0.28125900000000004, -0.28125900000000004, -0.28125900000000004, -0.28125900000000004, -0.28125900000000004, -0.28125900000000004, -0.28125900000000004, -0.28125900000000004, -0.28125900000000004, -0.28125900000000004, -0.28125900000000004, -0.28125900000000004, -0.28125900000000004, -0.28125900000000004, -0.28125900000000004, -0.14990599999999998, -0.14990599999999998, -0.14990599999999998, -0.14990599999999998, -0.14990599999999998, -0.14990599999999998, -0.14990599999999998, -0.14990599999999998, -0.14990599999999998, -0.14990599999999998, -0.14990599999999998, -0.14990599999999998, -0.14990599999999998, -0.14990599999999998, -0.14990599999999998, -0.14990599999999998, -0.14990599999999998, -0.14990599999999998, -0.14990599999999998, -0.14990599999999998, -0.14990599999999998, -0.14990599999999998, -0.14990599999999998, -0.14990599999999998, 0.179079, 0.179079, 0.179079, 0.179079, 0.179079, 0.179079, 0.179079, 0.179079, 0.179079, 0.179079, 0.179079, 0.179079, 0.179079, 0.179079, 0.179079, 0.179079, 0.179079, 0.179079, 0.179079, 0.179079, 0.179079, 0.179079, 0.179079, 0.179079, -0.012977, -0.012977, -0.012977, -0.012977, -0.012977, -0.012977, -0.012977, -0.012977, -0.012977, -0.012977, -0.012977, -0.012977, -0.012977, -0.012977, -0.012977, -0.012977, -0.012977, -0.012977, -0.012977, -0.012977, -0.012977, -0.012977, -0.012977, -0.012977, -0.427525, -0.427525, -0.427525, -0.427525, -0.427525, -0.427525, -0.427525, -0.427525, -0.427525, -0.427525, -0.427525, -0.427525, -0.427525, -0.427525, -0.427525, -0.427525, -0.427525, -0.427525, -0.427525, -0.427525, -0.427525, -0.427525, -0.427525, -0.427525, 0.0829074748964946, 0.0829074748964946, 0.0829074748964946, 0.0829074748964946, 0.0829074748964946, 0.0829074748964946, 0.0829074748964946, 0.0829074748964946, 0.0829074748964946, 0.0829074748964946, 0.0829074748964946, 0.0829074748964946, 0.0829074748964946, 0.0829074748964946, 0.0829074748964946, 0.0829074748964946, 0.0829074748964946, 0.0829074748964946, 0.0829074748964946, 0.0829074748964946, 0.0829074748964946, 0.0829074748964946, 0.0829074748964946, 0.0829074748964946, -0.460826, -0.460826, -0.460826, -0.460826, -0.460826, -0.460826, -0.460826, -0.460826, -0.460826, -0.460826, -0.460826, -0.460826, -0.460826, -0.460826, -0.460826, -0.460826, -0.460826, -0.460826, -0.460826, -0.460826, -0.460826, -0.460826, -0.460826, -0.460826, -0.10451562633787599, -0.10451562633787599, -0.10451562633787599, -0.10451562633787599, -0.10451562633787599, -0.10451562633787599, -0.10451562633787599, -0.10451562633787599, -0.10451562633787599, -0.10451562633787599, -0.10451562633787599, -0.10451562633787599, -0.10451562633787599, -0.10451562633787599, -0.10451562633787599, -0.10451562633787599, -0.10451562633787599, -0.10451562633787599, -0.10451562633787599, -0.10451562633787599, -0.10451562633787599, -0.10451562633787599, -0.10451562633787599, -0.10451562633787599, -0.02200720557, -0.02200720557, -0.02200720557, -0.02200720557, -0.02200720557, -0.02200720557, -0.02200720557, -0.02200720557, -0.02200720557, -0.02200720557, -0.02200720557, -0.02200720557, -0.02200720557, -0.02200720557, -0.02200720557, -0.02200720557, -0.02200720557, -0.02200720557, -0.02200720557, -0.02200720557, -0.02200720557, -0.02200720557, -0.02200720557, -0.02200720557, -0.033306999999999996, -0.033306999999999996, -0.033306999999999996, -0.033306999999999996, -0.033306999999999996, -0.033306999999999996, -0.033306999999999996, -0.033306999999999996, -0.033306999999999996, -0.033306999999999996, -0.033306999999999996, -0.033306999999999996, -0.033306999999999996, -0.033306999999999996, -0.033306999999999996, -0.033306999999999996, -0.033306999999999996, -0.033306999999999996, -0.033306999999999996, -0.033306999999999996, -0.033306999999999996, -0.033306999999999996, -0.033306999999999996, -0.033306999999999996, -0.479444, -0.479444, -0.479444, -0.479444, -0.479444, -0.479444, -0.479444, -0.479444, -0.479444, -0.479444, -0.479444, -0.479444, -0.479444, -0.479444, -0.479444, -0.479444, -0.479444, -0.479444, -0.479444, -0.479444, -0.479444, -0.479444, -0.479444, -0.479444, -0.08491, -0.08491, -0.08491, -0.08491, -0.08491, -0.08491, -0.08491, -0.08491, -0.08491, -0.08491, -0.08491, -0.08491, -0.08491, -0.08491, -0.08491, -0.08491, -0.08491, -0.08491, -0.08491, -0.08491, -0.08491, -0.08491, -0.08491, -0.08491, -0.258089, -0.258089, -0.258089, -0.258089, -0.258089, -0.258089, -0.258089, -0.258089, -0.258089, -0.258089, -0.258089, -0.258089, -0.258089, -0.258089, -0.258089, -0.258089, -0.258089, -0.258089, -0.258089, -0.258089, -0.258089, -0.258089, -0.258089, -0.258089, -0.41189499999999996, -0.41189499999999996, -0.41189499999999996, -0.41189499999999996, -0.41189499999999996, -0.41189499999999996, -0.41189499999999996, -0.41189499999999996, -0.41189499999999996, -0.41189499999999996, -0.41189499999999996, -0.41189499999999996, -0.41189499999999996, -0.41189499999999996, -0.41189499999999996, -0.41189499999999996, -0.41189499999999996, -0.41189499999999996, -0.41189499999999996, -0.41189499999999996, -0.41189499999999996, -0.41189499999999996, -0.41189499999999996, -0.41189499999999996, 0.20546070569404398, 0.20546070569404398, 0.20546070569404398, 0.20546070569404398, 0.20546070569404398, 0.20546070569404398, 0.20546070569404398, 0.20546070569404398, 0.20546070569404398, 0.20546070569404398, 0.20546070569404398, 0.20546070569404398, 0.20546070569404398, 0.20546070569404398, 0.20546070569404398, 0.20546070569404398, 0.20546070569404398, 0.20546070569404398, 0.20546070569404398, 0.20546070569404398, 0.20546070569404398, 0.20546070569404398, 0.20546070569404398, 0.20546070569404398, -0.12454523481921302, -0.12454523481921302, -0.12454523481921302, -0.12454523481921302, -0.12454523481921302, -0.12454523481921302, -0.12454523481921302, -0.12454523481921302, -0.12454523481921302, -0.12454523481921302, -0.12454523481921302, -0.12454523481921302, -0.12454523481921302, -0.12454523481921302, -0.12454523481921302, -0.12454523481921302, -0.12454523481921302, -0.12454523481921302, -0.12454523481921302, -0.12454523481921302, -0.12454523481921302, -0.12454523481921302, -0.12454523481921302, -0.12454523481921302, -0.0374153592115306, -0.0374153592115306, -0.0374153592115306, -0.0374153592115306, -0.0374153592115306, -0.0374153592115306, -0.0374153592115306, -0.0374153592115306, -0.0374153592115306, -0.0374153592115306, -0.0374153592115306, -0.0374153592115306, -0.0374153592115306, -0.0374153592115306, -0.0374153592115306, -0.0374153592115306, -0.0374153592115306, -0.0374153592115306, -0.0374153592115306, -0.0374153592115306, -0.0374153592115306, -0.0374153592115306, -0.0374153592115306, -0.0374153592115306, -0.1364178614733, -0.1364178614733, -0.1364178614733, -0.1364178614733, -0.1364178614733, -0.1364178614733, -0.1364178614733, -0.1364178614733, -0.1364178614733, -0.1364178614733, -0.1364178614733, -0.1364178614733, -0.1364178614733, -0.1364178614733, -0.1364178614733, -0.1364178614733, -0.1364178614733, -0.1364178614733, -0.1364178614733, -0.1364178614733, -0.1364178614733, -0.1364178614733, -0.1364178614733, -0.1364178614733, 0.132857, 0.132857, 0.132857, 0.132857, 0.132857, 0.132857, 0.132857, 0.132857, 0.132857, 0.132857, 0.132857, 0.132857, 0.132857, 0.132857, 0.132857, 0.132857, 0.132857, 0.132857, 0.132857, 0.132857, 0.132857, 0.132857, 0.132857, 0.132857, -0.36476, -0.36476, -0.36476, -0.36476, -0.36476, -0.36476, -0.36476, -0.36476, -0.36476, -0.36476, -0.36476, -0.36476, -0.36476, -0.36476, -0.36476, -0.36476, -0.36476, -0.36476, -0.36476, -0.36476, -0.36476, -0.36476, -0.36476, -0.36476, -0.24877399999999997, -0.24877399999999997, -0.24877399999999997, -0.24877399999999997, -0.24877399999999997, -0.24877399999999997, -0.24877399999999997, -0.24877399999999997, -0.24877399999999997, -0.24877399999999997, -0.24877399999999997, -0.24877399999999997, -0.24877399999999997, -0.24877399999999997, -0.24877399999999997, -0.24877399999999997, -0.24877399999999997, -0.24877399999999997, -0.24877399999999997, -0.24877399999999997, -0.24877399999999997, -0.24877399999999997, -0.24877399999999997, -0.24877399999999997, -0.11671310352854598, -0.11671310352854598, -0.11671310352854598, -0.11671310352854598, -0.11671310352854598, -0.11671310352854598, -0.11671310352854598, -0.11671310352854598, -0.11671310352854598, -0.11671310352854598, -0.11671310352854598, -0.11671310352854598, -0.11671310352854598, -0.11671310352854598, -0.11671310352854598, -0.11671310352854598, -0.11671310352854598, -0.11671310352854598, -0.11671310352854598, -0.11671310352854598, -0.11671310352854598, -0.11671310352854598, -0.11671310352854598, -0.11671310352854598, -0.44055600000000006, -0.44055600000000006, -0.44055600000000006, -0.44055600000000006, -0.44055600000000006, -0.44055600000000006, -0.44055600000000006, -0.44055600000000006, -0.44055600000000006, -0.44055600000000006, -0.44055600000000006, -0.44055600000000006, -0.44055600000000006, -0.44055600000000006, -0.44055600000000006, -0.44055600000000006, -0.44055600000000006, -0.44055600000000006, -0.44055600000000006, -0.44055600000000006, -0.44055600000000006, -0.44055600000000006, -0.44055600000000006, -0.44055600000000006, 0.17789100000000002, 0.17789100000000002, 0.17789100000000002, 0.17789100000000002, 0.17789100000000002, 0.17789100000000002, 0.17789100000000002, 0.17789100000000002, 0.17789100000000002, 0.17789100000000002, 0.17789100000000002, 0.17789100000000002, 0.17789100000000002, 0.17789100000000002, 0.17789100000000002, 0.17789100000000002, 0.17789100000000002, 0.17789100000000002, 0.17789100000000002, 0.17789100000000002, 0.17789100000000002, 0.17789100000000002, 0.17789100000000002, 0.17789100000000002, -0.25466810162037196, -0.25466810162037196, -0.25466810162037196, -0.25466810162037196, -0.25466810162037196, -0.25466810162037196, -0.25466810162037196, -0.25466810162037196, -0.25466810162037196, -0.25466810162037196, -0.25466810162037196, -0.25466810162037196, -0.25466810162037196, -0.25466810162037196, -0.25466810162037196, -0.25466810162037196, -0.25466810162037196, -0.25466810162037196, -0.25466810162037196, -0.25466810162037196, -0.25466810162037196, -0.25466810162037196, -0.25466810162037196, -0.25466810162037196, -0.31750500000000004, -0.31750500000000004, -0.31750500000000004, -0.31750500000000004, -0.31750500000000004, -0.31750500000000004, -0.31750500000000004, -0.31750500000000004, -0.31750500000000004, -0.31750500000000004, -0.31750500000000004, -0.31750500000000004, -0.31750500000000004, -0.31750500000000004, -0.31750500000000004, -0.31750500000000004, -0.31750500000000004, -0.31750500000000004, -0.31750500000000004, -0.31750500000000004, -0.31750500000000004, -0.31750500000000004, -0.31750500000000004, -0.31750500000000004, -0.191074, -0.191074, -0.191074, -0.191074, -0.191074, -0.191074, -0.191074, -0.191074, -0.191074, -0.191074, -0.191074, -0.191074, -0.191074, -0.191074, -0.191074, -0.191074, -0.191074, -0.191074, -0.191074, -0.191074, -0.191074, -0.191074, -0.191074, -0.191074, -0.44162700000000005, -0.44162700000000005, -0.44162700000000005, -0.44162700000000005, -0.44162700000000005, -0.44162700000000005, -0.44162700000000005, -0.44162700000000005, -0.44162700000000005, -0.44162700000000005, -0.44162700000000005, -0.44162700000000005, -0.44162700000000005, -0.44162700000000005, -0.44162700000000005, -0.44162700000000005, -0.44162700000000005, -0.44162700000000005, -0.44162700000000005, -0.44162700000000005, -0.44162700000000005, -0.44162700000000005, -0.44162700000000005, -0.44162700000000005, -0.16671348599480598, -0.16671348599480598, -0.16671348599480598, -0.16671348599480598, -0.16671348599480598, -0.16671348599480598, -0.16671348599480598, -0.16671348599480598, -0.16671348599480598, -0.16671348599480598, -0.16671348599480598, -0.16671348599480598, -0.16671348599480598, -0.16671348599480598, -0.16671348599480598, -0.16671348599480598, -0.16671348599480598, -0.16671348599480598, -0.16671348599480598, -0.16671348599480598, -0.16671348599480598, -0.16671348599480598, -0.16671348599480598, -0.16671348599480598, -0.12311, -0.12311, -0.12311, -0.12311, -0.12311, -0.12311, -0.12311, -0.12311, -0.12311, -0.12311, -0.12311, -0.12311, -0.12311, -0.12311, -0.12311, -0.12311, -0.12311, -0.12311, -0.12311, -0.12311, -0.12311, -0.12311, -0.12311, -0.12311, -0.0252372551577627, -0.0252372551577627, -0.0252372551577627, -0.0252372551577627, -0.0252372551577627, -0.0252372551577627, -0.0252372551577627, -0.0252372551577627, -0.0252372551577627, -0.0252372551577627, -0.0252372551577627, -0.0252372551577627, -0.0252372551577627, -0.0252372551577627, -0.0252372551577627, -0.0252372551577627, -0.0252372551577627, -0.0252372551577627, -0.0252372551577627, -0.0252372551577627, -0.0252372551577627, -0.0252372551577627, -0.0252372551577627, -0.0252372551577627, -0.15459, -0.15459, -0.15459, -0.15459, -0.15459, -0.15459, -0.15459, -0.15459, -0.15459, -0.15459, -0.15459, -0.15459, -0.15459, -0.15459, -0.15459, -0.15459, -0.15459, -0.15459, -0.15459, -0.15459, -0.15459, -0.15459, -0.15459, -0.15459, -0.15459, -0.15459, -0.15459, -0.15459, -0.15459, -0.15459, -0.15459, -0.15459, -0.15459, -0.15459, -0.15459, -0.15459, -0.15459, -0.15459, -0.15459, -0.15459, -0.15459, -0.15459, -0.15459, -0.15459, -0.15459, -0.15459, -0.15459, -0.15459, -0.15459, -0.15459, -0.15459, -0.15459, -0.15459, -0.15459, -0.15459, -0.15459, -0.15459, -0.15459, -0.15459, -0.15459, -0.15459, -0.15459, -0.15459, -0.15459, -0.15459, -0.15459, -0.15459, -0.15459, -0.15459, -0.15459, -0.15459, -0.15459, -0.15459, -0.15459, -0.15459, -0.15459, -0.15459, -0.15459, -0.15459, -0.15459, -0.15459, -0.15459, -0.15459, -0.15459, -0.15459, -0.15459, -0.15459, -0.15459, -0.15459, -0.15459, -0.15459, -0.15459, -0.15459, -0.15459, -0.15459, -0.15459, 0.014554, 0.014554, 0.014554, 0.014554, 0.014554, 0.014554, 0.014554, 0.014554, 0.014554, 0.014554, 0.014554, 0.014554, 0.014554, 0.014554, 0.014554, 0.014554, 0.014554, 0.014554, 0.014554, 0.014554, 0.014554, 0.014554, 0.014554, 0.014554, -0.0961060474176381, -0.0961060474176381, -0.0961060474176381, -0.0961060474176381, -0.0961060474176381, -0.0961060474176381, -0.0961060474176381, -0.0961060474176381, -0.0961060474176381, -0.0961060474176381, -0.0961060474176381, -0.0961060474176381, -0.0961060474176381, -0.0961060474176381, -0.0961060474176381, -0.0961060474176381, -0.0961060474176381, -0.0961060474176381, -0.0961060474176381, -0.0961060474176381, -0.0961060474176381, -0.0961060474176381, -0.0961060474176381, -0.0961060474176381, -0.11458102695123, -0.11458102695123, -0.11458102695123, -0.11458102695123, -0.11458102695123, -0.11458102695123, -0.11458102695123, -0.11458102695123, -0.11458102695123, -0.11458102695123, -0.11458102695123, -0.11458102695123, -0.11458102695123, -0.11458102695123, -0.11458102695123, -0.11458102695123, -0.11458102695123, -0.11458102695123, -0.11458102695123, -0.11458102695123, -0.11458102695123, -0.11458102695123, -0.11458102695123, -0.11458102695123, 0.017901, 0.017901, 0.017901, 0.017901, 0.017901, 0.017901, 0.017901, 0.017901, 0.017901, 0.017901, 0.017901, 0.017901, 0.017901, 0.017901, 0.017901, 0.017901, 0.017901, 0.017901, 0.017901, 0.017901, 0.017901, 0.017901, 0.017901, 0.017901, -0.412333, -0.412333, -0.412333, -0.412333, -0.412333, -0.412333, -0.412333, -0.412333, -0.412333, -0.412333, -0.412333, -0.412333, -0.412333, -0.412333, -0.412333, -0.412333, -0.412333, -0.412333, -0.412333, -0.412333, -0.412333, -0.412333, -0.412333, -0.412333, -0.45569499999999996, -0.45569499999999996, -0.45569499999999996, -0.45569499999999996, -0.45569499999999996, -0.45569499999999996, -0.45569499999999996, -0.45569499999999996, -0.45569499999999996, -0.45569499999999996, -0.45569499999999996, -0.45569499999999996, -0.45569499999999996, -0.45569499999999996, -0.45569499999999996, -0.45569499999999996, -0.45569499999999996, -0.45569499999999996, -0.45569499999999996, -0.45569499999999996, -0.45569499999999996, -0.45569499999999996, -0.45569499999999996, -0.45569499999999996, -0.257029893767993, -0.257029893767993, -0.257029893767993, -0.257029893767993, -0.257029893767993, -0.257029893767993, -0.257029893767993, -0.257029893767993, -0.257029893767993, -0.257029893767993, -0.257029893767993, -0.257029893767993, -0.257029893767993, -0.257029893767993, -0.257029893767993, -0.257029893767993, -0.257029893767993, -0.257029893767993, -0.257029893767993, -0.257029893767993, -0.257029893767993, -0.257029893767993, -0.257029893767993, -0.257029893767993, -0.265617, -0.265617, -0.265617, -0.265617, -0.265617, -0.265617, -0.265617, -0.265617, -0.265617, -0.265617, -0.265617, -0.265617, -0.265617, -0.265617, -0.265617, -0.265617, -0.265617, -0.265617, -0.265617, -0.265617, -0.265617, -0.265617, -0.265617, -0.265617, -0.21771890863937698, -0.21771890863937698, -0.21771890863937698, -0.21771890863937698, -0.21771890863937698, -0.21771890863937698, -0.21771890863937698, -0.21771890863937698, -0.21771890863937698, -0.21771890863937698, -0.21771890863937698, -0.21771890863937698, -0.21771890863937698, -0.21771890863937698, -0.21771890863937698, -0.21771890863937698, -0.21771890863937698, -0.21771890863937698, -0.21771890863937698, -0.21771890863937698, -0.21771890863937698, -0.21771890863937698, -0.21771890863937698, -0.21771890863937698, -0.141786953606306, -0.141786953606306, -0.141786953606306, -0.141786953606306, -0.141786953606306, -0.141786953606306, -0.141786953606306, -0.141786953606306, -0.141786953606306, -0.141786953606306, -0.141786953606306, -0.141786953606306, -0.141786953606306, -0.141786953606306, -0.141786953606306, -0.141786953606306, -0.141786953606306, -0.141786953606306, -0.141786953606306, -0.141786953606306, -0.141786953606306, -0.141786953606306, -0.141786953606306, -0.141786953606306, -0.147391757027028, -0.147391757027028, -0.147391757027028, -0.147391757027028, -0.147391757027028, -0.147391757027028, -0.147391757027028, -0.147391757027028, -0.147391757027028, -0.147391757027028, -0.147391757027028, -0.147391757027028, -0.147391757027028, -0.147391757027028, -0.147391757027028, -0.147391757027028, -0.147391757027028, -0.147391757027028, -0.147391757027028, -0.147391757027028, -0.147391757027028, -0.147391757027028, -0.147391757027028, -0.147391757027028, -0.0782034373606952, -0.0782034373606952, -0.0782034373606952, -0.0782034373606952, -0.0782034373606952, -0.0782034373606952, -0.0782034373606952, -0.0782034373606952, -0.0782034373606952, -0.0782034373606952, -0.0782034373606952, -0.0782034373606952, -0.0782034373606952, -0.0782034373606952, -0.0782034373606952, -0.0782034373606952, -0.0782034373606952, -0.0782034373606952, -0.0782034373606952, -0.0782034373606952, -0.0782034373606952, -0.0782034373606952, -0.0782034373606952, -0.0782034373606952, -0.257252, -0.257252, -0.257252, -0.257252, -0.257252, -0.257252, -0.257252, -0.257252, -0.257252, -0.257252, -0.257252, -0.257252, -0.257252, -0.257252, -0.257252, -0.257252, -0.257252, -0.257252, -0.257252, -0.257252, -0.257252, -0.257252, -0.257252, -0.257252, -0.12959400000000001, -0.12959400000000001, -0.12959400000000001, -0.12959400000000001, -0.12959400000000001, -0.12959400000000001, -0.12959400000000001, -0.12959400000000001, -0.12959400000000001, -0.12959400000000001, -0.12959400000000001, -0.12959400000000001, -0.12959400000000001, -0.12959400000000001, -0.12959400000000001, -0.12959400000000001, -0.12959400000000001, -0.12959400000000001, -0.12959400000000001, -0.12959400000000001, -0.12959400000000001, -0.12959400000000001, -0.12959400000000001, -0.12959400000000001, 0.08560599999999999, 0.08560599999999999, 0.08560599999999999, 0.08560599999999999, 0.08560599999999999, 0.08560599999999999, 0.08560599999999999, 0.08560599999999999, 0.08560599999999999, 0.08560599999999999, 0.08560599999999999, 0.08560599999999999, 0.08560599999999999, 0.08560599999999999, 0.08560599999999999, 0.08560599999999999, 0.08560599999999999, 0.08560599999999999, 0.08560599999999999, 0.08560599999999999, 0.08560599999999999, 0.08560599999999999, 0.08560599999999999, 0.08560599999999999, 0.08560599999999999, 0.08560599999999999, 0.08560599999999999, 0.08560599999999999, 0.08560599999999999, 0.08560599999999999, 0.08560599999999999, 0.08560599999999999, 0.08560599999999999, 0.08560599999999999, 0.08560599999999999, 0.08560599999999999, 0.08560599999999999, 0.08560599999999999, 0.08560599999999999, 0.08560599999999999, 0.08560599999999999, 0.08560599999999999, 0.08560599999999999, 0.08560599999999999, 0.08560599999999999, 0.08560599999999999, 0.08560599999999999, 0.08560599999999999, 0.08560599999999999, 0.08560599999999999, 0.08560599999999999, 0.08560599999999999, 0.08560599999999999, 0.08560599999999999, 0.08560599999999999, 0.08560599999999999, 0.08560599999999999, 0.08560599999999999, 0.08560599999999999, 0.08560599999999999, 0.08560599999999999, 0.08560599999999999, 0.08560599999999999, 0.08560599999999999, 0.08560599999999999, 0.08560599999999999, 0.08560599999999999, 0.08560599999999999, 0.08560599999999999, 0.08560599999999999, 0.08560599999999999, 0.08560599999999999, 0.08560599999999999, 0.08560599999999999, 0.08560599999999999, 0.08560599999999999, 0.08560599999999999, 0.08560599999999999, 0.08560599999999999, 0.08560599999999999, 0.08560599999999999, 0.08560599999999999, 0.08560599999999999, 0.08560599999999999, 0.08560599999999999, 0.08560599999999999, 0.08560599999999999, 0.08560599999999999, 0.08560599999999999, 0.08560599999999999, 0.08560599999999999, 0.08560599999999999, 0.08560599999999999, 0.08560599999999999, 0.08560599999999999, 0.08560599999999999, -0.164338, -0.164338, -0.164338, -0.164338, -0.164338, -0.164338, -0.164338, -0.164338, -0.164338, -0.164338, -0.164338, -0.164338, -0.164338, -0.164338, -0.164338, -0.164338, -0.164338, -0.164338, -0.164338, -0.164338, -0.164338, -0.164338, -0.164338, -0.164338, 0.184877126994369, 0.184877126994369, 0.184877126994369, 0.184877126994369, 0.184877126994369, 0.184877126994369, 0.184877126994369, 0.184877126994369, 0.184877126994369, 0.184877126994369, 0.184877126994369, 0.184877126994369, 0.184877126994369, 0.184877126994369, 0.184877126994369, 0.184877126994369, 0.184877126994369, 0.184877126994369, 0.184877126994369, 0.184877126994369, 0.184877126994369, 0.184877126994369, 0.184877126994369, 0.184877126994369, 0.184877126994369, 0.184877126994369, 0.184877126994369, 0.184877126994369, 0.184877126994369, 0.184877126994369, 0.184877126994369, 0.184877126994369, 0.184877126994369, 0.184877126994369, 0.184877126994369, 0.184877126994369, 0.184877126994369, 0.184877126994369, 0.184877126994369, 0.184877126994369, 0.184877126994369, 0.184877126994369, 0.184877126994369, 0.184877126994369, 0.184877126994369, 0.184877126994369, 0.184877126994369, 0.184877126994369, 0.184877126994369, 0.184877126994369, 0.184877126994369, 0.184877126994369, 0.184877126994369, 0.184877126994369, 0.184877126994369, 0.184877126994369, 0.184877126994369, 0.184877126994369, 0.184877126994369, 0.184877126994369, 0.184877126994369, 0.184877126994369, 0.184877126994369, 0.184877126994369, 0.184877126994369, 0.184877126994369, 0.184877126994369, 0.184877126994369, 0.184877126994369, 0.184877126994369, 0.184877126994369, 0.184877126994369, 0.184877126994369, 0.184877126994369, 0.184877126994369, 0.184877126994369, 0.184877126994369, 0.184877126994369, 0.184877126994369, 0.184877126994369, 0.184877126994369, 0.184877126994369, 0.184877126994369, 0.184877126994369, 0.184877126994369, 0.184877126994369, 0.184877126994369, 0.184877126994369, 0.184877126994369, 0.184877126994369, 0.184877126994369, 0.184877126994369, 0.184877126994369, 0.184877126994369, 0.184877126994369, 0.184877126994369, -0.237335, -0.237335, -0.237335, -0.237335, -0.237335, -0.237335, -0.237335, -0.237335, -0.237335, -0.237335, -0.237335, -0.237335, -0.237335, -0.237335, -0.237335, -0.237335, -0.237335, -0.237335, -0.237335, -0.237335, -0.237335, -0.237335, -0.237335, -0.237335, -0.166524, -0.166524, -0.166524, -0.166524, -0.166524, -0.166524, -0.166524, -0.166524, -0.166524, -0.166524, -0.166524, -0.166524, -0.166524, -0.166524, -0.166524, -0.166524, -0.166524, -0.166524, -0.166524, -0.166524, -0.166524, -0.166524, -0.166524, -0.166524, 0.0707291040798463, 0.0707291040798463, 0.0707291040798463, 0.0707291040798463, 0.0707291040798463, 0.0707291040798463, 0.0707291040798463, 0.0707291040798463, 0.0707291040798463, 0.0707291040798463, 0.0707291040798463, 0.0707291040798463, 0.0707291040798463, 0.0707291040798463, 0.0707291040798463, 0.0707291040798463, 0.0707291040798463, 0.0707291040798463, 0.0707291040798463, 0.0707291040798463, 0.0707291040798463, 0.0707291040798463, 0.0707291040798463, 0.0707291040798463, -0.205992, -0.205992, -0.205992, -0.205992, -0.205992, -0.205992, -0.205992, -0.205992, -0.205992, -0.205992, -0.205992, -0.205992, -0.205992, -0.205992, -0.205992, -0.205992, -0.205992, -0.205992, -0.205992, -0.205992, -0.205992, -0.205992, -0.205992, -0.205992, -0.21582458094757198, -0.21582458094757198, -0.21582458094757198, -0.21582458094757198, -0.21582458094757198, -0.21582458094757198, -0.21582458094757198, -0.21582458094757198, -0.21582458094757198, -0.21582458094757198, -0.21582458094757198, -0.21582458094757198, -0.21582458094757198, -0.21582458094757198, -0.21582458094757198, -0.21582458094757198, -0.21582458094757198, -0.21582458094757198, -0.21582458094757198, -0.21582458094757198, -0.21582458094757198, -0.21582458094757198, -0.21582458094757198, -0.21582458094757198, -0.125338, -0.125338, -0.125338, -0.125338, -0.125338, -0.125338, -0.125338, -0.125338, -0.125338, -0.125338, -0.125338, -0.125338, -0.125338, -0.125338, -0.125338, -0.125338, -0.125338, -0.125338, -0.125338, -0.125338, -0.125338, -0.125338, -0.125338, -0.125338, -0.224787, -0.224787, -0.224787, -0.224787, -0.224787, -0.224787, -0.224787, -0.224787, -0.224787, -0.224787, -0.224787, -0.224787, -0.224787, -0.224787, -0.224787, -0.224787, -0.224787, -0.224787, -0.224787, -0.224787, -0.224787, -0.224787, -0.224787, -0.224787, -0.125400278484885, -0.125400278484885, -0.125400278484885, -0.125400278484885, -0.125400278484885, -0.125400278484885, -0.125400278484885, -0.125400278484885, -0.125400278484885, -0.125400278484885, -0.125400278484885, -0.125400278484885, -0.125400278484885, -0.125400278484885, -0.125400278484885, -0.125400278484885, -0.125400278484885, -0.125400278484885, -0.125400278484885, -0.125400278484885, -0.125400278484885, -0.125400278484885, -0.125400278484885, -0.125400278484885, 0.0107796237032558, 0.0107796237032558, 0.0107796237032558, 0.0107796237032558, 0.0107796237032558, 0.0107796237032558, 0.0107796237032558, 0.0107796237032558, 0.0107796237032558, 0.0107796237032558, 0.0107796237032558, 0.0107796237032558, 0.0107796237032558, 0.0107796237032558, 0.0107796237032558, 0.0107796237032558, 0.0107796237032558, 0.0107796237032558, 0.0107796237032558, 0.0107796237032558, 0.0107796237032558, 0.0107796237032558, 0.0107796237032558, 0.0107796237032558, 0.070766, 0.070766, 0.070766, 0.070766, 0.070766, 0.070766, 0.070766, 0.070766, 0.070766, 0.070766, 0.070766, 0.070766, 0.070766, 0.070766, 0.070766, 0.070766, 0.070766, 0.070766, 0.070766, 0.070766, 0.070766, 0.070766, 0.070766, 0.070766, -0.14166152477989302, -0.14166152477989302, -0.14166152477989302, -0.14166152477989302, -0.14166152477989302, -0.14166152477989302, -0.14166152477989302, -0.14166152477989302, -0.14166152477989302, -0.14166152477989302, -0.14166152477989302, -0.14166152477989302, -0.14166152477989302, -0.14166152477989302, -0.14166152477989302, -0.14166152477989302, -0.14166152477989302, -0.14166152477989302, -0.14166152477989302, -0.14166152477989302, -0.14166152477989302, -0.14166152477989302, -0.14166152477989302, -0.14166152477989302, -0.152792701881935, -0.152792701881935, -0.152792701881935, -0.152792701881935, -0.152792701881935, -0.152792701881935, -0.152792701881935, -0.152792701881935, -0.152792701881935, -0.152792701881935, -0.152792701881935, -0.152792701881935, -0.152792701881935, -0.152792701881935, -0.152792701881935, -0.152792701881935, -0.152792701881935, -0.152792701881935, -0.152792701881935, -0.152792701881935, -0.152792701881935, -0.152792701881935, -0.152792701881935, -0.152792701881935, -0.0021379999999999997, -0.0021379999999999997, -0.0021379999999999997, -0.0021379999999999997, -0.0021379999999999997, -0.0021379999999999997, -0.0021379999999999997, -0.0021379999999999997, -0.0021379999999999997, -0.0021379999999999997, -0.0021379999999999997, -0.0021379999999999997, -0.0021379999999999997, -0.0021379999999999997, -0.0021379999999999997, -0.0021379999999999997, -0.0021379999999999997, -0.0021379999999999997, -0.0021379999999999997, -0.0021379999999999997, -0.0021379999999999997, -0.0021379999999999997, -0.0021379999999999997, -0.0021379999999999997, -0.127523, -0.127523, -0.127523, -0.127523, -0.127523, -0.127523, -0.127523, -0.127523, -0.127523, -0.127523, -0.127523, -0.127523, -0.127523, -0.127523, -0.127523, -0.127523, -0.127523, -0.127523, -0.127523, -0.127523, -0.127523, -0.127523, -0.127523, -0.127523, 0.000407396935849736, 0.000407396935849736, 0.000407396935849736, 0.000407396935849736, 0.000407396935849736, 0.000407396935849736, 0.000407396935849736, 0.000407396935849736, 0.000407396935849736, 0.000407396935849736, 0.000407396935849736, 0.000407396935849736, 0.000407396935849736, 0.000407396935849736, 0.000407396935849736, 0.000407396935849736, 0.000407396935849736, 0.000407396935849736, 0.000407396935849736, 0.000407396935849736, 0.000407396935849736, 0.000407396935849736, 0.000407396935849736, 0.000407396935849736], \"mode\": \"markers\", \"type\": \"scattergeo\"}],\n",
       "                        {\"geo\": {\"lataxis\": {\"range\": [51.25, 51.75]}, \"lonaxis\": {\"range\": [-0.5, 0.2], \"showgrid\": true}, \"projection\": {\"scale\": 1}, \"resolution\": 50, \"showrivers\": true}, \"template\": {\"data\": {\"bar\": [{\"error_x\": {\"color\": \"#2a3f5f\"}, \"error_y\": {\"color\": \"#2a3f5f\"}, \"marker\": {\"line\": {\"color\": \"#E5ECF6\", \"width\": 0.5}}, \"type\": \"bar\"}], \"barpolar\": [{\"marker\": {\"line\": {\"color\": \"#E5ECF6\", \"width\": 0.5}}, \"type\": \"barpolar\"}], \"carpet\": [{\"aaxis\": {\"endlinecolor\": \"#2a3f5f\", \"gridcolor\": \"white\", \"linecolor\": \"white\", \"minorgridcolor\": \"white\", \"startlinecolor\": \"#2a3f5f\"}, \"baxis\": {\"endlinecolor\": \"#2a3f5f\", \"gridcolor\": \"white\", \"linecolor\": \"white\", \"minorgridcolor\": \"white\", \"startlinecolor\": \"#2a3f5f\"}, \"type\": \"carpet\"}], \"choropleth\": [{\"colorbar\": {\"outlinewidth\": 0, \"ticks\": \"\"}, \"type\": \"choropleth\"}], \"contour\": [{\"colorbar\": {\"outlinewidth\": 0, \"ticks\": \"\"}, \"colorscale\": [[0.0, \"#0d0887\"], [0.1111111111111111, \"#46039f\"], [0.2222222222222222, \"#7201a8\"], [0.3333333333333333, \"#9c179e\"], [0.4444444444444444, \"#bd3786\"], [0.5555555555555556, \"#d8576b\"], [0.6666666666666666, \"#ed7953\"], [0.7777777777777778, \"#fb9f3a\"], [0.8888888888888888, \"#fdca26\"], [1.0, \"#f0f921\"]], \"type\": \"contour\"}], \"contourcarpet\": [{\"colorbar\": {\"outlinewidth\": 0, \"ticks\": \"\"}, \"type\": \"contourcarpet\"}], \"heatmap\": [{\"colorbar\": {\"outlinewidth\": 0, \"ticks\": \"\"}, \"colorscale\": [[0.0, \"#0d0887\"], [0.1111111111111111, \"#46039f\"], [0.2222222222222222, \"#7201a8\"], [0.3333333333333333, \"#9c179e\"], [0.4444444444444444, \"#bd3786\"], [0.5555555555555556, \"#d8576b\"], [0.6666666666666666, \"#ed7953\"], [0.7777777777777778, \"#fb9f3a\"], [0.8888888888888888, \"#fdca26\"], [1.0, \"#f0f921\"]], \"type\": \"heatmap\"}], \"heatmapgl\": [{\"colorbar\": {\"outlinewidth\": 0, \"ticks\": \"\"}, \"colorscale\": [[0.0, \"#0d0887\"], [0.1111111111111111, \"#46039f\"], [0.2222222222222222, \"#7201a8\"], [0.3333333333333333, \"#9c179e\"], [0.4444444444444444, \"#bd3786\"], [0.5555555555555556, \"#d8576b\"], [0.6666666666666666, \"#ed7953\"], [0.7777777777777778, \"#fb9f3a\"], [0.8888888888888888, \"#fdca26\"], [1.0, \"#f0f921\"]], \"type\": \"heatmapgl\"}], \"histogram\": [{\"marker\": {\"colorbar\": {\"outlinewidth\": 0, \"ticks\": \"\"}}, \"type\": \"histogram\"}], \"histogram2d\": [{\"colorbar\": {\"outlinewidth\": 0, \"ticks\": \"\"}, \"colorscale\": [[0.0, \"#0d0887\"], [0.1111111111111111, \"#46039f\"], [0.2222222222222222, \"#7201a8\"], [0.3333333333333333, \"#9c179e\"], [0.4444444444444444, \"#bd3786\"], [0.5555555555555556, \"#d8576b\"], [0.6666666666666666, \"#ed7953\"], [0.7777777777777778, \"#fb9f3a\"], [0.8888888888888888, \"#fdca26\"], [1.0, \"#f0f921\"]], \"type\": \"histogram2d\"}], \"histogram2dcontour\": [{\"colorbar\": {\"outlinewidth\": 0, \"ticks\": \"\"}, \"colorscale\": [[0.0, \"#0d0887\"], [0.1111111111111111, \"#46039f\"], [0.2222222222222222, \"#7201a8\"], [0.3333333333333333, \"#9c179e\"], [0.4444444444444444, \"#bd3786\"], [0.5555555555555556, \"#d8576b\"], [0.6666666666666666, \"#ed7953\"], [0.7777777777777778, \"#fb9f3a\"], [0.8888888888888888, \"#fdca26\"], [1.0, \"#f0f921\"]], \"type\": \"histogram2dcontour\"}], \"mesh3d\": [{\"colorbar\": {\"outlinewidth\": 0, \"ticks\": \"\"}, \"type\": \"mesh3d\"}], \"parcoords\": [{\"line\": {\"colorbar\": {\"outlinewidth\": 0, \"ticks\": \"\"}}, \"type\": \"parcoords\"}], \"pie\": [{\"automargin\": true, \"type\": \"pie\"}], \"scatter\": [{\"marker\": {\"colorbar\": {\"outlinewidth\": 0, \"ticks\": \"\"}}, \"type\": \"scatter\"}], \"scatter3d\": [{\"line\": {\"colorbar\": {\"outlinewidth\": 0, \"ticks\": \"\"}}, \"marker\": {\"colorbar\": {\"outlinewidth\": 0, \"ticks\": \"\"}}, \"type\": \"scatter3d\"}], \"scattercarpet\": [{\"marker\": {\"colorbar\": {\"outlinewidth\": 0, \"ticks\": \"\"}}, \"type\": \"scattercarpet\"}], \"scattergeo\": [{\"marker\": {\"colorbar\": {\"outlinewidth\": 0, \"ticks\": \"\"}}, \"type\": \"scattergeo\"}], \"scattergl\": [{\"marker\": {\"colorbar\": {\"outlinewidth\": 0, \"ticks\": \"\"}}, \"type\": \"scattergl\"}], \"scattermapbox\": [{\"marker\": {\"colorbar\": {\"outlinewidth\": 0, \"ticks\": \"\"}}, \"type\": \"scattermapbox\"}], \"scatterpolar\": [{\"marker\": {\"colorbar\": {\"outlinewidth\": 0, \"ticks\": \"\"}}, \"type\": \"scatterpolar\"}], \"scatterpolargl\": [{\"marker\": {\"colorbar\": {\"outlinewidth\": 0, \"ticks\": \"\"}}, \"type\": \"scatterpolargl\"}], \"scatterternary\": [{\"marker\": {\"colorbar\": {\"outlinewidth\": 0, \"ticks\": \"\"}}, \"type\": \"scatterternary\"}], \"surface\": [{\"colorbar\": {\"outlinewidth\": 0, \"ticks\": \"\"}, \"colorscale\": [[0.0, \"#0d0887\"], [0.1111111111111111, \"#46039f\"], [0.2222222222222222, \"#7201a8\"], [0.3333333333333333, \"#9c179e\"], [0.4444444444444444, \"#bd3786\"], [0.5555555555555556, \"#d8576b\"], [0.6666666666666666, \"#ed7953\"], [0.7777777777777778, \"#fb9f3a\"], [0.8888888888888888, \"#fdca26\"], [1.0, \"#f0f921\"]], \"type\": \"surface\"}], \"table\": [{\"cells\": {\"fill\": {\"color\": \"#EBF0F8\"}, \"line\": {\"color\": \"white\"}}, \"header\": {\"fill\": {\"color\": \"#C8D4E3\"}, \"line\": {\"color\": \"white\"}}, \"type\": \"table\"}]}, \"layout\": {\"annotationdefaults\": {\"arrowcolor\": \"#2a3f5f\", \"arrowhead\": 0, \"arrowwidth\": 1}, \"coloraxis\": {\"colorbar\": {\"outlinewidth\": 0, \"ticks\": \"\"}}, \"colorscale\": {\"diverging\": [[0, \"#8e0152\"], [0.1, \"#c51b7d\"], [0.2, \"#de77ae\"], [0.3, \"#f1b6da\"], [0.4, \"#fde0ef\"], [0.5, \"#f7f7f7\"], [0.6, \"#e6f5d0\"], [0.7, \"#b8e186\"], [0.8, \"#7fbc41\"], [0.9, \"#4d9221\"], [1, \"#276419\"]], \"sequential\": [[0.0, \"#0d0887\"], [0.1111111111111111, \"#46039f\"], [0.2222222222222222, \"#7201a8\"], [0.3333333333333333, \"#9c179e\"], [0.4444444444444444, \"#bd3786\"], [0.5555555555555556, \"#d8576b\"], [0.6666666666666666, \"#ed7953\"], [0.7777777777777778, \"#fb9f3a\"], [0.8888888888888888, \"#fdca26\"], [1.0, \"#f0f921\"]], \"sequentialminus\": [[0.0, \"#0d0887\"], [0.1111111111111111, \"#46039f\"], [0.2222222222222222, \"#7201a8\"], [0.3333333333333333, \"#9c179e\"], [0.4444444444444444, \"#bd3786\"], [0.5555555555555556, \"#d8576b\"], [0.6666666666666666, \"#ed7953\"], [0.7777777777777778, \"#fb9f3a\"], [0.8888888888888888, \"#fdca26\"], [1.0, \"#f0f921\"]]}, \"colorway\": [\"#636efa\", \"#EF553B\", \"#00cc96\", \"#ab63fa\", \"#FFA15A\", \"#19d3f3\", \"#FF6692\", \"#B6E880\", \"#FF97FF\", \"#FECB52\"], \"font\": {\"color\": \"#2a3f5f\"}, \"geo\": {\"bgcolor\": \"white\", \"lakecolor\": \"white\", \"landcolor\": \"#E5ECF6\", \"showlakes\": true, \"showland\": true, \"subunitcolor\": \"white\"}, \"hoverlabel\": {\"align\": \"left\"}, \"hovermode\": \"closest\", \"mapbox\": {\"style\": \"light\"}, \"paper_bgcolor\": \"white\", \"plot_bgcolor\": \"#E5ECF6\", \"polar\": {\"angularaxis\": {\"gridcolor\": \"white\", \"linecolor\": \"white\", \"ticks\": \"\"}, \"bgcolor\": \"#E5ECF6\", \"radialaxis\": {\"gridcolor\": \"white\", \"linecolor\": \"white\", \"ticks\": \"\"}}, \"scene\": {\"xaxis\": {\"backgroundcolor\": \"#E5ECF6\", \"gridcolor\": \"white\", \"gridwidth\": 2, \"linecolor\": \"white\", \"showbackground\": true, \"ticks\": \"\", \"zerolinecolor\": \"white\"}, \"yaxis\": {\"backgroundcolor\": \"#E5ECF6\", \"gridcolor\": \"white\", \"gridwidth\": 2, \"linecolor\": \"white\", \"showbackground\": true, \"ticks\": \"\", \"zerolinecolor\": \"white\"}, \"zaxis\": {\"backgroundcolor\": \"#E5ECF6\", \"gridcolor\": \"white\", \"gridwidth\": 2, \"linecolor\": \"white\", \"showbackground\": true, \"ticks\": \"\", \"zerolinecolor\": \"white\"}}, \"shapedefaults\": {\"line\": {\"color\": \"#2a3f5f\"}}, \"ternary\": {\"aaxis\": {\"gridcolor\": \"white\", \"linecolor\": \"white\", \"ticks\": \"\"}, \"baxis\": {\"gridcolor\": \"white\", \"linecolor\": \"white\", \"ticks\": \"\"}, \"bgcolor\": \"#E5ECF6\", \"caxis\": {\"gridcolor\": \"white\", \"linecolor\": \"white\", \"ticks\": \"\"}}, \"title\": {\"x\": 0.05}, \"xaxis\": {\"automargin\": true, \"gridcolor\": \"white\", \"linecolor\": \"white\", \"ticks\": \"\", \"title\": {\"standoff\": 15}, \"zerolinecolor\": \"white\", \"zerolinewidth\": 2}, \"yaxis\": {\"automargin\": true, \"gridcolor\": \"white\", \"linecolor\": \"white\", \"ticks\": \"\", \"title\": {\"standoff\": 15}, \"zerolinecolor\": \"white\", \"zerolinewidth\": 2}}}},\n",
       "                        {\"responsive\": true}\n",
       "                    ).then(function(){\n",
       "                            \n",
       "var gd = document.getElementById('687a1e85-7d1a-4230-9611-590708179782');\n",
       "var x = new MutationObserver(function (mutations, observer) {{\n",
       "        var display = window.getComputedStyle(gd).display;\n",
       "        if (!display || display === 'none') {{\n",
       "            console.log([gd, 'removed!']);\n",
       "            Plotly.purge(gd);\n",
       "            observer.disconnect();\n",
       "        }}\n",
       "}});\n",
       "\n",
       "// Listen for the removal of the full notebook cells\n",
       "var notebookContainer = gd.closest('#notebook-container');\n",
       "if (notebookContainer) {{\n",
       "    x.observe(notebookContainer, {childList: true});\n",
       "}}\n",
       "\n",
       "// Listen for the clearing of the current output cell\n",
       "var outputEl = gd.closest('.output');\n",
       "if (outputEl) {{\n",
       "    x.observe(outputEl, {childList: true});\n",
       "}}\n",
       "\n",
       "                        })\n",
       "                };\n",
       "                });\n",
       "            </script>\n",
       "        </div>"
      ]
     },
     "metadata": {},
     "output_type": "display_data"
    }
   ],
   "source": [
    "model_data = exp.model_data_list[0]\n",
    "pred_df = model_data.normalised_pred_data_df.copy()\n",
    "print(pred_df.columns)\n",
    "trace = dict(\n",
    "    type='scattergeo',\n",
    "    lon = pred_df['lon'],\n",
    "    lat = pred_df['lat'],\n",
    "    mode='markers'\n",
    ")\n",
    "\n",
    "lyt = dict(geo = dict(\n",
    "    resolution=50,\n",
    "    lonaxis=dict(showgrid=True),\n",
    "#     showland=True, showocean=True,\n",
    "#     showcountries=True,\n",
    "    showrivers=True,\n",
    "    projection = dict(scale=1)\n",
    "))\n",
    "\n",
    "fig = go.Figure(data = [trace], layout = lyt)\n",
    "# fig = go.Figure(data=go.Scattergeo(\n",
    "#         lon = pred_df['lon'],\n",
    "#         lat = pred_df['lat']\n",
    "# ))\n",
    "# fig.update_layout(geo_scope='europe')\n",
    "# print(fig)\n",
    "# print(fig['layout'])\n",
    "# fig['layout']['yaxis'].update(range=[50,51], autorange=False)\n",
    "# fig.layout.geo.fitbounds = True\n",
    "fig.update_geos(\n",
    "    dict(\n",
    "    lataxis_range=[51.25, 51.75], lonaxis_range=[-0.5, 0.2]\n",
    "    ))\n",
    "fig.show()"
   ]
  },
  {
   "cell_type": "code",
   "execution_count": null,
   "metadata": {},
   "outputs": [],
   "source": [
    "\"\"\"\n",
    "\n",
    "fig.update_geos(\n",
    "    center=dict(lon=-30, lat=-30),\n",
    "    projection_rotation=dict(lon=30, lat=30, roll=30),\n",
    "    lataxis_range=[-50,20], lonaxis_range=[0, 200]\n",
    ")\n",
    "\"\"\""
   ]
  }
 ],
 "metadata": {
  "kernelspec": {
   "display_name": "cleanair",
   "language": "python",
   "name": "cleanair"
  },
  "language_info": {
   "codemirror_mode": {
    "name": "ipython",
    "version": 3
   },
   "file_extension": ".py",
   "mimetype": "text/x-python",
   "name": "python",
   "nbconvert_exporter": "python",
   "pygments_lexer": "ipython3",
   "version": "3.6.5"
  }
 },
 "nbformat": 4,
 "nbformat_minor": 2
}
