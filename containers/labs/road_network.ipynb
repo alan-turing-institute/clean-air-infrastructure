{
 "cells": [
  {
   "cell_type": "code",
   "execution_count": 5,
   "metadata": {},
   "outputs": [],
   "source": [
    "import pandas as pd\n",
    "import os\n",
    "from datetime import datetime\n",
    "\n",
    "# plotly viz - use matplotlib if you prefer\n",
    "import plotly.graph_objects as go\n",
    "import plotly.express as px\n",
    "\n",
    "# cleanair modules\n",
    "from cleanair.scoot import ScootQuery"
   ]
  },
  {
   "cell_type": "code",
   "execution_count": 6,
   "metadata": {},
   "outputs": [
    {
     "output_type": "stream",
     "name": "stderr",
     "text": "2020-03-31 13:38:32     INFO: Database connection information loaded from<_io.TextIOWrapper name='../../terraform/.secrets/db_secrets.json' mode='r' encoding='UTF-8'>\n"
    }
   ],
   "source": [
    "secretfile = \"../../terraform/.secrets/db_secrets.json\"\n",
    "\n",
    "SQ = ScootQuery(secretfile=secretfile)\n",
    "road_df = SQ.get_road_network()"
   ]
  },
  {
   "cell_type": "code",
   "execution_count": 7,
   "metadata": {},
   "outputs": [
    {
     "output_type": "execute_result",
     "data": {
      "text/plain": "                       toid  beginlifes  fictitious   validfrom  \\\n29477  osgb5000005131176597  2016-10-19       False  2016-12-23   \n51099  osgb4000000030414747  2016-10-19       False  2016-12-24   \n48284  osgb5000005127863611  2016-10-19       False  2016-12-24   \n48593  osgb4000000030341501  2016-10-19       False  2016-12-24   \n4259   osgb5000005154022530  2016-10-19       False  2016-12-23   \n2053   osgb4000000031060022  2016-10-19       False  2016-12-23   \n52896  osgb4000000030289961  2016-10-19       False  2016-12-24   \n37889  osgb4000000030232576  2016-10-19       False  2016-12-23   \n43943  osgb4000000030700736  2016-11-18       False  2016-12-24   \n49967  osgb4000000031202906  2016-10-19       False  2016-12-24   \n\n         reason_for_change road_classification route_hierarchy  \\\n29477  Modified Attributes              A Road          A Road   \n51099  Modified Attributes              B Road          B Road   \n48284  Modified Attributes              A Road          A Road   \n48593  Modified Attributes              A Road          A Road   \n4259   Modified Attributes              A Road          A Road   \n2053   Modified Attributes              A Road          A Road   \n52896  Modified Attributes              A Road          A Road   \n37889  Modified Attributes              B Road          B Road   \n43943    Modified Geometry              A Road          A Road   \n49967  Modified Attributes              A Road  A Road Primary   \n\n                           form_of_way  trunkroad  primary_route operational  \\\n29477  Traffic Island Link At Junction      False          False        Open   \n51099  Traffic Island Link At Junction      False          False        Open   \n48284               Single Carriageway      False          False        Open   \n48593                 Dual Carriageway      False          False        Open   \n4259                Single Carriageway      False          False        Open   \n2053                Single Carriageway      False          False        Open   \n52896                 Dual Carriageway      False          False        Open   \n37889               Single Carriageway      False          False        Open   \n43943               Single Carriageway      False          False        Open   \n49967                 Dual Carriageway      False           True        Open   \n\n            directionality  length match_status  startgrade  endgradese  \\\n29477          inDirection   20.28      Matched           0           0   \n51099          inDirection   11.85      Matched           0           0   \n48284       bothDirections    1.16      Matched           0           0   \n48593  inOppositeDirection   44.91      Matched           0           0   \n4259        bothDirections   99.65      Matched           0           0   \n2053        bothDirections   47.09      Matched           0           0   \n52896  inOppositeDirection   54.21      Matched           0           0   \n37889       bothDirections   77.73      Matched           0           0   \n43943       bothDirections   65.96      Matched           0           0   \n49967          inDirection   22.95      Matched           0           0   \n\n                  startnode               endnode  geom_length  \\\n29477  osgb5000005131171790  osgb5000005131171800    20.278914   \n51099  osgb4000000029948885  osgb4000000031015815    11.853526   \n48284  osgb4000000029871512  osgb5000005127863606     1.159830   \n48593  osgb4000000029965196  osgb4000000029965198    44.914048   \n4259   osgb4000000031044839  osgb5000005154012220    99.650667   \n2053   osgb5000005131204334  osgb4000000031059858    47.093219   \n52896  osgb4000000029794558  osgb4000000029794532    54.219201   \n37889  osgb4000000029954193  osgb4000000029954186    77.732579   \n43943  osgb4000000029903018  osgb4000000029903017    65.969059   \n49967  osgb4000000030037314  osgb4000000031202741    22.953615   \n\n                                                    geom  \n29477  0105000020e61000000100000001020000000700000094...  \n51099  0105000020e610000001000000010200000003000000a1...  \n48284  0105000020e610000001000000010200000002000000e8...  \n48593  0105000020e61000000100000001020000000500000082...  \n4259   0105000020e61000000100000001020000000400000074...  \n2053   0105000020e610000001000000010200000002000000d6...  \n52896  0105000020e610000001000000010200000004000000d3...  \n37889  0105000020e61000000100000001020000000500000035...  \n43943  0105000020e61000000100000001020000000c0000005e...  \n49967  0105000020e61000000100000001020000000200000025...  ",
      "text/html": "<div>\n<style scoped>\n    .dataframe tbody tr th:only-of-type {\n        vertical-align: middle;\n    }\n\n    .dataframe tbody tr th {\n        vertical-align: top;\n    }\n\n    .dataframe thead th {\n        text-align: right;\n    }\n</style>\n<table border=\"1\" class=\"dataframe\">\n  <thead>\n    <tr style=\"text-align: right;\">\n      <th></th>\n      <th>toid</th>\n      <th>beginlifes</th>\n      <th>fictitious</th>\n      <th>validfrom</th>\n      <th>reason_for_change</th>\n      <th>road_classification</th>\n      <th>route_hierarchy</th>\n      <th>form_of_way</th>\n      <th>trunkroad</th>\n      <th>primary_route</th>\n      <th>operational</th>\n      <th>directionality</th>\n      <th>length</th>\n      <th>match_status</th>\n      <th>startgrade</th>\n      <th>endgradese</th>\n      <th>startnode</th>\n      <th>endnode</th>\n      <th>geom_length</th>\n      <th>geom</th>\n    </tr>\n  </thead>\n  <tbody>\n    <tr>\n      <th>29477</th>\n      <td>osgb5000005131176597</td>\n      <td>2016-10-19</td>\n      <td>False</td>\n      <td>2016-12-23</td>\n      <td>Modified Attributes</td>\n      <td>A Road</td>\n      <td>A Road</td>\n      <td>Traffic Island Link At Junction</td>\n      <td>False</td>\n      <td>False</td>\n      <td>Open</td>\n      <td>inDirection</td>\n      <td>20.28</td>\n      <td>Matched</td>\n      <td>0</td>\n      <td>0</td>\n      <td>osgb5000005131171790</td>\n      <td>osgb5000005131171800</td>\n      <td>20.278914</td>\n      <td>0105000020e61000000100000001020000000700000094...</td>\n    </tr>\n    <tr>\n      <th>51099</th>\n      <td>osgb4000000030414747</td>\n      <td>2016-10-19</td>\n      <td>False</td>\n      <td>2016-12-24</td>\n      <td>Modified Attributes</td>\n      <td>B Road</td>\n      <td>B Road</td>\n      <td>Traffic Island Link At Junction</td>\n      <td>False</td>\n      <td>False</td>\n      <td>Open</td>\n      <td>inDirection</td>\n      <td>11.85</td>\n      <td>Matched</td>\n      <td>0</td>\n      <td>0</td>\n      <td>osgb4000000029948885</td>\n      <td>osgb4000000031015815</td>\n      <td>11.853526</td>\n      <td>0105000020e610000001000000010200000003000000a1...</td>\n    </tr>\n    <tr>\n      <th>48284</th>\n      <td>osgb5000005127863611</td>\n      <td>2016-10-19</td>\n      <td>False</td>\n      <td>2016-12-24</td>\n      <td>Modified Attributes</td>\n      <td>A Road</td>\n      <td>A Road</td>\n      <td>Single Carriageway</td>\n      <td>False</td>\n      <td>False</td>\n      <td>Open</td>\n      <td>bothDirections</td>\n      <td>1.16</td>\n      <td>Matched</td>\n      <td>0</td>\n      <td>0</td>\n      <td>osgb4000000029871512</td>\n      <td>osgb5000005127863606</td>\n      <td>1.159830</td>\n      <td>0105000020e610000001000000010200000002000000e8...</td>\n    </tr>\n    <tr>\n      <th>48593</th>\n      <td>osgb4000000030341501</td>\n      <td>2016-10-19</td>\n      <td>False</td>\n      <td>2016-12-24</td>\n      <td>Modified Attributes</td>\n      <td>A Road</td>\n      <td>A Road</td>\n      <td>Dual Carriageway</td>\n      <td>False</td>\n      <td>False</td>\n      <td>Open</td>\n      <td>inOppositeDirection</td>\n      <td>44.91</td>\n      <td>Matched</td>\n      <td>0</td>\n      <td>0</td>\n      <td>osgb4000000029965196</td>\n      <td>osgb4000000029965198</td>\n      <td>44.914048</td>\n      <td>0105000020e61000000100000001020000000500000082...</td>\n    </tr>\n    <tr>\n      <th>4259</th>\n      <td>osgb5000005154022530</td>\n      <td>2016-10-19</td>\n      <td>False</td>\n      <td>2016-12-23</td>\n      <td>Modified Attributes</td>\n      <td>A Road</td>\n      <td>A Road</td>\n      <td>Single Carriageway</td>\n      <td>False</td>\n      <td>False</td>\n      <td>Open</td>\n      <td>bothDirections</td>\n      <td>99.65</td>\n      <td>Matched</td>\n      <td>0</td>\n      <td>0</td>\n      <td>osgb4000000031044839</td>\n      <td>osgb5000005154012220</td>\n      <td>99.650667</td>\n      <td>0105000020e61000000100000001020000000400000074...</td>\n    </tr>\n    <tr>\n      <th>2053</th>\n      <td>osgb4000000031060022</td>\n      <td>2016-10-19</td>\n      <td>False</td>\n      <td>2016-12-23</td>\n      <td>Modified Attributes</td>\n      <td>A Road</td>\n      <td>A Road</td>\n      <td>Single Carriageway</td>\n      <td>False</td>\n      <td>False</td>\n      <td>Open</td>\n      <td>bothDirections</td>\n      <td>47.09</td>\n      <td>Matched</td>\n      <td>0</td>\n      <td>0</td>\n      <td>osgb5000005131204334</td>\n      <td>osgb4000000031059858</td>\n      <td>47.093219</td>\n      <td>0105000020e610000001000000010200000002000000d6...</td>\n    </tr>\n    <tr>\n      <th>52896</th>\n      <td>osgb4000000030289961</td>\n      <td>2016-10-19</td>\n      <td>False</td>\n      <td>2016-12-24</td>\n      <td>Modified Attributes</td>\n      <td>A Road</td>\n      <td>A Road</td>\n      <td>Dual Carriageway</td>\n      <td>False</td>\n      <td>False</td>\n      <td>Open</td>\n      <td>inOppositeDirection</td>\n      <td>54.21</td>\n      <td>Matched</td>\n      <td>0</td>\n      <td>0</td>\n      <td>osgb4000000029794558</td>\n      <td>osgb4000000029794532</td>\n      <td>54.219201</td>\n      <td>0105000020e610000001000000010200000004000000d3...</td>\n    </tr>\n    <tr>\n      <th>37889</th>\n      <td>osgb4000000030232576</td>\n      <td>2016-10-19</td>\n      <td>False</td>\n      <td>2016-12-23</td>\n      <td>Modified Attributes</td>\n      <td>B Road</td>\n      <td>B Road</td>\n      <td>Single Carriageway</td>\n      <td>False</td>\n      <td>False</td>\n      <td>Open</td>\n      <td>bothDirections</td>\n      <td>77.73</td>\n      <td>Matched</td>\n      <td>0</td>\n      <td>0</td>\n      <td>osgb4000000029954193</td>\n      <td>osgb4000000029954186</td>\n      <td>77.732579</td>\n      <td>0105000020e61000000100000001020000000500000035...</td>\n    </tr>\n    <tr>\n      <th>43943</th>\n      <td>osgb4000000030700736</td>\n      <td>2016-11-18</td>\n      <td>False</td>\n      <td>2016-12-24</td>\n      <td>Modified Geometry</td>\n      <td>A Road</td>\n      <td>A Road</td>\n      <td>Single Carriageway</td>\n      <td>False</td>\n      <td>False</td>\n      <td>Open</td>\n      <td>bothDirections</td>\n      <td>65.96</td>\n      <td>Matched</td>\n      <td>0</td>\n      <td>0</td>\n      <td>osgb4000000029903018</td>\n      <td>osgb4000000029903017</td>\n      <td>65.969059</td>\n      <td>0105000020e61000000100000001020000000c0000005e...</td>\n    </tr>\n    <tr>\n      <th>49967</th>\n      <td>osgb4000000031202906</td>\n      <td>2016-10-19</td>\n      <td>False</td>\n      <td>2016-12-24</td>\n      <td>Modified Attributes</td>\n      <td>A Road</td>\n      <td>A Road Primary</td>\n      <td>Dual Carriageway</td>\n      <td>False</td>\n      <td>True</td>\n      <td>Open</td>\n      <td>inDirection</td>\n      <td>22.95</td>\n      <td>Matched</td>\n      <td>0</td>\n      <td>0</td>\n      <td>osgb4000000030037314</td>\n      <td>osgb4000000031202741</td>\n      <td>22.953615</td>\n      <td>0105000020e61000000100000001020000000200000025...</td>\n    </tr>\n  </tbody>\n</table>\n</div>"
     },
     "metadata": {},
     "execution_count": 7
    }
   ],
   "source": [
    "road_df.sample(10)"
   ]
  },
  {
   "cell_type": "code",
   "execution_count": null,
   "metadata": {},
   "outputs": [],
   "source": []
  }
 ],
 "metadata": {
  "kernelspec": {
   "display_name": "cleanair",
   "language": "python",
   "name": "cleanair"
  },
  "language_info": {
   "codemirror_mode": {
    "name": "ipython",
    "version": 3
   },
   "file_extension": ".py",
   "mimetype": "text/x-python",
   "name": "python",
   "nbconvert_exporter": "python",
   "pygments_lexer": "ipython3",
   "version": "3.7.6-final"
  }
 },
 "nbformat": 4,
 "nbformat_minor": 4
}