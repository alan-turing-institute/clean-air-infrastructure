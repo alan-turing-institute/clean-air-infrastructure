{
 "cells": [
  {
   "cell_type": "code",
   "execution_count": null,
   "metadata": {},
   "outputs": [],
   "source": [
    "import pandas as pd\n",
    "\n",
    "from cleanair.databases import DBReader\n",
    "\n",
    "class ScootQuery(DBReader):"
   ]
  },
  {
   "cell_type": "code",
   "execution_count": null,
   "metadata": {},
   "outputs": [],
   "source": [
    "\n",
    "    "
   ]
  }
 ],
 "metadata": {
  "kernelspec": {
   "display_name": "cleanair3.7",
   "language": "python",
   "name": "cleanair3.7"
  }
 },
 "nbformat": 4,
 "nbformat_minor": 4
}
