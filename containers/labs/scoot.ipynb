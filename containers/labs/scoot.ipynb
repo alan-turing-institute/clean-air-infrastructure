{
 "cells": [
  {
   "cell_type": "markdown",
   "metadata": {},
   "source": [
    "# Getting started with Scoot data\n",
    "\n",
    "First things first: **Scoot data is a big dataset**.\n",
    "\n",
    "> 100 days of SCOOT data from all sensors is approx 8GB.\n",
    "\n",
    "Whilst your are testing and developing please reduce the amount of data you are requesting from the DB to reduce the strain on the DB. You can do this by restricting your queries:\n",
    "\n",
    "- 1 day (or even one hour) of data if you are looking at spatial information\n",
    "- aggregation of data if you want temporal trends. E.g. Take the sum of vehicle counts over all scoot sensors for each day.\n",
    "- for spatial-temporal analysis, choose a subset of scoot detectors and perhaps also aggregate your data. E.g. 100 randomly chosen sensors (Coming soon: not yet implemented) for daily aggregates of data.\n"
   ]
  },
  {
   "cell_type": "code",
   "execution_count": 1,
   "metadata": {},
   "outputs": [],
   "source": [
    "%matplotlib notebook\n",
    "import pandas as pd\n",
    "import os\n",
    "from datetime import datetime\n",
    "\n",
    "# plotly viz - use matplotlib if you prefer\n",
    "import plotly.graph_objects as go\n",
    "import plotly.express as px\n",
    "\n",
    "# cleanair modules\n",
    "from cleanair.scoot import ScootQuery\n",
    "\n",
    "# matplotlib and geospatial viz\n",
    "import geopandas as gpd\n",
    "from shapely import wkt\n",
    "from shapely.geometry.polygon import Polygon\n",
    "from shapely.geometry.multipolygon import MultiPolygon\n",
    "import matplotlib.pyplot as plt\n",
    "import numpy as np\n",
    "import matplotlib\n",
    "from matplotlib.animation import FuncAnimation\n",
    "from mpl_toolkits.axes_grid1 import make_axes_locatable"
   ]
  },
  {
   "cell_type": "code",
   "execution_count": null,
   "metadata": {},
   "outputs": [
    {
     "name": "stderr",
     "output_type": "stream",
     "text": [
      "2020-03-24 14:39:10     INFO: Database connection information loaded from <_io.TextIOWrapper name='../../terraform/.secrets/db_secrets.json' mode='r' encoding='UTF-8'>\n"
     ]
    }
   ],
   "source": [
    "secretfile = \"../../terraform/.secrets/db_secrets.json\"\n",
    "\n",
    "SQ = ScootQuery(secretfile=secretfile)"
   ]
  },
  {
   "cell_type": "code",
   "execution_count": null,
   "metadata": {},
   "outputs": [],
   "source": [
    "# get an aggregate of all the scoot data for the last 2 weeks\n",
    "agg_df = SQ.groupby_datetime_df(start_datetime=\"2020-03-10\", end_datetime=\"2020-03-24\")"
   ]
  },
  {
   "cell_type": "code",
   "execution_count": null,
   "metadata": {},
   "outputs": [],
   "source": [
    "agg_df.sample(10)"
   ]
  },
  {
   "cell_type": "code",
   "execution_count": null,
   "metadata": {},
   "outputs": [],
   "source": [
    "col = \"sum_n_vehicles_in_interval\"\n",
    "\n",
    "fig = px.line(agg_df, x=\"measurement_start_utc\", y=col)\n",
    "fig.show()"
   ]
  },
  {
   "cell_type": "code",
   "execution_count": null,
   "metadata": {},
   "outputs": [],
   "source": [
    "# set the mapbox token\n",
    "secrets_dir = \"../../terraform/.secrets\"\n",
    "mapbox_filepath = os.path.join(secrets_dir, \".mapbox_token\")\n",
    "mapbox_access_token = open(mapbox_filepath).read()\n",
    "px.set_mapbox_access_token(mapbox_access_token)\n",
    "\n",
    "col = \"n_vehicles_in_interval\"\n",
    "lower_bound = 500  # must have at least this many vehicles to appear on map\n",
    "timestamp = \"2020-03-11 12:00:00\"\n",
    "\n",
    "# query all scoot data for the given timestamp  \n",
    "scoot_df = SQ.get_readings_for_hour(timestamp)\n"
   ]
  },
  {
   "cell_type": "code",
   "execution_count": null,
   "metadata": {},
   "outputs": [],
   "source": [
    "# DECREASE NUMBER OF ROWS IN DATAFRAME\n",
    "# otherwise we will have problems rendering cause too many scoot sensors\n",
    "filtered_df = scoot_df.loc[\n",
    "    (scoot_df[col] > lower_bound) & (scoot_df[\"measurement_start_utc\"] == timestamp)\n",
    "]\n",
    "\n",
    "# get the mapbox figure\n",
    "map_dict = px.scatter_mapbox(\n",
    "    filtered_df,\n",
    "    lat=\"lat\",\n",
    "    lon=\"lon\",\n",
    "    size=[2 for i in range(len(filtered_df.index))],\n",
    "    color=col,\n",
    "    zoom=10,\n",
    "    mapbox_style=\"basic\",\n",
    ")\n",
    "map_fig = go.FigureWidget(map_dict)\n",
    "map_fig.show()"
   ]
  },
  {
   "cell_type": "code",
   "execution_count": null,
   "metadata": {},
   "outputs": [],
   "source": [
    "start_datetime=\"2020-02-23 06:00:00\"\n",
    "end_datetime=\"2020-02-23 18:00:00\"\n",
    "df = SQ.groupby_sensor_df()"
   ]
  },
  {
   "cell_type": "code",
   "execution_count": null,
   "metadata": {},
   "outputs": [],
   "source": [
    "df.all()"
   ]
  },
  {
   "cell_type": "code",
   "execution_count": null,
   "metadata": {},
   "outputs": [],
   "source": [
    "df['geom'] = df['st_astext'].apply(wkt.loads)\n",
    "df = gpd.GeoDataFrame(df, geometry='geom')"
   ]
  },
  {
   "cell_type": "code",
   "execution_count": null,
   "metadata": {},
   "outputs": [],
   "source": [
    "time_range = pd.date_range(start_datetime, end_datetime, freq='H')"
   ]
  },
  {
   "cell_type": "code",
   "execution_count": null,
   "metadata": {},
   "outputs": [],
   "source": [
    "fig, ax = plt.subplots(figsize=(10, 8))\n",
    "xdata, ydata = [], []\n",
    "\n",
    "col = 'avg_occupancy_percentage'\n",
    "\n",
    "norm = matplotlib.colors.Normalize(vmin=np.min(df[col]),vmax=np.max(df[col]))\n",
    "\n",
    "divider = make_axes_locatable(ax)\n",
    "cax = divider.append_axes(\"right\", size=\"5%\", pad=0.1)\n",
    "\n",
    "def init():\n",
    "    ax.set_title(col+' - '+str(time_range[0]))\n",
    "    df_tmp = df[df['measurement_start_utc']==time_range[0]]\n",
    "    df_tmp.plot(column=col, figsize=(20, 10),ax=ax, norm=norm, legend=True, cax=cax)\n",
    "\n",
    "def update(frame):\n",
    "    ax.clear()\n",
    "    ax.set_title(col+' - '+str(frame))\n",
    "    df_tmp = df[df['measurement_start_utc']==frame]\n",
    "    df_tmp.plot(column=col, figsize=(20, 10),ax=ax, norm=norm, legend=True, cax=cax)\n",
    "\n",
    "ani = FuncAnimation(fig, update, frames=time_range, init_func=init)\n"
   ]
  },
  {
   "cell_type": "code",
   "execution_count": null,
   "metadata": {},
   "outputs": [],
   "source": [
    "# Set up formatting for the movie files\n",
    "Writer = matplotlib.animation.FFMpegWriter\n",
    "writer = Writer(fps=10, metadata=dict(artist='Me'), bitrate=1800)\n",
    "\n",
    "ani.save('im.mp4',  writer=writer)"
   ]
  },
  {
   "cell_type": "code",
   "execution_count": null,
   "metadata": {},
   "outputs": [],
   "source": [
    "from IPython.display import HTML\n",
    "HTML(ani.to_jshtml())"
   ]
  },
  {
   "cell_type": "code",
   "execution_count": null,
   "metadata": {},
   "outputs": [],
   "source": []
  }
 ],
 "metadata": {
  "kernelspec": {
   "display_name": "cleanair",
   "language": "python",
   "name": "cleanair"
  },
  "language_info": {
   "codemirror_mode": {
    "name": "ipython",
    "version": 3
   },
   "file_extension": ".py",
   "mimetype": "text/x-python",
   "name": "python",
   "nbconvert_exporter": "python",
   "pygments_lexer": "ipython3",
   "version": "3.7.6"
  }
 },
 "nbformat": 4,
 "nbformat_minor": 4
}
