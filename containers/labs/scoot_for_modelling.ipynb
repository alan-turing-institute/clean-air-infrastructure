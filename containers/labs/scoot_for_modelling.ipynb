{
 "cells": [
  {
   "cell_type": "code",
   "execution_count": 1,
   "metadata": {},
   "outputs": [],
   "source": [
    "%matplotlib inline\n",
    "import pandas as pd\n",
    "import os\n",
    "import math\n",
    "import json\n",
    "import copy\n",
    "import numpy as np\n",
    "import matplotlib.pyplot as plt\n",
    "import gpflow\n",
    "import pickle\n",
    "import calendar\n",
    "import tensorflow as tf\n",
    "\n",
    "from datetime import datetime\n",
    "from gpflow.utilities import print_summary\n",
    "\n",
    "gpflow.config.set_default_summary_fmt(\"notebook\")\n",
    "\n",
    "# plotly viz - use matplotlib if you prefer\n",
    "import plotly.graph_objects as go\n",
    "import plotly.express as px\n",
    "from plotly.subplots import make_subplots\n",
    "\n",
    "# cleanair modules\n",
    "from cleanair.scoot import (\n",
    "    sample_n,\n",
    "    ScootQuery,\n",
    "    sample_intensity,\n",
    "    plotly_results,\n",
    "    choose_kernel\n",
    ")\n",
    ""
   ]
  },
  {
   "cell_type": "code",
   "execution_count": 2,
   "metadata": {},
   "outputs": [
    {
     "output_type": "stream",
     "name": "stderr",
     "text": "2020-03-31 17:54:34     INFO: Database connection information loaded from<_io.TextIOWrapper name='../../terraform/.secrets/db_traffic.json' mode='r' encoding='UTF-8'>\n"
    }
   ],
   "source": [
    "secretfile = \"../../terraform/.secrets/db_traffic.json\"\n",
    "\n",
    "# choose a start and end date for this query\n",
    "start_datetime_LD=\"2020-03-23 00:00:00\"\n",
    "end_datetime_LD=\"2020-03-24 00:00:00\"\n",
    "\n",
    "# choose a start and end date for querying \"normal traffic\" period\n",
    "start_datetime_normal=\"2020-02-10 00:00:00\"\n",
    "end_datetime_normal=\"2020-02-25 00:00:00\"\n",
    "\n",
    "# choose a start and end date for querying \"lockdown traffic\" period\n",
    "# start_datetime_LD=\"2020-03-16 00:00:00\"\n",
    "# end_datetime_LD=\"2020-03-26 00:00:00\"\n",
    "\n",
    "# columns to analyse\n",
    "columns = [\"n_vehicles_in_interval\", \"occupancy_percentage\", \"congestion_percentage\", \"saturation\"]\n",
    "\n",
    "SQ = ScootQuery(secretfile=secretfile)"
   ]
  },
  {
   "cell_type": "markdown",
   "metadata": {},
   "source": [
    "# Detector readings\n",
    "Get all scoot observations between `start_datetime` and `end_datetime`"
   ]
  },
  {
   "cell_type": "code",
   "execution_count": 3,
   "metadata": {},
   "outputs": [],
   "source": [
    "all_df = SQ.get_all_readings(start_datetime=start_datetime_normal, end_datetime=end_datetime_normal)"
   ]
  },
  {
   "cell_type": "code",
   "execution_count": 4,
   "metadata": {},
   "outputs": [],
   "source": [
    "## This is querying the full data which have been already saved - takes around 30 mins\n",
    "#all_df_normal = SQ.get_all_readings(start_datetime=start_datetime, end_datetime=end_datetime)\n",
    "#all_df_LD = SQ.get_all_readings(start_datetime=start_datetime_LD, end_datetime=end_datetime_LD)"
   ]
  },
  {
   "cell_type": "code",
   "execution_count": 5,
   "metadata": {},
   "outputs": [
    {
     "output_type": "error",
     "ename": "NameError",
     "evalue": "name 'all_df_normal' is not defined",
     "traceback": [
      "\u001b[0;31m---------------------------------------------------------------------------\u001b[0m",
      "\u001b[0;31mNameError\u001b[0m                                 Traceback (most recent call last)",
      "\u001b[0;32m<ipython-input-5-39c36d011ecf>\u001b[0m in \u001b[0;36m<module>\u001b[0;34m\u001b[0m\n\u001b[1;32m      1\u001b[0m \u001b[0;31m## Save data - this has been used to save the complete data\u001b[0m\u001b[0;34m\u001b[0m\u001b[0;34m\u001b[0m\u001b[0;34m\u001b[0m\u001b[0m\n\u001b[0;32m----> 2\u001b[0;31m \u001b[0mall_df_normal\u001b[0m\u001b[0;34m.\u001b[0m\u001b[0mto_csv\u001b[0m\u001b[0;34m(\u001b[0m\u001b[0;34m\"normal_scoot.csv\"\u001b[0m\u001b[0;34m)\u001b[0m\u001b[0;34m\u001b[0m\u001b[0;34m\u001b[0m\u001b[0m\n\u001b[0m\u001b[1;32m      3\u001b[0m \u001b[0mall_df_LD\u001b[0m\u001b[0;34m.\u001b[0m\u001b[0mto_csv\u001b[0m\u001b[0;34m(\u001b[0m\u001b[0;34m\"LD_scoot.csv\"\u001b[0m\u001b[0;34m)\u001b[0m\u001b[0;34m\u001b[0m\u001b[0;34m\u001b[0m\u001b[0m\n",
      "\u001b[0;31mNameError\u001b[0m: name 'all_df_normal' is not defined"
     ]
    }
   ],
   "source": [
    "## Save data - this has been used to save the complete data\n",
    "all_df_normal.to_csv(\"normal_scoot.csv\")\n",
    "all_df_LD.to_csv(\"LD_scoot.csv\")"
   ]
  },
  {
   "cell_type": "code",
   "execution_count": null,
   "metadata": {},
   "outputs": [],
   "source": [
    "## Import data - only run if you want to work with the complete dataset\n",
    "#all_df_normal = pd.read_csv(\"normal_scoot.csv\")\n",
    "#all_df_LD = pd.read_csv(\"LD_scoot.csv\")"
   ]
  },
  {
   "cell_type": "markdown",
   "metadata": {},
   "source": [
    "# Simple Data cleaning\n",
    "\n",
    "    - Convert Datetime to epoch\n",
    "    - Add normalised/standardised columns"
   ]
  },
  {
   "cell_type": "code",
   "execution_count": 11,
   "metadata": {},
   "outputs": [],
   "source": [
    "def normalise(x):\n",
    "    \"\"\"Standardize all columns individually\"\"\"\n",
    "    return (x - np.mean(x, axis=0)) / np.std(x, axis=0)\n",
    "\n",
    "def denormalise(x, wrt_y):\n",
    "    \"\"\"Denormalize x given the original data it was standardized to\"\"\"\n",
    "    return ( x * np.std(wrt_y, axis=0) ) + np.mean(wrt_y, axis=0)"
   ]
  },
  {
   "cell_type": "code",
   "execution_count": 12,
   "metadata": {},
   "outputs": [],
   "source": [
    "all_df['measurement_start_utc'] = pd.to_datetime(all_df['measurement_start_utc'])\n",
    "all_df['epoch'] = all_df['measurement_start_utc'].astype('int64')//1e9 #convert to epoch\n",
    "\n",
    "all_df['epoch_norm'] = normalise(all_df['epoch'])\n",
    "all_df['lat_norm'] = normalise(all_df['lat'])\n",
    "all_df['lon_norm'] = normalise(all_df['lon'])"
   ]
  },
  {
   "cell_type": "markdown",
   "metadata": {},
   "source": [
    "# Helper functions"
   ]
  },
  {
   "cell_type": "code",
   "execution_count": 13,
   "metadata": {},
   "outputs": [],
   "source": [
    "def get_X(df):\n",
    "    return np.array(df[['epoch_norm', 'lon_norm', 'lat_norm']])\n",
    "\n",
    "def get_Y(df):\n",
    "    return np.array(df[['n_vehicles_in_interval']])"
   ]
  },
  {
   "cell_type": "markdown",
   "metadata": {},
   "source": [
    "# Jointly train all sensors\n",
    "\n",
    "The input $X$ is time epoch, lat, lon and output $Y$ is the integer n_vehicles_in_interval\n",
    "\n",
    "NOTE for 2 days of scoot data there are approx 400000 observations"
   ]
  },
  {
   "cell_type": "code",
   "execution_count": 14,
   "metadata": {},
   "outputs": [],
   "source": [
    "X = get_X(all_df) # N x D\n",
    "Y = get_Y(all_df) # N x 1"
   ]
  },
  {
   "cell_type": "code",
   "execution_count": 15,
   "metadata": {},
   "outputs": [
    {
     "output_type": "stream",
     "name": "stdout",
     "text": "(3508367, 1)\n"
    }
   ],
   "source": [
    "print(Y.shape)"
   ]
  },
  {
   "cell_type": "markdown",
   "metadata": {},
   "source": [
    "# Temporary load local dataframe and settings"
   ]
  },
  {
   "cell_type": "code",
   "execution_count": 16,
   "metadata": {},
   "outputs": [],
   "source": [
    "# all_df = pd.read_csv(\"./data/raw/scoot_data_10feb.csv\")\n",
    "# all_df_copy = copy.deepcopy(all_df)"
   ]
  },
  {
   "cell_type": "code",
   "execution_count": 17,
   "metadata": {},
   "outputs": [],
   "source": [
    "# all_df = copy.deepcopy(all_df_copy)"
   ]
  },
  {
   "cell_type": "code",
   "execution_count": 18,
   "metadata": {},
   "outputs": [],
   "source": [
    "with open('./data/settings/kernel_settings.json') as kernel_file:\n",
    "    kernel_settings = json.load(kernel_file)\n",
    "with open('./data/settings/scoot_settings.json') as scoot_file:\n",
    "    scoot_settings = json.load(scoot_file)"
   ]
  },
  {
   "cell_type": "code",
   "execution_count": 19,
   "metadata": {},
   "outputs": [],
   "source": [
    "# Specify start and end dates\n",
    "start_date = '2020-02-10 01:00:00'\n",
    "end_date = '2020-02-16 23:00:00'"
   ]
  },
  {
   "cell_type": "markdown",
   "metadata": {},
   "source": [
    "# Train scoot individually as a time series"
   ]
  },
  {
   "cell_type": "code",
   "execution_count": 20,
   "metadata": {},
   "outputs": [],
   "source": [
    "## Select all scoots in scoot_settings\n",
    "all_df = all_df[all_df['detector_id'].isin(scoot_settings['scoot_ids'])]"
   ]
  },
  {
   "cell_type": "code",
   "execution_count": 21,
   "metadata": {},
   "outputs": [],
   "source": [
    "## Select all dates before given date\n",
    "all_df = all_df[(all_df['measurement_end_utc'] >= start_date) & (all_df['measurement_end_utc'] <= end_date)]"
   ]
  },
  {
   "cell_type": "code",
   "execution_count": 22,
   "metadata": {},
   "outputs": [],
   "source": [
    "scoot_ids = np.unique(all_df['detector_id'])\n",
    "grouped_df = all_df.groupby('detector_id')\n",
    "scoot_individual_df_arr = [grouped_df.get_group(scoot_id) for scoot_id in scoot_ids] #array of dfs for all sensors"
   ]
  },
  {
   "cell_type": "code",
   "execution_count": 23,
   "metadata": {},
   "outputs": [],
   "source": [
    "# scoot_individual_df_arr = [grouped_df.get_group(scoot_id) for scoot_id in scoot_ids] #array of dfs for all sensors\n",
    "X_arr = [get_X(all_df) for df in scoot_individual_df_arr] # |Number of scoot sensors| x N_i x D\n",
    "Y_arr = [get_Y(all_df) for df in scoot_individual_df_arr] # |Number of scoot sensors| x N_i x 1"
   ]
  },
  {
   "cell_type": "code",
   "execution_count": 24,
   "metadata": {},
   "outputs": [
    {
     "output_type": "execute_result",
     "data": {
      "text/plain": "2"
     },
     "metadata": {},
     "execution_count": 24
    }
   ],
   "source": [
    "len(X_arr)"
   ]
  },
  {
   "cell_type": "markdown",
   "metadata": {},
   "source": [
    "## Simple Time series plot"
   ]
  },
  {
   "cell_type": "code",
   "execution_count": 25,
   "metadata": {},
   "outputs": [],
   "source": [
    "color_counts = 'C0'\n",
    "label_counts = 'N'\n",
    "color_estimated_counts = 'red'\n",
    "label_estimated_counts = '$\\hat{N}$'"
   ]
  },
  {
   "cell_type": "code",
   "execution_count": 26,
   "metadata": {},
   "outputs": [
    {
     "output_type": "display_data",
     "data": {
      "application/vnd.plotly.v1+json": {
       "config": {
        "plotlyServerURL": "https://plot.ly"
       },
       "data": [
        {
         "mode": "lines+markers",
         "name": "lines+markers",
         "type": "scatter",
         "x": [
          "2020-02-10T00:00:00",
          "2020-02-10T01:00:00",
          "2020-02-10T02:00:00",
          "2020-02-10T03:00:00",
          "2020-02-10T04:00:00",
          "2020-02-10T05:00:00",
          "2020-02-10T06:00:00",
          "2020-02-10T07:00:00",
          "2020-02-10T08:00:00",
          "2020-02-10T09:00:00",
          "2020-02-10T10:00:00",
          "2020-02-10T11:00:00",
          "2020-02-10T12:00:00",
          "2020-02-10T13:00:00",
          "2020-02-10T14:00:00",
          "2020-02-10T15:00:00",
          "2020-02-10T16:00:00",
          "2020-02-10T17:00:00",
          "2020-02-10T18:00:00",
          "2020-02-10T19:00:00",
          "2020-02-10T20:00:00",
          "2020-02-10T21:00:00",
          "2020-02-10T22:00:00",
          "2020-02-10T23:00:00",
          "2020-02-11T00:00:00",
          "2020-02-11T01:00:00",
          "2020-02-11T02:00:00",
          "2020-02-11T03:00:00",
          "2020-02-11T04:00:00",
          "2020-02-11T05:00:00",
          "2020-02-11T06:00:00",
          "2020-02-11T07:00:00",
          "2020-02-11T08:00:00",
          "2020-02-11T09:00:00",
          "2020-02-11T10:00:00",
          "2020-02-11T11:00:00",
          "2020-02-11T12:00:00",
          "2020-02-11T13:00:00",
          "2020-02-11T14:00:00",
          "2020-02-11T15:00:00",
          "2020-02-11T16:00:00",
          "2020-02-11T17:00:00",
          "2020-02-11T18:00:00",
          "2020-02-11T19:00:00",
          "2020-02-11T20:00:00",
          "2020-02-11T21:00:00",
          "2020-02-11T22:00:00",
          "2020-02-11T23:00:00",
          "2020-02-12T00:00:00",
          "2020-02-12T01:00:00",
          "2020-02-12T02:00:00",
          "2020-02-12T03:00:00",
          "2020-02-12T04:00:00",
          "2020-02-12T05:00:00",
          "2020-02-12T06:00:00",
          "2020-02-12T07:00:00",
          "2020-02-12T08:00:00",
          "2020-02-12T09:00:00",
          "2020-02-12T10:00:00",
          "2020-02-12T11:00:00",
          "2020-02-12T12:00:00",
          "2020-02-12T13:00:00",
          "2020-02-12T14:00:00",
          "2020-02-12T15:00:00",
          "2020-02-12T16:00:00",
          "2020-02-12T17:00:00",
          "2020-02-12T18:00:00",
          "2020-02-12T19:00:00",
          "2020-02-12T20:00:00",
          "2020-02-12T21:00:00",
          "2020-02-12T22:00:00",
          "2020-02-12T23:00:00",
          "2020-02-13T00:00:00",
          "2020-02-13T01:00:00",
          "2020-02-13T02:00:00",
          "2020-02-13T03:00:00",
          "2020-02-13T04:00:00",
          "2020-02-13T05:00:00",
          "2020-02-13T06:00:00",
          "2020-02-13T07:00:00",
          "2020-02-13T08:00:00",
          "2020-02-13T09:00:00",
          "2020-02-13T10:00:00",
          "2020-02-13T11:00:00",
          "2020-02-13T12:00:00",
          "2020-02-13T13:00:00",
          "2020-02-13T14:00:00",
          "2020-02-13T15:00:00",
          "2020-02-13T16:00:00",
          "2020-02-13T17:00:00",
          "2020-02-13T18:00:00",
          "2020-02-13T19:00:00",
          "2020-02-13T20:00:00",
          "2020-02-13T21:00:00",
          "2020-02-13T22:00:00",
          "2020-02-13T23:00:00",
          "2020-02-14T00:00:00",
          "2020-02-14T01:00:00",
          "2020-02-14T02:00:00",
          "2020-02-14T03:00:00",
          "2020-02-14T04:00:00",
          "2020-02-14T05:00:00",
          "2020-02-14T06:00:00",
          "2020-02-14T07:00:00",
          "2020-02-14T08:00:00",
          "2020-02-14T09:00:00",
          "2020-02-14T10:00:00",
          "2020-02-14T11:00:00",
          "2020-02-14T12:00:00",
          "2020-02-14T13:00:00",
          "2020-02-14T14:00:00",
          "2020-02-14T15:00:00",
          "2020-02-14T16:00:00",
          "2020-02-14T17:00:00",
          "2020-02-14T18:00:00",
          "2020-02-14T19:00:00",
          "2020-02-14T20:00:00",
          "2020-02-14T21:00:00",
          "2020-02-14T22:00:00",
          "2020-02-14T23:00:00",
          "2020-02-15T00:00:00",
          "2020-02-15T01:00:00",
          "2020-02-15T02:00:00",
          "2020-02-15T03:00:00",
          "2020-02-15T04:00:00",
          "2020-02-15T05:00:00",
          "2020-02-15T06:00:00",
          "2020-02-15T07:00:00",
          "2020-02-15T08:00:00",
          "2020-02-15T09:00:00",
          "2020-02-15T10:00:00",
          "2020-02-15T11:00:00",
          "2020-02-15T12:00:00",
          "2020-02-15T13:00:00",
          "2020-02-15T14:00:00",
          "2020-02-15T15:00:00",
          "2020-02-15T16:00:00",
          "2020-02-15T17:00:00",
          "2020-02-15T18:00:00",
          "2020-02-15T19:00:00",
          "2020-02-15T20:00:00",
          "2020-02-15T21:00:00",
          "2020-02-15T22:00:00",
          "2020-02-15T23:00:00",
          "2020-02-16T00:00:00",
          "2020-02-16T01:00:00",
          "2020-02-16T02:00:00",
          "2020-02-16T03:00:00",
          "2020-02-16T04:00:00",
          "2020-02-16T05:00:00",
          "2020-02-16T06:00:00",
          "2020-02-16T07:00:00",
          "2020-02-16T08:00:00",
          "2020-02-16T09:00:00",
          "2020-02-16T10:00:00",
          "2020-02-16T11:00:00",
          "2020-02-16T12:00:00",
          "2020-02-16T13:00:00",
          "2020-02-16T14:00:00",
          "2020-02-16T15:00:00",
          "2020-02-16T16:00:00",
          "2020-02-16T17:00:00",
          "2020-02-16T18:00:00",
          "2020-02-16T19:00:00",
          "2020-02-16T20:00:00",
          "2020-02-16T21:00:00",
          "2020-02-16T22:00:00"
         ],
         "y": [
          88,
          75,
          61,
          67,
          74,
          97,
          153,
          185,
          207,
          202,
          192,
          210,
          244,
          252,
          275,
          278,
          260,
          274,
          199,
          247,
          236,
          195,
          274,
          300,
          201,
          113,
          92,
          88,
          95,
          100,
          162,
          200,
          191,
          227,
          224,
          235,
          265,
          232,
          238,
          256,
          266,
          261,
          245,
          283,
          260,
          233,
          216,
          281,
          278,
          167,
          102,
          77,
          91,
          104,
          148,
          185,
          227,
          238,
          211,
          236,
          233,
          252,
          247,
          271,
          267,
          308,
          239,
          300,
          280,
          221,
          260,
          259,
          303,
          188,
          122,
          113,
          105,
          118,
          163,
          180,
          236,
          237,
          232,
          234,
          231,
          233,
          260,
          234,
          283,
          296,
          226,
          267,
          299,
          266,
          259,
          303,
          283,
          199,
          158,
          116,
          98,
          123,
          140,
          140,
          226,
          204,
          213,
          223,
          219,
          233,
          240,
          248,
          233,
          226,
          217,
          202,
          266,
          256,
          280,
          244,
          232,
          184,
          171,
          149,
          101,
          63,
          78,
          93,
          112,
          141,
          148,
          173,
          186,
          184,
          227,
          229,
          220,
          258,
          232,
          190,
          172,
          192,
          213,
          205,
          187,
          162,
          171,
          116,
          112,
          63,
          72,
          60,
          79,
          126,
          142,
          146,
          159,
          199,
          202,
          198,
          213,
          201,
          242,
          189,
          147,
          162,
          161
         ]
        }
       ],
       "layout": {
        "font": {
         "size": 16
        },
        "template": {
         "data": {
          "bar": [
           {
            "error_x": {
             "color": "#2a3f5f"
            },
            "error_y": {
             "color": "#2a3f5f"
            },
            "marker": {
             "line": {
              "color": "#E5ECF6",
              "width": 0.5
             }
            },
            "type": "bar"
           }
          ],
          "barpolar": [
           {
            "marker": {
             "line": {
              "color": "#E5ECF6",
              "width": 0.5
             }
            },
            "type": "barpolar"
           }
          ],
          "carpet": [
           {
            "aaxis": {
             "endlinecolor": "#2a3f5f",
             "gridcolor": "white",
             "linecolor": "white",
             "minorgridcolor": "white",
             "startlinecolor": "#2a3f5f"
            },
            "baxis": {
             "endlinecolor": "#2a3f5f",
             "gridcolor": "white",
             "linecolor": "white",
             "minorgridcolor": "white",
             "startlinecolor": "#2a3f5f"
            },
            "type": "carpet"
           }
          ],
          "choropleth": [
           {
            "colorbar": {
             "outlinewidth": 0,
             "ticks": ""
            },
            "type": "choropleth"
           }
          ],
          "contour": [
           {
            "colorbar": {
             "outlinewidth": 0,
             "ticks": ""
            },
            "colorscale": [
             [
              0,
              "#0d0887"
             ],
             [
              0.1111111111111111,
              "#46039f"
             ],
             [
              0.2222222222222222,
              "#7201a8"
             ],
             [
              0.3333333333333333,
              "#9c179e"
             ],
             [
              0.4444444444444444,
              "#bd3786"
             ],
             [
              0.5555555555555556,
              "#d8576b"
             ],
             [
              0.6666666666666666,
              "#ed7953"
             ],
             [
              0.7777777777777778,
              "#fb9f3a"
             ],
             [
              0.8888888888888888,
              "#fdca26"
             ],
             [
              1,
              "#f0f921"
             ]
            ],
            "type": "contour"
           }
          ],
          "contourcarpet": [
           {
            "colorbar": {
             "outlinewidth": 0,
             "ticks": ""
            },
            "type": "contourcarpet"
           }
          ],
          "heatmap": [
           {
            "colorbar": {
             "outlinewidth": 0,
             "ticks": ""
            },
            "colorscale": [
             [
              0,
              "#0d0887"
             ],
             [
              0.1111111111111111,
              "#46039f"
             ],
             [
              0.2222222222222222,
              "#7201a8"
             ],
             [
              0.3333333333333333,
              "#9c179e"
             ],
             [
              0.4444444444444444,
              "#bd3786"
             ],
             [
              0.5555555555555556,
              "#d8576b"
             ],
             [
              0.6666666666666666,
              "#ed7953"
             ],
             [
              0.7777777777777778,
              "#fb9f3a"
             ],
             [
              0.8888888888888888,
              "#fdca26"
             ],
             [
              1,
              "#f0f921"
             ]
            ],
            "type": "heatmap"
           }
          ],
          "heatmapgl": [
           {
            "colorbar": {
             "outlinewidth": 0,
             "ticks": ""
            },
            "colorscale": [
             [
              0,
              "#0d0887"
             ],
             [
              0.1111111111111111,
              "#46039f"
             ],
             [
              0.2222222222222222,
              "#7201a8"
             ],
             [
              0.3333333333333333,
              "#9c179e"
             ],
             [
              0.4444444444444444,
              "#bd3786"
             ],
             [
              0.5555555555555556,
              "#d8576b"
             ],
             [
              0.6666666666666666,
              "#ed7953"
             ],
             [
              0.7777777777777778,
              "#fb9f3a"
             ],
             [
              0.8888888888888888,
              "#fdca26"
             ],
             [
              1,
              "#f0f921"
             ]
            ],
            "type": "heatmapgl"
           }
          ],
          "histogram": [
           {
            "marker": {
             "colorbar": {
              "outlinewidth": 0,
              "ticks": ""
             }
            },
            "type": "histogram"
           }
          ],
          "histogram2d": [
           {
            "colorbar": {
             "outlinewidth": 0,
             "ticks": ""
            },
            "colorscale": [
             [
              0,
              "#0d0887"
             ],
             [
              0.1111111111111111,
              "#46039f"
             ],
             [
              0.2222222222222222,
              "#7201a8"
             ],
             [
              0.3333333333333333,
              "#9c179e"
             ],
             [
              0.4444444444444444,
              "#bd3786"
             ],
             [
              0.5555555555555556,
              "#d8576b"
             ],
             [
              0.6666666666666666,
              "#ed7953"
             ],
             [
              0.7777777777777778,
              "#fb9f3a"
             ],
             [
              0.8888888888888888,
              "#fdca26"
             ],
             [
              1,
              "#f0f921"
             ]
            ],
            "type": "histogram2d"
           }
          ],
          "histogram2dcontour": [
           {
            "colorbar": {
             "outlinewidth": 0,
             "ticks": ""
            },
            "colorscale": [
             [
              0,
              "#0d0887"
             ],
             [
              0.1111111111111111,
              "#46039f"
             ],
             [
              0.2222222222222222,
              "#7201a8"
             ],
             [
              0.3333333333333333,
              "#9c179e"
             ],
             [
              0.4444444444444444,
              "#bd3786"
             ],
             [
              0.5555555555555556,
              "#d8576b"
             ],
             [
              0.6666666666666666,
              "#ed7953"
             ],
             [
              0.7777777777777778,
              "#fb9f3a"
             ],
             [
              0.8888888888888888,
              "#fdca26"
             ],
             [
              1,
              "#f0f921"
             ]
            ],
            "type": "histogram2dcontour"
           }
          ],
          "mesh3d": [
           {
            "colorbar": {
             "outlinewidth": 0,
             "ticks": ""
            },
            "type": "mesh3d"
           }
          ],
          "parcoords": [
           {
            "line": {
             "colorbar": {
              "outlinewidth": 0,
              "ticks": ""
             }
            },
            "type": "parcoords"
           }
          ],
          "pie": [
           {
            "automargin": true,
            "type": "pie"
           }
          ],
          "scatter": [
           {
            "marker": {
             "colorbar": {
              "outlinewidth": 0,
              "ticks": ""
             }
            },
            "type": "scatter"
           }
          ],
          "scatter3d": [
           {
            "line": {
             "colorbar": {
              "outlinewidth": 0,
              "ticks": ""
             }
            },
            "marker": {
             "colorbar": {
              "outlinewidth": 0,
              "ticks": ""
             }
            },
            "type": "scatter3d"
           }
          ],
          "scattercarpet": [
           {
            "marker": {
             "colorbar": {
              "outlinewidth": 0,
              "ticks": ""
             }
            },
            "type": "scattercarpet"
           }
          ],
          "scattergeo": [
           {
            "marker": {
             "colorbar": {
              "outlinewidth": 0,
              "ticks": ""
             }
            },
            "type": "scattergeo"
           }
          ],
          "scattergl": [
           {
            "marker": {
             "colorbar": {
              "outlinewidth": 0,
              "ticks": ""
             }
            },
            "type": "scattergl"
           }
          ],
          "scattermapbox": [
           {
            "marker": {
             "colorbar": {
              "outlinewidth": 0,
              "ticks": ""
             }
            },
            "type": "scattermapbox"
           }
          ],
          "scatterpolar": [
           {
            "marker": {
             "colorbar": {
              "outlinewidth": 0,
              "ticks": ""
             }
            },
            "type": "scatterpolar"
           }
          ],
          "scatterpolargl": [
           {
            "marker": {
             "colorbar": {
              "outlinewidth": 0,
              "ticks": ""
             }
            },
            "type": "scatterpolargl"
           }
          ],
          "scatterternary": [
           {
            "marker": {
             "colorbar": {
              "outlinewidth": 0,
              "ticks": ""
             }
            },
            "type": "scatterternary"
           }
          ],
          "surface": [
           {
            "colorbar": {
             "outlinewidth": 0,
             "ticks": ""
            },
            "colorscale": [
             [
              0,
              "#0d0887"
             ],
             [
              0.1111111111111111,
              "#46039f"
             ],
             [
              0.2222222222222222,
              "#7201a8"
             ],
             [
              0.3333333333333333,
              "#9c179e"
             ],
             [
              0.4444444444444444,
              "#bd3786"
             ],
             [
              0.5555555555555556,
              "#d8576b"
             ],
             [
              0.6666666666666666,
              "#ed7953"
             ],
             [
              0.7777777777777778,
              "#fb9f3a"
             ],
             [
              0.8888888888888888,
              "#fdca26"
             ],
             [
              1,
              "#f0f921"
             ]
            ],
            "type": "surface"
           }
          ],
          "table": [
           {
            "cells": {
             "fill": {
              "color": "#EBF0F8"
             },
             "line": {
              "color": "white"
             }
            },
            "header": {
             "fill": {
              "color": "#C8D4E3"
             },
             "line": {
              "color": "white"
             }
            },
            "type": "table"
           }
          ]
         },
         "layout": {
          "annotationdefaults": {
           "arrowcolor": "#2a3f5f",
           "arrowhead": 0,
           "arrowwidth": 1
          },
          "coloraxis": {
           "colorbar": {
            "outlinewidth": 0,
            "ticks": ""
           }
          },
          "colorscale": {
           "diverging": [
            [
             0,
             "#8e0152"
            ],
            [
             0.1,
             "#c51b7d"
            ],
            [
             0.2,
             "#de77ae"
            ],
            [
             0.3,
             "#f1b6da"
            ],
            [
             0.4,
             "#fde0ef"
            ],
            [
             0.5,
             "#f7f7f7"
            ],
            [
             0.6,
             "#e6f5d0"
            ],
            [
             0.7,
             "#b8e186"
            ],
            [
             0.8,
             "#7fbc41"
            ],
            [
             0.9,
             "#4d9221"
            ],
            [
             1,
             "#276419"
            ]
           ],
           "sequential": [
            [
             0,
             "#0d0887"
            ],
            [
             0.1111111111111111,
             "#46039f"
            ],
            [
             0.2222222222222222,
             "#7201a8"
            ],
            [
             0.3333333333333333,
             "#9c179e"
            ],
            [
             0.4444444444444444,
             "#bd3786"
            ],
            [
             0.5555555555555556,
             "#d8576b"
            ],
            [
             0.6666666666666666,
             "#ed7953"
            ],
            [
             0.7777777777777778,
             "#fb9f3a"
            ],
            [
             0.8888888888888888,
             "#fdca26"
            ],
            [
             1,
             "#f0f921"
            ]
           ],
           "sequentialminus": [
            [
             0,
             "#0d0887"
            ],
            [
             0.1111111111111111,
             "#46039f"
            ],
            [
             0.2222222222222222,
             "#7201a8"
            ],
            [
             0.3333333333333333,
             "#9c179e"
            ],
            [
             0.4444444444444444,
             "#bd3786"
            ],
            [
             0.5555555555555556,
             "#d8576b"
            ],
            [
             0.6666666666666666,
             "#ed7953"
            ],
            [
             0.7777777777777778,
             "#fb9f3a"
            ],
            [
             0.8888888888888888,
             "#fdca26"
            ],
            [
             1,
             "#f0f921"
            ]
           ]
          },
          "colorway": [
           "#636efa",
           "#EF553B",
           "#00cc96",
           "#ab63fa",
           "#FFA15A",
           "#19d3f3",
           "#FF6692",
           "#B6E880",
           "#FF97FF",
           "#FECB52"
          ],
          "font": {
           "color": "#2a3f5f"
          },
          "geo": {
           "bgcolor": "white",
           "lakecolor": "white",
           "landcolor": "#E5ECF6",
           "showlakes": true,
           "showland": true,
           "subunitcolor": "white"
          },
          "hoverlabel": {
           "align": "left"
          },
          "hovermode": "closest",
          "mapbox": {
           "style": "light"
          },
          "paper_bgcolor": "white",
          "plot_bgcolor": "#E5ECF6",
          "polar": {
           "angularaxis": {
            "gridcolor": "white",
            "linecolor": "white",
            "ticks": ""
           },
           "bgcolor": "#E5ECF6",
           "radialaxis": {
            "gridcolor": "white",
            "linecolor": "white",
            "ticks": ""
           }
          },
          "scene": {
           "xaxis": {
            "backgroundcolor": "#E5ECF6",
            "gridcolor": "white",
            "gridwidth": 2,
            "linecolor": "white",
            "showbackground": true,
            "ticks": "",
            "zerolinecolor": "white"
           },
           "yaxis": {
            "backgroundcolor": "#E5ECF6",
            "gridcolor": "white",
            "gridwidth": 2,
            "linecolor": "white",
            "showbackground": true,
            "ticks": "",
            "zerolinecolor": "white"
           },
           "zaxis": {
            "backgroundcolor": "#E5ECF6",
            "gridcolor": "white",
            "gridwidth": 2,
            "linecolor": "white",
            "showbackground": true,
            "ticks": "",
            "zerolinecolor": "white"
           }
          },
          "shapedefaults": {
           "line": {
            "color": "#2a3f5f"
           }
          },
          "ternary": {
           "aaxis": {
            "gridcolor": "white",
            "linecolor": "white",
            "ticks": ""
           },
           "baxis": {
            "gridcolor": "white",
            "linecolor": "white",
            "ticks": ""
           },
           "bgcolor": "#E5ECF6",
           "caxis": {
            "gridcolor": "white",
            "linecolor": "white",
            "ticks": ""
           }
          },
          "title": {
           "x": 0.05
          },
          "xaxis": {
           "automargin": true,
           "gridcolor": "white",
           "linecolor": "white",
           "ticks": "",
           "title": {
            "standoff": 15
           },
           "zerolinecolor": "white",
           "zerolinewidth": 2
          },
          "yaxis": {
           "automargin": true,
           "gridcolor": "white",
           "linecolor": "white",
           "ticks": "",
           "title": {
            "standoff": 15
           },
           "zerolinecolor": "white",
           "zerolinewidth": 2
          }
         }
        },
        "title": {
         "text": "Timeseries of sensor N00/002e1"
        },
        "xaxis": {
         "title": {
          "text": "Datetime"
         }
        },
        "yaxis": {
         "title": {
          "text": "# of vechicles per hour"
         }
        }
       }
      }
     },
     "metadata": {}
    }
   ],
   "source": [
    "scoot_id = 0\n",
    "sensor_df = scoot_individual_df_arr[scoot_id]\n",
    "\n",
    "fig = go.Figure()\n",
    "\n",
    "fig.add_trace(go.Scatter(x=sensor_df['measurement_start_utc'], y=sensor_df['n_vehicles_in_interval'],\n",
    "                    mode='lines+markers',\n",
    "                    name='lines+markers')\n",
    ")\n",
    "\n",
    "fig.update_layout(title='Timeseries of sensor {scoot_id}'.format(scoot_id=scoot_ids[scoot_id]),\n",
    "                xaxis_title=\"Datetime\",\n",
    "                yaxis_title=\"# of vechicles per hour\",\n",
    "                font=dict(\n",
    "                    size=16)\n",
    ")\n",
    "\n",
    "fig.show()"
   ]
  },
  {
   "cell_type": "markdown",
   "metadata": {},
   "source": [
    "# Fit LGCP model for each sensor"
   ]
  },
  {
   "cell_type": "code",
   "execution_count": 27,
   "metadata": {},
   "outputs": [],
   "source": [
    "## Set random seed\n",
    "gpflow.config.set_default_float(np.float64)\n",
    "np.random.seed(0)\n",
    "tf.random.set_seed(0)"
   ]
  },
  {
   "cell_type": "code",
   "execution_count": 28,
   "metadata": {},
   "outputs": [],
   "source": [
    "## Optimization functions - train the model for the given epochs\n",
    "optimizer = tf.keras.optimizers.Adam(0.001)\n",
    "def optimization_step(model: gpflow.models.SVGP, X, Y):\n",
    "    with tf.GradientTape(watch_accessed_variables=False) as tape:\n",
    "        tape.watch(model.trainable_variables)\n",
    "        obj = -model.elbo(X, Y)\n",
    "        grads = tape.gradient(obj, model.trainable_variables)\n",
    "    optimizer.apply_gradients(zip(grads, model.trainable_variables))\n",
    "    \n",
    "def simple_training_loop(X, Y, model: gpflow.models.SVGP, epochs: int = 1, logging_epoch_freq: int = 10, num_batches_per_epoch: int = 10):\n",
    "    tf_optimization_step = tf.function(optimization_step)\n",
    "    for epoch in range(epochs):\n",
    "        for _ in range(num_batches_per_epoch):\n",
    "            tf_optimization_step(model, X, Y)\n",
    "\n",
    "        epoch_id = epoch + 1\n",
    "        if epoch_id % logging_epoch_freq == 0:\n",
    "            tf.print(f\"Epoch {epoch_id}: ELBO (train) {model.elbo(X,Y)}\")\n",
    ""
   ]
  },
  {
   "cell_type": "code",
   "execution_count": 33,
   "metadata": {},
   "outputs": [],
   "source": [
    "## Given the data and the specific sensor this function optimise the ELBO and plot the results \n",
    "def train_sensor_model(scoot_id, X_arr, Y_arr, kernelsettings, epochs = 100, logging_epoch_freq = 10, plot=True):\n",
    "    \n",
    "    ## To remove newaxis when more features\n",
    "    num_features = X_arr[scoot_id][:,0][:,np.newaxis].shape[0]\n",
    "    \n",
    "    X = tf.convert_to_tensor(X_arr[scoot_id][:,0][:,np.newaxis])\n",
    "    Y = tf.convert_to_tensor(Y_arr[scoot_id].astype(np.float64))\n",
    "    \n",
    "    ## To pass it as a function arg\n",
    "    k = choose_kernel(kernelsettings)\n",
    "#     k = gpflow.kernels.RBF() * gpflow.kernels.Periodic(0.1)\n",
    "    \n",
    "    lik = gpflow.likelihoods.Poisson()\n",
    "    \n",
    "    ## Add code for inducing inputs - Needed when we run on the full data\n",
    "    model = gpflow.models.SVGP(kernel = k, likelihood=lik, inducing_variable=X)\n",
    "    \n",
    "    ## Uncomment to see which variables are training and those that are not\n",
    "    #print_summary(model)\n",
    "    \n",
    "    simple_training_loop(X, Y, model, epochs = epochs, \n",
    "                         logging_epoch_freq = logging_epoch_freq)\n",
    "\n",
    "    return model,X"
   ]
  },
  {
   "cell_type": "code",
   "execution_count": 34,
   "metadata": {},
   "outputs": [],
   "source": [
    "# THIS IS BUGGY\n",
    "## Computes percentage cover (see Virginia's pdf for details)\n",
    "def percentage_coverage(model,test_inputs,Ytest,quantile:int = 0.95, num_samples:int = 10,num_pertubations: int = 100):\n",
    "    # Number of times total counts were within 90th percentile\n",
    "    coverage_events = 0\n",
    "    \n",
    "    # Loop over pertubations\n",
    "    for i in range(num_pertubations):\n",
    "\n",
    "        # Change seed\n",
    "        np.random.seed(i)\n",
    "        \n",
    "        # Sample from latent function (intensity)\n",
    "        intensity_sample = np.exp(model.predict_f_samples(test_inputs,num_samples))\n",
    "        # Compute emprical distribution of counts\n",
    "        empirical_count_distribution = np.random.poisson(intensity_sample)\n",
    "        \n",
    "        # Total number of actual counts\n",
    "        total_counts = np.sum(Ytest)\n",
    "       \n",
    "        # Compute upper and lower quantiles from the empirical distribution of counts\n",
    "        upper_q = np.quantile(np.sum(samples[:,:,0],axis=1),quantile)\n",
    "        lower_q = np.quantile(np.sum(samples[:,:,0],axis=1),1-quantile)\n",
    "    \n",
    "        # Add 1 - if total counts are within quantile, 0 - otherwise\n",
    "        coverage_events += int((total_counts < upper_q) & (total_counts > lower_q))\n",
    "        binary = int((total_counts < upper_q) & (total_counts > lower_q)) # this is kept for debugging (remove afterwards)\n",
    "\n",
    "    return empirical_count_distribution, binary, total_counts, upper_q, lower_q # this is kept for debugging (remove afterwards)\n",
    "    return coverage_events/num_pertubations # this should be the output after debugging\n",
    "\n",
    ""
   ]
  },
  {
   "cell_type": "markdown",
   "metadata": {},
   "source": [
    "# Run entire training routine"
   ]
  },
  {
   "cell_type": "code",
   "execution_count": 35,
   "metadata": {},
   "outputs": [],
   "source": [
    "epochs = 10\n",
    "logging_epoch_freq = 100"
   ]
  },
  {
   "cell_type": "code",
   "execution_count": 36,
   "metadata": {},
   "outputs": [
    {
     "output_type": "stream",
     "name": "stdout",
     "text": "Using product of periodic and rbf kernels\nHyperparameters of periodic\n{'period': 0.1}\nHyperparameters of rbf\n{}\nWARNING:tensorflow:AutoGraph could not transform <bound method Poisson.variational_expectations of <gpflow.likelihoods.likelihoods.Poisson object at 0x7fc7a3736dd0>> and will run it as-is.\nPlease report this to the TensorFlow team. When filing the bug, set the verbosity to 10 (on Linux, `export AUTOGRAPH_VERBOSITY=10`) and attach the full output.\nCause: expected exactly one node node, found [<gast.gast.FunctionDef object at 0x7fc7c23a4650>, <gast.gast.Return object at 0x7fc7c23a4c90>]\n2020-03-31 18:12:23 WARNING: AutoGraph could not transform <bound method Poisson.variational_expectations of <gpflow.likelihoods.likelihoods.Poisson object at 0x7fc7a3736dd0>> and will run it as-is.\nPlease report this to the TensorFlow team. When filing the bug, set the verbosity to 10 (on Linux, `export AUTOGRAPH_VERBOSITY=10`) and attach the full output.\nCause: expected exactly one node node, found [<gast.gast.FunctionDef object at 0x7fc7c23a4650>, <gast.gast.Return object at 0x7fc7c23a4c90>]\nWARNING: AutoGraph could not transform <bound method Poisson.variational_expectations of <gpflow.likelihoods.likelihoods.Poisson object at 0x7fc7a3736dd0>> and will run it as-is.\nPlease report this to the TensorFlow team. When filing the bug, set the verbosity to 10 (on Linux, `export AUTOGRAPH_VERBOSITY=10`) and attach the full output.\nCause: expected exactly one node node, found [<gast.gast.FunctionDef object at 0x7fc7c23a4650>, <gast.gast.Return object at 0x7fc7c23a4c90>]\nWARNING:tensorflow:AutoGraph could not transform <bound method Poisson.variational_expectations of <gpflow.likelihoods.likelihoods.Poisson object at 0x7fc7a3736dd0>> and will run it as-is.\nPlease report this to the TensorFlow team. When filing the bug, set the verbosity to 10 (on Linux, `export AUTOGRAPH_VERBOSITY=10`) and attach the full output.\nCause: expected exactly one node node, found [<gast.gast.FunctionDef object at 0x7fc7d4367f10>, <gast.gast.Return object at 0x7fc7d4367f90>]\n2020-03-31 18:12:23 WARNING: AutoGraph could not transform <bound method Poisson.variational_expectations of <gpflow.likelihoods.likelihoods.Poisson object at 0x7fc7a3736dd0>> and will run it as-is.\nPlease report this to the TensorFlow team. When filing the bug, set the verbosity to 10 (on Linux, `export AUTOGRAPH_VERBOSITY=10`) and attach the full output.\nCause: expected exactly one node node, found [<gast.gast.FunctionDef object at 0x7fc7d4367f10>, <gast.gast.Return object at 0x7fc7d4367f90>]\nWARNING: AutoGraph could not transform <bound method Poisson.variational_expectations of <gpflow.likelihoods.likelihoods.Poisson object at 0x7fc7a3736dd0>> and will run it as-is.\nPlease report this to the TensorFlow team. When filing the bug, set the verbosity to 10 (on Linux, `export AUTOGRAPH_VERBOSITY=10`) and attach the full output.\nCause: expected exactly one node node, found [<gast.gast.FunctionDef object at 0x7fc7d4367f10>, <gast.gast.Return object at 0x7fc7d4367f90>]\n"
    }
   ],
   "source": [
    "model0,Xtest0 = train_sensor_model(0, X_arr, Y_arr, kernel_settings, epochs, logging_epoch_freq)"
   ]
  },
  {
   "cell_type": "code",
   "execution_count": 35,
   "metadata": {},
   "outputs": [],
   "source": [
    "# model1,Xtest1 = train_sensor_model(1, X_arr, Y_arr, kernel_settings, epochs, logging_epoch_freq)"
   ]
  },
  {
   "cell_type": "code",
   "execution_count": 38,
   "metadata": {},
   "outputs": [
    {
     "output_type": "display_data",
     "data": {
      "application/vnd.plotly.v1+json": {
       "config": {
        "plotlyServerURL": "https://plot.ly"
       },
       "data": [
        {
         "line": {
          "width": 0
         },
         "marker": {
          "color": "#444"
         },
         "mode": "lines",
         "name": "$Counts \\mu-2\\sigma$",
         "showlegend": false,
         "type": "scatter",
         "x": [
          "2020-02-10T00:00:00",
          "2020-02-10T01:00:00",
          "2020-02-10T02:00:00",
          "2020-02-10T03:00:00",
          "2020-02-10T04:00:00",
          "2020-02-10T05:00:00",
          "2020-02-10T06:00:00",
          "2020-02-10T07:00:00",
          "2020-02-10T08:00:00",
          "2020-02-10T09:00:00",
          "2020-02-10T10:00:00",
          "2020-02-10T11:00:00",
          "2020-02-10T12:00:00",
          "2020-02-10T13:00:00",
          "2020-02-10T14:00:00",
          "2020-02-10T15:00:00",
          "2020-02-10T16:00:00",
          "2020-02-10T17:00:00",
          "2020-02-10T18:00:00",
          "2020-02-10T19:00:00",
          "2020-02-10T20:00:00",
          "2020-02-10T21:00:00",
          "2020-02-10T22:00:00",
          "2020-02-10T23:00:00",
          "2020-02-11T00:00:00",
          "2020-02-11T01:00:00",
          "2020-02-11T02:00:00",
          "2020-02-11T03:00:00",
          "2020-02-11T04:00:00",
          "2020-02-11T05:00:00",
          "2020-02-11T06:00:00",
          "2020-02-11T07:00:00",
          "2020-02-11T08:00:00",
          "2020-02-11T09:00:00",
          "2020-02-11T10:00:00",
          "2020-02-11T11:00:00",
          "2020-02-11T12:00:00",
          "2020-02-11T13:00:00",
          "2020-02-11T14:00:00",
          "2020-02-11T15:00:00",
          "2020-02-11T16:00:00",
          "2020-02-11T17:00:00",
          "2020-02-11T18:00:00",
          "2020-02-11T19:00:00",
          "2020-02-11T20:00:00",
          "2020-02-11T21:00:00",
          "2020-02-11T22:00:00",
          "2020-02-11T23:00:00",
          "2020-02-12T00:00:00",
          "2020-02-12T01:00:00",
          "2020-02-12T02:00:00",
          "2020-02-12T03:00:00",
          "2020-02-12T04:00:00",
          "2020-02-12T05:00:00",
          "2020-02-12T06:00:00",
          "2020-02-12T07:00:00",
          "2020-02-12T08:00:00",
          "2020-02-12T09:00:00",
          "2020-02-12T10:00:00",
          "2020-02-12T11:00:00",
          "2020-02-12T12:00:00",
          "2020-02-12T13:00:00",
          "2020-02-12T14:00:00",
          "2020-02-12T15:00:00",
          "2020-02-12T16:00:00",
          "2020-02-12T17:00:00",
          "2020-02-12T18:00:00",
          "2020-02-12T19:00:00",
          "2020-02-12T20:00:00",
          "2020-02-12T21:00:00",
          "2020-02-12T22:00:00",
          "2020-02-12T23:00:00",
          "2020-02-13T00:00:00",
          "2020-02-13T01:00:00",
          "2020-02-13T02:00:00",
          "2020-02-13T03:00:00",
          "2020-02-13T04:00:00",
          "2020-02-13T05:00:00",
          "2020-02-13T06:00:00",
          "2020-02-13T07:00:00",
          "2020-02-13T08:00:00",
          "2020-02-13T09:00:00",
          "2020-02-13T10:00:00",
          "2020-02-13T11:00:00",
          "2020-02-13T12:00:00",
          "2020-02-13T13:00:00",
          "2020-02-13T14:00:00",
          "2020-02-13T15:00:00",
          "2020-02-13T16:00:00",
          "2020-02-13T17:00:00",
          "2020-02-13T18:00:00",
          "2020-02-13T19:00:00",
          "2020-02-13T20:00:00",
          "2020-02-13T21:00:00",
          "2020-02-13T22:00:00",
          "2020-02-13T23:00:00",
          "2020-02-14T00:00:00",
          "2020-02-14T01:00:00",
          "2020-02-14T02:00:00",
          "2020-02-14T03:00:00",
          "2020-02-14T04:00:00",
          "2020-02-14T05:00:00",
          "2020-02-14T06:00:00",
          "2020-02-14T07:00:00",
          "2020-02-14T08:00:00",
          "2020-02-14T09:00:00",
          "2020-02-14T10:00:00",
          "2020-02-14T11:00:00",
          "2020-02-14T12:00:00",
          "2020-02-14T13:00:00",
          "2020-02-14T14:00:00",
          "2020-02-14T15:00:00",
          "2020-02-14T16:00:00",
          "2020-02-14T17:00:00",
          "2020-02-14T18:00:00",
          "2020-02-14T19:00:00",
          "2020-02-14T20:00:00",
          "2020-02-14T21:00:00",
          "2020-02-14T22:00:00",
          "2020-02-14T23:00:00",
          "2020-02-15T00:00:00",
          "2020-02-15T01:00:00",
          "2020-02-15T02:00:00",
          "2020-02-15T03:00:00",
          "2020-02-15T04:00:00",
          "2020-02-15T05:00:00",
          "2020-02-15T06:00:00",
          "2020-02-15T07:00:00",
          "2020-02-15T08:00:00",
          "2020-02-15T09:00:00",
          "2020-02-15T10:00:00",
          "2020-02-15T11:00:00",
          "2020-02-15T12:00:00",
          "2020-02-15T13:00:00",
          "2020-02-15T14:00:00",
          "2020-02-15T15:00:00",
          "2020-02-15T16:00:00",
          "2020-02-15T17:00:00",
          "2020-02-15T18:00:00",
          "2020-02-15T19:00:00",
          "2020-02-15T20:00:00",
          "2020-02-15T21:00:00",
          "2020-02-15T22:00:00",
          "2020-02-15T23:00:00",
          "2020-02-16T00:00:00",
          "2020-02-16T01:00:00",
          "2020-02-16T02:00:00",
          "2020-02-16T03:00:00",
          "2020-02-16T04:00:00",
          "2020-02-16T05:00:00",
          "2020-02-16T06:00:00",
          "2020-02-16T07:00:00",
          "2020-02-16T08:00:00",
          "2020-02-16T09:00:00",
          "2020-02-16T10:00:00",
          "2020-02-16T11:00:00",
          "2020-02-16T12:00:00",
          "2020-02-16T13:00:00",
          "2020-02-16T14:00:00",
          "2020-02-16T15:00:00",
          "2020-02-16T16:00:00",
          "2020-02-16T17:00:00",
          "2020-02-16T18:00:00",
          "2020-02-16T19:00:00",
          "2020-02-16T20:00:00",
          "2020-02-16T21:00:00",
          "2020-02-16T22:00:00"
         ],
         "y": [
          -2.2071733030625027,
          -2.115842917448078,
          -2.1650675149924528,
          -2.192941568292733,
          -2.509878396388813,
          -2.1774038639982356,
          -2.1146343858620824,
          -2.34439223826148,
          -1.8728962732050167,
          -1.9644599945996366,
          -1.9454668924238376,
          -1.7415107330887554,
          -2.0207091496912,
          -2.1530232721598295,
          -2.2417802892061083,
          -2.2433962805767598,
          -2.6454717199824835,
          -2.27820673404107,
          -2.3931299324091353,
          -2.278107775343509,
          -1.9200595793254296,
          -2.1679664803488667,
          -1.730328327284178,
          -1.563817483304895,
          -1.8153785461262375,
          -1.6918730761958125,
          -1.6794805576713996,
          -1.7647683741481606,
          -1.9003472237536014,
          -2.0316017149498684,
          -1.543940189316451,
          -1.387721786346666,
          -1.07523725711378,
          -1.230163190460969,
          -1.3371106960598191,
          -1.2848566358451063,
          -1.657650260228777,
          -1.7981211075090315,
          -2.1739451869147337,
          -1.9850524831238618,
          -1.9044753579593579,
          -1.8636554383597383,
          -1.5188887849495991,
          -1.7298182931534125,
          -1.293673809767494,
          -1.0670071731291761,
          -0.5758641730180223,
          -0.6554427255940398,
          -0.401261089045029,
          -0.7251513493059809,
          -0.48940255155492274,
          -0.7023935880379018,
          -0.47614643442863613,
          -0.8313040551738178,
          -0.5295516796294581,
          -0.16892768848181028,
          -0.23214200031890453,
          -0.31851853597638957,
          -0.641061112597713,
          -0.8549508104502106,
          -1.0347369782536733,
          -0.9746295750893825,
          -1.1739178467394753,
          -1.0780102582948077,
          -0.9577804845034912,
          -0.9681131898524766,
          -0.18430546857241126,
          -0.1191822107977627,
          0.7395627810366152,
          0.4955529066799187,
          1.3061112200273879,
          1.2642064630604928,
          1.8125842827152336,
          1.7335460335480946,
          1.7382723798470252,
          1.9569981684983535,
          1.6648735831746997,
          1.8031349866591437,
          1.4683972067843438,
          1.7204208527753604,
          1.455392444287991,
          1.1285104764074436,
          0.8615181105737229,
          0.9701769931888871,
          0.4155256391889868,
          0.6708270635251523,
          0.8371985404042768,
          0.6547935285634523,
          1.25884992276651,
          1.179679506172798,
          2.8435318920358963,
          2.7652670427520256,
          4.874088771097071,
          4.954150275847207,
          5.775203728082245,
          6.0726275093462725,
          6.6676924705269265,
          6.595307867163321,
          6.600110578271366,
          6.41827739412888,
          6.198511090189374,
          6.373294111142744,
          5.7627977953014575,
          5.539109870438374,
          4.921933969490924,
          4.824728107826013,
          3.9649588430834903,
          3.8547040620051103,
          3.5166861712669437,
          3.7735033905469457,
          4.397590566719886,
          4.444195802060692,
          6.769512965986586,
          6.249265805398007,
          10.07216640358985,
          9.800353611210797,
          12.743820400181477,
          13.590143774372443,
          15.766884731478957,
          15.963344326308043,
          18.08916023077346,
          17.144696047775707,
          16.79375546236346,
          16.36812856192182,
          14.844387310897336,
          15.769474361233383,
          13.276800319936019,
          13.248118402010842,
          10.972021945881519,
          11.462285930693515,
          11.327514902832664,
          11.138682333362885,
          12.219250975817621,
          11.886512880000204,
          13.39354842849625,
          14.113859266715217,
          18.849844398968138,
          18.290187468801864,
          24.731740788394706,
          25.428895958412387,
          31.766898217737882,
          30.161983654761023,
          35.754924117274086,
          37.052052014463214,
          37.127671204991906,
          36.42493655720628,
          34.69291733908957,
          35.546761220487056,
          31.325921770783726,
          31.303240127063265,
          26.49139669891284,
          27.42501047326952,
          25.16983654565375,
          25.420722209291213,
          25.243628355567132,
          25.206692924696736,
          28.01919770583148,
          27.74044313013394,
          33.28977641264935,
          33.101342587920264,
          42.118649860320204,
          42.49142603578086,
          54.24251711794465,
          53.970327405865525,
          65.28362158871359,
          65.46430834686657,
          73.17881765891568,
          73.63489050861985,
          72.57736957779193,
          71.8993698353128,
          66.65638325907737,
          66.62140539137332,
          59.347433066017544,
          58.62788395006564,
          52.562916681584326,
          52.79302830584026,
          49.99329521641748,
          50.39702774219585,
          52.020489854967394,
          53.00989542852487,
          58.00305524762274,
          59.58927336054965,
          68.43724308150485,
          68.59773862735557,
          84.48427272484096,
          84.97333659573542,
          102.81162540787956,
          102.13372343145232,
          119.28553887681258,
          119.17507625768388,
          126.70424758385347,
          126.84595389312965,
          121.92352002273226,
          121.76937182961152,
          112.11449329710753,
          111.65698197173438,
          100.88970803841471,
          99.18317481527251,
          88.5679634506672,
          88.84455643374507,
          87.76860603742043,
          85.96950663659004,
          93.18306569416086,
          92.9804373838093,
          101.78879336466113,
          101.9109249417858,
          115.3289300677632,
          117.40644393607046,
          133.6707867065702,
          136.1317921069512,
          159.8630861672725,
          160.23214429339092,
          179.5540395590067,
          180.17659387910425,
          184.35810045839418,
          183.2788704748932,
          172.53398859760284,
          174.337089620237,
          159.82948550278718,
          157.0705560304172,
          138.91753185862086,
          140.9961901971035,
          126.9619177581951,
          126.28631719200543,
          126.16166860236953,
          125.06507061141622,
          129.03658615524998,
          129.57973458490733,
          142.36742672346668,
          143.10294910821264,
          156.8018468480946,
          157.8750161465174,
          173.52476281102565,
          172.00407619051333,
          198.3688841520974,
          198.853785700365,
          212.83186711278063,
          214.59540830183306,
          213.75818775405105,
          211.48914316927068,
          203.2849484195388,
          202.44563634300516,
          184.13516050494314,
          184.28093724699266,
          162.52451908687726,
          163.33328685113202,
          148.81302302433556,
          149.18909403141873,
          142.86878824298935,
          141.3716570470345,
          145.21784408573177,
          144.3999986334777,
          156.27362677430693,
          155.0332125596271,
          165.94850821924902,
          166.6900996164455,
          177.80745040341566,
          178.7123640094526,
          197.2514637131867,
          200.26676014044463,
          207.36649489498984,
          208.01781554657566,
          201.4539339092158,
          202.50383758005302,
          195.65297073132606,
          193.5245589788212,
          174.78278707839036,
          174.90593591657188,
          154.04928770912954,
          153.1835948028725,
          139.2683367054846,
          140.46160808938976,
          132.13508899048287,
          133.26101805629176,
          134.1198712568783,
          136.12964176399686,
          141.46391131001175,
          142.63465135353113,
          144.5008221369221,
          145.37875471197003,
          149.48876661186767,
          149.5810360824822,
          158.7026430174382,
          158.875648128165,
          161.14655924041546,
          157.66233604126057,
          157.96010440497668,
          157.71921079656215,
          148.5134925528045,
          148.3637504605302,
          132.3016744963487,
          133.61245022548076,
          119.39813366189823,
          119.87955303446687,
          109.34359951577471,
          109.97018866890285,
          104.32218369462919,
          105.05542453678979,
          104.47376970111877,
          105.6326625986112,
          102.93837126498795,
          104.44738548722768,
          98.58537268203804,
          98.77462810867863,
          99.88128690337693,
          97.86490551136811,
          98.9861937894959,
          97.49860602335815,
          95.36408294962777,
          96.96928613562956,
          94.21013098276472,
          94.49161585188494,
          85.45112487691792,
          85.3624218625773,
          76.68640993978887,
          76.3114166923676,
          71.358808043108,
          71.32583326302115,
          68.32062185969085,
          68.38750523951502,
          65.9995304345835,
          65.89429512101327,
          61.44446878716132,
          60.44291281085965,
          52.2022715354532,
          52.21116878111122,
          45.35002906755321,
          47.94574013615778,
          41.00164751614365,
          42.56834843002915,
          40.41204690195856,
          40.09993087827047,
          36.96399921030586,
          38.209075153691444
         ]
        },
        {
         "fill": "tonexty",
         "fillcolor": "rgba(255,0,0,0.3)",
         "line": {
          "color": "rgb(255, 0, 0)"
         },
         "mode": "lines",
         "name": "Count predictions",
         "type": "scatter",
         "x": [
          "2020-02-10T00:00:00",
          "2020-02-10T01:00:00",
          "2020-02-10T02:00:00",
          "2020-02-10T03:00:00",
          "2020-02-10T04:00:00",
          "2020-02-10T05:00:00",
          "2020-02-10T06:00:00",
          "2020-02-10T07:00:00",
          "2020-02-10T08:00:00",
          "2020-02-10T09:00:00",
          "2020-02-10T10:00:00",
          "2020-02-10T11:00:00",
          "2020-02-10T12:00:00",
          "2020-02-10T13:00:00",
          "2020-02-10T14:00:00",
          "2020-02-10T15:00:00",
          "2020-02-10T16:00:00",
          "2020-02-10T17:00:00",
          "2020-02-10T18:00:00",
          "2020-02-10T19:00:00",
          "2020-02-10T20:00:00",
          "2020-02-10T21:00:00",
          "2020-02-10T22:00:00",
          "2020-02-10T23:00:00",
          "2020-02-11T00:00:00",
          "2020-02-11T01:00:00",
          "2020-02-11T02:00:00",
          "2020-02-11T03:00:00",
          "2020-02-11T04:00:00",
          "2020-02-11T05:00:00",
          "2020-02-11T06:00:00",
          "2020-02-11T07:00:00",
          "2020-02-11T08:00:00",
          "2020-02-11T09:00:00",
          "2020-02-11T10:00:00",
          "2020-02-11T11:00:00",
          "2020-02-11T12:00:00",
          "2020-02-11T13:00:00",
          "2020-02-11T14:00:00",
          "2020-02-11T15:00:00",
          "2020-02-11T16:00:00",
          "2020-02-11T17:00:00",
          "2020-02-11T18:00:00",
          "2020-02-11T19:00:00",
          "2020-02-11T20:00:00",
          "2020-02-11T21:00:00",
          "2020-02-11T22:00:00",
          "2020-02-11T23:00:00",
          "2020-02-12T00:00:00",
          "2020-02-12T01:00:00",
          "2020-02-12T02:00:00",
          "2020-02-12T03:00:00",
          "2020-02-12T04:00:00",
          "2020-02-12T05:00:00",
          "2020-02-12T06:00:00",
          "2020-02-12T07:00:00",
          "2020-02-12T08:00:00",
          "2020-02-12T09:00:00",
          "2020-02-12T10:00:00",
          "2020-02-12T11:00:00",
          "2020-02-12T12:00:00",
          "2020-02-12T13:00:00",
          "2020-02-12T14:00:00",
          "2020-02-12T15:00:00",
          "2020-02-12T16:00:00",
          "2020-02-12T17:00:00",
          "2020-02-12T18:00:00",
          "2020-02-12T19:00:00",
          "2020-02-12T20:00:00",
          "2020-02-12T21:00:00",
          "2020-02-12T22:00:00",
          "2020-02-12T23:00:00",
          "2020-02-13T00:00:00",
          "2020-02-13T01:00:00",
          "2020-02-13T02:00:00",
          "2020-02-13T03:00:00",
          "2020-02-13T04:00:00",
          "2020-02-13T05:00:00",
          "2020-02-13T06:00:00",
          "2020-02-13T07:00:00",
          "2020-02-13T08:00:00",
          "2020-02-13T09:00:00",
          "2020-02-13T10:00:00",
          "2020-02-13T11:00:00",
          "2020-02-13T12:00:00",
          "2020-02-13T13:00:00",
          "2020-02-13T14:00:00",
          "2020-02-13T15:00:00",
          "2020-02-13T16:00:00",
          "2020-02-13T17:00:00",
          "2020-02-13T18:00:00",
          "2020-02-13T19:00:00",
          "2020-02-13T20:00:00",
          "2020-02-13T21:00:00",
          "2020-02-13T22:00:00",
          "2020-02-13T23:00:00",
          "2020-02-14T00:00:00",
          "2020-02-14T01:00:00",
          "2020-02-14T02:00:00",
          "2020-02-14T03:00:00",
          "2020-02-14T04:00:00",
          "2020-02-14T05:00:00",
          "2020-02-14T06:00:00",
          "2020-02-14T07:00:00",
          "2020-02-14T08:00:00",
          "2020-02-14T09:00:00",
          "2020-02-14T10:00:00",
          "2020-02-14T11:00:00",
          "2020-02-14T12:00:00",
          "2020-02-14T13:00:00",
          "2020-02-14T14:00:00",
          "2020-02-14T15:00:00",
          "2020-02-14T16:00:00",
          "2020-02-14T17:00:00",
          "2020-02-14T18:00:00",
          "2020-02-14T19:00:00",
          "2020-02-14T20:00:00",
          "2020-02-14T21:00:00",
          "2020-02-14T22:00:00",
          "2020-02-14T23:00:00",
          "2020-02-15T00:00:00",
          "2020-02-15T01:00:00",
          "2020-02-15T02:00:00",
          "2020-02-15T03:00:00",
          "2020-02-15T04:00:00",
          "2020-02-15T05:00:00",
          "2020-02-15T06:00:00",
          "2020-02-15T07:00:00",
          "2020-02-15T08:00:00",
          "2020-02-15T09:00:00",
          "2020-02-15T10:00:00",
          "2020-02-15T11:00:00",
          "2020-02-15T12:00:00",
          "2020-02-15T13:00:00",
          "2020-02-15T14:00:00",
          "2020-02-15T15:00:00",
          "2020-02-15T16:00:00",
          "2020-02-15T17:00:00",
          "2020-02-15T18:00:00",
          "2020-02-15T19:00:00",
          "2020-02-15T20:00:00",
          "2020-02-15T21:00:00",
          "2020-02-15T22:00:00",
          "2020-02-15T23:00:00",
          "2020-02-16T00:00:00",
          "2020-02-16T01:00:00",
          "2020-02-16T02:00:00",
          "2020-02-16T03:00:00",
          "2020-02-16T04:00:00",
          "2020-02-16T05:00:00",
          "2020-02-16T06:00:00",
          "2020-02-16T07:00:00",
          "2020-02-16T08:00:00",
          "2020-02-16T09:00:00",
          "2020-02-16T10:00:00",
          "2020-02-16T11:00:00",
          "2020-02-16T12:00:00",
          "2020-02-16T13:00:00",
          "2020-02-16T14:00:00",
          "2020-02-16T15:00:00",
          "2020-02-16T16:00:00",
          "2020-02-16T17:00:00",
          "2020-02-16T18:00:00",
          "2020-02-16T19:00:00",
          "2020-02-16T20:00:00",
          "2020-02-16T21:00:00",
          "2020-02-16T22:00:00"
         ],
         "y": [
          2.914,
          2.891,
          3.019,
          2.907,
          3.082,
          2.952,
          2.952,
          2.974,
          2.851,
          2.813,
          2.74,
          2.719,
          2.827,
          2.81,
          2.792,
          2.752,
          3.052,
          2.946,
          3.206,
          3.303,
          3.409,
          3.56,
          3.874,
          3.926,
          4.122,
          4.095,
          4.139,
          4.193,
          4.083,
          4.161,
          3.94,
          4.054,
          3.93,
          3.856,
          3.898,
          3.807,
          3.679,
          3.631,
          3.81,
          3.874,
          4.066,
          4.331,
          4.42,
          4.654,
          5.115,
          5.067,
          5.844,
          5.737,
          6.179,
          6.196,
          6.377,
          6.375,
          6.23,
          6.161,
          5.989,
          6.144,
          5.782,
          5.771,
          5.577,
          5.498,
          5.476,
          5.376,
          5.673,
          5.697,
          6.34,
          6.325,
          7.378,
          7.364,
          8.419,
          8.512,
          9.524,
          9.607,
          10.155,
          10.469,
          10.397,
          10.42,
          10.129,
          10.115,
          9.853,
          9.704,
          9.227,
          9.063,
          8.93,
          8.654,
          8.962,
          8.856,
          9.319,
          9.506,
          10.824,
          10.634,
          12.944,
          12.698,
          15.311,
          15.508,
          17.261,
          17.508,
          18.296,
          18.524,
          18.266,
          18.192,
          17.481,
          17.811,
          16.821,
          16.684,
          15.667,
          15.592,
          14.838,
          15.141,
          14.91,
          15.018,
          16.633,
          16.755,
          19.659,
          19.87,
          23.957,
          23.94,
          28.877,
          28.631,
          32.389,
          32.767,
          34.091,
          34.187,
          33.642,
          33.531,
          31.766,
          31.522,
          29.28,
          29.464,
          27.376,
          27.494,
          26.635,
          26.589,
          27.623,
          27.89,
          31.051,
          31.338,
          38.13,
          37.76,
          46.033,
          46.459,
          54.993,
          54.481,
          61.156,
          60.93,
          62.7,
          62.078,
          59.608,
          60.036,
          55.735,
          56.242,
          51.156,
          51.534,
          48.418,
          48.215,
          47.69,
          47.475,
          50.851,
          51.125,
          58.951,
          58.194,
          71.033,
          70.963,
          86.263,
          85.987,
          100.477,
          100.381,
          109.309,
          110.236,
          109.127,
          109.981,
          102.701,
          103.139,
          94.41,
          93.419,
          86.313,
          86.302,
          81.592,
          81.613,
          82.565,
          82.846,
          89.751,
          89.866,
          104.098,
          105.174,
          125.267,
          125.247,
          148.647,
          147.741,
          168.907,
          169.17,
          178.737,
          179.105,
          173.621,
          173.949,
          160.284,
          159.554,
          145.108,
          143.896,
          133.261,
          132.987,
          128.859,
          128.028,
          131.124,
          131.962,
          144.18,
          144.378,
          165.835,
          166.17,
          191.713,
          192.584,
          221.557,
          221.51,
          247.263,
          246.412,
          252.869,
          253.165,
          239.669,
          239.367,
          217.901,
          217.647,
          196.143,
          196.896,
          182.621,
          182.536,
          178.54,
          178.208,
          183.463,
          183.194,
          199.369,
          200.234,
          223.964,
          224.298,
          249.614,
          250.124,
          280.045,
          279.302,
          300.647,
          299.514,
          297.964,
          297.796,
          278.895,
          278.556,
          251.376,
          251.712,
          228.545,
          229.404,
          213.462,
          214.832,
          209.993,
          210.53,
          214.599,
          215.749,
          230.004,
          230.252,
          248.453,
          247.5,
          266.057,
          266.122,
          287.639,
          287.766,
          298.429,
          299.171,
          291.754,
          291.36,
          271.297,
          269.91,
          244.966,
          244.69,
          223.821,
          225.208,
          212.087,
          211.441,
          206.216,
          207.058,
          209.289,
          209.908,
          216.619,
          217.632,
          222.471,
          222.211,
          230.502,
          230.964,
          241.092,
          241.035,
          245.618,
          244.342,
          237.099,
          236.774,
          219.933,
          220.631,
          202.831,
          202.36,
          187.499,
          187.536,
          177.535,
          176.661,
          170.704,
          171.245,
          169.294,
          170.351,
          169.586,
          170.308,
          166.988,
          166.913,
          168.155,
          167.794,
          171.779,
          171.889,
          171.151,
          172.166,
          166.586,
          166.343,
          157.494,
          157.439,
          147.038,
          147.78,
          137.853,
          137.499,
          128.563,
          129.104,
          123.734,
          123.479,
          120.743,
          120.611,
          115.634,
          115.749,
          110.801,
          111.356,
          109.117,
          108.9,
          110.004,
          109.398,
          109.777,
          109.962
         ]
        },
        {
         "fill": "tonexty",
         "fillcolor": "rgba(255,0,0,0.3)",
         "line": {
          "width": 0
         },
         "marker": {
          "color": "#444"
         },
         "mode": "lines",
         "name": "$Counts \\mu+2\\sigma$",
         "showlegend": false,
         "type": "scatter",
         "x": [
          "2020-02-10T00:00:00",
          "2020-02-10T01:00:00",
          "2020-02-10T02:00:00",
          "2020-02-10T03:00:00",
          "2020-02-10T04:00:00",
          "2020-02-10T05:00:00",
          "2020-02-10T06:00:00",
          "2020-02-10T07:00:00",
          "2020-02-10T08:00:00",
          "2020-02-10T09:00:00",
          "2020-02-10T10:00:00",
          "2020-02-10T11:00:00",
          "2020-02-10T12:00:00",
          "2020-02-10T13:00:00",
          "2020-02-10T14:00:00",
          "2020-02-10T15:00:00",
          "2020-02-10T16:00:00",
          "2020-02-10T17:00:00",
          "2020-02-10T18:00:00",
          "2020-02-10T19:00:00",
          "2020-02-10T20:00:00",
          "2020-02-10T21:00:00",
          "2020-02-10T22:00:00",
          "2020-02-10T23:00:00",
          "2020-02-11T00:00:00",
          "2020-02-11T01:00:00",
          "2020-02-11T02:00:00",
          "2020-02-11T03:00:00",
          "2020-02-11T04:00:00",
          "2020-02-11T05:00:00",
          "2020-02-11T06:00:00",
          "2020-02-11T07:00:00",
          "2020-02-11T08:00:00",
          "2020-02-11T09:00:00",
          "2020-02-11T10:00:00",
          "2020-02-11T11:00:00",
          "2020-02-11T12:00:00",
          "2020-02-11T13:00:00",
          "2020-02-11T14:00:00",
          "2020-02-11T15:00:00",
          "2020-02-11T16:00:00",
          "2020-02-11T17:00:00",
          "2020-02-11T18:00:00",
          "2020-02-11T19:00:00",
          "2020-02-11T20:00:00",
          "2020-02-11T21:00:00",
          "2020-02-11T22:00:00",
          "2020-02-11T23:00:00",
          "2020-02-12T00:00:00",
          "2020-02-12T01:00:00",
          "2020-02-12T02:00:00",
          "2020-02-12T03:00:00",
          "2020-02-12T04:00:00",
          "2020-02-12T05:00:00",
          "2020-02-12T06:00:00",
          "2020-02-12T07:00:00",
          "2020-02-12T08:00:00",
          "2020-02-12T09:00:00",
          "2020-02-12T10:00:00",
          "2020-02-12T11:00:00",
          "2020-02-12T12:00:00",
          "2020-02-12T13:00:00",
          "2020-02-12T14:00:00",
          "2020-02-12T15:00:00",
          "2020-02-12T16:00:00",
          "2020-02-12T17:00:00",
          "2020-02-12T18:00:00",
          "2020-02-12T19:00:00",
          "2020-02-12T20:00:00",
          "2020-02-12T21:00:00",
          "2020-02-12T22:00:00",
          "2020-02-12T23:00:00",
          "2020-02-13T00:00:00",
          "2020-02-13T01:00:00",
          "2020-02-13T02:00:00",
          "2020-02-13T03:00:00",
          "2020-02-13T04:00:00",
          "2020-02-13T05:00:00",
          "2020-02-13T06:00:00",
          "2020-02-13T07:00:00",
          "2020-02-13T08:00:00",
          "2020-02-13T09:00:00",
          "2020-02-13T10:00:00",
          "2020-02-13T11:00:00",
          "2020-02-13T12:00:00",
          "2020-02-13T13:00:00",
          "2020-02-13T14:00:00",
          "2020-02-13T15:00:00",
          "2020-02-13T16:00:00",
          "2020-02-13T17:00:00",
          "2020-02-13T18:00:00",
          "2020-02-13T19:00:00",
          "2020-02-13T20:00:00",
          "2020-02-13T21:00:00",
          "2020-02-13T22:00:00",
          "2020-02-13T23:00:00",
          "2020-02-14T00:00:00",
          "2020-02-14T01:00:00",
          "2020-02-14T02:00:00",
          "2020-02-14T03:00:00",
          "2020-02-14T04:00:00",
          "2020-02-14T05:00:00",
          "2020-02-14T06:00:00",
          "2020-02-14T07:00:00",
          "2020-02-14T08:00:00",
          "2020-02-14T09:00:00",
          "2020-02-14T10:00:00",
          "2020-02-14T11:00:00",
          "2020-02-14T12:00:00",
          "2020-02-14T13:00:00",
          "2020-02-14T14:00:00",
          "2020-02-14T15:00:00",
          "2020-02-14T16:00:00",
          "2020-02-14T17:00:00",
          "2020-02-14T18:00:00",
          "2020-02-14T19:00:00",
          "2020-02-14T20:00:00",
          "2020-02-14T21:00:00",
          "2020-02-14T22:00:00",
          "2020-02-14T23:00:00",
          "2020-02-15T00:00:00",
          "2020-02-15T01:00:00",
          "2020-02-15T02:00:00",
          "2020-02-15T03:00:00",
          "2020-02-15T04:00:00",
          "2020-02-15T05:00:00",
          "2020-02-15T06:00:00",
          "2020-02-15T07:00:00",
          "2020-02-15T08:00:00",
          "2020-02-15T09:00:00",
          "2020-02-15T10:00:00",
          "2020-02-15T11:00:00",
          "2020-02-15T12:00:00",
          "2020-02-15T13:00:00",
          "2020-02-15T14:00:00",
          "2020-02-15T15:00:00",
          "2020-02-15T16:00:00",
          "2020-02-15T17:00:00",
          "2020-02-15T18:00:00",
          "2020-02-15T19:00:00",
          "2020-02-15T20:00:00",
          "2020-02-15T21:00:00",
          "2020-02-15T22:00:00",
          "2020-02-15T23:00:00",
          "2020-02-16T00:00:00",
          "2020-02-16T01:00:00",
          "2020-02-16T02:00:00",
          "2020-02-16T03:00:00",
          "2020-02-16T04:00:00",
          "2020-02-16T05:00:00",
          "2020-02-16T06:00:00",
          "2020-02-16T07:00:00",
          "2020-02-16T08:00:00",
          "2020-02-16T09:00:00",
          "2020-02-16T10:00:00",
          "2020-02-16T11:00:00",
          "2020-02-16T12:00:00",
          "2020-02-16T13:00:00",
          "2020-02-16T14:00:00",
          "2020-02-16T15:00:00",
          "2020-02-16T16:00:00",
          "2020-02-16T17:00:00",
          "2020-02-16T18:00:00",
          "2020-02-16T19:00:00",
          "2020-02-16T20:00:00",
          "2020-02-16T21:00:00",
          "2020-02-16T22:00:00"
         ],
         "y": [
          8.035173303062503,
          7.897842917448078,
          8.203067514992453,
          8.006941568292733,
          8.673878396388812,
          8.081403863998236,
          8.018634385862082,
          8.292392238261481,
          7.574896273205017,
          7.590459994599637,
          7.425466892423838,
          7.179510733088755,
          7.6747091496912,
          7.773023272159829,
          7.825780289206108,
          7.747396280576759,
          8.749471719982484,
          8.17020673404107,
          8.805129932409136,
          8.884107775343509,
          8.73805957932543,
          9.287966480348867,
          9.478328327284178,
          9.415817483304895,
          10.059378546126236,
          9.881873076195813,
          9.9574805576714,
          10.15076837414816,
          10.066347223753603,
          10.353601714949868,
          9.42394018931645,
          9.495721786346667,
          8.93523725711378,
          8.942163190460969,
          9.13311069605982,
          8.898856635845107,
          9.015650260228776,
          9.060121107509032,
          9.793945186914733,
          9.733052483123862,
          10.036475357959358,
          10.525655438359738,
          10.358888784949599,
          11.037818293153412,
          11.523673809767494,
          11.201007173129177,
          12.263864173018023,
          12.12944272559404,
          12.75926108904503,
          13.117151349305981,
          13.243402551554922,
          13.452393588037902,
          12.936146434428636,
          13.153304055173816,
          12.507551679629458,
          12.45692768848181,
          11.796142000318905,
          11.86051853597639,
          11.795061112597713,
          11.850950810450211,
          11.986736978253674,
          11.726629575089383,
          12.519917846739474,
          12.472010258294809,
          13.637780484503491,
          13.618113189852476,
          14.940305468572411,
          14.847182210797762,
          16.098437218963387,
          16.528447093320082,
          17.741888779972612,
          17.949793536939506,
          18.497415717284767,
          19.204453966451904,
          19.055727620152975,
          18.883001831501645,
          18.5931264168253,
          18.42686501334086,
          18.237602793215657,
          17.68757914722464,
          16.99860755571201,
          16.997489523592556,
          16.998481889426277,
          16.337823006811114,
          17.508474360811014,
          17.041172936474847,
          17.800801459595725,
          18.357206471436548,
          20.389150077233488,
          20.088320493827204,
          23.044468107964107,
          22.630732957247975,
          25.74791122890293,
          26.061849724152793,
          28.746796271917752,
          28.943372490653726,
          29.924307529473072,
          30.45269213283668,
          29.93188942172863,
          29.96572260587112,
          28.76348890981063,
          29.248705888857256,
          27.879202204698544,
          27.82889012956163,
          26.412066030509074,
          26.359271892173986,
          25.711041156916508,
          26.42729593799489,
          26.303313828733057,
          26.262496609453056,
          28.868409433280114,
          29.065804197939308,
          32.54848703401341,
          33.490734194602,
          37.841833596410154,
          38.07964638878921,
          45.01017959981852,
          43.67185622562756,
          49.01111526852105,
          49.57065567369196,
          50.09283976922654,
          51.229303952224285,
          50.49024453763654,
          50.693871438078176,
          48.687612689102664,
          47.27452563876661,
          45.28319968006399,
          45.67988159798915,
          43.77997805411849,
          43.52571406930649,
          41.942485097167335,
          42.03931766663711,
          43.02674902418238,
          43.8934871199998,
          48.708451571503744,
          48.562140733284785,
          57.41015560103187,
          57.229812531198135,
          67.3342592116053,
          67.48910404158762,
          78.21910178226213,
          78.80001634523899,
          86.55707588272591,
          84.80794798553679,
          88.2723287950081,
          87.73106344279373,
          84.52308266091043,
          84.52523877951295,
          80.14407822921628,
          81.18075987293673,
          75.82060330108716,
          75.64298952673047,
          71.66616345434625,
          71.0092777907088,
          70.13637164443287,
          69.74330707530326,
          73.68280229416851,
          74.50955686986606,
          84.61222358735066,
          83.28665741207973,
          99.9473501396798,
          99.43457396421913,
          118.28348288205535,
          118.00367259413446,
          135.67037841128644,
          135.29769165313343,
          145.43918234108432,
          146.83710949138015,
          145.67663042220806,
          148.0626301646872,
          138.74561674092263,
          139.65659460862668,
          129.47256693398245,
          128.21011604993436,
          120.06308331841568,
          119.81097169415975,
          113.19070478358252,
          112.82897225780414,
          113.1095101450326,
          112.68210457147514,
          121.49894475237727,
          120.14272663945036,
          139.75875691849515,
          141.75026137264445,
          166.04972727515903,
          165.52066340426458,
          194.48237459212044,
          193.3482765685477,
          218.52846112318744,
          219.1649237423161,
          230.7697524161465,
          231.36404610687032,
          225.31847997726777,
          226.1286281703885,
          208.45350670289247,
          207.45101802826562,
          189.3262919615853,
          188.60882518472746,
          177.95403654933278,
          177.1294435662549,
          169.9493939625796,
          170.08649336340994,
          169.06493430583913,
          170.94356261619066,
          186.57120663533888,
          186.84507505821418,
          216.34106993223682,
          214.93355606392953,
          249.7552132934298,
          249.0362078930488,
          283.25091383272746,
          282.78785570660904,
          314.9719604409933,
          312.64740612089577,
          321.3798995416058,
          323.0511295251068,
          306.8040114023972,
          304.39691037976297,
          275.97251449721284,
          278.2234439695828,
          253.36846814137914,
          252.79580980289649,
          238.2800822418049,
          238.7856828079946,
          230.91833139763045,
          231.35092938858378,
          237.88941384475,
          236.80826541509265,
          256.3705732765333,
          257.3650508917874,
          291.1261531519054,
          290.7209838534826,
          325.70323718897436,
          328.24392380948666,
          361.72111584790264,
          359.75021429963505,
          388.46213288721935,
          384.43259169816696,
          382.16981224594895,
          384.1028568307293,
          354.50505158046116,
          354.6663636569948,
          318.61683949505687,
          319.1430627530073,
          294.5654809131227,
          295.474713148868,
          278.1109769756644,
          280.47490596858125,
          277.11721175701064,
          279.6883429529655,
          283.9801559142682,
          287.0980013665223,
          303.73437322569305,
          305.47078744037293,
          330.95749178075096,
          328.30990038355446,
          354.3065495965844,
          353.53163599054744,
          378.0265362868133,
          375.26523985955544,
          389.4915051050101,
          390.3241844534243,
          382.0540660907842,
          380.216162419947,
          346.941029268674,
          346.2954410211788,
          315.14921292160966,
          314.4740640834281,
          293.59271229087045,
          297.2324051971275,
          284.9056632945154,
          282.42039191061025,
          280.29691100951715,
          280.85498194370825,
          284.4581287431217,
          283.6863582360031,
          291.7740886899883,
          292.6293486464689,
          300.4411778630779,
          299.04324528803,
          311.51523338813234,
          312.34696391751777,
          323.4813569825618,
          323.194351871835,
          330.08944075958453,
          331.02166395873945,
          316.2378955950233,
          315.82878920343785,
          291.3525074471955,
          292.8982495394698,
          273.36032550365127,
          271.10754977451927,
          255.59986633810178,
          255.19244696553312,
          245.72640048422528,
          243.35181133109717,
          237.08581630537083,
          237.43457546321022,
          234.11423029888124,
          235.0693374013888,
          236.23362873501208,
          236.1686145127723,
          235.39062731796196,
          235.0513718913214,
          236.42871309662308,
          237.72309448863192,
          244.5718062105041,
          246.27939397664187,
          246.93791705037225,
          247.36271386437045,
          238.9618690172353,
          238.19438414811503,
          229.5368751230821,
          229.51557813742266,
          217.38959006021116,
          219.2485833076324,
          204.347191956892,
          203.67216673697885,
          188.80537814030913,
          189.82049476048502,
          181.46846956541648,
          181.06370487898673,
          180.04153121283866,
          180.77908718914034,
          179.0657284645468,
          179.28683121888878,
          176.2519709324468,
          174.7662598638422,
          177.23235248385635,
          175.23165156997086,
          179.59595309804143,
          178.69606912172952,
          182.59000078969416,
          181.71492484630858
         ]
        },
        {
         "line": {
          "width": 0
         },
         "marker": {
          "color": "#444"
         },
         "mode": "lines",
         "name": "$Intensity \\mu-2\\sigma$",
         "showlegend": false,
         "type": "scatter",
         "x": [
          "2020-02-10T00:00:00",
          "2020-02-10T01:00:00",
          "2020-02-10T02:00:00",
          "2020-02-10T03:00:00",
          "2020-02-10T04:00:00",
          "2020-02-10T05:00:00",
          "2020-02-10T06:00:00",
          "2020-02-10T07:00:00",
          "2020-02-10T08:00:00",
          "2020-02-10T09:00:00",
          "2020-02-10T10:00:00",
          "2020-02-10T11:00:00",
          "2020-02-10T12:00:00",
          "2020-02-10T13:00:00",
          "2020-02-10T14:00:00",
          "2020-02-10T15:00:00",
          "2020-02-10T16:00:00",
          "2020-02-10T17:00:00",
          "2020-02-10T18:00:00",
          "2020-02-10T19:00:00",
          "2020-02-10T20:00:00",
          "2020-02-10T21:00:00",
          "2020-02-10T22:00:00",
          "2020-02-10T23:00:00",
          "2020-02-11T00:00:00",
          "2020-02-11T01:00:00",
          "2020-02-11T02:00:00",
          "2020-02-11T03:00:00",
          "2020-02-11T04:00:00",
          "2020-02-11T05:00:00",
          "2020-02-11T06:00:00",
          "2020-02-11T07:00:00",
          "2020-02-11T08:00:00",
          "2020-02-11T09:00:00",
          "2020-02-11T10:00:00",
          "2020-02-11T11:00:00",
          "2020-02-11T12:00:00",
          "2020-02-11T13:00:00",
          "2020-02-11T14:00:00",
          "2020-02-11T15:00:00",
          "2020-02-11T16:00:00",
          "2020-02-11T17:00:00",
          "2020-02-11T18:00:00",
          "2020-02-11T19:00:00",
          "2020-02-11T20:00:00",
          "2020-02-11T21:00:00",
          "2020-02-11T22:00:00",
          "2020-02-11T23:00:00",
          "2020-02-12T00:00:00",
          "2020-02-12T01:00:00",
          "2020-02-12T02:00:00",
          "2020-02-12T03:00:00",
          "2020-02-12T04:00:00",
          "2020-02-12T05:00:00",
          "2020-02-12T06:00:00",
          "2020-02-12T07:00:00",
          "2020-02-12T08:00:00",
          "2020-02-12T09:00:00",
          "2020-02-12T10:00:00",
          "2020-02-12T11:00:00",
          "2020-02-12T12:00:00",
          "2020-02-12T13:00:00",
          "2020-02-12T14:00:00",
          "2020-02-12T15:00:00",
          "2020-02-12T16:00:00",
          "2020-02-12T17:00:00",
          "2020-02-12T18:00:00",
          "2020-02-12T19:00:00",
          "2020-02-12T20:00:00",
          "2020-02-12T21:00:00",
          "2020-02-12T22:00:00",
          "2020-02-12T23:00:00",
          "2020-02-13T00:00:00",
          "2020-02-13T01:00:00",
          "2020-02-13T02:00:00",
          "2020-02-13T03:00:00",
          "2020-02-13T04:00:00",
          "2020-02-13T05:00:00",
          "2020-02-13T06:00:00",
          "2020-02-13T07:00:00",
          "2020-02-13T08:00:00",
          "2020-02-13T09:00:00",
          "2020-02-13T10:00:00",
          "2020-02-13T11:00:00",
          "2020-02-13T12:00:00",
          "2020-02-13T13:00:00",
          "2020-02-13T14:00:00",
          "2020-02-13T15:00:00",
          "2020-02-13T16:00:00",
          "2020-02-13T17:00:00",
          "2020-02-13T18:00:00",
          "2020-02-13T19:00:00",
          "2020-02-13T20:00:00",
          "2020-02-13T21:00:00",
          "2020-02-13T22:00:00",
          "2020-02-13T23:00:00",
          "2020-02-14T00:00:00",
          "2020-02-14T01:00:00",
          "2020-02-14T02:00:00",
          "2020-02-14T03:00:00",
          "2020-02-14T04:00:00",
          "2020-02-14T05:00:00",
          "2020-02-14T06:00:00",
          "2020-02-14T07:00:00",
          "2020-02-14T08:00:00",
          "2020-02-14T09:00:00",
          "2020-02-14T10:00:00",
          "2020-02-14T11:00:00",
          "2020-02-14T12:00:00",
          "2020-02-14T13:00:00",
          "2020-02-14T14:00:00",
          "2020-02-14T15:00:00",
          "2020-02-14T16:00:00",
          "2020-02-14T17:00:00",
          "2020-02-14T18:00:00",
          "2020-02-14T19:00:00",
          "2020-02-14T20:00:00",
          "2020-02-14T21:00:00",
          "2020-02-14T22:00:00",
          "2020-02-14T23:00:00",
          "2020-02-15T00:00:00",
          "2020-02-15T01:00:00",
          "2020-02-15T02:00:00",
          "2020-02-15T03:00:00",
          "2020-02-15T04:00:00",
          "2020-02-15T05:00:00",
          "2020-02-15T06:00:00",
          "2020-02-15T07:00:00",
          "2020-02-15T08:00:00",
          "2020-02-15T09:00:00",
          "2020-02-15T10:00:00",
          "2020-02-15T11:00:00",
          "2020-02-15T12:00:00",
          "2020-02-15T13:00:00",
          "2020-02-15T14:00:00",
          "2020-02-15T15:00:00",
          "2020-02-15T16:00:00",
          "2020-02-15T17:00:00",
          "2020-02-15T18:00:00",
          "2020-02-15T19:00:00",
          "2020-02-15T20:00:00",
          "2020-02-15T21:00:00",
          "2020-02-15T22:00:00",
          "2020-02-15T23:00:00",
          "2020-02-16T00:00:00",
          "2020-02-16T01:00:00",
          "2020-02-16T02:00:00",
          "2020-02-16T03:00:00",
          "2020-02-16T04:00:00",
          "2020-02-16T05:00:00",
          "2020-02-16T06:00:00",
          "2020-02-16T07:00:00",
          "2020-02-16T08:00:00",
          "2020-02-16T09:00:00",
          "2020-02-16T10:00:00",
          "2020-02-16T11:00:00",
          "2020-02-16T12:00:00",
          "2020-02-16T13:00:00",
          "2020-02-16T14:00:00",
          "2020-02-16T15:00:00",
          "2020-02-16T16:00:00",
          "2020-02-16T17:00:00",
          "2020-02-16T18:00:00",
          "2020-02-16T19:00:00",
          "2020-02-16T20:00:00",
          "2020-02-16T21:00:00",
          "2020-02-16T22:00:00"
         ],
         "y": [
          -0.7458384199208106,
          -0.7457028729468482,
          -0.9686441314807572,
          -0.9678139847230058,
          -1.080958422829326,
          -1.08092635011102,
          -0.862135454048572,
          -0.8612839317657581,
          -0.5230839935226577,
          -0.5229465688826025,
          -0.47736124679272596,
          -0.4769918846978016,
          -0.8813423336953266,
          -0.8814818875855703,
          -1.407747053038432,
          -1.4071205172454047,
          -1.562071713855981,
          -1.5622573140829408,
          -1.2070147724985878,
          -1.20666239256426,
          -0.5246284204000577,
          -0.5249639145093505,
          0.11046573175834684,
          0.11133041768428509,
          0.28792905830281734,
          0.2879508766486141,
          0.09383446846278698,
          0.0928190646457212,
          0.04825690397819127,
          0.04899502687022306,
          0.2895068826245253,
          0.2890620846911971,
          0.5080287776243289,
          0.5083873035128077,
          0.289921705352405,
          0.28887826048364573,
          -0.3343422275453496,
          -0.3333515599250112,
          -0.8315930120119828,
          -0.8314746687583612,
          -0.7831568206666484,
          -0.7836600044253643,
          -0.16432403832281572,
          -0.16439694783827452,
          0.828014194648981,
          0.8276483688224348,
          1.7055539331020313,
          1.706074261878185,
          1.9539220841102232,
          1.9532264444659955,
          1.8099499900574934,
          1.8105675336243259,
          1.820910180956119,
          1.8208710036696143,
          1.98444886555614,
          1.9841593565282682,
          1.9170080585306954,
          1.918136514247486,
          1.3163654692844622,
          1.3168214906793887,
          0.5405884547517887,
          0.5395580940730795,
          0.20393203564134232,
          0.20409029579465798,
          0.5877161535622646,
          0.5885478946091318,
          1.712299939558899,
          1.711899683493642,
          3.3242726214495573,
          3.3245625467052866,
          4.60302973646655,
          4.603546383047263,
          4.991473540580693,
          4.993492389151799,
          4.942283519685565,
          4.9412728554666305,
          4.859321666993399,
          4.8575326074399925,
          4.652574115792001,
          4.653064527018767,
          4.052557648050487,
          4.052520284107348,
          3.0414470042103465,
          3.0405364386711886,
          2.283202064760963,
          2.2823550328721174,
          2.315572725879669,
          2.3184689768169786,
          3.350966691212002,
          3.348448915587211,
          5.520269460755239,
          5.519923613887453,
          8.214980416364355,
          8.211533637097094,
          10.092696253686666,
          10.094398703166554,
          10.807039126105371,
          10.805487141726488,
          10.756021333175454,
          10.755739014146522,
          10.070493502489313,
          10.071792160602687,
          9.05224752641244,
          9.054001585226214,
          7.756863170301923,
          7.757301187160794,
          6.485143222236351,
          6.485356150841451,
          6.075121905630883,
          6.077261871822767,
          6.901460516824455,
          6.903433096877514,
          9.30022366242479,
          9.299466921664322,
          13.439029826771355,
          13.44157936889147,
          17.827064376187437,
          17.832233321048463,
          20.82878601731688,
          20.82540973597795,
          22.043296970860418,
          22.04347781289336,
          21.370042049160066,
          21.362958891013584,
          19.173938262607855,
          19.174859303993884,
          17.00970721700171,
          17.008391952179913,
          15.02087838734986,
          15.029046259677367,
          13.883731588521254,
          13.879555763743149,
          14.45209328756726,
          14.452454239727919,
          16.96155792765618,
          16.95554661632896,
          22.041951030716945,
          22.043663501658393,
          29.575044026693508,
          29.57166871475603,
          36.95108208097237,
          36.94686878938654,
          41.93216942898472,
          41.9252373416621,
          43.13282467700957,
          43.143537956576715,
          40.31355826062715,
          40.30787841029983,
          35.63478577541792,
          35.64277806587207,
          32.04627462161217,
          32.03871124455828,
          29.534818304182746,
          29.535773114043103,
          29.287878333812053,
          29.290120650111405,
          32.00494803593147,
          31.993216163926597,
          37.681521712461574,
          37.68757449874661,
          47.43456606692051,
          47.43048702486104,
          60.51201752198759,
          60.51474348347378,
          72.99086134733803,
          72.99162087510086,
          79.91630886329946,
          79.90858270581015,
          78.98481916409361,
          78.98232114120927,
          72.11745674859145,
          72.09900616970499,
          64.05240031405447,
          64.07010135062407,
          58.3817343782373,
          58.368303829349294,
          55.66301179768807,
          55.66313931402149,
          57.46766242575919,
          57.4677499263135,
          63.88463610674748,
          63.894321679075745,
          74.40127300371232,
          74.41167814481221,
          90.40212308538989,
          90.39613257356359,
          110.79588615620459,
          110.78242259538067,
          129.24913444442188,
          129.26078386210042,
          135.2129644599175,
          135.17760666041943,
          129.40910025644212,
          129.4346440542765,
          117.69356656918933,
          117.69281052184192,
          104.93821868878544,
          104.9386327999063,
          95.95759035931923,
          95.94735992625598,
          92.85068825925222,
          92.85201493544116,
          97.09436694096807,
          97.10804942327059,
          108.04634864616847,
          108.05138466565883,
          123.34855416637554,
          123.33016021903023,
          143.59091793738753,
          143.5853378837054,
          169.2794237385849,
          169.28220746033315,
          190.38250266744967,
          190.39363551652718,
          191.35962041709018,
          191.38075399378604,
          181.18603315980488,
          181.1655739848026,
          165.02921603380244,
          165.04787709161423,
          146.32922801772008,
          146.34578138874815,
          133.0188866743779,
          133.0361206786249,
          127.78009112422671,
          127.81166769165216,
          132.99075632803937,
          133.01764211334176,
          147.30698228660447,
          147.31054390656237,
          163.81944811995768,
          163.86435341450192,
          182.21100947287727,
          182.21977308116288,
          207.78161865509406,
          207.77708534955934,
          224.86987793680777,
          224.8740510318841,
          220.7064067951045,
          220.69528568431252,
          209.3595895443329,
          209.41652924025163,
          190.09607137005818,
          190.10200172792406,
          167.9109330767305,
          167.89792008384077,
          151.34339147534476,
          151.34530455451608,
          143.3219140369608,
          143.28977250742247,
          148.5981645276009,
          148.55686071699415,
          163.1762397299064,
          163.16817129328052,
          174.47949483743517,
          174.49588889268762,
          186.3814488260486,
          186.35822460664536,
          206.05392622437418,
          206.06750185049054,
          214.0573197120388,
          214.0284157594552,
          208.04686035277297,
          208.05210989750145,
          198.47407881877896,
          198.46123868988423,
          179.9857289129826,
          179.97530160198488,
          160.4481462526479,
          160.44684441834883,
          144.45281381994758,
          144.4613523374412,
          136.33278858306443,
          136.3751575084441,
          141.14308069734813,
          141.15121431024295,
          149.89767431596692,
          149.88288248436967,
          151.2290011529658,
          151.2388992129238,
          156.38546603632267,
          156.36641678177256,
          166.2319638465528,
          166.25470699879895,
          166.05841463563615,
          166.04931031887605,
          161.72345273861157,
          161.72174687345546,
          154.2995499646458,
          154.30323757634557,
          140.61806689810865,
          140.62577614724378,
          128.02163576581415,
          128.03031787317113,
          117.28683663596362,
          117.29731301249222,
          111.70938653340326,
          111.69343426496604,
          112.92233301121004,
          112.90922338378873,
          109.9278315646119,
          109.92368964042672,
          103.65100851895284,
          103.65100808738664,
          103.53081036683527,
          103.54515806198785,
          104.52181979861086,
          104.54898460477806,
          101.77962332725203,
          101.75500159065805,
          98.74150411176602,
          98.74723919644786,
          91.76171506303974,
          91.74462436264487,
          83.17494563304453,
          83.18031395762077,
          77.60294841731675,
          77.59931729489787,
          73.5546863519431,
          73.54657001614785,
          70.44300490407741,
          70.43314010564225,
          65.7662966657816,
          65.76145711977472,
          56.60067560666972,
          56.61574395261487,
          49.78798239492362,
          49.79578878958189,
          46.94333134390715,
          46.94455129469646,
          44.42559263580101,
          44.436192309549114,
          41.80864598481476,
          41.81796641816538
         ]
        },
        {
         "fill": "tonexty",
         "fillcolor": "rgba(0,255,0,0.3)",
         "line": {
          "color": "rgb(0, 255, 0)"
         },
         "mode": "lines",
         "name": "Intensity predictions",
         "type": "scatter",
         "x": [
          "2020-02-10T00:00:00",
          "2020-02-10T01:00:00",
          "2020-02-10T02:00:00",
          "2020-02-10T03:00:00",
          "2020-02-10T04:00:00",
          "2020-02-10T05:00:00",
          "2020-02-10T06:00:00",
          "2020-02-10T07:00:00",
          "2020-02-10T08:00:00",
          "2020-02-10T09:00:00",
          "2020-02-10T10:00:00",
          "2020-02-10T11:00:00",
          "2020-02-10T12:00:00",
          "2020-02-10T13:00:00",
          "2020-02-10T14:00:00",
          "2020-02-10T15:00:00",
          "2020-02-10T16:00:00",
          "2020-02-10T17:00:00",
          "2020-02-10T18:00:00",
          "2020-02-10T19:00:00",
          "2020-02-10T20:00:00",
          "2020-02-10T21:00:00",
          "2020-02-10T22:00:00",
          "2020-02-10T23:00:00",
          "2020-02-11T00:00:00",
          "2020-02-11T01:00:00",
          "2020-02-11T02:00:00",
          "2020-02-11T03:00:00",
          "2020-02-11T04:00:00",
          "2020-02-11T05:00:00",
          "2020-02-11T06:00:00",
          "2020-02-11T07:00:00",
          "2020-02-11T08:00:00",
          "2020-02-11T09:00:00",
          "2020-02-11T10:00:00",
          "2020-02-11T11:00:00",
          "2020-02-11T12:00:00",
          "2020-02-11T13:00:00",
          "2020-02-11T14:00:00",
          "2020-02-11T15:00:00",
          "2020-02-11T16:00:00",
          "2020-02-11T17:00:00",
          "2020-02-11T18:00:00",
          "2020-02-11T19:00:00",
          "2020-02-11T20:00:00",
          "2020-02-11T21:00:00",
          "2020-02-11T22:00:00",
          "2020-02-11T23:00:00",
          "2020-02-12T00:00:00",
          "2020-02-12T01:00:00",
          "2020-02-12T02:00:00",
          "2020-02-12T03:00:00",
          "2020-02-12T04:00:00",
          "2020-02-12T05:00:00",
          "2020-02-12T06:00:00",
          "2020-02-12T07:00:00",
          "2020-02-12T08:00:00",
          "2020-02-12T09:00:00",
          "2020-02-12T10:00:00",
          "2020-02-12T11:00:00",
          "2020-02-12T12:00:00",
          "2020-02-12T13:00:00",
          "2020-02-12T14:00:00",
          "2020-02-12T15:00:00",
          "2020-02-12T16:00:00",
          "2020-02-12T17:00:00",
          "2020-02-12T18:00:00",
          "2020-02-12T19:00:00",
          "2020-02-12T20:00:00",
          "2020-02-12T21:00:00",
          "2020-02-12T22:00:00",
          "2020-02-12T23:00:00",
          "2020-02-13T00:00:00",
          "2020-02-13T01:00:00",
          "2020-02-13T02:00:00",
          "2020-02-13T03:00:00",
          "2020-02-13T04:00:00",
          "2020-02-13T05:00:00",
          "2020-02-13T06:00:00",
          "2020-02-13T07:00:00",
          "2020-02-13T08:00:00",
          "2020-02-13T09:00:00",
          "2020-02-13T10:00:00",
          "2020-02-13T11:00:00",
          "2020-02-13T12:00:00",
          "2020-02-13T13:00:00",
          "2020-02-13T14:00:00",
          "2020-02-13T15:00:00",
          "2020-02-13T16:00:00",
          "2020-02-13T17:00:00",
          "2020-02-13T18:00:00",
          "2020-02-13T19:00:00",
          "2020-02-13T20:00:00",
          "2020-02-13T21:00:00",
          "2020-02-13T22:00:00",
          "2020-02-13T23:00:00",
          "2020-02-14T00:00:00",
          "2020-02-14T01:00:00",
          "2020-02-14T02:00:00",
          "2020-02-14T03:00:00",
          "2020-02-14T04:00:00",
          "2020-02-14T05:00:00",
          "2020-02-14T06:00:00",
          "2020-02-14T07:00:00",
          "2020-02-14T08:00:00",
          "2020-02-14T09:00:00",
          "2020-02-14T10:00:00",
          "2020-02-14T11:00:00",
          "2020-02-14T12:00:00",
          "2020-02-14T13:00:00",
          "2020-02-14T14:00:00",
          "2020-02-14T15:00:00",
          "2020-02-14T16:00:00",
          "2020-02-14T17:00:00",
          "2020-02-14T18:00:00",
          "2020-02-14T19:00:00",
          "2020-02-14T20:00:00",
          "2020-02-14T21:00:00",
          "2020-02-14T22:00:00",
          "2020-02-14T23:00:00",
          "2020-02-15T00:00:00",
          "2020-02-15T01:00:00",
          "2020-02-15T02:00:00",
          "2020-02-15T03:00:00",
          "2020-02-15T04:00:00",
          "2020-02-15T05:00:00",
          "2020-02-15T06:00:00",
          "2020-02-15T07:00:00",
          "2020-02-15T08:00:00",
          "2020-02-15T09:00:00",
          "2020-02-15T10:00:00",
          "2020-02-15T11:00:00",
          "2020-02-15T12:00:00",
          "2020-02-15T13:00:00",
          "2020-02-15T14:00:00",
          "2020-02-15T15:00:00",
          "2020-02-15T16:00:00",
          "2020-02-15T17:00:00",
          "2020-02-15T18:00:00",
          "2020-02-15T19:00:00",
          "2020-02-15T20:00:00",
          "2020-02-15T21:00:00",
          "2020-02-15T22:00:00",
          "2020-02-15T23:00:00",
          "2020-02-16T00:00:00",
          "2020-02-16T01:00:00",
          "2020-02-16T02:00:00",
          "2020-02-16T03:00:00",
          "2020-02-16T04:00:00",
          "2020-02-16T05:00:00",
          "2020-02-16T06:00:00",
          "2020-02-16T07:00:00",
          "2020-02-16T08:00:00",
          "2020-02-16T09:00:00",
          "2020-02-16T10:00:00",
          "2020-02-16T11:00:00",
          "2020-02-16T12:00:00",
          "2020-02-16T13:00:00",
          "2020-02-16T14:00:00",
          "2020-02-16T15:00:00",
          "2020-02-16T16:00:00",
          "2020-02-16T17:00:00",
          "2020-02-16T18:00:00",
          "2020-02-16T19:00:00",
          "2020-02-16T20:00:00",
          "2020-02-16T21:00:00",
          "2020-02-16T22:00:00"
         ],
         "y": [
          3.023937130107388,
          3.0241126922466415,
          3.1154689195674425,
          3.1152634211471506,
          3.0903690070287118,
          3.090437426869685,
          2.9755460622282186,
          2.9755380445877937,
          2.866567293697182,
          2.8665472820978275,
          2.8274082225629,
          2.8271407220027833,
          2.8681730626277933,
          2.8680924760155966,
          2.967193157551119,
          2.967066056465362,
          3.1079107741489302,
          3.1080738373447394,
          3.2999016429449632,
          3.2999565962506834,
          3.5553807222169107,
          3.555483268180419,
          3.856029583763088,
          3.856173416100373,
          4.126058945981416,
          4.12582505598314,
          4.24453409289756,
          4.244575355125662,
          4.165878720063937,
          4.165834562740707,
          3.994974293809383,
          3.9950245229710393,
          3.8512134337820583,
          3.8510976153233503,
          3.786078705654663,
          3.785771348980905,
          3.8104942383282068,
          3.8101525519034616,
          3.9343862795250657,
          3.934459074893954,
          4.189292377394814,
          4.189334119703796,
          4.607091069944627,
          4.607069074204034,
          5.172501470770557,
          5.17253552147603,
          5.7901523029783775,
          5.7901096661694735,
          6.258625245846347,
          6.258472733599819,
          6.381293378401291,
          6.3813747812214405,
          6.2009548329233315,
          6.201012379412171,
          5.929958301356311,
          5.930457961964022,
          5.700223595604829,
          5.699841402172456,
          5.561297389124857,
          5.561463894387623,
          5.562882748165267,
          5.562937472673411,
          5.788809147351149,
          5.78874145687993,
          6.338229692753591,
          6.33819704241455,
          7.253489932193072,
          7.254409967595232,
          8.445752280215013,
          8.445572976581634,
          9.64492012067938,
          9.64485304392452,
          10.403279414242952,
          10.40322776391756,
          10.45960759104064,
          10.459880208342542,
          10.071069158480386,
          10.070258864479086,
          9.58110472203749,
          9.581029189707904,
          9.14427112503748,
          9.145168460393455,
          8.858946617987169,
          8.859109069407086,
          8.878875720689319,
          8.879536633379015,
          9.421538357722502,
          9.422086173425582,
          10.683280147782355,
          10.683306468278403,
          12.675635574626797,
          12.675926721241682,
          15.122464444123098,
          15.123459030598905,
          17.3719277176746,
          17.371168194121598,
          18.493581457980074,
          18.492503888342785,
          18.28502154937123,
          18.28422269233206,
          17.41982257309189,
          17.418566794746763,
          16.427210586026437,
          16.42693147013162,
          15.55880685202062,
          15.558541407325977,
          15.055622817513509,
          15.055272592305649,
          15.287643756241069,
          15.286656295059034,
          16.684987367949617,
          16.68664352628083,
          19.572310980245515,
          19.571846588440337,
          23.790816140587555,
          23.791130681257986,
          28.647370665210335,
          28.649112368562434,
          32.64913500439531,
          32.64850720170078,
          34.03855097026319,
          34.037365614617954,
          33.040492539798194,
          33.03695693387406,
          31.06411842075552,
          31.06408380031761,
          28.99025089948222,
          28.99277641404259,
          27.354864297417222,
          27.355219937177132,
          26.683756955597588,
          26.68505523517624,
          27.683512607727323,
          27.68473136988161,
          31.135206135144298,
          31.13221914476725,
          37.40089918125368,
          37.40242253769568,
          45.829632785009586,
          45.827013939311826,
          54.915287548870296,
          54.914343827929386,
          61.387428945821995,
          61.38885402359738,
          62.38102397126913,
          62.38168780136967,
          59.375753801293236,
          59.37681779828746,
          55.00096828120308,
          55.0031941614917,
          50.932643304087705,
          50.932269634828145,
          48.21435596621441,
          48.2162867910066,
          47.75280153337072,
          47.75409048162172,
          50.742305126898195,
          50.74550627106194,
          58.40714856560132,
          58.41091133797423,
          70.68797423486137,
          70.6895109744149,
          85.92178335507033,
          85.92548878768216,
          101.25939112474161,
          101.25419227764726,
          110.11605511578671,
          110.12188235615578,
          108.883015914301,
          108.88358272298551,
          101.59198082336825,
          101.59615403564774,
          92.87221767576845,
          92.8742937173429,
          85.82703615646322,
          85.83139061008978,
          82.01531604706611,
          82.02007724630838,
          82.66513777760576,
          82.65984987681966,
          89.5549144434114,
          89.56326159099771,
          104.05732813728936,
          104.05306104065839,
          124.54176980442347,
          124.54448684202104,
          148.33086072563054,
          148.34187600193724,
          170.3598418455266,
          170.36815652375412,
          179.33083528464837,
          179.31576068699732,
          172.71429618524763,
          172.72044321177125,
          158.31611758614162,
          158.31148648745904,
          143.5691924301869,
          143.56624509150373,
          133.2346513212618,
          133.24093505390255,
          128.80216944099428,
          128.79795373754945,
          131.62021458287225,
          131.62469549667978,
          143.93332000346786,
          143.93759111437762,
          165.779622204745,
          165.77987552323364,
          193.16744379711906,
          193.16439768402137,
          223.59247788859406,
          223.60647097556668,
          248.62187292954795,
          248.63021839764784,
          253.16636775165293,
          253.16841632403268,
          238.49083259438822,
          238.49428100672228,
          215.8793808812064,
          215.8899378977708,
          195.65475617825166,
          195.65492182575315,
          182.96366162312245,
          182.97351550513332,
          178.46582344859542,
          178.47045182312615,
          183.55329128673975,
          183.54619158292698,
          199.79675897763371,
          199.8108275879003,
          224.08752776175797,
          224.10361976286117,
          251.61010754125044,
          251.6130892880915,
          281.82306828007364,
          281.8455278633688,
          302.52682749834224,
          302.53015039732486,
          299.3375769775305,
          299.3387857605014,
          277.7213571817843,
          277.75571530841756,
          250.3120608223082,
          250.31382328627066,
          228.10605904826204,
          228.10816177888233,
          214.81825701345355,
          214.80877840124427,
          210.23285000982895,
          210.24386010818736,
          215.6133069075181,
          215.60607074667465,
          230.2643494205322,
          230.26059777361408,
          248.16660882074993,
          248.17556013832078,
          267.5193524615831,
          267.51633285834066,
          289.63604750351124,
          289.639053644112,
          300.9464465734346,
          300.9336824049584,
          291.9499186364243,
          291.9367456337829,
          269.3354272880129,
          269.32719425707626,
          243.78075165236737,
          243.776351579924,
          224.0820087556866,
          224.0787762999741,
          211.67195929293283,
          211.67089182212518,
          206.5621284342203,
          206.56445375840678,
          209.3952167948461,
          209.38499150480084,
          216.88524160659375,
          216.8847578312718,
          223.2756285610937,
          223.27229836726343,
          231.65505987138252,
          231.64286648176542,
          243.17339143050677,
          243.1908155145987,
          246.54240968341895,
          246.54455123402326,
          237.26142348268624,
          237.25362162682254,
          219.87514419723294,
          219.87161352493544,
          201.41021985298013,
          201.42767536226262,
          186.71628612329027,
          186.73307815083928,
          176.11483343499938,
          176.09996765164234,
          170.5740134231855,
          170.5669484918426,
          169.92010810809197,
          169.9168536504151,
          169.6813388551611,
          169.68359881083762,
          167.23946994769824,
          167.24371366200845,
          168.2614861083325,
          168.26985568671955,
          172.56570007127664,
          172.5686824098103,
          172.73430820202432,
          172.7332344078836,
          166.980546890692,
          166.9806828280002,
          157.12204839669107,
          157.13116802030464,
          146.50554323754923,
          146.50456758981318,
          136.72525046831325,
          136.728380012082,
          128.37628224188205,
          128.39143562407412,
          123.25253485925273,
          123.25095940990889,
          120.41729741762082,
          120.41437477262981,
          115.92559869497211,
          115.92111317539188,
          110.39876801258438,
          110.39962560537133,
          109.00212804469484,
          109.00138581632817,
          110.39880748742577,
          110.39925195326772,
          110.64395345391225,
          110.63255896464302
         ]
        },
        {
         "fill": "tonexty",
         "fillcolor": "rgba(0,255,0,0.3)",
         "line": {
          "width": 0
         },
         "marker": {
          "color": "#444"
         },
         "mode": "lines",
         "name": "Intensity $\\mu+2\\sigma$",
         "showlegend": false,
         "type": "scatter",
         "x": [
          "2020-02-10T00:00:00",
          "2020-02-10T01:00:00",
          "2020-02-10T02:00:00",
          "2020-02-10T03:00:00",
          "2020-02-10T04:00:00",
          "2020-02-10T05:00:00",
          "2020-02-10T06:00:00",
          "2020-02-10T07:00:00",
          "2020-02-10T08:00:00",
          "2020-02-10T09:00:00",
          "2020-02-10T10:00:00",
          "2020-02-10T11:00:00",
          "2020-02-10T12:00:00",
          "2020-02-10T13:00:00",
          "2020-02-10T14:00:00",
          "2020-02-10T15:00:00",
          "2020-02-10T16:00:00",
          "2020-02-10T17:00:00",
          "2020-02-10T18:00:00",
          "2020-02-10T19:00:00",
          "2020-02-10T20:00:00",
          "2020-02-10T21:00:00",
          "2020-02-10T22:00:00",
          "2020-02-10T23:00:00",
          "2020-02-11T00:00:00",
          "2020-02-11T01:00:00",
          "2020-02-11T02:00:00",
          "2020-02-11T03:00:00",
          "2020-02-11T04:00:00",
          "2020-02-11T05:00:00",
          "2020-02-11T06:00:00",
          "2020-02-11T07:00:00",
          "2020-02-11T08:00:00",
          "2020-02-11T09:00:00",
          "2020-02-11T10:00:00",
          "2020-02-11T11:00:00",
          "2020-02-11T12:00:00",
          "2020-02-11T13:00:00",
          "2020-02-11T14:00:00",
          "2020-02-11T15:00:00",
          "2020-02-11T16:00:00",
          "2020-02-11T17:00:00",
          "2020-02-11T18:00:00",
          "2020-02-11T19:00:00",
          "2020-02-11T20:00:00",
          "2020-02-11T21:00:00",
          "2020-02-11T22:00:00",
          "2020-02-11T23:00:00",
          "2020-02-12T00:00:00",
          "2020-02-12T01:00:00",
          "2020-02-12T02:00:00",
          "2020-02-12T03:00:00",
          "2020-02-12T04:00:00",
          "2020-02-12T05:00:00",
          "2020-02-12T06:00:00",
          "2020-02-12T07:00:00",
          "2020-02-12T08:00:00",
          "2020-02-12T09:00:00",
          "2020-02-12T10:00:00",
          "2020-02-12T11:00:00",
          "2020-02-12T12:00:00",
          "2020-02-12T13:00:00",
          "2020-02-12T14:00:00",
          "2020-02-12T15:00:00",
          "2020-02-12T16:00:00",
          "2020-02-12T17:00:00",
          "2020-02-12T18:00:00",
          "2020-02-12T19:00:00",
          "2020-02-12T20:00:00",
          "2020-02-12T21:00:00",
          "2020-02-12T22:00:00",
          "2020-02-12T23:00:00",
          "2020-02-13T00:00:00",
          "2020-02-13T01:00:00",
          "2020-02-13T02:00:00",
          "2020-02-13T03:00:00",
          "2020-02-13T04:00:00",
          "2020-02-13T05:00:00",
          "2020-02-13T06:00:00",
          "2020-02-13T07:00:00",
          "2020-02-13T08:00:00",
          "2020-02-13T09:00:00",
          "2020-02-13T10:00:00",
          "2020-02-13T11:00:00",
          "2020-02-13T12:00:00",
          "2020-02-13T13:00:00",
          "2020-02-13T14:00:00",
          "2020-02-13T15:00:00",
          "2020-02-13T16:00:00",
          "2020-02-13T17:00:00",
          "2020-02-13T18:00:00",
          "2020-02-13T19:00:00",
          "2020-02-13T20:00:00",
          "2020-02-13T21:00:00",
          "2020-02-13T22:00:00",
          "2020-02-13T23:00:00",
          "2020-02-14T00:00:00",
          "2020-02-14T01:00:00",
          "2020-02-14T02:00:00",
          "2020-02-14T03:00:00",
          "2020-02-14T04:00:00",
          "2020-02-14T05:00:00",
          "2020-02-14T06:00:00",
          "2020-02-14T07:00:00",
          "2020-02-14T08:00:00",
          "2020-02-14T09:00:00",
          "2020-02-14T10:00:00",
          "2020-02-14T11:00:00",
          "2020-02-14T12:00:00",
          "2020-02-14T13:00:00",
          "2020-02-14T14:00:00",
          "2020-02-14T15:00:00",
          "2020-02-14T16:00:00",
          "2020-02-14T17:00:00",
          "2020-02-14T18:00:00",
          "2020-02-14T19:00:00",
          "2020-02-14T20:00:00",
          "2020-02-14T21:00:00",
          "2020-02-14T22:00:00",
          "2020-02-14T23:00:00",
          "2020-02-15T00:00:00",
          "2020-02-15T01:00:00",
          "2020-02-15T02:00:00",
          "2020-02-15T03:00:00",
          "2020-02-15T04:00:00",
          "2020-02-15T05:00:00",
          "2020-02-15T06:00:00",
          "2020-02-15T07:00:00",
          "2020-02-15T08:00:00",
          "2020-02-15T09:00:00",
          "2020-02-15T10:00:00",
          "2020-02-15T11:00:00",
          "2020-02-15T12:00:00",
          "2020-02-15T13:00:00",
          "2020-02-15T14:00:00",
          "2020-02-15T15:00:00",
          "2020-02-15T16:00:00",
          "2020-02-15T17:00:00",
          "2020-02-15T18:00:00",
          "2020-02-15T19:00:00",
          "2020-02-15T20:00:00",
          "2020-02-15T21:00:00",
          "2020-02-15T22:00:00",
          "2020-02-15T23:00:00",
          "2020-02-16T00:00:00",
          "2020-02-16T01:00:00",
          "2020-02-16T02:00:00",
          "2020-02-16T03:00:00",
          "2020-02-16T04:00:00",
          "2020-02-16T05:00:00",
          "2020-02-16T06:00:00",
          "2020-02-16T07:00:00",
          "2020-02-16T08:00:00",
          "2020-02-16T09:00:00",
          "2020-02-16T10:00:00",
          "2020-02-16T11:00:00",
          "2020-02-16T12:00:00",
          "2020-02-16T13:00:00",
          "2020-02-16T14:00:00",
          "2020-02-16T15:00:00",
          "2020-02-16T16:00:00",
          "2020-02-16T17:00:00",
          "2020-02-16T18:00:00",
          "2020-02-16T19:00:00",
          "2020-02-16T20:00:00",
          "2020-02-16T21:00:00",
          "2020-02-16T22:00:00"
         ],
         "y": [
          6.793712680135586,
          6.793928257440131,
          7.199581970615642,
          7.198340827017307,
          7.26169643688675,
          7.26180120385039,
          6.813227578505009,
          6.8123600209413455,
          6.256218580917022,
          6.2560411330782575,
          6.132177691918526,
          6.131273328703369,
          6.617688458950913,
          6.6176668396167635,
          7.3421333681406695,
          7.341252630176129,
          7.7778932621538415,
          7.77840498877242,
          7.806818058388514,
          7.806575585065627,
          7.635389864833879,
          7.635930450870188,
          7.601593435767829,
          7.601016414516461,
          7.964188833660016,
          7.963699235317666,
          8.395233717332331,
          8.396331645605603,
          8.283500536149681,
          8.28267409861119,
          7.70044170499424,
          7.700986961250882,
          7.194398089939788,
          7.193807927133893,
          7.282235705956921,
          7.282664437478164,
          7.955330704201764,
          7.953656663731934,
          8.700365571062115,
          8.70039281854627,
          9.161741575456276,
          9.162328243832956,
          9.378506178212069,
          9.378535096246342,
          9.516988746892133,
          9.517422674129627,
          9.874750672854724,
          9.874145070460763,
          10.563328407582471,
          10.563719022733643,
          10.952636766745089,
          10.952182028818555,
          10.580999484890544,
          10.581153755154729,
          9.87546773715648,
          9.876756567399775,
          9.483439132678962,
          9.481546290097427,
          9.806229308965253,
          9.806106298095859,
          10.585177041578746,
          10.586316851273743,
          11.373686259060955,
          11.373392617965202,
          12.088743231944918,
          12.087846190219969,
          12.794679924827246,
          12.796920251696822,
          13.567231938980468,
          13.56658340645798,
          14.686810504892211,
          14.686159704801778,
          15.815085287905212,
          15.81296313868332,
          15.976931662395717,
          15.978487561218452,
          15.282816649967373,
          15.28298512151818,
          14.509635328282977,
          14.50899385239704,
          14.235984602024473,
          14.237816636679561,
          14.67644623176399,
          14.677681700142983,
          15.474549376617674,
          15.476718233885912,
          16.527503989565336,
          16.525703370034186,
          18.01559360435271,
          18.018164020969593,
          19.831001688498354,
          19.83192982859591,
          22.02994847188184,
          22.035384424100716,
          24.65115918166253,
          24.64793768507664,
          26.180123789854775,
          26.179520634959083,
          25.814021765567006,
          25.812706370517603,
          24.769151643694464,
          24.76534142889084,
          23.802173645640433,
          23.799861355037027,
          23.360750533739317,
          23.35978162749116,
          23.626102412790665,
          23.625189033769846,
          24.500165606851255,
          24.4960507182953,
          26.468514219074777,
          26.469853955684144,
          29.84439829806624,
          29.844226255216352,
          34.14260245440376,
          34.140681993624504,
          39.467676954233234,
          39.465991416076406,
          44.469483991473744,
          44.47160466742361,
          46.03380496966596,
          46.03125341634255,
          44.710943030436326,
          44.710954976734534,
          42.954298578903185,
          42.95330829664134,
          40.97079458196273,
          40.97716087590527,
          39.688850207484585,
          39.6813936146769,
          39.48378232267392,
          39.49055470660933,
          40.91493192788739,
          40.9170085000353,
          45.308854342632415,
          45.308891673205544,
          52.75984733179041,
          52.76118157373296,
          62.08422154332567,
          62.08235916386762,
          72.87949301676822,
          72.88181886647223,
          80.84268846265927,
          80.85247070553267,
          81.62922326552868,
          81.61983764616264,
          78.43794934195932,
          78.4457571862751,
          74.36715078698825,
          74.36361025711133,
          69.81901198656324,
          69.82582802509802,
          66.89389362824608,
          66.89680046797011,
          66.21772473292938,
          66.21806031313204,
          69.47966221786493,
          69.49779637819728,
          79.13277541874106,
          79.13424817720184,
          93.94138240280223,
          93.94853492396877,
          111.33154918815308,
          111.33623409189053,
          129.52792090214518,
          129.51676368019366,
          140.31580136827395,
          140.3351820065014,
          138.7812126645084,
          138.78484430476175,
          131.06650489814504,
          131.0933019015905,
          121.69203503748244,
          121.67848608406172,
          113.27233793468915,
          113.29447739083028,
          108.36762029644414,
          108.37701517859526,
          107.86261312945234,
          107.85194982732583,
          115.22519278007533,
          115.23220150291968,
          133.71338327086642,
          133.69444393650457,
          158.68141652345705,
          158.6928411104785,
          185.8658352950565,
          185.9013294084938,
          211.47054924663132,
          211.47552918540782,
          223.44870610937926,
          223.45391471357522,
          216.01949211405315,
          216.006242369266,
          198.9386686030939,
          198.93016245307615,
          182.20016617158834,
          182.19385738310115,
          170.51171228320436,
          170.5345101815491,
          164.75365062273633,
          164.74389253965774,
          166.14606222477641,
          166.14134157008897,
          179.82029136076724,
          179.82379756309643,
          208.21069024311447,
          208.22959082743705,
          242.7439696568506,
          242.74345748433734,
          277.9055320386032,
          277.9307344908002,
          306.8612431916462,
          306.8668012787685,
          314.97311508621567,
          314.9560786542793,
          295.79563202897157,
          295.82298802864193,
          266.72954572861033,
          266.7319987039274,
          244.98028433878324,
          244.96406226275815,
          232.90843657186699,
          232.91091033164173,
          229.15155577296412,
          229.12923595460015,
          234.11582624544013,
          234.0747410525122,
          252.28653566866296,
          252.3111112692382,
          284.3556074035582,
          284.3428861112204,
          321.0092056096236,
          321.0064054950201,
          355.8645179050532,
          355.9139703771782,
          380.1837770598767,
          380.1862497627656,
          377.9687471599565,
          377.9822858366903,
          346.0831248192357,
          346.0949013765835,
          310.52805027455827,
          310.52564484461726,
          288.3011850197936,
          288.31840347392387,
          278.2931225515623,
          278.27225224797246,
          277.14378598269707,
          277.19794770895226,
          282.62844928743533,
          282.65528077635514,
          297.352459111158,
          297.35302425394764,
          321.85372280406466,
          321.85523138395394,
          348.65725609711757,
          348.67444111003596,
          373.21816878264826,
          373.2106054377334,
          387.83557343483045,
          387.83894905046157,
          375.8529769200756,
          375.82138137006433,
          340.1967757572469,
          340.1931498242683,
          307.57577439175213,
          307.57740155786314,
          287.71587125872526,
          287.7107081815994,
          278.89110476591804,
          278.88043130680916,
          276.7914682853762,
          276.7537500083695,
          277.6473528923441,
          277.6187686993587,
          283.8728088972206,
          283.88663317817395,
          295.3222559692216,
          295.30569752160307,
          306.92465370644237,
          306.9193161817583,
          320.11481901446075,
          320.12692403039847,
          327.02640473120175,
          327.03979214917047,
          312.7993942267609,
          312.7854963801896,
          285.4507384298201,
          285.4399894735253,
          262.2023728078516,
          262.2295745772814,
          245.4109364807664,
          245.43583842850742,
          234.94283023403514,
          234.90262229079246,
          229.43864031296775,
          229.44046271871915,
          226.9178832049739,
          226.92448391704147,
          229.4348461457103,
          229.44350798124853,
          230.82793137644364,
          230.83641923663026,
          232.9921618498297,
          232.99455331145126,
          240.6095803439424,
          240.58838021484252,
          243.68899307679663,
          243.71146722510915,
          235.21958966961802,
          235.21412645955252,
          222.4823817303424,
          222.51771167796443,
          209.83614084205394,
          209.8288212220056,
          195.84755251930974,
          195.85744272926613,
          183.197878131821,
          183.2363012320004,
          176.06206481442806,
          176.06877871417552,
          175.06829816946004,
          175.0672924254849,
          175.2505217832745,
          175.22648239816888,
          171.00955363024514,
          171.00346242116075,
          171.06092474548254,
          171.05822033795988,
          176.37202233905055,
          176.36231159698633,
          179.47926092300975,
          179.44715151112067
         ]
        },
        {
         "line": {
          "color": "#1f77b4"
         },
         "mode": "lines+markers",
         "name": "Actual counts",
         "type": "scatter",
         "x": [
          "2020-02-10T00:00:00",
          "2020-02-10T01:00:00",
          "2020-02-10T02:00:00",
          "2020-02-10T03:00:00",
          "2020-02-10T04:00:00",
          "2020-02-10T05:00:00",
          "2020-02-10T06:00:00",
          "2020-02-10T07:00:00",
          "2020-02-10T08:00:00",
          "2020-02-10T09:00:00",
          "2020-02-10T10:00:00",
          "2020-02-10T11:00:00",
          "2020-02-10T12:00:00",
          "2020-02-10T13:00:00",
          "2020-02-10T14:00:00",
          "2020-02-10T15:00:00",
          "2020-02-10T16:00:00",
          "2020-02-10T17:00:00",
          "2020-02-10T18:00:00",
          "2020-02-10T19:00:00",
          "2020-02-10T20:00:00",
          "2020-02-10T21:00:00",
          "2020-02-10T22:00:00",
          "2020-02-10T23:00:00",
          "2020-02-11T00:00:00",
          "2020-02-11T01:00:00",
          "2020-02-11T02:00:00",
          "2020-02-11T03:00:00",
          "2020-02-11T04:00:00",
          "2020-02-11T05:00:00",
          "2020-02-11T06:00:00",
          "2020-02-11T07:00:00",
          "2020-02-11T08:00:00",
          "2020-02-11T09:00:00",
          "2020-02-11T10:00:00",
          "2020-02-11T11:00:00",
          "2020-02-11T12:00:00",
          "2020-02-11T13:00:00",
          "2020-02-11T14:00:00",
          "2020-02-11T15:00:00",
          "2020-02-11T16:00:00",
          "2020-02-11T17:00:00",
          "2020-02-11T18:00:00",
          "2020-02-11T19:00:00",
          "2020-02-11T20:00:00",
          "2020-02-11T21:00:00",
          "2020-02-11T22:00:00",
          "2020-02-11T23:00:00",
          "2020-02-12T00:00:00",
          "2020-02-12T01:00:00",
          "2020-02-12T02:00:00",
          "2020-02-12T03:00:00",
          "2020-02-12T04:00:00",
          "2020-02-12T05:00:00",
          "2020-02-12T06:00:00",
          "2020-02-12T07:00:00",
          "2020-02-12T08:00:00",
          "2020-02-12T09:00:00",
          "2020-02-12T10:00:00",
          "2020-02-12T11:00:00",
          "2020-02-12T12:00:00",
          "2020-02-12T13:00:00",
          "2020-02-12T14:00:00",
          "2020-02-12T15:00:00",
          "2020-02-12T16:00:00",
          "2020-02-12T17:00:00",
          "2020-02-12T18:00:00",
          "2020-02-12T19:00:00",
          "2020-02-12T20:00:00",
          "2020-02-12T21:00:00",
          "2020-02-12T22:00:00",
          "2020-02-12T23:00:00",
          "2020-02-13T00:00:00",
          "2020-02-13T01:00:00",
          "2020-02-13T02:00:00",
          "2020-02-13T03:00:00",
          "2020-02-13T04:00:00",
          "2020-02-13T05:00:00",
          "2020-02-13T06:00:00",
          "2020-02-13T07:00:00",
          "2020-02-13T08:00:00",
          "2020-02-13T09:00:00",
          "2020-02-13T10:00:00",
          "2020-02-13T11:00:00",
          "2020-02-13T12:00:00",
          "2020-02-13T13:00:00",
          "2020-02-13T14:00:00",
          "2020-02-13T15:00:00",
          "2020-02-13T16:00:00",
          "2020-02-13T17:00:00",
          "2020-02-13T18:00:00",
          "2020-02-13T19:00:00",
          "2020-02-13T20:00:00",
          "2020-02-13T21:00:00",
          "2020-02-13T22:00:00",
          "2020-02-13T23:00:00",
          "2020-02-14T00:00:00",
          "2020-02-14T01:00:00",
          "2020-02-14T02:00:00",
          "2020-02-14T03:00:00",
          "2020-02-14T04:00:00",
          "2020-02-14T05:00:00",
          "2020-02-14T06:00:00",
          "2020-02-14T07:00:00",
          "2020-02-14T08:00:00",
          "2020-02-14T09:00:00",
          "2020-02-14T10:00:00",
          "2020-02-14T11:00:00",
          "2020-02-14T12:00:00",
          "2020-02-14T13:00:00",
          "2020-02-14T14:00:00",
          "2020-02-14T15:00:00",
          "2020-02-14T16:00:00",
          "2020-02-14T17:00:00",
          "2020-02-14T18:00:00",
          "2020-02-14T19:00:00",
          "2020-02-14T20:00:00",
          "2020-02-14T21:00:00",
          "2020-02-14T22:00:00",
          "2020-02-14T23:00:00",
          "2020-02-15T00:00:00",
          "2020-02-15T01:00:00",
          "2020-02-15T02:00:00",
          "2020-02-15T03:00:00",
          "2020-02-15T04:00:00",
          "2020-02-15T05:00:00",
          "2020-02-15T06:00:00",
          "2020-02-15T07:00:00",
          "2020-02-15T08:00:00",
          "2020-02-15T09:00:00",
          "2020-02-15T10:00:00",
          "2020-02-15T11:00:00",
          "2020-02-15T12:00:00",
          "2020-02-15T13:00:00",
          "2020-02-15T14:00:00",
          "2020-02-15T15:00:00",
          "2020-02-15T16:00:00",
          "2020-02-15T17:00:00",
          "2020-02-15T18:00:00",
          "2020-02-15T19:00:00",
          "2020-02-15T20:00:00",
          "2020-02-15T21:00:00",
          "2020-02-15T22:00:00",
          "2020-02-15T23:00:00",
          "2020-02-16T00:00:00",
          "2020-02-16T01:00:00",
          "2020-02-16T02:00:00",
          "2020-02-16T03:00:00",
          "2020-02-16T04:00:00",
          "2020-02-16T05:00:00",
          "2020-02-16T06:00:00",
          "2020-02-16T07:00:00",
          "2020-02-16T08:00:00",
          "2020-02-16T09:00:00",
          "2020-02-16T10:00:00",
          "2020-02-16T11:00:00",
          "2020-02-16T12:00:00",
          "2020-02-16T13:00:00",
          "2020-02-16T14:00:00",
          "2020-02-16T15:00:00",
          "2020-02-16T16:00:00",
          "2020-02-16T17:00:00",
          "2020-02-16T18:00:00",
          "2020-02-16T19:00:00",
          "2020-02-16T20:00:00",
          "2020-02-16T21:00:00",
          "2020-02-16T22:00:00"
         ],
         "y": [
          88,
          75,
          61,
          67,
          74,
          97,
          153,
          185,
          207,
          202,
          192,
          210,
          244,
          252,
          275,
          278,
          260,
          274,
          199,
          247,
          236,
          195,
          274,
          300,
          201,
          113,
          92,
          88,
          95,
          100,
          162,
          200,
          191,
          227,
          224,
          235,
          265,
          232,
          238,
          256,
          266,
          261,
          245,
          283,
          260,
          233,
          216,
          281,
          278,
          167,
          102,
          77,
          91,
          104,
          148,
          185,
          227,
          238,
          211,
          236,
          233,
          252,
          247,
          271,
          267,
          308,
          239,
          300,
          280,
          221,
          260,
          259,
          303,
          188,
          122,
          113,
          105,
          118,
          163,
          180,
          236,
          237,
          232,
          234,
          231,
          233,
          260,
          234,
          283,
          296,
          226,
          267,
          299,
          266,
          259,
          303,
          283,
          199,
          158,
          116,
          98,
          123,
          140,
          140,
          226,
          204,
          213,
          223,
          219,
          233,
          240,
          248,
          233,
          226,
          217,
          202,
          266,
          256,
          280,
          244,
          232,
          184,
          171,
          149,
          101,
          63,
          78,
          93,
          112,
          141,
          148,
          173,
          186,
          184,
          227,
          229,
          220,
          258,
          232,
          190,
          172,
          192,
          213,
          205,
          187,
          162,
          171,
          116,
          112,
          63,
          72,
          60,
          79,
          126,
          142,
          146,
          159,
          199,
          202,
          198,
          213,
          201,
          242,
          189,
          147,
          162,
          161
         ]
        }
       ],
       "layout": {
        "font": {
         "size": 16
        },
        "template": {
         "data": {
          "bar": [
           {
            "error_x": {
             "color": "#2a3f5f"
            },
            "error_y": {
             "color": "#2a3f5f"
            },
            "marker": {
             "line": {
              "color": "#E5ECF6",
              "width": 0.5
             }
            },
            "type": "bar"
           }
          ],
          "barpolar": [
           {
            "marker": {
             "line": {
              "color": "#E5ECF6",
              "width": 0.5
             }
            },
            "type": "barpolar"
           }
          ],
          "carpet": [
           {
            "aaxis": {
             "endlinecolor": "#2a3f5f",
             "gridcolor": "white",
             "linecolor": "white",
             "minorgridcolor": "white",
             "startlinecolor": "#2a3f5f"
            },
            "baxis": {
             "endlinecolor": "#2a3f5f",
             "gridcolor": "white",
             "linecolor": "white",
             "minorgridcolor": "white",
             "startlinecolor": "#2a3f5f"
            },
            "type": "carpet"
           }
          ],
          "choropleth": [
           {
            "colorbar": {
             "outlinewidth": 0,
             "ticks": ""
            },
            "type": "choropleth"
           }
          ],
          "contour": [
           {
            "colorbar": {
             "outlinewidth": 0,
             "ticks": ""
            },
            "colorscale": [
             [
              0,
              "#0d0887"
             ],
             [
              0.1111111111111111,
              "#46039f"
             ],
             [
              0.2222222222222222,
              "#7201a8"
             ],
             [
              0.3333333333333333,
              "#9c179e"
             ],
             [
              0.4444444444444444,
              "#bd3786"
             ],
             [
              0.5555555555555556,
              "#d8576b"
             ],
             [
              0.6666666666666666,
              "#ed7953"
             ],
             [
              0.7777777777777778,
              "#fb9f3a"
             ],
             [
              0.8888888888888888,
              "#fdca26"
             ],
             [
              1,
              "#f0f921"
             ]
            ],
            "type": "contour"
           }
          ],
          "contourcarpet": [
           {
            "colorbar": {
             "outlinewidth": 0,
             "ticks": ""
            },
            "type": "contourcarpet"
           }
          ],
          "heatmap": [
           {
            "colorbar": {
             "outlinewidth": 0,
             "ticks": ""
            },
            "colorscale": [
             [
              0,
              "#0d0887"
             ],
             [
              0.1111111111111111,
              "#46039f"
             ],
             [
              0.2222222222222222,
              "#7201a8"
             ],
             [
              0.3333333333333333,
              "#9c179e"
             ],
             [
              0.4444444444444444,
              "#bd3786"
             ],
             [
              0.5555555555555556,
              "#d8576b"
             ],
             [
              0.6666666666666666,
              "#ed7953"
             ],
             [
              0.7777777777777778,
              "#fb9f3a"
             ],
             [
              0.8888888888888888,
              "#fdca26"
             ],
             [
              1,
              "#f0f921"
             ]
            ],
            "type": "heatmap"
           }
          ],
          "heatmapgl": [
           {
            "colorbar": {
             "outlinewidth": 0,
             "ticks": ""
            },
            "colorscale": [
             [
              0,
              "#0d0887"
             ],
             [
              0.1111111111111111,
              "#46039f"
             ],
             [
              0.2222222222222222,
              "#7201a8"
             ],
             [
              0.3333333333333333,
              "#9c179e"
             ],
             [
              0.4444444444444444,
              "#bd3786"
             ],
             [
              0.5555555555555556,
              "#d8576b"
             ],
             [
              0.6666666666666666,
              "#ed7953"
             ],
             [
              0.7777777777777778,
              "#fb9f3a"
             ],
             [
              0.8888888888888888,
              "#fdca26"
             ],
             [
              1,
              "#f0f921"
             ]
            ],
            "type": "heatmapgl"
           }
          ],
          "histogram": [
           {
            "marker": {
             "colorbar": {
              "outlinewidth": 0,
              "ticks": ""
             }
            },
            "type": "histogram"
           }
          ],
          "histogram2d": [
           {
            "colorbar": {
             "outlinewidth": 0,
             "ticks": ""
            },
            "colorscale": [
             [
              0,
              "#0d0887"
             ],
             [
              0.1111111111111111,
              "#46039f"
             ],
             [
              0.2222222222222222,
              "#7201a8"
             ],
             [
              0.3333333333333333,
              "#9c179e"
             ],
             [
              0.4444444444444444,
              "#bd3786"
             ],
             [
              0.5555555555555556,
              "#d8576b"
             ],
             [
              0.6666666666666666,
              "#ed7953"
             ],
             [
              0.7777777777777778,
              "#fb9f3a"
             ],
             [
              0.8888888888888888,
              "#fdca26"
             ],
             [
              1,
              "#f0f921"
             ]
            ],
            "type": "histogram2d"
           }
          ],
          "histogram2dcontour": [
           {
            "colorbar": {
             "outlinewidth": 0,
             "ticks": ""
            },
            "colorscale": [
             [
              0,
              "#0d0887"
             ],
             [
              0.1111111111111111,
              "#46039f"
             ],
             [
              0.2222222222222222,
              "#7201a8"
             ],
             [
              0.3333333333333333,
              "#9c179e"
             ],
             [
              0.4444444444444444,
              "#bd3786"
             ],
             [
              0.5555555555555556,
              "#d8576b"
             ],
             [
              0.6666666666666666,
              "#ed7953"
             ],
             [
              0.7777777777777778,
              "#fb9f3a"
             ],
             [
              0.8888888888888888,
              "#fdca26"
             ],
             [
              1,
              "#f0f921"
             ]
            ],
            "type": "histogram2dcontour"
           }
          ],
          "mesh3d": [
           {
            "colorbar": {
             "outlinewidth": 0,
             "ticks": ""
            },
            "type": "mesh3d"
           }
          ],
          "parcoords": [
           {
            "line": {
             "colorbar": {
              "outlinewidth": 0,
              "ticks": ""
             }
            },
            "type": "parcoords"
           }
          ],
          "pie": [
           {
            "automargin": true,
            "type": "pie"
           }
          ],
          "scatter": [
           {
            "marker": {
             "colorbar": {
              "outlinewidth": 0,
              "ticks": ""
             }
            },
            "type": "scatter"
           }
          ],
          "scatter3d": [
           {
            "line": {
             "colorbar": {
              "outlinewidth": 0,
              "ticks": ""
             }
            },
            "marker": {
             "colorbar": {
              "outlinewidth": 0,
              "ticks": ""
             }
            },
            "type": "scatter3d"
           }
          ],
          "scattercarpet": [
           {
            "marker": {
             "colorbar": {
              "outlinewidth": 0,
              "ticks": ""
             }
            },
            "type": "scattercarpet"
           }
          ],
          "scattergeo": [
           {
            "marker": {
             "colorbar": {
              "outlinewidth": 0,
              "ticks": ""
             }
            },
            "type": "scattergeo"
           }
          ],
          "scattergl": [
           {
            "marker": {
             "colorbar": {
              "outlinewidth": 0,
              "ticks": ""
             }
            },
            "type": "scattergl"
           }
          ],
          "scattermapbox": [
           {
            "marker": {
             "colorbar": {
              "outlinewidth": 0,
              "ticks": ""
             }
            },
            "type": "scattermapbox"
           }
          ],
          "scatterpolar": [
           {
            "marker": {
             "colorbar": {
              "outlinewidth": 0,
              "ticks": ""
             }
            },
            "type": "scatterpolar"
           }
          ],
          "scatterpolargl": [
           {
            "marker": {
             "colorbar": {
              "outlinewidth": 0,
              "ticks": ""
             }
            },
            "type": "scatterpolargl"
           }
          ],
          "scatterternary": [
           {
            "marker": {
             "colorbar": {
              "outlinewidth": 0,
              "ticks": ""
             }
            },
            "type": "scatterternary"
           }
          ],
          "surface": [
           {
            "colorbar": {
             "outlinewidth": 0,
             "ticks": ""
            },
            "colorscale": [
             [
              0,
              "#0d0887"
             ],
             [
              0.1111111111111111,
              "#46039f"
             ],
             [
              0.2222222222222222,
              "#7201a8"
             ],
             [
              0.3333333333333333,
              "#9c179e"
             ],
             [
              0.4444444444444444,
              "#bd3786"
             ],
             [
              0.5555555555555556,
              "#d8576b"
             ],
             [
              0.6666666666666666,
              "#ed7953"
             ],
             [
              0.7777777777777778,
              "#fb9f3a"
             ],
             [
              0.8888888888888888,
              "#fdca26"
             ],
             [
              1,
              "#f0f921"
             ]
            ],
            "type": "surface"
           }
          ],
          "table": [
           {
            "cells": {
             "fill": {
              "color": "#EBF0F8"
             },
             "line": {
              "color": "white"
             }
            },
            "header": {
             "fill": {
              "color": "#C8D4E3"
             },
             "line": {
              "color": "white"
             }
            },
            "type": "table"
           }
          ]
         },
         "layout": {
          "annotationdefaults": {
           "arrowcolor": "#2a3f5f",
           "arrowhead": 0,
           "arrowwidth": 1
          },
          "coloraxis": {
           "colorbar": {
            "outlinewidth": 0,
            "ticks": ""
           }
          },
          "colorscale": {
           "diverging": [
            [
             0,
             "#8e0152"
            ],
            [
             0.1,
             "#c51b7d"
            ],
            [
             0.2,
             "#de77ae"
            ],
            [
             0.3,
             "#f1b6da"
            ],
            [
             0.4,
             "#fde0ef"
            ],
            [
             0.5,
             "#f7f7f7"
            ],
            [
             0.6,
             "#e6f5d0"
            ],
            [
             0.7,
             "#b8e186"
            ],
            [
             0.8,
             "#7fbc41"
            ],
            [
             0.9,
             "#4d9221"
            ],
            [
             1,
             "#276419"
            ]
           ],
           "sequential": [
            [
             0,
             "#0d0887"
            ],
            [
             0.1111111111111111,
             "#46039f"
            ],
            [
             0.2222222222222222,
             "#7201a8"
            ],
            [
             0.3333333333333333,
             "#9c179e"
            ],
            [
             0.4444444444444444,
             "#bd3786"
            ],
            [
             0.5555555555555556,
             "#d8576b"
            ],
            [
             0.6666666666666666,
             "#ed7953"
            ],
            [
             0.7777777777777778,
             "#fb9f3a"
            ],
            [
             0.8888888888888888,
             "#fdca26"
            ],
            [
             1,
             "#f0f921"
            ]
           ],
           "sequentialminus": [
            [
             0,
             "#0d0887"
            ],
            [
             0.1111111111111111,
             "#46039f"
            ],
            [
             0.2222222222222222,
             "#7201a8"
            ],
            [
             0.3333333333333333,
             "#9c179e"
            ],
            [
             0.4444444444444444,
             "#bd3786"
            ],
            [
             0.5555555555555556,
             "#d8576b"
            ],
            [
             0.6666666666666666,
             "#ed7953"
            ],
            [
             0.7777777777777778,
             "#fb9f3a"
            ],
            [
             0.8888888888888888,
             "#fdca26"
            ],
            [
             1,
             "#f0f921"
            ]
           ]
          },
          "colorway": [
           "#636efa",
           "#EF553B",
           "#00cc96",
           "#ab63fa",
           "#FFA15A",
           "#19d3f3",
           "#FF6692",
           "#B6E880",
           "#FF97FF",
           "#FECB52"
          ],
          "font": {
           "color": "#2a3f5f"
          },
          "geo": {
           "bgcolor": "white",
           "lakecolor": "white",
           "landcolor": "#E5ECF6",
           "showlakes": true,
           "showland": true,
           "subunitcolor": "white"
          },
          "hoverlabel": {
           "align": "left"
          },
          "hovermode": "closest",
          "mapbox": {
           "style": "light"
          },
          "paper_bgcolor": "white",
          "plot_bgcolor": "#E5ECF6",
          "polar": {
           "angularaxis": {
            "gridcolor": "white",
            "linecolor": "white",
            "ticks": ""
           },
           "bgcolor": "#E5ECF6",
           "radialaxis": {
            "gridcolor": "white",
            "linecolor": "white",
            "ticks": ""
           }
          },
          "scene": {
           "xaxis": {
            "backgroundcolor": "#E5ECF6",
            "gridcolor": "white",
            "gridwidth": 2,
            "linecolor": "white",
            "showbackground": true,
            "ticks": "",
            "zerolinecolor": "white"
           },
           "yaxis": {
            "backgroundcolor": "#E5ECF6",
            "gridcolor": "white",
            "gridwidth": 2,
            "linecolor": "white",
            "showbackground": true,
            "ticks": "",
            "zerolinecolor": "white"
           },
           "zaxis": {
            "backgroundcolor": "#E5ECF6",
            "gridcolor": "white",
            "gridwidth": 2,
            "linecolor": "white",
            "showbackground": true,
            "ticks": "",
            "zerolinecolor": "white"
           }
          },
          "shapedefaults": {
           "line": {
            "color": "#2a3f5f"
           }
          },
          "ternary": {
           "aaxis": {
            "gridcolor": "white",
            "linecolor": "white",
            "ticks": ""
           },
           "baxis": {
            "gridcolor": "white",
            "linecolor": "white",
            "ticks": ""
           },
           "bgcolor": "#E5ECF6",
           "caxis": {
            "gridcolor": "white",
            "linecolor": "white",
            "ticks": ""
           }
          },
          "title": {
           "x": 0.05
          },
          "xaxis": {
           "automargin": true,
           "gridcolor": "white",
           "linecolor": "white",
           "ticks": "",
           "title": {
            "standoff": 15
           },
           "zerolinecolor": "white",
           "zerolinewidth": 2
          },
          "yaxis": {
           "automargin": true,
           "gridcolor": "white",
           "linecolor": "white",
           "ticks": "",
           "title": {
            "standoff": 15
           },
           "zerolinecolor": "white",
           "zerolinewidth": 2
          }
         }
        },
        "title": {
         "text": "Timeseries of sensor N00/002e1"
        },
        "xaxis": {
         "title": {
          "text": "Datetime"
         }
        },
        "yaxis": {
         "title": {
          "text": "# of vechicles per hour"
         }
        }
       }
      }
     },
     "metadata": {}
    }
   ],
   "source": [
    "detector_id = scoot_ids[scoot_id]\n",
    "sensor_df = scoot_individual_df_arr[scoot_id]\n",
    "plotly_results(sensor_df, detector_id, model0, Xtest0, num_samples=1000)"
   ]
  },
  {
   "cell_type": "markdown",
   "metadata": {},
   "source": [
    "# Save results"
   ]
  },
  {
   "cell_type": "code",
   "execution_count": 36,
   "metadata": {},
   "outputs": [
    {
     "output_type": "error",
     "ename": "NameError",
     "evalue": "name 'save_model_and_metadata' is not defined",
     "traceback": [
      "\u001b[0;31m---------------------------------------------------------------------------\u001b[0m",
      "\u001b[0;31mNameError\u001b[0m                                 Traceback (most recent call last)",
      "\u001b[0;32m<ipython-input-36-d04b34cd0096>\u001b[0m in \u001b[0;36m<module>\u001b[0;34m\u001b[0m\n\u001b[0;32m----> 1\u001b[0;31m \u001b[0msave_model_and_metadata\u001b[0m\u001b[0;34m(\u001b[0m\u001b[0mscoot_ids\u001b[0m\u001b[0;34m[\u001b[0m\u001b[0mscoot_id\u001b[0m\u001b[0;34m]\u001b[0m\u001b[0;34m,\u001b[0m\u001b[0mmodel0\u001b[0m\u001b[0;34m,\u001b[0m\u001b[0mX_arr\u001b[0m\u001b[0;34m[\u001b[0m\u001b[0mscoot_id\u001b[0m\u001b[0;34m]\u001b[0m\u001b[0;34m,\u001b[0m\u001b[0mY_arr\u001b[0m\u001b[0;34m[\u001b[0m\u001b[0mscoot_id\u001b[0m\u001b[0;34m]\u001b[0m\u001b[0;34m,\u001b[0m\u001b[0mstart_date\u001b[0m\u001b[0;34m,\u001b[0m\u001b[0mend_date\u001b[0m\u001b[0;34m,\u001b[0m\u001b[0mkernel_settings\u001b[0m\u001b[0;34m,\u001b[0m\u001b[0mscoot_settings\u001b[0m\u001b[0;34m)\u001b[0m\u001b[0;34m\u001b[0m\u001b[0;34m\u001b[0m\u001b[0m\n\u001b[0m\u001b[1;32m      2\u001b[0m \u001b[0;34m\u001b[0m\u001b[0m\n",
      "\u001b[0;31mNameError\u001b[0m: name 'save_model_and_metadata' is not defined"
     ]
    }
   ],
   "source": [
    "save_model_and_metadata(scoot_ids[scoot_id],model0,X_arr[scoot_id],Y_arr[scoot_id],start_date,end_date,kernel_settings,scoot_settings)"
   ]
  },
  {
   "cell_type": "code",
   "execution_count": 37,
   "metadata": {},
   "outputs": [
    {
     "output_type": "error",
     "ename": "NameError",
     "evalue": "name 'load_model_and_metadata' is not defined",
     "traceback": [
      "\u001b[0;31m---------------------------------------------------------------------------\u001b[0m",
      "\u001b[0;31mNameError\u001b[0m                                 Traceback (most recent call last)",
      "\u001b[0;32m<ipython-input-37-b13522f5acfe>\u001b[0m in \u001b[0;36m<module>\u001b[0;34m\u001b[0m\n\u001b[0;32m----> 1\u001b[0;31m \u001b[0mmodel0\u001b[0m\u001b[0;34m,\u001b[0m\u001b[0mX_arr\u001b[0m\u001b[0;34m,\u001b[0m\u001b[0mY_arr\u001b[0m\u001b[0;34m,\u001b[0m\u001b[0mmetadata\u001b[0m \u001b[0;34m=\u001b[0m \u001b[0mload_model_and_metadata\u001b[0m\u001b[0;34m(\u001b[0m\u001b[0;34m'N00/002e1'\u001b[0m\u001b[0;34m,\u001b[0m\u001b[0;34m'10Feb_16Feb'\u001b[0m\u001b[0;34m)\u001b[0m\u001b[0;34m\u001b[0m\u001b[0;34m\u001b[0m\u001b[0m\n\u001b[0m\u001b[1;32m      2\u001b[0m \u001b[0;34m\u001b[0m\u001b[0m\n",
      "\u001b[0;31mNameError\u001b[0m: name 'load_model_and_metadata' is not defined"
     ]
    }
   ],
   "source": [
    "model0,X_arr,Y_arr,metadata = load_model_and_metadata('N00/002e1','10Feb_16Feb')"
   ]
  },
  {
   "cell_type": "code",
   "execution_count": 38,
   "metadata": {},
   "outputs": [
    {
     "output_type": "error",
     "ename": "NameError",
     "evalue": "name 'plotly_results' is not defined",
     "traceback": [
      "\u001b[0;31m---------------------------------------------------------------------------\u001b[0m",
      "\u001b[0;31mNameError\u001b[0m                                 Traceback (most recent call last)",
      "\u001b[0;32m<ipython-input-38-54a9c7640fa9>\u001b[0m in \u001b[0;36m<module>\u001b[0;34m\u001b[0m\n\u001b[0;32m----> 1\u001b[0;31m \u001b[0mplotly_results\u001b[0m\u001b[0;34m(\u001b[0m\u001b[0;36m0\u001b[0m\u001b[0;34m,\u001b[0m \u001b[0;36m2\u001b[0m\u001b[0;34m,\u001b[0m \u001b[0mmodel0\u001b[0m\u001b[0;34m,\u001b[0m \u001b[0mX_arr\u001b[0m\u001b[0;34m,\u001b[0m \u001b[0;36m1000\u001b[0m\u001b[0;34m)\u001b[0m\u001b[0;34m\u001b[0m\u001b[0;34m\u001b[0m\u001b[0m\n\u001b[0m",
      "\u001b[0;31mNameError\u001b[0m: name 'plotly_results' is not defined"
     ]
    }
   ],
   "source": [
    "detector_id = scoot_ids[scoot_id]\n",
    "sensor_df = scoot_individual_df_arr[scoot_id]\n",
    "plotly_results(sensor_df, detector_id, model0, X_arr, num_samples=1000)"
   ]
  },
  {
   "cell_type": "code",
   "execution_count": null,
   "metadata": {},
   "outputs": [],
   "source": []
  }
 ],
 "metadata": {
  "kernelspec": {
   "display_name": "cleanair",
   "language": "python",
   "name": "cleanair"
  },
  "language_info": {
   "codemirror_mode": {
    "name": "ipython",
    "version": 3
   },
   "file_extension": ".py",
   "mimetype": "text/x-python",
   "name": "python",
   "nbconvert_exporter": "python",
   "pygments_lexer": "ipython3",
   "version": "3.7.6-final"
  },
  "toc": {
   "base_numbering": 1,
   "nav_menu": {},
   "number_sections": true,
   "sideBar": true,
   "skip_h1_title": false,
   "title_cell": "Table of Contents",
   "title_sidebar": "Contents",
   "toc_cell": false,
   "toc_position": {},
   "toc_section_display": true,
   "toc_window_display": true
  }
 },
 "nbformat": 4,
 "nbformat_minor": 4
}