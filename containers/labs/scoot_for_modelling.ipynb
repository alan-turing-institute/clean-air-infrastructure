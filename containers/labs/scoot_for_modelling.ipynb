{
 "cells": [
  {
   "cell_type": "code",
   "execution_count": 1,
   "metadata": {},
   "outputs": [],
   "source": [
    "%matplotlib inline\n",
    "import pandas as pd\n",
    "import os\n",
    "import math\n",
    "import json\n",
    "import copy\n",
    "import numpy as np\n",
    "import matplotlib.pyplot as plt\n",
    "import gpflow\n",
    "import pickle\n",
    "import calendar\n",
    "import tensorflow as tf\n",
    "\n",
    "from pathlib import Path\n",
    "from datetime import datetime\n",
    "from gpflow.utilities import print_summary\n",
    "\n",
    "gpflow.config.set_default_summary_fmt(\"notebook\")\n",
    "\n",
    "# plotly viz - use matplotlib if you prefer\n",
    "import plotly.graph_objects as go\n",
    "import plotly.express as px\n",
    "from plotly.subplots import make_subplots\n",
    "\n",
    "# cleanair modules for scoot\n",
    "from cleanair.scoot import (\n",
    "    sample_n,\n",
    "    ScootQuery,\n",
    "    sample_intensity,\n",
    "    plotly_results,\n",
    "    choose_kernel,\n",
    "    save_model_and_metadata\n",
    ")\n"
   ]
  },
  {
   "cell_type": "code",
   "execution_count": 2,
   "metadata": {},
   "outputs": [],
   "source": [
    "# setup filepaths\n",
    "secretfile = \"../../terraform/.secrets/db_traffic.json\"\n",
    "xpfp = \"./experiments\"  # root to experiments filepaths directory\n",
    "data_dir = os.path.join(xpfp, \"data\")\n",
    "results_dir = os.path.join(xpfp, \"results\")\n",
    "models_dir = os.path.join(xpfp, \"models\")\n",
    "settings_dir = os.path.join(xpfp, \"settings\")\n",
    "\n",
    "# make directories\n",
    "Path(xpfp).mkdir(exist_ok=True)\n",
    "Path(data_dir).mkdir(exist_ok=True)         # input data and processed training data\n",
    "Path(results_dir).mkdir(exist_ok=True)      # predictions from model\n",
    "Path(models_dir).mkdir(exist_ok=True)       # saving model status\n",
    "Path(settings_dir).mkdir(exist_ok=True)     # for storing parameters"
   ]
  },
  {
   "cell_type": "code",
   "execution_count": 3,
   "metadata": {},
   "outputs": [],
   "source": [
    "# if true, all input data will be read from a local file\n",
    "read_data_from_file = True\n",
    "save_data_to_file = False\n",
    "\n",
    "# choose a start and end date for querying \"normal traffic\" period\n",
    "normal_start = \"2020-02-10 00:00:00\"\n",
    "normal_end = \"2020-02-24 00:00:00\"\n",
    "\n",
    "# choose a start and end date for querying \"lockdown traffic\" period\n",
    "lockdown_start = \"2020-03-16 00:00:00\"\n",
    "lockdown_end = \"2020-03-30 00:00:00\"\n",
    "\n",
    "# columns to analyse\n",
    "columns = [\"n_vehicles_in_interval\", \"occupancy_percentage\", \"congestion_percentage\", \"saturation\"]"
   ]
  },
  {
   "cell_type": "markdown",
   "metadata": {},
   "source": [
    "## Detector readings\n",
    "\n",
    "You can read scoot either from the DB or from a local file. Make sure you have set `read_data_from_file` and `save_data_to_file` correctly before running the below cell."
   ]
  },
  {
   "cell_type": "code",
   "execution_count": 5,
   "metadata": {},
   "outputs": [
    {
     "output_type": "stream",
     "name": "stderr",
     "text": "2020-04-01 12:04:48     INFO: Database connection information loaded from<_io.TextIOWrapper name='../../terraform/.secrets/db_traffic.json' mode='r' encoding='UTF-8'>\n"
    }
   ],
   "source": [
    "normal_fp = os.path.join(data_dir, \"normal_scoot.csv\")\n",
    "lockdown_fp = os.path.join(data_dir, \"lockdown_scoot.csv\")\n",
    "\n",
    "if read_data_from_file:\n",
    "    # read data from csv\n",
    "    normal_df = pd.read_csv(normal_fp)\n",
    "    lockdown_df = pd.read_csv(lockdown_fp)\n",
    "else:\n",
    "    # create an object for querying from DB\n",
    "    SQ = ScootQuery(secretfile=secretfile)\n",
    "    # read the data from DB\n",
    "    normal_df = SQ.get_all_readings(\n",
    "        start_datetime=normal_start,\n",
    "        end_datetime=normal_end\n",
    "    )\n",
    "    lockdown_df = SQ.get_all_readings(\n",
    "        start_datetime=lockdown_start,\n",
    "        end_datetime=lockdown_end\n",
    "    )\n",
    "    # save the data to csv if required\n",
    "    if save_data_to_file:\n",
    "        normal_df.to_csv(normal_fp)\n",
    "        lockdown_df.to_csv(lockdown_fp)"
   ]
  },
  {
   "cell_type": "code",
   "execution_count": 10,
   "metadata": {},
   "outputs": [],
   "source": [
    "with open(os.path.join(settings_dir, \"kernel_settings.json\")) as kernel_file:\n",
    "    kernel_settings = json.load(kernel_file)\n",
    "with open(os.path.join(settings_dir, \"scoot_settings.json\")) as scoot_file:\n",
    "    scoot_settings = json.load(scoot_file)"
   ]
  },
  {
   "cell_type": "markdown",
   "metadata": {},
   "source": [
    "# Simple Data cleaning\n",
    "\n",
    "    - Convert Datetime to epoch\n",
    "    - Add normalised/standardised columns"
   ]
  },
  {
   "cell_type": "code",
   "execution_count": 11,
   "metadata": {},
   "outputs": [],
   "source": [
    "def normalise(x):\n",
    "    \"\"\"Standardize all columns individually\"\"\"\n",
    "    return (x - np.mean(x, axis=0)) / np.std(x, axis=0)\n",
    "\n",
    "def denormalise(x, wrt_y):\n",
    "    \"\"\"Denormalize x given the original data it was standardized to\"\"\"\n",
    "    return ( x * np.std(wrt_y, axis=0) ) + np.mean(wrt_y, axis=0)\n",
    "\n",
    "def clean_and_normalise_df(df: pd.DataFrame):\n",
    "    \"\"\"Normalise lat, lon, epoch.\"\"\"\n",
    "    df['measurement_start_utc'] = pd.to_datetime(df['measurement_start_utc'])\n",
    "    df['epoch'] = df['measurement_start_utc'].astype('int64')//1e9 #convert to epoch\n",
    "    df['epoch_norm'] = normalise(df['epoch'])\n",
    "    df['lat_norm'] = normalise(df['lat'])\n",
    "    df['lon_norm'] = normalise(df['lon'])\n",
    "    return df\n",
    "\n",
    "def filter_df(df: pd.DataFrame, detector_list: list, start: str, end: str):\n",
    "    \"\"\"\n",
    "    Return a dataframe that only contains sensors in the list\n",
    "    and only contains observations between the start and end datetime.\n",
    "    \"\"\"\n",
    "    return df.loc[\n",
    "        (df['detector_id'].isin(detector_list)) &\n",
    "        (df[\"measurement_start_utc\"] >= start) &\n",
    "        (df[\"measurement_start_utc\"] < end)\n",
    "    ]"
   ]
  },
  {
   "cell_type": "code",
   "execution_count": 24,
   "metadata": {},
   "outputs": [
    {
     "output_type": "execute_result",
     "data": {
      "text/plain": "        detector_id       lon        lat measurement_start_utc  \\\n67954     N00/002g1 -0.102058  51.513892   2020-02-10 09:00:00   \n1055111   N00/002e1 -0.107637  51.514252   2020-02-14 15:00:00   \n98340     N00/002e1 -0.107637  51.514252   2020-02-10 13:00:00   \n\n        measurement_end_utc  n_vehicles_in_interval  occupancy_percentage  \\\n67954   2020-02-10 10:00:00                     238             41.052026   \n1055111 2020-02-14 16:00:00                     248              7.938712   \n98340   2020-02-10 14:00:00                     252              8.434961   \n\n         congestion_percentage  saturation         epoch  epoch_norm  \\\n67954                25.050847  197.338983  1.581325e+09   -1.676775   \n1055111               0.000000   76.637931  1.581692e+09   -0.686253   \n98340                 0.000000  102.900000  1.581340e+09   -1.637931   \n\n         lat_norm  lon_norm  \n67954    0.136659  0.156069  \n1055111  0.142769  0.114531  \n98340    0.142769  0.114531  ",
      "text/html": "<div>\n<style scoped>\n    .dataframe tbody tr th:only-of-type {\n        vertical-align: middle;\n    }\n\n    .dataframe tbody tr th {\n        vertical-align: top;\n    }\n\n    .dataframe thead th {\n        text-align: right;\n    }\n</style>\n<table border=\"1\" class=\"dataframe\">\n  <thead>\n    <tr style=\"text-align: right;\">\n      <th></th>\n      <th>detector_id</th>\n      <th>lon</th>\n      <th>lat</th>\n      <th>measurement_start_utc</th>\n      <th>measurement_end_utc</th>\n      <th>n_vehicles_in_interval</th>\n      <th>occupancy_percentage</th>\n      <th>congestion_percentage</th>\n      <th>saturation</th>\n      <th>epoch</th>\n      <th>epoch_norm</th>\n      <th>lat_norm</th>\n      <th>lon_norm</th>\n    </tr>\n  </thead>\n  <tbody>\n    <tr>\n      <th>67954</th>\n      <td>N00/002g1</td>\n      <td>-0.102058</td>\n      <td>51.513892</td>\n      <td>2020-02-10 09:00:00</td>\n      <td>2020-02-10 10:00:00</td>\n      <td>238</td>\n      <td>41.052026</td>\n      <td>25.050847</td>\n      <td>197.338983</td>\n      <td>1.581325e+09</td>\n      <td>-1.676775</td>\n      <td>0.136659</td>\n      <td>0.156069</td>\n    </tr>\n    <tr>\n      <th>1055111</th>\n      <td>N00/002e1</td>\n      <td>-0.107637</td>\n      <td>51.514252</td>\n      <td>2020-02-14 15:00:00</td>\n      <td>2020-02-14 16:00:00</td>\n      <td>248</td>\n      <td>7.938712</td>\n      <td>0.000000</td>\n      <td>76.637931</td>\n      <td>1.581692e+09</td>\n      <td>-0.686253</td>\n      <td>0.142769</td>\n      <td>0.114531</td>\n    </tr>\n    <tr>\n      <th>98340</th>\n      <td>N00/002e1</td>\n      <td>-0.107637</td>\n      <td>51.514252</td>\n      <td>2020-02-10 13:00:00</td>\n      <td>2020-02-10 14:00:00</td>\n      <td>252</td>\n      <td>8.434961</td>\n      <td>0.000000</td>\n      <td>102.900000</td>\n      <td>1.581340e+09</td>\n      <td>-1.637931</td>\n      <td>0.142769</td>\n      <td>0.114531</td>\n    </tr>\n  </tbody>\n</table>\n</div>"
     },
     "metadata": {},
     "execution_count": 24
    }
   ],
   "source": [
    "# choose a start and end datetime to filter by\n",
    "start_normal_interval = \"2020-02-10 00:00:00\"\n",
    "end_normal_interval = \"2020-02-17 00:00:00\"\n",
    "start_lockdown_interval = \"2020-03-16 00:00:00\"\n",
    "end_lockdown_interval = \"2020-03-23 00:00:00\"\n",
    "\n",
    "# get list of detectors from json file to filter by\n",
    "detector_list = scoot_settings[\"scoot_ids\"]\n",
    "# detector_list = list(np.unique(normal_df['detector_id']))   # all scoot detectors\n",
    "\n",
    "# clean data and normalise\n",
    "# TODO: IMPORTANT - normalisation should be same for normal and lockdown periods.\n",
    "normal_df = clean_and_normalise_df(normal_df)\n",
    "lockdown_df = clean_and_normalise_df(lockdown_df)\n",
    "\n",
    "# filter normal and lockdown dataframes by interval dates and same detectors\n",
    "normal_interval_df = filter_df(normal_df, detector_list, start_normal_interval, end_normal_interval)\n",
    "lockdown_interval_df = filter_df(lockdown_df, detector_list, start_lockdown_interval, end_lockdown_interval)\n",
    "\n",
    "normal_interval_df.sample(3)"
   ]
  },
  {
   "cell_type": "markdown",
   "metadata": {},
   "source": [
    "### Helper functions"
   ]
  },
  {
   "cell_type": "code",
   "execution_count": 25,
   "metadata": {},
   "outputs": [],
   "source": [
    "def get_X(df):\n",
    "    return np.array(df[['epoch_norm', 'lon_norm', 'lat_norm']])\n",
    "\n",
    "def get_Y(df):\n",
    "    return np.array(df[['n_vehicles_in_interval']])"
   ]
  },
  {
   "cell_type": "markdown",
   "metadata": {},
   "source": [
    "## Train scoot individually as a time series"
   ]
  },
  {
   "cell_type": "code",
   "execution_count": 27,
   "metadata": {},
   "outputs": [],
   "source": [
    "normal_group = normal_interval_df.groupby(\"detector_id\")\n",
    "lockdown_group = lockdown_interval_df.groupby(\"detector_id\")\n",
    "\n",
    "# list of dfs for all sensors\n",
    "normal_df_list = [normal_group.get_group(id) for id in detector_list] \n",
    "lockdown_df_list = [lockdown_group.get_group(id) for id in detector_list]\n",
    "\n",
    "# get list of numpy arrays for each dataframe\n",
    "X_arr = [get_X(df) for df in normal_df_list] # |Number of scoot sensors| x N_i x D\n",
    "Y_arr = [get_Y(df) for df in normal_df_list] # |Number of scoot sensors| x N_i x 1"
   ]
  },
  {
   "cell_type": "markdown",
   "metadata": {},
   "source": [
    "## Simple Time series plot"
   ]
  },
  {
   "cell_type": "code",
   "execution_count": 28,
   "metadata": {},
   "outputs": [],
   "source": [
    "color_counts = 'C0'\n",
    "label_counts = 'N'\n",
    "color_estimated_counts = 'red'\n",
    "label_estimated_counts = '$\\hat{N}$'"
   ]
  },
  {
   "cell_type": "code",
   "execution_count": 29,
   "metadata": {},
   "outputs": [
    {
     "output_type": "display_data",
     "data": {
      "application/vnd.plotly.v1+json": {
       "config": {
        "plotlyServerURL": "https://plot.ly"
       },
       "data": [
        {
         "mode": "lines+markers",
         "name": "lines+markers",
         "type": "scatter",
         "x": [
          "2020-02-10T00:00:00",
          "2020-02-10T01:00:00",
          "2020-02-10T02:00:00",
          "2020-02-10T03:00:00",
          "2020-02-10T04:00:00",
          "2020-02-10T05:00:00",
          "2020-02-10T06:00:00",
          "2020-02-10T07:00:00",
          "2020-02-10T08:00:00",
          "2020-02-10T09:00:00",
          "2020-02-10T10:00:00",
          "2020-02-10T11:00:00",
          "2020-02-10T12:00:00",
          "2020-02-10T13:00:00",
          "2020-02-10T14:00:00",
          "2020-02-10T15:00:00",
          "2020-02-10T16:00:00",
          "2020-02-10T17:00:00",
          "2020-02-10T18:00:00",
          "2020-02-10T19:00:00",
          "2020-02-10T20:00:00",
          "2020-02-10T21:00:00",
          "2020-02-10T22:00:00",
          "2020-02-10T23:00:00",
          "2020-02-11T00:00:00",
          "2020-02-11T01:00:00",
          "2020-02-11T02:00:00",
          "2020-02-11T03:00:00",
          "2020-02-11T04:00:00",
          "2020-02-11T05:00:00",
          "2020-02-11T06:00:00",
          "2020-02-11T07:00:00",
          "2020-02-11T08:00:00",
          "2020-02-11T09:00:00",
          "2020-02-11T10:00:00",
          "2020-02-11T11:00:00",
          "2020-02-11T12:00:00",
          "2020-02-11T13:00:00",
          "2020-02-11T14:00:00",
          "2020-02-11T15:00:00",
          "2020-02-11T16:00:00",
          "2020-02-11T17:00:00",
          "2020-02-11T18:00:00",
          "2020-02-11T19:00:00",
          "2020-02-11T20:00:00",
          "2020-02-11T21:00:00",
          "2020-02-11T22:00:00",
          "2020-02-11T23:00:00",
          "2020-02-12T00:00:00",
          "2020-02-12T01:00:00",
          "2020-02-12T02:00:00",
          "2020-02-12T03:00:00",
          "2020-02-12T04:00:00",
          "2020-02-12T05:00:00",
          "2020-02-12T06:00:00",
          "2020-02-12T07:00:00",
          "2020-02-12T08:00:00",
          "2020-02-12T09:00:00",
          "2020-02-12T10:00:00",
          "2020-02-12T11:00:00",
          "2020-02-12T12:00:00",
          "2020-02-12T13:00:00",
          "2020-02-12T14:00:00",
          "2020-02-12T15:00:00",
          "2020-02-12T16:00:00",
          "2020-02-12T17:00:00",
          "2020-02-12T18:00:00",
          "2020-02-12T19:00:00",
          "2020-02-12T20:00:00",
          "2020-02-12T21:00:00",
          "2020-02-12T22:00:00",
          "2020-02-12T23:00:00",
          "2020-02-13T00:00:00",
          "2020-02-13T01:00:00",
          "2020-02-13T02:00:00",
          "2020-02-13T03:00:00",
          "2020-02-13T04:00:00",
          "2020-02-13T05:00:00",
          "2020-02-13T06:00:00",
          "2020-02-13T07:00:00",
          "2020-02-13T08:00:00",
          "2020-02-13T09:00:00",
          "2020-02-13T10:00:00",
          "2020-02-13T11:00:00",
          "2020-02-13T12:00:00",
          "2020-02-13T13:00:00",
          "2020-02-13T14:00:00",
          "2020-02-13T15:00:00",
          "2020-02-13T16:00:00",
          "2020-02-13T17:00:00",
          "2020-02-13T18:00:00",
          "2020-02-13T19:00:00",
          "2020-02-13T20:00:00",
          "2020-02-13T21:00:00",
          "2020-02-13T22:00:00",
          "2020-02-13T23:00:00",
          "2020-02-14T00:00:00",
          "2020-02-14T01:00:00",
          "2020-02-14T02:00:00",
          "2020-02-14T03:00:00",
          "2020-02-14T04:00:00",
          "2020-02-14T05:00:00",
          "2020-02-14T06:00:00",
          "2020-02-14T07:00:00",
          "2020-02-14T08:00:00",
          "2020-02-14T09:00:00",
          "2020-02-14T10:00:00",
          "2020-02-14T11:00:00",
          "2020-02-14T12:00:00",
          "2020-02-14T13:00:00",
          "2020-02-14T14:00:00",
          "2020-02-14T15:00:00",
          "2020-02-14T16:00:00",
          "2020-02-14T17:00:00",
          "2020-02-14T18:00:00",
          "2020-02-14T19:00:00",
          "2020-02-14T20:00:00",
          "2020-02-14T21:00:00",
          "2020-02-14T22:00:00",
          "2020-02-14T23:00:00",
          "2020-02-15T00:00:00",
          "2020-02-15T01:00:00",
          "2020-02-15T02:00:00",
          "2020-02-15T03:00:00",
          "2020-02-15T04:00:00",
          "2020-02-15T05:00:00",
          "2020-02-15T06:00:00",
          "2020-02-15T07:00:00",
          "2020-02-15T08:00:00",
          "2020-02-15T09:00:00",
          "2020-02-15T10:00:00",
          "2020-02-15T11:00:00",
          "2020-02-15T12:00:00",
          "2020-02-15T13:00:00",
          "2020-02-15T14:00:00",
          "2020-02-15T15:00:00",
          "2020-02-15T16:00:00",
          "2020-02-15T17:00:00",
          "2020-02-15T18:00:00",
          "2020-02-15T19:00:00",
          "2020-02-15T20:00:00",
          "2020-02-15T21:00:00",
          "2020-02-15T22:00:00",
          "2020-02-15T23:00:00",
          "2020-02-16T00:00:00",
          "2020-02-16T01:00:00",
          "2020-02-16T02:00:00",
          "2020-02-16T03:00:00",
          "2020-02-16T04:00:00",
          "2020-02-16T05:00:00",
          "2020-02-16T06:00:00",
          "2020-02-16T07:00:00",
          "2020-02-16T08:00:00",
          "2020-02-16T09:00:00",
          "2020-02-16T10:00:00",
          "2020-02-16T11:00:00",
          "2020-02-16T12:00:00",
          "2020-02-16T13:00:00",
          "2020-02-16T14:00:00",
          "2020-02-16T15:00:00",
          "2020-02-16T16:00:00",
          "2020-02-16T17:00:00",
          "2020-02-16T18:00:00",
          "2020-02-16T19:00:00",
          "2020-02-16T20:00:00",
          "2020-02-16T21:00:00",
          "2020-02-16T22:00:00",
          "2020-02-16T23:00:00"
         ],
         "y": [
          88,
          75,
          61,
          67,
          74,
          97,
          153,
          185,
          207,
          202,
          192,
          210,
          244,
          252,
          275,
          278,
          260,
          274,
          199,
          247,
          236,
          195,
          274,
          300,
          201,
          113,
          92,
          88,
          95,
          100,
          162,
          200,
          191,
          227,
          224,
          235,
          265,
          232,
          238,
          256,
          266,
          261,
          245,
          283,
          260,
          233,
          216,
          281,
          278,
          167,
          102,
          77,
          91,
          104,
          148,
          185,
          227,
          238,
          211,
          236,
          233,
          252,
          247,
          271,
          267,
          308,
          239,
          300,
          280,
          221,
          260,
          259,
          303,
          188,
          122,
          113,
          105,
          118,
          163,
          180,
          236,
          237,
          232,
          234,
          231,
          233,
          260,
          234,
          283,
          296,
          226,
          267,
          299,
          266,
          259,
          303,
          283,
          199,
          158,
          116,
          98,
          123,
          140,
          140,
          226,
          204,
          213,
          223,
          219,
          233,
          240,
          248,
          233,
          226,
          217,
          202,
          266,
          256,
          280,
          244,
          232,
          184,
          171,
          149,
          101,
          63,
          78,
          93,
          112,
          141,
          148,
          173,
          186,
          184,
          227,
          229,
          220,
          258,
          232,
          190,
          172,
          192,
          213,
          205,
          187,
          162,
          171,
          116,
          112,
          63,
          72,
          60,
          79,
          126,
          142,
          146,
          159,
          199,
          202,
          198,
          213,
          201,
          242,
          189,
          147,
          162,
          161,
          133
         ]
        }
       ],
       "layout": {
        "font": {
         "size": 16
        },
        "template": {
         "data": {
          "bar": [
           {
            "error_x": {
             "color": "#2a3f5f"
            },
            "error_y": {
             "color": "#2a3f5f"
            },
            "marker": {
             "line": {
              "color": "#E5ECF6",
              "width": 0.5
             }
            },
            "type": "bar"
           }
          ],
          "barpolar": [
           {
            "marker": {
             "line": {
              "color": "#E5ECF6",
              "width": 0.5
             }
            },
            "type": "barpolar"
           }
          ],
          "carpet": [
           {
            "aaxis": {
             "endlinecolor": "#2a3f5f",
             "gridcolor": "white",
             "linecolor": "white",
             "minorgridcolor": "white",
             "startlinecolor": "#2a3f5f"
            },
            "baxis": {
             "endlinecolor": "#2a3f5f",
             "gridcolor": "white",
             "linecolor": "white",
             "minorgridcolor": "white",
             "startlinecolor": "#2a3f5f"
            },
            "type": "carpet"
           }
          ],
          "choropleth": [
           {
            "colorbar": {
             "outlinewidth": 0,
             "ticks": ""
            },
            "type": "choropleth"
           }
          ],
          "contour": [
           {
            "colorbar": {
             "outlinewidth": 0,
             "ticks": ""
            },
            "colorscale": [
             [
              0,
              "#0d0887"
             ],
             [
              0.1111111111111111,
              "#46039f"
             ],
             [
              0.2222222222222222,
              "#7201a8"
             ],
             [
              0.3333333333333333,
              "#9c179e"
             ],
             [
              0.4444444444444444,
              "#bd3786"
             ],
             [
              0.5555555555555556,
              "#d8576b"
             ],
             [
              0.6666666666666666,
              "#ed7953"
             ],
             [
              0.7777777777777778,
              "#fb9f3a"
             ],
             [
              0.8888888888888888,
              "#fdca26"
             ],
             [
              1,
              "#f0f921"
             ]
            ],
            "type": "contour"
           }
          ],
          "contourcarpet": [
           {
            "colorbar": {
             "outlinewidth": 0,
             "ticks": ""
            },
            "type": "contourcarpet"
           }
          ],
          "heatmap": [
           {
            "colorbar": {
             "outlinewidth": 0,
             "ticks": ""
            },
            "colorscale": [
             [
              0,
              "#0d0887"
             ],
             [
              0.1111111111111111,
              "#46039f"
             ],
             [
              0.2222222222222222,
              "#7201a8"
             ],
             [
              0.3333333333333333,
              "#9c179e"
             ],
             [
              0.4444444444444444,
              "#bd3786"
             ],
             [
              0.5555555555555556,
              "#d8576b"
             ],
             [
              0.6666666666666666,
              "#ed7953"
             ],
             [
              0.7777777777777778,
              "#fb9f3a"
             ],
             [
              0.8888888888888888,
              "#fdca26"
             ],
             [
              1,
              "#f0f921"
             ]
            ],
            "type": "heatmap"
           }
          ],
          "heatmapgl": [
           {
            "colorbar": {
             "outlinewidth": 0,
             "ticks": ""
            },
            "colorscale": [
             [
              0,
              "#0d0887"
             ],
             [
              0.1111111111111111,
              "#46039f"
             ],
             [
              0.2222222222222222,
              "#7201a8"
             ],
             [
              0.3333333333333333,
              "#9c179e"
             ],
             [
              0.4444444444444444,
              "#bd3786"
             ],
             [
              0.5555555555555556,
              "#d8576b"
             ],
             [
              0.6666666666666666,
              "#ed7953"
             ],
             [
              0.7777777777777778,
              "#fb9f3a"
             ],
             [
              0.8888888888888888,
              "#fdca26"
             ],
             [
              1,
              "#f0f921"
             ]
            ],
            "type": "heatmapgl"
           }
          ],
          "histogram": [
           {
            "marker": {
             "colorbar": {
              "outlinewidth": 0,
              "ticks": ""
             }
            },
            "type": "histogram"
           }
          ],
          "histogram2d": [
           {
            "colorbar": {
             "outlinewidth": 0,
             "ticks": ""
            },
            "colorscale": [
             [
              0,
              "#0d0887"
             ],
             [
              0.1111111111111111,
              "#46039f"
             ],
             [
              0.2222222222222222,
              "#7201a8"
             ],
             [
              0.3333333333333333,
              "#9c179e"
             ],
             [
              0.4444444444444444,
              "#bd3786"
             ],
             [
              0.5555555555555556,
              "#d8576b"
             ],
             [
              0.6666666666666666,
              "#ed7953"
             ],
             [
              0.7777777777777778,
              "#fb9f3a"
             ],
             [
              0.8888888888888888,
              "#fdca26"
             ],
             [
              1,
              "#f0f921"
             ]
            ],
            "type": "histogram2d"
           }
          ],
          "histogram2dcontour": [
           {
            "colorbar": {
             "outlinewidth": 0,
             "ticks": ""
            },
            "colorscale": [
             [
              0,
              "#0d0887"
             ],
             [
              0.1111111111111111,
              "#46039f"
             ],
             [
              0.2222222222222222,
              "#7201a8"
             ],
             [
              0.3333333333333333,
              "#9c179e"
             ],
             [
              0.4444444444444444,
              "#bd3786"
             ],
             [
              0.5555555555555556,
              "#d8576b"
             ],
             [
              0.6666666666666666,
              "#ed7953"
             ],
             [
              0.7777777777777778,
              "#fb9f3a"
             ],
             [
              0.8888888888888888,
              "#fdca26"
             ],
             [
              1,
              "#f0f921"
             ]
            ],
            "type": "histogram2dcontour"
           }
          ],
          "mesh3d": [
           {
            "colorbar": {
             "outlinewidth": 0,
             "ticks": ""
            },
            "type": "mesh3d"
           }
          ],
          "parcoords": [
           {
            "line": {
             "colorbar": {
              "outlinewidth": 0,
              "ticks": ""
             }
            },
            "type": "parcoords"
           }
          ],
          "pie": [
           {
            "automargin": true,
            "type": "pie"
           }
          ],
          "scatter": [
           {
            "marker": {
             "colorbar": {
              "outlinewidth": 0,
              "ticks": ""
             }
            },
            "type": "scatter"
           }
          ],
          "scatter3d": [
           {
            "line": {
             "colorbar": {
              "outlinewidth": 0,
              "ticks": ""
             }
            },
            "marker": {
             "colorbar": {
              "outlinewidth": 0,
              "ticks": ""
             }
            },
            "type": "scatter3d"
           }
          ],
          "scattercarpet": [
           {
            "marker": {
             "colorbar": {
              "outlinewidth": 0,
              "ticks": ""
             }
            },
            "type": "scattercarpet"
           }
          ],
          "scattergeo": [
           {
            "marker": {
             "colorbar": {
              "outlinewidth": 0,
              "ticks": ""
             }
            },
            "type": "scattergeo"
           }
          ],
          "scattergl": [
           {
            "marker": {
             "colorbar": {
              "outlinewidth": 0,
              "ticks": ""
             }
            },
            "type": "scattergl"
           }
          ],
          "scattermapbox": [
           {
            "marker": {
             "colorbar": {
              "outlinewidth": 0,
              "ticks": ""
             }
            },
            "type": "scattermapbox"
           }
          ],
          "scatterpolar": [
           {
            "marker": {
             "colorbar": {
              "outlinewidth": 0,
              "ticks": ""
             }
            },
            "type": "scatterpolar"
           }
          ],
          "scatterpolargl": [
           {
            "marker": {
             "colorbar": {
              "outlinewidth": 0,
              "ticks": ""
             }
            },
            "type": "scatterpolargl"
           }
          ],
          "scatterternary": [
           {
            "marker": {
             "colorbar": {
              "outlinewidth": 0,
              "ticks": ""
             }
            },
            "type": "scatterternary"
           }
          ],
          "surface": [
           {
            "colorbar": {
             "outlinewidth": 0,
             "ticks": ""
            },
            "colorscale": [
             [
              0,
              "#0d0887"
             ],
             [
              0.1111111111111111,
              "#46039f"
             ],
             [
              0.2222222222222222,
              "#7201a8"
             ],
             [
              0.3333333333333333,
              "#9c179e"
             ],
             [
              0.4444444444444444,
              "#bd3786"
             ],
             [
              0.5555555555555556,
              "#d8576b"
             ],
             [
              0.6666666666666666,
              "#ed7953"
             ],
             [
              0.7777777777777778,
              "#fb9f3a"
             ],
             [
              0.8888888888888888,
              "#fdca26"
             ],
             [
              1,
              "#f0f921"
             ]
            ],
            "type": "surface"
           }
          ],
          "table": [
           {
            "cells": {
             "fill": {
              "color": "#EBF0F8"
             },
             "line": {
              "color": "white"
             }
            },
            "header": {
             "fill": {
              "color": "#C8D4E3"
             },
             "line": {
              "color": "white"
             }
            },
            "type": "table"
           }
          ]
         },
         "layout": {
          "annotationdefaults": {
           "arrowcolor": "#2a3f5f",
           "arrowhead": 0,
           "arrowwidth": 1
          },
          "coloraxis": {
           "colorbar": {
            "outlinewidth": 0,
            "ticks": ""
           }
          },
          "colorscale": {
           "diverging": [
            [
             0,
             "#8e0152"
            ],
            [
             0.1,
             "#c51b7d"
            ],
            [
             0.2,
             "#de77ae"
            ],
            [
             0.3,
             "#f1b6da"
            ],
            [
             0.4,
             "#fde0ef"
            ],
            [
             0.5,
             "#f7f7f7"
            ],
            [
             0.6,
             "#e6f5d0"
            ],
            [
             0.7,
             "#b8e186"
            ],
            [
             0.8,
             "#7fbc41"
            ],
            [
             0.9,
             "#4d9221"
            ],
            [
             1,
             "#276419"
            ]
           ],
           "sequential": [
            [
             0,
             "#0d0887"
            ],
            [
             0.1111111111111111,
             "#46039f"
            ],
            [
             0.2222222222222222,
             "#7201a8"
            ],
            [
             0.3333333333333333,
             "#9c179e"
            ],
            [
             0.4444444444444444,
             "#bd3786"
            ],
            [
             0.5555555555555556,
             "#d8576b"
            ],
            [
             0.6666666666666666,
             "#ed7953"
            ],
            [
             0.7777777777777778,
             "#fb9f3a"
            ],
            [
             0.8888888888888888,
             "#fdca26"
            ],
            [
             1,
             "#f0f921"
            ]
           ],
           "sequentialminus": [
            [
             0,
             "#0d0887"
            ],
            [
             0.1111111111111111,
             "#46039f"
            ],
            [
             0.2222222222222222,
             "#7201a8"
            ],
            [
             0.3333333333333333,
             "#9c179e"
            ],
            [
             0.4444444444444444,
             "#bd3786"
            ],
            [
             0.5555555555555556,
             "#d8576b"
            ],
            [
             0.6666666666666666,
             "#ed7953"
            ],
            [
             0.7777777777777778,
             "#fb9f3a"
            ],
            [
             0.8888888888888888,
             "#fdca26"
            ],
            [
             1,
             "#f0f921"
            ]
           ]
          },
          "colorway": [
           "#636efa",
           "#EF553B",
           "#00cc96",
           "#ab63fa",
           "#FFA15A",
           "#19d3f3",
           "#FF6692",
           "#B6E880",
           "#FF97FF",
           "#FECB52"
          ],
          "font": {
           "color": "#2a3f5f"
          },
          "geo": {
           "bgcolor": "white",
           "lakecolor": "white",
           "landcolor": "#E5ECF6",
           "showlakes": true,
           "showland": true,
           "subunitcolor": "white"
          },
          "hoverlabel": {
           "align": "left"
          },
          "hovermode": "closest",
          "mapbox": {
           "style": "light"
          },
          "paper_bgcolor": "white",
          "plot_bgcolor": "#E5ECF6",
          "polar": {
           "angularaxis": {
            "gridcolor": "white",
            "linecolor": "white",
            "ticks": ""
           },
           "bgcolor": "#E5ECF6",
           "radialaxis": {
            "gridcolor": "white",
            "linecolor": "white",
            "ticks": ""
           }
          },
          "scene": {
           "xaxis": {
            "backgroundcolor": "#E5ECF6",
            "gridcolor": "white",
            "gridwidth": 2,
            "linecolor": "white",
            "showbackground": true,
            "ticks": "",
            "zerolinecolor": "white"
           },
           "yaxis": {
            "backgroundcolor": "#E5ECF6",
            "gridcolor": "white",
            "gridwidth": 2,
            "linecolor": "white",
            "showbackground": true,
            "ticks": "",
            "zerolinecolor": "white"
           },
           "zaxis": {
            "backgroundcolor": "#E5ECF6",
            "gridcolor": "white",
            "gridwidth": 2,
            "linecolor": "white",
            "showbackground": true,
            "ticks": "",
            "zerolinecolor": "white"
           }
          },
          "shapedefaults": {
           "line": {
            "color": "#2a3f5f"
           }
          },
          "ternary": {
           "aaxis": {
            "gridcolor": "white",
            "linecolor": "white",
            "ticks": ""
           },
           "baxis": {
            "gridcolor": "white",
            "linecolor": "white",
            "ticks": ""
           },
           "bgcolor": "#E5ECF6",
           "caxis": {
            "gridcolor": "white",
            "linecolor": "white",
            "ticks": ""
           }
          },
          "title": {
           "x": 0.05
          },
          "xaxis": {
           "automargin": true,
           "gridcolor": "white",
           "linecolor": "white",
           "ticks": "",
           "title": {
            "standoff": 15
           },
           "zerolinecolor": "white",
           "zerolinewidth": 2
          },
          "yaxis": {
           "automargin": true,
           "gridcolor": "white",
           "linecolor": "white",
           "ticks": "",
           "title": {
            "standoff": 15
           },
           "zerolinecolor": "white",
           "zerolinewidth": 2
          }
         }
        },
        "title": {
         "text": "Timeseries of sensor N00/002e1"
        },
        "xaxis": {
         "title": {
          "text": "Datetime"
         }
        },
        "yaxis": {
         "title": {
          "text": "# of vechicles per hour"
         }
        }
       }
      }
     },
     "metadata": {}
    }
   ],
   "source": [
    "index = 0\n",
    "sensor_df = normal_df_list[index]\n",
    "\n",
    "fig = go.Figure()\n",
    "\n",
    "fig.add_trace(go.Scatter(x=sensor_df['measurement_start_utc'], y=sensor_df['n_vehicles_in_interval'],\n",
    "                    mode='lines+markers',\n",
    "                    name='lines+markers')\n",
    ")\n",
    "\n",
    "fig.update_layout(title='Timeseries of sensor {scoot_id}'.format(scoot_id=detector_list[index]),\n",
    "                xaxis_title=\"Datetime\",\n",
    "                yaxis_title=\"# of vechicles per hour\",\n",
    "                font=dict(\n",
    "                    size=16)\n",
    ")\n",
    "\n",
    "fig.show()"
   ]
  },
  {
   "cell_type": "markdown",
   "metadata": {},
   "source": [
    "# Fit LGCP model for each sensor"
   ]
  },
  {
   "cell_type": "code",
   "execution_count": 30,
   "metadata": {},
   "outputs": [],
   "source": [
    "## Set random seed\n",
    "gpflow.config.set_default_float(np.float64)\n",
    "np.random.seed(0)\n",
    "tf.random.set_seed(0)"
   ]
  },
  {
   "cell_type": "code",
   "execution_count": 31,
   "metadata": {},
   "outputs": [],
   "source": [
    "## Optimization functions - train the model for the given epochs\n",
    "optimizer = tf.keras.optimizers.Adam(0.001)\n",
    "def optimization_step(model: gpflow.models.SVGP, X, Y):\n",
    "    with tf.GradientTape(watch_accessed_variables=False) as tape:\n",
    "        tape.watch(model.trainable_variables)\n",
    "        obj = -model.elbo(X, Y)\n",
    "        grads = tape.gradient(obj, model.trainable_variables)\n",
    "    optimizer.apply_gradients(zip(grads, model.trainable_variables))\n",
    "    \n",
    "def simple_training_loop(X, Y, model: gpflow.models.SVGP, epochs: int = 1, logging_epoch_freq: int = 10, num_batches_per_epoch: int = 10):\n",
    "    tf_optimization_step = tf.function(optimization_step)\n",
    "    for epoch in range(epochs):\n",
    "        for _ in range(num_batches_per_epoch):\n",
    "            tf_optimization_step(model, X, Y)\n",
    "\n",
    "        epoch_id = epoch + 1\n",
    "        if epoch_id % logging_epoch_freq == 0:\n",
    "            tf.print(f\"Epoch {epoch_id}: ELBO (train) {model.elbo(X,Y)}\")\n",
    ""
   ]
  },
  {
   "cell_type": "code",
   "execution_count": 32,
   "metadata": {},
   "outputs": [],
   "source": [
    "## Given the data and the specific sensor this function optimise the ELBO and plot the results \n",
    "def train_sensor_model(scoot_id, X_arr, Y_arr, kernelsettings, epochs = 100, logging_epoch_freq = 10, plot=True):\n",
    "    \n",
    "    ## To remove newaxis when more features\n",
    "    num_features = X_arr[scoot_id][:,0][:,np.newaxis].shape[0]\n",
    "    \n",
    "    X = tf.convert_to_tensor(X_arr[scoot_id][:,0][:,np.newaxis])\n",
    "    Y = tf.convert_to_tensor(Y_arr[scoot_id].astype(np.float64))\n",
    "    \n",
    "    ## To pass it as a function arg\n",
    "    k = choose_kernel(kernelsettings)\n",
    "#     k = gpflow.kernels.RBF() * gpflow.kernels.Periodic(0.1)\n",
    "    \n",
    "    lik = gpflow.likelihoods.Poisson()\n",
    "    \n",
    "    ## Add code for inducing inputs - Needed when we run on the full data\n",
    "    model = gpflow.models.SVGP(kernel = k, likelihood=lik, inducing_variable=X)\n",
    "    \n",
    "    ## Uncomment to see which variables are training and those that are not\n",
    "    #print_summary(model)\n",
    "    \n",
    "    simple_training_loop(X, Y, model, epochs = epochs, \n",
    "                         logging_epoch_freq = logging_epoch_freq)\n",
    "\n",
    "    return model,X"
   ]
  },
  {
   "cell_type": "code",
   "execution_count": 33,
   "metadata": {},
   "outputs": [],
   "source": [
    "# THIS IS BUGGY\n",
    "## Computes percentage cover (see Virginia's pdf for details)\n",
    "def percentage_coverage(model,test_inputs,Ytest,quantile:int = 0.95, num_samples:int = 10,num_pertubations: int = 100):\n",
    "    # Number of times total counts were within 90th percentile\n",
    "    coverage_events = 0\n",
    "    \n",
    "    # Loop over pertubations\n",
    "    for i in range(num_pertubations):\n",
    "\n",
    "        # Change seed\n",
    "        np.random.seed(i)\n",
    "        \n",
    "        # Sample from latent function (intensity)\n",
    "        intensity_sample = np.exp(model.predict_f_samples(test_inputs,num_samples))\n",
    "        # Compute emprical distribution of counts\n",
    "        empirical_count_distribution = np.random.poisson(intensity_sample)\n",
    "        \n",
    "        # Total number of actual counts\n",
    "        total_counts = np.sum(Ytest)\n",
    "       \n",
    "        # Compute upper and lower quantiles from the empirical distribution of counts\n",
    "        upper_q = np.quantile(np.sum(samples[:,:,0],axis=1),quantile)\n",
    "        lower_q = np.quantile(np.sum(samples[:,:,0],axis=1),1-quantile)\n",
    "    \n",
    "        # Add 1 - if total counts are within quantile, 0 - otherwise\n",
    "        coverage_events += int((total_counts < upper_q) & (total_counts > lower_q))\n",
    "        binary = int((total_counts < upper_q) & (total_counts > lower_q)) # this is kept for debugging (remove afterwards)\n",
    "\n",
    "    return empirical_count_distribution, binary, total_counts, upper_q, lower_q # this is kept for debugging (remove afterwards)\n",
    "    return coverage_events/num_pertubations # this should be the output after debugging\n",
    "\n",
    ""
   ]
  },
  {
   "cell_type": "markdown",
   "metadata": {},
   "source": [
    "# Run entire training routine"
   ]
  },
  {
   "cell_type": "code",
   "execution_count": 34,
   "metadata": {},
   "outputs": [],
   "source": [
    "epochs = 10\n",
    "logging_epoch_freq = 100"
   ]
  },
  {
   "cell_type": "code",
   "execution_count": 35,
   "metadata": {},
   "outputs": [
    {
     "output_type": "stream",
     "name": "stdout",
     "text": "Using product of periodic and rbf kernels\nHyperparameters of periodic\n{'period': 0.1}\nHyperparameters of rbf\n{}\nWARNING:tensorflow:Entity <bound method Dispatcher.dispatch_iter of <dispatched prior_kl>> appears to be a generator function. It will not be converted by AutoGraph.\n2020-04-01 13:14:18 WARNING: Entity <bound method Dispatcher.dispatch_iter of <dispatched prior_kl>> appears to be a generator function. It will not be converted by AutoGraph.\nWARNING: Entity <bound method Dispatcher.dispatch_iter of <dispatched prior_kl>> appears to be a generator function. It will not be converted by AutoGraph.\nWARNING:tensorflow:Entity <bound method Dispatcher.dispatch_iter of <dispatched conditional>> appears to be a generator function. It will not be converted by AutoGraph.\n2020-04-01 13:14:19 WARNING: Entity <bound method Dispatcher.dispatch_iter of <dispatched conditional>> appears to be a generator function. It will not be converted by AutoGraph.\nWARNING: Entity <bound method Dispatcher.dispatch_iter of <dispatched conditional>> appears to be a generator function. It will not be converted by AutoGraph.\nWARNING:tensorflow:Entity <bound method Dispatcher.dispatch_iter of <dispatched Kuu>> appears to be a generator function. It will not be converted by AutoGraph.\n2020-04-01 13:14:19 WARNING: Entity <bound method Dispatcher.dispatch_iter of <dispatched Kuu>> appears to be a generator function. It will not be converted by AutoGraph.\nWARNING: Entity <bound method Dispatcher.dispatch_iter of <dispatched Kuu>> appears to be a generator function. It will not be converted by AutoGraph.\nWARNING:tensorflow:Entity <bound method Dispatcher.dispatch_iter of <dispatched Kuf>> appears to be a generator function. It will not be converted by AutoGraph.\n2020-04-01 13:14:19 WARNING: Entity <bound method Dispatcher.dispatch_iter of <dispatched Kuf>> appears to be a generator function. It will not be converted by AutoGraph.\nWARNING: Entity <bound method Dispatcher.dispatch_iter of <dispatched Kuf>> appears to be a generator function. It will not be converted by AutoGraph.\nWARNING:tensorflow:AutoGraph could not transform <bound method Poisson.variational_expectations of <gpflow.likelihoods.likelihoods.Poisson object at 0x7fd71be07550>> and will run it as-is.\nPlease report this to the TensorFlow team. When filing the bug, set the verbosity to 10 (on Linux, `export AUTOGRAPH_VERBOSITY=10`) and attach the full output.\nCause: expected exactly one node node, found [<gast.gast.FunctionDef object at 0x7fd6fe41e810>, <gast.gast.Return object at 0x7fd6fe41e150>]\n2020-04-01 13:14:21 WARNING: AutoGraph could not transform <bound method Poisson.variational_expectations of <gpflow.likelihoods.likelihoods.Poisson object at 0x7fd71be07550>> and will run it as-is.\nPlease report this to the TensorFlow team. When filing the bug, set the verbosity to 10 (on Linux, `export AUTOGRAPH_VERBOSITY=10`) and attach the full output.\nCause: expected exactly one node node, found [<gast.gast.FunctionDef object at 0x7fd6fe41e810>, <gast.gast.Return object at 0x7fd6fe41e150>]\nWARNING: AutoGraph could not transform <bound method Poisson.variational_expectations of <gpflow.likelihoods.likelihoods.Poisson object at 0x7fd71be07550>> and will run it as-is.\nPlease report this to the TensorFlow team. When filing the bug, set the verbosity to 10 (on Linux, `export AUTOGRAPH_VERBOSITY=10`) and attach the full output.\nCause: expected exactly one node node, found [<gast.gast.FunctionDef object at 0x7fd6fe41e810>, <gast.gast.Return object at 0x7fd6fe41e150>]\nWARNING:tensorflow:AutoGraph could not transform <bound method Poisson.variational_expectations of <gpflow.likelihoods.likelihoods.Poisson object at 0x7fd71be07550>> and will run it as-is.\nPlease report this to the TensorFlow team. When filing the bug, set the verbosity to 10 (on Linux, `export AUTOGRAPH_VERBOSITY=10`) and attach the full output.\nCause: expected exactly one node node, found [<gast.gast.FunctionDef object at 0x7fd6fe51fa10>, <gast.gast.Return object at 0x7fd6fe51fa90>]\n2020-04-01 13:14:21 WARNING: AutoGraph could not transform <bound method Poisson.variational_expectations of <gpflow.likelihoods.likelihoods.Poisson object at 0x7fd71be07550>> and will run it as-is.\nPlease report this to the TensorFlow team. When filing the bug, set the verbosity to 10 (on Linux, `export AUTOGRAPH_VERBOSITY=10`) and attach the full output.\nCause: expected exactly one node node, found [<gast.gast.FunctionDef object at 0x7fd6fe51fa10>, <gast.gast.Return object at 0x7fd6fe51fa90>]\nWARNING: AutoGraph could not transform <bound method Poisson.variational_expectations of <gpflow.likelihoods.likelihoods.Poisson object at 0x7fd71be07550>> and will run it as-is.\nPlease report this to the TensorFlow team. When filing the bug, set the verbosity to 10 (on Linux, `export AUTOGRAPH_VERBOSITY=10`) and attach the full output.\nCause: expected exactly one node node, found [<gast.gast.FunctionDef object at 0x7fd6fe51fa10>, <gast.gast.Return object at 0x7fd6fe51fa90>]\n"
    }
   ],
   "source": [
    "model0,Xtest0 = train_sensor_model(0, X_arr, Y_arr, kernel_settings, epochs, logging_epoch_freq)"
   ]
  },
  {
   "cell_type": "code",
   "execution_count": 41,
   "metadata": {},
   "outputs": [],
   "source": [
    "# model1,Xtest1 = train_sensor_model(1, X_arr, Y_arr, kernel_settings, epochs, logging_epoch_freq)"
   ]
  },
  {
   "cell_type": "markdown",
   "metadata": {},
   "source": [
    "# Save results"
   ]
  },
  {
   "cell_type": "code",
   "execution_count": 39,
   "metadata": {},
   "outputs": [
    {
     "output_type": "stream",
     "name": "stdout",
     "text": "Saving data todata/models/N00_002e1/10Feb_23Mar\ndata/models/N00_002e1/10Feb_23Mar/Y.npy\n"
    }
   ],
   "source": [
    "save_model_and_metadata(detector_list[index], model0, X_arr[index], Y_arr[index], start_normal_interval, end_lockdown_interval, kernel_settings, scoot_settings)"
   ]
  },
  {
   "cell_type": "markdown",
   "metadata": {},
   "source": [
    "# Jointly train all sensors\n",
    "\n",
    "The input $X$ is time epoch, lat, lon and output $Y$ is the integer n_vehicles_in_interval\n",
    "\n",
    "NOTE for 2 days of scoot data there are approx 400000 observations"
   ]
  }
 ],
 "metadata": {
  "kernelspec": {
   "display_name": "cleanair",
   "language": "python",
   "name": "cleanair"
  },
  "language_info": {
   "codemirror_mode": {
    "name": "ipython",
    "version": 3
   },
   "file_extension": ".py",
   "mimetype": "text/x-python",
   "name": "python",
   "nbconvert_exporter": "python",
   "pygments_lexer": "ipython3",
   "version": "3.7.6-final"
  },
  "toc": {
   "base_numbering": 1,
   "nav_menu": {},
   "number_sections": true,
   "sideBar": true,
   "skip_h1_title": false,
   "title_cell": "Table of Contents",
   "title_sidebar": "Contents",
   "toc_cell": false,
   "toc_position": {},
   "toc_section_display": true,
   "toc_window_display": true
  }
 },
 "nbformat": 4,
 "nbformat_minor": 4
}