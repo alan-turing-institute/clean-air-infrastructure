{
 "cells": [
  {
   "cell_type": "markdown",
   "metadata": {},
   "source": [
    "## The ModelData class\n",
    "\n",
    "The ModelData class is the interface between your data and your model. It has methods and constructors for reading and writing data/predictions from files and databases. It abstracts away a lot of the details so that you (hopefully) don't have to worry about data processing.\n",
    "\n",
    "The below code snippet shows how to initialise a ModelData object by reading from a data directory called `config_dir` and from the `db_secrets.json` file. Make sure your `config.json` file correctly initialised before running the below code."
   ]
  },
  {
   "cell_type": "code",
   "execution_count": null,
   "metadata": {},
   "outputs": [],
   "source": []
  }
 ],
 "metadata": {
  "kernelspec": {
   "display_name": "cleanair3.7",
   "language": "python",
   "name": "cleanair3.7"
  }
 },
 "nbformat": 4,
 "nbformat_minor": 4
}
