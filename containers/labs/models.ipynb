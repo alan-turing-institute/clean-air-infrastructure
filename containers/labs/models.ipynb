{
 "cells": [
  {
   "cell_type": "markdown",
   "metadata": {},
   "source": [
    "## Create a model\n",
    "\n",
    "Below is an example of a simple SVGP (that doesn't perform very well). You can access and change the parameters of the model by changing the `model_params` attribute (which can also be passed as an argument to the constructor).\n",
    "\n",
    "All models in the cleanair repo inherit from the base class `cleanair.models.Model`. This base class is documented and describes the data format passed to the `fit` and `predict` methods. \n",
    "\n",
    "If you want to change the SVGP, then you should be able to create a new class that inherits from SVGP and overwrites the appropriate methods. The `cleanair.models.SVGP` class inherits from the `Model`."
   ]
  },
  {
   "cell_type": "code",
   "execution_count": null,
   "metadata": {},
   "outputs": [],
   "source": []
  }
 ],
 "metadata": {
  "kernelspec": {
   "display_name": "cleanair3.7",
   "language": "python",
   "name": "cleanair3.7"
  }
 },
 "nbformat": 4,
 "nbformat_minor": 4
}
