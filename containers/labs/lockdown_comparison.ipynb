{
 "cells": [
  {
   "cell_type": "markdown",
   "metadata": {},
   "source": [
    "# Compare normal period to lockdown\n",
    "\n",
    "Take a model trained on a day (e.g. Monday) in the normal period then plot a day from the lockdown period and compute the percentage coverage."
   ]
  },
  {
   "cell_type": "code",
   "execution_count": 7,
   "metadata": {},
   "outputs": [],
   "source": [
    "import os\n",
    "import json\n",
    "from datetime import datetime\n",
    "import pandas as pd\n",
    "import numpy as np\n",
    "import tensorflow as tf\n",
    "\n",
    "# plotly\n",
    "import plotly.graph_objects as go\n",
    "import plotly.express as px\n",
    "from plotly.subplots import make_subplots\n",
    "\n",
    "# scoot functions\n",
    "from cleanair.scoot import (\n",
    "    generate_fp,\n",
    "    load_model_from_file,\n",
    "    load_processed_data_from_file,\n",
    "    load_scoot_df,\n",
    "    plotly_results,\n",
    "    percentage_coverage,\n",
    "    sample_intensity,\n",
    "    sample_n\n",
    ")"
   ]
  },
  {
   "cell_type": "code",
   "execution_count": 8,
   "metadata": {},
   "outputs": [],
   "source": [
    "# setup global params\n",
    "experiment = \"daily\"\n",
    "\n",
    "user_settings_fp = os.path.join(\"..\", \"..\", \"terraform\", \".secrets\", \"user_settings.json\")\n",
    "with open(user_settings_fp) as json_file:\n",
    "    user_settings = json.load(json_file)\n",
    "root = user_settings[\"root\"]\n",
    "\n",
    "# get the settings for kernels and scoot data\n",
    "with open(os.path.join(root, experiment, \"settings\", \"kernel_settings.json\")) as kernel_file:\n",
    "    kernel_settings = json.load(kernel_file)\n",
    "with open(os.path.join(root, experiment, \"settings\", \"data_settings.json\")) as scoot_file:\n",
    "    data_settings = json.load(scoot_file)"
   ]
  },
  {
   "cell_type": "code",
   "execution_count": 26,
   "metadata": {},
   "outputs": [],
   "source": [
    "def daily_normal_vs_lockdown(\n",
    "    normal_df,\n",
    "    lockdown_df,\n",
    "    detector_id,\n",
    "    model,\n",
    "    test_inputs,\n",
    "    num_sigmas: int = 2,\n",
    "    num_samples: int = 100\n",
    "):\n",
    "    # assume normal and lockdown dfs have same number of time elements\n",
    "    hours = pd.date_range(\n",
    "        normal_df.measurement_start_utc.min(),\n",
    "        normal_df.measurement_start_utc.max(),\n",
    "        freq=\"H\"\n",
    "    )\n",
    "    hours = hours.time\n",
    "    \n",
    "    # If test inputs is not a tensorflow object, convert it to one\n",
    "    if isinstance(test_inputs, np.ndarray):\n",
    "       test_inputs = tf.convert_to_tensor(test_inputs[:,0][:,np.newaxis])\n",
    "    \n",
    "    # Compute posterior mean and variance of count distribution\n",
    "    count_mean_N, count_var_N = sample_n(model, test_inputs, num_samples)\n",
    "    # Compute posterior mean and variance of intensity distribution\n",
    "    intensity_mean_N,intensity_var_N = sample_intensity(model,test_inputs,num_samples)\n",
    "    \n",
    "    # Plot\n",
    "    fig = go.Figure()\n",
    "    \n",
    "    count_upper_2sigma = go.Scatter(\n",
    "                        name=r'$Counts \\mu+2\\sigma$',\n",
    "                        x=hours, \n",
    "                        y=count_mean_N[:,0] + num_sigmas*np.sqrt(count_var_N)[:,0],\n",
    "                        mode='lines',\n",
    "                        marker=dict(color=\"#444\"),\n",
    "                        line=dict(width=0),\n",
    "                        fillcolor='rgba(255,0,0,0.3)',\n",
    "                        fill='tonexty',\n",
    "                        showlegend = False\n",
    "                    )\n",
    "\n",
    "    count_mean_predictions = go.Scatter(\n",
    "                            x=hours, \n",
    "                            y=count_mean_N[:,0],\n",
    "                            mode='lines',\n",
    "                            name='$\\\\text{Count distribution} (\\pm 2 \\sigma)$',\n",
    "                            fill='tonexty',\n",
    "                            fillcolor='rgba(255,0,0,0.3)',\n",
    "                            line=dict(color='rgb(255, 0, 0)')\n",
    "                        )\n",
    "\n",
    "    count_lower_2sigma = go.Scatter(\n",
    "                        name=r'$Counts \\mu-2\\sigma$',\n",
    "                        x=hours, \n",
    "                        y=count_mean_N[:,0] - num_sigmas*np.sqrt(count_var_N)[:,0],\n",
    "                        marker=dict(color=\"#444\"),\n",
    "                        mode='lines',\n",
    "                        line=dict(width=0),\n",
    "                        showlegend = False\n",
    "                    )\n",
    "    \n",
    "    intensity_upper_2sigma = go.Scatter(\n",
    "                        name=r'Intensity $\\mu+2\\sigma$',\n",
    "                        x=hours, \n",
    "                        y=intensity_mean_N[:,0] + num_sigmas*np.sqrt(intensity_var_N)[:,0],\n",
    "                        mode='lines',\n",
    "                        marker=dict(color=\"#444\"),\n",
    "                        line=dict(width=0),\n",
    "                        fillcolor='rgba(0,255,0,0.3)',\n",
    "                        fill='tonexty',\n",
    "                        showlegend = False\n",
    "                    )\n",
    "\n",
    "    intensity_mean_predictions = go.Scatter(\n",
    "                            x=hours, \n",
    "                            y=intensity_mean_N[:,0],\n",
    "                            mode='lines',\n",
    "                            name='$\\\\text{Intensity Estimate } (\\pm 2 \\sigma)$',\n",
    "                            fill='tonexty',\n",
    "                            fillcolor='rgba(0,255,0,0.3)',\n",
    "                            line=dict(color='rgb(0, 255, 0)')\n",
    "                        )\n",
    "\n",
    "    intensity_lower_2sigma = go.Scatter(\n",
    "                        name=r'Intensity $\\mu-2\\sigma$',\n",
    "                        x=hours, \n",
    "                        y=intensity_mean_N[:,0] - num_sigmas*np.sqrt(intensity_var_N)[:,0],\n",
    "                        marker=dict(color=\"#444\"),\n",
    "                        mode='lines',\n",
    "                        line=dict(width=0),\n",
    "                        showlegend = False\n",
    "                    )\n",
    "\n",
    "    def format_datetime(timestamp, format=\"%d %b\"):\n",
    "        return datetime.strptime(timestamp, \"%Y-%m-%d %H:%M:%S\").strftime(format)\n",
    "    \n",
    "    actual = go.Scatter(\n",
    "                x=hours, \n",
    "                y=normal_df['n_vehicles_in_interval'],\n",
    "                mode='markers',\n",
    "                name=\"Normal \" + format_datetime(normal_df.measurement_start_utc.min()),\n",
    "                line=dict(color='#1f77b4')\n",
    "    )\n",
    "\n",
    "    lockdown = go.Scatter(\n",
    "        x=hours,\n",
    "        y=lockdown_df['n_vehicles_in_interval'],\n",
    "        mode='markers',\n",
    "        name='Lockdown ' + format_datetime(lockdown_df.measurement_start_utc.min()),\n",
    "        line=dict(color='purple')\n",
    "    )\n",
    "    \n",
    "    data = [count_lower_2sigma, count_mean_predictions, count_upper_2sigma,\n",
    "            intensity_lower_2sigma, intensity_mean_predictions, intensity_upper_2sigma,\n",
    "            lockdown, actual]\n",
    "    \n",
    "    layout = go.Layout(\n",
    "                        title='Timeseries of sensor {id}'.format(id=detector_id),\n",
    "                        xaxis_title=\"Hour of day\",\n",
    "                        yaxis_title=\"# of vechicles per hour\",\n",
    "                        font=dict(size=16)\n",
    "            )\n",
    "\n",
    "    return data"
   ]
  },
  {
   "cell_type": "code",
   "execution_count": 42,
   "metadata": {},
   "outputs": [
    {
     "data": {
      "application/vnd.plotly.v1+json": {
       "config": {
        "plotlyServerURL": "https://plot.ly"
       },
       "data": [
        {
         "line": {
          "width": 0
         },
         "marker": {
          "color": "#444"
         },
         "mode": "lines",
         "name": "$Counts \\mu-2\\sigma$",
         "showlegend": false,
         "type": "scatter",
         "x": [
          "00:00:00",
          "01:00:00",
          "02:00:00",
          "03:00:00",
          "04:00:00",
          "05:00:00",
          "06:00:00",
          "07:00:00",
          "08:00:00",
          "09:00:00",
          "10:00:00",
          "11:00:00",
          "12:00:00",
          "13:00:00",
          "14:00:00",
          "15:00:00",
          "16:00:00",
          "17:00:00",
          "18:00:00",
          "19:00:00",
          "20:00:00",
          "21:00:00",
          "22:00:00",
          "23:00:00"
         ],
         "y": [
          58.077030841447424,
          52.89075962068594,
          48.94132748236198,
          49.1692218632119,
          58.52115620337301,
          80.27338578961545,
          114.11230228826298,
          146.2882815406711,
          168.48105275631727,
          166.83820894600498,
          167.79561742678018,
          176.6010148248748,
          198.85423425897739,
          216.4162764514571,
          232.95482665087536,
          233.831315292591,
          229.29108943438786,
          213.83044333328894,
          194.38719845753766,
          192.61757458353702,
          187.59827027016266,
          188.43232898980426,
          219.01536588611998,
          249.1772514044509
         ]
        },
        {
         "fill": "tonexty",
         "fillcolor": "rgba(255,0,0,0.3)",
         "line": {
          "color": "rgb(255, 0, 0)"
         },
         "mode": "lines",
         "name": "$\\text{Count distribution} (\\pm 2 \\sigma)$",
         "type": "scatter",
         "x": [
          "00:00:00",
          "01:00:00",
          "02:00:00",
          "03:00:00",
          "04:00:00",
          "05:00:00",
          "06:00:00",
          "07:00:00",
          "08:00:00",
          "09:00:00",
          "10:00:00",
          "11:00:00",
          "12:00:00",
          "13:00:00",
          "14:00:00",
          "15:00:00",
          "16:00:00",
          "17:00:00",
          "18:00:00",
          "19:00:00",
          "20:00:00",
          "21:00:00",
          "22:00:00",
          "23:00:00"
         ],
         "y": [
          82.476,
          72.851,
          67.02,
          68.289,
          79.036,
          104.018,
          142.8,
          180.935,
          202.458,
          203.326,
          201.111,
          213.06,
          236.191,
          256.85,
          272.11,
          275.253,
          268.834,
          252.74,
          230.226,
          229.799,
          224.933,
          225.985,
          258.645,
          297.617
         ]
        },
        {
         "fill": "tonexty",
         "fillcolor": "rgba(255,0,0,0.3)",
         "line": {
          "width": 0
         },
         "marker": {
          "color": "#444"
         },
         "mode": "lines",
         "name": "$Counts \\mu+2\\sigma$",
         "showlegend": false,
         "type": "scatter",
         "x": [
          "00:00:00",
          "01:00:00",
          "02:00:00",
          "03:00:00",
          "04:00:00",
          "05:00:00",
          "06:00:00",
          "07:00:00",
          "08:00:00",
          "09:00:00",
          "10:00:00",
          "11:00:00",
          "12:00:00",
          "13:00:00",
          "14:00:00",
          "15:00:00",
          "16:00:00",
          "17:00:00",
          "18:00:00",
          "19:00:00",
          "20:00:00",
          "21:00:00",
          "22:00:00",
          "23:00:00"
         ],
         "y": [
          106.87496915855257,
          92.81124037931406,
          85.09867251763802,
          87.4087781367881,
          99.55084379662699,
          127.76261421038456,
          171.48769771173704,
          215.5817184593289,
          236.43494724368273,
          239.813791053995,
          234.4263825732198,
          249.5189851751252,
          273.5277657410226,
          297.283723548543,
          311.26517334912467,
          316.67468470740897,
          308.37691056561215,
          291.6495566667111,
          266.06480154246236,
          266.980425416463,
          262.26772972983736,
          263.53767101019577,
          298.27463411388,
          346.05674859554915
         ]
        },
        {
         "line": {
          "width": 0
         },
         "marker": {
          "color": "#444"
         },
         "mode": "lines",
         "name": "Intensity $\\mu-2\\sigma$",
         "showlegend": false,
         "type": "scatter",
         "x": [
          "00:00:00",
          "01:00:00",
          "02:00:00",
          "03:00:00",
          "04:00:00",
          "05:00:00",
          "06:00:00",
          "07:00:00",
          "08:00:00",
          "09:00:00",
          "10:00:00",
          "11:00:00",
          "12:00:00",
          "13:00:00",
          "14:00:00",
          "15:00:00",
          "16:00:00",
          "17:00:00",
          "18:00:00",
          "19:00:00",
          "20:00:00",
          "21:00:00",
          "22:00:00",
          "23:00:00"
         ],
         "y": [
          66.375816567901,
          61.61764429878877,
          56.53576635178886,
          57.81694287883769,
          68.36299778351513,
          90.80685186658957,
          127.46098042294592,
          160.86492838883376,
          183.0989962723554,
          180.36511673315997,
          181.75126678922373,
          190.25872169860207,
          214.15983026301768,
          230.46354980369404,
          247.77629500942552,
          248.095899244994,
          243.72796315674233,
          230.0866630325935,
          209.25281024015834,
          207.9193548261993,
          203.0587514228917,
          204.91595646401018,
          235.39155453937556,
          265.33043540196957
         ]
        },
        {
         "fill": "tonexty",
         "fillcolor": "rgba(0,255,0,0.3)",
         "line": {
          "color": "rgb(0, 255, 0)"
         },
         "mode": "lines",
         "name": "$\\text{Intensity Estimate } (\\pm 2 \\sigma)$",
         "type": "scatter",
         "x": [
          "00:00:00",
          "01:00:00",
          "02:00:00",
          "03:00:00",
          "04:00:00",
          "05:00:00",
          "06:00:00",
          "07:00:00",
          "08:00:00",
          "09:00:00",
          "10:00:00",
          "11:00:00",
          "12:00:00",
          "13:00:00",
          "14:00:00",
          "15:00:00",
          "16:00:00",
          "17:00:00",
          "18:00:00",
          "19:00:00",
          "20:00:00",
          "21:00:00",
          "22:00:00",
          "23:00:00"
         ],
         "y": [
          82.51859071484665,
          73.17639202815069,
          66.70525067919785,
          68.00068142885009,
          78.94875246220946,
          103.95581452018475,
          143.29365173264452,
          181.13338142989988,
          201.95392546669945,
          202.82567694669427,
          200.81542788602118,
          213.63333390831207,
          235.7818765631032,
          257.4634007222321,
          270.9298402858067,
          273.81889490997287,
          268.28035421056336,
          252.18603244365806,
          230.4656515326246,
          229.35938417041535,
          224.81520126663474,
          225.71008033187687,
          259.1662584986487,
          297.6852596243409
         ]
        },
        {
         "fill": "tonexty",
         "fillcolor": "rgba(0,255,0,0.3)",
         "line": {
          "width": 0
         },
         "marker": {
          "color": "#444"
         },
         "mode": "lines",
         "name": "Intensity $\\mu+2\\sigma$",
         "showlegend": false,
         "type": "scatter",
         "x": [
          "00:00:00",
          "01:00:00",
          "02:00:00",
          "03:00:00",
          "04:00:00",
          "05:00:00",
          "06:00:00",
          "07:00:00",
          "08:00:00",
          "09:00:00",
          "10:00:00",
          "11:00:00",
          "12:00:00",
          "13:00:00",
          "14:00:00",
          "15:00:00",
          "16:00:00",
          "17:00:00",
          "18:00:00",
          "19:00:00",
          "20:00:00",
          "21:00:00",
          "22:00:00",
          "23:00:00"
         ],
         "y": [
          98.66136486179231,
          84.73513975751261,
          76.87473500660683,
          78.18441997886248,
          89.53450714090378,
          117.10477717377992,
          159.1263230423431,
          201.401834470966,
          220.80885466104348,
          225.28623716022858,
          219.87958898281863,
          237.00794611802206,
          257.4039228631887,
          284.4632516407702,
          294.08338556218786,
          299.5418905749517,
          292.8327452643844,
          274.28540185472264,
          251.67849282509087,
          250.7994135146314,
          246.5716511103778,
          246.50420419974355,
          282.9409624579218,
          330.04008384671226
         ]
        },
        {
         "line": {
          "color": "purple"
         },
         "mode": "markers",
         "name": "Lockdown 16 Mar",
         "type": "scatter",
         "x": [
          "00:00:00",
          "01:00:00",
          "02:00:00",
          "03:00:00",
          "04:00:00",
          "05:00:00",
          "06:00:00",
          "07:00:00",
          "08:00:00",
          "09:00:00",
          "10:00:00",
          "11:00:00",
          "12:00:00",
          "13:00:00",
          "14:00:00",
          "15:00:00",
          "16:00:00",
          "17:00:00",
          "18:00:00",
          "19:00:00",
          "20:00:00",
          "21:00:00",
          "22:00:00",
          "23:00:00"
         ],
         "y": [
          82,
          83,
          68,
          68,
          73,
          112,
          155,
          199,
          220,
          186,
          218,
          227,
          258,
          265,
          258,
          259,
          265,
          318,
          275,
          265,
          298,
          292,
          306,
          232
         ]
        },
        {
         "line": {
          "color": "#1f77b4"
         },
         "mode": "markers",
         "name": "Normal 10 Feb",
         "type": "scatter",
         "x": [
          "00:00:00",
          "01:00:00",
          "02:00:00",
          "03:00:00",
          "04:00:00",
          "05:00:00",
          "06:00:00",
          "07:00:00",
          "08:00:00",
          "09:00:00",
          "10:00:00",
          "11:00:00",
          "12:00:00",
          "13:00:00",
          "14:00:00",
          "15:00:00",
          "16:00:00",
          "17:00:00",
          "18:00:00",
          "19:00:00",
          "20:00:00",
          "21:00:00",
          "22:00:00",
          "23:00:00"
         ],
         "y": [
          88,
          75,
          61,
          67,
          74,
          97,
          153,
          185,
          207,
          202,
          192,
          210,
          244,
          252,
          275,
          278,
          260,
          274,
          199,
          247,
          236,
          195,
          274,
          300
         ]
        }
       ],
       "layout": {
        "height": 600,
        "template": {
         "data": {
          "bar": [
           {
            "error_x": {
             "color": "#2a3f5f"
            },
            "error_y": {
             "color": "#2a3f5f"
            },
            "marker": {
             "line": {
              "color": "#E5ECF6",
              "width": 0.5
             }
            },
            "type": "bar"
           }
          ],
          "barpolar": [
           {
            "marker": {
             "line": {
              "color": "#E5ECF6",
              "width": 0.5
             }
            },
            "type": "barpolar"
           }
          ],
          "carpet": [
           {
            "aaxis": {
             "endlinecolor": "#2a3f5f",
             "gridcolor": "white",
             "linecolor": "white",
             "minorgridcolor": "white",
             "startlinecolor": "#2a3f5f"
            },
            "baxis": {
             "endlinecolor": "#2a3f5f",
             "gridcolor": "white",
             "linecolor": "white",
             "minorgridcolor": "white",
             "startlinecolor": "#2a3f5f"
            },
            "type": "carpet"
           }
          ],
          "choropleth": [
           {
            "colorbar": {
             "outlinewidth": 0,
             "ticks": ""
            },
            "type": "choropleth"
           }
          ],
          "contour": [
           {
            "colorbar": {
             "outlinewidth": 0,
             "ticks": ""
            },
            "colorscale": [
             [
              0,
              "#0d0887"
             ],
             [
              0.1111111111111111,
              "#46039f"
             ],
             [
              0.2222222222222222,
              "#7201a8"
             ],
             [
              0.3333333333333333,
              "#9c179e"
             ],
             [
              0.4444444444444444,
              "#bd3786"
             ],
             [
              0.5555555555555556,
              "#d8576b"
             ],
             [
              0.6666666666666666,
              "#ed7953"
             ],
             [
              0.7777777777777778,
              "#fb9f3a"
             ],
             [
              0.8888888888888888,
              "#fdca26"
             ],
             [
              1,
              "#f0f921"
             ]
            ],
            "type": "contour"
           }
          ],
          "contourcarpet": [
           {
            "colorbar": {
             "outlinewidth": 0,
             "ticks": ""
            },
            "type": "contourcarpet"
           }
          ],
          "heatmap": [
           {
            "colorbar": {
             "outlinewidth": 0,
             "ticks": ""
            },
            "colorscale": [
             [
              0,
              "#0d0887"
             ],
             [
              0.1111111111111111,
              "#46039f"
             ],
             [
              0.2222222222222222,
              "#7201a8"
             ],
             [
              0.3333333333333333,
              "#9c179e"
             ],
             [
              0.4444444444444444,
              "#bd3786"
             ],
             [
              0.5555555555555556,
              "#d8576b"
             ],
             [
              0.6666666666666666,
              "#ed7953"
             ],
             [
              0.7777777777777778,
              "#fb9f3a"
             ],
             [
              0.8888888888888888,
              "#fdca26"
             ],
             [
              1,
              "#f0f921"
             ]
            ],
            "type": "heatmap"
           }
          ],
          "heatmapgl": [
           {
            "colorbar": {
             "outlinewidth": 0,
             "ticks": ""
            },
            "colorscale": [
             [
              0,
              "#0d0887"
             ],
             [
              0.1111111111111111,
              "#46039f"
             ],
             [
              0.2222222222222222,
              "#7201a8"
             ],
             [
              0.3333333333333333,
              "#9c179e"
             ],
             [
              0.4444444444444444,
              "#bd3786"
             ],
             [
              0.5555555555555556,
              "#d8576b"
             ],
             [
              0.6666666666666666,
              "#ed7953"
             ],
             [
              0.7777777777777778,
              "#fb9f3a"
             ],
             [
              0.8888888888888888,
              "#fdca26"
             ],
             [
              1,
              "#f0f921"
             ]
            ],
            "type": "heatmapgl"
           }
          ],
          "histogram": [
           {
            "marker": {
             "colorbar": {
              "outlinewidth": 0,
              "ticks": ""
             }
            },
            "type": "histogram"
           }
          ],
          "histogram2d": [
           {
            "colorbar": {
             "outlinewidth": 0,
             "ticks": ""
            },
            "colorscale": [
             [
              0,
              "#0d0887"
             ],
             [
              0.1111111111111111,
              "#46039f"
             ],
             [
              0.2222222222222222,
              "#7201a8"
             ],
             [
              0.3333333333333333,
              "#9c179e"
             ],
             [
              0.4444444444444444,
              "#bd3786"
             ],
             [
              0.5555555555555556,
              "#d8576b"
             ],
             [
              0.6666666666666666,
              "#ed7953"
             ],
             [
              0.7777777777777778,
              "#fb9f3a"
             ],
             [
              0.8888888888888888,
              "#fdca26"
             ],
             [
              1,
              "#f0f921"
             ]
            ],
            "type": "histogram2d"
           }
          ],
          "histogram2dcontour": [
           {
            "colorbar": {
             "outlinewidth": 0,
             "ticks": ""
            },
            "colorscale": [
             [
              0,
              "#0d0887"
             ],
             [
              0.1111111111111111,
              "#46039f"
             ],
             [
              0.2222222222222222,
              "#7201a8"
             ],
             [
              0.3333333333333333,
              "#9c179e"
             ],
             [
              0.4444444444444444,
              "#bd3786"
             ],
             [
              0.5555555555555556,
              "#d8576b"
             ],
             [
              0.6666666666666666,
              "#ed7953"
             ],
             [
              0.7777777777777778,
              "#fb9f3a"
             ],
             [
              0.8888888888888888,
              "#fdca26"
             ],
             [
              1,
              "#f0f921"
             ]
            ],
            "type": "histogram2dcontour"
           }
          ],
          "mesh3d": [
           {
            "colorbar": {
             "outlinewidth": 0,
             "ticks": ""
            },
            "type": "mesh3d"
           }
          ],
          "parcoords": [
           {
            "line": {
             "colorbar": {
              "outlinewidth": 0,
              "ticks": ""
             }
            },
            "type": "parcoords"
           }
          ],
          "pie": [
           {
            "automargin": true,
            "type": "pie"
           }
          ],
          "scatter": [
           {
            "marker": {
             "colorbar": {
              "outlinewidth": 0,
              "ticks": ""
             }
            },
            "type": "scatter"
           }
          ],
          "scatter3d": [
           {
            "line": {
             "colorbar": {
              "outlinewidth": 0,
              "ticks": ""
             }
            },
            "marker": {
             "colorbar": {
              "outlinewidth": 0,
              "ticks": ""
             }
            },
            "type": "scatter3d"
           }
          ],
          "scattercarpet": [
           {
            "marker": {
             "colorbar": {
              "outlinewidth": 0,
              "ticks": ""
             }
            },
            "type": "scattercarpet"
           }
          ],
          "scattergeo": [
           {
            "marker": {
             "colorbar": {
              "outlinewidth": 0,
              "ticks": ""
             }
            },
            "type": "scattergeo"
           }
          ],
          "scattergl": [
           {
            "marker": {
             "colorbar": {
              "outlinewidth": 0,
              "ticks": ""
             }
            },
            "type": "scattergl"
           }
          ],
          "scattermapbox": [
           {
            "marker": {
             "colorbar": {
              "outlinewidth": 0,
              "ticks": ""
             }
            },
            "type": "scattermapbox"
           }
          ],
          "scatterpolar": [
           {
            "marker": {
             "colorbar": {
              "outlinewidth": 0,
              "ticks": ""
             }
            },
            "type": "scatterpolar"
           }
          ],
          "scatterpolargl": [
           {
            "marker": {
             "colorbar": {
              "outlinewidth": 0,
              "ticks": ""
             }
            },
            "type": "scatterpolargl"
           }
          ],
          "scatterternary": [
           {
            "marker": {
             "colorbar": {
              "outlinewidth": 0,
              "ticks": ""
             }
            },
            "type": "scatterternary"
           }
          ],
          "surface": [
           {
            "colorbar": {
             "outlinewidth": 0,
             "ticks": ""
            },
            "colorscale": [
             [
              0,
              "#0d0887"
             ],
             [
              0.1111111111111111,
              "#46039f"
             ],
             [
              0.2222222222222222,
              "#7201a8"
             ],
             [
              0.3333333333333333,
              "#9c179e"
             ],
             [
              0.4444444444444444,
              "#bd3786"
             ],
             [
              0.5555555555555556,
              "#d8576b"
             ],
             [
              0.6666666666666666,
              "#ed7953"
             ],
             [
              0.7777777777777778,
              "#fb9f3a"
             ],
             [
              0.8888888888888888,
              "#fdca26"
             ],
             [
              1,
              "#f0f921"
             ]
            ],
            "type": "surface"
           }
          ],
          "table": [
           {
            "cells": {
             "fill": {
              "color": "#EBF0F8"
             },
             "line": {
              "color": "white"
             }
            },
            "header": {
             "fill": {
              "color": "#C8D4E3"
             },
             "line": {
              "color": "white"
             }
            },
            "type": "table"
           }
          ]
         },
         "layout": {
          "annotationdefaults": {
           "arrowcolor": "#2a3f5f",
           "arrowhead": 0,
           "arrowwidth": 1
          },
          "coloraxis": {
           "colorbar": {
            "outlinewidth": 0,
            "ticks": ""
           }
          },
          "colorscale": {
           "diverging": [
            [
             0,
             "#8e0152"
            ],
            [
             0.1,
             "#c51b7d"
            ],
            [
             0.2,
             "#de77ae"
            ],
            [
             0.3,
             "#f1b6da"
            ],
            [
             0.4,
             "#fde0ef"
            ],
            [
             0.5,
             "#f7f7f7"
            ],
            [
             0.6,
             "#e6f5d0"
            ],
            [
             0.7,
             "#b8e186"
            ],
            [
             0.8,
             "#7fbc41"
            ],
            [
             0.9,
             "#4d9221"
            ],
            [
             1,
             "#276419"
            ]
           ],
           "sequential": [
            [
             0,
             "#0d0887"
            ],
            [
             0.1111111111111111,
             "#46039f"
            ],
            [
             0.2222222222222222,
             "#7201a8"
            ],
            [
             0.3333333333333333,
             "#9c179e"
            ],
            [
             0.4444444444444444,
             "#bd3786"
            ],
            [
             0.5555555555555556,
             "#d8576b"
            ],
            [
             0.6666666666666666,
             "#ed7953"
            ],
            [
             0.7777777777777778,
             "#fb9f3a"
            ],
            [
             0.8888888888888888,
             "#fdca26"
            ],
            [
             1,
             "#f0f921"
            ]
           ],
           "sequentialminus": [
            [
             0,
             "#0d0887"
            ],
            [
             0.1111111111111111,
             "#46039f"
            ],
            [
             0.2222222222222222,
             "#7201a8"
            ],
            [
             0.3333333333333333,
             "#9c179e"
            ],
            [
             0.4444444444444444,
             "#bd3786"
            ],
            [
             0.5555555555555556,
             "#d8576b"
            ],
            [
             0.6666666666666666,
             "#ed7953"
            ],
            [
             0.7777777777777778,
             "#fb9f3a"
            ],
            [
             0.8888888888888888,
             "#fdca26"
            ],
            [
             1,
             "#f0f921"
            ]
           ]
          },
          "colorway": [
           "#636efa",
           "#EF553B",
           "#00cc96",
           "#ab63fa",
           "#FFA15A",
           "#19d3f3",
           "#FF6692",
           "#B6E880",
           "#FF97FF",
           "#FECB52"
          ],
          "font": {
           "color": "#2a3f5f"
          },
          "geo": {
           "bgcolor": "white",
           "lakecolor": "white",
           "landcolor": "#E5ECF6",
           "showlakes": true,
           "showland": true,
           "subunitcolor": "white"
          },
          "hoverlabel": {
           "align": "left"
          },
          "hovermode": "closest",
          "mapbox": {
           "style": "light"
          },
          "paper_bgcolor": "white",
          "plot_bgcolor": "#E5ECF6",
          "polar": {
           "angularaxis": {
            "gridcolor": "white",
            "linecolor": "white",
            "ticks": ""
           },
           "bgcolor": "#E5ECF6",
           "radialaxis": {
            "gridcolor": "white",
            "linecolor": "white",
            "ticks": ""
           }
          },
          "scene": {
           "xaxis": {
            "backgroundcolor": "#E5ECF6",
            "gridcolor": "white",
            "gridwidth": 2,
            "linecolor": "white",
            "showbackground": true,
            "ticks": "",
            "zerolinecolor": "white"
           },
           "yaxis": {
            "backgroundcolor": "#E5ECF6",
            "gridcolor": "white",
            "gridwidth": 2,
            "linecolor": "white",
            "showbackground": true,
            "ticks": "",
            "zerolinecolor": "white"
           },
           "zaxis": {
            "backgroundcolor": "#E5ECF6",
            "gridcolor": "white",
            "gridwidth": 2,
            "linecolor": "white",
            "showbackground": true,
            "ticks": "",
            "zerolinecolor": "white"
           }
          },
          "shapedefaults": {
           "line": {
            "color": "#2a3f5f"
           }
          },
          "ternary": {
           "aaxis": {
            "gridcolor": "white",
            "linecolor": "white",
            "ticks": ""
           },
           "baxis": {
            "gridcolor": "white",
            "linecolor": "white",
            "ticks": ""
           },
           "bgcolor": "#E5ECF6",
           "caxis": {
            "gridcolor": "white",
            "linecolor": "white",
            "ticks": ""
           }
          },
          "title": {
           "x": 0.05
          },
          "xaxis": {
           "automargin": true,
           "gridcolor": "white",
           "linecolor": "white",
           "ticks": "",
           "title": {
            "standoff": 15
           },
           "zerolinecolor": "white",
           "zerolinewidth": 2
          },
          "yaxis": {
           "automargin": true,
           "gridcolor": "white",
           "linecolor": "white",
           "ticks": "",
           "title": {
            "standoff": 15
           },
           "zerolinecolor": "white",
           "zerolinewidth": 2
          }
         }
        },
        "title": {
         "text": "Monday N00/002e1"
        },
        "width": 1000,
        "xaxis": {
         "dtick": 6,
         "tick0": 3
        }
       }
      },
      "text/html": [
       "<div>\n",
       "        \n",
       "        \n",
       "            <div id=\"1c6b44c2-5444-404d-9d80-145768422223\" class=\"plotly-graph-div\" style=\"height:600px; width:1000px;\"></div>\n",
       "            <script type=\"text/javascript\">\n",
       "                require([\"plotly\"], function(Plotly) {\n",
       "                    window.PLOTLYENV=window.PLOTLYENV || {};\n",
       "                    \n",
       "                if (document.getElementById(\"1c6b44c2-5444-404d-9d80-145768422223\")) {\n",
       "                    Plotly.newPlot(\n",
       "                        '1c6b44c2-5444-404d-9d80-145768422223',\n",
       "                        [{\"line\": {\"width\": 0}, \"marker\": {\"color\": \"#444\"}, \"mode\": \"lines\", \"name\": \"$Counts \\\\mu-2\\\\sigma$\", \"showlegend\": false, \"type\": \"scatter\", \"x\": [\"00:00:00\", \"01:00:00\", \"02:00:00\", \"03:00:00\", \"04:00:00\", \"05:00:00\", \"06:00:00\", \"07:00:00\", \"08:00:00\", \"09:00:00\", \"10:00:00\", \"11:00:00\", \"12:00:00\", \"13:00:00\", \"14:00:00\", \"15:00:00\", \"16:00:00\", \"17:00:00\", \"18:00:00\", \"19:00:00\", \"20:00:00\", \"21:00:00\", \"22:00:00\", \"23:00:00\"], \"y\": [58.077030841447424, 52.89075962068594, 48.94132748236198, 49.1692218632119, 58.52115620337301, 80.27338578961545, 114.11230228826298, 146.2882815406711, 168.48105275631727, 166.83820894600498, 167.79561742678018, 176.6010148248748, 198.85423425897739, 216.4162764514571, 232.95482665087536, 233.831315292591, 229.29108943438786, 213.83044333328894, 194.38719845753766, 192.61757458353702, 187.59827027016266, 188.43232898980426, 219.01536588611998, 249.1772514044509]}, {\"fill\": \"tonexty\", \"fillcolor\": \"rgba(255,0,0,0.3)\", \"line\": {\"color\": \"rgb(255, 0, 0)\"}, \"mode\": \"lines\", \"name\": \"$\\\\text{Count distribution} (\\\\pm 2 \\\\sigma)$\", \"type\": \"scatter\", \"x\": [\"00:00:00\", \"01:00:00\", \"02:00:00\", \"03:00:00\", \"04:00:00\", \"05:00:00\", \"06:00:00\", \"07:00:00\", \"08:00:00\", \"09:00:00\", \"10:00:00\", \"11:00:00\", \"12:00:00\", \"13:00:00\", \"14:00:00\", \"15:00:00\", \"16:00:00\", \"17:00:00\", \"18:00:00\", \"19:00:00\", \"20:00:00\", \"21:00:00\", \"22:00:00\", \"23:00:00\"], \"y\": [82.476, 72.851, 67.02, 68.289, 79.036, 104.018, 142.8, 180.935, 202.458, 203.326, 201.111, 213.06, 236.191, 256.85, 272.11, 275.253, 268.834, 252.74, 230.226, 229.799, 224.933, 225.985, 258.645, 297.617]}, {\"fill\": \"tonexty\", \"fillcolor\": \"rgba(255,0,0,0.3)\", \"line\": {\"width\": 0}, \"marker\": {\"color\": \"#444\"}, \"mode\": \"lines\", \"name\": \"$Counts \\\\mu+2\\\\sigma$\", \"showlegend\": false, \"type\": \"scatter\", \"x\": [\"00:00:00\", \"01:00:00\", \"02:00:00\", \"03:00:00\", \"04:00:00\", \"05:00:00\", \"06:00:00\", \"07:00:00\", \"08:00:00\", \"09:00:00\", \"10:00:00\", \"11:00:00\", \"12:00:00\", \"13:00:00\", \"14:00:00\", \"15:00:00\", \"16:00:00\", \"17:00:00\", \"18:00:00\", \"19:00:00\", \"20:00:00\", \"21:00:00\", \"22:00:00\", \"23:00:00\"], \"y\": [106.87496915855257, 92.81124037931406, 85.09867251763802, 87.4087781367881, 99.55084379662699, 127.76261421038456, 171.48769771173704, 215.5817184593289, 236.43494724368273, 239.813791053995, 234.4263825732198, 249.5189851751252, 273.5277657410226, 297.283723548543, 311.26517334912467, 316.67468470740897, 308.37691056561215, 291.6495566667111, 266.06480154246236, 266.980425416463, 262.26772972983736, 263.53767101019577, 298.27463411388, 346.05674859554915]}, {\"line\": {\"width\": 0}, \"marker\": {\"color\": \"#444\"}, \"mode\": \"lines\", \"name\": \"Intensity $\\\\mu-2\\\\sigma$\", \"showlegend\": false, \"type\": \"scatter\", \"x\": [\"00:00:00\", \"01:00:00\", \"02:00:00\", \"03:00:00\", \"04:00:00\", \"05:00:00\", \"06:00:00\", \"07:00:00\", \"08:00:00\", \"09:00:00\", \"10:00:00\", \"11:00:00\", \"12:00:00\", \"13:00:00\", \"14:00:00\", \"15:00:00\", \"16:00:00\", \"17:00:00\", \"18:00:00\", \"19:00:00\", \"20:00:00\", \"21:00:00\", \"22:00:00\", \"23:00:00\"], \"y\": [66.375816567901, 61.61764429878877, 56.53576635178886, 57.81694287883769, 68.36299778351513, 90.80685186658957, 127.46098042294592, 160.86492838883376, 183.0989962723554, 180.36511673315997, 181.75126678922373, 190.25872169860207, 214.15983026301768, 230.46354980369404, 247.77629500942552, 248.095899244994, 243.72796315674233, 230.0866630325935, 209.25281024015834, 207.9193548261993, 203.0587514228917, 204.91595646401018, 235.39155453937556, 265.33043540196957]}, {\"fill\": \"tonexty\", \"fillcolor\": \"rgba(0,255,0,0.3)\", \"line\": {\"color\": \"rgb(0, 255, 0)\"}, \"mode\": \"lines\", \"name\": \"$\\\\text{Intensity Estimate } (\\\\pm 2 \\\\sigma)$\", \"type\": \"scatter\", \"x\": [\"00:00:00\", \"01:00:00\", \"02:00:00\", \"03:00:00\", \"04:00:00\", \"05:00:00\", \"06:00:00\", \"07:00:00\", \"08:00:00\", \"09:00:00\", \"10:00:00\", \"11:00:00\", \"12:00:00\", \"13:00:00\", \"14:00:00\", \"15:00:00\", \"16:00:00\", \"17:00:00\", \"18:00:00\", \"19:00:00\", \"20:00:00\", \"21:00:00\", \"22:00:00\", \"23:00:00\"], \"y\": [82.51859071484665, 73.17639202815069, 66.70525067919785, 68.00068142885009, 78.94875246220946, 103.95581452018475, 143.29365173264452, 181.13338142989988, 201.95392546669945, 202.82567694669427, 200.81542788602118, 213.63333390831207, 235.7818765631032, 257.4634007222321, 270.9298402858067, 273.81889490997287, 268.28035421056336, 252.18603244365806, 230.4656515326246, 229.35938417041535, 224.81520126663474, 225.71008033187687, 259.1662584986487, 297.6852596243409]}, {\"fill\": \"tonexty\", \"fillcolor\": \"rgba(0,255,0,0.3)\", \"line\": {\"width\": 0}, \"marker\": {\"color\": \"#444\"}, \"mode\": \"lines\", \"name\": \"Intensity $\\\\mu+2\\\\sigma$\", \"showlegend\": false, \"type\": \"scatter\", \"x\": [\"00:00:00\", \"01:00:00\", \"02:00:00\", \"03:00:00\", \"04:00:00\", \"05:00:00\", \"06:00:00\", \"07:00:00\", \"08:00:00\", \"09:00:00\", \"10:00:00\", \"11:00:00\", \"12:00:00\", \"13:00:00\", \"14:00:00\", \"15:00:00\", \"16:00:00\", \"17:00:00\", \"18:00:00\", \"19:00:00\", \"20:00:00\", \"21:00:00\", \"22:00:00\", \"23:00:00\"], \"y\": [98.66136486179231, 84.73513975751261, 76.87473500660683, 78.18441997886248, 89.53450714090378, 117.10477717377992, 159.1263230423431, 201.401834470966, 220.80885466104348, 225.28623716022858, 219.87958898281863, 237.00794611802206, 257.4039228631887, 284.4632516407702, 294.08338556218786, 299.5418905749517, 292.8327452643844, 274.28540185472264, 251.67849282509087, 250.7994135146314, 246.5716511103778, 246.50420419974355, 282.9409624579218, 330.04008384671226]}, {\"line\": {\"color\": \"purple\"}, \"mode\": \"markers\", \"name\": \"Lockdown 16 Mar\", \"type\": \"scatter\", \"x\": [\"00:00:00\", \"01:00:00\", \"02:00:00\", \"03:00:00\", \"04:00:00\", \"05:00:00\", \"06:00:00\", \"07:00:00\", \"08:00:00\", \"09:00:00\", \"10:00:00\", \"11:00:00\", \"12:00:00\", \"13:00:00\", \"14:00:00\", \"15:00:00\", \"16:00:00\", \"17:00:00\", \"18:00:00\", \"19:00:00\", \"20:00:00\", \"21:00:00\", \"22:00:00\", \"23:00:00\"], \"y\": [82, 83, 68, 68, 73, 112, 155, 199, 220, 186, 218, 227, 258, 265, 258, 259, 265, 318, 275, 265, 298, 292, 306, 232]}, {\"line\": {\"color\": \"#1f77b4\"}, \"mode\": \"markers\", \"name\": \"Normal 10 Feb\", \"type\": \"scatter\", \"x\": [\"00:00:00\", \"01:00:00\", \"02:00:00\", \"03:00:00\", \"04:00:00\", \"05:00:00\", \"06:00:00\", \"07:00:00\", \"08:00:00\", \"09:00:00\", \"10:00:00\", \"11:00:00\", \"12:00:00\", \"13:00:00\", \"14:00:00\", \"15:00:00\", \"16:00:00\", \"17:00:00\", \"18:00:00\", \"19:00:00\", \"20:00:00\", \"21:00:00\", \"22:00:00\", \"23:00:00\"], \"y\": [88, 75, 61, 67, 74, 97, 153, 185, 207, 202, 192, 210, 244, 252, 275, 278, 260, 274, 199, 247, 236, 195, 274, 300]}],\n",
       "                        {\"height\": 600, \"template\": {\"data\": {\"bar\": [{\"error_x\": {\"color\": \"#2a3f5f\"}, \"error_y\": {\"color\": \"#2a3f5f\"}, \"marker\": {\"line\": {\"color\": \"#E5ECF6\", \"width\": 0.5}}, \"type\": \"bar\"}], \"barpolar\": [{\"marker\": {\"line\": {\"color\": \"#E5ECF6\", \"width\": 0.5}}, \"type\": \"barpolar\"}], \"carpet\": [{\"aaxis\": {\"endlinecolor\": \"#2a3f5f\", \"gridcolor\": \"white\", \"linecolor\": \"white\", \"minorgridcolor\": \"white\", \"startlinecolor\": \"#2a3f5f\"}, \"baxis\": {\"endlinecolor\": \"#2a3f5f\", \"gridcolor\": \"white\", \"linecolor\": \"white\", \"minorgridcolor\": \"white\", \"startlinecolor\": \"#2a3f5f\"}, \"type\": \"carpet\"}], \"choropleth\": [{\"colorbar\": {\"outlinewidth\": 0, \"ticks\": \"\"}, \"type\": \"choropleth\"}], \"contour\": [{\"colorbar\": {\"outlinewidth\": 0, \"ticks\": \"\"}, \"colorscale\": [[0.0, \"#0d0887\"], [0.1111111111111111, \"#46039f\"], [0.2222222222222222, \"#7201a8\"], [0.3333333333333333, \"#9c179e\"], [0.4444444444444444, \"#bd3786\"], [0.5555555555555556, \"#d8576b\"], [0.6666666666666666, \"#ed7953\"], [0.7777777777777778, \"#fb9f3a\"], [0.8888888888888888, \"#fdca26\"], [1.0, \"#f0f921\"]], \"type\": \"contour\"}], \"contourcarpet\": [{\"colorbar\": {\"outlinewidth\": 0, \"ticks\": \"\"}, \"type\": \"contourcarpet\"}], \"heatmap\": [{\"colorbar\": {\"outlinewidth\": 0, \"ticks\": \"\"}, \"colorscale\": [[0.0, \"#0d0887\"], [0.1111111111111111, \"#46039f\"], [0.2222222222222222, \"#7201a8\"], [0.3333333333333333, \"#9c179e\"], [0.4444444444444444, \"#bd3786\"], [0.5555555555555556, \"#d8576b\"], [0.6666666666666666, \"#ed7953\"], [0.7777777777777778, \"#fb9f3a\"], [0.8888888888888888, \"#fdca26\"], [1.0, \"#f0f921\"]], \"type\": \"heatmap\"}], \"heatmapgl\": [{\"colorbar\": {\"outlinewidth\": 0, \"ticks\": \"\"}, \"colorscale\": [[0.0, \"#0d0887\"], [0.1111111111111111, \"#46039f\"], [0.2222222222222222, \"#7201a8\"], [0.3333333333333333, \"#9c179e\"], [0.4444444444444444, \"#bd3786\"], [0.5555555555555556, \"#d8576b\"], [0.6666666666666666, \"#ed7953\"], [0.7777777777777778, \"#fb9f3a\"], [0.8888888888888888, \"#fdca26\"], [1.0, \"#f0f921\"]], \"type\": \"heatmapgl\"}], \"histogram\": [{\"marker\": {\"colorbar\": {\"outlinewidth\": 0, \"ticks\": \"\"}}, \"type\": \"histogram\"}], \"histogram2d\": [{\"colorbar\": {\"outlinewidth\": 0, \"ticks\": \"\"}, \"colorscale\": [[0.0, \"#0d0887\"], [0.1111111111111111, \"#46039f\"], [0.2222222222222222, \"#7201a8\"], [0.3333333333333333, \"#9c179e\"], [0.4444444444444444, \"#bd3786\"], [0.5555555555555556, \"#d8576b\"], [0.6666666666666666, \"#ed7953\"], [0.7777777777777778, \"#fb9f3a\"], [0.8888888888888888, \"#fdca26\"], [1.0, \"#f0f921\"]], \"type\": \"histogram2d\"}], \"histogram2dcontour\": [{\"colorbar\": {\"outlinewidth\": 0, \"ticks\": \"\"}, \"colorscale\": [[0.0, \"#0d0887\"], [0.1111111111111111, \"#46039f\"], [0.2222222222222222, \"#7201a8\"], [0.3333333333333333, \"#9c179e\"], [0.4444444444444444, \"#bd3786\"], [0.5555555555555556, \"#d8576b\"], [0.6666666666666666, \"#ed7953\"], [0.7777777777777778, \"#fb9f3a\"], [0.8888888888888888, \"#fdca26\"], [1.0, \"#f0f921\"]], \"type\": \"histogram2dcontour\"}], \"mesh3d\": [{\"colorbar\": {\"outlinewidth\": 0, \"ticks\": \"\"}, \"type\": \"mesh3d\"}], \"parcoords\": [{\"line\": {\"colorbar\": {\"outlinewidth\": 0, \"ticks\": \"\"}}, \"type\": \"parcoords\"}], \"pie\": [{\"automargin\": true, \"type\": \"pie\"}], \"scatter\": [{\"marker\": {\"colorbar\": {\"outlinewidth\": 0, \"ticks\": \"\"}}, \"type\": \"scatter\"}], \"scatter3d\": [{\"line\": {\"colorbar\": {\"outlinewidth\": 0, \"ticks\": \"\"}}, \"marker\": {\"colorbar\": {\"outlinewidth\": 0, \"ticks\": \"\"}}, \"type\": \"scatter3d\"}], \"scattercarpet\": [{\"marker\": {\"colorbar\": {\"outlinewidth\": 0, \"ticks\": \"\"}}, \"type\": \"scattercarpet\"}], \"scattergeo\": [{\"marker\": {\"colorbar\": {\"outlinewidth\": 0, \"ticks\": \"\"}}, \"type\": \"scattergeo\"}], \"scattergl\": [{\"marker\": {\"colorbar\": {\"outlinewidth\": 0, \"ticks\": \"\"}}, \"type\": \"scattergl\"}], \"scattermapbox\": [{\"marker\": {\"colorbar\": {\"outlinewidth\": 0, \"ticks\": \"\"}}, \"type\": \"scattermapbox\"}], \"scatterpolar\": [{\"marker\": {\"colorbar\": {\"outlinewidth\": 0, \"ticks\": \"\"}}, \"type\": \"scatterpolar\"}], \"scatterpolargl\": [{\"marker\": {\"colorbar\": {\"outlinewidth\": 0, \"ticks\": \"\"}}, \"type\": \"scatterpolargl\"}], \"scatterternary\": [{\"marker\": {\"colorbar\": {\"outlinewidth\": 0, \"ticks\": \"\"}}, \"type\": \"scatterternary\"}], \"surface\": [{\"colorbar\": {\"outlinewidth\": 0, \"ticks\": \"\"}, \"colorscale\": [[0.0, \"#0d0887\"], [0.1111111111111111, \"#46039f\"], [0.2222222222222222, \"#7201a8\"], [0.3333333333333333, \"#9c179e\"], [0.4444444444444444, \"#bd3786\"], [0.5555555555555556, \"#d8576b\"], [0.6666666666666666, \"#ed7953\"], [0.7777777777777778, \"#fb9f3a\"], [0.8888888888888888, \"#fdca26\"], [1.0, \"#f0f921\"]], \"type\": \"surface\"}], \"table\": [{\"cells\": {\"fill\": {\"color\": \"#EBF0F8\"}, \"line\": {\"color\": \"white\"}}, \"header\": {\"fill\": {\"color\": \"#C8D4E3\"}, \"line\": {\"color\": \"white\"}}, \"type\": \"table\"}]}, \"layout\": {\"annotationdefaults\": {\"arrowcolor\": \"#2a3f5f\", \"arrowhead\": 0, \"arrowwidth\": 1}, \"coloraxis\": {\"colorbar\": {\"outlinewidth\": 0, \"ticks\": \"\"}}, \"colorscale\": {\"diverging\": [[0, \"#8e0152\"], [0.1, \"#c51b7d\"], [0.2, \"#de77ae\"], [0.3, \"#f1b6da\"], [0.4, \"#fde0ef\"], [0.5, \"#f7f7f7\"], [0.6, \"#e6f5d0\"], [0.7, \"#b8e186\"], [0.8, \"#7fbc41\"], [0.9, \"#4d9221\"], [1, \"#276419\"]], \"sequential\": [[0.0, \"#0d0887\"], [0.1111111111111111, \"#46039f\"], [0.2222222222222222, \"#7201a8\"], [0.3333333333333333, \"#9c179e\"], [0.4444444444444444, \"#bd3786\"], [0.5555555555555556, \"#d8576b\"], [0.6666666666666666, \"#ed7953\"], [0.7777777777777778, \"#fb9f3a\"], [0.8888888888888888, \"#fdca26\"], [1.0, \"#f0f921\"]], \"sequentialminus\": [[0.0, \"#0d0887\"], [0.1111111111111111, \"#46039f\"], [0.2222222222222222, \"#7201a8\"], [0.3333333333333333, \"#9c179e\"], [0.4444444444444444, \"#bd3786\"], [0.5555555555555556, \"#d8576b\"], [0.6666666666666666, \"#ed7953\"], [0.7777777777777778, \"#fb9f3a\"], [0.8888888888888888, \"#fdca26\"], [1.0, \"#f0f921\"]]}, \"colorway\": [\"#636efa\", \"#EF553B\", \"#00cc96\", \"#ab63fa\", \"#FFA15A\", \"#19d3f3\", \"#FF6692\", \"#B6E880\", \"#FF97FF\", \"#FECB52\"], \"font\": {\"color\": \"#2a3f5f\"}, \"geo\": {\"bgcolor\": \"white\", \"lakecolor\": \"white\", \"landcolor\": \"#E5ECF6\", \"showlakes\": true, \"showland\": true, \"subunitcolor\": \"white\"}, \"hoverlabel\": {\"align\": \"left\"}, \"hovermode\": \"closest\", \"mapbox\": {\"style\": \"light\"}, \"paper_bgcolor\": \"white\", \"plot_bgcolor\": \"#E5ECF6\", \"polar\": {\"angularaxis\": {\"gridcolor\": \"white\", \"linecolor\": \"white\", \"ticks\": \"\"}, \"bgcolor\": \"#E5ECF6\", \"radialaxis\": {\"gridcolor\": \"white\", \"linecolor\": \"white\", \"ticks\": \"\"}}, \"scene\": {\"xaxis\": {\"backgroundcolor\": \"#E5ECF6\", \"gridcolor\": \"white\", \"gridwidth\": 2, \"linecolor\": \"white\", \"showbackground\": true, \"ticks\": \"\", \"zerolinecolor\": \"white\"}, \"yaxis\": {\"backgroundcolor\": \"#E5ECF6\", \"gridcolor\": \"white\", \"gridwidth\": 2, \"linecolor\": \"white\", \"showbackground\": true, \"ticks\": \"\", \"zerolinecolor\": \"white\"}, \"zaxis\": {\"backgroundcolor\": \"#E5ECF6\", \"gridcolor\": \"white\", \"gridwidth\": 2, \"linecolor\": \"white\", \"showbackground\": true, \"ticks\": \"\", \"zerolinecolor\": \"white\"}}, \"shapedefaults\": {\"line\": {\"color\": \"#2a3f5f\"}}, \"ternary\": {\"aaxis\": {\"gridcolor\": \"white\", \"linecolor\": \"white\", \"ticks\": \"\"}, \"baxis\": {\"gridcolor\": \"white\", \"linecolor\": \"white\", \"ticks\": \"\"}, \"bgcolor\": \"#E5ECF6\", \"caxis\": {\"gridcolor\": \"white\", \"linecolor\": \"white\", \"ticks\": \"\"}}, \"title\": {\"x\": 0.05}, \"xaxis\": {\"automargin\": true, \"gridcolor\": \"white\", \"linecolor\": \"white\", \"ticks\": \"\", \"title\": {\"standoff\": 15}, \"zerolinecolor\": \"white\", \"zerolinewidth\": 2}, \"yaxis\": {\"automargin\": true, \"gridcolor\": \"white\", \"linecolor\": \"white\", \"ticks\": \"\", \"title\": {\"standoff\": 15}, \"zerolinecolor\": \"white\", \"zerolinewidth\": 2}}}, \"title\": {\"text\": \"Monday N00/002e1\"}, \"width\": 1000, \"xaxis\": {\"dtick\": 6, \"tick0\": 3}},\n",
       "                        {\"responsive\": true}\n",
       "                    ).then(function(){\n",
       "                            \n",
       "var gd = document.getElementById('1c6b44c2-5444-404d-9d80-145768422223');\n",
       "var x = new MutationObserver(function (mutations, observer) {{\n",
       "        var display = window.getComputedStyle(gd).display;\n",
       "        if (!display || display === 'none') {{\n",
       "            console.log([gd, 'removed!']);\n",
       "            Plotly.purge(gd);\n",
       "            observer.disconnect();\n",
       "        }}\n",
       "}});\n",
       "\n",
       "// Listen for the removal of the full notebook cells\n",
       "var notebookContainer = gd.closest('#notebook-container');\n",
       "if (notebookContainer) {{\n",
       "    x.observe(notebookContainer, {childList: true});\n",
       "}}\n",
       "\n",
       "// Listen for the clearing of the current output cell\n",
       "var outputEl = gd.closest('.output');\n",
       "if (outputEl) {{\n",
       "    x.observe(outputEl, {childList: true});\n",
       "}}\n",
       "\n",
       "                        })\n",
       "                };\n",
       "                });\n",
       "            </script>\n",
       "        </div>"
      ]
     },
     "metadata": {},
     "output_type": "display_data"
    }
   ],
   "source": [
    "# lets look at just one day, one kernel, one detector\n",
    "normal_index = 0\n",
    "lockdown_index = 0\n",
    "detector_index = 0\n",
    "kernel_id = \"matern32_ls=0.1_v=0.1\"\n",
    "\n",
    "# get data config from data settings\n",
    "normal_start = data_settings[normal_index][\"normal_start\"]\n",
    "lockdown_start = data_settings[lockdown_index][\"lockdown_start\"]\n",
    "detector_id = data_settings[normal_index][\"detectors\"][detector_index]\n",
    "\n",
    "# load data for this day\n",
    "normal_df = load_scoot_df(\n",
    "    root=root,\n",
    "    experiment=experiment,\n",
    "    timestamp=normal_start,\n",
    "    filename=\"scoot\"\n",
    ")\n",
    "lockdown_df = load_scoot_df(\n",
    "    root=root,\n",
    "    experiment=experiment,\n",
    "    timestamp=lockdown_start,\n",
    "    filename=\"scoot\"\n",
    ")\n",
    "normal_detector_df = normal_df.loc[normal_df.detector_id == detector_id]\n",
    "lockdown_detector_df = lockdown_df.loc[lockdown_df.detector_id == detector_id]\n",
    "\n",
    "# get the raw data for the given detector\n",
    "x_normal, y_normal = load_processed_data_from_file(\n",
    "    root=root,\n",
    "    experiment=experiment,\n",
    "    timestamp=normal_start,\n",
    "    kernel_id=kernel_id,\n",
    "    detector_id=detector_id\n",
    ")\n",
    "x_lockdown, y_lockdown = load_processed_data_from_file(\n",
    "    root=root,\n",
    "    experiment=experiment,\n",
    "    timestamp=lockdown_start,\n",
    "    kernel_id=kernel_id,\n",
    "    detector_id=detector_id\n",
    ")\n",
    "\n",
    "model = load_model_from_file(\n",
    "    root=root,\n",
    "    experiment=experiment,\n",
    "    timestamp=normal_start,\n",
    "    kernel_id=kernel_id,\n",
    "    detector_id=detector_id\n",
    ")\n",
    "\n",
    "# get data for plot\n",
    "data = daily_normal_vs_lockdown(normal_detector_df, lockdown_detector_df, detector_id, model, x_normal, num_samples=1000)\n",
    "\n",
    "# calculate the coverage\n",
    "coverage = percentage_coverage(model, x_lockdown[:,0][:,np.newaxis], y_lockdown, num_pertubations=1000, num_samples=1000, quantile=0.99)\n",
    "\n",
    "# update layout\n",
    "layout = dict(\n",
    "    title=\"Monday {id}\".format(id=detector_id, c=coverage*100),\n",
    "    width=1000,\n",
    "    height=600\n",
    ")\n",
    "fig = go.Figure(data=data, layout=layout)\n",
    "fig.update_xaxes(tick0=3, dtick=6)\n",
    "fig.show()"
   ]
  },
  {
   "cell_type": "code",
   "execution_count": 32,
   "metadata": {},
   "outputs": [
    {
     "name": "stdout",
     "output_type": "stream",
     "text": [
      "Remainder: 0.010000000000000009\n",
      "lower: 4508.97\n",
      "upper: 4859.004999999999\n",
      "total count: 4982\n",
      "adding: 0\n",
      "\n"
     ]
    },
    {
     "data": {
      "image/png": "[encoded data removed]",
      "text/plain": [
       "<Figure size 432x288 with 1 Axes>"
      ]
     },
     "metadata": {
      "needs_background": "light"
     },
     "output_type": "display_data"
    },
    {
     "name": "stdout",
     "output_type": "stream",
     "text": [
      "Remainder: 0.010000000000000009\n",
      "lower: 4440.985\n",
      "upper: 4791.035\n",
      "total count: 4982\n",
      "adding: 0\n",
      "\n"
     ]
    },
    {
     "data": {
      "image/png": "[encoded data removed]",
      "text/plain": [
       "<Figure size 432x288 with 1 Axes>"
      ]
     },
     "metadata": {
      "needs_background": "light"
     },
     "output_type": "display_data"
    },
    {
     "name": "stdout",
     "output_type": "stream",
     "text": [
      "Remainder: 0.010000000000000009\n",
      "lower: 4388.975\n",
      "upper: 4737.0\n",
      "total count: 4982\n",
      "adding: 0\n",
      "\n"
     ]
    },
    {
     "data": {
      "image/png": "[encoded data removed]",
      "text/plain": [
       "<Figure size 432x288 with 1 Axes>"
      ]
     },
     "metadata": {
      "needs_background": "light"
     },
     "output_type": "display_data"
    },
    {
     "name": "stdout",
     "output_type": "stream",
     "text": [
      "Remainder: 0.010000000000000009\n",
      "lower: 4398.0\n",
      "upper: 4735.01\n",
      "total count: 4982\n",
      "adding: 0\n",
      "\n"
     ]
    },
    {
     "data": {
      "image/png": "[encoded data removed]",
      "text/plain": [
       "<Figure size 432x288 with 1 Axes>"
      ]
     },
     "metadata": {
      "needs_background": "light"
     },
     "output_type": "display_data"
    },
    {
     "name": "stdout",
     "output_type": "stream",
     "text": [
      "Remainder: 0.010000000000000009\n",
      "lower: 4337.995\n",
      "upper: 4698.0599999999995\n",
      "total count: 4982\n",
      "adding: 0\n",
      "\n"
     ]
    },
    {
     "data": {
      "image/png": "[encoded data removed]",
      "text/plain": [
       "<Figure size 432x288 with 1 Axes>"
      ]
     },
     "metadata": {
      "needs_background": "light"
     },
     "output_type": "display_data"
    },
    {
     "name": "stdout",
     "output_type": "stream",
     "text": [
      "Remainder: 0.010000000000000009\n",
      "lower: 4481.995\n",
      "upper: 4823.02\n",
      "total count: 4982\n",
      "adding: 0\n",
      "\n"
     ]
    },
    {
     "data": {
      "image/png": "[encoded data removed]",
      "text/plain": [
       "<Figure size 432x288 with 1 Axes>"
      ]
     },
     "metadata": {
      "needs_background": "light"
     },
     "output_type": "display_data"
    },
    {
     "name": "stdout",
     "output_type": "stream",
     "text": [
      "Remainder: 0.010000000000000009\n",
      "lower: 4455.965\n",
      "upper: 4797.015\n",
      "total count: 4982\n",
      "adding: 0\n",
      "\n"
     ]
    },
    {
     "data": {
      "image/png": "[encoded data removed]",
      "text/plain": [
       "<Figure size 432x288 with 1 Axes>"
      ]
     },
     "metadata": {
      "needs_background": "light"
     },
     "output_type": "display_data"
    },
    {
     "name": "stdout",
     "output_type": "stream",
     "text": [
      "Remainder: 0.010000000000000009\n",
      "lower: 4543.975\n",
      "upper: 4878.01\n",
      "total count: 4982\n",
      "adding: 0\n",
      "\n"
     ]
    },
    {
     "data": {
      "image/png": "[encoded data removed]",
      "text/plain": [
       "<Figure size 432x288 with 1 Axes>"
      ]
     },
     "metadata": {
      "needs_background": "light"
     },
     "output_type": "display_data"
    },
    {
     "name": "stdout",
     "output_type": "stream",
     "text": [
      "Remainder: 0.010000000000000009\n",
      "lower: 4364.995000000001\n",
      "upper: 4707.0199999999995\n",
      "total count: 4982\n",
      "adding: 0\n",
      "\n"
     ]
    },
    {
     "data": {
      "image/png": "[encoded data removed]",
      "text/plain": [
       "<Figure size 432x288 with 1 Axes>"
      ]
     },
     "metadata": {
      "needs_background": "light"
     },
     "output_type": "display_data"
    },
    {
     "name": "stdout",
     "output_type": "stream",
     "text": [
      "Remainder: 0.010000000000000009\n",
      "lower: 4484.950000000001\n",
      "upper: 4840.04\n",
      "total count: 4982\n",
      "adding: 0\n",
      "\n"
     ]
    },
    {
     "data": {
      "image/png": "[encoded data removed]",
      "text/plain": [
       "<Figure size 432x288 with 1 Axes>"
      ]
     },
     "metadata": {
      "needs_background": "light"
     },
     "output_type": "display_data"
    },
    {
     "name": "stdout",
     "output_type": "stream",
     "text": [
      "Remainder: 0.010000000000000009\n",
      "lower: 4458.965\n",
      "upper: 4813.01\n",
      "total count: 4982\n",
      "adding: 0\n",
      "\n"
     ]
    },
    {
     "data": {
      "image/png": "[encoded data removed]",
      "text/plain": [
       "<Figure size 432x288 with 1 Axes>"
      ]
     },
     "metadata": {
      "needs_background": "light"
     },
     "output_type": "display_data"
    },
    {
     "name": "stdout",
     "output_type": "stream",
     "text": [
      "Remainder: 0.010000000000000009\n",
      "lower: 4538.98\n",
      "upper: 4886.015\n",
      "total count: 4982\n",
      "adding: 0\n",
      "\n"
     ]
    },
    {
     "data": {
      "image/png": "[encoded data removed]",
      "text/plain": [
       "<Figure size 432x288 with 1 Axes>"
      ]
     },
     "metadata": {
      "needs_background": "light"
     },
     "output_type": "display_data"
    },
    {
     "name": "stdout",
     "output_type": "stream",
     "text": [
      "Remainder: 0.010000000000000009\n",
      "lower: 4453.0\n",
      "upper: 4792.0\n",
      "total count: 4982\n",
      "adding: 0\n",
      "\n"
     ]
    },
    {
     "data": {
      "image/png": "[encoded data removed]",
      "text/plain": [
       "<Figure size 432x288 with 1 Axes>"
      ]
     },
     "metadata": {
      "needs_background": "light"
     },
     "output_type": "display_data"
    },
    {
     "name": "stdout",
     "output_type": "stream",
     "text": [
      "Remainder: 0.010000000000000009\n",
      "lower: 4501.9400000000005\n",
      "upper: 4846.01\n",
      "total count: 4982\n",
      "adding: 0\n",
      "\n"
     ]
    },
    {
     "data": {
      "image/png": "[encoded data removed]",
      "text/plain": [
       "<Figure size 432x288 with 1 Axes>"
      ]
     },
     "metadata": {
      "needs_background": "light"
     },
     "output_type": "display_data"
    },
    {
     "name": "stdout",
     "output_type": "stream",
     "text": [
      "Remainder: 0.010000000000000009\n",
      "lower: 4476.990000000001\n",
      "upper: 4823.075\n",
      "total count: 4982\n",
      "adding: 0\n",
      "\n"
     ]
    },
    {
     "data": {
      "image/png": "[encoded data removed]",
      "text/plain": [
       "<Figure size 432x288 with 1 Axes>"
      ]
     },
     "metadata": {
      "needs_background": "light"
     },
     "output_type": "display_data"
    },
    {
     "name": "stdout",
     "output_type": "stream",
     "text": [
      "Remainder: 0.010000000000000009\n",
      "lower: 4623.99\n",
      "upper: 4975.025\n",
      "total count: 4982\n",
      "adding: 0\n",
      "\n"
     ]
    },
    {
     "data": {
      "image/png": "[encoded data removed]",
      "text/plain": [
       "<Figure size 432x288 with 1 Axes>"
      ]
     },
     "metadata": {
      "needs_background": "light"
     },
     "output_type": "display_data"
    },
    {
     "name": "stdout",
     "output_type": "stream",
     "text": [
      "Remainder: 0.010000000000000009\n",
      "lower: 4393.955\n",
      "upper: 4721.03\n",
      "total count: 4982\n",
      "adding: 0\n",
      "\n"
     ]
    },
    {
     "data": {
      "image/png": "[encoded data removed]",
      "text/plain": [
       "<Figure size 432x288 with 1 Axes>"
      ]
     },
     "metadata": {
      "needs_background": "light"
     },
     "output_type": "display_data"
    },
    {
     "name": "stdout",
     "output_type": "stream",
     "text": [
      "Remainder: 0.010000000000000009\n",
      "lower: 4424.95\n",
      "upper: 4774.035\n",
      "total count: 4982\n",
      "adding: 0\n",
      "\n"
     ]
    },
    {
     "data": {
      "image/png": "[encoded data removed]",
      "text/plain": [
       "<Figure size 432x288 with 1 Axes>"
      ]
     },
     "metadata": {
      "needs_background": "light"
     },
     "output_type": "display_data"
    },
    {
     "name": "stdout",
     "output_type": "stream",
     "text": [
      "Remainder: 0.010000000000000009\n",
      "lower: 4487.99\n",
      "upper: 4846.08\n",
      "total count: 4982\n",
      "adding: 0\n",
      "\n"
     ]
    },
    {
     "data": {
      "image/png": "[encoded data removed]",
      "text/plain": [
       "<Figure size 432x288 with 1 Axes>"
      ]
     },
     "metadata": {
      "needs_background": "light"
     },
     "output_type": "display_data"
    },
    {
     "name": "stdout",
     "output_type": "stream",
     "text": [
      "Remainder: 0.010000000000000009\n",
      "lower: 4528.985\n",
      "upper: 4878.005\n",
      "total count: 4982\n",
      "adding: 0\n",
      "\n"
     ]
    },
    {
     "data": {
      "image/png": "[encoded data removed]",
      "text/plain": [
       "<Figure size 432x288 with 1 Axes>"
      ]
     },
     "metadata": {
      "needs_background": "light"
     },
     "output_type": "display_data"
    },
    {
     "name": "stdout",
     "output_type": "stream",
     "text": [
      "Remainder: 0.010000000000000009\n",
      "lower: 4486.99\n",
      "upper: 4830.030000000001\n",
      "total count: 4982\n",
      "adding: 0\n",
      "\n"
     ]
    },
    {
     "data": {
      "image/png": "[encoded data removed]",
      "text/plain": [
       "<Figure size 432x288 with 1 Axes>"
      ]
     },
     "metadata": {
      "needs_background": "light"
     },
     "output_type": "display_data"
    },
    {
     "name": "stdout",
     "output_type": "stream",
     "text": [
      "Remainder: 0.010000000000000009\n",
      "lower: 4531.985\n",
      "upper: 4869.015\n",
      "total count: 4982\n",
      "adding: 0\n",
      "\n"
     ]
    },
    {
     "data": {
      "image/png": "[encoded data removed]",
      "text/plain": [
       "<Figure size 432x288 with 1 Axes>"
      ]
     },
     "metadata": {
      "needs_background": "light"
     },
     "output_type": "display_data"
    },
    {
     "name": "stdout",
     "output_type": "stream",
     "text": [
      "Remainder: 0.010000000000000009\n",
      "lower: 4491.0\n",
      "upper: 4823.045\n",
      "total count: 4982\n",
      "adding: 0\n",
      "\n"
     ]
    },
    {
     "data": {
      "image/png": "[encoded data removed]",
      "text/plain": [
       "<Figure size 432x288 with 1 Axes>"
      ]
     },
     "metadata": {
      "needs_background": "light"
     },
     "output_type": "display_data"
    },
    {
     "name": "stdout",
     "output_type": "stream",
     "text": [
      "Remainder: 0.010000000000000009\n",
      "lower: 4302.9800000000005\n",
      "upper: 4628.035\n",
      "total count: 4982\n",
      "adding: 0\n",
      "\n"
     ]
    },
    {
     "data": {
      "image/png": "[encoded data removed]",
      "text/plain": [
       "<Figure size 432x288 with 1 Axes>"
      ]
     },
     "metadata": {
      "needs_background": "light"
     },
     "output_type": "display_data"
    },
    {
     "name": "stdout",
     "output_type": "stream",
     "text": [
      "Remainder: 0.010000000000000009\n",
      "lower: 4506.985\n",
      "upper: 4852.025\n",
      "total count: 4982\n",
      "adding: 0\n",
      "\n"
     ]
    },
    {
     "data": {
      "image/png": "[encoded data removed]",
      "text/plain": [
       "<Figure size 432x288 with 1 Axes>"
      ]
     },
     "metadata": {
      "needs_background": "light"
     },
     "output_type": "display_data"
    },
    {
     "name": "stdout",
     "output_type": "stream",
     "text": [
      "Remainder: 0.010000000000000009\n",
      "lower: 4396.975\n",
      "upper: 4739.0\n",
      "total count: 4982\n",
      "adding: 0\n",
      "\n"
     ]
    },
    {
     "data": {
      "image/png": "[encoded data removed]",
      "text/plain": [
       "<Figure size 432x288 with 1 Axes>"
      ]
     },
     "metadata": {
      "needs_background": "light"
     },
     "output_type": "display_data"
    },
    {
     "name": "stdout",
     "output_type": "stream",
     "text": [
      "Remainder: 0.010000000000000009\n",
      "lower: 4601.99\n",
      "upper: 4927.015\n",
      "total count: 4982\n",
      "adding: 0\n",
      "\n"
     ]
    },
    {
     "data": {
      "image/png": "[encoded data removed]",
      "text/plain": [
       "<Figure size 432x288 with 1 Axes>"
      ]
     },
     "metadata": {
      "needs_background": "light"
     },
     "output_type": "display_data"
    },
    {
     "name": "stdout",
     "output_type": "stream",
     "text": [
      "Remainder: 0.010000000000000009\n",
      "lower: 4531.98\n",
      "upper: 4905.11\n",
      "total count: 4982\n",
      "adding: 0\n",
      "\n"
     ]
    },
    {
     "data": {
      "image/png": "[encoded data removed]",
      "text/plain": [
       "<Figure size 432x288 with 1 Axes>"
      ]
     },
     "metadata": {
      "needs_background": "light"
     },
     "output_type": "display_data"
    },
    {
     "name": "stdout",
     "output_type": "stream",
     "text": [
      "Remainder: 0.010000000000000009\n",
      "lower: 4495.0\n",
      "upper: 4842.01\n",
      "total count: 4982\n",
      "adding: 0\n",
      "\n"
     ]
    },
    {
     "data": {
      "image/png": "[encoded data removed]",
      "text/plain": [
       "<Figure size 432x288 with 1 Axes>"
      ]
     },
     "metadata": {
      "needs_background": "light"
     },
     "output_type": "display_data"
    },
    {
     "name": "stdout",
     "output_type": "stream",
     "text": [
      "Remainder: 0.010000000000000009\n",
      "lower: 4476.97\n",
      "upper: 4847.025\n",
      "total count: 4982\n",
      "adding: 0\n",
      "\n"
     ]
    },
    {
     "data": {
      "image/png": "[encoded data removed]",
      "text/plain": [
       "<Figure size 432x288 with 1 Axes>"
      ]
     },
     "metadata": {
      "needs_background": "light"
     },
     "output_type": "display_data"
    },
    {
     "name": "stdout",
     "output_type": "stream",
     "text": [
      "Remainder: 0.010000000000000009\n",
      "lower: 4471.98\n",
      "upper: 4801.055\n",
      "total count: 4982\n",
      "adding: 0\n",
      "\n"
     ]
    },
    {
     "data": {
      "image/png": "[encoded data removed]",
      "text/plain": [
       "<Figure size 432x288 with 1 Axes>"
      ]
     },
     "metadata": {
      "needs_background": "light"
     },
     "output_type": "display_data"
    },
    {
     "name": "stdout",
     "output_type": "stream",
     "text": [
      "Remainder: 0.010000000000000009\n",
      "lower: 4494.9800000000005\n",
      "upper: 4850.0\n",
      "total count: 4982\n",
      "adding: 0\n",
      "\n"
     ]
    },
    {
     "data": {
      "image/png": "[encoded data removed]",
      "text/plain": [
       "<Figure size 432x288 with 1 Axes>"
      ]
     },
     "metadata": {
      "needs_background": "light"
     },
     "output_type": "display_data"
    },
    {
     "name": "stdout",
     "output_type": "stream",
     "text": [
      "Remainder: 0.010000000000000009\n",
      "lower: 4505.9349999999995\n",
      "upper: 4884.025\n",
      "total count: 4982\n",
      "adding: 0\n",
      "\n"
     ]
    },
    {
     "data": {
      "image/png": "[encoded data removed]",
      "text/plain": [
       "<Figure size 432x288 with 1 Axes>"
      ]
     },
     "metadata": {
      "needs_background": "light"
     },
     "output_type": "display_data"
    },
    {
     "name": "stdout",
     "output_type": "stream",
     "text": [
      "Remainder: 0.010000000000000009\n",
      "lower: 4485.99\n",
      "upper: 4836.0\n",
      "total count: 4982\n",
      "adding: 0\n",
      "\n"
     ]
    },
    {
     "data": {
      "image/png": "[encoded data removed]",
      "text/plain": [
       "<Figure size 432x288 with 1 Axes>"
      ]
     },
     "metadata": {
      "needs_background": "light"
     },
     "output_type": "display_data"
    },
    {
     "name": "stdout",
     "output_type": "stream",
     "text": [
      "Remainder: 0.010000000000000009\n",
      "lower: 4543.98\n",
      "upper: 4897.005\n",
      "total count: 4982\n",
      "adding: 0\n",
      "\n"
     ]
    },
    {
     "data": {
      "image/png": "[encoded data removed]",
      "text/plain": [
       "<Figure size 432x288 with 1 Axes>"
      ]
     },
     "metadata": {
      "needs_background": "light"
     },
     "output_type": "display_data"
    },
    {
     "name": "stdout",
     "output_type": "stream",
     "text": [
      "Remainder: 0.010000000000000009\n",
      "lower: 4507.975\n",
      "upper: 4837.05\n",
      "total count: 4982\n",
      "adding: 0\n",
      "\n"
     ]
    },
    {
     "data": {
      "image/png": "[encoded data removed]",
      "text/plain": [
       "<Figure size 432x288 with 1 Axes>"
      ]
     },
     "metadata": {
      "needs_background": "light"
     },
     "output_type": "display_data"
    },
    {
     "name": "stdout",
     "output_type": "stream",
     "text": [
      "Remainder: 0.010000000000000009\n",
      "lower: 4458.96\n",
      "upper: 4829.005\n",
      "total count: 4982\n",
      "adding: 0\n",
      "\n"
     ]
    },
    {
     "data": {
      "image/png": "[encoded data removed]",
      "text/plain": [
       "<Figure size 432x288 with 1 Axes>"
      ]
     },
     "metadata": {
      "needs_background": "light"
     },
     "output_type": "display_data"
    },
    {
     "name": "stdout",
     "output_type": "stream",
     "text": [
      "Remainder: 0.010000000000000009\n",
      "lower: 4438.985000000001\n",
      "upper: 4791.025\n",
      "total count: 4982\n",
      "adding: 0\n",
      "\n"
     ]
    },
    {
     "data": {
      "image/png": "[encoded data removed]",
      "text/plain": [
       "<Figure size 432x288 with 1 Axes>"
      ]
     },
     "metadata": {
      "needs_background": "light"
     },
     "output_type": "display_data"
    },
    {
     "name": "stdout",
     "output_type": "stream",
     "text": [
      "Remainder: 0.010000000000000009\n",
      "lower: 4412.990000000001\n",
      "upper: 4758.055\n",
      "total count: 4982\n",
      "adding: 0\n",
      "\n"
     ]
    },
    {
     "data": {
      "image/png": "[encoded data removed]",
      "text/plain": [
       "<Figure size 432x288 with 1 Axes>"
      ]
     },
     "metadata": {
      "needs_background": "light"
     },
     "output_type": "display_data"
    },
    {
     "name": "stdout",
     "output_type": "stream",
     "text": [
      "Remainder: 0.010000000000000009\n",
      "lower: 4558.9800000000005\n",
      "upper: 4901.06\n",
      "total count: 4982\n",
      "adding: 0\n",
      "\n"
     ]
    },
    {
     "data": {
      "image/png": "[encoded data removed]",
      "text/plain": [
       "<Figure size 432x288 with 1 Axes>"
      ]
     },
     "metadata": {
      "needs_background": "light"
     },
     "output_type": "display_data"
    },
    {
     "name": "stdout",
     "output_type": "stream",
     "text": [
      "Remainder: 0.010000000000000009\n",
      "lower: 4388.990000000001\n",
      "upper: 4726.005\n",
      "total count: 4982\n",
      "adding: 0\n",
      "\n"
     ]
    },
    {
     "data": {
      "image/png": "[encoded data removed]",
      "text/plain": [
       "<Figure size 432x288 with 1 Axes>"
      ]
     },
     "metadata": {
      "needs_background": "light"
     },
     "output_type": "display_data"
    },
    {
     "name": "stdout",
     "output_type": "stream",
     "text": [
      "Remainder: 0.010000000000000009\n",
      "lower: 4478.97\n",
      "upper: 4810.005\n",
      "total count: 4982\n",
      "adding: 0\n",
      "\n"
     ]
    },
    {
     "data": {
      "image/png": "[encoded data removed]",
      "text/plain": [
       "<Figure size 432x288 with 1 Axes>"
      ]
     },
     "metadata": {
      "needs_background": "light"
     },
     "output_type": "display_data"
    },
    {
     "name": "stdout",
     "output_type": "stream",
     "text": [
      "Remainder: 0.010000000000000009\n",
      "lower: 4385.98\n",
      "upper: 4735.025\n",
      "total count: 4982\n",
      "adding: 0\n",
      "\n"
     ]
    },
    {
     "data": {
      "image/png": "[encoded data removed]",
      "text/plain": [
       "<Figure size 432x288 with 1 Axes>"
      ]
     },
     "metadata": {
      "needs_background": "light"
     },
     "output_type": "display_data"
    },
    {
     "name": "stdout",
     "output_type": "stream",
     "text": [
      "Remainder: 0.010000000000000009\n",
      "lower: 4502.985000000001\n",
      "upper: 4845.005\n",
      "total count: 4982\n",
      "adding: 0\n",
      "\n"
     ]
    },
    {
     "data": {
      "image/png": "[encoded data removed]",
      "text/plain": [
       "<Figure size 432x288 with 1 Axes>"
      ]
     },
     "metadata": {
      "needs_background": "light"
     },
     "output_type": "display_data"
    },
    {
     "name": "stdout",
     "output_type": "stream",
     "text": [
      "Remainder: 0.010000000000000009\n",
      "lower: 4441.985\n",
      "upper: 4781.005\n",
      "total count: 4982\n",
      "adding: 0\n",
      "\n"
     ]
    },
    {
     "data": {
      "image/png": "[encoded data removed]",
      "text/plain": [
       "<Figure size 432x288 with 1 Axes>"
      ]
     },
     "metadata": {
      "needs_background": "light"
     },
     "output_type": "display_data"
    },
    {
     "name": "stdout",
     "output_type": "stream",
     "text": [
      "Remainder: 0.010000000000000009\n",
      "lower: 4506.99\n",
      "upper: 4840.015\n",
      "total count: 4982\n",
      "adding: 0\n",
      "\n"
     ]
    },
    {
     "data": {
      "image/png": "[encoded data removed]",
      "text/plain": [
       "<Figure size 432x288 with 1 Axes>"
      ]
     },
     "metadata": {
      "needs_background": "light"
     },
     "output_type": "display_data"
    },
    {
     "name": "stdout",
     "output_type": "stream",
     "text": [
      "Remainder: 0.010000000000000009\n",
      "lower: 4367.975\n",
      "upper: 4674.014999999999\n",
      "total count: 4982\n",
      "adding: 0\n",
      "\n"
     ]
    },
    {
     "data": {
      "image/png": "[encoded data removed]",
      "text/plain": [
       "<Figure size 432x288 with 1 Axes>"
      ]
     },
     "metadata": {
      "needs_background": "light"
     },
     "output_type": "display_data"
    },
    {
     "name": "stdout",
     "output_type": "stream",
     "text": [
      "Remainder: 0.010000000000000009\n",
      "lower: 4421.895\n",
      "upper: 4772.0199999999995\n",
      "total count: 4982\n",
      "adding: 0\n",
      "\n"
     ]
    },
    {
     "data": {
      "image/png": "[encoded data removed]",
      "text/plain": [
       "<Figure size 432x288 with 1 Axes>"
      ]
     },
     "metadata": {
      "needs_background": "light"
     },
     "output_type": "display_data"
    },
    {
     "name": "stdout",
     "output_type": "stream",
     "text": [
      "Remainder: 0.010000000000000009\n",
      "lower: 4543.995\n",
      "upper: 4890.0\n",
      "total count: 4982\n",
      "adding: 0\n",
      "\n"
     ]
    },
    {
     "data": {
      "image/png": "[encoded data removed]",
      "text/plain": [
       "<Figure size 432x288 with 1 Axes>"
      ]
     },
     "metadata": {
      "needs_background": "light"
     },
     "output_type": "display_data"
    },
    {
     "name": "stdout",
     "output_type": "stream",
     "text": [
      "Remainder: 0.010000000000000009\n",
      "lower: 4483.0\n",
      "upper: 4804.025\n",
      "total count: 4982\n",
      "adding: 0\n",
      "\n"
     ]
    },
    {
     "data": {
      "image/png": "[encoded data removed]",
      "text/plain": [
       "<Figure size 432x288 with 1 Axes>"
      ]
     },
     "metadata": {
      "needs_background": "light"
     },
     "output_type": "display_data"
    },
    {
     "name": "stdout",
     "output_type": "stream",
     "text": [
      "Remainder: 0.010000000000000009\n",
      "lower: 4370.985\n",
      "upper: 4717.055\n",
      "total count: 4982\n",
      "adding: 0\n",
      "\n"
     ]
    },
    {
     "data": {
      "image/png": "[encoded data removed]",
      "text/plain": [
       "<Figure size 432x288 with 1 Axes>"
      ]
     },
     "metadata": {
      "needs_background": "light"
     },
     "output_type": "display_data"
    },
    {
     "name": "stdout",
     "output_type": "stream",
     "text": [
      "Remainder: 0.010000000000000009\n",
      "lower: 4596.995000000001\n",
      "upper: 4936.02\n",
      "total count: 4982\n",
      "adding: 0\n",
      "\n"
     ]
    },
    {
     "data": {
      "image/png": "[encoded data removed]",
      "text/plain": [
       "<Figure size 432x288 with 1 Axes>"
      ]
     },
     "metadata": {
      "needs_background": "light"
     },
     "output_type": "display_data"
    },
    {
     "name": "stdout",
     "output_type": "stream",
     "text": [
      "Remainder: 0.010000000000000009\n",
      "lower: 4462.905000000001\n",
      "upper: 4794.025\n",
      "total count: 4982\n",
      "adding: 0\n",
      "\n"
     ]
    },
    {
     "data": {
      "image/png": "[encoded data removed]",
      "text/plain": [
       "<Figure size 432x288 with 1 Axes>"
      ]
     },
     "metadata": {
      "needs_background": "light"
     },
     "output_type": "display_data"
    },
    {
     "name": "stdout",
     "output_type": "stream",
     "text": [
      "Remainder: 0.010000000000000009\n",
      "lower: 4497.995\n",
      "upper: 4850.005\n",
      "total count: 4982\n",
      "adding: 0\n",
      "\n"
     ]
    },
    {
     "data": {
      "image/png": "[encoded data removed]",
      "text/plain": [
       "<Figure size 432x288 with 1 Axes>"
      ]
     },
     "metadata": {
      "needs_background": "light"
     },
     "output_type": "display_data"
    },
    {
     "name": "stdout",
     "output_type": "stream",
     "text": [
      "Remainder: 0.010000000000000009\n",
      "lower: 4508.975\n",
      "upper: 4873.005\n",
      "total count: 4982\n",
      "adding: 0\n",
      "\n"
     ]
    },
    {
     "data": {
      "image/png": "[encoded data removed]",
      "text/plain": [
       "<Figure size 432x288 with 1 Axes>"
      ]
     },
     "metadata": {
      "needs_background": "light"
     },
     "output_type": "display_data"
    },
    {
     "name": "stdout",
     "output_type": "stream",
     "text": [
      "Remainder: 0.010000000000000009\n",
      "lower: 4453.995\n",
      "upper: 4794.08\n",
      "total count: 4982\n",
      "adding: 0\n",
      "\n"
     ]
    },
    {
     "data": {
      "image/png": "[encoded data removed]",
      "text/plain": [
       "<Figure size 432x288 with 1 Axes>"
      ]
     },
     "metadata": {
      "needs_background": "light"
     },
     "output_type": "display_data"
    },
    {
     "name": "stdout",
     "output_type": "stream",
     "text": [
      "Remainder: 0.010000000000000009\n",
      "lower: 4494.99\n",
      "upper: 4838.005\n",
      "total count: 4982\n",
      "adding: 0\n",
      "\n"
     ]
    },
    {
     "data": {
      "image/png": "[encoded data removed]",
      "text/plain": [
       "<Figure size 432x288 with 1 Axes>"
      ]
     },
     "metadata": {
      "needs_background": "light"
     },
     "output_type": "display_data"
    },
    {
     "name": "stdout",
     "output_type": "stream",
     "text": [
      "Remainder: 0.010000000000000009\n",
      "lower: 4624.985\n",
      "upper: 4980.009999999999\n",
      "total count: 4982\n",
      "adding: 0\n",
      "\n"
     ]
    },
    {
     "data": {
      "image/png": "[encoded data removed]",
      "text/plain": [
       "<Figure size 432x288 with 1 Axes>"
      ]
     },
     "metadata": {
      "needs_background": "light"
     },
     "output_type": "display_data"
    },
    {
     "name": "stdout",
     "output_type": "stream",
     "text": [
      "Remainder: 0.010000000000000009\n",
      "lower: 4418.99\n",
      "upper: 4780.055\n",
      "total count: 4982\n",
      "adding: 0\n",
      "\n"
     ]
    },
    {
     "data": {
      "image/png": "[encoded data removed]",
      "text/plain": [
       "<Figure size 432x288 with 1 Axes>"
      ]
     },
     "metadata": {
      "needs_background": "light"
     },
     "output_type": "display_data"
    },
    {
     "name": "stdout",
     "output_type": "stream",
     "text": [
      "Remainder: 0.010000000000000009\n",
      "lower: 4477.995\n",
      "upper: 4790.005\n",
      "total count: 4982\n",
      "adding: 0\n",
      "\n"
     ]
    },
    {
     "data": {
      "image/png": "[encoded data removed]",
      "text/plain": [
       "<Figure size 432x288 with 1 Axes>"
      ]
     },
     "metadata": {
      "needs_background": "light"
     },
     "output_type": "display_data"
    },
    {
     "name": "stdout",
     "output_type": "stream",
     "text": [
      "Remainder: 0.010000000000000009\n",
      "lower: 4402.985\n",
      "upper: 4741.01\n",
      "total count: 4982\n",
      "adding: 0\n",
      "\n"
     ]
    },
    {
     "data": {
      "image/png": "[encoded data removed]",
      "text/plain": [
       "<Figure size 432x288 with 1 Axes>"
      ]
     },
     "metadata": {
      "needs_background": "light"
     },
     "output_type": "display_data"
    },
    {
     "name": "stdout",
     "output_type": "stream",
     "text": [
      "Remainder: 0.010000000000000009\n",
      "lower: 4568.965\n",
      "upper: 4904.035\n",
      "total count: 4982\n",
      "adding: 0\n",
      "\n"
     ]
    },
    {
     "data": {
      "image/png": "[encoded data removed]",
      "text/plain": [
       "<Figure size 432x288 with 1 Axes>"
      ]
     },
     "metadata": {
      "needs_background": "light"
     },
     "output_type": "display_data"
    },
    {
     "name": "stdout",
     "output_type": "stream",
     "text": [
      "Remainder: 0.010000000000000009\n",
      "lower: 4525.97\n",
      "upper: 4862.05\n",
      "total count: 4982\n",
      "adding: 0\n",
      "\n"
     ]
    },
    {
     "data": {
      "image/png": "[encoded data removed]",
      "text/plain": [
       "<Figure size 432x288 with 1 Axes>"
      ]
     },
     "metadata": {
      "needs_background": "light"
     },
     "output_type": "display_data"
    },
    {
     "name": "stdout",
     "output_type": "stream",
     "text": [
      "Remainder: 0.010000000000000009\n",
      "lower: 4358.0\n",
      "upper: 4746.01\n",
      "total count: 4982\n",
      "adding: 0\n",
      "\n"
     ]
    },
    {
     "data": {
      "image/png": "[encoded data removed]",
      "text/plain": [
       "<Figure size 432x288 with 1 Axes>"
      ]
     },
     "metadata": {
      "needs_background": "light"
     },
     "output_type": "display_data"
    },
    {
     "name": "stdout",
     "output_type": "stream",
     "text": [
      "Remainder: 0.010000000000000009\n",
      "lower: 4458.974999999999\n",
      "upper: 4816.03\n",
      "total count: 4982\n",
      "adding: 0\n",
      "\n"
     ]
    },
    {
     "data": {
      "image/png": "[encoded data removed]",
      "text/plain": [
       "<Figure size 432x288 with 1 Axes>"
      ]
     },
     "metadata": {
      "needs_background": "light"
     },
     "output_type": "display_data"
    },
    {
     "name": "stdout",
     "output_type": "stream",
     "text": [
      "Remainder: 0.010000000000000009\n",
      "lower: 4508.955\n",
      "upper: 4878.02\n",
      "total count: 4982\n",
      "adding: 0\n",
      "\n"
     ]
    },
    {
     "data": {
      "image/png": "[encoded data removed]",
      "text/plain": [
       "<Figure size 432x288 with 1 Axes>"
      ]
     },
     "metadata": {
      "needs_background": "light"
     },
     "output_type": "display_data"
    },
    {
     "name": "stdout",
     "output_type": "stream",
     "text": [
      "Remainder: 0.010000000000000009\n",
      "lower: 4445.91\n",
      "upper: 4792.025\n",
      "total count: 4982\n",
      "adding: 0\n",
      "\n"
     ]
    },
    {
     "data": {
      "image/png": "[encoded data removed]",
      "text/plain": [
       "<Figure size 432x288 with 1 Axes>"
      ]
     },
     "metadata": {
      "needs_background": "light"
     },
     "output_type": "display_data"
    },
    {
     "name": "stdout",
     "output_type": "stream",
     "text": [
      "Remainder: 0.010000000000000009\n",
      "lower: 4490.955\n",
      "upper: 4826.005\n",
      "total count: 4982\n",
      "adding: 0\n",
      "\n"
     ]
    },
    {
     "data": {
      "image/png": "[encoded data removed]",
      "text/plain": [
       "<Figure size 432x288 with 1 Axes>"
      ]
     },
     "metadata": {
      "needs_background": "light"
     },
     "output_type": "display_data"
    },
    {
     "name": "stdout",
     "output_type": "stream",
     "text": [
      "Remainder: 0.010000000000000009\n",
      "lower: 4501.915\n",
      "upper: 4826.045\n",
      "total count: 4982\n",
      "adding: 0\n",
      "\n"
     ]
    },
    {
     "data": {
      "image/png": "[encoded data removed]",
      "text/plain": [
       "<Figure size 432x288 with 1 Axes>"
      ]
     },
     "metadata": {
      "needs_background": "light"
     },
     "output_type": "display_data"
    },
    {
     "name": "stdout",
     "output_type": "stream",
     "text": [
      "Remainder: 0.010000000000000009\n",
      "lower: 4382.865\n",
      "upper: 4708.0199999999995\n",
      "total count: 4982\n",
      "adding: 0\n",
      "\n"
     ]
    },
    {
     "data": {
      "image/png": "[encoded data removed]",
      "text/plain": [
       "<Figure size 432x288 with 1 Axes>"
      ]
     },
     "metadata": {
      "needs_background": "light"
     },
     "output_type": "display_data"
    },
    {
     "name": "stdout",
     "output_type": "stream",
     "text": [
      "Remainder: 0.010000000000000009\n",
      "lower: 4516.0\n",
      "upper: 4868.0\n",
      "total count: 4982\n",
      "adding: 0\n",
      "\n"
     ]
    },
    {
     "data": {
      "image/png": "[encoded data removed]",
      "text/plain": [
       "<Figure size 432x288 with 1 Axes>"
      ]
     },
     "metadata": {
      "needs_background": "light"
     },
     "output_type": "display_data"
    },
    {
     "name": "stdout",
     "output_type": "stream",
     "text": [
      "Remainder: 0.010000000000000009\n",
      "lower: 4338.99\n",
      "upper: 4691.004999999999\n",
      "total count: 4982\n",
      "adding: 0\n",
      "\n"
     ]
    },
    {
     "data": {
      "image/png": "[encoded data removed]",
      "text/plain": [
       "<Figure size 432x288 with 1 Axes>"
      ]
     },
     "metadata": {
      "needs_background": "light"
     },
     "output_type": "display_data"
    },
    {
     "name": "stdout",
     "output_type": "stream",
     "text": [
      "Remainder: 0.010000000000000009\n",
      "lower: 4582.0\n",
      "upper: 4928.045\n",
      "total count: 4982\n",
      "adding: 0\n",
      "\n"
     ]
    },
    {
     "data": {
      "image/png": "[encoded data removed]",
      "text/plain": [
       "<Figure size 432x288 with 1 Axes>"
      ]
     },
     "metadata": {
      "needs_background": "light"
     },
     "output_type": "display_data"
    },
    {
     "name": "stdout",
     "output_type": "stream",
     "text": [
      "Remainder: 0.010000000000000009\n",
      "lower: 4574.995\n",
      "upper: 4921.0199999999995\n",
      "total count: 4982\n",
      "adding: 0\n",
      "\n"
     ]
    },
    {
     "data": {
      "image/png": "[encoded data removed]",
      "text/plain": [
       "<Figure size 432x288 with 1 Axes>"
      ]
     },
     "metadata": {
      "needs_background": "light"
     },
     "output_type": "display_data"
    },
    {
     "name": "stdout",
     "output_type": "stream",
     "text": [
      "Remainder: 0.010000000000000009\n",
      "lower: 4535.975\n",
      "upper: 4903.005\n",
      "total count: 4982\n",
      "adding: 0\n",
      "\n"
     ]
    },
    {
     "data": {
      "image/png": "[encoded data removed]",
      "text/plain": [
       "<Figure size 432x288 with 1 Axes>"
      ]
     },
     "metadata": {
      "needs_background": "light"
     },
     "output_type": "display_data"
    },
    {
     "name": "stdout",
     "output_type": "stream",
     "text": [
      "Remainder: 0.010000000000000009\n",
      "lower: 4509.935\n",
      "upper: 4869.015\n",
      "total count: 4982\n",
      "adding: 0\n",
      "\n"
     ]
    },
    {
     "data": {
      "image/png": "[encoded data removed]",
      "text/plain": [
       "<Figure size 432x288 with 1 Axes>"
      ]
     },
     "metadata": {
      "needs_background": "light"
     },
     "output_type": "display_data"
    },
    {
     "name": "stdout",
     "output_type": "stream",
     "text": [
      "Remainder: 0.010000000000000009\n",
      "lower: 4442.945\n",
      "upper: 4792.02\n",
      "total count: 4982\n",
      "adding: 0\n",
      "\n"
     ]
    },
    {
     "data": {
      "image/png": "[encoded data removed]",
      "text/plain": [
       "<Figure size 432x288 with 1 Axes>"
      ]
     },
     "metadata": {
      "needs_background": "light"
     },
     "output_type": "display_data"
    },
    {
     "name": "stdout",
     "output_type": "stream",
     "text": [
      "Remainder: 0.010000000000000009\n",
      "lower: 4568.945\n",
      "upper: 4930.045\n",
      "total count: 4982\n",
      "adding: 0\n",
      "\n"
     ]
    },
    {
     "data": {
      "image/png": "[encoded data removed]",
      "text/plain": [
       "<Figure size 432x288 with 1 Axes>"
      ]
     },
     "metadata": {
      "needs_background": "light"
     },
     "output_type": "display_data"
    },
    {
     "name": "stdout",
     "output_type": "stream",
     "text": [
      "Remainder: 0.010000000000000009\n",
      "lower: 4510.975\n",
      "upper: 4830.08\n",
      "total count: 4982\n",
      "adding: 0\n",
      "\n"
     ]
    },
    {
     "data": {
      "image/png": "[encoded data removed]",
      "text/plain": [
       "<Figure size 432x288 with 1 Axes>"
      ]
     },
     "metadata": {
      "needs_background": "light"
     },
     "output_type": "display_data"
    },
    {
     "name": "stdout",
     "output_type": "stream",
     "text": [
      "Remainder: 0.010000000000000009\n",
      "lower: 4385.0\n",
      "upper: 4750.045\n",
      "total count: 4982\n",
      "adding: 0\n",
      "\n"
     ]
    },
    {
     "data": {
      "image/png": "[encoded data removed]",
      "text/plain": [
       "<Figure size 432x288 with 1 Axes>"
      ]
     },
     "metadata": {
      "needs_background": "light"
     },
     "output_type": "display_data"
    },
    {
     "name": "stdout",
     "output_type": "stream",
     "text": [
      "Remainder: 0.010000000000000009\n",
      "lower: 4387.99\n",
      "upper: 4729.055\n",
      "total count: 4982\n",
      "adding: 0\n",
      "\n"
     ]
    },
    {
     "data": {
      "image/png": "[encoded data removed]",
      "text/plain": [
       "<Figure size 432x288 with 1 Axes>"
      ]
     },
     "metadata": {
      "needs_background": "light"
     },
     "output_type": "display_data"
    },
    {
     "name": "stdout",
     "output_type": "stream",
     "text": [
      "Remainder: 0.010000000000000009\n",
      "lower: 4479.955\n",
      "upper: 4831.0\n",
      "total count: 4982\n",
      "adding: 0\n",
      "\n"
     ]
    },
    {
     "data": {
      "image/png": "[encoded data removed]",
      "text/plain": [
       "<Figure size 432x288 with 1 Axes>"
      ]
     },
     "metadata": {
      "needs_background": "light"
     },
     "output_type": "display_data"
    },
    {
     "name": "stdout",
     "output_type": "stream",
     "text": [
      "Remainder: 0.010000000000000009\n",
      "lower: 4488.94\n",
      "upper: 4830.01\n",
      "total count: 4982\n",
      "adding: 0\n",
      "\n"
     ]
    },
    {
     "data": {
      "image/png": "[encoded data removed]",
      "text/plain": [
       "<Figure size 432x288 with 1 Axes>"
      ]
     },
     "metadata": {
      "needs_background": "light"
     },
     "output_type": "display_data"
    },
    {
     "name": "stdout",
     "output_type": "stream",
     "text": [
      "Remainder: 0.010000000000000009\n",
      "lower: 4500.945000000001\n",
      "upper: 4878.030000000001\n",
      "total count: 4982\n",
      "adding: 0\n",
      "\n"
     ]
    },
    {
     "data": {
      "image/png": "[encoded data removed]",
      "text/plain": [
       "<Figure size 432x288 with 1 Axes>"
      ]
     },
     "metadata": {
      "needs_background": "light"
     },
     "output_type": "display_data"
    },
    {
     "name": "stdout",
     "output_type": "stream",
     "text": [
      "Remainder: 0.010000000000000009\n",
      "lower: 4579.98\n",
      "upper: 4940.025000000001\n",
      "total count: 4982\n",
      "adding: 0\n",
      "\n"
     ]
    },
    {
     "data": {
      "image/png": "[encoded data removed]",
      "text/plain": [
       "<Figure size 432x288 with 1 Axes>"
      ]
     },
     "metadata": {
      "needs_background": "light"
     },
     "output_type": "display_data"
    },
    {
     "name": "stdout",
     "output_type": "stream",
     "text": [
      "Remainder: 0.010000000000000009\n",
      "lower: 4554.98\n",
      "upper: 4914.01\n",
      "total count: 4982\n",
      "adding: 0\n",
      "\n"
     ]
    },
    {
     "data": {
      "image/png": "[encoded data removed]",
      "text/plain": [
       "<Figure size 432x288 with 1 Axes>"
      ]
     },
     "metadata": {
      "needs_background": "light"
     },
     "output_type": "display_data"
    },
    {
     "name": "stdout",
     "output_type": "stream",
     "text": [
      "Remainder: 0.010000000000000009\n",
      "lower: 4451.9349999999995\n",
      "upper: 4783.055\n",
      "total count: 4982\n",
      "adding: 0\n",
      "\n"
     ]
    },
    {
     "data": {
      "image/png": "[encoded data removed]",
      "text/plain": [
       "<Figure size 432x288 with 1 Axes>"
      ]
     },
     "metadata": {
      "needs_background": "light"
     },
     "output_type": "display_data"
    },
    {
     "name": "stdout",
     "output_type": "stream",
     "text": [
      "Remainder: 0.010000000000000009\n",
      "lower: 4433.985\n",
      "upper: 4749.045\n",
      "total count: 4982\n",
      "adding: 0\n",
      "\n"
     ]
    },
    {
     "data": {
      "image/png": "[encoded data removed]",
      "text/plain": [
       "<Figure size 432x288 with 1 Axes>"
      ]
     },
     "metadata": {
      "needs_background": "light"
     },
     "output_type": "display_data"
    },
    {
     "name": "stdout",
     "output_type": "stream",
     "text": [
      "Remainder: 0.010000000000000009\n",
      "lower: 4439.955\n",
      "upper: 4775.0\n",
      "total count: 4982\n",
      "adding: 0\n",
      "\n"
     ]
    },
    {
     "data": {
      "image/png": "[encoded data removed]",
      "text/plain": [
       "<Figure size 432x288 with 1 Axes>"
      ]
     },
     "metadata": {
      "needs_background": "light"
     },
     "output_type": "display_data"
    },
    {
     "name": "stdout",
     "output_type": "stream",
     "text": [
      "Remainder: 0.010000000000000009\n",
      "lower: 4404.995000000001\n",
      "upper: 4729.014999999999\n",
      "total count: 4982\n",
      "adding: 0\n",
      "\n"
     ]
    },
    {
     "data": {
      "image/png": "[encoded data removed]",
      "text/plain": [
       "<Figure size 432x288 with 1 Axes>"
      ]
     },
     "metadata": {
      "needs_background": "light"
     },
     "output_type": "display_data"
    },
    {
     "name": "stdout",
     "output_type": "stream",
     "text": [
      "Remainder: 0.010000000000000009\n",
      "lower: 4395.965\n",
      "upper: 4732.005\n",
      "total count: 4982\n",
      "adding: 0\n",
      "\n"
     ]
    },
    {
     "data": {
      "image/png": "[encoded data removed]",
      "text/plain": [
       "<Figure size 432x288 with 1 Axes>"
      ]
     },
     "metadata": {
      "needs_background": "light"
     },
     "output_type": "display_data"
    },
    {
     "name": "stdout",
     "output_type": "stream",
     "text": [
      "Remainder: 0.010000000000000009\n",
      "lower: 4474.99\n",
      "upper: 4825.0\n",
      "total count: 4982\n",
      "adding: 0\n",
      "\n"
     ]
    },
    {
     "data": {
      "image/png": "[encoded data removed]",
      "text/plain": [
       "<Figure size 432x288 with 1 Axes>"
      ]
     },
     "metadata": {
      "needs_background": "light"
     },
     "output_type": "display_data"
    },
    {
     "name": "stdout",
     "output_type": "stream",
     "text": [
      "Remainder: 0.010000000000000009\n",
      "lower: 4405.9400000000005\n",
      "upper: 4743.005\n",
      "total count: 4982\n",
      "adding: 0\n",
      "\n"
     ]
    },
    {
     "data": {
      "image/png": "[encoded data removed]",
      "text/plain": [
       "<Figure size 432x288 with 1 Axes>"
      ]
     },
     "metadata": {
      "needs_background": "light"
     },
     "output_type": "display_data"
    },
    {
     "name": "stdout",
     "output_type": "stream",
     "text": [
      "Remainder: 0.010000000000000009\n",
      "lower: 4649.0\n",
      "upper: 4997.0\n",
      "total count: 4982\n",
      "adding: 1\n",
      "\n"
     ]
    },
    {
     "data": {
      "image/png": "[encoded data removed]",
      "text/plain": [
       "<Figure size 432x288 with 1 Axes>"
      ]
     },
     "metadata": {
      "needs_background": "light"
     },
     "output_type": "display_data"
    },
    {
     "name": "stdout",
     "output_type": "stream",
     "text": [
      "Remainder: 0.010000000000000009\n",
      "lower: 4386.99\n",
      "upper: 4720.025\n",
      "total count: 4982\n",
      "adding: 0\n",
      "\n"
     ]
    },
    {
     "data": {
      "image/png": "[encoded data removed]",
      "text/plain": [
       "<Figure size 432x288 with 1 Axes>"
      ]
     },
     "metadata": {
      "needs_background": "light"
     },
     "output_type": "display_data"
    },
    {
     "name": "stdout",
     "output_type": "stream",
     "text": [
      "Remainder: 0.010000000000000009\n",
      "lower: 4482.99\n",
      "upper: 4826.049999999999\n",
      "total count: 4982\n",
      "adding: 0\n",
      "\n"
     ]
    },
    {
     "data": {
      "image/png": "[encoded data removed]",
      "text/plain": [
       "<Figure size 432x288 with 1 Axes>"
      ]
     },
     "metadata": {
      "needs_background": "light"
     },
     "output_type": "display_data"
    },
    {
     "name": "stdout",
     "output_type": "stream",
     "text": [
      "Remainder: 0.010000000000000009\n",
      "lower: 4516.965\n",
      "upper: 4877.005\n",
      "total count: 4982\n",
      "adding: 0\n",
      "\n"
     ]
    },
    {
     "data": {
      "image/png": "[encoded data removed]",
      "text/plain": [
       "<Figure size 432x288 with 1 Axes>"
      ]
     },
     "metadata": {
      "needs_background": "light"
     },
     "output_type": "display_data"
    },
    {
     "name": "stdout",
     "output_type": "stream",
     "text": [
      "Remainder: 0.010000000000000009\n",
      "lower: 4433.965\n",
      "upper: 4788.0\n",
      "total count: 4982\n",
      "adding: 0\n",
      "\n"
     ]
    },
    {
     "data": {
      "image/png": "[encoded data removed]",
      "text/plain": [
       "<Figure size 432x288 with 1 Axes>"
      ]
     },
     "metadata": {
      "needs_background": "light"
     },
     "output_type": "display_data"
    },
    {
     "name": "stdout",
     "output_type": "stream",
     "text": [
      "Remainder: 0.010000000000000009\n",
      "lower: 4497.0\n",
      "upper: 4865.014999999999\n",
      "total count: 4982\n",
      "adding: 0\n",
      "\n"
     ]
    },
    {
     "data": {
      "image/png": "[encoded data removed]",
      "text/plain": [
       "<Figure size 432x288 with 1 Axes>"
      ]
     },
     "metadata": {
      "needs_background": "light"
     },
     "output_type": "display_data"
    },
    {
     "name": "stdout",
     "output_type": "stream",
     "text": [
      "Remainder: 0.010000000000000009\n",
      "lower: 4546.985\n",
      "upper: 4885.005\n",
      "total count: 4982\n",
      "adding: 0\n",
      "\n"
     ]
    },
    {
     "data": {
      "image/png": "[encoded data removed]",
      "text/plain": [
       "<Figure size 432x288 with 1 Axes>"
      ]
     },
     "metadata": {
      "needs_background": "light"
     },
     "output_type": "display_data"
    }
   ],
   "source": [
    "coverage = percentage_coverage(model, x_lockdown[:,0][:,np.newaxis], y_lockdown, num_pertubations=1000, num_samples=100, quantile=0.99, debug=True)\n"
   ]
  },
  {
   "cell_type": "code",
   "execution_count": null,
   "metadata": {},
   "outputs": [],
   "source": []
  }
 ],
 "metadata": {
  "file_extension": ".py",
  "kernelspec": {
   "display_name": "cleanair",
   "language": "python",
   "name": "cleanair"
  },
  "language_info": {
   "codemirror_mode": {
    "name": "ipython",
    "version": 3
   },
   "file_extension": ".py",
   "mimetype": "text/x-python",
   "name": "python",
   "nbconvert_exporter": "python",
   "pygments_lexer": "ipython3",
   "version": "3.7.6"
  },
  "mimetype": "text/x-python",
  "name": "python",
  "npconvert_exporter": "python",
  "pygments_lexer": "ipython3",
  "version": 3
 },
 "nbformat": 4,
 "nbformat_minor": 4
}
