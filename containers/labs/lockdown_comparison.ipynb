{
 "nbformat": 4,
 "nbformat_minor": 2,
 "metadata": {
  "language_info": {
   "name": "python",
   "codemirror_mode": {
    "name": "ipython",
    "version": 3
   },
   "version": "3.7.6-final"
  },
  "orig_nbformat": 2,
  "file_extension": ".py",
  "mimetype": "text/x-python",
  "name": "python",
  "npconvert_exporter": "python",
  "pygments_lexer": "ipython3",
  "version": 3,
  "kernelspec": {
   "name": "cleanair",
   "display_name": "cleanair"
  }
 },
 "cells": [
  {
   "cell_type": "markdown",
   "metadata": {},
   "source": [
    "# Compare normal period to lockdown\n",
    "\n",
    "Take a model trained on a day (e.g. Monday) in the normal period then plot a day from the lockdown period and compute the percentage coverage."
   ]
  },
  {
   "cell_type": "code",
   "execution_count": 16,
   "metadata": {},
   "outputs": [],
   "source": [
    "import os\n",
    "import json\n",
    "from datetime import datetime\n",
    "import pandas as pd\n",
    "import numpy as np\n",
    "import tensorflow as tf\n",
    "\n",
    "# plotly\n",
    "import plotly.graph_objects as go\n",
    "import plotly.express as px\n",
    "from plotly.subplots import make_subplots\n",
    "\n",
    "# scoot functions\n",
    "from cleanair.scoot import (\n",
    "    generate_fp,\n",
    "    load_model_from_file,\n",
    "    load_processed_data_from_file,\n",
    "    load_scoot_df,\n",
    "    plotly_results,\n",
    "    percentage_coverage,\n",
    "    sample_intensity,\n",
    "    sample_n\n",
    ")"
   ]
  },
  {
   "cell_type": "code",
   "execution_count": 17,
   "metadata": {},
   "outputs": [],
   "source": [
    "# setup global params\n",
    "experiment = \"daily\"\n",
    "\n",
    "user_settings_fp = os.path.join(\"..\", \"..\", \"terraform\", \".secrets\", \"user_settings.json\")\n",
    "with open(user_settings_fp) as json_file:\n",
    "    user_settings = json.load(json_file)\n",
    "root = user_settings[\"root\"]\n",
    "\n",
    "# get the settings for kernels and scoot data\n",
    "with open(os.path.join(root, experiment, \"settings\", \"kernel_settings.json\")) as kernel_file:\n",
    "    kernel_settings = json.load(kernel_file)\n",
    "with open(os.path.join(root, experiment, \"settings\", \"data_settings.json\")) as scoot_file:\n",
    "    data_settings = json.load(scoot_file)"
   ]
  },
  {
   "cell_type": "code",
   "execution_count": 29,
   "metadata": {},
   "outputs": [],
   "source": [
    "def daily_normal_vs_lockdown(\n",
    "    normal_df,\n",
    "    lockdown_df,\n",
    "    detector_id,\n",
    "    model,\n",
    "    test_inputs,\n",
    "    num_sigmas: int = 2,\n",
    "    num_samples: int = 100\n",
    "):\n",
    "    # assume normal and lockdown dfs have same number of time elements\n",
    "    hours = pd.date_range(\n",
    "        normal_df.measurement_start_utc.min(),\n",
    "        normal_df.measurement_start_utc.max(),\n",
    "        freq=\"H\"\n",
    "    )\n",
    "    hours = hours.time\n",
    "    \n",
    "    # If test inputs is not a tensorflow object, convert it to one\n",
    "    if isinstance(test_inputs, np.ndarray):\n",
    "       test_inputs = tf.convert_to_tensor(test_inputs[:,0][:,np.newaxis])\n",
    "    \n",
    "    # Compute posterior mean and variance of count distribution\n",
    "    count_mean_N, count_var_N = sample_n(model, test_inputs, num_samples)\n",
    "    # Compute posterior mean and variance of intensity distribution\n",
    "    intensity_mean_N,intensity_var_N = sample_intensity(model,test_inputs,num_samples)\n",
    "    \n",
    "    # Plot\n",
    "    fig = go.Figure()\n",
    "    \n",
    "    count_upper_2sigma = go.Scatter(\n",
    "                        name=r'$Counts \\mu+2\\sigma$',\n",
    "                        x=hours, \n",
    "                        y=count_mean_N[:,0] + num_sigmas*np.sqrt(count_var_N)[:,0],\n",
    "                        mode='lines',\n",
    "                        marker=dict(color=\"#444\"),\n",
    "                        line=dict(width=0),\n",
    "                        fillcolor='rgba(255,0,0,0.3)',\n",
    "                        fill='tonexty',\n",
    "                        showlegend = False\n",
    "                    )\n",
    "\n",
    "    count_mean_predictions = go.Scatter(\n",
    "                            x=hours, \n",
    "                            y=count_mean_N[:,0],\n",
    "                            mode='lines',\n",
    "                            name='Count distribution (+/- 1std)',\n",
    "                            fill='tonexty',\n",
    "                            fillcolor='rgba(255,0,0,0.3)',\n",
    "                            line=dict(color='rgb(255, 0, 0)')\n",
    "                        )\n",
    "\n",
    "    count_lower_2sigma = go.Scatter(\n",
    "                        name=r'$Counts \\mu-2\\sigma$',\n",
    "                        x=hours, \n",
    "                        y=count_mean_N[:,0] - num_sigmas*np.sqrt(count_var_N)[:,0],\n",
    "                        marker=dict(color=\"#444\"),\n",
    "                        mode='lines',\n",
    "                        line=dict(width=0),\n",
    "                        showlegend = False\n",
    "                    )\n",
    "    \n",
    "    intensity_upper_2sigma = go.Scatter(\n",
    "                        name=r'Intensity $\\mu+2\\sigma$',\n",
    "                        x=hours, \n",
    "                        y=intensity_mean_N[:,0] + num_sigmas*np.sqrt(intensity_var_N)[:,0],\n",
    "                        mode='lines',\n",
    "                        marker=dict(color=\"#444\"),\n",
    "                        line=dict(width=0),\n",
    "                        fillcolor='rgba(0,255,0,0.3)',\n",
    "                        fill='tonexty',\n",
    "                        showlegend = False\n",
    "                    )\n",
    "\n",
    "    intensity_mean_predictions = go.Scatter(\n",
    "                            x=hours, \n",
    "                            y=intensity_mean_N[:,0],\n",
    "                            mode='lines',\n",
    "                            name='Intensity Estimate (+/- 1std)',\n",
    "                            fill='tonexty',\n",
    "                            fillcolor='rgba(0,255,0,0.3)',\n",
    "                            line=dict(color='rgb(0, 255, 0)')\n",
    "                        )\n",
    "\n",
    "    intensity_lower_2sigma = go.Scatter(\n",
    "                        name=r'$Intensity \\mu-2\\sigma$',\n",
    "                        x=hours, \n",
    "                        y=intensity_mean_N[:,0] - num_sigmas*np.sqrt(intensity_var_N)[:,0],\n",
    "                        marker=dict(color=\"#444\"),\n",
    "                        mode='lines',\n",
    "                        line=dict(width=0),\n",
    "                        showlegend = False\n",
    "                    )\n",
    "\n",
    "    def format_datetime(timestamp, format=\"%d %b\"):\n",
    "        return datetime.strptime(timestamp, \"%Y-%m-%d %H:%M:%S\").strftime(format)\n",
    "    \n",
    "    actual = go.Scatter(\n",
    "                x=hours, \n",
    "                y=normal_df['n_vehicles_in_interval'],\n",
    "                mode='markers',\n",
    "                name=\"Normal \" + format_datetime(normal_df.measurement_start_utc.min()),\n",
    "                line=dict(color='#1f77b4')\n",
    "    )\n",
    "\n",
    "    lockdown = go.Scatter(\n",
    "        x=hours,\n",
    "        y=lockdown_df['n_vehicles_in_interval'],\n",
    "        mode='markers',\n",
    "        name='Lockdown ' + format_datetime(lockdown_df.measurement_start_utc.min()),\n",
    "        line=dict(color='purple')\n",
    "    )\n",
    "    \n",
    "    data = [count_lower_2sigma, count_mean_predictions, count_upper_2sigma,\n",
    "            intensity_lower_2sigma, intensity_mean_predictions, intensity_upper_2sigma,\n",
    "            lockdown, actual]\n",
    "    \n",
    "    layout = go.Layout(\n",
    "                        title='Timeseries of sensor {id}'.format(id=detector_id),\n",
    "                        xaxis_title=\"Hour of day\",\n",
    "                        yaxis_title=\"# of vechicles per hour\",\n",
    "                        font=dict(size=16)\n",
    "            )\n",
    "\n",
    "    return data"
   ]
  },
  {
   "cell_type": "code",
   "execution_count": 48,
   "metadata": {},
   "outputs": [
    {
     "output_type": "display_data",
     "data": {
      "application/vnd.plotly.v1+json": {
       "config": {
        "plotlyServerURL": "https://plot.ly"
       },
       "data": [
        {
         "line": {
          "width": 0
         },
         "marker": {
          "color": "#444"
         },
         "mode": "lines",
         "name": "$Counts \\mu-2\\sigma$",
         "showlegend": false,
         "type": "scatter",
         "x": [
          "00:00:00",
          "01:00:00",
          "02:00:00",
          "03:00:00",
          "04:00:00",
          "05:00:00",
          "06:00:00",
          "07:00:00",
          "08:00:00",
          "09:00:00",
          "10:00:00",
          "11:00:00",
          "12:00:00",
          "13:00:00",
          "14:00:00",
          "15:00:00",
          "16:00:00",
          "17:00:00",
          "18:00:00",
          "19:00:00",
          "20:00:00",
          "21:00:00",
          "22:00:00",
          "23:00:00"
         ],
         "y": [
          58.43578901854382,
          52.61744056164618,
          47.11112743317951,
          48.653215043696726,
          57.467102647057615,
          81.03962003076006,
          113.74932266789162,
          147.00087070624136,
          166.9902387818569,
          166.8304376021752,
          165.35431280325366,
          175.9454046437523,
          199.15466562016158,
          218.1657952967278,
          232.81737791182576,
          234.28514875104858,
          227.6642980984402,
          214.09554437452732,
          195.16396936938256,
          192.75337218589885,
          188.49802835789188,
          189.5245035882878,
          218.92743471667185,
          251.14839424217274
         ]
        },
        {
         "fill": "tonexty",
         "fillcolor": "rgba(255,0,0,0.3)",
         "line": {
          "color": "rgb(255, 0, 0)"
         },
         "mode": "lines",
         "name": "Count distribution (+/- 1std)",
         "type": "scatter",
         "x": [
          "00:00:00",
          "01:00:00",
          "02:00:00",
          "03:00:00",
          "04:00:00",
          "05:00:00",
          "06:00:00",
          "07:00:00",
          "08:00:00",
          "09:00:00",
          "10:00:00",
          "11:00:00",
          "12:00:00",
          "13:00:00",
          "14:00:00",
          "15:00:00",
          "16:00:00",
          "17:00:00",
          "18:00:00",
          "19:00:00",
          "20:00:00",
          "21:00:00",
          "22:00:00",
          "23:00:00"
         ],
         "y": [
          81.746,
          72.838,
          66.482,
          67.719,
          78.549,
          104.193,
          143.185,
          180.769,
          201.708,
          202.022,
          200.552,
          213.54,
          236.687,
          258.644,
          272.722,
          275.831,
          267.713,
          252.341,
          230.684,
          228.93,
          224.89,
          226.067,
          258.706,
          297.593
         ]
        },
        {
         "fill": "tonexty",
         "fillcolor": "rgba(255,0,0,0.3)",
         "line": {
          "width": 0
         },
         "marker": {
          "color": "#444"
         },
         "mode": "lines",
         "name": "$Counts \\mu+2\\sigma$",
         "showlegend": false,
         "type": "scatter",
         "x": [
          "00:00:00",
          "01:00:00",
          "02:00:00",
          "03:00:00",
          "04:00:00",
          "05:00:00",
          "06:00:00",
          "07:00:00",
          "08:00:00",
          "09:00:00",
          "10:00:00",
          "11:00:00",
          "12:00:00",
          "13:00:00",
          "14:00:00",
          "15:00:00",
          "16:00:00",
          "17:00:00",
          "18:00:00",
          "19:00:00",
          "20:00:00",
          "21:00:00",
          "22:00:00",
          "23:00:00"
         ],
         "y": [
          105.05621098145616,
          93.05855943835381,
          85.85287256682048,
          86.78478495630327,
          99.6308973529424,
          127.34637996923993,
          172.6206773321084,
          214.53712929375865,
          236.4257612181431,
          237.21356239782477,
          235.74968719674632,
          251.13459535624767,
          274.2193343798384,
          299.12220470327225,
          312.6266220881742,
          317.3768512489515,
          307.76170190155983,
          290.5864556254727,
          266.20403063061747,
          265.10662781410116,
          261.2819716421081,
          262.6094964117122,
          298.48456528332815,
          344.0376057578273
         ]
        },
        {
         "line": {
          "width": 0
         },
         "marker": {
          "color": "#444"
         },
         "mode": "lines",
         "name": "$Intensity \\mu-2\\sigma$",
         "showlegend": false,
         "type": "scatter",
         "x": [
          "00:00:00",
          "01:00:00",
          "02:00:00",
          "03:00:00",
          "04:00:00",
          "05:00:00",
          "06:00:00",
          "07:00:00",
          "08:00:00",
          "09:00:00",
          "10:00:00",
          "11:00:00",
          "12:00:00",
          "13:00:00",
          "14:00:00",
          "15:00:00",
          "16:00:00",
          "17:00:00",
          "18:00:00",
          "19:00:00",
          "20:00:00",
          "21:00:00",
          "22:00:00",
          "23:00:00"
         ],
         "y": [
          66.98382731910141,
          62.31012274006625,
          57.55799154158422,
          58.3885534912544,
          67.96839562244696,
          90.81721419356106,
          126.87613574511555,
          161.58924106747074,
          182.37825147018034,
          180.05271093703607,
          181.558692737404,
          190.00941322276623,
          215.29475775170255,
          231.2269086579197,
          247.80949357682243,
          248.6522241447445,
          242.86633220978757,
          230.41699341466557,
          209.9678315083176,
          208.36479118722133,
          202.2862396183045,
          205.4149634143946,
          236.08939789595215,
          265.8620776944656
         ]
        },
        {
         "fill": "tonexty",
         "fillcolor": "rgba(0,255,0,0.3)",
         "line": {
          "color": "rgb(0, 255, 0)"
         },
         "mode": "lines",
         "name": "Intensity Estimate (+/- 1std)",
         "type": "scatter",
         "x": [
          "00:00:00",
          "01:00:00",
          "02:00:00",
          "03:00:00",
          "04:00:00",
          "05:00:00",
          "06:00:00",
          "07:00:00",
          "08:00:00",
          "09:00:00",
          "10:00:00",
          "11:00:00",
          "12:00:00",
          "13:00:00",
          "14:00:00",
          "15:00:00",
          "16:00:00",
          "17:00:00",
          "18:00:00",
          "19:00:00",
          "20:00:00",
          "21:00:00",
          "22:00:00",
          "23:00:00"
         ],
         "y": [
          82.95841334456547,
          73.5280094369926,
          66.96024481431162,
          68.17126038272819,
          78.91405762152029,
          103.45292374031952,
          142.86696406255984,
          180.97285477537838,
          201.1960454068244,
          202.2624727245977,
          200.7650981486177,
          213.16944065269502,
          235.71406336943997,
          257.2292125415509,
          270.76880126111786,
          273.38838892776806,
          267.7963397127133,
          251.91570137045008,
          230.537829776033,
          229.03565324226736,
          224.29348357367124,
          225.62420402588302,
          259.5522657511553,
          297.75786573143
         ]
        },
        {
         "fill": "tonexty",
         "fillcolor": "rgba(0,255,0,0.3)",
         "line": {
          "width": 0
         },
         "marker": {
          "color": "#444"
         },
         "mode": "lines",
         "name": "Intensity $\\mu+2\\sigma$",
         "showlegend": false,
         "type": "scatter",
         "x": [
          "00:00:00",
          "01:00:00",
          "02:00:00",
          "03:00:00",
          "04:00:00",
          "05:00:00",
          "06:00:00",
          "07:00:00",
          "08:00:00",
          "09:00:00",
          "10:00:00",
          "11:00:00",
          "12:00:00",
          "13:00:00",
          "14:00:00",
          "15:00:00",
          "16:00:00",
          "17:00:00",
          "18:00:00",
          "19:00:00",
          "20:00:00",
          "21:00:00",
          "22:00:00",
          "23:00:00"
         ],
         "y": [
          98.93299937002953,
          84.74589613391896,
          76.36249808703903,
          77.95396727420199,
          89.85971962059361,
          116.08863328707798,
          158.85779238000416,
          200.35646848328602,
          220.01383934346845,
          224.47223451215933,
          219.97150355983143,
          236.3294680826238,
          256.1333689871774,
          283.2315164251821,
          293.7281089454133,
          298.1245537107916,
          292.726347215639,
          273.4144093262346,
          251.10782804374838,
          249.7065152973134,
          246.30072752903797,
          245.83344463737143,
          283.01513360635846,
          329.6536537683944
         ]
        },
        {
         "line": {
          "color": "purple"
         },
         "mode": "markers",
         "name": "Lockdown 30 Mar",
         "type": "scatter",
         "x": [
          "00:00:00",
          "01:00:00",
          "02:00:00",
          "03:00:00",
          "04:00:00",
          "05:00:00",
          "06:00:00",
          "07:00:00",
          "08:00:00",
          "09:00:00",
          "10:00:00",
          "11:00:00",
          "12:00:00",
          "13:00:00",
          "14:00:00",
          "15:00:00",
          "16:00:00",
          "17:00:00",
          "18:00:00",
          "19:00:00",
          "20:00:00",
          "21:00:00",
          "22:00:00",
          "23:00:00"
         ],
         "y": [
          32,
          36,
          33,
          42,
          43,
          94,
          121,
          89,
          86,
          94,
          85,
          92,
          101,
          99,
          80,
          124,
          104,
          109,
          86,
          70,
          46,
          49,
          43,
          48
         ]
        },
        {
         "line": {
          "color": "#1f77b4"
         },
         "mode": "markers",
         "name": "Normal 10 Feb",
         "type": "scatter",
         "x": [
          "00:00:00",
          "01:00:00",
          "02:00:00",
          "03:00:00",
          "04:00:00",
          "05:00:00",
          "06:00:00",
          "07:00:00",
          "08:00:00",
          "09:00:00",
          "10:00:00",
          "11:00:00",
          "12:00:00",
          "13:00:00",
          "14:00:00",
          "15:00:00",
          "16:00:00",
          "17:00:00",
          "18:00:00",
          "19:00:00",
          "20:00:00",
          "21:00:00",
          "22:00:00",
          "23:00:00"
         ],
         "y": [
          88,
          75,
          61,
          67,
          74,
          97,
          153,
          185,
          207,
          202,
          192,
          210,
          244,
          252,
          275,
          278,
          260,
          274,
          199,
          247,
          236,
          195,
          274,
          300
         ]
        }
       ],
       "layout": {
        "template": {
         "data": {
          "bar": [
           {
            "error_x": {
             "color": "#2a3f5f"
            },
            "error_y": {
             "color": "#2a3f5f"
            },
            "marker": {
             "line": {
              "color": "#E5ECF6",
              "width": 0.5
             }
            },
            "type": "bar"
           }
          ],
          "barpolar": [
           {
            "marker": {
             "line": {
              "color": "#E5ECF6",
              "width": 0.5
             }
            },
            "type": "barpolar"
           }
          ],
          "carpet": [
           {
            "aaxis": {
             "endlinecolor": "#2a3f5f",
             "gridcolor": "white",
             "linecolor": "white",
             "minorgridcolor": "white",
             "startlinecolor": "#2a3f5f"
            },
            "baxis": {
             "endlinecolor": "#2a3f5f",
             "gridcolor": "white",
             "linecolor": "white",
             "minorgridcolor": "white",
             "startlinecolor": "#2a3f5f"
            },
            "type": "carpet"
           }
          ],
          "choropleth": [
           {
            "colorbar": {
             "outlinewidth": 0,
             "ticks": ""
            },
            "type": "choropleth"
           }
          ],
          "contour": [
           {
            "colorbar": {
             "outlinewidth": 0,
             "ticks": ""
            },
            "colorscale": [
             [
              0,
              "#0d0887"
             ],
             [
              0.1111111111111111,
              "#46039f"
             ],
             [
              0.2222222222222222,
              "#7201a8"
             ],
             [
              0.3333333333333333,
              "#9c179e"
             ],
             [
              0.4444444444444444,
              "#bd3786"
             ],
             [
              0.5555555555555556,
              "#d8576b"
             ],
             [
              0.6666666666666666,
              "#ed7953"
             ],
             [
              0.7777777777777778,
              "#fb9f3a"
             ],
             [
              0.8888888888888888,
              "#fdca26"
             ],
             [
              1,
              "#f0f921"
             ]
            ],
            "type": "contour"
           }
          ],
          "contourcarpet": [
           {
            "colorbar": {
             "outlinewidth": 0,
             "ticks": ""
            },
            "type": "contourcarpet"
           }
          ],
          "heatmap": [
           {
            "colorbar": {
             "outlinewidth": 0,
             "ticks": ""
            },
            "colorscale": [
             [
              0,
              "#0d0887"
             ],
             [
              0.1111111111111111,
              "#46039f"
             ],
             [
              0.2222222222222222,
              "#7201a8"
             ],
             [
              0.3333333333333333,
              "#9c179e"
             ],
             [
              0.4444444444444444,
              "#bd3786"
             ],
             [
              0.5555555555555556,
              "#d8576b"
             ],
             [
              0.6666666666666666,
              "#ed7953"
             ],
             [
              0.7777777777777778,
              "#fb9f3a"
             ],
             [
              0.8888888888888888,
              "#fdca26"
             ],
             [
              1,
              "#f0f921"
             ]
            ],
            "type": "heatmap"
           }
          ],
          "heatmapgl": [
           {
            "colorbar": {
             "outlinewidth": 0,
             "ticks": ""
            },
            "colorscale": [
             [
              0,
              "#0d0887"
             ],
             [
              0.1111111111111111,
              "#46039f"
             ],
             [
              0.2222222222222222,
              "#7201a8"
             ],
             [
              0.3333333333333333,
              "#9c179e"
             ],
             [
              0.4444444444444444,
              "#bd3786"
             ],
             [
              0.5555555555555556,
              "#d8576b"
             ],
             [
              0.6666666666666666,
              "#ed7953"
             ],
             [
              0.7777777777777778,
              "#fb9f3a"
             ],
             [
              0.8888888888888888,
              "#fdca26"
             ],
             [
              1,
              "#f0f921"
             ]
            ],
            "type": "heatmapgl"
           }
          ],
          "histogram": [
           {
            "marker": {
             "colorbar": {
              "outlinewidth": 0,
              "ticks": ""
             }
            },
            "type": "histogram"
           }
          ],
          "histogram2d": [
           {
            "colorbar": {
             "outlinewidth": 0,
             "ticks": ""
            },
            "colorscale": [
             [
              0,
              "#0d0887"
             ],
             [
              0.1111111111111111,
              "#46039f"
             ],
             [
              0.2222222222222222,
              "#7201a8"
             ],
             [
              0.3333333333333333,
              "#9c179e"
             ],
             [
              0.4444444444444444,
              "#bd3786"
             ],
             [
              0.5555555555555556,
              "#d8576b"
             ],
             [
              0.6666666666666666,
              "#ed7953"
             ],
             [
              0.7777777777777778,
              "#fb9f3a"
             ],
             [
              0.8888888888888888,
              "#fdca26"
             ],
             [
              1,
              "#f0f921"
             ]
            ],
            "type": "histogram2d"
           }
          ],
          "histogram2dcontour": [
           {
            "colorbar": {
             "outlinewidth": 0,
             "ticks": ""
            },
            "colorscale": [
             [
              0,
              "#0d0887"
             ],
             [
              0.1111111111111111,
              "#46039f"
             ],
             [
              0.2222222222222222,
              "#7201a8"
             ],
             [
              0.3333333333333333,
              "#9c179e"
             ],
             [
              0.4444444444444444,
              "#bd3786"
             ],
             [
              0.5555555555555556,
              "#d8576b"
             ],
             [
              0.6666666666666666,
              "#ed7953"
             ],
             [
              0.7777777777777778,
              "#fb9f3a"
             ],
             [
              0.8888888888888888,
              "#fdca26"
             ],
             [
              1,
              "#f0f921"
             ]
            ],
            "type": "histogram2dcontour"
           }
          ],
          "mesh3d": [
           {
            "colorbar": {
             "outlinewidth": 0,
             "ticks": ""
            },
            "type": "mesh3d"
           }
          ],
          "parcoords": [
           {
            "line": {
             "colorbar": {
              "outlinewidth": 0,
              "ticks": ""
             }
            },
            "type": "parcoords"
           }
          ],
          "pie": [
           {
            "automargin": true,
            "type": "pie"
           }
          ],
          "scatter": [
           {
            "marker": {
             "colorbar": {
              "outlinewidth": 0,
              "ticks": ""
             }
            },
            "type": "scatter"
           }
          ],
          "scatter3d": [
           {
            "line": {
             "colorbar": {
              "outlinewidth": 0,
              "ticks": ""
             }
            },
            "marker": {
             "colorbar": {
              "outlinewidth": 0,
              "ticks": ""
             }
            },
            "type": "scatter3d"
           }
          ],
          "scattercarpet": [
           {
            "marker": {
             "colorbar": {
              "outlinewidth": 0,
              "ticks": ""
             }
            },
            "type": "scattercarpet"
           }
          ],
          "scattergeo": [
           {
            "marker": {
             "colorbar": {
              "outlinewidth": 0,
              "ticks": ""
             }
            },
            "type": "scattergeo"
           }
          ],
          "scattergl": [
           {
            "marker": {
             "colorbar": {
              "outlinewidth": 0,
              "ticks": ""
             }
            },
            "type": "scattergl"
           }
          ],
          "scattermapbox": [
           {
            "marker": {
             "colorbar": {
              "outlinewidth": 0,
              "ticks": ""
             }
            },
            "type": "scattermapbox"
           }
          ],
          "scatterpolar": [
           {
            "marker": {
             "colorbar": {
              "outlinewidth": 0,
              "ticks": ""
             }
            },
            "type": "scatterpolar"
           }
          ],
          "scatterpolargl": [
           {
            "marker": {
             "colorbar": {
              "outlinewidth": 0,
              "ticks": ""
             }
            },
            "type": "scatterpolargl"
           }
          ],
          "scatterternary": [
           {
            "marker": {
             "colorbar": {
              "outlinewidth": 0,
              "ticks": ""
             }
            },
            "type": "scatterternary"
           }
          ],
          "surface": [
           {
            "colorbar": {
             "outlinewidth": 0,
             "ticks": ""
            },
            "colorscale": [
             [
              0,
              "#0d0887"
             ],
             [
              0.1111111111111111,
              "#46039f"
             ],
             [
              0.2222222222222222,
              "#7201a8"
             ],
             [
              0.3333333333333333,
              "#9c179e"
             ],
             [
              0.4444444444444444,
              "#bd3786"
             ],
             [
              0.5555555555555556,
              "#d8576b"
             ],
             [
              0.6666666666666666,
              "#ed7953"
             ],
             [
              0.7777777777777778,
              "#fb9f3a"
             ],
             [
              0.8888888888888888,
              "#fdca26"
             ],
             [
              1,
              "#f0f921"
             ]
            ],
            "type": "surface"
           }
          ],
          "table": [
           {
            "cells": {
             "fill": {
              "color": "#EBF0F8"
             },
             "line": {
              "color": "white"
             }
            },
            "header": {
             "fill": {
              "color": "#C8D4E3"
             },
             "line": {
              "color": "white"
             }
            },
            "type": "table"
           }
          ]
         },
         "layout": {
          "annotationdefaults": {
           "arrowcolor": "#2a3f5f",
           "arrowhead": 0,
           "arrowwidth": 1
          },
          "coloraxis": {
           "colorbar": {
            "outlinewidth": 0,
            "ticks": ""
           }
          },
          "colorscale": {
           "diverging": [
            [
             0,
             "#8e0152"
            ],
            [
             0.1,
             "#c51b7d"
            ],
            [
             0.2,
             "#de77ae"
            ],
            [
             0.3,
             "#f1b6da"
            ],
            [
             0.4,
             "#fde0ef"
            ],
            [
             0.5,
             "#f7f7f7"
            ],
            [
             0.6,
             "#e6f5d0"
            ],
            [
             0.7,
             "#b8e186"
            ],
            [
             0.8,
             "#7fbc41"
            ],
            [
             0.9,
             "#4d9221"
            ],
            [
             1,
             "#276419"
            ]
           ],
           "sequential": [
            [
             0,
             "#0d0887"
            ],
            [
             0.1111111111111111,
             "#46039f"
            ],
            [
             0.2222222222222222,
             "#7201a8"
            ],
            [
             0.3333333333333333,
             "#9c179e"
            ],
            [
             0.4444444444444444,
             "#bd3786"
            ],
            [
             0.5555555555555556,
             "#d8576b"
            ],
            [
             0.6666666666666666,
             "#ed7953"
            ],
            [
             0.7777777777777778,
             "#fb9f3a"
            ],
            [
             0.8888888888888888,
             "#fdca26"
            ],
            [
             1,
             "#f0f921"
            ]
           ],
           "sequentialminus": [
            [
             0,
             "#0d0887"
            ],
            [
             0.1111111111111111,
             "#46039f"
            ],
            [
             0.2222222222222222,
             "#7201a8"
            ],
            [
             0.3333333333333333,
             "#9c179e"
            ],
            [
             0.4444444444444444,
             "#bd3786"
            ],
            [
             0.5555555555555556,
             "#d8576b"
            ],
            [
             0.6666666666666666,
             "#ed7953"
            ],
            [
             0.7777777777777778,
             "#fb9f3a"
            ],
            [
             0.8888888888888888,
             "#fdca26"
            ],
            [
             1,
             "#f0f921"
            ]
           ]
          },
          "colorway": [
           "#636efa",
           "#EF553B",
           "#00cc96",
           "#ab63fa",
           "#FFA15A",
           "#19d3f3",
           "#FF6692",
           "#B6E880",
           "#FF97FF",
           "#FECB52"
          ],
          "font": {
           "color": "#2a3f5f"
          },
          "geo": {
           "bgcolor": "white",
           "lakecolor": "white",
           "landcolor": "#E5ECF6",
           "showlakes": true,
           "showland": true,
           "subunitcolor": "white"
          },
          "hoverlabel": {
           "align": "left"
          },
          "hovermode": "closest",
          "mapbox": {
           "style": "light"
          },
          "paper_bgcolor": "white",
          "plot_bgcolor": "#E5ECF6",
          "polar": {
           "angularaxis": {
            "gridcolor": "white",
            "linecolor": "white",
            "ticks": ""
           },
           "bgcolor": "#E5ECF6",
           "radialaxis": {
            "gridcolor": "white",
            "linecolor": "white",
            "ticks": ""
           }
          },
          "scene": {
           "xaxis": {
            "backgroundcolor": "#E5ECF6",
            "gridcolor": "white",
            "gridwidth": 2,
            "linecolor": "white",
            "showbackground": true,
            "ticks": "",
            "zerolinecolor": "white"
           },
           "yaxis": {
            "backgroundcolor": "#E5ECF6",
            "gridcolor": "white",
            "gridwidth": 2,
            "linecolor": "white",
            "showbackground": true,
            "ticks": "",
            "zerolinecolor": "white"
           },
           "zaxis": {
            "backgroundcolor": "#E5ECF6",
            "gridcolor": "white",
            "gridwidth": 2,
            "linecolor": "white",
            "showbackground": true,
            "ticks": "",
            "zerolinecolor": "white"
           }
          },
          "shapedefaults": {
           "line": {
            "color": "#2a3f5f"
           }
          },
          "ternary": {
           "aaxis": {
            "gridcolor": "white",
            "linecolor": "white",
            "ticks": ""
           },
           "baxis": {
            "gridcolor": "white",
            "linecolor": "white",
            "ticks": ""
           },
           "bgcolor": "#E5ECF6",
           "caxis": {
            "gridcolor": "white",
            "linecolor": "white",
            "ticks": ""
           }
          },
          "title": {
           "x": 0.05
          },
          "xaxis": {
           "automargin": true,
           "gridcolor": "white",
           "linecolor": "white",
           "ticks": "",
           "title": {
            "standoff": 15
           },
           "zerolinecolor": "white",
           "zerolinewidth": 2
          },
          "yaxis": {
           "automargin": true,
           "gridcolor": "white",
           "linecolor": "white",
           "ticks": "",
           "title": {
            "standoff": 15
           },
           "zerolinecolor": "white",
           "zerolinewidth": 2
          }
         }
        },
        "title": {
         "text": "Monday N00/002e1. Coverage=0.0%"
        },
        "xaxis": {
         "dtick": 6,
         "tick0": 3
        }
       }
      }
     },
     "metadata": {}
    }
   ],
   "source": [
    "# lets look at just one day, one kernel, one detector\n",
    "normal_index = 0\n",
    "lockdown_index = 14\n",
    "detector_index = 0\n",
    "kernel_id = \"matern32_ls=0.1_v=0.1\"\n",
    "\n",
    "# get data config from data settings\n",
    "normal_start = data_settings[normal_index][\"normal_start\"]\n",
    "lockdown_start = data_settings[lockdown_index][\"lockdown_start\"]\n",
    "detector_id = data_settings[normal_index][\"detectors\"][detector_index]\n",
    "\n",
    "# load data for this day\n",
    "normal_df = load_scoot_df(\n",
    "    root=root,\n",
    "    experiment=experiment,\n",
    "    timestamp=normal_start,\n",
    "    filename=\"scoot\"\n",
    ")\n",
    "lockdown_df = load_scoot_df(\n",
    "    root=root,\n",
    "    experiment=experiment,\n",
    "    timestamp=lockdown_start,\n",
    "    filename=\"scoot\"\n",
    ")\n",
    "normal_detector_df = normal_df.loc[normal_df.detector_id == detector_id]\n",
    "lockdown_detector_df = lockdown_df.loc[lockdown_df.detector_id == detector_id]\n",
    "\n",
    "# get the raw data for the given detector\n",
    "x_normal, y_normal = load_processed_data_from_file(\n",
    "    root=root,\n",
    "    experiment=experiment,\n",
    "    timestamp=normal_start,\n",
    "    kernel_id=kernel_id,\n",
    "    detector_id=detector_id\n",
    ")\n",
    "x_lockdown, y_lockdown = load_processed_data_from_file(\n",
    "    root=root,\n",
    "    experiment=experiment,\n",
    "    timestamp=lockdown_start,\n",
    "    kernel_id=kernel_id,\n",
    "    detector_id=detector_id\n",
    ")\n",
    "\n",
    "model = load_model_from_file(\n",
    "    root=root,\n",
    "    experiment=experiment,\n",
    "    timestamp=normal_start,\n",
    "    kernel_id=kernel_id,\n",
    "    detector_id=detector_id\n",
    ")\n",
    "\n",
    "# get data for plot\n",
    "data = daily_normal_vs_lockdown(normal_detector_df, lockdown_detector_df, detector_id, model, x_normal, num_samples=1000)\n",
    "\n",
    "# calculate the coverage\n",
    "coverage = percentage_coverage(model, x_normal[:,0][:,np.newaxis], y_normal, num_pertubations=1000, num_samples=1000, quantile=0.99)\n",
    "\n",
    "# update layout\n",
    "layout = dict(\n",
    "    title=\"Monday {id}. Coverage={c}%\".format(id=detector_id, c=coverage*100)\n",
    ")\n",
    "fig = go.Figure(data=data, layout=layout)\n",
    "fig.update_xaxes(tick0=3, dtick=6)\n",
    "fig.show()"
   ]
  },
  {
   "cell_type": "code",
   "execution_count": null,
   "metadata": {},
   "outputs": [],
   "source": []
  }
 ]
}