{
 "nbformat": 4,
 "nbformat_minor": 2,
 "metadata": {
  "language_info": {
   "name": "python",
   "codemirror_mode": {
    "name": "ipython",
    "version": 3
   },
   "version": "3.7.6-final"
  },
  "orig_nbformat": 2,
  "file_extension": ".py",
  "mimetype": "text/x-python",
  "name": "python",
  "npconvert_exporter": "python",
  "pygments_lexer": "ipython3",
  "version": 3,
  "kernelspec": {
   "name": "cleanair",
   "display_name": "cleanair"
  }
 },
 "cells": [
  {
   "cell_type": "markdown",
   "metadata": {},
   "source": [
    "# Compare normal period to lockdown\n",
    "\n",
    "Take a model trained on a day (e.g. Monday) in the normal period then plot a day from the lockdown period and compute the percentage coverage."
   ]
  },
  {
   "cell_type": "code",
   "execution_count": 1,
   "metadata": {},
   "outputs": [],
   "source": [
    "import os\n",
    "import json\n",
    "import pandas as pd\n",
    "import numpy as np\n",
    "\n",
    "# plotly\n",
    "import plotly.graph_objects as go\n",
    "import plotly.express as px\n",
    "from plotly.subplots import make_subplots\n",
    "\n",
    "# scoot functions\n",
    "from cleanair.scoot import (\n",
    "    generate_fp,\n",
    "    load_model_from_file,\n",
    "    load_processed_data_from_file,\n",
    "    load_scoot_df,\n",
    "    plotly_results,\n",
    "    percentage_coverage\n",
    ")"
   ]
  },
  {
   "cell_type": "code",
   "execution_count": 2,
   "metadata": {},
   "outputs": [],
   "source": [
    "# setup global params\n",
    "experiment = \"daily\"\n",
    "\n",
    "user_settings_fp = os.path.join(\"..\", \"..\", \"terraform\", \".secrets\", \"user_settings.json\")\n",
    "with open(user_settings_fp) as json_file:\n",
    "    user_settings = json.load(json_file)\n",
    "root = user_settings[\"root\"]\n",
    "\n",
    "# get the settings for kernels and scoot data\n",
    "with open(os.path.join(root, experiment, \"settings\", \"kernel_settings.json\")) as kernel_file:\n",
    "    kernel_settings = json.load(kernel_file)\n",
    "with open(os.path.join(root, experiment, \"settings\", \"data_settings.json\")) as scoot_file:\n",
    "    data_settings = json.load(scoot_file)"
   ]
  },
  {
   "cell_type": "code",
   "execution_count": 3,
   "metadata": {},
   "outputs": [
    {
     "output_type": "error",
     "ename": "NameError",
     "evalue": "name 'lockdown_start' is not defined",
     "traceback": [
      "\u001b[0;31m---------------------------------------------------------------------------\u001b[0m",
      "\u001b[0;31mNameError\u001b[0m                                 Traceback (most recent call last)",
      "\u001b[0;32m<ipython-input-3-20c0ec4ecfd4>\u001b[0m in \u001b[0;36m<module>\u001b[0;34m\u001b[0m\n\u001b[1;32m     19\u001b[0m     \u001b[0mroot\u001b[0m\u001b[0;34m=\u001b[0m\u001b[0mroot\u001b[0m\u001b[0;34m,\u001b[0m\u001b[0;34m\u001b[0m\u001b[0;34m\u001b[0m\u001b[0m\n\u001b[1;32m     20\u001b[0m     \u001b[0mexperiment\u001b[0m\u001b[0;34m=\u001b[0m\u001b[0mexperiment\u001b[0m\u001b[0;34m,\u001b[0m\u001b[0;34m\u001b[0m\u001b[0;34m\u001b[0m\u001b[0m\n\u001b[0;32m---> 21\u001b[0;31m     \u001b[0mtimestamp\u001b[0m\u001b[0;34m=\u001b[0m\u001b[0mlockdown_start\u001b[0m\u001b[0;34m,\u001b[0m\u001b[0;34m\u001b[0m\u001b[0;34m\u001b[0m\u001b[0m\n\u001b[0m\u001b[1;32m     22\u001b[0m     \u001b[0mfilename\u001b[0m\u001b[0;34m=\u001b[0m\u001b[0;34m\"scoot\"\u001b[0m\u001b[0;34m\u001b[0m\u001b[0;34m\u001b[0m\u001b[0m\n\u001b[1;32m     23\u001b[0m )\n",
      "\u001b[0;31mNameError\u001b[0m: name 'lockdown_start' is not defined"
     ]
    }
   ],
   "source": [
    "# lets look at just one day, one kernel, one detector\n",
    "data_index = 0\n",
    "detector_index = 0\n",
    "kernel_id = \"rbf_ls=0.1_v=0.1\"\n",
    "\n",
    "# get data config from data settings\n",
    "normal_start = data_settings[data_index][\"normal_start\"]\n",
    "lockdown_start = data_settings[data_index][\"lockdown_start\"]\n",
    "detector_id = data_settings[data_index][\"detectors\"][detector_index]\n",
    "\n",
    "# load data for this day\n",
    "normal_df = load_scoot_df(\n",
    "    root=root,\n",
    "    experiment=experiment,\n",
    "    timestamp=normal_start,\n",
    "    filename=\"scoot\"\n",
    ")\n",
    "lockdown_df = load_scoot_df(\n",
    "    root=root,\n",
    "    experiment=experiment,\n",
    "    timestamp=lockdown_start,\n",
    "    filename=\"scoot\"\n",
    ")\n",
    "normal_detector_df = normal_df.loc[normal_df.detector_id == detector_id]\n",
    "lockdown_detector_df = lockdown_df.loc[lockdown_df.detector_id == detector_id]\n",
    "\n",
    "# get the raw data for the given detector\n",
    "X, Y = load_processed_data_from_file(\n",
    "    root=root,\n",
    "    experiment=experiment,\n",
    "    timestamp=normal_start,\n",
    "    kernel_id=kernel_id,\n",
    "    detector_id=detector_id\n",
    ")"
   ]
  },
  {
   "cell_type": "code",
   "execution_count": null,
   "metadata": {},
   "outputs": [],
   "source": []
  }
 ]
}