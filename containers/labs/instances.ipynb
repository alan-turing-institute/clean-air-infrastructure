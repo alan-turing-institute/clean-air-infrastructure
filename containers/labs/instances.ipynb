{
 "cells": [
  {
   "cell_type": "code",
   "execution_count": 1,
   "metadata": {},
   "outputs": [],
   "source": [
    "import os\n",
    "import json\n",
    "\n",
    "from cleanair.instance import ValidationInstance\n",
    "from cleanair.instance import InstanceQuery"
   ]
  },
  {
   "cell_type": "code",
   "execution_count": 2,
   "metadata": {},
   "outputs": [],
   "source": [
    "# directory to your secrets directory\n",
    "secrets_dir = \"../../terraform/.secrets/\"\n",
    "\n",
    "# open the parser config\n",
    "with open(os.path.join(secrets_dir, \"config.json\"), \"r\") as filepath:\n",
    "    parser_config = json.load(filepath)\n",
    "\n",
    "# setup your filepaths\n",
    "data_dir = parser_config[\"config_dir\"]\n",
    "results_dir = parser_config[\"results_dir\"]\n",
    "secretfile=os.path.join(secrets_dir, \"db_secrets.json\")\n",
    "    \n"
   ]
  },
  {
   "cell_type": "markdown",
   "metadata": {},
   "source": [
    "## Loading instances from DB\n",
    "\n",
    "By just having the `instance_id` of an instance, you can load the data, model and results of a model that has been executed by somebody else.\n",
    "\n",
    "To get all possible instances, execute the following query."
   ]
  },
  {
   "cell_type": "code",
   "execution_count": 3,
   "metadata": {},
   "outputs": [
    {
     "name": "stderr",
     "output_type": "stream",
     "text": [
      "2020-03-18 17:04:48     INFO: Database connection information loaded from None\n"
     ]
    },
    {
     "data": {
      "text/html": [
       "<div>\n",
       "<style scoped>\n",
       "    .dataframe tbody tr th:only-of-type {\n",
       "        vertical-align: middle;\n",
       "    }\n",
       "\n",
       "    .dataframe tbody tr th {\n",
       "        vertical-align: top;\n",
       "    }\n",
       "\n",
       "    .dataframe thead th {\n",
       "        text-align: right;\n",
       "    }\n",
       "</style>\n",
       "<table border=\"1\" class=\"dataframe\">\n",
       "  <thead>\n",
       "    <tr style=\"text-align: right;\">\n",
       "      <th></th>\n",
       "      <th>instance_id</th>\n",
       "      <th>model_name</th>\n",
       "      <th>tag</th>\n",
       "      <th>param_id</th>\n",
       "      <th>data_id</th>\n",
       "      <th>git_hash</th>\n",
       "      <th>fit_start_time</th>\n",
       "      <th>cluster_id</th>\n",
       "    </tr>\n",
       "  </thead>\n",
       "  <tbody>\n",
       "    <tr>\n",
       "      <th>11</th>\n",
       "      <td>341494535a34786af9b8368f92a4efdd05b85e84a1e2f9...</td>\n",
       "      <td>svgp</td>\n",
       "      <td>test</td>\n",
       "      <td>16bfd462ce906f099e346c69e08318e0598e5270ac0fb6...</td>\n",
       "      <td>e77e8ca79c8928bb37ed6fe6295e60c7577d8188775c6b...</td>\n",
       "      <td>e1d315d1f0b26621c1157ab18076a123e9182b0b</td>\n",
       "      <td>2020-03-17 14:19:29.616079</td>\n",
       "      <td>patrick_laptop</td>\n",
       "    </tr>\n",
       "    <tr>\n",
       "      <th>7</th>\n",
       "      <td>2a1d2d2fa5c0869f6474e945efafd37a30e3b52998f67d...</td>\n",
       "      <td>svgp</td>\n",
       "      <td>validation</td>\n",
       "      <td>16bfd462ce906f099e346c69e08318e0598e5270ac0fb6...</td>\n",
       "      <td>ed8c582190037215743fee222532017ae8f5d87f6a1cd6...</td>\n",
       "      <td>dd3544244f22d569abd445f10522302f7f1b6a32</td>\n",
       "      <td>2020-03-16 15:31:48.992177</td>\n",
       "      <td>patrick_laptop</td>\n",
       "    </tr>\n",
       "    <tr>\n",
       "      <th>0</th>\n",
       "      <td>01691e714314345e889a4271680930788201080bb3320c...</td>\n",
       "      <td>mr_dgp</td>\n",
       "      <td>validation</td>\n",
       "      <td>16bfd462ce906f099e346c69e08318e0598e5270ac0fb6...</td>\n",
       "      <td>196cef9b97e3c60b89c1bed13f380e106634f0c2818942...</td>\n",
       "      <td>ec577aaa25590274521c9d3581cdcc8824cefc1f</td>\n",
       "      <td>2020-03-10 10:21:59.691353</td>\n",
       "      <td>patrick_laptop</td>\n",
       "    </tr>\n",
       "  </tbody>\n",
       "</table>\n",
       "</div>"
      ],
      "text/plain": [
       "                                          instance_id model_name         tag  \\\n",
       "11  341494535a34786af9b8368f92a4efdd05b85e84a1e2f9...       svgp        test   \n",
       "7   2a1d2d2fa5c0869f6474e945efafd37a30e3b52998f67d...       svgp  validation   \n",
       "0   01691e714314345e889a4271680930788201080bb3320c...     mr_dgp  validation   \n",
       "\n",
       "                                             param_id  \\\n",
       "11  16bfd462ce906f099e346c69e08318e0598e5270ac0fb6...   \n",
       "7   16bfd462ce906f099e346c69e08318e0598e5270ac0fb6...   \n",
       "0   16bfd462ce906f099e346c69e08318e0598e5270ac0fb6...   \n",
       "\n",
       "                                              data_id  \\\n",
       "11  e77e8ca79c8928bb37ed6fe6295e60c7577d8188775c6b...   \n",
       "7   ed8c582190037215743fee222532017ae8f5d87f6a1cd6...   \n",
       "0   196cef9b97e3c60b89c1bed13f380e106634f0c2818942...   \n",
       "\n",
       "                                    git_hash             fit_start_time  \\\n",
       "11  e1d315d1f0b26621c1157ab18076a123e9182b0b 2020-03-17 14:19:29.616079   \n",
       "7   dd3544244f22d569abd445f10522302f7f1b6a32 2020-03-16 15:31:48.992177   \n",
       "0   ec577aaa25590274521c9d3581cdcc8824cefc1f 2020-03-10 10:21:59.691353   \n",
       "\n",
       "        cluster_id  \n",
       "11  patrick_laptop  \n",
       "7   patrick_laptop  \n",
       "0   patrick_laptop  "
      ]
     },
     "execution_count": 3,
     "metadata": {},
     "output_type": "execute_result"
    }
   ],
   "source": [
    "iq = InstanceQuery(secretfile=secretfile)\n",
    "instance_df = iq.get_all_instances()\n",
    "instance_df.sample(3)  # get 3 random rows"
   ]
  },
  {
   "cell_type": "code",
   "execution_count": 4,
   "metadata": {},
   "outputs": [
    {
     "data": {
      "text/html": [
       "<div>\n",
       "<style scoped>\n",
       "    .dataframe tbody tr th:only-of-type {\n",
       "        vertical-align: middle;\n",
       "    }\n",
       "\n",
       "    .dataframe tbody tr th {\n",
       "        vertical-align: top;\n",
       "    }\n",
       "\n",
       "    .dataframe thead th {\n",
       "        text-align: right;\n",
       "    }\n",
       "</style>\n",
       "<table border=\"1\" class=\"dataframe\">\n",
       "  <thead>\n",
       "    <tr style=\"text-align: right;\">\n",
       "      <th></th>\n",
       "      <th>instance_id</th>\n",
       "      <th>model_name</th>\n",
       "      <th>tag</th>\n",
       "      <th>param_id</th>\n",
       "      <th>data_id</th>\n",
       "      <th>git_hash</th>\n",
       "      <th>fit_start_time</th>\n",
       "      <th>cluster_id</th>\n",
       "    </tr>\n",
       "  </thead>\n",
       "  <tbody>\n",
       "    <tr>\n",
       "      <th>4</th>\n",
       "      <td>7886078cddd4fe9a50c6f9e44d25426b2cf29776c6796e...</td>\n",
       "      <td>mr_dgp</td>\n",
       "      <td>validation</td>\n",
       "      <td>16bfd462ce906f099e346c69e08318e0598e5270ac0fb6...</td>\n",
       "      <td>196cef9b97e3c60b89c1bed13f380e106634f0c2818942...</td>\n",
       "      <td>a6fba4359c58c24b0f59620cde57498ec1283fc8</td>\n",
       "      <td>2020-03-13 15:19:18.957921</td>\n",
       "      <td>patrick_laptop</td>\n",
       "    </tr>\n",
       "    <tr>\n",
       "      <th>8</th>\n",
       "      <td>b3ef88af90f6cbd9fae66d4d76b4988d21d75a5b2111f5...</td>\n",
       "      <td>mr_dgp</td>\n",
       "      <td>validation</td>\n",
       "      <td>16bfd462ce906f099e346c69e08318e0598e5270ac0fb6...</td>\n",
       "      <td>ed8c582190037215743fee222532017ae8f5d87f6a1cd6...</td>\n",
       "      <td>cc5e139b448e5a2ef1519a0fdec70592bf018b8f</td>\n",
       "      <td>2020-03-16 17:11:13.440396</td>\n",
       "      <td>patrick_laptop</td>\n",
       "    </tr>\n",
       "    <tr>\n",
       "      <th>5</th>\n",
       "      <td>9896e39160ef419f0af458badee0c9133ecc6350743238...</td>\n",
       "      <td>mr_dgp</td>\n",
       "      <td>validation</td>\n",
       "      <td>16bfd462ce906f099e346c69e08318e0598e5270ac0fb6...</td>\n",
       "      <td>196cef9b97e3c60b89c1bed13f380e106634f0c2818942...</td>\n",
       "      <td>ef6314f19ef7258714913c5a784e88b9ca4838f1</td>\n",
       "      <td>2020-03-16 09:32:47.551807</td>\n",
       "      <td>patrick_laptop</td>\n",
       "    </tr>\n",
       "  </tbody>\n",
       "</table>\n",
       "</div>"
      ],
      "text/plain": [
       "                                         instance_id model_name         tag  \\\n",
       "4  7886078cddd4fe9a50c6f9e44d25426b2cf29776c6796e...     mr_dgp  validation   \n",
       "8  b3ef88af90f6cbd9fae66d4d76b4988d21d75a5b2111f5...     mr_dgp  validation   \n",
       "5  9896e39160ef419f0af458badee0c9133ecc6350743238...     mr_dgp  validation   \n",
       "\n",
       "                                            param_id  \\\n",
       "4  16bfd462ce906f099e346c69e08318e0598e5270ac0fb6...   \n",
       "8  16bfd462ce906f099e346c69e08318e0598e5270ac0fb6...   \n",
       "5  16bfd462ce906f099e346c69e08318e0598e5270ac0fb6...   \n",
       "\n",
       "                                             data_id  \\\n",
       "4  196cef9b97e3c60b89c1bed13f380e106634f0c2818942...   \n",
       "8  ed8c582190037215743fee222532017ae8f5d87f6a1cd6...   \n",
       "5  196cef9b97e3c60b89c1bed13f380e106634f0c2818942...   \n",
       "\n",
       "                                   git_hash             fit_start_time  \\\n",
       "4  a6fba4359c58c24b0f59620cde57498ec1283fc8 2020-03-13 15:19:18.957921   \n",
       "8  cc5e139b448e5a2ef1519a0fdec70592bf018b8f 2020-03-16 17:11:13.440396   \n",
       "5  ef6314f19ef7258714913c5a784e88b9ca4838f1 2020-03-16 09:32:47.551807   \n",
       "\n",
       "       cluster_id  \n",
       "4  patrick_laptop  \n",
       "8  patrick_laptop  \n",
       "5  patrick_laptop  "
      ]
     },
     "execution_count": 4,
     "metadata": {},
     "output_type": "execute_result"
    }
   ],
   "source": [
    "# we can now filter instances by e.g. tag, model_name, fit_start_time, etc.\n",
    "dgp_df = instance_df.loc[\n",
    "    (instance_df.model_name==\"mr_dgp\") & (instance_df.tag == \"validation\")\n",
    "]\n",
    "dgp_df.sample(3)"
   ]
  },
  {
   "cell_type": "code",
   "execution_count": 5,
   "metadata": {},
   "outputs": [
    {
     "name": "stdout",
     "output_type": "stream",
     "text": [
      "instance_id       01691e714314345e889a4271680930788201080bb3320c...\n",
      "model_name                                                   mr_dgp\n",
      "tag                                                      validation\n",
      "param_id          16bfd462ce906f099e346c69e08318e0598e5270ac0fb6...\n",
      "data_id           196cef9b97e3c60b89c1bed13f380e106634f0c2818942...\n",
      "git_hash                   ec577aaa25590274521c9d3581cdcc8824cefc1f\n",
      "fit_start_time                           2020-03-10 10:21:59.691353\n",
      "cluster_id                                           patrick_laptop\n",
      "Name: 0, dtype: object\n"
     ]
    },
    {
     "name": "stderr",
     "output_type": "stream",
     "text": [
      "2020-03-18 17:04:54     INFO: Database connection information loaded from None\n",
      "2020-03-18 17:04:57     INFO: Load data config from database.\n",
      "2020-03-18 17:04:57     INFO: Load model params from database\n",
      "2020-03-18 17:04:57     INFO: Database connection information loaded from None\n",
      "2020-03-18 17:05:00     INFO: Tag is validation\n",
      "2020-03-18 17:05:00     INFO: Model name is mr_dgp\n",
      "2020-03-18 17:05:00     INFO: Param id is bda7364508b181d6743cefb2dafb6aa7c4f5dfb6249c964518541c3f36df739c\n",
      "2020-03-18 17:05:00     INFO: Data id is 4e22eb8062087ab22d163adc33060adca8fff5fb7cc3068f93991eef6450dd06\n",
      "2020-03-18 17:05:00     INFO: Instance id is 7422575009982a23c52be8e2c52fd26b25b2b495f1f5d6c3a8715b91d326272a\n",
      "2020-03-18 17:05:00     INFO: Cluster id is patrick_laptop\n"
     ]
    },
    {
     "ename": "ValueError",
     "evalue": "Data id and hashed data config do not match. Data id from DB is 196cef9b97e3c60b89c1bed13f380e106634f0c28189423da714670f9b28e314 . Hashed data config from DB is 4e22eb8062087ab22d163adc33060adca8fff5fb7cc3068f93991eef6450dd06 . Data config is: {\n    \"train_start_date\": \"2020-01-28T00:00:00\",\n    \"train_end_date\": \"2020-01-30T00:00:00\",\n    \"pred_start_date\": \"2020-01-30T00:00:00\",\n    \"pred_end_date\": \"2020-02-01T00:00:00\",\n    \"include_satellite\": true,\n    \"include_prediction_y\": true,\n    \"train_sources\": [\n        \"laqn\"\n    ],\n    \"pred_sources\": [\n        \"laqn\"\n    ],\n    \"train_interest_points\": \"all\",\n    \"train_satellite_interest_points\": \"all\",\n    \"pred_interest_points\": \"all\",\n    \"species\": [\n        \"NO2\"\n    ],\n    \"features\": [\n        \"value_1000_total_a_road_length\",\n        \"value_500_total_a_road_length\",\n        \"value_500_total_a_road_primary_length\",\n        \"value_500_total_b_road_length\"\n    ],\n    \"norm_by\": \"laqn\",\n    \"tag\": \"validation\"\n}",
     "output_type": "error",
     "traceback": [
      "\u001b[0;31m---------------------------------------------------------------------------\u001b[0m",
      "\u001b[0;31mAssertionError\u001b[0m                            Traceback (most recent call last)",
      "\u001b[0;32m/app/cleanair/instance/runnable.py\u001b[0m in \u001b[0;36minstance_from_id\u001b[0;34m(cls, instance_id, experiment_config, **kwargs)\u001b[0m\n\u001b[1;32m    359\u001b[0m         \u001b[0;32mtry\u001b[0m\u001b[0;34m:\u001b[0m\u001b[0;34m\u001b[0m\u001b[0;34m\u001b[0m\u001b[0m\n\u001b[0;32m--> 360\u001b[0;31m             \u001b[0;32massert\u001b[0m \u001b[0minstance_dict\u001b[0m\u001b[0;34m[\u001b[0m\u001b[0;34m\"data_id\"\u001b[0m\u001b[0;34m]\u001b[0m \u001b[0;34m==\u001b[0m \u001b[0minstance\u001b[0m\u001b[0;34m.\u001b[0m\u001b[0mdata_id\u001b[0m\u001b[0;34m\u001b[0m\u001b[0;34m\u001b[0m\u001b[0m\n\u001b[0m\u001b[1;32m    361\u001b[0m         \u001b[0;32mexcept\u001b[0m \u001b[0mAssertionError\u001b[0m\u001b[0;34m:\u001b[0m\u001b[0;34m\u001b[0m\u001b[0;34m\u001b[0m\u001b[0m\n",
      "\u001b[0;31mAssertionError\u001b[0m: ",
      "\nDuring handling of the above exception, another exception occurred:\n",
      "\u001b[0;31mValueError\u001b[0m                                Traceback (most recent call last)",
      "\u001b[0;32m<ipython-input-5-7a83e362c556>\u001b[0m in \u001b[0;36m<module>\u001b[0;34m\u001b[0m\n\u001b[1;32m      6\u001b[0m instance = ValidationInstance.instance_from_id(\n\u001b[1;32m      7\u001b[0m     \u001b[0minstance_id\u001b[0m\u001b[0;34m=\u001b[0m\u001b[0minstance_row\u001b[0m\u001b[0;34m.\u001b[0m\u001b[0minstance_id\u001b[0m\u001b[0;34m,\u001b[0m\u001b[0;34m\u001b[0m\u001b[0;34m\u001b[0m\u001b[0m\n\u001b[0;32m----> 8\u001b[0;31m     \u001b[0mexperiment_config\u001b[0m\u001b[0;34m=\u001b[0m\u001b[0mparser_config\u001b[0m\u001b[0;34m\u001b[0m\u001b[0;34m\u001b[0m\u001b[0m\n\u001b[0m\u001b[1;32m      9\u001b[0m )\n",
      "\u001b[0;32m/app/cleanair/instance/validation_instance.py\u001b[0m in \u001b[0;36minstance_from_id\u001b[0;34m(cls, instance_id, experiment_config, **kwargs)\u001b[0m\n\u001b[1;32m    147\u001b[0m             \u001b[0;32mreturn\u001b[0m \u001b[0minstance\u001b[0m\u001b[0;34m\u001b[0m\u001b[0;34m\u001b[0m\u001b[0m\n\u001b[1;32m    148\u001b[0m         \u001b[0;31m# return instance from DB\u001b[0m\u001b[0;34m\u001b[0m\u001b[0;34m\u001b[0m\u001b[0;34m\u001b[0m\u001b[0m\n\u001b[0;32m--> 149\u001b[0;31m         \u001b[0;32mreturn\u001b[0m \u001b[0mRunnableInstance\u001b[0m\u001b[0;34m.\u001b[0m\u001b[0minstance_from_id\u001b[0m\u001b[0;34m(\u001b[0m\u001b[0minstance_id\u001b[0m\u001b[0;34m,\u001b[0m \u001b[0mexperiment_config\u001b[0m\u001b[0;34m)\u001b[0m\u001b[0;34m\u001b[0m\u001b[0;34m\u001b[0m\u001b[0m\n\u001b[0m",
      "\u001b[0;32m/app/cleanair/instance/runnable.py\u001b[0m in \u001b[0;36minstance_from_id\u001b[0;34m(cls, instance_id, experiment_config, **kwargs)\u001b[0m\n\u001b[1;32m    369\u001b[0m                 \u001b[0mconf\u001b[0m\u001b[0;34m=\u001b[0m\u001b[0mjson\u001b[0m\u001b[0;34m.\u001b[0m\u001b[0mdumps\u001b[0m\u001b[0;34m(\u001b[0m\u001b[0minstance\u001b[0m\u001b[0;34m.\u001b[0m\u001b[0mconvert_dates_to_str\u001b[0m\u001b[0;34m(\u001b[0m\u001b[0;34m)\u001b[0m\u001b[0;34m,\u001b[0m \u001b[0mindent\u001b[0m\u001b[0;34m=\u001b[0m\u001b[0;36m4\u001b[0m\u001b[0;34m)\u001b[0m\u001b[0;34m,\u001b[0m\u001b[0;34m\u001b[0m\u001b[0;34m\u001b[0m\u001b[0m\n\u001b[1;32m    370\u001b[0m             )\n\u001b[0;32m--> 371\u001b[0;31m             \u001b[0;32mraise\u001b[0m \u001b[0mValueError\u001b[0m\u001b[0;34m(\u001b[0m\u001b[0merror_message\u001b[0m\u001b[0;34m)\u001b[0m\u001b[0;34m\u001b[0m\u001b[0;34m\u001b[0m\u001b[0m\n\u001b[0m\u001b[1;32m    372\u001b[0m \u001b[0;34m\u001b[0m\u001b[0m\n\u001b[1;32m    373\u001b[0m         \u001b[0;31m# check the param id is the same as the hashed model_params\u001b[0m\u001b[0;34m\u001b[0m\u001b[0;34m\u001b[0m\u001b[0;34m\u001b[0m\u001b[0m\n",
      "\u001b[0;31mValueError\u001b[0m: Data id and hashed data config do not match. Data id from DB is 196cef9b97e3c60b89c1bed13f380e106634f0c28189423da714670f9b28e314 . Hashed data config from DB is 4e22eb8062087ab22d163adc33060adca8fff5fb7cc3068f93991eef6450dd06 . Data config is: {\n    \"train_start_date\": \"2020-01-28T00:00:00\",\n    \"train_end_date\": \"2020-01-30T00:00:00\",\n    \"pred_start_date\": \"2020-01-30T00:00:00\",\n    \"pred_end_date\": \"2020-02-01T00:00:00\",\n    \"include_satellite\": true,\n    \"include_prediction_y\": true,\n    \"train_sources\": [\n        \"laqn\"\n    ],\n    \"pred_sources\": [\n        \"laqn\"\n    ],\n    \"train_interest_points\": \"all\",\n    \"train_satellite_interest_points\": \"all\",\n    \"pred_interest_points\": \"all\",\n    \"species\": [\n        \"NO2\"\n    ],\n    \"features\": [\n        \"value_1000_total_a_road_length\",\n        \"value_500_total_a_road_length\",\n        \"value_500_total_a_road_primary_length\",\n        \"value_500_total_b_road_length\"\n    ],\n    \"norm_by\": \"laqn\",\n    \"tag\": \"validation\"\n}"
     ]
    }
   ],
   "source": [
    "# choose an instance to examine in more detail\n",
    "instance_row = dgp_df.iloc[0]\n",
    "print(instance_row)\n",
    "\n",
    "# now load the data, model params and results\n",
    "instance = ValidationInstance.instance_from_id(\n",
    "    instance_id=instance_row.instance_id,\n",
    "    experiment_config=parser_config\n",
    ")"
   ]
  },
  {
   "cell_type": "code",
   "execution_count": null,
   "metadata": {},
   "outputs": [],
   "source": []
  }
 ],
 "metadata": {
  "kernelspec": {
   "display_name": "Python 3",
   "language": "python",
   "name": "python3"
  },
  "language_info": {
   "codemirror_mode": {
    "name": "ipython",
    "version": 3
   },
   "file_extension": ".py",
   "mimetype": "text/x-python",
   "name": "python",
   "nbconvert_exporter": "python",
   "pygments_lexer": "ipython3",
   "version": "3.7.4"
  }
 },
 "nbformat": 4,
 "nbformat_minor": 4
}
