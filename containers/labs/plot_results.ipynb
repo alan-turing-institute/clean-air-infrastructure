{
 "nbformat": 4,
 "nbformat_minor": 2,
 "metadata": {
  "language_info": {
   "name": "python",
   "codemirror_mode": {
    "name": "ipython",
    "version": 3
   },
   "version": "3.7.6-final"
  },
  "orig_nbformat": 2,
  "file_extension": ".py",
  "mimetype": "text/x-python",
  "name": "python",
  "npconvert_exporter": "python",
  "pygments_lexer": "ipython3",
  "version": 3,
  "kernelspec": {
   "name": "python37664bitcleanairconda15a7631f7c104f11bf0dbf211fe6f892",
   "display_name": "Python 3.7.6 64-bit ('cleanair': conda)"
  }
 },
 "cells": [
  {
   "cell_type": "code",
   "execution_count": 35,
   "metadata": {},
   "outputs": [],
   "source": [
    "import os\n",
    "import json\n",
    "import pandas as pd\n",
    "from pathlib import Path\n",
    "\n",
    "# plotly\n",
    "import plotly.graph_objects as go\n",
    "import plotly.express as px\n",
    "from plotly.subplots import make_subplots\n",
    "\n",
    "# scoot functions\n",
    "from cleanair.scoot import (\n",
    "    generate_fp,\n",
    "    load_model_from_file,\n",
    "    load_processed_data_from_file,\n",
    "    plotly_results\n",
    ")"
   ]
  },
  {
   "cell_type": "code",
   "execution_count": 50,
   "metadata": {},
   "outputs": [],
   "source": [
    "name = \"monday\"\n",
    "\n",
    "# make the figure directory\n",
    "user_settings_fp = os.path.join(\"..\", \"..\", \"terraform\", \".secrets\", \"user_settings.json\")\n",
    "with open(user_settings_fp) as json_file:\n",
    "    user_settings = json.load(json_file)\n",
    "xpfp = user_settings[\"experiment_dir\"]  # root to experiments filepaths directory\n",
    "figure_dir = os.path.join(xpfp, name, \"figures\")\n",
    "settings_dir = os.path.join(xpfp, name, \"settings\")\n",
    "Path(figure_dir).mkdir(exist_ok=True)\n",
    "\n",
    "# get the settings for kernels and scoot data\n",
    "with open(os.path.join(settings_dir, \"kernel_settings.json\")) as kernel_file:\n",
    "    kernel_settings = json.load(kernel_file)\n",
    "with open(os.path.join(settings_dir, \"scoot_settings.json\")) as scoot_file:\n",
    "    scoot_settings = json.load(scoot_file)\n",
    "\n",
    "# load the raw csv\n",
    "normal_df = pd.read_csv(generate_fp(name, xp_root=xpfp))\n",
    "normal_df = normal_df.loc[\n",
    "    (normal_df.measurement_start_utc >= scoot_settings[\"normal_start\"]) &\n",
    "    (normal_df.measurement_start_utc < scoot_settings[\"normal_end\"])\n",
    "]\n",
    "lockdown_df = pd.read_csv(generate_fp(name, prefix=\"lockdown\", xp_root=xpfp))\n",
    "lockdown_df = lockdown_df.loc[\n",
    "    (lockdown_df.measurement_start_utc >= scoot_settings[\"lockdown_start\"]) &\n",
    "    (lockdown_df.measurement_start_utc < scoot_settings[\"lockdown_end\"])\n",
    "]"
   ]
  },
  {
   "cell_type": "code",
   "execution_count": 61,
   "metadata": {},
   "outputs": [
    {
     "output_type": "display_data",
     "data": {
      "application/vnd.plotly.v1+json": {
       "config": {
        "plotlyServerURL": "https://plot.ly"
       },
       "data": [
        {
         "line": {
          "width": 0
         },
         "marker": {
          "color": "#444"
         },
         "mode": "lines",
         "name": "$Counts \\mu-2\\sigma$",
         "showlegend": false,
         "type": "scatter",
         "x": [
          "2020-02-10 00:00:00",
          "2020-02-10 01:00:00",
          "2020-02-10 02:00:00",
          "2020-02-10 03:00:00",
          "2020-02-10 04:00:00",
          "2020-02-10 05:00:00",
          "2020-02-10 06:00:00",
          "2020-02-10 07:00:00",
          "2020-02-10 08:00:00",
          "2020-02-10 09:00:00",
          "2020-02-10 10:00:00",
          "2020-02-10 11:00:00",
          "2020-02-10 12:00:00",
          "2020-02-10 13:00:00",
          "2020-02-10 14:00:00",
          "2020-02-10 15:00:00",
          "2020-02-10 16:00:00",
          "2020-02-10 17:00:00",
          "2020-02-10 18:00:00",
          "2020-02-10 19:00:00",
          "2020-02-10 20:00:00",
          "2020-02-10 21:00:00",
          "2020-02-10 22:00:00",
          "2020-02-10 23:00:00"
         ],
         "y": [
          54.90430031663347,
          51.77873504703395,
          50.160429873691584,
          53.55469869095512,
          63.26978240370124,
          83.26818184036298,
          111.3408595882752,
          144.38551593453985,
          160.79555637075336,
          168.07653829787753,
          174.23248975917403,
          184.9443753453768,
          191.33412988948936,
          205.81964146614982,
          226.4782024333849,
          239.66638948695464,
          224.2636548753939,
          203.11183677315407,
          190.14067936457747,
          187.45500995480114,
          191.6529045923528,
          197.67073312473292,
          222.52249589125438,
          242.0890901997573
         ]
        },
        {
         "fill": "tonexty",
         "fillcolor": "rgba(255,0,0,0.3)",
         "line": {
          "color": "rgb(255, 0, 0)"
         },
         "mode": "lines",
         "name": "Count predictions",
         "type": "scatter",
         "x": [
          "2020-02-10 00:00:00",
          "2020-02-10 01:00:00",
          "2020-02-10 02:00:00",
          "2020-02-10 03:00:00",
          "2020-02-10 04:00:00",
          "2020-02-10 05:00:00",
          "2020-02-10 06:00:00",
          "2020-02-10 07:00:00",
          "2020-02-10 08:00:00",
          "2020-02-10 09:00:00",
          "2020-02-10 10:00:00",
          "2020-02-10 11:00:00",
          "2020-02-10 12:00:00",
          "2020-02-10 13:00:00",
          "2020-02-10 14:00:00",
          "2020-02-10 15:00:00",
          "2020-02-10 16:00:00",
          "2020-02-10 17:00:00",
          "2020-02-10 18:00:00",
          "2020-02-10 19:00:00",
          "2020-02-10 20:00:00",
          "2020-02-10 21:00:00",
          "2020-02-10 22:00:00",
          "2020-02-10 23:00:00"
         ],
         "y": [
          77.154,
          71.873,
          69.538,
          72.771,
          84.364,
          106.555,
          138.714,
          173.638,
          196.082,
          206.672,
          209.569,
          218.083,
          233.697,
          252.503,
          269.554,
          277.507,
          270.734,
          253.603,
          236.36,
          224.623,
          225.188,
          239.846,
          264.354,
          287.965
         ]
        },
        {
         "fill": "tonexty",
         "fillcolor": "rgba(255,0,0,0.3)",
         "line": {
          "width": 0
         },
         "marker": {
          "color": "#444"
         },
         "mode": "lines",
         "name": "$Counts \\mu+2\\sigma$",
         "showlegend": false,
         "type": "scatter",
         "x": [
          "2020-02-10 00:00:00",
          "2020-02-10 01:00:00",
          "2020-02-10 02:00:00",
          "2020-02-10 03:00:00",
          "2020-02-10 04:00:00",
          "2020-02-10 05:00:00",
          "2020-02-10 06:00:00",
          "2020-02-10 07:00:00",
          "2020-02-10 08:00:00",
          "2020-02-10 09:00:00",
          "2020-02-10 10:00:00",
          "2020-02-10 11:00:00",
          "2020-02-10 12:00:00",
          "2020-02-10 13:00:00",
          "2020-02-10 14:00:00",
          "2020-02-10 15:00:00",
          "2020-02-10 16:00:00",
          "2020-02-10 17:00:00",
          "2020-02-10 18:00:00",
          "2020-02-10 19:00:00",
          "2020-02-10 20:00:00",
          "2020-02-10 21:00:00",
          "2020-02-10 22:00:00",
          "2020-02-10 23:00:00"
         ],
         "y": [
          99.40369968336653,
          91.96726495296606,
          88.91557012630841,
          91.98730130904488,
          105.45821759629877,
          129.84181815963703,
          166.0871404117248,
          202.89048406546016,
          231.36844362924663,
          245.26746170212246,
          244.90551024082595,
          251.22162465462318,
          276.05987011051064,
          299.1863585338502,
          312.629797566615,
          315.34761051304537,
          317.20434512460605,
          304.0941632268459,
          282.57932063542256,
          261.79099004519884,
          258.7230954076472,
          282.0212668752671,
          306.1855041087456,
          333.8409098002427
         ]
        },
        {
         "line": {
          "width": 0
         },
         "marker": {
          "color": "#444"
         },
         "mode": "lines",
         "name": "$Intensity \\mu-2\\sigma$",
         "showlegend": false,
         "type": "scatter",
         "x": [
          "2020-02-10 00:00:00",
          "2020-02-10 01:00:00",
          "2020-02-10 02:00:00",
          "2020-02-10 03:00:00",
          "2020-02-10 04:00:00",
          "2020-02-10 05:00:00",
          "2020-02-10 06:00:00",
          "2020-02-10 07:00:00",
          "2020-02-10 08:00:00",
          "2020-02-10 09:00:00",
          "2020-02-10 10:00:00",
          "2020-02-10 11:00:00",
          "2020-02-10 12:00:00",
          "2020-02-10 13:00:00",
          "2020-02-10 14:00:00",
          "2020-02-10 15:00:00",
          "2020-02-10 16:00:00",
          "2020-02-10 17:00:00",
          "2020-02-10 18:00:00",
          "2020-02-10 19:00:00",
          "2020-02-10 20:00:00",
          "2020-02-10 21:00:00",
          "2020-02-10 22:00:00",
          "2020-02-10 23:00:00"
         ],
         "y": [
          63.02676178531131,
          62.48122188053035,
          61.31042794499467,
          64.03857072511138,
          74.70390918603907,
          95.52882781735606,
          124.69699055493771,
          158.83129899903304,
          174.87521969386128,
          181.27141051068403,
          191.8872600548897,
          200.5584865662296,
          203.82890003703645,
          217.06721461766443,
          241.19607176081684,
          259.18440427520085,
          237.52064974439196,
          212.75098479733037,
          199.9720418206378,
          202.29132690837656,
          208.73210223634618,
          214.7406615006895,
          237.3117002789218,
          259.73187347687684
         ]
        },
        {
         "fill": "tonexty",
         "fillcolor": "rgba(0,255,0,0.3)",
         "line": {
          "color": "rgb(0, 255, 0)"
         },
         "mode": "lines",
         "name": "Intensity predictions",
         "type": "scatter",
         "x": [
          "2020-02-10 00:00:00",
          "2020-02-10 01:00:00",
          "2020-02-10 02:00:00",
          "2020-02-10 03:00:00",
          "2020-02-10 04:00:00",
          "2020-02-10 05:00:00",
          "2020-02-10 06:00:00",
          "2020-02-10 07:00:00",
          "2020-02-10 08:00:00",
          "2020-02-10 09:00:00",
          "2020-02-10 10:00:00",
          "2020-02-10 11:00:00",
          "2020-02-10 12:00:00",
          "2020-02-10 13:00:00",
          "2020-02-10 14:00:00",
          "2020-02-10 15:00:00",
          "2020-02-10 16:00:00",
          "2020-02-10 17:00:00",
          "2020-02-10 18:00:00",
          "2020-02-10 19:00:00",
          "2020-02-10 20:00:00",
          "2020-02-10 21:00:00",
          "2020-02-10 22:00:00",
          "2020-02-10 23:00:00"
         ],
         "y": [
          77.0444651696485,
          72.50480970692202,
          70.09287210159108,
          73.16067864294921,
          84.61293688594924,
          106.96657439677162,
          139.06019093178637,
          173.00103055376218,
          195.8599542040215,
          206.15676900787366,
          210.56699757479993,
          218.21447763390873,
          234.2337776648722,
          253.6083522286064,
          270.5909508895974,
          277.35850985658965,
          269.02483075160285,
          252.47523783767966,
          235.44878043611888,
          224.15040919482908,
          225.11294106379276,
          240.54366966899883,
          264.1668201250297,
          288.44947168693625
         ]
        },
        {
         "fill": "tonexty",
         "fillcolor": "rgba(0,255,0,0.3)",
         "line": {
          "width": 0
         },
         "marker": {
          "color": "#444"
         },
         "mode": "lines",
         "name": "Intensity $\\mu+2\\sigma$",
         "showlegend": false,
         "type": "scatter",
         "x": [
          "2020-02-10 00:00:00",
          "2020-02-10 01:00:00",
          "2020-02-10 02:00:00",
          "2020-02-10 03:00:00",
          "2020-02-10 04:00:00",
          "2020-02-10 05:00:00",
          "2020-02-10 06:00:00",
          "2020-02-10 07:00:00",
          "2020-02-10 08:00:00",
          "2020-02-10 09:00:00",
          "2020-02-10 10:00:00",
          "2020-02-10 11:00:00",
          "2020-02-10 12:00:00",
          "2020-02-10 13:00:00",
          "2020-02-10 14:00:00",
          "2020-02-10 15:00:00",
          "2020-02-10 16:00:00",
          "2020-02-10 17:00:00",
          "2020-02-10 18:00:00",
          "2020-02-10 19:00:00",
          "2020-02-10 20:00:00",
          "2020-02-10 21:00:00",
          "2020-02-10 22:00:00",
          "2020-02-10 23:00:00"
         ],
         "y": [
          91.0621685539857,
          82.52839753331368,
          78.8753162581875,
          82.28278656078703,
          94.52196458585941,
          118.40432097618718,
          153.42339130863502,
          187.17076210849132,
          216.84468871418173,
          231.0421275050633,
          229.24673509471015,
          235.87046870158787,
          264.638655292708,
          290.1494898395484,
          299.985830018378,
          295.53261543797845,
          300.52901175881374,
          292.19949087802894,
          270.92551905159996,
          246.0094914812816,
          241.49377989123934,
          266.34667783730816,
          291.02193997113756,
          317.16706989699566
         ]
        },
        {
         "line": {
          "color": "#1f77b4"
         },
         "mode": "lines+markers",
         "name": "Actual counts",
         "type": "scatter",
         "x": [
          "2020-02-10 00:00:00",
          "2020-02-10 01:00:00",
          "2020-02-10 02:00:00",
          "2020-02-10 03:00:00",
          "2020-02-10 04:00:00",
          "2020-02-10 05:00:00",
          "2020-02-10 06:00:00",
          "2020-02-10 07:00:00",
          "2020-02-10 08:00:00",
          "2020-02-10 09:00:00",
          "2020-02-10 10:00:00",
          "2020-02-10 11:00:00",
          "2020-02-10 12:00:00",
          "2020-02-10 13:00:00",
          "2020-02-10 14:00:00",
          "2020-02-10 15:00:00",
          "2020-02-10 16:00:00",
          "2020-02-10 17:00:00",
          "2020-02-10 18:00:00",
          "2020-02-10 19:00:00",
          "2020-02-10 20:00:00",
          "2020-02-10 21:00:00",
          "2020-02-10 22:00:00",
          "2020-02-10 23:00:00"
         ],
         "y": [
          88,
          75,
          61,
          67,
          74,
          97,
          153,
          185,
          207,
          202,
          192,
          210,
          244,
          252,
          275,
          278,
          260,
          274,
          199,
          247,
          236,
          195,
          274,
          300
         ]
        }
       ],
       "layout": {
        "template": {
         "data": {
          "bar": [
           {
            "error_x": {
             "color": "#2a3f5f"
            },
            "error_y": {
             "color": "#2a3f5f"
            },
            "marker": {
             "line": {
              "color": "#E5ECF6",
              "width": 0.5
             }
            },
            "type": "bar"
           }
          ],
          "barpolar": [
           {
            "marker": {
             "line": {
              "color": "#E5ECF6",
              "width": 0.5
             }
            },
            "type": "barpolar"
           }
          ],
          "carpet": [
           {
            "aaxis": {
             "endlinecolor": "#2a3f5f",
             "gridcolor": "white",
             "linecolor": "white",
             "minorgridcolor": "white",
             "startlinecolor": "#2a3f5f"
            },
            "baxis": {
             "endlinecolor": "#2a3f5f",
             "gridcolor": "white",
             "linecolor": "white",
             "minorgridcolor": "white",
             "startlinecolor": "#2a3f5f"
            },
            "type": "carpet"
           }
          ],
          "choropleth": [
           {
            "colorbar": {
             "outlinewidth": 0,
             "ticks": ""
            },
            "type": "choropleth"
           }
          ],
          "contour": [
           {
            "colorbar": {
             "outlinewidth": 0,
             "ticks": ""
            },
            "colorscale": [
             [
              0,
              "#0d0887"
             ],
             [
              0.1111111111111111,
              "#46039f"
             ],
             [
              0.2222222222222222,
              "#7201a8"
             ],
             [
              0.3333333333333333,
              "#9c179e"
             ],
             [
              0.4444444444444444,
              "#bd3786"
             ],
             [
              0.5555555555555556,
              "#d8576b"
             ],
             [
              0.6666666666666666,
              "#ed7953"
             ],
             [
              0.7777777777777778,
              "#fb9f3a"
             ],
             [
              0.8888888888888888,
              "#fdca26"
             ],
             [
              1,
              "#f0f921"
             ]
            ],
            "type": "contour"
           }
          ],
          "contourcarpet": [
           {
            "colorbar": {
             "outlinewidth": 0,
             "ticks": ""
            },
            "type": "contourcarpet"
           }
          ],
          "heatmap": [
           {
            "colorbar": {
             "outlinewidth": 0,
             "ticks": ""
            },
            "colorscale": [
             [
              0,
              "#0d0887"
             ],
             [
              0.1111111111111111,
              "#46039f"
             ],
             [
              0.2222222222222222,
              "#7201a8"
             ],
             [
              0.3333333333333333,
              "#9c179e"
             ],
             [
              0.4444444444444444,
              "#bd3786"
             ],
             [
              0.5555555555555556,
              "#d8576b"
             ],
             [
              0.6666666666666666,
              "#ed7953"
             ],
             [
              0.7777777777777778,
              "#fb9f3a"
             ],
             [
              0.8888888888888888,
              "#fdca26"
             ],
             [
              1,
              "#f0f921"
             ]
            ],
            "type": "heatmap"
           }
          ],
          "heatmapgl": [
           {
            "colorbar": {
             "outlinewidth": 0,
             "ticks": ""
            },
            "colorscale": [
             [
              0,
              "#0d0887"
             ],
             [
              0.1111111111111111,
              "#46039f"
             ],
             [
              0.2222222222222222,
              "#7201a8"
             ],
             [
              0.3333333333333333,
              "#9c179e"
             ],
             [
              0.4444444444444444,
              "#bd3786"
             ],
             [
              0.5555555555555556,
              "#d8576b"
             ],
             [
              0.6666666666666666,
              "#ed7953"
             ],
             [
              0.7777777777777778,
              "#fb9f3a"
             ],
             [
              0.8888888888888888,
              "#fdca26"
             ],
             [
              1,
              "#f0f921"
             ]
            ],
            "type": "heatmapgl"
           }
          ],
          "histogram": [
           {
            "marker": {
             "colorbar": {
              "outlinewidth": 0,
              "ticks": ""
             }
            },
            "type": "histogram"
           }
          ],
          "histogram2d": [
           {
            "colorbar": {
             "outlinewidth": 0,
             "ticks": ""
            },
            "colorscale": [
             [
              0,
              "#0d0887"
             ],
             [
              0.1111111111111111,
              "#46039f"
             ],
             [
              0.2222222222222222,
              "#7201a8"
             ],
             [
              0.3333333333333333,
              "#9c179e"
             ],
             [
              0.4444444444444444,
              "#bd3786"
             ],
             [
              0.5555555555555556,
              "#d8576b"
             ],
             [
              0.6666666666666666,
              "#ed7953"
             ],
             [
              0.7777777777777778,
              "#fb9f3a"
             ],
             [
              0.8888888888888888,
              "#fdca26"
             ],
             [
              1,
              "#f0f921"
             ]
            ],
            "type": "histogram2d"
           }
          ],
          "histogram2dcontour": [
           {
            "colorbar": {
             "outlinewidth": 0,
             "ticks": ""
            },
            "colorscale": [
             [
              0,
              "#0d0887"
             ],
             [
              0.1111111111111111,
              "#46039f"
             ],
             [
              0.2222222222222222,
              "#7201a8"
             ],
             [
              0.3333333333333333,
              "#9c179e"
             ],
             [
              0.4444444444444444,
              "#bd3786"
             ],
             [
              0.5555555555555556,
              "#d8576b"
             ],
             [
              0.6666666666666666,
              "#ed7953"
             ],
             [
              0.7777777777777778,
              "#fb9f3a"
             ],
             [
              0.8888888888888888,
              "#fdca26"
             ],
             [
              1,
              "#f0f921"
             ]
            ],
            "type": "histogram2dcontour"
           }
          ],
          "mesh3d": [
           {
            "colorbar": {
             "outlinewidth": 0,
             "ticks": ""
            },
            "type": "mesh3d"
           }
          ],
          "parcoords": [
           {
            "line": {
             "colorbar": {
              "outlinewidth": 0,
              "ticks": ""
             }
            },
            "type": "parcoords"
           }
          ],
          "pie": [
           {
            "automargin": true,
            "type": "pie"
           }
          ],
          "scatter": [
           {
            "marker": {
             "colorbar": {
              "outlinewidth": 0,
              "ticks": ""
             }
            },
            "type": "scatter"
           }
          ],
          "scatter3d": [
           {
            "line": {
             "colorbar": {
              "outlinewidth": 0,
              "ticks": ""
             }
            },
            "marker": {
             "colorbar": {
              "outlinewidth": 0,
              "ticks": ""
             }
            },
            "type": "scatter3d"
           }
          ],
          "scattercarpet": [
           {
            "marker": {
             "colorbar": {
              "outlinewidth": 0,
              "ticks": ""
             }
            },
            "type": "scattercarpet"
           }
          ],
          "scattergeo": [
           {
            "marker": {
             "colorbar": {
              "outlinewidth": 0,
              "ticks": ""
             }
            },
            "type": "scattergeo"
           }
          ],
          "scattergl": [
           {
            "marker": {
             "colorbar": {
              "outlinewidth": 0,
              "ticks": ""
             }
            },
            "type": "scattergl"
           }
          ],
          "scattermapbox": [
           {
            "marker": {
             "colorbar": {
              "outlinewidth": 0,
              "ticks": ""
             }
            },
            "type": "scattermapbox"
           }
          ],
          "scatterpolar": [
           {
            "marker": {
             "colorbar": {
              "outlinewidth": 0,
              "ticks": ""
             }
            },
            "type": "scatterpolar"
           }
          ],
          "scatterpolargl": [
           {
            "marker": {
             "colorbar": {
              "outlinewidth": 0,
              "ticks": ""
             }
            },
            "type": "scatterpolargl"
           }
          ],
          "scatterternary": [
           {
            "marker": {
             "colorbar": {
              "outlinewidth": 0,
              "ticks": ""
             }
            },
            "type": "scatterternary"
           }
          ],
          "surface": [
           {
            "colorbar": {
             "outlinewidth": 0,
             "ticks": ""
            },
            "colorscale": [
             [
              0,
              "#0d0887"
             ],
             [
              0.1111111111111111,
              "#46039f"
             ],
             [
              0.2222222222222222,
              "#7201a8"
             ],
             [
              0.3333333333333333,
              "#9c179e"
             ],
             [
              0.4444444444444444,
              "#bd3786"
             ],
             [
              0.5555555555555556,
              "#d8576b"
             ],
             [
              0.6666666666666666,
              "#ed7953"
             ],
             [
              0.7777777777777778,
              "#fb9f3a"
             ],
             [
              0.8888888888888888,
              "#fdca26"
             ],
             [
              1,
              "#f0f921"
             ]
            ],
            "type": "surface"
           }
          ],
          "table": [
           {
            "cells": {
             "fill": {
              "color": "#EBF0F8"
             },
             "line": {
              "color": "white"
             }
            },
            "header": {
             "fill": {
              "color": "#C8D4E3"
             },
             "line": {
              "color": "white"
             }
            },
            "type": "table"
           }
          ]
         },
         "layout": {
          "annotationdefaults": {
           "arrowcolor": "#2a3f5f",
           "arrowhead": 0,
           "arrowwidth": 1
          },
          "coloraxis": {
           "colorbar": {
            "outlinewidth": 0,
            "ticks": ""
           }
          },
          "colorscale": {
           "diverging": [
            [
             0,
             "#8e0152"
            ],
            [
             0.1,
             "#c51b7d"
            ],
            [
             0.2,
             "#de77ae"
            ],
            [
             0.3,
             "#f1b6da"
            ],
            [
             0.4,
             "#fde0ef"
            ],
            [
             0.5,
             "#f7f7f7"
            ],
            [
             0.6,
             "#e6f5d0"
            ],
            [
             0.7,
             "#b8e186"
            ],
            [
             0.8,
             "#7fbc41"
            ],
            [
             0.9,
             "#4d9221"
            ],
            [
             1,
             "#276419"
            ]
           ],
           "sequential": [
            [
             0,
             "#0d0887"
            ],
            [
             0.1111111111111111,
             "#46039f"
            ],
            [
             0.2222222222222222,
             "#7201a8"
            ],
            [
             0.3333333333333333,
             "#9c179e"
            ],
            [
             0.4444444444444444,
             "#bd3786"
            ],
            [
             0.5555555555555556,
             "#d8576b"
            ],
            [
             0.6666666666666666,
             "#ed7953"
            ],
            [
             0.7777777777777778,
             "#fb9f3a"
            ],
            [
             0.8888888888888888,
             "#fdca26"
            ],
            [
             1,
             "#f0f921"
            ]
           ],
           "sequentialminus": [
            [
             0,
             "#0d0887"
            ],
            [
             0.1111111111111111,
             "#46039f"
            ],
            [
             0.2222222222222222,
             "#7201a8"
            ],
            [
             0.3333333333333333,
             "#9c179e"
            ],
            [
             0.4444444444444444,
             "#bd3786"
            ],
            [
             0.5555555555555556,
             "#d8576b"
            ],
            [
             0.6666666666666666,
             "#ed7953"
            ],
            [
             0.7777777777777778,
             "#fb9f3a"
            ],
            [
             0.8888888888888888,
             "#fdca26"
            ],
            [
             1,
             "#f0f921"
            ]
           ]
          },
          "colorway": [
           "#636efa",
           "#EF553B",
           "#00cc96",
           "#ab63fa",
           "#FFA15A",
           "#19d3f3",
           "#FF6692",
           "#B6E880",
           "#FF97FF",
           "#FECB52"
          ],
          "font": {
           "color": "#2a3f5f"
          },
          "geo": {
           "bgcolor": "white",
           "lakecolor": "white",
           "landcolor": "#E5ECF6",
           "showlakes": true,
           "showland": true,
           "subunitcolor": "white"
          },
          "hoverlabel": {
           "align": "left"
          },
          "hovermode": "closest",
          "mapbox": {
           "style": "light"
          },
          "paper_bgcolor": "white",
          "plot_bgcolor": "#E5ECF6",
          "polar": {
           "angularaxis": {
            "gridcolor": "white",
            "linecolor": "white",
            "ticks": ""
           },
           "bgcolor": "#E5ECF6",
           "radialaxis": {
            "gridcolor": "white",
            "linecolor": "white",
            "ticks": ""
           }
          },
          "scene": {
           "xaxis": {
            "backgroundcolor": "#E5ECF6",
            "gridcolor": "white",
            "gridwidth": 2,
            "linecolor": "white",
            "showbackground": true,
            "ticks": "",
            "zerolinecolor": "white"
           },
           "yaxis": {
            "backgroundcolor": "#E5ECF6",
            "gridcolor": "white",
            "gridwidth": 2,
            "linecolor": "white",
            "showbackground": true,
            "ticks": "",
            "zerolinecolor": "white"
           },
           "zaxis": {
            "backgroundcolor": "#E5ECF6",
            "gridcolor": "white",
            "gridwidth": 2,
            "linecolor": "white",
            "showbackground": true,
            "ticks": "",
            "zerolinecolor": "white"
           }
          },
          "shapedefaults": {
           "line": {
            "color": "#2a3f5f"
           }
          },
          "ternary": {
           "aaxis": {
            "gridcolor": "white",
            "linecolor": "white",
            "ticks": ""
           },
           "baxis": {
            "gridcolor": "white",
            "linecolor": "white",
            "ticks": ""
           },
           "bgcolor": "#E5ECF6",
           "caxis": {
            "gridcolor": "white",
            "linecolor": "white",
            "ticks": ""
           }
          },
          "title": {
           "x": 0.05
          },
          "xaxis": {
           "automargin": true,
           "gridcolor": "white",
           "linecolor": "white",
           "ticks": "",
           "title": {
            "standoff": 15
           },
           "zerolinecolor": "white",
           "zerolinewidth": 2
          },
          "yaxis": {
           "automargin": true,
           "gridcolor": "white",
           "linecolor": "white",
           "ticks": "",
           "title": {
            "standoff": 15
           },
           "zerolinecolor": "white",
           "zerolinewidth": 2
          }
         }
        },
        "title": {
         "text": "Total vehicles for sensor N00/002e1"
        }
       }
      }
     },
     "metadata": {}
    }
   ],
   "source": [
    "# show a plot in more detail\n",
    "\n",
    "detector_id = \"N00/002e1\"\n",
    "kernel_id = \"matern32_ls=1_v=1\"\n",
    "\n",
    "sensor_df = normal_df.loc[normal_df.detector_id==detector_id]\n",
    "model = load_model_from_file(name, kernel_id, detector_id, prefix=prefix, xp_root=xpfp)\n",
    "X, Y = load_processed_data_from_file(name, detector_id, prefix=prefix, xp_root=xpfp)\n",
    "\n",
    "data = plotly_results(sensor_df, detector_id, model, X, num_samples=1000)\n",
    "fig = go.Figure(data=data, layout=dict(title=\"Total vehicles for sensor {id}\".format(id=detector_id)))\n",
    "fig.show()"
   ]
  },
  {
   "cell_type": "code",
   "execution_count": 57,
   "metadata": {},
   "outputs": [],
   "source": [
    "\n",
    "detector_list = scoot_settings[\"scoot_ids\"]\n",
    "kernel_list = list(kernel_settings.keys())\n",
    "num_cols = len(detector_list)     # detectors on columns\n",
    "num_rows = len(kernel_list)   # kernels on rows\n",
    "\n",
    "import itertools\n",
    "titles = [d + \" with \" + str(k) + \" kernel\" for k, d in itertools.product(kernel_list, detector_list)]\n",
    "\n",
    "fig = make_subplots(\n",
    "    rows=num_rows, cols=num_cols, subplot_titles=titles, shared_xaxes=False, shared_yaxes=True\n",
    ")\n",
    "\n",
    "for i in range(num_cols):\n",
    "    for j in range(num_rows):\n",
    "        detector_id = detector_list[i]\n",
    "        sensor_df = normal_df.loc[normal_df.detector_id==detector_id]\n",
    "        kernel_id = kernel_list[j]\n",
    "        k = i * num_cols + j  # index of borough in name list\n",
    "        if k == len(titles):\n",
    "            break\n",
    "\n",
    "        model = load_model_from_file(name, kernel_id, detector_id, prefix=prefix, xp_root=xpfp)\n",
    "        X, Y = load_processed_data_from_file(name, detector_id, prefix=prefix, xp_root=xpfp)\n",
    "\n",
    "        data = plotly_results(sensor_df, detector_id, model, X, num_samples=1000)\n",
    "        for d in data:\n",
    "            fig.add_trace(d, row=j+1, col=i+1)\n",
    "        \n",
    "        # fig.add_trace(go.Scatter(\n",
    "        #     x=b_df[\"measurement_start_utc\"], y=b_df[col]\n",
    "        # ), row=i+1, col=j+1)"
   ]
  },
  {
   "cell_type": "code",
   "execution_count": 59,
   "metadata": {},
   "outputs": [
    {
     "output_type": "display_data",
     "data": {
      "application/vnd.plotly.v1+json": {
       "config": {
        "plotlyServerURL": "https://plot.ly"
       },
       "data": [
        {
         "line": {
          "width": 0
         },
         "marker": {
          "color": "#444"
         },
         "mode": "lines",
         "name": "$Counts \\mu-2\\sigma$",
         "showlegend": false,
         "type": "scatter",
         "x": [
          "2020-02-10 00:00:00",
          "2020-02-10 01:00:00",
          "2020-02-10 02:00:00",
          "2020-02-10 03:00:00",
          "2020-02-10 04:00:00",
          "2020-02-10 05:00:00",
          "2020-02-10 06:00:00",
          "2020-02-10 07:00:00",
          "2020-02-10 08:00:00",
          "2020-02-10 09:00:00",
          "2020-02-10 10:00:00",
          "2020-02-10 11:00:00",
          "2020-02-10 12:00:00",
          "2020-02-10 13:00:00",
          "2020-02-10 14:00:00",
          "2020-02-10 15:00:00",
          "2020-02-10 16:00:00",
          "2020-02-10 17:00:00",
          "2020-02-10 18:00:00",
          "2020-02-10 19:00:00",
          "2020-02-10 20:00:00",
          "2020-02-10 21:00:00",
          "2020-02-10 22:00:00",
          "2020-02-10 23:00:00"
         ],
         "xaxis": "x",
         "y": [
          49.43989525379446,
          51.85364227783707,
          57.07431615230016,
          64.0257918227602,
          74.0707886525988,
          86.14992069037068,
          103.79717463102378,
          124.23985702575351,
          145.6120427059768,
          168.86505564653189,
          190.73862674381942,
          207.05372009515784,
          221.283260335945,
          226.67584132115886,
          227.5653717246173,
          221.9284460894674,
          217.22655552011727,
          208.87952431631345,
          202.13509222821426,
          199.65864644923113,
          202.94590690886838,
          209.6462560571323,
          224.01640719037712,
          238.9787210342241
         ],
         "yaxis": "y"
        },
        {
         "fill": "tonexty",
         "fillcolor": "rgba(255,0,0,0.3)",
         "line": {
          "color": "rgb(255, 0, 0)"
         },
         "mode": "lines",
         "name": "Count predictions",
         "type": "scatter",
         "x": [
          "2020-02-10 00:00:00",
          "2020-02-10 01:00:00",
          "2020-02-10 02:00:00",
          "2020-02-10 03:00:00",
          "2020-02-10 04:00:00",
          "2020-02-10 05:00:00",
          "2020-02-10 06:00:00",
          "2020-02-10 07:00:00",
          "2020-02-10 08:00:00",
          "2020-02-10 09:00:00",
          "2020-02-10 10:00:00",
          "2020-02-10 11:00:00",
          "2020-02-10 12:00:00",
          "2020-02-10 13:00:00",
          "2020-02-10 14:00:00",
          "2020-02-10 15:00:00",
          "2020-02-10 16:00:00",
          "2020-02-10 17:00:00",
          "2020-02-10 18:00:00",
          "2020-02-10 19:00:00",
          "2020-02-10 20:00:00",
          "2020-02-10 21:00:00",
          "2020-02-10 22:00:00",
          "2020-02-10 23:00:00"
         ],
         "xaxis": "x",
         "y": [
          69.202,
          71.225,
          75.997,
          83.651,
          95.325,
          109.823,
          128.283,
          150.381,
          173.957,
          199.415,
          222.749,
          241.094,
          255.318,
          261.564,
          262.349,
          256.706,
          250.496,
          241.99,
          235.666,
          233.282,
          235.774,
          243.826,
          259.13,
          283.185
         ],
         "yaxis": "y"
        },
        {
         "fill": "tonexty",
         "fillcolor": "rgba(255,0,0,0.3)",
         "line": {
          "width": 0
         },
         "marker": {
          "color": "#444"
         },
         "mode": "lines",
         "name": "$Counts \\mu+2\\sigma$",
         "showlegend": false,
         "type": "scatter",
         "x": [
          "2020-02-10 00:00:00",
          "2020-02-10 01:00:00",
          "2020-02-10 02:00:00",
          "2020-02-10 03:00:00",
          "2020-02-10 04:00:00",
          "2020-02-10 05:00:00",
          "2020-02-10 06:00:00",
          "2020-02-10 07:00:00",
          "2020-02-10 08:00:00",
          "2020-02-10 09:00:00",
          "2020-02-10 10:00:00",
          "2020-02-10 11:00:00",
          "2020-02-10 12:00:00",
          "2020-02-10 13:00:00",
          "2020-02-10 14:00:00",
          "2020-02-10 15:00:00",
          "2020-02-10 16:00:00",
          "2020-02-10 17:00:00",
          "2020-02-10 18:00:00",
          "2020-02-10 19:00:00",
          "2020-02-10 20:00:00",
          "2020-02-10 21:00:00",
          "2020-02-10 22:00:00",
          "2020-02-10 23:00:00"
         ],
         "xaxis": "x",
         "y": [
          88.96410474620554,
          90.59635772216292,
          94.91968384769984,
          103.2762081772398,
          116.57921134740121,
          133.49607930962932,
          152.7688253689762,
          176.5221429742465,
          202.3019572940232,
          229.9649443534681,
          254.75937325618057,
          275.1342799048421,
          289.35273966405504,
          296.4521586788412,
          297.1326282753827,
          291.48355391053263,
          283.7654444798827,
          275.10047568368657,
          269.19690777178573,
          266.9053535507689,
          268.6020930911316,
          278.0057439428677,
          294.24359280962284,
          327.3912789657759
         ],
         "yaxis": "y"
        },
        {
         "line": {
          "width": 0
         },
         "marker": {
          "color": "#444"
         },
         "mode": "lines",
         "name": "$Intensity \\mu-2\\sigma$",
         "showlegend": false,
         "type": "scatter",
         "x": [
          "2020-02-10 00:00:00",
          "2020-02-10 01:00:00",
          "2020-02-10 02:00:00",
          "2020-02-10 03:00:00",
          "2020-02-10 04:00:00",
          "2020-02-10 05:00:00",
          "2020-02-10 06:00:00",
          "2020-02-10 07:00:00",
          "2020-02-10 08:00:00",
          "2020-02-10 09:00:00",
          "2020-02-10 10:00:00",
          "2020-02-10 11:00:00",
          "2020-02-10 12:00:00",
          "2020-02-10 13:00:00",
          "2020-02-10 14:00:00",
          "2020-02-10 15:00:00",
          "2020-02-10 16:00:00",
          "2020-02-10 17:00:00",
          "2020-02-10 18:00:00",
          "2020-02-10 19:00:00",
          "2020-02-10 20:00:00",
          "2020-02-10 21:00:00",
          "2020-02-10 22:00:00",
          "2020-02-10 23:00:00"
         ],
         "xaxis": "x",
         "y": [
          57.21930617534797,
          62.68706506555833,
          68.68231466772966,
          76.37573304262918,
          86.98237298137185,
          101.23176842211592,
          119.27368194608805,
          140.60808431910218,
          164.1985388006816,
          188.23079224208925,
          210.53393758267208,
          228.92617917961672,
          241.66434541078542,
          247.98885968521603,
          248.23498456694094,
          243.89401177664706,
          236.82747812729966,
          229.14813953924383,
          222.7336524605733,
          219.6144989405241,
          221.29659660974409,
          228.93668653189,
          241.39756912078184,
          254.37838825511852
         ],
         "yaxis": "y"
        },
        {
         "fill": "tonexty",
         "fillcolor": "rgba(0,255,0,0.3)",
         "line": {
          "color": "rgb(0, 255, 0)"
         },
         "mode": "lines",
         "name": "Intensity predictions",
         "type": "scatter",
         "x": [
          "2020-02-10 00:00:00",
          "2020-02-10 01:00:00",
          "2020-02-10 02:00:00",
          "2020-02-10 03:00:00",
          "2020-02-10 04:00:00",
          "2020-02-10 05:00:00",
          "2020-02-10 06:00:00",
          "2020-02-10 07:00:00",
          "2020-02-10 08:00:00",
          "2020-02-10 09:00:00",
          "2020-02-10 10:00:00",
          "2020-02-10 11:00:00",
          "2020-02-10 12:00:00",
          "2020-02-10 13:00:00",
          "2020-02-10 14:00:00",
          "2020-02-10 15:00:00",
          "2020-02-10 16:00:00",
          "2020-02-10 17:00:00",
          "2020-02-10 18:00:00",
          "2020-02-10 19:00:00",
          "2020-02-10 20:00:00",
          "2020-02-10 21:00:00",
          "2020-02-10 22:00:00",
          "2020-02-10 23:00:00"
         ],
         "xaxis": "x",
         "y": [
          69.23878708303604,
          71.22925493201654,
          76.04483376784769,
          83.91577476723303,
          95.17442135135994,
          110.08850445689511,
          128.72333051429945,
          150.67996429532155,
          174.96282542310163,
          199.81853084792237,
          223.00359718991476,
          242.13278070288877,
          255.32024068524592,
          261.80373696246767,
          261.9340698924162,
          257.30257092134144,
          249.9454119929879,
          242.205341094494,
          236.1310400900284,
          233.40922134617207,
          235.44407961261297,
          243.42938948404202,
          258.4369722906535,
          281.58039094121233
         ],
         "yaxis": "y"
        },
        {
         "fill": "tonexty",
         "fillcolor": "rgba(0,255,0,0.3)",
         "line": {
          "width": 0
         },
         "marker": {
          "color": "#444"
         },
         "mode": "lines",
         "name": "Intensity $\\mu+2\\sigma$",
         "showlegend": false,
         "type": "scatter",
         "x": [
          "2020-02-10 00:00:00",
          "2020-02-10 01:00:00",
          "2020-02-10 02:00:00",
          "2020-02-10 03:00:00",
          "2020-02-10 04:00:00",
          "2020-02-10 05:00:00",
          "2020-02-10 06:00:00",
          "2020-02-10 07:00:00",
          "2020-02-10 08:00:00",
          "2020-02-10 09:00:00",
          "2020-02-10 10:00:00",
          "2020-02-10 11:00:00",
          "2020-02-10 12:00:00",
          "2020-02-10 13:00:00",
          "2020-02-10 14:00:00",
          "2020-02-10 15:00:00",
          "2020-02-10 16:00:00",
          "2020-02-10 17:00:00",
          "2020-02-10 18:00:00",
          "2020-02-10 19:00:00",
          "2020-02-10 20:00:00",
          "2020-02-10 21:00:00",
          "2020-02-10 22:00:00",
          "2020-02-10 23:00:00"
         ],
         "xaxis": "x",
         "y": [
          81.25826799072412,
          79.77144479847476,
          83.40735286796573,
          91.45581649183688,
          103.36646972134803,
          118.9452404916743,
          138.17297908251084,
          160.75184427154093,
          185.72711204552166,
          211.4062694537555,
          235.47325679715743,
          255.3393822261608,
          268.9761359597064,
          275.6186142397193,
          275.6331552178914,
          270.7111300660358,
          263.0633458586762,
          255.26254264974418,
          249.5284277194835,
          247.20394375182005,
          249.59156261548185,
          257.9220924361941,
          275.47637546052516,
          308.78239362730613
         ],
         "yaxis": "y"
        },
        {
         "line": {
          "color": "#1f77b4"
         },
         "mode": "lines+markers",
         "name": "Actual counts",
         "type": "scatter",
         "x": [
          "2020-02-10 00:00:00",
          "2020-02-10 01:00:00",
          "2020-02-10 02:00:00",
          "2020-02-10 03:00:00",
          "2020-02-10 04:00:00",
          "2020-02-10 05:00:00",
          "2020-02-10 06:00:00",
          "2020-02-10 07:00:00",
          "2020-02-10 08:00:00",
          "2020-02-10 09:00:00",
          "2020-02-10 10:00:00",
          "2020-02-10 11:00:00",
          "2020-02-10 12:00:00",
          "2020-02-10 13:00:00",
          "2020-02-10 14:00:00",
          "2020-02-10 15:00:00",
          "2020-02-10 16:00:00",
          "2020-02-10 17:00:00",
          "2020-02-10 18:00:00",
          "2020-02-10 19:00:00",
          "2020-02-10 20:00:00",
          "2020-02-10 21:00:00",
          "2020-02-10 22:00:00",
          "2020-02-10 23:00:00"
         ],
         "xaxis": "x",
         "y": [
          88,
          75,
          61,
          67,
          74,
          97,
          153,
          185,
          207,
          202,
          192,
          210,
          244,
          252,
          275,
          278,
          260,
          274,
          199,
          247,
          236,
          195,
          274,
          300
         ],
         "yaxis": "y"
        },
        {
         "line": {
          "width": 0
         },
         "marker": {
          "color": "#444"
         },
         "mode": "lines",
         "name": "$Counts \\mu-2\\sigma$",
         "showlegend": false,
         "type": "scatter",
         "x": [
          "2020-02-10 00:00:00",
          "2020-02-10 01:00:00",
          "2020-02-10 02:00:00",
          "2020-02-10 03:00:00",
          "2020-02-10 04:00:00",
          "2020-02-10 05:00:00",
          "2020-02-10 06:00:00",
          "2020-02-10 07:00:00",
          "2020-02-10 08:00:00",
          "2020-02-10 09:00:00",
          "2020-02-10 10:00:00",
          "2020-02-10 11:00:00",
          "2020-02-10 12:00:00",
          "2020-02-10 13:00:00",
          "2020-02-10 14:00:00",
          "2020-02-10 15:00:00",
          "2020-02-10 16:00:00",
          "2020-02-10 17:00:00",
          "2020-02-10 18:00:00",
          "2020-02-10 19:00:00",
          "2020-02-10 20:00:00",
          "2020-02-10 21:00:00",
          "2020-02-10 22:00:00",
          "2020-02-10 23:00:00"
         ],
         "xaxis": "x4",
         "y": [
          63.2407941089414,
          50.22996887969316,
          44.20190038299407,
          48.26852915167934,
          60.67591658124134,
          84.7784161127541,
          114.9264815703042,
          145.1895671633578,
          167.76759958483996,
          175.48311917787748,
          177.78821596086843,
          182.64594576772544,
          194.7735363270462,
          213.9094492660089,
          231.48109374521593,
          241.567754952357,
          235.29222449871284,
          218.92982559465554,
          199.02603637305813,
          185.3648738248912,
          184.97437616727882,
          195.4710330863188,
          224.28800451835195,
          248.091172299441
         ],
         "yaxis": "y4"
        },
        {
         "fill": "tonexty",
         "fillcolor": "rgba(255,0,0,0.3)",
         "line": {
          "color": "rgb(255, 0, 0)"
         },
         "mode": "lines",
         "name": "Count predictions",
         "type": "scatter",
         "x": [
          "2020-02-10 00:00:00",
          "2020-02-10 01:00:00",
          "2020-02-10 02:00:00",
          "2020-02-10 03:00:00",
          "2020-02-10 04:00:00",
          "2020-02-10 05:00:00",
          "2020-02-10 06:00:00",
          "2020-02-10 07:00:00",
          "2020-02-10 08:00:00",
          "2020-02-10 09:00:00",
          "2020-02-10 10:00:00",
          "2020-02-10 11:00:00",
          "2020-02-10 12:00:00",
          "2020-02-10 13:00:00",
          "2020-02-10 14:00:00",
          "2020-02-10 15:00:00",
          "2020-02-10 16:00:00",
          "2020-02-10 17:00:00",
          "2020-02-10 18:00:00",
          "2020-02-10 19:00:00",
          "2020-02-10 20:00:00",
          "2020-02-10 21:00:00",
          "2020-02-10 22:00:00",
          "2020-02-10 23:00:00"
         ],
         "xaxis": "x4",
         "y": [
          87.834,
          69.51,
          62.492,
          66.728,
          81.121,
          108.392,
          142.918,
          176.518,
          199.129,
          207.708,
          210.72,
          215.394,
          229.104,
          249.603,
          269.755,
          280.293,
          273.593,
          255.153,
          233.832,
          219.504,
          218.874,
          231.634,
          262.023,
          297.566
         ],
         "yaxis": "y4"
        },
        {
         "fill": "tonexty",
         "fillcolor": "rgba(255,0,0,0.3)",
         "line": {
          "width": 0
         },
         "marker": {
          "color": "#444"
         },
         "mode": "lines",
         "name": "$Counts \\mu+2\\sigma$",
         "showlegend": false,
         "type": "scatter",
         "x": [
          "2020-02-10 00:00:00",
          "2020-02-10 01:00:00",
          "2020-02-10 02:00:00",
          "2020-02-10 03:00:00",
          "2020-02-10 04:00:00",
          "2020-02-10 05:00:00",
          "2020-02-10 06:00:00",
          "2020-02-10 07:00:00",
          "2020-02-10 08:00:00",
          "2020-02-10 09:00:00",
          "2020-02-10 10:00:00",
          "2020-02-10 11:00:00",
          "2020-02-10 12:00:00",
          "2020-02-10 13:00:00",
          "2020-02-10 14:00:00",
          "2020-02-10 15:00:00",
          "2020-02-10 16:00:00",
          "2020-02-10 17:00:00",
          "2020-02-10 18:00:00",
          "2020-02-10 19:00:00",
          "2020-02-10 20:00:00",
          "2020-02-10 21:00:00",
          "2020-02-10 22:00:00",
          "2020-02-10 23:00:00"
         ],
         "xaxis": "x4",
         "y": [
          112.4272058910586,
          88.79003112030685,
          80.78209961700593,
          85.18747084832066,
          101.56608341875865,
          132.0055838872459,
          170.90951842969582,
          207.8464328366422,
          230.49040041516002,
          239.9328808221225,
          243.65178403913157,
          248.14205423227457,
          263.4344636729538,
          285.2965507339911,
          308.0289062547841,
          319.018245047643,
          311.8937755012872,
          291.37617440534444,
          268.6379636269419,
          253.6431261751088,
          252.77362383272117,
          267.79696691368116,
          299.7579954816481,
          347.0408277005589
         ],
         "yaxis": "y4"
        },
        {
         "line": {
          "width": 0
         },
         "marker": {
          "color": "#444"
         },
         "mode": "lines",
         "name": "$Intensity \\mu-2\\sigma$",
         "showlegend": false,
         "type": "scatter",
         "x": [
          "2020-02-10 00:00:00",
          "2020-02-10 01:00:00",
          "2020-02-10 02:00:00",
          "2020-02-10 03:00:00",
          "2020-02-10 04:00:00",
          "2020-02-10 05:00:00",
          "2020-02-10 06:00:00",
          "2020-02-10 07:00:00",
          "2020-02-10 08:00:00",
          "2020-02-10 09:00:00",
          "2020-02-10 10:00:00",
          "2020-02-10 11:00:00",
          "2020-02-10 12:00:00",
          "2020-02-10 13:00:00",
          "2020-02-10 14:00:00",
          "2020-02-10 15:00:00",
          "2020-02-10 16:00:00",
          "2020-02-10 17:00:00",
          "2020-02-10 18:00:00",
          "2020-02-10 19:00:00",
          "2020-02-10 20:00:00",
          "2020-02-10 21:00:00",
          "2020-02-10 22:00:00",
          "2020-02-10 23:00:00"
         ],
         "xaxis": "x4",
         "y": [
          71.17459175720879,
          60.04987498732858,
          53.736234372098465,
          57.56909518591354,
          71.66728132744079,
          96.20234297757273,
          128.6115501354771,
          160.57713554513535,
          182.0632086237328,
          190.88468707897025,
          194.0762872150348,
          200.03396279968234,
          213.2958845518856,
          232.8195941437163,
          251.9597990341638,
          261.35279077830523,
          255.7822331519011,
          238.13131949988025,
          217.49050476325093,
          203.40345536613802,
          201.4624582479293,
          214.01743278452943,
          241.79497478494932,
          264.4680283075284
         ],
         "yaxis": "y4"
        },
        {
         "fill": "tonexty",
         "fillcolor": "rgba(0,255,0,0.3)",
         "line": {
          "color": "rgb(0, 255, 0)"
         },
         "mode": "lines",
         "name": "Intensity predictions",
         "type": "scatter",
         "x": [
          "2020-02-10 00:00:00",
          "2020-02-10 01:00:00",
          "2020-02-10 02:00:00",
          "2020-02-10 03:00:00",
          "2020-02-10 04:00:00",
          "2020-02-10 05:00:00",
          "2020-02-10 06:00:00",
          "2020-02-10 07:00:00",
          "2020-02-10 08:00:00",
          "2020-02-10 09:00:00",
          "2020-02-10 10:00:00",
          "2020-02-10 11:00:00",
          "2020-02-10 12:00:00",
          "2020-02-10 13:00:00",
          "2020-02-10 14:00:00",
          "2020-02-10 15:00:00",
          "2020-02-10 16:00:00",
          "2020-02-10 17:00:00",
          "2020-02-10 18:00:00",
          "2020-02-10 19:00:00",
          "2020-02-10 20:00:00",
          "2020-02-10 21:00:00",
          "2020-02-10 22:00:00",
          "2020-02-10 23:00:00"
         ],
         "xaxis": "x4",
         "y": [
          87.81958181065258,
          69.44565893203311,
          62.50268431434502,
          66.22489063292642,
          81.0220518012127,
          107.31164575301788,
          141.8698206460467,
          175.52680066019724,
          198.162133665479,
          207.65226805150698,
          210.89581994034197,
          216.72495093976403,
          230.1941610154839,
          250.38795689143137,
          270.4473224835871,
          280.39274664558593,
          274.2691949623496,
          255.36470278948357,
          233.7588442226919,
          219.37769087126122,
          218.312877838457,
          233.00272452764227,
          262.0654689626456,
          298.0370069647683
         ],
         "yaxis": "y4"
        },
        {
         "fill": "tonexty",
         "fillcolor": "rgba(0,255,0,0.3)",
         "line": {
          "width": 0
         },
         "marker": {
          "color": "#444"
         },
         "mode": "lines",
         "name": "Intensity $\\mu+2\\sigma$",
         "showlegend": false,
         "type": "scatter",
         "x": [
          "2020-02-10 00:00:00",
          "2020-02-10 01:00:00",
          "2020-02-10 02:00:00",
          "2020-02-10 03:00:00",
          "2020-02-10 04:00:00",
          "2020-02-10 05:00:00",
          "2020-02-10 06:00:00",
          "2020-02-10 07:00:00",
          "2020-02-10 08:00:00",
          "2020-02-10 09:00:00",
          "2020-02-10 10:00:00",
          "2020-02-10 11:00:00",
          "2020-02-10 12:00:00",
          "2020-02-10 13:00:00",
          "2020-02-10 14:00:00",
          "2020-02-10 15:00:00",
          "2020-02-10 16:00:00",
          "2020-02-10 17:00:00",
          "2020-02-10 18:00:00",
          "2020-02-10 19:00:00",
          "2020-02-10 20:00:00",
          "2020-02-10 21:00:00",
          "2020-02-10 22:00:00",
          "2020-02-10 23:00:00"
         ],
         "xaxis": "x4",
         "y": [
          104.46457186409637,
          78.84144287673764,
          71.26913425659157,
          74.8806860799393,
          90.3768222749846,
          118.42094852846304,
          155.12809115661628,
          190.47646577525913,
          214.26105870722517,
          224.4198490240437,
          227.71535266564914,
          233.4159390798457,
          247.0924374790822,
          267.95631963914644,
          288.93484593301037,
          299.4327025128666,
          292.75615677279814,
          272.5980860790869,
          250.02718368213286,
          235.35192637638443,
          235.16329742898472,
          251.9880162707551,
          282.33596314034185,
          331.6059856220082
         ],
         "yaxis": "y4"
        },
        {
         "line": {
          "color": "#1f77b4"
         },
         "mode": "lines+markers",
         "name": "Actual counts",
         "type": "scatter",
         "x": [
          "2020-02-10 00:00:00",
          "2020-02-10 01:00:00",
          "2020-02-10 02:00:00",
          "2020-02-10 03:00:00",
          "2020-02-10 04:00:00",
          "2020-02-10 05:00:00",
          "2020-02-10 06:00:00",
          "2020-02-10 07:00:00",
          "2020-02-10 08:00:00",
          "2020-02-10 09:00:00",
          "2020-02-10 10:00:00",
          "2020-02-10 11:00:00",
          "2020-02-10 12:00:00",
          "2020-02-10 13:00:00",
          "2020-02-10 14:00:00",
          "2020-02-10 15:00:00",
          "2020-02-10 16:00:00",
          "2020-02-10 17:00:00",
          "2020-02-10 18:00:00",
          "2020-02-10 19:00:00",
          "2020-02-10 20:00:00",
          "2020-02-10 21:00:00",
          "2020-02-10 22:00:00",
          "2020-02-10 23:00:00"
         ],
         "xaxis": "x4",
         "y": [
          88,
          75,
          61,
          67,
          74,
          97,
          153,
          185,
          207,
          202,
          192,
          210,
          244,
          252,
          275,
          278,
          260,
          274,
          199,
          247,
          236,
          195,
          274,
          300
         ],
         "yaxis": "y4"
        },
        {
         "line": {
          "width": 0
         },
         "marker": {
          "color": "#444"
         },
         "mode": "lines",
         "name": "$Counts \\mu-2\\sigma$",
         "showlegend": false,
         "type": "scatter",
         "x": [
          "2020-02-10 00:00:00",
          "2020-02-10 01:00:00",
          "2020-02-10 02:00:00",
          "2020-02-10 03:00:00",
          "2020-02-10 04:00:00",
          "2020-02-10 05:00:00",
          "2020-02-10 06:00:00",
          "2020-02-10 07:00:00",
          "2020-02-10 08:00:00",
          "2020-02-10 09:00:00",
          "2020-02-10 10:00:00",
          "2020-02-10 11:00:00",
          "2020-02-10 12:00:00",
          "2020-02-10 13:00:00",
          "2020-02-10 14:00:00",
          "2020-02-10 15:00:00",
          "2020-02-10 16:00:00",
          "2020-02-10 17:00:00",
          "2020-02-10 18:00:00",
          "2020-02-10 19:00:00",
          "2020-02-10 20:00:00",
          "2020-02-10 21:00:00",
          "2020-02-10 22:00:00",
          "2020-02-10 23:00:00"
         ],
         "xaxis": "x7",
         "y": [
          47.35149592459047,
          52.736148322822174,
          56.802812526613174,
          63.94639030535032,
          74.43315093862057,
          88.33824239300829,
          104.72238798034401,
          124.77510460431668,
          146.80858013240513,
          168.9868513136521,
          191.15603545165945,
          208.47572752267547,
          220.72091164131294,
          226.28775070993436,
          225.8492588733443,
          222.82461714539957,
          214.26157090777065,
          207.58057573934192,
          201.4969832669479,
          201.03570560567502,
          201.30900358191445,
          209.38248626973433,
          222.4810820485798,
          237.38807286840736
         ],
         "yaxis": "y7"
        },
        {
         "fill": "tonexty",
         "fillcolor": "rgba(255,0,0,0.3)",
         "line": {
          "color": "rgb(255, 0, 0)"
         },
         "mode": "lines",
         "name": "Count predictions",
         "type": "scatter",
         "x": [
          "2020-02-10 00:00:00",
          "2020-02-10 01:00:00",
          "2020-02-10 02:00:00",
          "2020-02-10 03:00:00",
          "2020-02-10 04:00:00",
          "2020-02-10 05:00:00",
          "2020-02-10 06:00:00",
          "2020-02-10 07:00:00",
          "2020-02-10 08:00:00",
          "2020-02-10 09:00:00",
          "2020-02-10 10:00:00",
          "2020-02-10 11:00:00",
          "2020-02-10 12:00:00",
          "2020-02-10 13:00:00",
          "2020-02-10 14:00:00",
          "2020-02-10 15:00:00",
          "2020-02-10 16:00:00",
          "2020-02-10 17:00:00",
          "2020-02-10 18:00:00",
          "2020-02-10 19:00:00",
          "2020-02-10 20:00:00",
          "2020-02-10 21:00:00",
          "2020-02-10 22:00:00",
          "2020-02-10 23:00:00"
         ],
         "xaxis": "x7",
         "y": [
          68.423,
          71.034,
          76.251,
          84.238,
          95.753,
          110.682,
          128.976,
          150.969,
          174.664,
          199.521,
          223.383,
          242.086,
          255.013,
          260.842,
          260.648,
          257.27,
          249.196,
          242.531,
          235.89,
          234.046,
          235.369,
          243.75,
          259.191,
          279.855
         ],
         "yaxis": "y7"
        },
        {
         "fill": "tonexty",
         "fillcolor": "rgba(255,0,0,0.3)",
         "line": {
          "width": 0
         },
         "marker": {
          "color": "#444"
         },
         "mode": "lines",
         "name": "$Counts \\mu+2\\sigma$",
         "showlegend": false,
         "type": "scatter",
         "x": [
          "2020-02-10 00:00:00",
          "2020-02-10 01:00:00",
          "2020-02-10 02:00:00",
          "2020-02-10 03:00:00",
          "2020-02-10 04:00:00",
          "2020-02-10 05:00:00",
          "2020-02-10 06:00:00",
          "2020-02-10 07:00:00",
          "2020-02-10 08:00:00",
          "2020-02-10 09:00:00",
          "2020-02-10 10:00:00",
          "2020-02-10 11:00:00",
          "2020-02-10 12:00:00",
          "2020-02-10 13:00:00",
          "2020-02-10 14:00:00",
          "2020-02-10 15:00:00",
          "2020-02-10 16:00:00",
          "2020-02-10 17:00:00",
          "2020-02-10 18:00:00",
          "2020-02-10 19:00:00",
          "2020-02-10 20:00:00",
          "2020-02-10 21:00:00",
          "2020-02-10 22:00:00",
          "2020-02-10 23:00:00"
         ],
         "xaxis": "x7",
         "y": [
          89.49450407540954,
          89.33185167717784,
          95.69918747338684,
          104.52960969464968,
          117.07284906137943,
          133.0257576069917,
          153.22961201965597,
          177.1628953956833,
          202.51941986759485,
          230.05514868634788,
          255.60996454834057,
          275.69627247732456,
          289.30508835868704,
          295.3962492900656,
          295.44674112665575,
          291.71538285460036,
          284.13042909222935,
          277.4814242606581,
          270.2830167330521,
          267.05629439432494,
          269.42899641808555,
          278.11751373026567,
          295.9009179514202,
          322.32192713159264
         ],
         "yaxis": "y7"
        },
        {
         "line": {
          "width": 0
         },
         "marker": {
          "color": "#444"
         },
         "mode": "lines",
         "name": "$Intensity \\mu-2\\sigma$",
         "showlegend": false,
         "type": "scatter",
         "x": [
          "2020-02-10 00:00:00",
          "2020-02-10 01:00:00",
          "2020-02-10 02:00:00",
          "2020-02-10 03:00:00",
          "2020-02-10 04:00:00",
          "2020-02-10 05:00:00",
          "2020-02-10 06:00:00",
          "2020-02-10 07:00:00",
          "2020-02-10 08:00:00",
          "2020-02-10 09:00:00",
          "2020-02-10 10:00:00",
          "2020-02-10 11:00:00",
          "2020-02-10 12:00:00",
          "2020-02-10 13:00:00",
          "2020-02-10 14:00:00",
          "2020-02-10 15:00:00",
          "2020-02-10 16:00:00",
          "2020-02-10 17:00:00",
          "2020-02-10 18:00:00",
          "2020-02-10 19:00:00",
          "2020-02-10 20:00:00",
          "2020-02-10 21:00:00",
          "2020-02-10 22:00:00",
          "2020-02-10 23:00:00"
         ],
         "xaxis": "x7",
         "y": [
          56.58786565153035,
          62.27099561585143,
          68.57309282882292,
          76.60456957552053,
          87.41732313929465,
          101.6867041615615,
          119.61756791772369,
          140.79108982067262,
          164.1278133777388,
          187.91512110148398,
          209.9987691784826,
          228.19618892402485,
          240.84623926748694,
          247.2166732553579,
          247.65593470213906,
          243.43818435960176,
          236.44588520401305,
          228.64076840905918,
          222.2259444287356,
          219.07028658047307,
          220.9044631681367,
          228.57170081874352,
          240.71040598471615,
          253.0621702289861
         ],
         "yaxis": "y7"
        },
        {
         "fill": "tonexty",
         "fillcolor": "rgba(0,255,0,0.3)",
         "line": {
          "color": "rgb(0, 255, 0)"
         },
         "mode": "lines",
         "name": "Intensity predictions",
         "type": "scatter",
         "x": [
          "2020-02-10 00:00:00",
          "2020-02-10 01:00:00",
          "2020-02-10 02:00:00",
          "2020-02-10 03:00:00",
          "2020-02-10 04:00:00",
          "2020-02-10 05:00:00",
          "2020-02-10 06:00:00",
          "2020-02-10 07:00:00",
          "2020-02-10 08:00:00",
          "2020-02-10 09:00:00",
          "2020-02-10 10:00:00",
          "2020-02-10 11:00:00",
          "2020-02-10 12:00:00",
          "2020-02-10 13:00:00",
          "2020-02-10 14:00:00",
          "2020-02-10 15:00:00",
          "2020-02-10 16:00:00",
          "2020-02-10 17:00:00",
          "2020-02-10 18:00:00",
          "2020-02-10 19:00:00",
          "2020-02-10 20:00:00",
          "2020-02-10 21:00:00",
          "2020-02-10 22:00:00",
          "2020-02-10 23:00:00"
         ],
         "xaxis": "x7",
         "y": [
          68.30804738276174,
          70.9695678707384,
          76.19578066567547,
          84.31138169103444,
          95.6722588113518,
          110.55867183491847,
          129.09478843282383,
          150.87261325634714,
          174.93367943793896,
          199.5893204179194,
          222.6298342703891,
          241.6573417131887,
          254.87254563246609,
          261.38070255229434,
          261.635566610668,
          257.10355970622743,
          249.94243699085337,
          242.38057860212646,
          236.50747731835224,
          233.96138789000332,
          236.08081776445573,
          243.93284338776908,
          258.4774921262364,
          280.479316672463
         ],
         "yaxis": "y7"
        },
        {
         "fill": "tonexty",
         "fillcolor": "rgba(0,255,0,0.3)",
         "line": {
          "width": 0
         },
         "marker": {
          "color": "#444"
         },
         "mode": "lines",
         "name": "Intensity $\\mu+2\\sigma$",
         "showlegend": false,
         "type": "scatter",
         "x": [
          "2020-02-10 00:00:00",
          "2020-02-10 01:00:00",
          "2020-02-10 02:00:00",
          "2020-02-10 03:00:00",
          "2020-02-10 04:00:00",
          "2020-02-10 05:00:00",
          "2020-02-10 06:00:00",
          "2020-02-10 07:00:00",
          "2020-02-10 08:00:00",
          "2020-02-10 09:00:00",
          "2020-02-10 10:00:00",
          "2020-02-10 11:00:00",
          "2020-02-10 12:00:00",
          "2020-02-10 13:00:00",
          "2020-02-10 14:00:00",
          "2020-02-10 15:00:00",
          "2020-02-10 16:00:00",
          "2020-02-10 17:00:00",
          "2020-02-10 18:00:00",
          "2020-02-10 19:00:00",
          "2020-02-10 20:00:00",
          "2020-02-10 21:00:00",
          "2020-02-10 22:00:00",
          "2020-02-10 23:00:00"
         ],
         "xaxis": "x7",
         "y": [
          80.02822911399313,
          79.66814012562537,
          83.81846850252802,
          92.01819380654835,
          103.92719448340894,
          119.43063950827545,
          138.57200894792396,
          160.95413669202165,
          185.73954549813914,
          211.26351973435482,
          235.2608993622956,
          255.11849450235258,
          268.8988519974452,
          275.5447318492308,
          275.6151985191969,
          270.76893505285307,
          263.4389887776937,
          256.1203887951938,
          250.7890102079689,
          248.85248919953358,
          251.25717236077477,
          259.29398595679464,
          276.2445782677567,
          307.89646311594
         ],
         "yaxis": "y7"
        },
        {
         "line": {
          "color": "#1f77b4"
         },
         "mode": "lines+markers",
         "name": "Actual counts",
         "type": "scatter",
         "x": [
          "2020-02-10 00:00:00",
          "2020-02-10 01:00:00",
          "2020-02-10 02:00:00",
          "2020-02-10 03:00:00",
          "2020-02-10 04:00:00",
          "2020-02-10 05:00:00",
          "2020-02-10 06:00:00",
          "2020-02-10 07:00:00",
          "2020-02-10 08:00:00",
          "2020-02-10 09:00:00",
          "2020-02-10 10:00:00",
          "2020-02-10 11:00:00",
          "2020-02-10 12:00:00",
          "2020-02-10 13:00:00",
          "2020-02-10 14:00:00",
          "2020-02-10 15:00:00",
          "2020-02-10 16:00:00",
          "2020-02-10 17:00:00",
          "2020-02-10 18:00:00",
          "2020-02-10 19:00:00",
          "2020-02-10 20:00:00",
          "2020-02-10 21:00:00",
          "2020-02-10 22:00:00",
          "2020-02-10 23:00:00"
         ],
         "xaxis": "x7",
         "y": [
          88,
          75,
          61,
          67,
          74,
          97,
          153,
          185,
          207,
          202,
          192,
          210,
          244,
          252,
          275,
          278,
          260,
          274,
          199,
          247,
          236,
          195,
          274,
          300
         ],
         "yaxis": "y7"
        },
        {
         "line": {
          "width": 0
         },
         "marker": {
          "color": "#444"
         },
         "mode": "lines",
         "name": "$Counts \\mu-2\\sigma$",
         "showlegend": false,
         "type": "scatter",
         "x": [
          "2020-02-10 00:00:00",
          "2020-02-10 01:00:00",
          "2020-02-10 02:00:00",
          "2020-02-10 03:00:00",
          "2020-02-10 04:00:00",
          "2020-02-10 05:00:00",
          "2020-02-10 06:00:00",
          "2020-02-10 07:00:00",
          "2020-02-10 08:00:00",
          "2020-02-10 09:00:00",
          "2020-02-10 10:00:00",
          "2020-02-10 11:00:00",
          "2020-02-10 12:00:00",
          "2020-02-10 13:00:00",
          "2020-02-10 14:00:00",
          "2020-02-10 15:00:00",
          "2020-02-10 16:00:00",
          "2020-02-10 17:00:00",
          "2020-02-10 18:00:00",
          "2020-02-10 19:00:00",
          "2020-02-10 20:00:00",
          "2020-02-10 21:00:00",
          "2020-02-10 22:00:00",
          "2020-02-10 23:00:00"
         ],
         "xaxis": "x10",
         "y": [
          48.22540846148104,
          51.86812359121282,
          57.09073061414361,
          64.33311556853243,
          74.52371006321154,
          86.71799517657242,
          104.10843894998338,
          124.10724658198025,
          145.9470875821111,
          168.72599710906712,
          190.55146810891148,
          208.04414359719257,
          220.12416066649786,
          225.38733304182253,
          226.93595881258227,
          222.89219615216436,
          215.3107680069386,
          207.46637696018948,
          204.5501905257815,
          199.9994597857882,
          200.57284355495327,
          209.4862017871985,
          221.72927774037856,
          236.53877977306644
         ],
         "yaxis": "y10"
        },
        {
         "fill": "tonexty",
         "fillcolor": "rgba(255,0,0,0.3)",
         "line": {
          "color": "rgb(255, 0, 0)"
         },
         "mode": "lines",
         "name": "Count predictions",
         "type": "scatter",
         "x": [
          "2020-02-10 00:00:00",
          "2020-02-10 01:00:00",
          "2020-02-10 02:00:00",
          "2020-02-10 03:00:00",
          "2020-02-10 04:00:00",
          "2020-02-10 05:00:00",
          "2020-02-10 06:00:00",
          "2020-02-10 07:00:00",
          "2020-02-10 08:00:00",
          "2020-02-10 09:00:00",
          "2020-02-10 10:00:00",
          "2020-02-10 11:00:00",
          "2020-02-10 12:00:00",
          "2020-02-10 13:00:00",
          "2020-02-10 14:00:00",
          "2020-02-10 15:00:00",
          "2020-02-10 16:00:00",
          "2020-02-10 17:00:00",
          "2020-02-10 18:00:00",
          "2020-02-10 19:00:00",
          "2020-02-10 20:00:00",
          "2020-02-10 21:00:00",
          "2020-02-10 22:00:00",
          "2020-02-10 23:00:00"
         ],
         "xaxis": "x10",
         "y": [
          69.035,
          71.028,
          76.201,
          84.027,
          95.913,
          109.938,
          128.873,
          150.356,
          174.309,
          199.166,
          221.967,
          242.129,
          254.232,
          261.216,
          262.323,
          257.192,
          250.896,
          242.129,
          237.564,
          234.611,
          235.598,
          244.86,
          259.32,
          281.908
         ],
         "yaxis": "y10"
        },
        {
         "fill": "tonexty",
         "fillcolor": "rgba(255,0,0,0.3)",
         "line": {
          "width": 0
         },
         "marker": {
          "color": "#444"
         },
         "mode": "lines",
         "name": "$Counts \\mu+2\\sigma$",
         "showlegend": false,
         "type": "scatter",
         "x": [
          "2020-02-10 00:00:00",
          "2020-02-10 01:00:00",
          "2020-02-10 02:00:00",
          "2020-02-10 03:00:00",
          "2020-02-10 04:00:00",
          "2020-02-10 05:00:00",
          "2020-02-10 06:00:00",
          "2020-02-10 07:00:00",
          "2020-02-10 08:00:00",
          "2020-02-10 09:00:00",
          "2020-02-10 10:00:00",
          "2020-02-10 11:00:00",
          "2020-02-10 12:00:00",
          "2020-02-10 13:00:00",
          "2020-02-10 14:00:00",
          "2020-02-10 15:00:00",
          "2020-02-10 16:00:00",
          "2020-02-10 17:00:00",
          "2020-02-10 18:00:00",
          "2020-02-10 19:00:00",
          "2020-02-10 20:00:00",
          "2020-02-10 21:00:00",
          "2020-02-10 22:00:00",
          "2020-02-10 23:00:00"
         ],
         "xaxis": "x10",
         "y": [
          89.84459153851896,
          90.18787640878719,
          95.31126938585638,
          103.72088443146757,
          117.30228993678845,
          133.1580048234276,
          153.6375610500166,
          176.60475341801975,
          202.6709124178889,
          229.60600289093287,
          253.38253189108855,
          276.2138564028074,
          288.33983933350214,
          297.0446669581775,
          297.7100411874177,
          291.4918038478356,
          286.4812319930614,
          276.7916230398105,
          270.5778094742185,
          269.2225402142118,
          270.6231564450468,
          280.23379821280156,
          296.9107222596214,
          327.2772202269336
         ],
         "yaxis": "y10"
        },
        {
         "line": {
          "width": 0
         },
         "marker": {
          "color": "#444"
         },
         "mode": "lines",
         "name": "$Intensity \\mu-2\\sigma$",
         "showlegend": false,
         "type": "scatter",
         "x": [
          "2020-02-10 00:00:00",
          "2020-02-10 01:00:00",
          "2020-02-10 02:00:00",
          "2020-02-10 03:00:00",
          "2020-02-10 04:00:00",
          "2020-02-10 05:00:00",
          "2020-02-10 06:00:00",
          "2020-02-10 07:00:00",
          "2020-02-10 08:00:00",
          "2020-02-10 09:00:00",
          "2020-02-10 10:00:00",
          "2020-02-10 11:00:00",
          "2020-02-10 12:00:00",
          "2020-02-10 13:00:00",
          "2020-02-10 14:00:00",
          "2020-02-10 15:00:00",
          "2020-02-10 16:00:00",
          "2020-02-10 17:00:00",
          "2020-02-10 18:00:00",
          "2020-02-10 19:00:00",
          "2020-02-10 20:00:00",
          "2020-02-10 21:00:00",
          "2020-02-10 22:00:00",
          "2020-02-10 23:00:00"
         ],
         "xaxis": "x10",
         "y": [
          56.56774653843563,
          61.976558376179334,
          67.96576467306306,
          75.68921047883065,
          86.30749760519853,
          100.52521039852071,
          118.48326420535946,
          139.83097123228495,
          163.42849622371853,
          187.54405264809245,
          209.95729138344657,
          228.44320524482106,
          241.16509584720995,
          247.48939833426783,
          247.77298834635783,
          243.39344868583666,
          236.46028480189062,
          228.92969121853946,
          222.81300724491092,
          219.8092663966324,
          221.53399666578028,
          228.93336374428267,
          241.4410635827654,
          255.55166270143863
         ],
         "yaxis": "y10"
        },
        {
         "fill": "tonexty",
         "fillcolor": "rgba(0,255,0,0.3)",
         "line": {
          "color": "rgb(0, 255, 0)"
         },
         "mode": "lines",
         "name": "Intensity predictions",
         "type": "scatter",
         "x": [
          "2020-02-10 00:00:00",
          "2020-02-10 01:00:00",
          "2020-02-10 02:00:00",
          "2020-02-10 03:00:00",
          "2020-02-10 04:00:00",
          "2020-02-10 05:00:00",
          "2020-02-10 06:00:00",
          "2020-02-10 07:00:00",
          "2020-02-10 08:00:00",
          "2020-02-10 09:00:00",
          "2020-02-10 10:00:00",
          "2020-02-10 11:00:00",
          "2020-02-10 12:00:00",
          "2020-02-10 13:00:00",
          "2020-02-10 14:00:00",
          "2020-02-10 15:00:00",
          "2020-02-10 16:00:00",
          "2020-02-10 17:00:00",
          "2020-02-10 18:00:00",
          "2020-02-10 19:00:00",
          "2020-02-10 20:00:00",
          "2020-02-10 21:00:00",
          "2020-02-10 22:00:00",
          "2020-02-10 23:00:00"
         ],
         "xaxis": "x10",
         "y": [
          68.834220118727,
          71.022934591649,
          75.96467916257176,
          83.92718026685566,
          95.21576761265686,
          110.10172772533258,
          128.66010982168245,
          150.50554052594674,
          174.65133420587364,
          199.39992092689943,
          222.53656033603653,
          241.6679496642738,
          254.97308185248082,
          261.58491996461913,
          261.88657569742946,
          257.35982233640743,
          250.09127216815452,
          242.37022482540533,
          236.27200966177523,
          233.5180367200398,
          235.51393134031738,
          243.43993052735306,
          258.44300847226503,
          281.5353009315229
         ],
         "yaxis": "y10"
        },
        {
         "fill": "tonexty",
         "fillcolor": "rgba(0,255,0,0.3)",
         "line": {
          "width": 0
         },
         "marker": {
          "color": "#444"
         },
         "mode": "lines",
         "name": "Intensity $\\mu+2\\sigma$",
         "showlegend": false,
         "type": "scatter",
         "x": [
          "2020-02-10 00:00:00",
          "2020-02-10 01:00:00",
          "2020-02-10 02:00:00",
          "2020-02-10 03:00:00",
          "2020-02-10 04:00:00",
          "2020-02-10 05:00:00",
          "2020-02-10 06:00:00",
          "2020-02-10 07:00:00",
          "2020-02-10 08:00:00",
          "2020-02-10 09:00:00",
          "2020-02-10 10:00:00",
          "2020-02-10 11:00:00",
          "2020-02-10 12:00:00",
          "2020-02-10 13:00:00",
          "2020-02-10 14:00:00",
          "2020-02-10 15:00:00",
          "2020-02-10 16:00:00",
          "2020-02-10 17:00:00",
          "2020-02-10 18:00:00",
          "2020-02-10 19:00:00",
          "2020-02-10 20:00:00",
          "2020-02-10 21:00:00",
          "2020-02-10 22:00:00",
          "2020-02-10 23:00:00"
         ],
         "xaxis": "x10",
         "y": [
          81.10069369901838,
          80.06931080711867,
          83.96359365208045,
          92.16515005488067,
          104.12403762011519,
          119.67824505214445,
          138.83695543800545,
          161.18010981960853,
          185.87417218802875,
          211.2557892057064,
          235.1158292886265,
          254.89269408372655,
          268.7810678577517,
          275.68044159497043,
          276.00016304850107,
          271.3261959869782,
          263.7222595344184,
          255.8107584322712,
          249.73101207863954,
          247.22680704344717,
          249.4938660148545,
          257.94649731042347,
          275.4449533617647,
          307.51893916160714
         ],
         "yaxis": "y10"
        },
        {
         "line": {
          "color": "#1f77b4"
         },
         "mode": "lines+markers",
         "name": "Actual counts",
         "type": "scatter",
         "x": [
          "2020-02-10 00:00:00",
          "2020-02-10 01:00:00",
          "2020-02-10 02:00:00",
          "2020-02-10 03:00:00",
          "2020-02-10 04:00:00",
          "2020-02-10 05:00:00",
          "2020-02-10 06:00:00",
          "2020-02-10 07:00:00",
          "2020-02-10 08:00:00",
          "2020-02-10 09:00:00",
          "2020-02-10 10:00:00",
          "2020-02-10 11:00:00",
          "2020-02-10 12:00:00",
          "2020-02-10 13:00:00",
          "2020-02-10 14:00:00",
          "2020-02-10 15:00:00",
          "2020-02-10 16:00:00",
          "2020-02-10 17:00:00",
          "2020-02-10 18:00:00",
          "2020-02-10 19:00:00",
          "2020-02-10 20:00:00",
          "2020-02-10 21:00:00",
          "2020-02-10 22:00:00",
          "2020-02-10 23:00:00"
         ],
         "xaxis": "x10",
         "y": [
          88,
          75,
          61,
          67,
          74,
          97,
          153,
          185,
          207,
          202,
          192,
          210,
          244,
          252,
          275,
          278,
          260,
          274,
          199,
          247,
          236,
          195,
          274,
          300
         ],
         "yaxis": "y10"
        },
        {
         "line": {
          "width": 0
         },
         "marker": {
          "color": "#444"
         },
         "mode": "lines",
         "name": "$Counts \\mu-2\\sigma$",
         "showlegend": false,
         "type": "scatter",
         "x": [
          "2020-02-10 00:00:00",
          "2020-02-10 01:00:00",
          "2020-02-10 02:00:00",
          "2020-02-10 03:00:00",
          "2020-02-10 04:00:00",
          "2020-02-10 05:00:00",
          "2020-02-10 06:00:00",
          "2020-02-10 07:00:00",
          "2020-02-10 08:00:00",
          "2020-02-10 09:00:00",
          "2020-02-10 10:00:00",
          "2020-02-10 11:00:00",
          "2020-02-10 12:00:00",
          "2020-02-10 13:00:00",
          "2020-02-10 14:00:00",
          "2020-02-10 15:00:00",
          "2020-02-10 16:00:00",
          "2020-02-10 17:00:00",
          "2020-02-10 18:00:00",
          "2020-02-10 19:00:00",
          "2020-02-10 20:00:00",
          "2020-02-10 21:00:00",
          "2020-02-10 22:00:00",
          "2020-02-10 23:00:00"
         ],
         "xaxis": "x13",
         "y": [
          53.673487530584616,
          52.52196433780527,
          51.387003244838034,
          53.823987150263335,
          63.91660847984019,
          83.46545077121611,
          110.41584086443618,
          142.79432722982304,
          160.07408899687817,
          167.05814476548562,
          176.5558788220318,
          185.80837257888322,
          191.1619495029431,
          207.92356882340434,
          226.59250977160272,
          241.73217325032144,
          223.36744423653255,
          200.6059942968738,
          188.94881715880385,
          185.6513731716644,
          190.03156541951697,
          201.03275336936187,
          222.23888301362717,
          243.64617013358028
         ],
         "yaxis": "y13"
        },
        {
         "fill": "tonexty",
         "fillcolor": "rgba(255,0,0,0.3)",
         "line": {
          "color": "rgb(255, 0, 0)"
         },
         "mode": "lines",
         "name": "Count predictions",
         "type": "scatter",
         "x": [
          "2020-02-10 00:00:00",
          "2020-02-10 01:00:00",
          "2020-02-10 02:00:00",
          "2020-02-10 03:00:00",
          "2020-02-10 04:00:00",
          "2020-02-10 05:00:00",
          "2020-02-10 06:00:00",
          "2020-02-10 07:00:00",
          "2020-02-10 08:00:00",
          "2020-02-10 09:00:00",
          "2020-02-10 10:00:00",
          "2020-02-10 11:00:00",
          "2020-02-10 12:00:00",
          "2020-02-10 13:00:00",
          "2020-02-10 14:00:00",
          "2020-02-10 15:00:00",
          "2020-02-10 16:00:00",
          "2020-02-10 17:00:00",
          "2020-02-10 18:00:00",
          "2020-02-10 19:00:00",
          "2020-02-10 20:00:00",
          "2020-02-10 21:00:00",
          "2020-02-10 22:00:00",
          "2020-02-10 23:00:00"
         ],
         "xaxis": "x13",
         "y": [
          76.359,
          72.417,
          70.032,
          73.124,
          84.917,
          106.742,
          138.125,
          172.058,
          194.682,
          205.092,
          210.931,
          219.648,
          234.917,
          254.828,
          269.894,
          277.53,
          267.516,
          252.069,
          234.431,
          223.694,
          224.916,
          239.625,
          264.496,
          286.051
         ],
         "yaxis": "y13"
        },
        {
         "fill": "tonexty",
         "fillcolor": "rgba(255,0,0,0.3)",
         "line": {
          "width": 0
         },
         "marker": {
          "color": "#444"
         },
         "mode": "lines",
         "name": "$Counts \\mu+2\\sigma$",
         "showlegend": false,
         "type": "scatter",
         "x": [
          "2020-02-10 00:00:00",
          "2020-02-10 01:00:00",
          "2020-02-10 02:00:00",
          "2020-02-10 03:00:00",
          "2020-02-10 04:00:00",
          "2020-02-10 05:00:00",
          "2020-02-10 06:00:00",
          "2020-02-10 07:00:00",
          "2020-02-10 08:00:00",
          "2020-02-10 09:00:00",
          "2020-02-10 10:00:00",
          "2020-02-10 11:00:00",
          "2020-02-10 12:00:00",
          "2020-02-10 13:00:00",
          "2020-02-10 14:00:00",
          "2020-02-10 15:00:00",
          "2020-02-10 16:00:00",
          "2020-02-10 17:00:00",
          "2020-02-10 18:00:00",
          "2020-02-10 19:00:00",
          "2020-02-10 20:00:00",
          "2020-02-10 21:00:00",
          "2020-02-10 22:00:00",
          "2020-02-10 23:00:00"
         ],
         "xaxis": "x13",
         "y": [
          99.04451246941537,
          92.31203566219473,
          88.67699675516195,
          92.42401284973666,
          105.91739152015981,
          130.0185492287839,
          165.83415913556382,
          201.32167277017695,
          229.2899110031218,
          243.1258552345144,
          245.30612117796824,
          253.48762742111677,
          278.67205049705694,
          301.73243117659564,
          313.19549022839726,
          313.3278267496785,
          311.6645557634675,
          303.5320057031262,
          279.9131828411962,
          261.7366268283356,
          259.80043458048306,
          278.2172466306381,
          306.7531169863728,
          328.4558298664197
         ],
         "yaxis": "y13"
        },
        {
         "line": {
          "width": 0
         },
         "marker": {
          "color": "#444"
         },
         "mode": "lines",
         "name": "$Intensity \\mu-2\\sigma$",
         "showlegend": false,
         "type": "scatter",
         "x": [
          "2020-02-10 00:00:00",
          "2020-02-10 01:00:00",
          "2020-02-10 02:00:00",
          "2020-02-10 03:00:00",
          "2020-02-10 04:00:00",
          "2020-02-10 05:00:00",
          "2020-02-10 06:00:00",
          "2020-02-10 07:00:00",
          "2020-02-10 08:00:00",
          "2020-02-10 09:00:00",
          "2020-02-10 10:00:00",
          "2020-02-10 11:00:00",
          "2020-02-10 12:00:00",
          "2020-02-10 13:00:00",
          "2020-02-10 14:00:00",
          "2020-02-10 15:00:00",
          "2020-02-10 16:00:00",
          "2020-02-10 17:00:00",
          "2020-02-10 18:00:00",
          "2020-02-10 19:00:00",
          "2020-02-10 20:00:00",
          "2020-02-10 21:00:00",
          "2020-02-10 22:00:00",
          "2020-02-10 23:00:00"
         ],
         "xaxis": "x13",
         "y": [
          62.927381750547156,
          62.39846411670757,
          61.38790803805418,
          64.69440145052044,
          74.94235744885225,
          95.23006129792213,
          124.1648056443113,
          157.56393317314297,
          173.8898034933078,
          180.27601190484904,
          190.67169434503424,
          200.54425795839933,
          204.19763292958902,
          216.8500192403343,
          240.059886591391,
          258.01530881777495,
          236.20237268854214,
          210.6407395787231,
          198.69830472885522,
          201.01812213720265,
          208.26222187009827,
          214.0537630134986,
          236.44368363545308,
          260.0558277482332
         ],
         "yaxis": "y13"
        },
        {
         "fill": "tonexty",
         "fillcolor": "rgba(0,255,0,0.3)",
         "line": {
          "color": "rgb(0, 255, 0)"
         },
         "mode": "lines",
         "name": "Intensity predictions",
         "type": "scatter",
         "x": [
          "2020-02-10 00:00:00",
          "2020-02-10 01:00:00",
          "2020-02-10 02:00:00",
          "2020-02-10 03:00:00",
          "2020-02-10 04:00:00",
          "2020-02-10 05:00:00",
          "2020-02-10 06:00:00",
          "2020-02-10 07:00:00",
          "2020-02-10 08:00:00",
          "2020-02-10 09:00:00",
          "2020-02-10 10:00:00",
          "2020-02-10 11:00:00",
          "2020-02-10 12:00:00",
          "2020-02-10 13:00:00",
          "2020-02-10 14:00:00",
          "2020-02-10 15:00:00",
          "2020-02-10 16:00:00",
          "2020-02-10 17:00:00",
          "2020-02-10 18:00:00",
          "2020-02-10 19:00:00",
          "2020-02-10 20:00:00",
          "2020-02-10 21:00:00",
          "2020-02-10 22:00:00",
          "2020-02-10 23:00:00"
         ],
         "xaxis": "x13",
         "y": [
          76.87026231056754,
          72.73716645626716,
          70.28328833356154,
          73.17022155856992,
          84.63150090293924,
          107.0770563610143,
          138.74780948441293,
          172.12981089294763,
          194.66456516679355,
          205.21362674461488,
          210.15591586864508,
          218.1056291867824,
          234.39733796394913,
          253.7930855527779,
          270.20029333597455,
          276.05826270569884,
          267.2707367114284,
          250.16019892493517,
          233.26862917761702,
          223.08775508196985,
          224.3575626644706,
          239.61648543495474,
          263.0037059182879,
          286.42639377859166
         ],
         "yaxis": "y13"
        },
        {
         "fill": "tonexty",
         "fillcolor": "rgba(0,255,0,0.3)",
         "line": {
          "width": 0
         },
         "marker": {
          "color": "#444"
         },
         "mode": "lines",
         "name": "Intensity $\\mu+2\\sigma$",
         "showlegend": false,
         "type": "scatter",
         "x": [
          "2020-02-10 00:00:00",
          "2020-02-10 01:00:00",
          "2020-02-10 02:00:00",
          "2020-02-10 03:00:00",
          "2020-02-10 04:00:00",
          "2020-02-10 05:00:00",
          "2020-02-10 06:00:00",
          "2020-02-10 07:00:00",
          "2020-02-10 08:00:00",
          "2020-02-10 09:00:00",
          "2020-02-10 10:00:00",
          "2020-02-10 11:00:00",
          "2020-02-10 12:00:00",
          "2020-02-10 13:00:00",
          "2020-02-10 14:00:00",
          "2020-02-10 15:00:00",
          "2020-02-10 16:00:00",
          "2020-02-10 17:00:00",
          "2020-02-10 18:00:00",
          "2020-02-10 19:00:00",
          "2020-02-10 20:00:00",
          "2020-02-10 21:00:00",
          "2020-02-10 22:00:00",
          "2020-02-10 23:00:00"
         ],
         "xaxis": "x13",
         "y": [
          90.81314287058792,
          83.07586879582675,
          79.17866862906891,
          81.6460416666194,
          94.32064435702623,
          118.92405142410647,
          153.33081332451454,
          186.6956886127523,
          215.4393268402793,
          230.15124158438073,
          229.64013739225592,
          235.6670004151655,
          264.59704299830923,
          290.73615186522153,
          300.34070008055807,
          294.1012165936227,
          298.3391007343147,
          289.6796582711472,
          267.8389536263788,
          245.15738802673704,
          240.45290345884294,
          265.17920785641087,
          289.56372820112273,
          312.79695980895013
         ],
         "yaxis": "y13"
        },
        {
         "line": {
          "color": "#1f77b4"
         },
         "mode": "lines+markers",
         "name": "Actual counts",
         "type": "scatter",
         "x": [
          "2020-02-10 00:00:00",
          "2020-02-10 01:00:00",
          "2020-02-10 02:00:00",
          "2020-02-10 03:00:00",
          "2020-02-10 04:00:00",
          "2020-02-10 05:00:00",
          "2020-02-10 06:00:00",
          "2020-02-10 07:00:00",
          "2020-02-10 08:00:00",
          "2020-02-10 09:00:00",
          "2020-02-10 10:00:00",
          "2020-02-10 11:00:00",
          "2020-02-10 12:00:00",
          "2020-02-10 13:00:00",
          "2020-02-10 14:00:00",
          "2020-02-10 15:00:00",
          "2020-02-10 16:00:00",
          "2020-02-10 17:00:00",
          "2020-02-10 18:00:00",
          "2020-02-10 19:00:00",
          "2020-02-10 20:00:00",
          "2020-02-10 21:00:00",
          "2020-02-10 22:00:00",
          "2020-02-10 23:00:00"
         ],
         "xaxis": "x13",
         "y": [
          88,
          75,
          61,
          67,
          74,
          97,
          153,
          185,
          207,
          202,
          192,
          210,
          244,
          252,
          275,
          278,
          260,
          274,
          199,
          247,
          236,
          195,
          274,
          300
         ],
         "yaxis": "y13"
        },
        {
         "line": {
          "width": 0
         },
         "marker": {
          "color": "#444"
         },
         "mode": "lines",
         "name": "$Counts \\mu-2\\sigma$",
         "showlegend": false,
         "type": "scatter",
         "x": [
          "2020-02-10 00:00:00",
          "2020-02-10 01:00:00",
          "2020-02-10 02:00:00",
          "2020-02-10 03:00:00",
          "2020-02-10 04:00:00",
          "2020-02-10 05:00:00",
          "2020-02-10 06:00:00",
          "2020-02-10 07:00:00",
          "2020-02-10 08:00:00",
          "2020-02-10 09:00:00",
          "2020-02-10 10:00:00",
          "2020-02-10 11:00:00",
          "2020-02-10 12:00:00",
          "2020-02-10 13:00:00",
          "2020-02-10 14:00:00",
          "2020-02-10 15:00:00",
          "2020-02-10 16:00:00",
          "2020-02-10 17:00:00",
          "2020-02-10 18:00:00",
          "2020-02-10 19:00:00",
          "2020-02-10 20:00:00",
          "2020-02-10 21:00:00",
          "2020-02-10 22:00:00",
          "2020-02-10 23:00:00"
         ],
         "xaxis": "x16",
         "y": [
          56.63263726886318,
          52.57004235627841,
          49.48110692666263,
          52.063291276701264,
          60.662110402687105,
          81.55417357192832,
          111.52243020891137,
          145.07693735937875,
          163.45821453555843,
          166.8620615163499,
          171.91217220058357,
          178.31770834824948,
          191.30804436424955,
          214.64632230174513,
          234.7895185846106,
          229.11853499758308,
          220.69510758519763,
          213.58358554837895,
          194.80414936738583,
          180.4828350669689,
          184.3640530649598,
          197.22020499167252,
          221.06764124470718,
          247.947273288621
         ],
         "yaxis": "y16"
        },
        {
         "fill": "tonexty",
         "fillcolor": "rgba(255,0,0,0.3)",
         "line": {
          "color": "rgb(255, 0, 0)"
         },
         "mode": "lines",
         "name": "Count predictions",
         "type": "scatter",
         "x": [
          "2020-02-10 00:00:00",
          "2020-02-10 01:00:00",
          "2020-02-10 02:00:00",
          "2020-02-10 03:00:00",
          "2020-02-10 04:00:00",
          "2020-02-10 05:00:00",
          "2020-02-10 06:00:00",
          "2020-02-10 07:00:00",
          "2020-02-10 08:00:00",
          "2020-02-10 09:00:00",
          "2020-02-10 10:00:00",
          "2020-02-10 11:00:00",
          "2020-02-10 12:00:00",
          "2020-02-10 13:00:00",
          "2020-02-10 14:00:00",
          "2020-02-10 15:00:00",
          "2020-02-10 16:00:00",
          "2020-02-10 17:00:00",
          "2020-02-10 18:00:00",
          "2020-02-10 19:00:00",
          "2020-02-10 20:00:00",
          "2020-02-10 21:00:00",
          "2020-02-10 22:00:00",
          "2020-02-10 23:00:00"
         ],
         "xaxis": "x16",
         "y": [
          79.603,
          72.933,
          68.452,
          70.973,
          81.984,
          105.982,
          140.063,
          176.175,
          198.429,
          204.348,
          205.887,
          214.69,
          233.831,
          256.098,
          272.408,
          275.411,
          266.891,
          251.47,
          236.597,
          225.483,
          221.347,
          233.124,
          260.631,
          293.035
         ],
         "yaxis": "y16"
        },
        {
         "fill": "tonexty",
         "fillcolor": "rgba(255,0,0,0.3)",
         "line": {
          "width": 0
         },
         "marker": {
          "color": "#444"
         },
         "mode": "lines",
         "name": "$Counts \\mu+2\\sigma$",
         "showlegend": false,
         "type": "scatter",
         "x": [
          "2020-02-10 00:00:00",
          "2020-02-10 01:00:00",
          "2020-02-10 02:00:00",
          "2020-02-10 03:00:00",
          "2020-02-10 04:00:00",
          "2020-02-10 05:00:00",
          "2020-02-10 06:00:00",
          "2020-02-10 07:00:00",
          "2020-02-10 08:00:00",
          "2020-02-10 09:00:00",
          "2020-02-10 10:00:00",
          "2020-02-10 11:00:00",
          "2020-02-10 12:00:00",
          "2020-02-10 13:00:00",
          "2020-02-10 14:00:00",
          "2020-02-10 15:00:00",
          "2020-02-10 16:00:00",
          "2020-02-10 17:00:00",
          "2020-02-10 18:00:00",
          "2020-02-10 19:00:00",
          "2020-02-10 20:00:00",
          "2020-02-10 21:00:00",
          "2020-02-10 22:00:00",
          "2020-02-10 23:00:00"
         ],
         "xaxis": "x16",
         "y": [
          102.57336273113681,
          93.29595764372161,
          87.42289307333736,
          89.88270872329873,
          103.30588959731288,
          130.40982642807168,
          168.6035697910886,
          207.27306264062128,
          233.39978546444158,
          241.83393848365012,
          239.86182779941643,
          251.0622916517505,
          276.3539556357504,
          297.54967769825487,
          310.0264814153894,
          321.7034650024169,
          313.0868924148024,
          289.35641445162105,
          278.3898506326142,
          270.4831649330311,
          258.32994693504025,
          269.0277950083275,
          300.19435875529274,
          338.1227267113791
         ],
         "yaxis": "y16"
        },
        {
         "line": {
          "width": 0
         },
         "marker": {
          "color": "#444"
         },
         "mode": "lines",
         "name": "$Intensity \\mu-2\\sigma$",
         "showlegend": false,
         "type": "scatter",
         "x": [
          "2020-02-10 00:00:00",
          "2020-02-10 01:00:00",
          "2020-02-10 02:00:00",
          "2020-02-10 03:00:00",
          "2020-02-10 04:00:00",
          "2020-02-10 05:00:00",
          "2020-02-10 06:00:00",
          "2020-02-10 07:00:00",
          "2020-02-10 08:00:00",
          "2020-02-10 09:00:00",
          "2020-02-10 10:00:00",
          "2020-02-10 11:00:00",
          "2020-02-10 12:00:00",
          "2020-02-10 13:00:00",
          "2020-02-10 14:00:00",
          "2020-02-10 15:00:00",
          "2020-02-10 16:00:00",
          "2020-02-10 17:00:00",
          "2020-02-10 18:00:00",
          "2020-02-10 19:00:00",
          "2020-02-10 20:00:00",
          "2020-02-10 21:00:00",
          "2020-02-10 22:00:00",
          "2020-02-10 23:00:00"
         ],
         "xaxis": "x16",
         "y": [
          64.40895137927372,
          62.579431105913145,
          59.49199839066489,
          61.81684530451535,
          72.09470956828319,
          93.53716153421348,
          124.00652741847324,
          160.55890964865486,
          176.94201555999237,
          180.97724758193,
          188.81388270353298,
          193.71809619901566,
          203.4104271668326,
          229.17936623584814,
          251.03713093303128,
          240.8063112522035,
          234.05567529847895,
          232.36060468867635,
          209.99419353696948,
          194.0560796222277,
          197.96811147668845,
          215.12240971593857,
          236.67141548771104,
          261.99281700229244
         ],
         "yaxis": "y16"
        },
        {
         "fill": "tonexty",
         "fillcolor": "rgba(0,255,0,0.3)",
         "line": {
          "color": "rgb(0, 255, 0)"
         },
         "mode": "lines",
         "name": "Intensity predictions",
         "type": "scatter",
         "x": [
          "2020-02-10 00:00:00",
          "2020-02-10 01:00:00",
          "2020-02-10 02:00:00",
          "2020-02-10 03:00:00",
          "2020-02-10 04:00:00",
          "2020-02-10 05:00:00",
          "2020-02-10 06:00:00",
          "2020-02-10 07:00:00",
          "2020-02-10 08:00:00",
          "2020-02-10 09:00:00",
          "2020-02-10 10:00:00",
          "2020-02-10 11:00:00",
          "2020-02-10 12:00:00",
          "2020-02-10 13:00:00",
          "2020-02-10 14:00:00",
          "2020-02-10 15:00:00",
          "2020-02-10 16:00:00",
          "2020-02-10 17:00:00",
          "2020-02-10 18:00:00",
          "2020-02-10 19:00:00",
          "2020-02-10 20:00:00",
          "2020-02-10 21:00:00",
          "2020-02-10 22:00:00",
          "2020-02-10 23:00:00"
         ],
         "xaxis": "x16",
         "y": [
          79.44975111066107,
          73.02782995191656,
          68.75352828667863,
          70.64575741307567,
          81.94677284764333,
          105.65932973772206,
          139.7284359194799,
          176.02813711866995,
          198.31354283476173,
          204.5189269198655,
          205.96621815961262,
          215.9339844936029,
          235.25171474432315,
          256.7943930568977,
          271.66883678235337,
          274.9583793397791,
          266.41406930966565,
          251.7612890368575,
          236.32878186943364,
          224.88643594213772,
          221.8872255370625,
          233.29541974115878,
          260.67761215357973,
          292.75550444641135
         ],
         "yaxis": "y16"
        },
        {
         "fill": "tonexty",
         "fillcolor": "rgba(0,255,0,0.3)",
         "line": {
          "width": 0
         },
         "marker": {
          "color": "#444"
         },
         "mode": "lines",
         "name": "Intensity $\\mu+2\\sigma$",
         "showlegend": false,
         "type": "scatter",
         "x": [
          "2020-02-10 00:00:00",
          "2020-02-10 01:00:00",
          "2020-02-10 02:00:00",
          "2020-02-10 03:00:00",
          "2020-02-10 04:00:00",
          "2020-02-10 05:00:00",
          "2020-02-10 06:00:00",
          "2020-02-10 07:00:00",
          "2020-02-10 08:00:00",
          "2020-02-10 09:00:00",
          "2020-02-10 10:00:00",
          "2020-02-10 11:00:00",
          "2020-02-10 12:00:00",
          "2020-02-10 13:00:00",
          "2020-02-10 14:00:00",
          "2020-02-10 15:00:00",
          "2020-02-10 16:00:00",
          "2020-02-10 17:00:00",
          "2020-02-10 18:00:00",
          "2020-02-10 19:00:00",
          "2020-02-10 20:00:00",
          "2020-02-10 21:00:00",
          "2020-02-10 22:00:00",
          "2020-02-10 23:00:00"
         ],
         "xaxis": "x16",
         "y": [
          94.49055084204842,
          83.47622879791997,
          78.01505818269237,
          79.474669521636,
          91.79883612700347,
          117.78149794123064,
          155.45034442048654,
          191.49736458868503,
          219.6850701095311,
          228.060606257801,
          223.11855361569226,
          238.14987278819015,
          267.0930023218137,
          284.4094198779473,
          292.30054263167546,
          309.11044742735476,
          298.77246332085235,
          271.16197338503866,
          262.6633702018978,
          255.71679226204773,
          245.80633959743656,
          251.468429766379,
          284.6838088194484,
          323.51819189053026
         ],
         "yaxis": "y16"
        },
        {
         "line": {
          "color": "#1f77b4"
         },
         "mode": "lines+markers",
         "name": "Actual counts",
         "type": "scatter",
         "x": [
          "2020-02-10 00:00:00",
          "2020-02-10 01:00:00",
          "2020-02-10 02:00:00",
          "2020-02-10 03:00:00",
          "2020-02-10 04:00:00",
          "2020-02-10 05:00:00",
          "2020-02-10 06:00:00",
          "2020-02-10 07:00:00",
          "2020-02-10 08:00:00",
          "2020-02-10 09:00:00",
          "2020-02-10 10:00:00",
          "2020-02-10 11:00:00",
          "2020-02-10 12:00:00",
          "2020-02-10 13:00:00",
          "2020-02-10 14:00:00",
          "2020-02-10 15:00:00",
          "2020-02-10 16:00:00",
          "2020-02-10 17:00:00",
          "2020-02-10 18:00:00",
          "2020-02-10 19:00:00",
          "2020-02-10 20:00:00",
          "2020-02-10 21:00:00",
          "2020-02-10 22:00:00",
          "2020-02-10 23:00:00"
         ],
         "xaxis": "x16",
         "y": [
          88,
          75,
          61,
          67,
          74,
          97,
          153,
          185,
          207,
          202,
          192,
          210,
          244,
          252,
          275,
          278,
          260,
          274,
          199,
          247,
          236,
          195,
          274,
          300
         ],
         "yaxis": "y16"
        },
        {
         "line": {
          "width": 0
         },
         "marker": {
          "color": "#444"
         },
         "mode": "lines",
         "name": "$Counts \\mu-2\\sigma$",
         "showlegend": false,
         "type": "scatter",
         "x": [
          "2020-02-10 00:00:00",
          "2020-02-10 01:00:00",
          "2020-02-10 02:00:00",
          "2020-02-10 03:00:00",
          "2020-02-10 04:00:00",
          "2020-02-10 05:00:00",
          "2020-02-10 06:00:00",
          "2020-02-10 07:00:00",
          "2020-02-10 08:00:00",
          "2020-02-10 09:00:00",
          "2020-02-10 10:00:00",
          "2020-02-10 11:00:00",
          "2020-02-10 12:00:00",
          "2020-02-10 13:00:00",
          "2020-02-10 14:00:00",
          "2020-02-10 15:00:00",
          "2020-02-10 16:00:00",
          "2020-02-10 17:00:00",
          "2020-02-10 18:00:00",
          "2020-02-10 19:00:00",
          "2020-02-10 20:00:00",
          "2020-02-10 21:00:00",
          "2020-02-10 22:00:00",
          "2020-02-10 23:00:00"
         ],
         "xaxis": "x19",
         "y": [
          54.56119973171586,
          52.49940010400208,
          51.068056945730234,
          54.142023712491394,
          64.70368981629511,
          82.61111644317833,
          111.18770805500922,
          142.4118600240476,
          158.66878641772183,
          168.13609159779784,
          175.58896493387985,
          184.08603620015725,
          192.60033645176424,
          205.21582667357455,
          224.94664742109728,
          238.5472104144912,
          223.41544400477187,
          200.76396337694553,
          189.06018986827428,
          186.30739509284345,
          190.1762753246039,
          199.06446289556595,
          219.8053366817025,
          242.07068318822596
         ],
         "yaxis": "y19"
        },
        {
         "fill": "tonexty",
         "fillcolor": "rgba(255,0,0,0.3)",
         "line": {
          "color": "rgb(255, 0, 0)"
         },
         "mode": "lines",
         "name": "Count predictions",
         "type": "scatter",
         "x": [
          "2020-02-10 00:00:00",
          "2020-02-10 01:00:00",
          "2020-02-10 02:00:00",
          "2020-02-10 03:00:00",
          "2020-02-10 04:00:00",
          "2020-02-10 05:00:00",
          "2020-02-10 06:00:00",
          "2020-02-10 07:00:00",
          "2020-02-10 08:00:00",
          "2020-02-10 09:00:00",
          "2020-02-10 10:00:00",
          "2020-02-10 11:00:00",
          "2020-02-10 12:00:00",
          "2020-02-10 13:00:00",
          "2020-02-10 14:00:00",
          "2020-02-10 15:00:00",
          "2020-02-10 16:00:00",
          "2020-02-10 17:00:00",
          "2020-02-10 18:00:00",
          "2020-02-10 19:00:00",
          "2020-02-10 20:00:00",
          "2020-02-10 21:00:00",
          "2020-02-10 22:00:00",
          "2020-02-10 23:00:00"
         ],
         "xaxis": "x19",
         "y": [
          76.851,
          72.499,
          69.612,
          72.297,
          84.692,
          106.743,
          138.431,
          172.76,
          193.632,
          205.102,
          210.138,
          218.782,
          234.092,
          253.714,
          269.69,
          275.296,
          267.542,
          251.224,
          234.776,
          223.93,
          223.179,
          238.14,
          261.484,
          285.371
         ],
         "yaxis": "y19"
        },
        {
         "fill": "tonexty",
         "fillcolor": "rgba(255,0,0,0.3)",
         "line": {
          "width": 0
         },
         "marker": {
          "color": "#444"
         },
         "mode": "lines",
         "name": "$Counts \\mu+2\\sigma$",
         "showlegend": false,
         "type": "scatter",
         "x": [
          "2020-02-10 00:00:00",
          "2020-02-10 01:00:00",
          "2020-02-10 02:00:00",
          "2020-02-10 03:00:00",
          "2020-02-10 04:00:00",
          "2020-02-10 05:00:00",
          "2020-02-10 06:00:00",
          "2020-02-10 07:00:00",
          "2020-02-10 08:00:00",
          "2020-02-10 09:00:00",
          "2020-02-10 10:00:00",
          "2020-02-10 11:00:00",
          "2020-02-10 12:00:00",
          "2020-02-10 13:00:00",
          "2020-02-10 14:00:00",
          "2020-02-10 15:00:00",
          "2020-02-10 16:00:00",
          "2020-02-10 17:00:00",
          "2020-02-10 18:00:00",
          "2020-02-10 19:00:00",
          "2020-02-10 20:00:00",
          "2020-02-10 21:00:00",
          "2020-02-10 22:00:00",
          "2020-02-10 23:00:00"
         ],
         "xaxis": "x19",
         "y": [
          99.14080026828414,
          92.49859989599791,
          88.15594305426976,
          90.4519762875086,
          104.68031018370488,
          130.87488355682166,
          165.67429194499078,
          203.10813997595238,
          228.59521358227818,
          242.06790840220216,
          244.68703506612016,
          253.47796379984277,
          275.5836635482358,
          302.21217332642544,
          314.4333525789027,
          312.0447895855088,
          311.6685559952281,
          301.68403662305445,
          280.49181013172574,
          261.5526049071566,
          256.18172467539614,
          277.215537104434,
          303.16266331829746,
          328.671316811774
         ],
         "yaxis": "y19"
        },
        {
         "line": {
          "width": 0
         },
         "marker": {
          "color": "#444"
         },
         "mode": "lines",
         "name": "$Intensity \\mu-2\\sigma$",
         "showlegend": false,
         "type": "scatter",
         "x": [
          "2020-02-10 00:00:00",
          "2020-02-10 01:00:00",
          "2020-02-10 02:00:00",
          "2020-02-10 03:00:00",
          "2020-02-10 04:00:00",
          "2020-02-10 05:00:00",
          "2020-02-10 06:00:00",
          "2020-02-10 07:00:00",
          "2020-02-10 08:00:00",
          "2020-02-10 09:00:00",
          "2020-02-10 10:00:00",
          "2020-02-10 11:00:00",
          "2020-02-10 12:00:00",
          "2020-02-10 13:00:00",
          "2020-02-10 14:00:00",
          "2020-02-10 15:00:00",
          "2020-02-10 16:00:00",
          "2020-02-10 17:00:00",
          "2020-02-10 18:00:00",
          "2020-02-10 19:00:00",
          "2020-02-10 20:00:00",
          "2020-02-10 21:00:00",
          "2020-02-10 22:00:00",
          "2020-02-10 23:00:00"
         ],
         "xaxis": "x19",
         "y": [
          63.10045582953229,
          62.770025744629216,
          61.309095823697234,
          64.22367677653266,
          74.90826719940367,
          95.88648989515767,
          125.11169001594631,
          158.8173716151629,
          174.5907970568158,
          181.97992559775736,
          191.80860795603814,
          200.36847919378738,
          203.45978887587597,
          217.17398687392077,
          240.32272941041737,
          257.93151512584075,
          235.9976830851515,
          210.7733785366694,
          199.27040134259306,
          200.6500347733134,
          208.13895998748657,
          214.6025267234983,
          237.17160457718043,
          259.5467961203363
         ],
         "yaxis": "y19"
        },
        {
         "fill": "tonexty",
         "fillcolor": "rgba(0,255,0,0.3)",
         "line": {
          "color": "rgb(0, 255, 0)"
         },
         "mode": "lines",
         "name": "Intensity predictions",
         "type": "scatter",
         "x": [
          "2020-02-10 00:00:00",
          "2020-02-10 01:00:00",
          "2020-02-10 02:00:00",
          "2020-02-10 03:00:00",
          "2020-02-10 04:00:00",
          "2020-02-10 05:00:00",
          "2020-02-10 06:00:00",
          "2020-02-10 07:00:00",
          "2020-02-10 08:00:00",
          "2020-02-10 09:00:00",
          "2020-02-10 10:00:00",
          "2020-02-10 11:00:00",
          "2020-02-10 12:00:00",
          "2020-02-10 13:00:00",
          "2020-02-10 14:00:00",
          "2020-02-10 15:00:00",
          "2020-02-10 16:00:00",
          "2020-02-10 17:00:00",
          "2020-02-10 18:00:00",
          "2020-02-10 19:00:00",
          "2020-02-10 20:00:00",
          "2020-02-10 21:00:00",
          "2020-02-10 22:00:00",
          "2020-02-10 23:00:00"
         ],
         "xaxis": "x19",
         "y": [
          77.00150939868861,
          72.67440650150796,
          70.22571234250451,
          73.25478193322641,
          84.73549133434894,
          107.12419808014894,
          138.78326557330024,
          172.5244640693676,
          195.2700639624809,
          205.69839567153784,
          210.207378225107,
          217.79500416076053,
          233.58117348974758,
          253.5395684853042,
          270.1570434027428,
          276.03585837560473,
          267.2519630357542,
          250.18615637050095,
          233.38660222841136,
          222.89990180666285,
          224.1648368217936,
          239.7692247273763,
          263.7062067177476,
          286.7537827147089
         ],
         "yaxis": "y19"
        },
        {
         "fill": "tonexty",
         "fillcolor": "rgba(0,255,0,0.3)",
         "line": {
          "width": 0
         },
         "marker": {
          "color": "#444"
         },
         "mode": "lines",
         "name": "Intensity $\\mu+2\\sigma$",
         "showlegend": false,
         "type": "scatter",
         "x": [
          "2020-02-10 00:00:00",
          "2020-02-10 01:00:00",
          "2020-02-10 02:00:00",
          "2020-02-10 03:00:00",
          "2020-02-10 04:00:00",
          "2020-02-10 05:00:00",
          "2020-02-10 06:00:00",
          "2020-02-10 07:00:00",
          "2020-02-10 08:00:00",
          "2020-02-10 09:00:00",
          "2020-02-10 10:00:00",
          "2020-02-10 11:00:00",
          "2020-02-10 12:00:00",
          "2020-02-10 13:00:00",
          "2020-02-10 14:00:00",
          "2020-02-10 15:00:00",
          "2020-02-10 16:00:00",
          "2020-02-10 17:00:00",
          "2020-02-10 18:00:00",
          "2020-02-10 19:00:00",
          "2020-02-10 20:00:00",
          "2020-02-10 21:00:00",
          "2020-02-10 22:00:00",
          "2020-02-10 23:00:00"
         ],
         "xaxis": "x19",
         "y": [
          90.90256296784494,
          82.57878725838671,
          79.14232886131178,
          82.28588708992017,
          94.5627154692942,
          118.36190626514022,
          152.45484113065416,
          186.23155652357232,
          215.94933086814598,
          229.41686574531832,
          228.60614849417584,
          235.22152912773367,
          263.7025581036192,
          289.90515009668763,
          299.9913573950682,
          294.1402016253687,
          298.50624298635694,
          289.5989342043325,
          267.50280311422966,
          245.1497688400123,
          240.19071365610066,
          264.9359227312543,
          290.2408088583147,
          313.9607693090815
         ],
         "yaxis": "y19"
        },
        {
         "line": {
          "color": "#1f77b4"
         },
         "mode": "lines+markers",
         "name": "Actual counts",
         "type": "scatter",
         "x": [
          "2020-02-10 00:00:00",
          "2020-02-10 01:00:00",
          "2020-02-10 02:00:00",
          "2020-02-10 03:00:00",
          "2020-02-10 04:00:00",
          "2020-02-10 05:00:00",
          "2020-02-10 06:00:00",
          "2020-02-10 07:00:00",
          "2020-02-10 08:00:00",
          "2020-02-10 09:00:00",
          "2020-02-10 10:00:00",
          "2020-02-10 11:00:00",
          "2020-02-10 12:00:00",
          "2020-02-10 13:00:00",
          "2020-02-10 14:00:00",
          "2020-02-10 15:00:00",
          "2020-02-10 16:00:00",
          "2020-02-10 17:00:00",
          "2020-02-10 18:00:00",
          "2020-02-10 19:00:00",
          "2020-02-10 20:00:00",
          "2020-02-10 21:00:00",
          "2020-02-10 22:00:00",
          "2020-02-10 23:00:00"
         ],
         "xaxis": "x19",
         "y": [
          88,
          75,
          61,
          67,
          74,
          97,
          153,
          185,
          207,
          202,
          192,
          210,
          244,
          252,
          275,
          278,
          260,
          274,
          199,
          247,
          236,
          195,
          274,
          300
         ],
         "yaxis": "y19"
        },
        {
         "line": {
          "width": 0
         },
         "marker": {
          "color": "#444"
         },
         "mode": "lines",
         "name": "$Counts \\mu-2\\sigma$",
         "showlegend": false,
         "type": "scatter",
         "x": [
          "2020-02-10 00:00:00",
          "2020-02-10 01:00:00",
          "2020-02-10 02:00:00",
          "2020-02-10 03:00:00",
          "2020-02-10 04:00:00",
          "2020-02-10 05:00:00",
          "2020-02-10 06:00:00",
          "2020-02-10 07:00:00",
          "2020-02-10 08:00:00",
          "2020-02-10 09:00:00",
          "2020-02-10 10:00:00",
          "2020-02-10 11:00:00",
          "2020-02-10 12:00:00",
          "2020-02-10 13:00:00",
          "2020-02-10 14:00:00",
          "2020-02-10 15:00:00",
          "2020-02-10 16:00:00",
          "2020-02-10 17:00:00",
          "2020-02-10 18:00:00",
          "2020-02-10 19:00:00",
          "2020-02-10 20:00:00",
          "2020-02-10 21:00:00",
          "2020-02-10 22:00:00",
          "2020-02-10 23:00:00"
         ],
         "xaxis": "x22",
         "y": [
          54.987341020304356,
          52.65093658397856,
          51.30872239174022,
          53.47272093936433,
          63.705935845510055,
          83.75491651298393,
          110.87370876006769,
          144.96308933751996,
          161.88305807775885,
          169.0953903932292,
          176.5515796903186,
          182.7799122096498,
          191.01724365972936,
          204.6502062530773,
          227.10260049409777,
          240.1758799953934,
          222.9386414376921,
          202.46781426481024,
          188.80795505425183,
          188.47932134662682,
          190.6922557769169,
          201.1182844050337,
          221.8520054775962,
          244.07063634031502
         ],
         "yaxis": "y22"
        },
        {
         "fill": "tonexty",
         "fillcolor": "rgba(255,0,0,0.3)",
         "line": {
          "color": "rgb(255, 0, 0)"
         },
         "mode": "lines",
         "name": "Count predictions",
         "type": "scatter",
         "x": [
          "2020-02-10 00:00:00",
          "2020-02-10 01:00:00",
          "2020-02-10 02:00:00",
          "2020-02-10 03:00:00",
          "2020-02-10 04:00:00",
          "2020-02-10 05:00:00",
          "2020-02-10 06:00:00",
          "2020-02-10 07:00:00",
          "2020-02-10 08:00:00",
          "2020-02-10 09:00:00",
          "2020-02-10 10:00:00",
          "2020-02-10 11:00:00",
          "2020-02-10 12:00:00",
          "2020-02-10 13:00:00",
          "2020-02-10 14:00:00",
          "2020-02-10 15:00:00",
          "2020-02-10 16:00:00",
          "2020-02-10 17:00:00",
          "2020-02-10 18:00:00",
          "2020-02-10 19:00:00",
          "2020-02-10 20:00:00",
          "2020-02-10 21:00:00",
          "2020-02-10 22:00:00",
          "2020-02-10 23:00:00"
         ],
         "xaxis": "x22",
         "y": [
          76.763,
          72.299,
          69.889,
          73.017,
          84.406,
          107.591,
          138.801,
          173.305,
          196.113,
          206.519,
          210.108,
          217.294,
          234.307,
          254.213,
          270.171,
          277.687,
          268.988,
          253.581,
          234.908,
          224.459,
          224.972,
          240.859,
          265.393,
          288.013
         ],
         "yaxis": "y22"
        },
        {
         "fill": "tonexty",
         "fillcolor": "rgba(255,0,0,0.3)",
         "line": {
          "width": 0
         },
         "marker": {
          "color": "#444"
         },
         "mode": "lines",
         "name": "$Counts \\mu+2\\sigma$",
         "showlegend": false,
         "type": "scatter",
         "x": [
          "2020-02-10 00:00:00",
          "2020-02-10 01:00:00",
          "2020-02-10 02:00:00",
          "2020-02-10 03:00:00",
          "2020-02-10 04:00:00",
          "2020-02-10 05:00:00",
          "2020-02-10 06:00:00",
          "2020-02-10 07:00:00",
          "2020-02-10 08:00:00",
          "2020-02-10 09:00:00",
          "2020-02-10 10:00:00",
          "2020-02-10 11:00:00",
          "2020-02-10 12:00:00",
          "2020-02-10 13:00:00",
          "2020-02-10 14:00:00",
          "2020-02-10 15:00:00",
          "2020-02-10 16:00:00",
          "2020-02-10 17:00:00",
          "2020-02-10 18:00:00",
          "2020-02-10 19:00:00",
          "2020-02-10 20:00:00",
          "2020-02-10 21:00:00",
          "2020-02-10 22:00:00",
          "2020-02-10 23:00:00"
         ],
         "xaxis": "x22",
         "y": [
          98.53865897969565,
          91.94706341602145,
          88.46927760825977,
          92.56127906063566,
          105.10606415448996,
          131.42708348701606,
          166.72829123993228,
          201.64691066248005,
          230.34294192224115,
          243.94260960677082,
          243.66442030968142,
          251.8080877903502,
          277.5967563402706,
          303.77579374692266,
          313.2393995059022,
          315.19812000460666,
          315.0373585623079,
          304.6941857351897,
          281.0080449457481,
          260.4386786533732,
          259.2517442230831,
          280.5997155949663,
          308.93399452240374,
          331.9553636596849
         ],
         "yaxis": "y22"
        },
        {
         "line": {
          "width": 0
         },
         "marker": {
          "color": "#444"
         },
         "mode": "lines",
         "name": "$Intensity \\mu-2\\sigma$",
         "showlegend": false,
         "type": "scatter",
         "x": [
          "2020-02-10 00:00:00",
          "2020-02-10 01:00:00",
          "2020-02-10 02:00:00",
          "2020-02-10 03:00:00",
          "2020-02-10 04:00:00",
          "2020-02-10 05:00:00",
          "2020-02-10 06:00:00",
          "2020-02-10 07:00:00",
          "2020-02-10 08:00:00",
          "2020-02-10 09:00:00",
          "2020-02-10 10:00:00",
          "2020-02-10 11:00:00",
          "2020-02-10 12:00:00",
          "2020-02-10 13:00:00",
          "2020-02-10 14:00:00",
          "2020-02-10 15:00:00",
          "2020-02-10 16:00:00",
          "2020-02-10 17:00:00",
          "2020-02-10 18:00:00",
          "2020-02-10 19:00:00",
          "2020-02-10 20:00:00",
          "2020-02-10 21:00:00",
          "2020-02-10 22:00:00",
          "2020-02-10 23:00:00"
         ],
         "xaxis": "x22",
         "y": [
          62.65351942674762,
          62.33909337937493,
          61.3505399711023,
          64.43340145536365,
          75.05065960191918,
          95.76676875701163,
          125.20592140271171,
          158.46524767644655,
          174.71273960858414,
          180.9953858539169,
          191.59752505678756,
          201.2022056393146,
          205.39936471079525,
          218.91434432083776,
          242.47766152061138,
          260.07608605904045,
          236.91579421197852,
          211.3315866993377,
          199.1645879430558,
          201.80755736163835,
          208.85826813977712,
          214.8324684749884,
          237.63588889188975,
          258.58863498199577
         ],
         "yaxis": "y22"
        },
        {
         "fill": "tonexty",
         "fillcolor": "rgba(0,255,0,0.3)",
         "line": {
          "color": "rgb(0, 255, 0)"
         },
         "mode": "lines",
         "name": "Intensity predictions",
         "type": "scatter",
         "x": [
          "2020-02-10 00:00:00",
          "2020-02-10 01:00:00",
          "2020-02-10 02:00:00",
          "2020-02-10 03:00:00",
          "2020-02-10 04:00:00",
          "2020-02-10 05:00:00",
          "2020-02-10 06:00:00",
          "2020-02-10 07:00:00",
          "2020-02-10 08:00:00",
          "2020-02-10 09:00:00",
          "2020-02-10 10:00:00",
          "2020-02-10 11:00:00",
          "2020-02-10 12:00:00",
          "2020-02-10 13:00:00",
          "2020-02-10 14:00:00",
          "2020-02-10 15:00:00",
          "2020-02-10 16:00:00",
          "2020-02-10 17:00:00",
          "2020-02-10 18:00:00",
          "2020-02-10 19:00:00",
          "2020-02-10 20:00:00",
          "2020-02-10 21:00:00",
          "2020-02-10 22:00:00",
          "2020-02-10 23:00:00"
         ],
         "xaxis": "x22",
         "y": [
          77.08847900991998,
          72.6262482792694,
          70.09888905753493,
          73.1418370554047,
          84.67543042515152,
          107.1929349529183,
          139.3216074093428,
          173.4219140355582,
          196.27221449156147,
          206.30731439915476,
          210.55452821802876,
          218.73123509070695,
          234.99811027872232,
          254.72048237230305,
          271.4995876977846,
          277.5948198903303,
          268.41175975682575,
          252.04154889970727,
          234.9035921372888,
          223.83533827258702,
          225.65586813085258,
          241.51905999864036,
          264.7353799582225,
          287.87162483006887
         ],
         "yaxis": "y22"
        },
        {
         "fill": "tonexty",
         "fillcolor": "rgba(0,255,0,0.3)",
         "line": {
          "width": 0
         },
         "marker": {
          "color": "#444"
         },
         "mode": "lines",
         "name": "Intensity $\\mu+2\\sigma$",
         "showlegend": false,
         "type": "scatter",
         "x": [
          "2020-02-10 00:00:00",
          "2020-02-10 01:00:00",
          "2020-02-10 02:00:00",
          "2020-02-10 03:00:00",
          "2020-02-10 04:00:00",
          "2020-02-10 05:00:00",
          "2020-02-10 06:00:00",
          "2020-02-10 07:00:00",
          "2020-02-10 08:00:00",
          "2020-02-10 09:00:00",
          "2020-02-10 10:00:00",
          "2020-02-10 11:00:00",
          "2020-02-10 12:00:00",
          "2020-02-10 13:00:00",
          "2020-02-10 14:00:00",
          "2020-02-10 15:00:00",
          "2020-02-10 16:00:00",
          "2020-02-10 17:00:00",
          "2020-02-10 18:00:00",
          "2020-02-10 19:00:00",
          "2020-02-10 20:00:00",
          "2020-02-10 21:00:00",
          "2020-02-10 22:00:00",
          "2020-02-10 23:00:00"
         ],
         "xaxis": "x22",
         "y": [
          91.52343859309234,
          82.91340317916388,
          78.84723814396756,
          81.85027265544574,
          94.30020124838386,
          118.61910114882498,
          153.43729341597387,
          188.37858039466983,
          217.8316893745388,
          231.61924294439262,
          229.51153137926997,
          236.2602645420993,
          264.5968558466494,
          290.52662042376835,
          300.5215138749578,
          295.1135537216202,
          299.90772530167294,
          292.75151110007687,
          270.64259633152176,
          245.8631191835357,
          242.45346812192804,
          268.2056515222923,
          291.83487102455524,
          317.15461467814197
         ],
         "yaxis": "y22"
        },
        {
         "line": {
          "color": "#1f77b4"
         },
         "mode": "lines+markers",
         "name": "Actual counts",
         "type": "scatter",
         "x": [
          "2020-02-10 00:00:00",
          "2020-02-10 01:00:00",
          "2020-02-10 02:00:00",
          "2020-02-10 03:00:00",
          "2020-02-10 04:00:00",
          "2020-02-10 05:00:00",
          "2020-02-10 06:00:00",
          "2020-02-10 07:00:00",
          "2020-02-10 08:00:00",
          "2020-02-10 09:00:00",
          "2020-02-10 10:00:00",
          "2020-02-10 11:00:00",
          "2020-02-10 12:00:00",
          "2020-02-10 13:00:00",
          "2020-02-10 14:00:00",
          "2020-02-10 15:00:00",
          "2020-02-10 16:00:00",
          "2020-02-10 17:00:00",
          "2020-02-10 18:00:00",
          "2020-02-10 19:00:00",
          "2020-02-10 20:00:00",
          "2020-02-10 21:00:00",
          "2020-02-10 22:00:00",
          "2020-02-10 23:00:00"
         ],
         "xaxis": "x22",
         "y": [
          88,
          75,
          61,
          67,
          74,
          97,
          153,
          185,
          207,
          202,
          192,
          210,
          244,
          252,
          275,
          278,
          260,
          274,
          199,
          247,
          236,
          195,
          274,
          300
         ],
         "yaxis": "y22"
        },
        {
         "line": {
          "width": 0
         },
         "marker": {
          "color": "#444"
         },
         "mode": "lines",
         "name": "$Counts \\mu-2\\sigma$",
         "showlegend": false,
         "type": "scatter",
         "x": [
          "2020-02-10 00:00:00",
          "2020-02-10 01:00:00",
          "2020-02-10 02:00:00",
          "2020-02-10 03:00:00",
          "2020-02-10 04:00:00",
          "2020-02-10 05:00:00",
          "2020-02-10 06:00:00",
          "2020-02-10 07:00:00",
          "2020-02-10 08:00:00",
          "2020-02-10 09:00:00",
          "2020-02-10 10:00:00",
          "2020-02-10 11:00:00",
          "2020-02-10 12:00:00",
          "2020-02-10 13:00:00",
          "2020-02-10 14:00:00",
          "2020-02-10 15:00:00",
          "2020-02-10 16:00:00",
          "2020-02-10 17:00:00",
          "2020-02-10 18:00:00",
          "2020-02-10 19:00:00",
          "2020-02-10 20:00:00",
          "2020-02-10 21:00:00",
          "2020-02-10 22:00:00",
          "2020-02-10 23:00:00"
         ],
         "xaxis": "x2",
         "y": [
          49.64269226020945,
          52.34847375570341,
          57.919170425226824,
          69.49208160435458,
          87.45572647595483,
          110.5485637130239,
          139.51123354142146,
          173.32990539591023,
          201.43622118739398,
          225.95219640449986,
          233.53454602483814,
          235.1437021989401,
          228.04248577473288,
          219.0582677662161,
          211.52480413509414,
          204.051254737081,
          202.21961535939687,
          203.22170625385561,
          207.08953332887364,
          211.9456270109607,
          208.98781193874396,
          199.01293276290195,
          180.94093412727767,
          151.05997432140921
         ],
         "yaxis": "y2"
        },
        {
         "fill": "tonexty",
         "fillcolor": "rgba(255,0,0,0.3)",
         "line": {
          "color": "rgb(255, 0, 0)"
         },
         "mode": "lines",
         "name": "Count predictions",
         "type": "scatter",
         "x": [
          "2020-02-10 00:00:00",
          "2020-02-10 01:00:00",
          "2020-02-10 02:00:00",
          "2020-02-10 03:00:00",
          "2020-02-10 04:00:00",
          "2020-02-10 05:00:00",
          "2020-02-10 06:00:00",
          "2020-02-10 07:00:00",
          "2020-02-10 08:00:00",
          "2020-02-10 09:00:00",
          "2020-02-10 10:00:00",
          "2020-02-10 11:00:00",
          "2020-02-10 12:00:00",
          "2020-02-10 13:00:00",
          "2020-02-10 14:00:00",
          "2020-02-10 15:00:00",
          "2020-02-10 16:00:00",
          "2020-02-10 17:00:00",
          "2020-02-10 18:00:00",
          "2020-02-10 19:00:00",
          "2020-02-10 20:00:00",
          "2020-02-10 21:00:00",
          "2020-02-10 22:00:00",
          "2020-02-10 23:00:00"
         ],
         "xaxis": "x2",
         "y": [
          70.516,
          71.586,
          77.966,
          90.649,
          109.772,
          136.338,
          168.476,
          204.169,
          235.986,
          260.017,
          270.778,
          272.182,
          264.026,
          254.014,
          245.362,
          238.52,
          237.415,
          238.727,
          242.468,
          245.298,
          243.7,
          233.369,
          215.371,
          187.569
         ],
         "yaxis": "y2"
        },
        {
         "fill": "tonexty",
         "fillcolor": "rgba(255,0,0,0.3)",
         "line": {
          "width": 0
         },
         "marker": {
          "color": "#444"
         },
         "mode": "lines",
         "name": "$Counts \\mu+2\\sigma$",
         "showlegend": false,
         "type": "scatter",
         "x": [
          "2020-02-10 00:00:00",
          "2020-02-10 01:00:00",
          "2020-02-10 02:00:00",
          "2020-02-10 03:00:00",
          "2020-02-10 04:00:00",
          "2020-02-10 05:00:00",
          "2020-02-10 06:00:00",
          "2020-02-10 07:00:00",
          "2020-02-10 08:00:00",
          "2020-02-10 09:00:00",
          "2020-02-10 10:00:00",
          "2020-02-10 11:00:00",
          "2020-02-10 12:00:00",
          "2020-02-10 13:00:00",
          "2020-02-10 14:00:00",
          "2020-02-10 15:00:00",
          "2020-02-10 16:00:00",
          "2020-02-10 17:00:00",
          "2020-02-10 18:00:00",
          "2020-02-10 19:00:00",
          "2020-02-10 20:00:00",
          "2020-02-10 21:00:00",
          "2020-02-10 22:00:00",
          "2020-02-10 23:00:00"
         ],
         "xaxis": "x2",
         "y": [
          91.38930773979055,
          90.82352624429659,
          98.01282957477316,
          111.80591839564542,
          132.08827352404518,
          162.1274362869761,
          197.44076645857854,
          235.0080946040898,
          270.535778812606,
          294.0818035955001,
          308.0214539751619,
          309.2202978010599,
          300.00951422526714,
          288.96973223378393,
          279.19919586490585,
          272.988745262919,
          272.6103846406031,
          274.23229374614436,
          277.84646667112634,
          278.6503729890393,
          278.412188061256,
          267.7250672370981,
          249.80106587272235,
          224.07802567859076
         ],
         "yaxis": "y2"
        },
        {
         "line": {
          "width": 0
         },
         "marker": {
          "color": "#444"
         },
         "mode": "lines",
         "name": "$Intensity \\mu-2\\sigma$",
         "showlegend": false,
         "type": "scatter",
         "x": [
          "2020-02-10 00:00:00",
          "2020-02-10 01:00:00",
          "2020-02-10 02:00:00",
          "2020-02-10 03:00:00",
          "2020-02-10 04:00:00",
          "2020-02-10 05:00:00",
          "2020-02-10 06:00:00",
          "2020-02-10 07:00:00",
          "2020-02-10 08:00:00",
          "2020-02-10 09:00:00",
          "2020-02-10 10:00:00",
          "2020-02-10 11:00:00",
          "2020-02-10 12:00:00",
          "2020-02-10 13:00:00",
          "2020-02-10 14:00:00",
          "2020-02-10 15:00:00",
          "2020-02-10 16:00:00",
          "2020-02-10 17:00:00",
          "2020-02-10 18:00:00",
          "2020-02-10 19:00:00",
          "2020-02-10 20:00:00",
          "2020-02-10 21:00:00",
          "2020-02-10 22:00:00",
          "2020-02-10 23:00:00"
         ],
         "xaxis": "x2",
         "y": [
          57.27059997699547,
          62.42385321962238,
          69.18675543261642,
          80.66337242691351,
          98.92158329002753,
          124.48575539587414,
          155.99235874984294,
          189.89575773792373,
          220.90911167357288,
          243.80198604453923,
          255.40324863837833,
          256.1643225478235,
          249.41573989499264,
          239.71573392615971,
          230.606938333465,
          224.4098636386314,
          222.06532090606458,
          223.36560422991457,
          226.68286461061578,
          229.05267073233057,
          226.90144208471403,
          217.85581453677565,
          199.087987425565,
          165.88956169936893
         ],
         "yaxis": "y2"
        },
        {
         "fill": "tonexty",
         "fillcolor": "rgba(0,255,0,0.3)",
         "line": {
          "color": "rgb(0, 255, 0)"
         },
         "mode": "lines",
         "name": "Intensity predictions",
         "type": "scatter",
         "x": [
          "2020-02-10 00:00:00",
          "2020-02-10 01:00:00",
          "2020-02-10 02:00:00",
          "2020-02-10 03:00:00",
          "2020-02-10 04:00:00",
          "2020-02-10 05:00:00",
          "2020-02-10 06:00:00",
          "2020-02-10 07:00:00",
          "2020-02-10 08:00:00",
          "2020-02-10 09:00:00",
          "2020-02-10 10:00:00",
          "2020-02-10 11:00:00",
          "2020-02-10 12:00:00",
          "2020-02-10 13:00:00",
          "2020-02-10 14:00:00",
          "2020-02-10 15:00:00",
          "2020-02-10 16:00:00",
          "2020-02-10 17:00:00",
          "2020-02-10 18:00:00",
          "2020-02-10 19:00:00",
          "2020-02-10 20:00:00",
          "2020-02-10 21:00:00",
          "2020-02-10 22:00:00",
          "2020-02-10 23:00:00"
         ],
         "xaxis": "x2",
         "y": [
          70.70363100590576,
          71.442437745921,
          77.60026484740733,
          89.87575531118802,
          109.11284538350723,
          135.62267550942965,
          168.2091104005595,
          203.35545116228076,
          235.5196198580517,
          259.0482114681808,
          270.7838913081862,
          271.2777022921165,
          264.133514821817,
          253.96422018070146,
          244.62897314098552,
          238.57245289893905,
          236.66570441688006,
          238.3710028340601,
          241.98579385914977,
          244.70853211068498,
          243.0948237672932,
          233.93369969438604,
          215.3703540560117,
          188.10493532279645
         ],
         "yaxis": "y2"
        },
        {
         "fill": "tonexty",
         "fillcolor": "rgba(0,255,0,0.3)",
         "line": {
          "width": 0
         },
         "marker": {
          "color": "#444"
         },
         "mode": "lines",
         "name": "Intensity $\\mu+2\\sigma$",
         "showlegend": false,
         "type": "scatter",
         "x": [
          "2020-02-10 00:00:00",
          "2020-02-10 01:00:00",
          "2020-02-10 02:00:00",
          "2020-02-10 03:00:00",
          "2020-02-10 04:00:00",
          "2020-02-10 05:00:00",
          "2020-02-10 06:00:00",
          "2020-02-10 07:00:00",
          "2020-02-10 08:00:00",
          "2020-02-10 09:00:00",
          "2020-02-10 10:00:00",
          "2020-02-10 11:00:00",
          "2020-02-10 12:00:00",
          "2020-02-10 13:00:00",
          "2020-02-10 14:00:00",
          "2020-02-10 15:00:00",
          "2020-02-10 16:00:00",
          "2020-02-10 17:00:00",
          "2020-02-10 18:00:00",
          "2020-02-10 19:00:00",
          "2020-02-10 20:00:00",
          "2020-02-10 21:00:00",
          "2020-02-10 22:00:00",
          "2020-02-10 23:00:00"
         ],
         "xaxis": "x2",
         "y": [
          84.13666203481606,
          80.46102227221961,
          86.01377426219824,
          99.08813819546252,
          119.30410747698694,
          146.75959562298516,
          180.42586205127606,
          216.81514458663779,
          250.13012804253052,
          274.2944368918224,
          286.16453397799404,
          286.3910820364095,
          278.8512897486414,
          268.2127064352432,
          258.65100794850605,
          252.7350421592467,
          251.26608792769554,
          253.37640143820565,
          257.2887231076837,
          260.3643934890394,
          259.2882054498724,
          250.01158485199642,
          231.65272068645842,
          210.32030894622397
         ],
         "yaxis": "y2"
        },
        {
         "line": {
          "color": "#1f77b4"
         },
         "mode": "lines+markers",
         "name": "Actual counts",
         "type": "scatter",
         "x": [
          "2020-02-10 00:00:00",
          "2020-02-10 01:00:00",
          "2020-02-10 02:00:00",
          "2020-02-10 03:00:00",
          "2020-02-10 04:00:00",
          "2020-02-10 05:00:00",
          "2020-02-10 06:00:00",
          "2020-02-10 07:00:00",
          "2020-02-10 08:00:00",
          "2020-02-10 09:00:00",
          "2020-02-10 10:00:00",
          "2020-02-10 11:00:00",
          "2020-02-10 12:00:00",
          "2020-02-10 13:00:00",
          "2020-02-10 14:00:00",
          "2020-02-10 15:00:00",
          "2020-02-10 16:00:00",
          "2020-02-10 17:00:00",
          "2020-02-10 18:00:00",
          "2020-02-10 19:00:00",
          "2020-02-10 20:00:00",
          "2020-02-10 21:00:00",
          "2020-02-10 22:00:00",
          "2020-02-10 23:00:00"
         ],
         "xaxis": "x2",
         "y": [
          75,
          78,
          98,
          51,
          84,
          126,
          225,
          221,
          229,
          238,
          282,
          245,
          258,
          265,
          246,
          241,
          259,
          248,
          208,
          240,
          235,
          254,
          228,
          177
         ],
         "yaxis": "y2"
        },
        {
         "line": {
          "width": 0
         },
         "marker": {
          "color": "#444"
         },
         "mode": "lines",
         "name": "$Counts \\mu-2\\sigma$",
         "showlegend": false,
         "type": "scatter",
         "x": [
          "2020-02-10 00:00:00",
          "2020-02-10 01:00:00",
          "2020-02-10 02:00:00",
          "2020-02-10 03:00:00",
          "2020-02-10 04:00:00",
          "2020-02-10 05:00:00",
          "2020-02-10 06:00:00",
          "2020-02-10 07:00:00",
          "2020-02-10 08:00:00",
          "2020-02-10 09:00:00",
          "2020-02-10 10:00:00",
          "2020-02-10 11:00:00",
          "2020-02-10 12:00:00",
          "2020-02-10 13:00:00",
          "2020-02-10 14:00:00",
          "2020-02-10 15:00:00",
          "2020-02-10 16:00:00",
          "2020-02-10 17:00:00",
          "2020-02-10 18:00:00",
          "2020-02-10 19:00:00",
          "2020-02-10 20:00:00",
          "2020-02-10 21:00:00",
          "2020-02-10 22:00:00",
          "2020-02-10 23:00:00"
         ],
         "xaxis": "x5",
         "y": [
          56.11095076092434,
          52.96422952264872,
          52.15875840001908,
          59.98695847130419,
          78.51950826169946,
          107.2696732543078,
          145.25953511248863,
          186.18007317753114,
          212.60001151006796,
          222.9443787342762,
          220.2097227447616,
          217.598959650998,
          217.93625909133672,
          217.9808990090784,
          220.6580230192344,
          216.26697536592943,
          207.38094277341222,
          199.6062951544258,
          195.8500575705716,
          198.21050691092356,
          206.90685359703735,
          205.63466846846853,
          189.4679646380145,
          146.07961792338503
         ],
         "yaxis": "y5"
        },
        {
         "fill": "tonexty",
         "fillcolor": "rgba(255,0,0,0.3)",
         "line": {
          "color": "rgb(255, 0, 0)"
         },
         "mode": "lines",
         "name": "Count predictions",
         "type": "scatter",
         "x": [
          "2020-02-10 00:00:00",
          "2020-02-10 01:00:00",
          "2020-02-10 02:00:00",
          "2020-02-10 03:00:00",
          "2020-02-10 04:00:00",
          "2020-02-10 05:00:00",
          "2020-02-10 06:00:00",
          "2020-02-10 07:00:00",
          "2020-02-10 08:00:00",
          "2020-02-10 09:00:00",
          "2020-02-10 10:00:00",
          "2020-02-10 11:00:00",
          "2020-02-10 12:00:00",
          "2020-02-10 13:00:00",
          "2020-02-10 14:00:00",
          "2020-02-10 15:00:00",
          "2020-02-10 16:00:00",
          "2020-02-10 17:00:00",
          "2020-02-10 18:00:00",
          "2020-02-10 19:00:00",
          "2020-02-10 20:00:00",
          "2020-02-10 21:00:00",
          "2020-02-10 22:00:00",
          "2020-02-10 23:00:00"
         ],
         "xaxis": "x5",
         "y": [
          80.228,
          72.936,
          72.341,
          79.925,
          100.564,
          133.59,
          177.246,
          220.651,
          249.307,
          259.483,
          257.495,
          253.585,
          253.908,
          255.113,
          256.389,
          252.477,
          243.02,
          234.144,
          230.59,
          234.982,
          241.633,
          242.758,
          225.255,
          181.256
         ],
         "yaxis": "y5"
        },
        {
         "fill": "tonexty",
         "fillcolor": "rgba(255,0,0,0.3)",
         "line": {
          "width": 0
         },
         "marker": {
          "color": "#444"
         },
         "mode": "lines",
         "name": "$Counts \\mu+2\\sigma$",
         "showlegend": false,
         "type": "scatter",
         "x": [
          "2020-02-10 00:00:00",
          "2020-02-10 01:00:00",
          "2020-02-10 02:00:00",
          "2020-02-10 03:00:00",
          "2020-02-10 04:00:00",
          "2020-02-10 05:00:00",
          "2020-02-10 06:00:00",
          "2020-02-10 07:00:00",
          "2020-02-10 08:00:00",
          "2020-02-10 09:00:00",
          "2020-02-10 10:00:00",
          "2020-02-10 11:00:00",
          "2020-02-10 12:00:00",
          "2020-02-10 13:00:00",
          "2020-02-10 14:00:00",
          "2020-02-10 15:00:00",
          "2020-02-10 16:00:00",
          "2020-02-10 17:00:00",
          "2020-02-10 18:00:00",
          "2020-02-10 19:00:00",
          "2020-02-10 20:00:00",
          "2020-02-10 21:00:00",
          "2020-02-10 22:00:00",
          "2020-02-10 23:00:00"
         ],
         "xaxis": "x5",
         "y": [
          104.34504923907565,
          92.90777047735129,
          92.5232415999809,
          99.8630415286958,
          122.60849173830053,
          159.9103267456922,
          209.23246488751138,
          255.12192682246888,
          286.013988489932,
          296.0216212657238,
          294.7802772552384,
          289.57104034900203,
          289.8797409086633,
          292.2451009909216,
          292.1199769807656,
          288.6870246340706,
          278.65905722658783,
          268.6817048455742,
          265.3299424294284,
          271.75349308907647,
          276.35914640296266,
          279.8813315315315,
          261.0420353619855,
          216.43238207661497
         ],
         "yaxis": "y5"
        },
        {
         "line": {
          "width": 0
         },
         "marker": {
          "color": "#444"
         },
         "mode": "lines",
         "name": "$Intensity \\mu-2\\sigma$",
         "showlegend": false,
         "type": "scatter",
         "x": [
          "2020-02-10 00:00:00",
          "2020-02-10 01:00:00",
          "2020-02-10 02:00:00",
          "2020-02-10 03:00:00",
          "2020-02-10 04:00:00",
          "2020-02-10 05:00:00",
          "2020-02-10 06:00:00",
          "2020-02-10 07:00:00",
          "2020-02-10 08:00:00",
          "2020-02-10 09:00:00",
          "2020-02-10 10:00:00",
          "2020-02-10 11:00:00",
          "2020-02-10 12:00:00",
          "2020-02-10 13:00:00",
          "2020-02-10 14:00:00",
          "2020-02-10 15:00:00",
          "2020-02-10 16:00:00",
          "2020-02-10 17:00:00",
          "2020-02-10 18:00:00",
          "2020-02-10 19:00:00",
          "2020-02-10 20:00:00",
          "2020-02-10 21:00:00",
          "2020-02-10 22:00:00",
          "2020-02-10 23:00:00"
         ],
         "xaxis": "x5",
         "y": [
          64.22580011285112,
          62.89258562938022,
          61.98247939327682,
          70.08916974833635,
          89.4991706664645,
          121.17590319512554,
          162.40119977275882,
          203.3878389656291,
          231.3394987438258,
          241.65750505723653,
          240.4856003117667,
          236.61694931743142,
          235.62934658022556,
          237.67200878447576,
          238.47505882621522,
          234.2252737192706,
          225.92985352049809,
          217.89177560519772,
          214.50029742530043,
          217.9431232036568,
          224.50941048413685,
          223.98754378449522,
          206.39349532571535,
          157.0595128653451
         ],
         "yaxis": "y5"
        },
        {
         "fill": "tonexty",
         "fillcolor": "rgba(0,255,0,0.3)",
         "line": {
          "color": "rgb(0, 255, 0)"
         },
         "mode": "lines",
         "name": "Intensity predictions",
         "type": "scatter",
         "x": [
          "2020-02-10 00:00:00",
          "2020-02-10 01:00:00",
          "2020-02-10 02:00:00",
          "2020-02-10 03:00:00",
          "2020-02-10 04:00:00",
          "2020-02-10 05:00:00",
          "2020-02-10 06:00:00",
          "2020-02-10 07:00:00",
          "2020-02-10 08:00:00",
          "2020-02-10 09:00:00",
          "2020-02-10 10:00:00",
          "2020-02-10 11:00:00",
          "2020-02-10 12:00:00",
          "2020-02-10 13:00:00",
          "2020-02-10 14:00:00",
          "2020-02-10 15:00:00",
          "2020-02-10 16:00:00",
          "2020-02-10 17:00:00",
          "2020-02-10 18:00:00",
          "2020-02-10 19:00:00",
          "2020-02-10 20:00:00",
          "2020-02-10 21:00:00",
          "2020-02-10 22:00:00",
          "2020-02-10 23:00:00"
         ],
         "xaxis": "x5",
         "y": [
          80.16228079991089,
          72.76134791750958,
          71.7483468833481,
          80.01305828958888,
          100.17725405791187,
          133.77844210129203,
          177.4457139894135,
          220.14174567765616,
          248.77164273388317,
          259.0100008249533,
          257.5817454270854,
          254.04466296437596,
          253.70232352500412,
          255.86722963945587,
          256.4596976310393,
          252.01269714952244,
          243.1149620488602,
          234.38949748127698,
          230.9393758220427,
          234.82285495313351,
          242.4573485607165,
          243.5828252163046,
          224.84778227280017,
          181.4604588087152
         ],
         "yaxis": "y5"
        },
        {
         "fill": "tonexty",
         "fillcolor": "rgba(0,255,0,0.3)",
         "line": {
          "width": 0
         },
         "marker": {
          "color": "#444"
         },
         "mode": "lines",
         "name": "Intensity $\\mu+2\\sigma$",
         "showlegend": false,
         "type": "scatter",
         "x": [
          "2020-02-10 00:00:00",
          "2020-02-10 01:00:00",
          "2020-02-10 02:00:00",
          "2020-02-10 03:00:00",
          "2020-02-10 04:00:00",
          "2020-02-10 05:00:00",
          "2020-02-10 06:00:00",
          "2020-02-10 07:00:00",
          "2020-02-10 08:00:00",
          "2020-02-10 09:00:00",
          "2020-02-10 10:00:00",
          "2020-02-10 11:00:00",
          "2020-02-10 12:00:00",
          "2020-02-10 13:00:00",
          "2020-02-10 14:00:00",
          "2020-02-10 15:00:00",
          "2020-02-10 16:00:00",
          "2020-02-10 17:00:00",
          "2020-02-10 18:00:00",
          "2020-02-10 19:00:00",
          "2020-02-10 20:00:00",
          "2020-02-10 21:00:00",
          "2020-02-10 22:00:00",
          "2020-02-10 23:00:00"
         ],
         "xaxis": "x5",
         "y": [
          96.09876148697066,
          82.63011020563894,
          81.51421437341939,
          89.93694683084142,
          110.85533744935924,
          146.38098100745853,
          192.49022820606817,
          236.89565238968322,
          266.20378672394054,
          276.3624965926701,
          274.67789054240416,
          271.4723766113205,
          271.7753004697827,
          274.062450494436,
          274.4443364358634,
          269.8001205797743,
          260.3000705772223,
          250.88721935735623,
          247.37845421878498,
          251.70258670261023,
          260.4052866372962,
          263.178106648114,
          243.302069219885,
          205.8614047520853
         ],
         "yaxis": "y5"
        },
        {
         "line": {
          "color": "#1f77b4"
         },
         "mode": "lines+markers",
         "name": "Actual counts",
         "type": "scatter",
         "x": [
          "2020-02-10 00:00:00",
          "2020-02-10 01:00:00",
          "2020-02-10 02:00:00",
          "2020-02-10 03:00:00",
          "2020-02-10 04:00:00",
          "2020-02-10 05:00:00",
          "2020-02-10 06:00:00",
          "2020-02-10 07:00:00",
          "2020-02-10 08:00:00",
          "2020-02-10 09:00:00",
          "2020-02-10 10:00:00",
          "2020-02-10 11:00:00",
          "2020-02-10 12:00:00",
          "2020-02-10 13:00:00",
          "2020-02-10 14:00:00",
          "2020-02-10 15:00:00",
          "2020-02-10 16:00:00",
          "2020-02-10 17:00:00",
          "2020-02-10 18:00:00",
          "2020-02-10 19:00:00",
          "2020-02-10 20:00:00",
          "2020-02-10 21:00:00",
          "2020-02-10 22:00:00",
          "2020-02-10 23:00:00"
         ],
         "xaxis": "x5",
         "y": [
          75,
          78,
          98,
          51,
          84,
          126,
          225,
          221,
          229,
          238,
          282,
          245,
          258,
          265,
          246,
          241,
          259,
          248,
          208,
          240,
          235,
          254,
          228,
          177
         ],
         "yaxis": "y5"
        },
        {
         "line": {
          "width": 0
         },
         "marker": {
          "color": "#444"
         },
         "mode": "lines",
         "name": "$Counts \\mu-2\\sigma$",
         "showlegend": false,
         "type": "scatter",
         "x": [
          "2020-02-10 00:00:00",
          "2020-02-10 01:00:00",
          "2020-02-10 02:00:00",
          "2020-02-10 03:00:00",
          "2020-02-10 04:00:00",
          "2020-02-10 05:00:00",
          "2020-02-10 06:00:00",
          "2020-02-10 07:00:00",
          "2020-02-10 08:00:00",
          "2020-02-10 09:00:00",
          "2020-02-10 10:00:00",
          "2020-02-10 11:00:00",
          "2020-02-10 12:00:00",
          "2020-02-10 13:00:00",
          "2020-02-10 14:00:00",
          "2020-02-10 15:00:00",
          "2020-02-10 16:00:00",
          "2020-02-10 17:00:00",
          "2020-02-10 18:00:00",
          "2020-02-10 19:00:00",
          "2020-02-10 20:00:00",
          "2020-02-10 21:00:00",
          "2020-02-10 22:00:00",
          "2020-02-10 23:00:00"
         ],
         "xaxis": "x8",
         "y": [
          54.97936601269686,
          52.624269649025536,
          58.20046567365111,
          67.94918042177144,
          84.14559495129215,
          108.9670173859586,
          138.5568566223744,
          173.56840769115965,
          207.79641711233825,
          233.62666056290172,
          245.8847087687752,
          245.40322029642198,
          234.64998833262803,
          221.04918617172518,
          208.23774683837462,
          199.40660720571248,
          197.8179522940028,
          202.85898799743842,
          209.1579963047688,
          213.00774721118512,
          210.30600899894839,
          202.28277889452147,
          182.18719266911123,
          144.4088043494139
         ],
         "yaxis": "y8"
        },
        {
         "fill": "tonexty",
         "fillcolor": "rgba(255,0,0,0.3)",
         "line": {
          "color": "rgb(255, 0, 0)"
         },
         "mode": "lines",
         "name": "Count predictions",
         "type": "scatter",
         "x": [
          "2020-02-10 00:00:00",
          "2020-02-10 01:00:00",
          "2020-02-10 02:00:00",
          "2020-02-10 03:00:00",
          "2020-02-10 04:00:00",
          "2020-02-10 05:00:00",
          "2020-02-10 06:00:00",
          "2020-02-10 07:00:00",
          "2020-02-10 08:00:00",
          "2020-02-10 09:00:00",
          "2020-02-10 10:00:00",
          "2020-02-10 11:00:00",
          "2020-02-10 12:00:00",
          "2020-02-10 13:00:00",
          "2020-02-10 14:00:00",
          "2020-02-10 15:00:00",
          "2020-02-10 16:00:00",
          "2020-02-10 17:00:00",
          "2020-02-10 18:00:00",
          "2020-02-10 19:00:00",
          "2020-02-10 20:00:00",
          "2020-02-10 21:00:00",
          "2020-02-10 22:00:00",
          "2020-02-10 23:00:00"
         ],
         "xaxis": "x8",
         "y": [
          76.794,
          73.861,
          78.735,
          89.421,
          108.433,
          134.965,
          168.729,
          208.385,
          244.64,
          272.173,
          284.162,
          282.864,
          272.362,
          257.126,
          245.076,
          236.999,
          235.046,
          237.185,
          243.256,
          249.123,
          249.255,
          239.566,
          216.505,
          183.844
         ],
         "yaxis": "y8"
        },
        {
         "fill": "tonexty",
         "fillcolor": "rgba(255,0,0,0.3)",
         "line": {
          "width": 0
         },
         "marker": {
          "color": "#444"
         },
         "mode": "lines",
         "name": "$Counts \\mu+2\\sigma$",
         "showlegend": false,
         "type": "scatter",
         "x": [
          "2020-02-10 00:00:00",
          "2020-02-10 01:00:00",
          "2020-02-10 02:00:00",
          "2020-02-10 03:00:00",
          "2020-02-10 04:00:00",
          "2020-02-10 05:00:00",
          "2020-02-10 06:00:00",
          "2020-02-10 07:00:00",
          "2020-02-10 08:00:00",
          "2020-02-10 09:00:00",
          "2020-02-10 10:00:00",
          "2020-02-10 11:00:00",
          "2020-02-10 12:00:00",
          "2020-02-10 13:00:00",
          "2020-02-10 14:00:00",
          "2020-02-10 15:00:00",
          "2020-02-10 16:00:00",
          "2020-02-10 17:00:00",
          "2020-02-10 18:00:00",
          "2020-02-10 19:00:00",
          "2020-02-10 20:00:00",
          "2020-02-10 21:00:00",
          "2020-02-10 22:00:00",
          "2020-02-10 23:00:00"
         ],
         "xaxis": "x8",
         "y": [
          98.60863398730314,
          95.09773035097447,
          99.26953432634889,
          110.89281957822857,
          132.72040504870787,
          160.9629826140414,
          198.90114337762563,
          243.20159230884033,
          281.4835828876617,
          310.71933943709826,
          322.43929123122473,
          320.324779703578,
          310.074011667372,
          293.20281382827477,
          281.91425316162537,
          274.5913927942875,
          272.2740477059972,
          271.5110120025616,
          277.3540036952312,
          285.23825278881486,
          288.20399100105163,
          276.84922110547853,
          250.82280733088876,
          223.27919565058608
         ],
         "yaxis": "y8"
        },
        {
         "line": {
          "width": 0
         },
         "marker": {
          "color": "#444"
         },
         "mode": "lines",
         "name": "$Intensity \\mu-2\\sigma$",
         "showlegend": false,
         "type": "scatter",
         "x": [
          "2020-02-10 00:00:00",
          "2020-02-10 01:00:00",
          "2020-02-10 02:00:00",
          "2020-02-10 03:00:00",
          "2020-02-10 04:00:00",
          "2020-02-10 05:00:00",
          "2020-02-10 06:00:00",
          "2020-02-10 07:00:00",
          "2020-02-10 08:00:00",
          "2020-02-10 09:00:00",
          "2020-02-10 10:00:00",
          "2020-02-10 11:00:00",
          "2020-02-10 12:00:00",
          "2020-02-10 13:00:00",
          "2020-02-10 14:00:00",
          "2020-02-10 15:00:00",
          "2020-02-10 16:00:00",
          "2020-02-10 17:00:00",
          "2020-02-10 18:00:00",
          "2020-02-10 19:00:00",
          "2020-02-10 20:00:00",
          "2020-02-10 21:00:00",
          "2020-02-10 22:00:00",
          "2020-02-10 23:00:00"
         ],
         "xaxis": "x8",
         "y": [
          61.734189640689465,
          62.947954336501205,
          68.82081637754912,
          79.78652761304419,
          96.68734088440212,
          120.8452683744553,
          152.74071376941134,
          189.79995774005135,
          225.63843229983632,
          252.27691068613905,
          265.26859986470197,
          265.46497452548147,
          255.69735928245905,
          240.05101865179952,
          224.67932896281482,
          215.2249666077717,
          214.27548964270585,
          220.9717595769778,
          229.09911076534502,
          230.10268609904665,
          224.85805426084244,
          216.30863990380152,
          199.87128343445113,
          156.156533572461
         ],
         "yaxis": "y8"
        },
        {
         "fill": "tonexty",
         "fillcolor": "rgba(0,255,0,0.3)",
         "line": {
          "color": "rgb(0, 255, 0)"
         },
         "mode": "lines",
         "name": "Intensity predictions",
         "type": "scatter",
         "x": [
          "2020-02-10 00:00:00",
          "2020-02-10 01:00:00",
          "2020-02-10 02:00:00",
          "2020-02-10 03:00:00",
          "2020-02-10 04:00:00",
          "2020-02-10 05:00:00",
          "2020-02-10 06:00:00",
          "2020-02-10 07:00:00",
          "2020-02-10 08:00:00",
          "2020-02-10 09:00:00",
          "2020-02-10 10:00:00",
          "2020-02-10 11:00:00",
          "2020-02-10 12:00:00",
          "2020-02-10 13:00:00",
          "2020-02-10 14:00:00",
          "2020-02-10 15:00:00",
          "2020-02-10 16:00:00",
          "2020-02-10 17:00:00",
          "2020-02-10 18:00:00",
          "2020-02-10 19:00:00",
          "2020-02-10 20:00:00",
          "2020-02-10 21:00:00",
          "2020-02-10 22:00:00",
          "2020-02-10 23:00:00"
         ],
         "xaxis": "x8",
         "y": [
          76.34768982192683,
          74.57045047006059,
          78.69570551163017,
          89.48288599803622,
          107.98203360252225,
          134.89785760780873,
          169.47981352858352,
          208.1964287457118,
          244.64211293576537,
          271.6189471144195,
          284.38989055290114,
          283.2392778022466,
          272.54866391703905,
          258.393530077597,
          245.81766080504593,
          237.8465665987107,
          235.51003420917434,
          238.26630596958938,
          243.9995677495511,
          249.18391255227857,
          248.9881447192707,
          238.84283917686525,
          216.53862106066202,
          184.11723545703762
         ],
         "yaxis": "y8"
        },
        {
         "fill": "tonexty",
         "fillcolor": "rgba(0,255,0,0.3)",
         "line": {
          "width": 0
         },
         "marker": {
          "color": "#444"
         },
         "mode": "lines",
         "name": "Intensity $\\mu+2\\sigma$",
         "showlegend": false,
         "type": "scatter",
         "x": [
          "2020-02-10 00:00:00",
          "2020-02-10 01:00:00",
          "2020-02-10 02:00:00",
          "2020-02-10 03:00:00",
          "2020-02-10 04:00:00",
          "2020-02-10 05:00:00",
          "2020-02-10 06:00:00",
          "2020-02-10 07:00:00",
          "2020-02-10 08:00:00",
          "2020-02-10 09:00:00",
          "2020-02-10 10:00:00",
          "2020-02-10 11:00:00",
          "2020-02-10 12:00:00",
          "2020-02-10 13:00:00",
          "2020-02-10 14:00:00",
          "2020-02-10 15:00:00",
          "2020-02-10 16:00:00",
          "2020-02-10 17:00:00",
          "2020-02-10 18:00:00",
          "2020-02-10 19:00:00",
          "2020-02-10 20:00:00",
          "2020-02-10 21:00:00",
          "2020-02-10 22:00:00",
          "2020-02-10 23:00:00"
         ],
         "xaxis": "x8",
         "y": [
          90.9611900031642,
          86.19294660361999,
          88.57059464571121,
          99.17924438302826,
          119.27672632064238,
          148.95044684116215,
          186.2189132877557,
          226.59289975137227,
          263.6457935716944,
          290.9609835426999,
          303.5111812411003,
          301.0135810790117,
          289.39996855161905,
          276.7360415033945,
          266.95599264727707,
          260.4681665896497,
          256.7445787756428,
          255.56085236220096,
          258.90002473375716,
          268.2651390055105,
          273.118235177699,
          261.377038449929,
          233.20595868687292,
          212.07793734161424
         ],
         "yaxis": "y8"
        },
        {
         "line": {
          "color": "#1f77b4"
         },
         "mode": "lines+markers",
         "name": "Actual counts",
         "type": "scatter",
         "x": [
          "2020-02-10 00:00:00",
          "2020-02-10 01:00:00",
          "2020-02-10 02:00:00",
          "2020-02-10 03:00:00",
          "2020-02-10 04:00:00",
          "2020-02-10 05:00:00",
          "2020-02-10 06:00:00",
          "2020-02-10 07:00:00",
          "2020-02-10 08:00:00",
          "2020-02-10 09:00:00",
          "2020-02-10 10:00:00",
          "2020-02-10 11:00:00",
          "2020-02-10 12:00:00",
          "2020-02-10 13:00:00",
          "2020-02-10 14:00:00",
          "2020-02-10 15:00:00",
          "2020-02-10 16:00:00",
          "2020-02-10 17:00:00",
          "2020-02-10 18:00:00",
          "2020-02-10 19:00:00",
          "2020-02-10 20:00:00",
          "2020-02-10 21:00:00",
          "2020-02-10 22:00:00",
          "2020-02-10 23:00:00"
         ],
         "xaxis": "x8",
         "y": [
          75,
          78,
          98,
          51,
          84,
          126,
          225,
          221,
          229,
          238,
          282,
          245,
          258,
          265,
          246,
          241,
          259,
          248,
          208,
          240,
          235,
          254,
          228,
          177
         ],
         "yaxis": "y8"
        },
        {
         "line": {
          "width": 0
         },
         "marker": {
          "color": "#444"
         },
         "mode": "lines",
         "name": "$Counts \\mu-2\\sigma$",
         "showlegend": false,
         "type": "scatter",
         "x": [
          "2020-02-10 00:00:00",
          "2020-02-10 01:00:00",
          "2020-02-10 02:00:00",
          "2020-02-10 03:00:00",
          "2020-02-10 04:00:00",
          "2020-02-10 05:00:00",
          "2020-02-10 06:00:00",
          "2020-02-10 07:00:00",
          "2020-02-10 08:00:00",
          "2020-02-10 09:00:00",
          "2020-02-10 10:00:00",
          "2020-02-10 11:00:00",
          "2020-02-10 12:00:00",
          "2020-02-10 13:00:00",
          "2020-02-10 14:00:00",
          "2020-02-10 15:00:00",
          "2020-02-10 16:00:00",
          "2020-02-10 17:00:00",
          "2020-02-10 18:00:00",
          "2020-02-10 19:00:00",
          "2020-02-10 20:00:00",
          "2020-02-10 21:00:00",
          "2020-02-10 22:00:00",
          "2020-02-10 23:00:00"
         ],
         "xaxis": "x11",
         "y": [
          49.398576876849965,
          52.56104153056089,
          58.14224477157902,
          68.98136772554058,
          86.78020759345523,
          111.45144525421641,
          141.151483146843,
          170.711305133776,
          199.53003899531942,
          220.65805811381412,
          234.7429986597444,
          235.357980606336,
          227.3810859154405,
          218.92836272914167,
          211.10994585240798,
          204.50424830895065,
          201.768867796667,
          203.9586497562802,
          206.86238430081318,
          210.31871163761596,
          208.60023385872157,
          201.21150458932163,
          183.18519835275168,
          152.6107976611504
         ],
         "yaxis": "y11"
        },
        {
         "fill": "tonexty",
         "fillcolor": "rgba(255,0,0,0.3)",
         "line": {
          "color": "rgb(255, 0, 0)"
         },
         "mode": "lines",
         "name": "Count predictions",
         "type": "scatter",
         "x": [
          "2020-02-10 00:00:00",
          "2020-02-10 01:00:00",
          "2020-02-10 02:00:00",
          "2020-02-10 03:00:00",
          "2020-02-10 04:00:00",
          "2020-02-10 05:00:00",
          "2020-02-10 06:00:00",
          "2020-02-10 07:00:00",
          "2020-02-10 08:00:00",
          "2020-02-10 09:00:00",
          "2020-02-10 10:00:00",
          "2020-02-10 11:00:00",
          "2020-02-10 12:00:00",
          "2020-02-10 13:00:00",
          "2020-02-10 14:00:00",
          "2020-02-10 15:00:00",
          "2020-02-10 16:00:00",
          "2020-02-10 17:00:00",
          "2020-02-10 18:00:00",
          "2020-02-10 19:00:00",
          "2020-02-10 20:00:00",
          "2020-02-10 21:00:00",
          "2020-02-10 22:00:00",
          "2020-02-10 23:00:00"
         ],
         "xaxis": "x11",
         "y": [
          70.759,
          71.535,
          78.171,
          90.829,
          110.685,
          137.095,
          168.498,
          202.081,
          234.406,
          257.663,
          270.184,
          271.246,
          264.4,
          254.128,
          245.045,
          238.784,
          236.231,
          237.968,
          241.84,
          245.261,
          244.562,
          234.577,
          215.955,
          187.876
         ],
         "yaxis": "y11"
        },
        {
         "fill": "tonexty",
         "fillcolor": "rgba(255,0,0,0.3)",
         "line": {
          "width": 0
         },
         "marker": {
          "color": "#444"
         },
         "mode": "lines",
         "name": "$Counts \\mu+2\\sigma$",
         "showlegend": false,
         "type": "scatter",
         "x": [
          "2020-02-10 00:00:00",
          "2020-02-10 01:00:00",
          "2020-02-10 02:00:00",
          "2020-02-10 03:00:00",
          "2020-02-10 04:00:00",
          "2020-02-10 05:00:00",
          "2020-02-10 06:00:00",
          "2020-02-10 07:00:00",
          "2020-02-10 08:00:00",
          "2020-02-10 09:00:00",
          "2020-02-10 10:00:00",
          "2020-02-10 11:00:00",
          "2020-02-10 12:00:00",
          "2020-02-10 13:00:00",
          "2020-02-10 14:00:00",
          "2020-02-10 15:00:00",
          "2020-02-10 16:00:00",
          "2020-02-10 17:00:00",
          "2020-02-10 18:00:00",
          "2020-02-10 19:00:00",
          "2020-02-10 20:00:00",
          "2020-02-10 21:00:00",
          "2020-02-10 22:00:00",
          "2020-02-10 23:00:00"
         ],
         "xaxis": "x11",
         "y": [
          92.11942312315003,
          90.50895846943911,
          98.199755228421,
          112.67663227445941,
          134.58979240654477,
          162.73855474578357,
          195.844516853157,
          233.45069486622398,
          269.2819610046806,
          294.6679418861859,
          305.62500134025566,
          307.13401939366395,
          301.41891408455945,
          289.3276372708583,
          278.980054147592,
          273.06375169104933,
          270.693132203333,
          271.9773502437198,
          276.81761569918683,
          280.203288362384,
          280.52376614127843,
          267.94249541067836,
          248.72480164724834,
          223.1412023388496
         ],
         "yaxis": "y11"
        },
        {
         "line": {
          "width": 0
         },
         "marker": {
          "color": "#444"
         },
         "mode": "lines",
         "name": "$Intensity \\mu-2\\sigma$",
         "showlegend": false,
         "type": "scatter",
         "x": [
          "2020-02-10 00:00:00",
          "2020-02-10 01:00:00",
          "2020-02-10 02:00:00",
          "2020-02-10 03:00:00",
          "2020-02-10 04:00:00",
          "2020-02-10 05:00:00",
          "2020-02-10 06:00:00",
          "2020-02-10 07:00:00",
          "2020-02-10 08:00:00",
          "2020-02-10 09:00:00",
          "2020-02-10 10:00:00",
          "2020-02-10 11:00:00",
          "2020-02-10 12:00:00",
          "2020-02-10 13:00:00",
          "2020-02-10 14:00:00",
          "2020-02-10 15:00:00",
          "2020-02-10 16:00:00",
          "2020-02-10 17:00:00",
          "2020-02-10 18:00:00",
          "2020-02-10 19:00:00",
          "2020-02-10 20:00:00",
          "2020-02-10 21:00:00",
          "2020-02-10 22:00:00",
          "2020-02-10 23:00:00"
         ],
         "xaxis": "x11",
         "y": [
          57.189814898124226,
          62.373523945778416,
          69.433783083277,
          81.24015715779362,
          99.67349245233315,
          125.20569126015195,
          156.39564085040791,
          189.7137508075789,
          219.91537925953168,
          242.04874372880488,
          253.4042256050059,
          254.44064746711862,
          248.33982651959263,
          238.95791916305697,
          229.96673304470363,
          223.78787680660028,
          221.77189000435965,
          223.57288895457214,
          226.88360472761536,
          228.40534964290717,
          225.4140478192057,
          216.68009781368218,
          199.10803692687517,
          165.32260009893648
         ],
         "yaxis": "y11"
        },
        {
         "fill": "tonexty",
         "fillcolor": "rgba(0,255,0,0.3)",
         "line": {
          "color": "rgb(0, 255, 0)"
         },
         "mode": "lines",
         "name": "Intensity predictions",
         "type": "scatter",
         "x": [
          "2020-02-10 00:00:00",
          "2020-02-10 01:00:00",
          "2020-02-10 02:00:00",
          "2020-02-10 03:00:00",
          "2020-02-10 04:00:00",
          "2020-02-10 05:00:00",
          "2020-02-10 06:00:00",
          "2020-02-10 07:00:00",
          "2020-02-10 08:00:00",
          "2020-02-10 09:00:00",
          "2020-02-10 10:00:00",
          "2020-02-10 11:00:00",
          "2020-02-10 12:00:00",
          "2020-02-10 13:00:00",
          "2020-02-10 14:00:00",
          "2020-02-10 15:00:00",
          "2020-02-10 16:00:00",
          "2020-02-10 17:00:00",
          "2020-02-10 18:00:00",
          "2020-02-10 19:00:00",
          "2020-02-10 20:00:00",
          "2020-02-10 21:00:00",
          "2020-02-10 22:00:00",
          "2020-02-10 23:00:00"
         ],
         "xaxis": "x11",
         "y": [
          70.12675741152076,
          71.33062547782859,
          78.01762018641172,
          90.73158388137901,
          110.20567691072264,
          136.60802566858575,
          168.70118929898658,
          203.12782900566225,
          234.6626740325632,
          257.9839085592264,
          270.05619970987124,
          271.1861902162165,
          264.61793192552557,
          254.73655193218326,
          245.37745097065525,
          239.06851648067484,
          236.78780612112098,
          238.1752888895682,
          241.61313173581166,
          244.35555141251456,
          242.90933408122368,
          233.92037260282206,
          215.45911304272067,
          188.2690673162849
         ],
         "yaxis": "y11"
        },
        {
         "fill": "tonexty",
         "fillcolor": "rgba(0,255,0,0.3)",
         "line": {
          "width": 0
         },
         "marker": {
          "color": "#444"
         },
         "mode": "lines",
         "name": "Intensity $\\mu+2\\sigma$",
         "showlegend": false,
         "type": "scatter",
         "x": [
          "2020-02-10 00:00:00",
          "2020-02-10 01:00:00",
          "2020-02-10 02:00:00",
          "2020-02-10 03:00:00",
          "2020-02-10 04:00:00",
          "2020-02-10 05:00:00",
          "2020-02-10 06:00:00",
          "2020-02-10 07:00:00",
          "2020-02-10 08:00:00",
          "2020-02-10 09:00:00",
          "2020-02-10 10:00:00",
          "2020-02-10 11:00:00",
          "2020-02-10 12:00:00",
          "2020-02-10 13:00:00",
          "2020-02-10 14:00:00",
          "2020-02-10 15:00:00",
          "2020-02-10 16:00:00",
          "2020-02-10 17:00:00",
          "2020-02-10 18:00:00",
          "2020-02-10 19:00:00",
          "2020-02-10 20:00:00",
          "2020-02-10 21:00:00",
          "2020-02-10 22:00:00",
          "2020-02-10 23:00:00"
         ],
         "xaxis": "x11",
         "y": [
          83.06369992491729,
          80.28772700987876,
          86.60145728954643,
          100.2230106049644,
          120.73786136911214,
          148.01036007701956,
          181.00673774756524,
          216.5419072037456,
          249.4099688055947,
          273.9190733896479,
          286.70817381473654,
          287.9317329653144,
          280.8960373314585,
          270.5151847013096,
          260.78816889660686,
          254.3491561547494,
          251.8037222378823,
          252.77768882456428,
          256.34265874400796,
          260.3057531821219,
          260.4046203432417,
          251.16064739196193,
          231.81018915856617,
          211.2155345336333
         ],
         "yaxis": "y11"
        },
        {
         "line": {
          "color": "#1f77b4"
         },
         "mode": "lines+markers",
         "name": "Actual counts",
         "type": "scatter",
         "x": [
          "2020-02-10 00:00:00",
          "2020-02-10 01:00:00",
          "2020-02-10 02:00:00",
          "2020-02-10 03:00:00",
          "2020-02-10 04:00:00",
          "2020-02-10 05:00:00",
          "2020-02-10 06:00:00",
          "2020-02-10 07:00:00",
          "2020-02-10 08:00:00",
          "2020-02-10 09:00:00",
          "2020-02-10 10:00:00",
          "2020-02-10 11:00:00",
          "2020-02-10 12:00:00",
          "2020-02-10 13:00:00",
          "2020-02-10 14:00:00",
          "2020-02-10 15:00:00",
          "2020-02-10 16:00:00",
          "2020-02-10 17:00:00",
          "2020-02-10 18:00:00",
          "2020-02-10 19:00:00",
          "2020-02-10 20:00:00",
          "2020-02-10 21:00:00",
          "2020-02-10 22:00:00",
          "2020-02-10 23:00:00"
         ],
         "xaxis": "x11",
         "y": [
          75,
          78,
          98,
          51,
          84,
          126,
          225,
          221,
          229,
          238,
          282,
          245,
          258,
          265,
          246,
          241,
          259,
          248,
          208,
          240,
          235,
          254,
          228,
          177
         ],
         "yaxis": "y11"
        },
        {
         "line": {
          "width": 0
         },
         "marker": {
          "color": "#444"
         },
         "mode": "lines",
         "name": "$Counts \\mu-2\\sigma$",
         "showlegend": false,
         "type": "scatter",
         "x": [
          "2020-02-10 00:00:00",
          "2020-02-10 01:00:00",
          "2020-02-10 02:00:00",
          "2020-02-10 03:00:00",
          "2020-02-10 04:00:00",
          "2020-02-10 05:00:00",
          "2020-02-10 06:00:00",
          "2020-02-10 07:00:00",
          "2020-02-10 08:00:00",
          "2020-02-10 09:00:00",
          "2020-02-10 10:00:00",
          "2020-02-10 11:00:00",
          "2020-02-10 12:00:00",
          "2020-02-10 13:00:00",
          "2020-02-10 14:00:00",
          "2020-02-10 15:00:00",
          "2020-02-10 16:00:00",
          "2020-02-10 17:00:00",
          "2020-02-10 18:00:00",
          "2020-02-10 19:00:00",
          "2020-02-10 20:00:00",
          "2020-02-10 21:00:00",
          "2020-02-10 22:00:00",
          "2020-02-10 23:00:00"
         ],
         "xaxis": "x14",
         "y": [
          52.23528685373009,
          55.70892474360899,
          55.95670909612288,
          56.74454161577897,
          71.61676423418636,
          105.83417527690334,
          155.81251689772523,
          187.39452763451487,
          200.60393609130716,
          203.48480257859714,
          215.49545918621973,
          222.827323560962,
          212.30588156868518,
          214.77957346824974,
          211.17358615336715,
          206.89623765938282,
          210.6717466728034,
          196.24657843893903,
          191.40895467066062,
          194.3692119531724,
          202.36301258129924,
          206.28429791003686,
          180.44833371597056,
          147.69667602791472
         ],
         "yaxis": "y14"
        },
        {
         "fill": "tonexty",
         "fillcolor": "rgba(255,0,0,0.3)",
         "line": {
          "color": "rgb(255, 0, 0)"
         },
         "mode": "lines",
         "name": "Count predictions",
         "type": "scatter",
         "x": [
          "2020-02-10 00:00:00",
          "2020-02-10 01:00:00",
          "2020-02-10 02:00:00",
          "2020-02-10 03:00:00",
          "2020-02-10 04:00:00",
          "2020-02-10 05:00:00",
          "2020-02-10 06:00:00",
          "2020-02-10 07:00:00",
          "2020-02-10 08:00:00",
          "2020-02-10 09:00:00",
          "2020-02-10 10:00:00",
          "2020-02-10 11:00:00",
          "2020-02-10 12:00:00",
          "2020-02-10 13:00:00",
          "2020-02-10 14:00:00",
          "2020-02-10 15:00:00",
          "2020-02-10 16:00:00",
          "2020-02-10 17:00:00",
          "2020-02-10 18:00:00",
          "2020-02-10 19:00:00",
          "2020-02-10 20:00:00",
          "2020-02-10 21:00:00",
          "2020-02-10 22:00:00",
          "2020-02-10 23:00:00"
         ],
         "xaxis": "x14",
         "y": [
          74.337,
          76.272,
          76.278,
          76.788,
          93.257,
          134.329,
          189.138,
          225.395,
          237.25,
          246.578,
          256.9,
          261.775,
          259.063,
          253.206,
          250.802,
          252.718,
          247.405,
          236.496,
          227.721,
          231.474,
          243.416,
          243.584,
          218.924,
          184.254
         ],
         "yaxis": "y14"
        },
        {
         "fill": "tonexty",
         "fillcolor": "rgba(255,0,0,0.3)",
         "line": {
          "width": 0
         },
         "marker": {
          "color": "#444"
         },
         "mode": "lines",
         "name": "$Counts \\mu+2\\sigma$",
         "showlegend": false,
         "type": "scatter",
         "x": [
          "2020-02-10 00:00:00",
          "2020-02-10 01:00:00",
          "2020-02-10 02:00:00",
          "2020-02-10 03:00:00",
          "2020-02-10 04:00:00",
          "2020-02-10 05:00:00",
          "2020-02-10 06:00:00",
          "2020-02-10 07:00:00",
          "2020-02-10 08:00:00",
          "2020-02-10 09:00:00",
          "2020-02-10 10:00:00",
          "2020-02-10 11:00:00",
          "2020-02-10 12:00:00",
          "2020-02-10 13:00:00",
          "2020-02-10 14:00:00",
          "2020-02-10 15:00:00",
          "2020-02-10 16:00:00",
          "2020-02-10 17:00:00",
          "2020-02-10 18:00:00",
          "2020-02-10 19:00:00",
          "2020-02-10 20:00:00",
          "2020-02-10 21:00:00",
          "2020-02-10 22:00:00",
          "2020-02-10 23:00:00"
         ],
         "xaxis": "x14",
         "y": [
          96.43871314626992,
          96.83507525639102,
          96.59929090387713,
          96.83145838422102,
          114.89723576581365,
          162.82382472309666,
          222.46348310227478,
          263.39547236548515,
          273.89606390869284,
          289.6711974214029,
          298.30454081378025,
          300.72267643903797,
          305.82011843131477,
          291.63242653175024,
          290.43041384663286,
          298.5397623406172,
          284.1382533271966,
          276.745421561061,
          264.0330453293394,
          268.5787880468276,
          284.46898741870075,
          280.88370208996315,
          257.3996662840295,
          220.81132397208526
         ],
         "yaxis": "y14"
        },
        {
         "line": {
          "width": 0
         },
         "marker": {
          "color": "#444"
         },
         "mode": "lines",
         "name": "$Intensity \\mu-2\\sigma$",
         "showlegend": false,
         "type": "scatter",
         "x": [
          "2020-02-10 00:00:00",
          "2020-02-10 01:00:00",
          "2020-02-10 02:00:00",
          "2020-02-10 03:00:00",
          "2020-02-10 04:00:00",
          "2020-02-10 05:00:00",
          "2020-02-10 06:00:00",
          "2020-02-10 07:00:00",
          "2020-02-10 08:00:00",
          "2020-02-10 09:00:00",
          "2020-02-10 10:00:00",
          "2020-02-10 11:00:00",
          "2020-02-10 12:00:00",
          "2020-02-10 13:00:00",
          "2020-02-10 14:00:00",
          "2020-02-10 15:00:00",
          "2020-02-10 16:00:00",
          "2020-02-10 17:00:00",
          "2020-02-10 18:00:00",
          "2020-02-10 19:00:00",
          "2020-02-10 20:00:00",
          "2020-02-10 21:00:00",
          "2020-02-10 22:00:00",
          "2020-02-10 23:00:00"
         ],
         "xaxis": "x14",
         "y": [
          60.10010485687451,
          66.29826427742377,
          66.31036146674948,
          67.00769982761142,
          81.71218487704554,
          117.6874987816351,
          172.24018239065646,
          201.78793662343526,
          218.42023661729,
          219.04600633334852,
          231.3893763710377,
          238.10162906013494,
          224.9995555159519,
          229.5759950567807,
          227.55834598920777,
          222.5742073306849,
          227.7030519647871,
          211.25745447191306,
          205.74497053881018,
          207.97869112671665,
          215.0335285172861,
          223.0483245882105,
          196.62281546961546,
          161.00252359800413
         ],
         "yaxis": "y14"
        },
        {
         "fill": "tonexty",
         "fillcolor": "rgba(0,255,0,0.3)",
         "line": {
          "color": "rgb(0, 255, 0)"
         },
         "mode": "lines",
         "name": "Intensity predictions",
         "type": "scatter",
         "x": [
          "2020-02-10 00:00:00",
          "2020-02-10 01:00:00",
          "2020-02-10 02:00:00",
          "2020-02-10 03:00:00",
          "2020-02-10 04:00:00",
          "2020-02-10 05:00:00",
          "2020-02-10 06:00:00",
          "2020-02-10 07:00:00",
          "2020-02-10 08:00:00",
          "2020-02-10 09:00:00",
          "2020-02-10 10:00:00",
          "2020-02-10 11:00:00",
          "2020-02-10 12:00:00",
          "2020-02-10 13:00:00",
          "2020-02-10 14:00:00",
          "2020-02-10 15:00:00",
          "2020-02-10 16:00:00",
          "2020-02-10 17:00:00",
          "2020-02-10 18:00:00",
          "2020-02-10 19:00:00",
          "2020-02-10 20:00:00",
          "2020-02-10 21:00:00",
          "2020-02-10 22:00:00",
          "2020-02-10 23:00:00"
         ],
         "xaxis": "x14",
         "y": [
          74.80655263841005,
          77.38698876059925,
          77.02238997232088,
          77.00018546376523,
          93.19197719281873,
          134.15109079457935,
          189.61309181577613,
          225.81826128348638,
          238.47282414943967,
          248.05761594963252,
          257.91116992142,
          261.31450728959487,
          258.5531313413429,
          253.26482271546632,
          251.18427243532605,
          251.82576199620775,
          247.8638441498088,
          237.62576419772407,
          228.54263556029971,
          231.09355798534992,
          242.30937231964305,
          242.9786018964018,
          219.3699588128398,
          184.22711725554734
         ],
         "yaxis": "y14"
        },
        {
         "fill": "tonexty",
         "fillcolor": "rgba(0,255,0,0.3)",
         "line": {
          "width": 0
         },
         "marker": {
          "color": "#444"
         },
         "mode": "lines",
         "name": "Intensity $\\mu+2\\sigma$",
         "showlegend": false,
         "type": "scatter",
         "x": [
          "2020-02-10 00:00:00",
          "2020-02-10 01:00:00",
          "2020-02-10 02:00:00",
          "2020-02-10 03:00:00",
          "2020-02-10 04:00:00",
          "2020-02-10 05:00:00",
          "2020-02-10 06:00:00",
          "2020-02-10 07:00:00",
          "2020-02-10 08:00:00",
          "2020-02-10 09:00:00",
          "2020-02-10 10:00:00",
          "2020-02-10 11:00:00",
          "2020-02-10 12:00:00",
          "2020-02-10 13:00:00",
          "2020-02-10 14:00:00",
          "2020-02-10 15:00:00",
          "2020-02-10 16:00:00",
          "2020-02-10 17:00:00",
          "2020-02-10 18:00:00",
          "2020-02-10 19:00:00",
          "2020-02-10 20:00:00",
          "2020-02-10 21:00:00",
          "2020-02-10 22:00:00",
          "2020-02-10 23:00:00"
         ],
         "xaxis": "x14",
         "y": [
          89.5130004199456,
          88.47571324377473,
          87.73441847789228,
          86.99267109991905,
          104.67176950859191,
          150.6146828075236,
          206.9860012408958,
          249.8485859435375,
          258.52541168158933,
          277.06922556591655,
          284.43296347180234,
          284.5273855190548,
          292.10670716673394,
          276.95365037415195,
          274.8101988814443,
          281.0773166617306,
          268.0246363348305,
          263.99407392353504,
          251.34030058178925,
          254.20842484398318,
          269.585216122,
          262.9088792045931,
          242.11710215606413,
          207.45171091309055
         ],
         "yaxis": "y14"
        },
        {
         "line": {
          "color": "#1f77b4"
         },
         "mode": "lines+markers",
         "name": "Actual counts",
         "type": "scatter",
         "x": [
          "2020-02-10 00:00:00",
          "2020-02-10 01:00:00",
          "2020-02-10 02:00:00",
          "2020-02-10 03:00:00",
          "2020-02-10 04:00:00",
          "2020-02-10 05:00:00",
          "2020-02-10 06:00:00",
          "2020-02-10 07:00:00",
          "2020-02-10 08:00:00",
          "2020-02-10 09:00:00",
          "2020-02-10 10:00:00",
          "2020-02-10 11:00:00",
          "2020-02-10 12:00:00",
          "2020-02-10 13:00:00",
          "2020-02-10 14:00:00",
          "2020-02-10 15:00:00",
          "2020-02-10 16:00:00",
          "2020-02-10 17:00:00",
          "2020-02-10 18:00:00",
          "2020-02-10 19:00:00",
          "2020-02-10 20:00:00",
          "2020-02-10 21:00:00",
          "2020-02-10 22:00:00",
          "2020-02-10 23:00:00"
         ],
         "xaxis": "x14",
         "y": [
          75,
          78,
          98,
          51,
          84,
          126,
          225,
          221,
          229,
          238,
          282,
          245,
          258,
          265,
          246,
          241,
          259,
          248,
          208,
          240,
          235,
          254,
          228,
          177
         ],
         "yaxis": "y14"
        },
        {
         "line": {
          "width": 0
         },
         "marker": {
          "color": "#444"
         },
         "mode": "lines",
         "name": "$Counts \\mu-2\\sigma$",
         "showlegend": false,
         "type": "scatter",
         "x": [
          "2020-02-10 00:00:00",
          "2020-02-10 01:00:00",
          "2020-02-10 02:00:00",
          "2020-02-10 03:00:00",
          "2020-02-10 04:00:00",
          "2020-02-10 05:00:00",
          "2020-02-10 06:00:00",
          "2020-02-10 07:00:00",
          "2020-02-10 08:00:00",
          "2020-02-10 09:00:00",
          "2020-02-10 10:00:00",
          "2020-02-10 11:00:00",
          "2020-02-10 12:00:00",
          "2020-02-10 13:00:00",
          "2020-02-10 14:00:00",
          "2020-02-10 15:00:00",
          "2020-02-10 16:00:00",
          "2020-02-10 17:00:00",
          "2020-02-10 18:00:00",
          "2020-02-10 19:00:00",
          "2020-02-10 20:00:00",
          "2020-02-10 21:00:00",
          "2020-02-10 22:00:00",
          "2020-02-10 23:00:00"
         ],
         "xaxis": "x17",
         "y": [
          50.37631038430131,
          55.05553025656931,
          57.645520275987096,
          63.232600800512934,
          79.18906188511632,
          107.92737822745562,
          147.74125318806847,
          178.4108958506563,
          197.0629467751432,
          212.77323191482202,
          221.01544453177007,
          216.13495876738165,
          212.7347742346052,
          211.2463208878603,
          213.42740318892393,
          208.67881164670996,
          202.6990363169956,
          201.85527302942253,
          205.24252699339436,
          197.98485894992842,
          186.4637870436925,
          184.1103034837326,
          180.4466922069767,
          156.6568554742842
         ],
         "yaxis": "y17"
        },
        {
         "fill": "tonexty",
         "fillcolor": "rgba(255,0,0,0.3)",
         "line": {
          "color": "rgb(255, 0, 0)"
         },
         "mode": "lines",
         "name": "Count predictions",
         "type": "scatter",
         "x": [
          "2020-02-10 00:00:00",
          "2020-02-10 01:00:00",
          "2020-02-10 02:00:00",
          "2020-02-10 03:00:00",
          "2020-02-10 04:00:00",
          "2020-02-10 05:00:00",
          "2020-02-10 06:00:00",
          "2020-02-10 07:00:00",
          "2020-02-10 08:00:00",
          "2020-02-10 09:00:00",
          "2020-02-10 10:00:00",
          "2020-02-10 11:00:00",
          "2020-02-10 12:00:00",
          "2020-02-10 13:00:00",
          "2020-02-10 14:00:00",
          "2020-02-10 15:00:00",
          "2020-02-10 16:00:00",
          "2020-02-10 17:00:00",
          "2020-02-10 18:00:00",
          "2020-02-10 19:00:00",
          "2020-02-10 20:00:00",
          "2020-02-10 21:00:00",
          "2020-02-10 22:00:00",
          "2020-02-10 23:00:00"
         ],
         "xaxis": "x17",
         "y": [
          72.125,
          74.857,
          77.774,
          84.444,
          102.361,
          134.673,
          178.177,
          216.006,
          241.018,
          253.219,
          257.773,
          257.607,
          256.176,
          253.225,
          250.581,
          248.211,
          247.32,
          243.499,
          241.293,
          236.411,
          230.217,
          224.31,
          214.728,
          203.012
         ],
         "yaxis": "y17"
        },
        {
         "fill": "tonexty",
         "fillcolor": "rgba(255,0,0,0.3)",
         "line": {
          "width": 0
         },
         "marker": {
          "color": "#444"
         },
         "mode": "lines",
         "name": "$Counts \\mu+2\\sigma$",
         "showlegend": false,
         "type": "scatter",
         "x": [
          "2020-02-10 00:00:00",
          "2020-02-10 01:00:00",
          "2020-02-10 02:00:00",
          "2020-02-10 03:00:00",
          "2020-02-10 04:00:00",
          "2020-02-10 05:00:00",
          "2020-02-10 06:00:00",
          "2020-02-10 07:00:00",
          "2020-02-10 08:00:00",
          "2020-02-10 09:00:00",
          "2020-02-10 10:00:00",
          "2020-02-10 11:00:00",
          "2020-02-10 12:00:00",
          "2020-02-10 13:00:00",
          "2020-02-10 14:00:00",
          "2020-02-10 15:00:00",
          "2020-02-10 16:00:00",
          "2020-02-10 17:00:00",
          "2020-02-10 18:00:00",
          "2020-02-10 19:00:00",
          "2020-02-10 20:00:00",
          "2020-02-10 21:00:00",
          "2020-02-10 22:00:00",
          "2020-02-10 23:00:00"
         ],
         "xaxis": "x17",
         "y": [
          93.87368961569868,
          94.65846974343069,
          97.9024797240129,
          105.65539919948708,
          125.53293811488369,
          161.41862177254438,
          208.61274681193152,
          253.6011041493437,
          284.9730532248568,
          293.66476808517797,
          294.53055546823,
          299.0790412326184,
          299.6172257653948,
          295.2036791121397,
          287.7345968110761,
          287.74318835329007,
          291.9409636830044,
          285.1427269705774,
          277.3434730066057,
          274.8371410500716,
          273.97021295630753,
          264.5096965162674,
          249.0093077930233,
          249.3671445257158
         ],
         "yaxis": "y17"
        },
        {
         "line": {
          "width": 0
         },
         "marker": {
          "color": "#444"
         },
         "mode": "lines",
         "name": "$Intensity \\mu-2\\sigma$",
         "showlegend": false,
         "type": "scatter",
         "x": [
          "2020-02-10 00:00:00",
          "2020-02-10 01:00:00",
          "2020-02-10 02:00:00",
          "2020-02-10 03:00:00",
          "2020-02-10 04:00:00",
          "2020-02-10 05:00:00",
          "2020-02-10 06:00:00",
          "2020-02-10 07:00:00",
          "2020-02-10 08:00:00",
          "2020-02-10 09:00:00",
          "2020-02-10 10:00:00",
          "2020-02-10 11:00:00",
          "2020-02-10 12:00:00",
          "2020-02-10 13:00:00",
          "2020-02-10 14:00:00",
          "2020-02-10 15:00:00",
          "2020-02-10 16:00:00",
          "2020-02-10 17:00:00",
          "2020-02-10 18:00:00",
          "2020-02-10 19:00:00",
          "2020-02-10 20:00:00",
          "2020-02-10 21:00:00",
          "2020-02-10 22:00:00",
          "2020-02-10 23:00:00"
         ],
         "xaxis": "x17",
         "y": [
          58.5735309628317,
          64.48188619739047,
          68.4778873697282,
          74.65027848593387,
          91.14910955690483,
          122.0258214962993,
          164.53192130875598,
          194.782581624642,
          212.4544587158413,
          228.0387457460242,
          240.1887766912489,
          231.9755635937547,
          224.66802372644446,
          227.3513454671708,
          234.6209783950036,
          223.670954510461,
          214.68345175771591,
          216.9299035767201,
          224.263412319513,
          213.74372036140596,
          201.6391700000897,
          200.13869679786384,
          199.50777815730265,
          167.37580956273277
         ],
         "yaxis": "y17"
        },
        {
         "fill": "tonexty",
         "fillcolor": "rgba(0,255,0,0.3)",
         "line": {
          "color": "rgb(0, 255, 0)"
         },
         "mode": "lines",
         "name": "Intensity predictions",
         "type": "scatter",
         "x": [
          "2020-02-10 00:00:00",
          "2020-02-10 01:00:00",
          "2020-02-10 02:00:00",
          "2020-02-10 03:00:00",
          "2020-02-10 04:00:00",
          "2020-02-10 05:00:00",
          "2020-02-10 06:00:00",
          "2020-02-10 07:00:00",
          "2020-02-10 08:00:00",
          "2020-02-10 09:00:00",
          "2020-02-10 10:00:00",
          "2020-02-10 11:00:00",
          "2020-02-10 12:00:00",
          "2020-02-10 13:00:00",
          "2020-02-10 14:00:00",
          "2020-02-10 15:00:00",
          "2020-02-10 16:00:00",
          "2020-02-10 17:00:00",
          "2020-02-10 18:00:00",
          "2020-02-10 19:00:00",
          "2020-02-10 20:00:00",
          "2020-02-10 21:00:00",
          "2020-02-10 22:00:00",
          "2020-02-10 23:00:00"
         ],
         "xaxis": "x17",
         "y": [
          71.88783414664317,
          74.6023122000331,
          77.79006609234578,
          84.21664327357604,
          101.89212432557719,
          135.10069868141701,
          178.65910152540678,
          216.88321720678476,
          242.6627668907661,
          254.90510001385806,
          257.851178831875,
          258.22213058477,
          256.7759654601168,
          253.91971145807187,
          250.71712315440797,
          248.23521766893305,
          246.21548489344818,
          243.51757336736117,
          240.0906276240446,
          236.22179656012878,
          231.82327073772444,
          225.0935878166785,
          215.21481725307152,
          203.09619979091192
         ],
         "yaxis": "y17"
        },
        {
         "fill": "tonexty",
         "fillcolor": "rgba(0,255,0,0.3)",
         "line": {
          "width": 0
         },
         "marker": {
          "color": "#444"
         },
         "mode": "lines",
         "name": "Intensity $\\mu+2\\sigma$",
         "showlegend": false,
         "type": "scatter",
         "x": [
          "2020-02-10 00:00:00",
          "2020-02-10 01:00:00",
          "2020-02-10 02:00:00",
          "2020-02-10 03:00:00",
          "2020-02-10 04:00:00",
          "2020-02-10 05:00:00",
          "2020-02-10 06:00:00",
          "2020-02-10 07:00:00",
          "2020-02-10 08:00:00",
          "2020-02-10 09:00:00",
          "2020-02-10 10:00:00",
          "2020-02-10 11:00:00",
          "2020-02-10 12:00:00",
          "2020-02-10 13:00:00",
          "2020-02-10 14:00:00",
          "2020-02-10 15:00:00",
          "2020-02-10 16:00:00",
          "2020-02-10 17:00:00",
          "2020-02-10 18:00:00",
          "2020-02-10 19:00:00",
          "2020-02-10 20:00:00",
          "2020-02-10 21:00:00",
          "2020-02-10 22:00:00",
          "2020-02-10 23:00:00"
         ],
         "xaxis": "x17",
         "y": [
          85.20213733045465,
          84.72273820267573,
          87.10224481496337,
          93.78300806121821,
          112.63513909424954,
          148.17557586653473,
          192.78628174205758,
          238.98385278892752,
          272.87107506569095,
          281.7714542816919,
          275.51358097250113,
          284.4686975757853,
          288.8839071937892,
          280.48807744897294,
          266.81326791381235,
          272.7994808274051,
          277.74751802918047,
          270.1052431580022,
          255.9178429285762,
          258.6998727588516,
          262.00737147535915,
          250.04847883549317,
          230.92185634884038,
          238.81659001909108
         ],
         "yaxis": "y17"
        },
        {
         "line": {
          "color": "#1f77b4"
         },
         "mode": "lines+markers",
         "name": "Actual counts",
         "type": "scatter",
         "x": [
          "2020-02-10 00:00:00",
          "2020-02-10 01:00:00",
          "2020-02-10 02:00:00",
          "2020-02-10 03:00:00",
          "2020-02-10 04:00:00",
          "2020-02-10 05:00:00",
          "2020-02-10 06:00:00",
          "2020-02-10 07:00:00",
          "2020-02-10 08:00:00",
          "2020-02-10 09:00:00",
          "2020-02-10 10:00:00",
          "2020-02-10 11:00:00",
          "2020-02-10 12:00:00",
          "2020-02-10 13:00:00",
          "2020-02-10 14:00:00",
          "2020-02-10 15:00:00",
          "2020-02-10 16:00:00",
          "2020-02-10 17:00:00",
          "2020-02-10 18:00:00",
          "2020-02-10 19:00:00",
          "2020-02-10 20:00:00",
          "2020-02-10 21:00:00",
          "2020-02-10 22:00:00",
          "2020-02-10 23:00:00"
         ],
         "xaxis": "x17",
         "y": [
          75,
          78,
          98,
          51,
          84,
          126,
          225,
          221,
          229,
          238,
          282,
          245,
          258,
          265,
          246,
          241,
          259,
          248,
          208,
          240,
          235,
          254,
          228,
          177
         ],
         "yaxis": "y17"
        },
        {
         "line": {
          "width": 0
         },
         "marker": {
          "color": "#444"
         },
         "mode": "lines",
         "name": "$Counts \\mu-2\\sigma$",
         "showlegend": false,
         "type": "scatter",
         "x": [
          "2020-02-10 00:00:00",
          "2020-02-10 01:00:00",
          "2020-02-10 02:00:00",
          "2020-02-10 03:00:00",
          "2020-02-10 04:00:00",
          "2020-02-10 05:00:00",
          "2020-02-10 06:00:00",
          "2020-02-10 07:00:00",
          "2020-02-10 08:00:00",
          "2020-02-10 09:00:00",
          "2020-02-10 10:00:00",
          "2020-02-10 11:00:00",
          "2020-02-10 12:00:00",
          "2020-02-10 13:00:00",
          "2020-02-10 14:00:00",
          "2020-02-10 15:00:00",
          "2020-02-10 16:00:00",
          "2020-02-10 17:00:00",
          "2020-02-10 18:00:00",
          "2020-02-10 19:00:00",
          "2020-02-10 20:00:00",
          "2020-02-10 21:00:00",
          "2020-02-10 22:00:00",
          "2020-02-10 23:00:00"
         ],
         "xaxis": "x20",
         "y": [
          48.76648477330079,
          54.44003429979747,
          59.319928435720186,
          66.8343085941633,
          82.32570597794978,
          109.0067058363353,
          145.01341583708978,
          178.140665810209,
          199.2239817424133,
          209.17398168910802,
          217.26252648299877,
          223.03622171914714,
          221.66312266014347,
          212.218291647328,
          205.2182790324358,
          205.86596999680387,
          208.32275326965708,
          209.31609473087687,
          201.5025112848211,
          194.50406754930432,
          189.5661589080455,
          190.8273788536475,
          180.24229143125064,
          156.9366349532262
         ],
         "yaxis": "y20"
        },
        {
         "fill": "tonexty",
         "fillcolor": "rgba(255,0,0,0.3)",
         "line": {
          "color": "rgb(255, 0, 0)"
         },
         "mode": "lines",
         "name": "Count predictions",
         "type": "scatter",
         "x": [
          "2020-02-10 00:00:00",
          "2020-02-10 01:00:00",
          "2020-02-10 02:00:00",
          "2020-02-10 03:00:00",
          "2020-02-10 04:00:00",
          "2020-02-10 05:00:00",
          "2020-02-10 06:00:00",
          "2020-02-10 07:00:00",
          "2020-02-10 08:00:00",
          "2020-02-10 09:00:00",
          "2020-02-10 10:00:00",
          "2020-02-10 11:00:00",
          "2020-02-10 12:00:00",
          "2020-02-10 13:00:00",
          "2020-02-10 14:00:00",
          "2020-02-10 15:00:00",
          "2020-02-10 16:00:00",
          "2020-02-10 17:00:00",
          "2020-02-10 18:00:00",
          "2020-02-10 19:00:00",
          "2020-02-10 20:00:00",
          "2020-02-10 21:00:00",
          "2020-02-10 22:00:00",
          "2020-02-10 23:00:00"
         ],
         "xaxis": "x20",
         "y": [
          69.774,
          73.755,
          79.302,
          87.528,
          105.853,
          136.189,
          174.241,
          211.547,
          239.536,
          255.376,
          261.371,
          260.534,
          257.506,
          255.265,
          251.831,
          249.528,
          246.792,
          243.856,
          241.656,
          237.295,
          231.754,
          225.553,
          214.221,
          205.006
         ],
         "yaxis": "y20"
        },
        {
         "fill": "tonexty",
         "fillcolor": "rgba(255,0,0,0.3)",
         "line": {
          "width": 0
         },
         "marker": {
          "color": "#444"
         },
         "mode": "lines",
         "name": "$Counts \\mu+2\\sigma$",
         "showlegend": false,
         "type": "scatter",
         "x": [
          "2020-02-10 00:00:00",
          "2020-02-10 01:00:00",
          "2020-02-10 02:00:00",
          "2020-02-10 03:00:00",
          "2020-02-10 04:00:00",
          "2020-02-10 05:00:00",
          "2020-02-10 06:00:00",
          "2020-02-10 07:00:00",
          "2020-02-10 08:00:00",
          "2020-02-10 09:00:00",
          "2020-02-10 10:00:00",
          "2020-02-10 11:00:00",
          "2020-02-10 12:00:00",
          "2020-02-10 13:00:00",
          "2020-02-10 14:00:00",
          "2020-02-10 15:00:00",
          "2020-02-10 16:00:00",
          "2020-02-10 17:00:00",
          "2020-02-10 18:00:00",
          "2020-02-10 19:00:00",
          "2020-02-10 20:00:00",
          "2020-02-10 21:00:00",
          "2020-02-10 22:00:00",
          "2020-02-10 23:00:00"
         ],
         "xaxis": "x20",
         "y": [
          90.78151522669921,
          93.06996570020252,
          99.28407156427983,
          108.22169140583671,
          129.3802940220502,
          163.3712941636647,
          203.46858416291025,
          244.953334189791,
          279.8480182575867,
          301.578018310892,
          305.4794735170012,
          298.03177828085285,
          293.3488773398565,
          298.311708352672,
          298.4437209675642,
          293.1900300031961,
          285.2612467303429,
          278.3959052691231,
          281.80948871517893,
          280.0859324506956,
          273.9418410919545,
          260.27862114635246,
          248.19970856874937,
          253.0753650467738
         ],
         "yaxis": "y20"
        },
        {
         "line": {
          "width": 0
         },
         "marker": {
          "color": "#444"
         },
         "mode": "lines",
         "name": "$Intensity \\mu-2\\sigma$",
         "showlegend": false,
         "type": "scatter",
         "x": [
          "2020-02-10 00:00:00",
          "2020-02-10 01:00:00",
          "2020-02-10 02:00:00",
          "2020-02-10 03:00:00",
          "2020-02-10 04:00:00",
          "2020-02-10 05:00:00",
          "2020-02-10 06:00:00",
          "2020-02-10 07:00:00",
          "2020-02-10 08:00:00",
          "2020-02-10 09:00:00",
          "2020-02-10 10:00:00",
          "2020-02-10 11:00:00",
          "2020-02-10 12:00:00",
          "2020-02-10 13:00:00",
          "2020-02-10 14:00:00",
          "2020-02-10 15:00:00",
          "2020-02-10 16:00:00",
          "2020-02-10 17:00:00",
          "2020-02-10 18:00:00",
          "2020-02-10 19:00:00",
          "2020-02-10 20:00:00",
          "2020-02-10 21:00:00",
          "2020-02-10 22:00:00",
          "2020-02-10 23:00:00"
         ],
         "xaxis": "x20",
         "y": [
          56.70973775849365,
          64.11088919021107,
          69.86535568692706,
          78.47299369931538,
          95.6409552650576,
          124.28151379269002,
          162.2226962918165,
          195.8541793930758,
          213.02609346424487,
          222.26364892132747,
          230.55843496862275,
          239.6249544375266,
          241.6270499174297,
          229.09661870421317,
          220.65386211367104,
          219.5033067744726,
          224.80202762845158,
          228.5193465508983,
          216.57786928486132,
          206.1878817069348,
          203.01736447781525,
          205.33709549739405,
          196.7923826107172,
          166.29454775405964
         ],
         "yaxis": "y20"
        },
        {
         "fill": "tonexty",
         "fillcolor": "rgba(0,255,0,0.3)",
         "line": {
          "color": "rgb(0, 255, 0)"
         },
         "mode": "lines",
         "name": "Intensity predictions",
         "type": "scatter",
         "x": [
          "2020-02-10 00:00:00",
          "2020-02-10 01:00:00",
          "2020-02-10 02:00:00",
          "2020-02-10 03:00:00",
          "2020-02-10 04:00:00",
          "2020-02-10 05:00:00",
          "2020-02-10 06:00:00",
          "2020-02-10 07:00:00",
          "2020-02-10 08:00:00",
          "2020-02-10 09:00:00",
          "2020-02-10 10:00:00",
          "2020-02-10 11:00:00",
          "2020-02-10 12:00:00",
          "2020-02-10 13:00:00",
          "2020-02-10 14:00:00",
          "2020-02-10 15:00:00",
          "2020-02-10 16:00:00",
          "2020-02-10 17:00:00",
          "2020-02-10 18:00:00",
          "2020-02-10 19:00:00",
          "2020-02-10 20:00:00",
          "2020-02-10 21:00:00",
          "2020-02-10 22:00:00",
          "2020-02-10 23:00:00"
         ],
         "xaxis": "x20",
         "y": [
          69.41040256498876,
          73.76485096237847,
          79.0179593152695,
          87.90914656669553,
          105.95622207994353,
          136.41899814756079,
          175.09853625005172,
          211.75591203361668,
          238.91037645415804,
          255.020424953575,
          261.27258170775985,
          260.60428720633587,
          257.7354321619247,
          255.15153833614167,
          252.52508115177315,
          249.65681961381406,
          246.55929301674885,
          243.2465652523693,
          240.48148251738695,
          236.72474343035802,
          231.5527679810597,
          224.42378755493158,
          215.20560614249197,
          204.44714416035785
         ],
         "yaxis": "y20"
        },
        {
         "fill": "tonexty",
         "fillcolor": "rgba(0,255,0,0.3)",
         "line": {
          "width": 0
         },
         "marker": {
          "color": "#444"
         },
         "mode": "lines",
         "name": "Intensity $\\mu+2\\sigma$",
         "showlegend": false,
         "type": "scatter",
         "x": [
          "2020-02-10 00:00:00",
          "2020-02-10 01:00:00",
          "2020-02-10 02:00:00",
          "2020-02-10 03:00:00",
          "2020-02-10 04:00:00",
          "2020-02-10 05:00:00",
          "2020-02-10 06:00:00",
          "2020-02-10 07:00:00",
          "2020-02-10 08:00:00",
          "2020-02-10 09:00:00",
          "2020-02-10 10:00:00",
          "2020-02-10 11:00:00",
          "2020-02-10 12:00:00",
          "2020-02-10 13:00:00",
          "2020-02-10 14:00:00",
          "2020-02-10 15:00:00",
          "2020-02-10 16:00:00",
          "2020-02-10 17:00:00",
          "2020-02-10 18:00:00",
          "2020-02-10 19:00:00",
          "2020-02-10 20:00:00",
          "2020-02-10 21:00:00",
          "2020-02-10 22:00:00",
          "2020-02-10 23:00:00"
         ],
         "xaxis": "x20",
         "y": [
          82.11106737148386,
          83.41881273454588,
          88.17056294361193,
          97.34529943407567,
          116.27148889482946,
          148.55648250243155,
          187.97437620828694,
          227.65764467415755,
          264.7946594440712,
          287.77720098582256,
          291.98672844689696,
          281.58361997514515,
          273.84381440641965,
          281.20645796807014,
          284.39630018987526,
          279.8103324531555,
          268.3165584050461,
          257.9737839538403,
          264.3850957499126,
          267.26160515378126,
          260.08817148430416,
          243.5104796124691,
          233.61882967426675,
          242.59974056665607
         ],
         "yaxis": "y20"
        },
        {
         "line": {
          "color": "#1f77b4"
         },
         "mode": "lines+markers",
         "name": "Actual counts",
         "type": "scatter",
         "x": [
          "2020-02-10 00:00:00",
          "2020-02-10 01:00:00",
          "2020-02-10 02:00:00",
          "2020-02-10 03:00:00",
          "2020-02-10 04:00:00",
          "2020-02-10 05:00:00",
          "2020-02-10 06:00:00",
          "2020-02-10 07:00:00",
          "2020-02-10 08:00:00",
          "2020-02-10 09:00:00",
          "2020-02-10 10:00:00",
          "2020-02-10 11:00:00",
          "2020-02-10 12:00:00",
          "2020-02-10 13:00:00",
          "2020-02-10 14:00:00",
          "2020-02-10 15:00:00",
          "2020-02-10 16:00:00",
          "2020-02-10 17:00:00",
          "2020-02-10 18:00:00",
          "2020-02-10 19:00:00",
          "2020-02-10 20:00:00",
          "2020-02-10 21:00:00",
          "2020-02-10 22:00:00",
          "2020-02-10 23:00:00"
         ],
         "xaxis": "x20",
         "y": [
          75,
          78,
          98,
          51,
          84,
          126,
          225,
          221,
          229,
          238,
          282,
          245,
          258,
          265,
          246,
          241,
          259,
          248,
          208,
          240,
          235,
          254,
          228,
          177
         ],
         "yaxis": "y20"
        },
        {
         "line": {
          "width": 0
         },
         "marker": {
          "color": "#444"
         },
         "mode": "lines",
         "name": "$Counts \\mu-2\\sigma$",
         "showlegend": false,
         "type": "scatter",
         "x": [
          "2020-02-10 00:00:00",
          "2020-02-10 01:00:00",
          "2020-02-10 02:00:00",
          "2020-02-10 03:00:00",
          "2020-02-10 04:00:00",
          "2020-02-10 05:00:00",
          "2020-02-10 06:00:00",
          "2020-02-10 07:00:00",
          "2020-02-10 08:00:00",
          "2020-02-10 09:00:00",
          "2020-02-10 10:00:00",
          "2020-02-10 11:00:00",
          "2020-02-10 12:00:00",
          "2020-02-10 13:00:00",
          "2020-02-10 14:00:00",
          "2020-02-10 15:00:00",
          "2020-02-10 16:00:00",
          "2020-02-10 17:00:00",
          "2020-02-10 18:00:00",
          "2020-02-10 19:00:00",
          "2020-02-10 20:00:00",
          "2020-02-10 21:00:00",
          "2020-02-10 22:00:00",
          "2020-02-10 23:00:00"
         ],
         "xaxis": "x23",
         "y": [
          48.503437558235305,
          54.66568253571978,
          57.82233784060692,
          67.29435588932847,
          83.79885367055856,
          109.77776970478133,
          146.22064308701826,
          177.43685145395708,
          198.1269230428504,
          210.47208603040318,
          216.90076978924355,
          222.75377983098767,
          221.83563558706592,
          212.99843248683788,
          204.32214676944534,
          204.39834513785976,
          210.01885712979072,
          210.82731427713952,
          200.77733847552508,
          191.0888895825347,
          190.09540393415168,
          187.6885776343301,
          181.2829966384276,
          158.74843097450446
         ],
         "yaxis": "y23"
        },
        {
         "fill": "tonexty",
         "fillcolor": "rgba(255,0,0,0.3)",
         "line": {
          "color": "rgb(255, 0, 0)"
         },
         "mode": "lines",
         "name": "Count predictions",
         "type": "scatter",
         "x": [
          "2020-02-10 00:00:00",
          "2020-02-10 01:00:00",
          "2020-02-10 02:00:00",
          "2020-02-10 03:00:00",
          "2020-02-10 04:00:00",
          "2020-02-10 05:00:00",
          "2020-02-10 06:00:00",
          "2020-02-10 07:00:00",
          "2020-02-10 08:00:00",
          "2020-02-10 09:00:00",
          "2020-02-10 10:00:00",
          "2020-02-10 11:00:00",
          "2020-02-10 12:00:00",
          "2020-02-10 13:00:00",
          "2020-02-10 14:00:00",
          "2020-02-10 15:00:00",
          "2020-02-10 16:00:00",
          "2020-02-10 17:00:00",
          "2020-02-10 18:00:00",
          "2020-02-10 19:00:00",
          "2020-02-10 20:00:00",
          "2020-02-10 21:00:00",
          "2020-02-10 22:00:00",
          "2020-02-10 23:00:00"
         ],
         "xaxis": "x23",
         "y": [
          69.465,
          73.994,
          78.431,
          87.757,
          105.992,
          136.448,
          175.085,
          211.524,
          239.806,
          254.997,
          261.851,
          260.241,
          257.865,
          254.707,
          251.648,
          249.767,
          247.504,
          243.386,
          240.071,
          235.629,
          232.107,
          223.937,
          214.452,
          204.918
         ],
         "yaxis": "y23"
        },
        {
         "fill": "tonexty",
         "fillcolor": "rgba(255,0,0,0.3)",
         "line": {
          "width": 0
         },
         "marker": {
          "color": "#444"
         },
         "mode": "lines",
         "name": "$Counts \\mu+2\\sigma$",
         "showlegend": false,
         "type": "scatter",
         "x": [
          "2020-02-10 00:00:00",
          "2020-02-10 01:00:00",
          "2020-02-10 02:00:00",
          "2020-02-10 03:00:00",
          "2020-02-10 04:00:00",
          "2020-02-10 05:00:00",
          "2020-02-10 06:00:00",
          "2020-02-10 07:00:00",
          "2020-02-10 08:00:00",
          "2020-02-10 09:00:00",
          "2020-02-10 10:00:00",
          "2020-02-10 11:00:00",
          "2020-02-10 12:00:00",
          "2020-02-10 13:00:00",
          "2020-02-10 14:00:00",
          "2020-02-10 15:00:00",
          "2020-02-10 16:00:00",
          "2020-02-10 17:00:00",
          "2020-02-10 18:00:00",
          "2020-02-10 19:00:00",
          "2020-02-10 20:00:00",
          "2020-02-10 21:00:00",
          "2020-02-10 22:00:00",
          "2020-02-10 23:00:00"
         ],
         "xaxis": "x23",
         "y": [
          90.4265624417647,
          93.32231746428022,
          99.03966215939307,
          108.21964411067154,
          128.18514632944144,
          163.1182302952187,
          203.94935691298176,
          245.61114854604293,
          281.4850769571496,
          299.5219139695969,
          306.80123021075644,
          297.72822016901233,
          293.89436441293407,
          296.4155675131621,
          298.97385323055465,
          295.13565486214026,
          284.98914287020926,
          275.94468572286047,
          279.3646615244749,
          280.1691104174653,
          274.11859606584835,
          260.1854223656699,
          247.6210033615724,
          251.08756902549555
         ],
         "yaxis": "y23"
        },
        {
         "line": {
          "width": 0
         },
         "marker": {
          "color": "#444"
         },
         "mode": "lines",
         "name": "$Intensity \\mu-2\\sigma$",
         "showlegend": false,
         "type": "scatter",
         "x": [
          "2020-02-10 00:00:00",
          "2020-02-10 01:00:00",
          "2020-02-10 02:00:00",
          "2020-02-10 03:00:00",
          "2020-02-10 04:00:00",
          "2020-02-10 05:00:00",
          "2020-02-10 06:00:00",
          "2020-02-10 07:00:00",
          "2020-02-10 08:00:00",
          "2020-02-10 09:00:00",
          "2020-02-10 10:00:00",
          "2020-02-10 11:00:00",
          "2020-02-10 12:00:00",
          "2020-02-10 13:00:00",
          "2020-02-10 14:00:00",
          "2020-02-10 15:00:00",
          "2020-02-10 16:00:00",
          "2020-02-10 17:00:00",
          "2020-02-10 18:00:00",
          "2020-02-10 19:00:00",
          "2020-02-10 20:00:00",
          "2020-02-10 21:00:00",
          "2020-02-10 22:00:00",
          "2020-02-10 23:00:00"
         ],
         "xaxis": "x23",
         "y": [
          57.364545574776244,
          64.44799554210101,
          70.26522296968301,
          78.81569366116821,
          96.00874996416333,
          123.98403840337275,
          161.9148272973203,
          193.8982849825275,
          211.56792329427455,
          222.350328238863,
          230.77102031903306,
          240.18153888237651,
          241.40327092643298,
          228.9642838361127,
          220.28966596789903,
          218.7863061114597,
          224.83231145529857,
          228.26462438393517,
          215.92479998140703,
          204.92625943788624,
          202.01281721163264,
          204.4821731787129,
          197.61638254143907,
          167.26507764686275
         ],
         "yaxis": "y23"
        },
        {
         "fill": "tonexty",
         "fillcolor": "rgba(0,255,0,0.3)",
         "line": {
          "color": "rgb(0, 255, 0)"
         },
         "mode": "lines",
         "name": "Intensity predictions",
         "type": "scatter",
         "x": [
          "2020-02-10 00:00:00",
          "2020-02-10 01:00:00",
          "2020-02-10 02:00:00",
          "2020-02-10 03:00:00",
          "2020-02-10 04:00:00",
          "2020-02-10 05:00:00",
          "2020-02-10 06:00:00",
          "2020-02-10 07:00:00",
          "2020-02-10 08:00:00",
          "2020-02-10 09:00:00",
          "2020-02-10 10:00:00",
          "2020-02-10 11:00:00",
          "2020-02-10 12:00:00",
          "2020-02-10 13:00:00",
          "2020-02-10 14:00:00",
          "2020-02-10 15:00:00",
          "2020-02-10 16:00:00",
          "2020-02-10 17:00:00",
          "2020-02-10 18:00:00",
          "2020-02-10 19:00:00",
          "2020-02-10 20:00:00",
          "2020-02-10 21:00:00",
          "2020-02-10 22:00:00",
          "2020-02-10 23:00:00"
         ],
         "xaxis": "x23",
         "y": [
          69.8151883520396,
          73.93704812445131,
          79.05669385634589,
          87.79063655824383,
          105.89593762366476,
          136.17507746995102,
          174.9004346890931,
          211.55139072964835,
          238.8270149178913,
          254.77580196520427,
          260.3584056218452,
          260.0995426993726,
          257.66102000663153,
          255.3547565852733,
          252.71319392210245,
          249.65028345955886,
          246.54332607350412,
          243.18765309237202,
          239.90731137257904,
          235.88752691392364,
          230.7911319851621,
          223.92641944284398,
          215.13488909960378,
          205.05948876257102
         ],
         "yaxis": "y23"
        },
        {
         "fill": "tonexty",
         "fillcolor": "rgba(0,255,0,0.3)",
         "line": {
          "width": 0
         },
         "marker": {
          "color": "#444"
         },
         "mode": "lines",
         "name": "Intensity $\\mu+2\\sigma$",
         "showlegend": false,
         "type": "scatter",
         "x": [
          "2020-02-10 00:00:00",
          "2020-02-10 01:00:00",
          "2020-02-10 02:00:00",
          "2020-02-10 03:00:00",
          "2020-02-10 04:00:00",
          "2020-02-10 05:00:00",
          "2020-02-10 06:00:00",
          "2020-02-10 07:00:00",
          "2020-02-10 08:00:00",
          "2020-02-10 09:00:00",
          "2020-02-10 10:00:00",
          "2020-02-10 11:00:00",
          "2020-02-10 12:00:00",
          "2020-02-10 13:00:00",
          "2020-02-10 14:00:00",
          "2020-02-10 15:00:00",
          "2020-02-10 16:00:00",
          "2020-02-10 17:00:00",
          "2020-02-10 18:00:00",
          "2020-02-10 19:00:00",
          "2020-02-10 20:00:00",
          "2020-02-10 21:00:00",
          "2020-02-10 22:00:00",
          "2020-02-10 23:00:00"
         ],
         "xaxis": "x23",
         "y": [
          82.26583112930295,
          83.4261007068016,
          87.84816474300877,
          96.76557945531945,
          115.7831252831662,
          148.3661165365293,
          187.88604208086588,
          229.20449647676918,
          266.086106541508,
          287.2012756915455,
          289.9457909246573,
          280.01754651636867,
          273.9187690868301,
          281.7452293344339,
          285.1367218763059,
          280.51426080765805,
          268.2543406917097,
          258.11068180080883,
          263.88982276375106,
          266.84879438996103,
          259.5694467586916,
          243.37066570697505,
          232.6533956577685,
          242.8538998782793
         ],
         "yaxis": "y23"
        },
        {
         "line": {
          "color": "#1f77b4"
         },
         "mode": "lines+markers",
         "name": "Actual counts",
         "type": "scatter",
         "x": [
          "2020-02-10 00:00:00",
          "2020-02-10 01:00:00",
          "2020-02-10 02:00:00",
          "2020-02-10 03:00:00",
          "2020-02-10 04:00:00",
          "2020-02-10 05:00:00",
          "2020-02-10 06:00:00",
          "2020-02-10 07:00:00",
          "2020-02-10 08:00:00",
          "2020-02-10 09:00:00",
          "2020-02-10 10:00:00",
          "2020-02-10 11:00:00",
          "2020-02-10 12:00:00",
          "2020-02-10 13:00:00",
          "2020-02-10 14:00:00",
          "2020-02-10 15:00:00",
          "2020-02-10 16:00:00",
          "2020-02-10 17:00:00",
          "2020-02-10 18:00:00",
          "2020-02-10 19:00:00",
          "2020-02-10 20:00:00",
          "2020-02-10 21:00:00",
          "2020-02-10 22:00:00",
          "2020-02-10 23:00:00"
         ],
         "xaxis": "x23",
         "y": [
          75,
          78,
          98,
          51,
          84,
          126,
          225,
          221,
          229,
          238,
          282,
          245,
          258,
          265,
          246,
          241,
          259,
          248,
          208,
          240,
          235,
          254,
          228,
          177
         ],
         "yaxis": "y23"
        },
        {
         "line": {
          "width": 0
         },
         "marker": {
          "color": "#444"
         },
         "mode": "lines",
         "name": "$Counts \\mu-2\\sigma$",
         "showlegend": false,
         "type": "scatter",
         "x": [
          "2020-02-10 00:00:00",
          "2020-02-10 01:00:00",
          "2020-02-10 02:00:00",
          "2020-02-10 03:00:00",
          "2020-02-10 04:00:00",
          "2020-02-10 05:00:00",
          "2020-02-10 06:00:00",
          "2020-02-10 07:00:00",
          "2020-02-10 08:00:00",
          "2020-02-10 09:00:00",
          "2020-02-10 10:00:00",
          "2020-02-10 11:00:00",
          "2020-02-10 12:00:00",
          "2020-02-10 13:00:00",
          "2020-02-10 14:00:00",
          "2020-02-10 15:00:00",
          "2020-02-10 16:00:00",
          "2020-02-10 17:00:00",
          "2020-02-10 18:00:00",
          "2020-02-10 19:00:00",
          "2020-02-10 20:00:00",
          "2020-02-10 21:00:00",
          "2020-02-10 22:00:00",
          "2020-02-10 23:00:00"
         ],
         "xaxis": "x3",
         "y": [
          10.079938650499166,
          12.198974788774986,
          15.800972152388404,
          19.572824334524736,
          23.184090284249628,
          27.623976537053686,
          32.48236215152379,
          36.58498520113747,
          41.91953247462923,
          45.81231403639047,
          49.16423388528335,
          52.90395906519484,
          56.53195586469029,
          58.68152692496757,
          59.28816931349675,
          59.31634426546985,
          58.934451015734744,
          58.23994609172582,
          55.728006589170846,
          51.57232389173547,
          48.83312212876193,
          43.65019763928687,
          39.36330359853356,
          34.067910941941136
         ],
         "yaxis": "y3"
        },
        {
         "fill": "tonexty",
         "fillcolor": "rgba(255,0,0,0.3)",
         "line": {
          "color": "rgb(255, 0, 0)"
         },
         "mode": "lines",
         "name": "Count predictions",
         "type": "scatter",
         "x": [
          "2020-02-10 00:00:00",
          "2020-02-10 01:00:00",
          "2020-02-10 02:00:00",
          "2020-02-10 03:00:00",
          "2020-02-10 04:00:00",
          "2020-02-10 05:00:00",
          "2020-02-10 06:00:00",
          "2020-02-10 07:00:00",
          "2020-02-10 08:00:00",
          "2020-02-10 09:00:00",
          "2020-02-10 10:00:00",
          "2020-02-10 11:00:00",
          "2020-02-10 12:00:00",
          "2020-02-10 13:00:00",
          "2020-02-10 14:00:00",
          "2020-02-10 15:00:00",
          "2020-02-10 16:00:00",
          "2020-02-10 17:00:00",
          "2020-02-10 18:00:00",
          "2020-02-10 19:00:00",
          "2020-02-10 20:00:00",
          "2020-02-10 21:00:00",
          "2020-02-10 22:00:00",
          "2020-02-10 23:00:00"
         ],
         "xaxis": "x3",
         "y": [
          19.86,
          22.968,
          26.933,
          31.684,
          35.617,
          40.815,
          46.642,
          51.451,
          57.32,
          62.116,
          66.848,
          70.725,
          74.794,
          77.182,
          78.058,
          77.982,
          77.346,
          76.048,
          73.105,
          69.413,
          65.635,
          60.967,
          56.216,
          50.793
         ],
         "yaxis": "y3"
        },
        {
         "fill": "tonexty",
         "fillcolor": "rgba(255,0,0,0.3)",
         "line": {
          "width": 0
         },
         "marker": {
          "color": "#444"
         },
         "mode": "lines",
         "name": "$Counts \\mu+2\\sigma$",
         "showlegend": false,
         "type": "scatter",
         "x": [
          "2020-02-10 00:00:00",
          "2020-02-10 01:00:00",
          "2020-02-10 02:00:00",
          "2020-02-10 03:00:00",
          "2020-02-10 04:00:00",
          "2020-02-10 05:00:00",
          "2020-02-10 06:00:00",
          "2020-02-10 07:00:00",
          "2020-02-10 08:00:00",
          "2020-02-10 09:00:00",
          "2020-02-10 10:00:00",
          "2020-02-10 11:00:00",
          "2020-02-10 12:00:00",
          "2020-02-10 13:00:00",
          "2020-02-10 14:00:00",
          "2020-02-10 15:00:00",
          "2020-02-10 16:00:00",
          "2020-02-10 17:00:00",
          "2020-02-10 18:00:00",
          "2020-02-10 19:00:00",
          "2020-02-10 20:00:00",
          "2020-02-10 21:00:00",
          "2020-02-10 22:00:00",
          "2020-02-10 23:00:00"
         ],
         "xaxis": "x3",
         "y": [
          29.640061349500833,
          33.73702521122502,
          38.065027847611596,
          43.79517566547527,
          48.04990971575037,
          54.00602346294631,
          60.80163784847622,
          66.31701479886253,
          72.72046752537076,
          78.41968596360954,
          84.53176611471665,
          88.54604093480515,
          93.0560441353097,
          95.68247307503243,
          96.82783068650326,
          96.64765573453015,
          95.75754898426527,
          93.85605390827419,
          90.48199341082916,
          87.25367610826453,
          82.43687787123808,
          78.28380236071312,
          73.06869640146644,
          67.51808905805886
         ],
         "yaxis": "y3"
        },
        {
         "line": {
          "width": 0
         },
         "marker": {
          "color": "#444"
         },
         "mode": "lines",
         "name": "$Intensity \\mu-2\\sigma$",
         "showlegend": false,
         "type": "scatter",
         "x": [
          "2020-02-10 00:00:00",
          "2020-02-10 01:00:00",
          "2020-02-10 02:00:00",
          "2020-02-10 03:00:00",
          "2020-02-10 04:00:00",
          "2020-02-10 05:00:00",
          "2020-02-10 06:00:00",
          "2020-02-10 07:00:00",
          "2020-02-10 08:00:00",
          "2020-02-10 09:00:00",
          "2020-02-10 10:00:00",
          "2020-02-10 11:00:00",
          "2020-02-10 12:00:00",
          "2020-02-10 13:00:00",
          "2020-02-10 14:00:00",
          "2020-02-10 15:00:00",
          "2020-02-10 16:00:00",
          "2020-02-10 17:00:00",
          "2020-02-10 18:00:00",
          "2020-02-10 19:00:00",
          "2020-02-10 20:00:00",
          "2020-02-10 21:00:00",
          "2020-02-10 22:00:00",
          "2020-02-10 23:00:00"
         ],
         "xaxis": "x3",
         "y": [
          15.206272057604952,
          18.779038254410402,
          22.793172950188957,
          27.199620982302392,
          31.93434246880878,
          36.89948029654038,
          42.02334639019225,
          47.18781164851135,
          52.28868776193907,
          57.185411393727804,
          61.69184386905154,
          65.61880178585643,
          68.80275368560181,
          71.08107349299414,
          72.37165082989543,
          72.61535662972776,
          71.85664093967566,
          70.11974915608656,
          67.43086426990033,
          63.84096152492126,
          59.40293205421378,
          54.21318956316452,
          48.46819241237128,
          42.431047709137225
         ],
         "yaxis": "y3"
        },
        {
         "fill": "tonexty",
         "fillcolor": "rgba(0,255,0,0.3)",
         "line": {
          "color": "rgb(0, 255, 0)"
         },
         "mode": "lines",
         "name": "Intensity predictions",
         "type": "scatter",
         "x": [
          "2020-02-10 00:00:00",
          "2020-02-10 01:00:00",
          "2020-02-10 02:00:00",
          "2020-02-10 03:00:00",
          "2020-02-10 04:00:00",
          "2020-02-10 05:00:00",
          "2020-02-10 06:00:00",
          "2020-02-10 07:00:00",
          "2020-02-10 08:00:00",
          "2020-02-10 09:00:00",
          "2020-02-10 10:00:00",
          "2020-02-10 11:00:00",
          "2020-02-10 12:00:00",
          "2020-02-10 13:00:00",
          "2020-02-10 14:00:00",
          "2020-02-10 15:00:00",
          "2020-02-10 16:00:00",
          "2020-02-10 17:00:00",
          "2020-02-10 18:00:00",
          "2020-02-10 19:00:00",
          "2020-02-10 20:00:00",
          "2020-02-10 21:00:00",
          "2020-02-10 22:00:00",
          "2020-02-10 23:00:00"
         ],
         "xaxis": "x3",
         "y": [
          19.814398012813644,
          23.198804637196588,
          27.032853694884764,
          31.30767388016812,
          35.99590271463955,
          41.020705025112775,
          46.301278520962086,
          51.702333648319936,
          57.066833062290485,
          62.21098048735726,
          66.93869016934387,
          71.06441040920409,
          74.413330223864,
          76.83028587106566,
          78.20396765877621,
          78.48321488403307,
          77.67234242354007,
          75.82622767979515,
          73.04711834777946,
          69.4764546814096,
          65.2913382176391,
          60.670636912667874,
          55.80048322105974,
          50.84777366470467
         ],
         "yaxis": "y3"
        },
        {
         "fill": "tonexty",
         "fillcolor": "rgba(0,255,0,0.3)",
         "line": {
          "width": 0
         },
         "marker": {
          "color": "#444"
         },
         "mode": "lines",
         "name": "Intensity $\\mu+2\\sigma$",
         "showlegend": false,
         "type": "scatter",
         "x": [
          "2020-02-10 00:00:00",
          "2020-02-10 01:00:00",
          "2020-02-10 02:00:00",
          "2020-02-10 03:00:00",
          "2020-02-10 04:00:00",
          "2020-02-10 05:00:00",
          "2020-02-10 06:00:00",
          "2020-02-10 07:00:00",
          "2020-02-10 08:00:00",
          "2020-02-10 09:00:00",
          "2020-02-10 10:00:00",
          "2020-02-10 11:00:00",
          "2020-02-10 12:00:00",
          "2020-02-10 13:00:00",
          "2020-02-10 14:00:00",
          "2020-02-10 15:00:00",
          "2020-02-10 16:00:00",
          "2020-02-10 17:00:00",
          "2020-02-10 18:00:00",
          "2020-02-10 19:00:00",
          "2020-02-10 20:00:00",
          "2020-02-10 21:00:00",
          "2020-02-10 22:00:00",
          "2020-02-10 23:00:00"
         ],
         "xaxis": "x3",
         "y": [
          24.422523968022336,
          27.618571019982774,
          31.27253443958057,
          35.41572677803385,
          40.05746296047032,
          45.14192975368517,
          50.57921065173192,
          56.21685564812852,
          61.844978362641896,
          67.23654958098672,
          72.1855364696362,
          76.51001903255174,
          80.02390676212617,
          82.57949824913717,
          84.03628448765699,
          84.35107313833839,
          83.48804390740449,
          81.53270620350375,
          78.6633724256586,
          75.11194783789794,
          71.17974438106441,
          67.12808426217123,
          63.132774029748205,
          59.26449962027211
         ],
         "yaxis": "y3"
        },
        {
         "line": {
          "color": "#1f77b4"
         },
         "mode": "lines+markers",
         "name": "Actual counts",
         "type": "scatter",
         "x": [
          "2020-02-10 00:00:00",
          "2020-02-10 01:00:00",
          "2020-02-10 02:00:00",
          "2020-02-10 03:00:00",
          "2020-02-10 04:00:00",
          "2020-02-10 05:00:00",
          "2020-02-10 06:00:00",
          "2020-02-10 07:00:00",
          "2020-02-10 08:00:00",
          "2020-02-10 09:00:00",
          "2020-02-10 10:00:00",
          "2020-02-10 11:00:00",
          "2020-02-10 12:00:00",
          "2020-02-10 13:00:00",
          "2020-02-10 14:00:00",
          "2020-02-10 15:00:00",
          "2020-02-10 16:00:00",
          "2020-02-10 17:00:00",
          "2020-02-10 18:00:00",
          "2020-02-10 19:00:00",
          "2020-02-10 20:00:00",
          "2020-02-10 21:00:00",
          "2020-02-10 22:00:00",
          "2020-02-10 23:00:00"
         ],
         "xaxis": "x3",
         "y": [
          41,
          18,
          20,
          10,
          22,
          38,
          54,
          62,
          64,
          66,
          67,
          92,
          77,
          83,
          68,
          68,
          58,
          59,
          87,
          85,
          64,
          61,
          62,
          45
         ],
         "yaxis": "y3"
        },
        {
         "line": {
          "width": 0
         },
         "marker": {
          "color": "#444"
         },
         "mode": "lines",
         "name": "$Counts \\mu-2\\sigma$",
         "showlegend": false,
         "type": "scatter",
         "x": [
          "2020-02-10 00:00:00",
          "2020-02-10 01:00:00",
          "2020-02-10 02:00:00",
          "2020-02-10 03:00:00",
          "2020-02-10 04:00:00",
          "2020-02-10 05:00:00",
          "2020-02-10 06:00:00",
          "2020-02-10 07:00:00",
          "2020-02-10 08:00:00",
          "2020-02-10 09:00:00",
          "2020-02-10 10:00:00",
          "2020-02-10 11:00:00",
          "2020-02-10 12:00:00",
          "2020-02-10 13:00:00",
          "2020-02-10 14:00:00",
          "2020-02-10 15:00:00",
          "2020-02-10 16:00:00",
          "2020-02-10 17:00:00",
          "2020-02-10 18:00:00",
          "2020-02-10 19:00:00",
          "2020-02-10 20:00:00",
          "2020-02-10 21:00:00",
          "2020-02-10 22:00:00",
          "2020-02-10 23:00:00"
         ],
         "xaxis": "x6",
         "y": [
          15.941199237828595,
          12.784716380623967,
          11.02291911797208,
          11.927228589702521,
          14.188948160358574,
          19.673397300205718,
          27.511730899868667,
          37.636616277889885,
          48.51357162416676,
          56.59393768375428,
          61.0028147870229,
          59.98383348192399,
          57.44339984692275,
          54.44428240240217,
          51.018752827267264,
          48.91166979417486,
          50.63231631552347,
          51.63352082824851,
          53.8879686944032,
          55.05230990399275,
          53.670502691347636,
          47.369189997237115,
          40.19286370597826,
          28.20393563336835
         ],
         "yaxis": "y6"
        },
        {
         "fill": "tonexty",
         "fillcolor": "rgba(255,0,0,0.3)",
         "line": {
          "color": "rgb(255, 0, 0)"
         },
         "mode": "lines",
         "name": "Count predictions",
         "type": "scatter",
         "x": [
          "2020-02-10 00:00:00",
          "2020-02-10 01:00:00",
          "2020-02-10 02:00:00",
          "2020-02-10 03:00:00",
          "2020-02-10 04:00:00",
          "2020-02-10 05:00:00",
          "2020-02-10 06:00:00",
          "2020-02-10 07:00:00",
          "2020-02-10 08:00:00",
          "2020-02-10 09:00:00",
          "2020-02-10 10:00:00",
          "2020-02-10 11:00:00",
          "2020-02-10 12:00:00",
          "2020-02-10 13:00:00",
          "2020-02-10 14:00:00",
          "2020-02-10 15:00:00",
          "2020-02-10 16:00:00",
          "2020-02-10 17:00:00",
          "2020-02-10 18:00:00",
          "2020-02-10 19:00:00",
          "2020-02-10 20:00:00",
          "2020-02-10 21:00:00",
          "2020-02-10 22:00:00",
          "2020-02-10 23:00:00"
         ],
         "xaxis": "x6",
         "y": [
          30.085,
          23.715,
          21.087,
          21.956,
          25.522,
          31.941,
          41.921,
          54.081,
          66.512,
          76.332,
          81.042,
          80.267,
          77.172,
          72.376,
          68.98,
          67.741,
          68.336,
          70.028,
          72.99,
          74.342,
          72.295,
          66.172,
          57.303,
          45.48
         ],
         "yaxis": "y6"
        },
        {
         "fill": "tonexty",
         "fillcolor": "rgba(255,0,0,0.3)",
         "line": {
          "width": 0
         },
         "marker": {
          "color": "#444"
         },
         "mode": "lines",
         "name": "$Counts \\mu+2\\sigma$",
         "showlegend": false,
         "type": "scatter",
         "x": [
          "2020-02-10 00:00:00",
          "2020-02-10 01:00:00",
          "2020-02-10 02:00:00",
          "2020-02-10 03:00:00",
          "2020-02-10 04:00:00",
          "2020-02-10 05:00:00",
          "2020-02-10 06:00:00",
          "2020-02-10 07:00:00",
          "2020-02-10 08:00:00",
          "2020-02-10 09:00:00",
          "2020-02-10 10:00:00",
          "2020-02-10 11:00:00",
          "2020-02-10 12:00:00",
          "2020-02-10 13:00:00",
          "2020-02-10 14:00:00",
          "2020-02-10 15:00:00",
          "2020-02-10 16:00:00",
          "2020-02-10 17:00:00",
          "2020-02-10 18:00:00",
          "2020-02-10 19:00:00",
          "2020-02-10 20:00:00",
          "2020-02-10 21:00:00",
          "2020-02-10 22:00:00",
          "2020-02-10 23:00:00"
         ],
         "xaxis": "x6",
         "y": [
          44.2288007621714,
          34.64528361937603,
          31.15108088202792,
          31.984771410297476,
          36.85505183964142,
          44.208602699794284,
          56.33026910013133,
          70.52538372211012,
          84.51042837583324,
          96.07006231624571,
          101.0811852129771,
          100.550166518076,
          96.90060015307725,
          90.30771759759784,
          86.94124717273274,
          86.57033020582514,
          86.03968368447653,
          88.4224791717515,
          92.09203130559679,
          93.63169009600725,
          90.91949730865237,
          84.97481000276288,
          74.41313629402174,
          62.75606436663165
         ],
         "yaxis": "y6"
        },
        {
         "line": {
          "width": 0
         },
         "marker": {
          "color": "#444"
         },
         "mode": "lines",
         "name": "$Intensity \\mu-2\\sigma$",
         "showlegend": false,
         "type": "scatter",
         "x": [
          "2020-02-10 00:00:00",
          "2020-02-10 01:00:00",
          "2020-02-10 02:00:00",
          "2020-02-10 03:00:00",
          "2020-02-10 04:00:00",
          "2020-02-10 05:00:00",
          "2020-02-10 06:00:00",
          "2020-02-10 07:00:00",
          "2020-02-10 08:00:00",
          "2020-02-10 09:00:00",
          "2020-02-10 10:00:00",
          "2020-02-10 11:00:00",
          "2020-02-10 12:00:00",
          "2020-02-10 13:00:00",
          "2020-02-10 14:00:00",
          "2020-02-10 15:00:00",
          "2020-02-10 16:00:00",
          "2020-02-10 17:00:00",
          "2020-02-10 18:00:00",
          "2020-02-10 19:00:00",
          "2020-02-10 20:00:00",
          "2020-02-10 21:00:00",
          "2020-02-10 22:00:00",
          "2020-02-10 23:00:00"
         ],
         "xaxis": "x6",
         "y": [
          21.090893301706707,
          18.571749632026204,
          16.86968313136832,
          17.380065027694332,
          20.52955304336848,
          26.62883181519827,
          35.75252525710802,
          47.037663487279346,
          58.42439651481468,
          67.21274776835322,
          71.4702746413481,
          71.17983224958111,
          67.98788966733994,
          64.05554788418283,
          60.97498374212867,
          59.59988306468188,
          60.08866348556983,
          61.95695551467004,
          64.09838048550706,
          64.98695377727556,
          63.23497230627464,
          58.072916811118816,
          48.51012683891851,
          34.27093131667401
         ],
         "yaxis": "y6"
        },
        {
         "fill": "tonexty",
         "fillcolor": "rgba(0,255,0,0.3)",
         "line": {
          "color": "rgb(0, 255, 0)"
         },
         "mode": "lines",
         "name": "Intensity predictions",
         "type": "scatter",
         "x": [
          "2020-02-10 00:00:00",
          "2020-02-10 01:00:00",
          "2020-02-10 02:00:00",
          "2020-02-10 03:00:00",
          "2020-02-10 04:00:00",
          "2020-02-10 05:00:00",
          "2020-02-10 06:00:00",
          "2020-02-10 07:00:00",
          "2020-02-10 08:00:00",
          "2020-02-10 09:00:00",
          "2020-02-10 10:00:00",
          "2020-02-10 11:00:00",
          "2020-02-10 12:00:00",
          "2020-02-10 13:00:00",
          "2020-02-10 14:00:00",
          "2020-02-10 15:00:00",
          "2020-02-10 16:00:00",
          "2020-02-10 17:00:00",
          "2020-02-10 18:00:00",
          "2020-02-10 19:00:00",
          "2020-02-10 20:00:00",
          "2020-02-10 21:00:00",
          "2020-02-10 22:00:00",
          "2020-02-10 23:00:00"
         ],
         "xaxis": "x6",
         "y": [
          30.71555065792124,
          23.797971392926996,
          21.24683458504321,
          21.859181745284985,
          25.387257853427723,
          32.05717268431827,
          41.957450229278145,
          54.272259788765055,
          66.77616078023708,
          76.41181521784634,
          80.97576903084371,
          80.46088203107941,
          76.7300117660039,
          72.18691325556901,
          68.68455035501844,
          67.14696581649451,
          67.73004501157551,
          69.93826896256724,
          72.6204607560142,
          74.09053641234549,
          72.50167008486147,
          66.70675205600175,
          57.0719067782903,
          45.44099224052304
         ],
         "yaxis": "y6"
        },
        {
         "fill": "tonexty",
         "fillcolor": "rgba(0,255,0,0.3)",
         "line": {
          "width": 0
         },
         "marker": {
          "color": "#444"
         },
         "mode": "lines",
         "name": "Intensity $\\mu+2\\sigma$",
         "showlegend": false,
         "type": "scatter",
         "x": [
          "2020-02-10 00:00:00",
          "2020-02-10 01:00:00",
          "2020-02-10 02:00:00",
          "2020-02-10 03:00:00",
          "2020-02-10 04:00:00",
          "2020-02-10 05:00:00",
          "2020-02-10 06:00:00",
          "2020-02-10 07:00:00",
          "2020-02-10 08:00:00",
          "2020-02-10 09:00:00",
          "2020-02-10 10:00:00",
          "2020-02-10 11:00:00",
          "2020-02-10 12:00:00",
          "2020-02-10 13:00:00",
          "2020-02-10 14:00:00",
          "2020-02-10 15:00:00",
          "2020-02-10 16:00:00",
          "2020-02-10 17:00:00",
          "2020-02-10 18:00:00",
          "2020-02-10 19:00:00",
          "2020-02-10 20:00:00",
          "2020-02-10 21:00:00",
          "2020-02-10 22:00:00",
          "2020-02-10 23:00:00"
         ],
         "xaxis": "x6",
         "y": [
          40.340208014135776,
          29.024193153827788,
          25.6239860387181,
          26.33829846287564,
          30.244962663486966,
          37.48551355343826,
          48.16237520144827,
          61.506856090250764,
          75.12792504565948,
          85.61088266733945,
          90.48126342033932,
          89.7419318125777,
          85.47213386466785,
          80.31827862695519,
          76.39411696790822,
          74.69404856830714,
          75.37142653758119,
          77.91958241046443,
          81.14254102652133,
          83.19411904741541,
          81.7683678634483,
          75.34058730088468,
          65.63368671766209,
          56.611053164372066
         ],
         "yaxis": "y6"
        },
        {
         "line": {
          "color": "#1f77b4"
         },
         "mode": "lines+markers",
         "name": "Actual counts",
         "type": "scatter",
         "x": [
          "2020-02-10 00:00:00",
          "2020-02-10 01:00:00",
          "2020-02-10 02:00:00",
          "2020-02-10 03:00:00",
          "2020-02-10 04:00:00",
          "2020-02-10 05:00:00",
          "2020-02-10 06:00:00",
          "2020-02-10 07:00:00",
          "2020-02-10 08:00:00",
          "2020-02-10 09:00:00",
          "2020-02-10 10:00:00",
          "2020-02-10 11:00:00",
          "2020-02-10 12:00:00",
          "2020-02-10 13:00:00",
          "2020-02-10 14:00:00",
          "2020-02-10 15:00:00",
          "2020-02-10 16:00:00",
          "2020-02-10 17:00:00",
          "2020-02-10 18:00:00",
          "2020-02-10 19:00:00",
          "2020-02-10 20:00:00",
          "2020-02-10 21:00:00",
          "2020-02-10 22:00:00",
          "2020-02-10 23:00:00"
         ],
         "xaxis": "x6",
         "y": [
          41,
          18,
          20,
          10,
          22,
          38,
          54,
          62,
          64,
          66,
          67,
          92,
          77,
          83,
          68,
          68,
          58,
          59,
          87,
          85,
          64,
          61,
          62,
          45
         ],
         "yaxis": "y6"
        },
        {
         "line": {
          "width": 0
         },
         "marker": {
          "color": "#444"
         },
         "mode": "lines",
         "name": "$Counts \\mu-2\\sigma$",
         "showlegend": false,
         "type": "scatter",
         "x": [
          "2020-02-10 00:00:00",
          "2020-02-10 01:00:00",
          "2020-02-10 02:00:00",
          "2020-02-10 03:00:00",
          "2020-02-10 04:00:00",
          "2020-02-10 05:00:00",
          "2020-02-10 06:00:00",
          "2020-02-10 07:00:00",
          "2020-02-10 08:00:00",
          "2020-02-10 09:00:00",
          "2020-02-10 10:00:00",
          "2020-02-10 11:00:00",
          "2020-02-10 12:00:00",
          "2020-02-10 13:00:00",
          "2020-02-10 14:00:00",
          "2020-02-10 15:00:00",
          "2020-02-10 16:00:00",
          "2020-02-10 17:00:00",
          "2020-02-10 18:00:00",
          "2020-02-10 19:00:00",
          "2020-02-10 20:00:00",
          "2020-02-10 21:00:00",
          "2020-02-10 22:00:00",
          "2020-02-10 23:00:00"
         ],
         "xaxis": "x9",
         "y": [
          10.228893018263038,
          12.727660408558089,
          15.836390479631659,
          19.680081829200944,
          23.653199129507946,
          27.73239189362049,
          32.32631035183057,
          36.15181821440433,
          41.88476773240012,
          45.438070936915864,
          49.50121982032661,
          54.315712218247675,
          56.07637983677823,
          58.80345284597435,
          60.02470971790886,
          59.45177829156799,
          58.95880697524834,
          57.258632441582435,
          54.631669628155706,
          52.23057529948964,
          47.46275852325463,
          43.61344075180744,
          38.48865829957578,
          34.05243824948063
         ],
         "yaxis": "y9"
        },
        {
         "fill": "tonexty",
         "fillcolor": "rgba(255,0,0,0.3)",
         "line": {
          "color": "rgb(255, 0, 0)"
         },
         "mode": "lines",
         "name": "Count predictions",
         "type": "scatter",
         "x": [
          "2020-02-10 00:00:00",
          "2020-02-10 01:00:00",
          "2020-02-10 02:00:00",
          "2020-02-10 03:00:00",
          "2020-02-10 04:00:00",
          "2020-02-10 05:00:00",
          "2020-02-10 06:00:00",
          "2020-02-10 07:00:00",
          "2020-02-10 08:00:00",
          "2020-02-10 09:00:00",
          "2020-02-10 10:00:00",
          "2020-02-10 11:00:00",
          "2020-02-10 12:00:00",
          "2020-02-10 13:00:00",
          "2020-02-10 14:00:00",
          "2020-02-10 15:00:00",
          "2020-02-10 16:00:00",
          "2020-02-10 17:00:00",
          "2020-02-10 18:00:00",
          "2020-02-10 19:00:00",
          "2020-02-10 20:00:00",
          "2020-02-10 21:00:00",
          "2020-02-10 22:00:00",
          "2020-02-10 23:00:00"
         ],
         "xaxis": "x9",
         "y": [
          19.796,
          23.345,
          26.92,
          31.534,
          36.037,
          40.885,
          46.589,
          52.003,
          56.986,
          61.995,
          66.954,
          71.294,
          74.259,
          77.251,
          78.593,
          78.098,
          77.599,
          75.275,
          73.391,
          69.895,
          65.036,
          60.422,
          55.274,
          50.358
         ],
         "yaxis": "y9"
        },
        {
         "fill": "tonexty",
         "fillcolor": "rgba(255,0,0,0.3)",
         "line": {
          "width": 0
         },
         "marker": {
          "color": "#444"
         },
         "mode": "lines",
         "name": "$Counts \\mu+2\\sigma$",
         "showlegend": false,
         "type": "scatter",
         "x": [
          "2020-02-10 00:00:00",
          "2020-02-10 01:00:00",
          "2020-02-10 02:00:00",
          "2020-02-10 03:00:00",
          "2020-02-10 04:00:00",
          "2020-02-10 05:00:00",
          "2020-02-10 06:00:00",
          "2020-02-10 07:00:00",
          "2020-02-10 08:00:00",
          "2020-02-10 09:00:00",
          "2020-02-10 10:00:00",
          "2020-02-10 11:00:00",
          "2020-02-10 12:00:00",
          "2020-02-10 13:00:00",
          "2020-02-10 14:00:00",
          "2020-02-10 15:00:00",
          "2020-02-10 16:00:00",
          "2020-02-10 17:00:00",
          "2020-02-10 18:00:00",
          "2020-02-10 19:00:00",
          "2020-02-10 20:00:00",
          "2020-02-10 21:00:00",
          "2020-02-10 22:00:00",
          "2020-02-10 23:00:00"
         ],
         "xaxis": "x9",
         "y": [
          29.363106981736962,
          33.96233959144191,
          38.00360952036834,
          43.387918170799054,
          48.42080087049205,
          54.03760810637951,
          60.851689648169426,
          67.85418178559567,
          72.08723226759987,
          78.55192906308413,
          84.40678017967338,
          88.27228778175231,
          92.44162016322177,
          95.69854715402566,
          97.16129028209114,
          96.74422170843201,
          96.23919302475167,
          93.29136755841758,
          92.1503303718443,
          87.55942470051036,
          82.60924147674538,
          77.23055924819255,
          72.05934170042423,
          66.66356175051936
         ],
         "yaxis": "y9"
        },
        {
         "line": {
          "width": 0
         },
         "marker": {
          "color": "#444"
         },
         "mode": "lines",
         "name": "$Intensity \\mu-2\\sigma$",
         "showlegend": false,
         "type": "scatter",
         "x": [
          "2020-02-10 00:00:00",
          "2020-02-10 01:00:00",
          "2020-02-10 02:00:00",
          "2020-02-10 03:00:00",
          "2020-02-10 04:00:00",
          "2020-02-10 05:00:00",
          "2020-02-10 06:00:00",
          "2020-02-10 07:00:00",
          "2020-02-10 08:00:00",
          "2020-02-10 09:00:00",
          "2020-02-10 10:00:00",
          "2020-02-10 11:00:00",
          "2020-02-10 12:00:00",
          "2020-02-10 13:00:00",
          "2020-02-10 14:00:00",
          "2020-02-10 15:00:00",
          "2020-02-10 16:00:00",
          "2020-02-10 17:00:00",
          "2020-02-10 18:00:00",
          "2020-02-10 19:00:00",
          "2020-02-10 20:00:00",
          "2020-02-10 21:00:00",
          "2020-02-10 22:00:00",
          "2020-02-10 23:00:00"
         ],
         "xaxis": "x9",
         "y": [
          15.195454160936432,
          18.771766963549382,
          22.78704462508616,
          27.191021161477714,
          31.906762233720006,
          36.85244914088563,
          41.941254736419765,
          47.07648690783205,
          52.15865688791669,
          57.040855774139786,
          61.540231448436536,
          65.47558538339216,
          68.6546172177637,
          70.93073458754034,
          72.22207845525337,
          72.47565937152989,
          71.733861019219,
          70.01516744644145,
          67.35996049579535,
          63.80311821989605,
          59.369815116485576,
          54.16548674699186,
          48.35112754245394,
          42.24934992925523
         ],
         "yaxis": "y9"
        },
        {
         "fill": "tonexty",
         "fillcolor": "rgba(0,255,0,0.3)",
         "line": {
          "color": "rgb(0, 255, 0)"
         },
         "mode": "lines",
         "name": "Intensity predictions",
         "type": "scatter",
         "x": [
          "2020-02-10 00:00:00",
          "2020-02-10 01:00:00",
          "2020-02-10 02:00:00",
          "2020-02-10 03:00:00",
          "2020-02-10 04:00:00",
          "2020-02-10 05:00:00",
          "2020-02-10 06:00:00",
          "2020-02-10 07:00:00",
          "2020-02-10 08:00:00",
          "2020-02-10 09:00:00",
          "2020-02-10 10:00:00",
          "2020-02-10 11:00:00",
          "2020-02-10 12:00:00",
          "2020-02-10 13:00:00",
          "2020-02-10 14:00:00",
          "2020-02-10 15:00:00",
          "2020-02-10 16:00:00",
          "2020-02-10 17:00:00",
          "2020-02-10 18:00:00",
          "2020-02-10 19:00:00",
          "2020-02-10 20:00:00",
          "2020-02-10 21:00:00",
          "2020-02-10 22:00:00",
          "2020-02-10 23:00:00"
         ],
         "xaxis": "x9",
         "y": [
          19.793403571817493,
          23.155749212308965,
          26.966059586745793,
          31.21888695205191,
          35.88004451538093,
          40.89332562987409,
          46.152657016956546,
          51.538666353983984,
          56.90416433000406,
          62.05582746652925,
          66.8078111645934,
          70.96749041952798,
          74.3506738278073,
          76.8049528945349,
          78.22419589618033,
          78.54641611445727,
          77.7710642955646,
          75.95075417200722,
          73.1773503724628,
          69.61266722949455,
          65.41608107561737,
          60.77378151416332,
          55.86176596748024,
          50.87249524643362
         ],
         "yaxis": "y9"
        },
        {
         "fill": "tonexty",
         "fillcolor": "rgba(0,255,0,0.3)",
         "line": {
          "width": 0
         },
         "marker": {
          "color": "#444"
         },
         "mode": "lines",
         "name": "Intensity $\\mu+2\\sigma$",
         "showlegend": false,
         "type": "scatter",
         "x": [
          "2020-02-10 00:00:00",
          "2020-02-10 01:00:00",
          "2020-02-10 02:00:00",
          "2020-02-10 03:00:00",
          "2020-02-10 04:00:00",
          "2020-02-10 05:00:00",
          "2020-02-10 06:00:00",
          "2020-02-10 07:00:00",
          "2020-02-10 08:00:00",
          "2020-02-10 09:00:00",
          "2020-02-10 10:00:00",
          "2020-02-10 11:00:00",
          "2020-02-10 12:00:00",
          "2020-02-10 13:00:00",
          "2020-02-10 14:00:00",
          "2020-02-10 15:00:00",
          "2020-02-10 16:00:00",
          "2020-02-10 17:00:00",
          "2020-02-10 18:00:00",
          "2020-02-10 19:00:00",
          "2020-02-10 20:00:00",
          "2020-02-10 21:00:00",
          "2020-02-10 22:00:00",
          "2020-02-10 23:00:00"
         ],
         "xaxis": "x9",
         "y": [
          24.391352982698553,
          27.53973146106855,
          31.145074548405425,
          35.24675274262611,
          39.85332679704185,
          44.93420211886255,
          50.36405929749333,
          56.00084580013592,
          61.64967177209142,
          67.07079915891872,
          72.07539088075028,
          76.4593954556638,
          80.0467304378509,
          82.67917120152947,
          84.2263133371073,
          84.61717285738466,
          83.80826757191019,
          81.88634089757299,
          78.99474024913025,
          75.42221623909305,
          71.46234703474917,
          67.38207628133478,
          63.37240439250654,
          59.495640563612014
         ],
         "yaxis": "y9"
        },
        {
         "line": {
          "color": "#1f77b4"
         },
         "mode": "lines+markers",
         "name": "Actual counts",
         "type": "scatter",
         "x": [
          "2020-02-10 00:00:00",
          "2020-02-10 01:00:00",
          "2020-02-10 02:00:00",
          "2020-02-10 03:00:00",
          "2020-02-10 04:00:00",
          "2020-02-10 05:00:00",
          "2020-02-10 06:00:00",
          "2020-02-10 07:00:00",
          "2020-02-10 08:00:00",
          "2020-02-10 09:00:00",
          "2020-02-10 10:00:00",
          "2020-02-10 11:00:00",
          "2020-02-10 12:00:00",
          "2020-02-10 13:00:00",
          "2020-02-10 14:00:00",
          "2020-02-10 15:00:00",
          "2020-02-10 16:00:00",
          "2020-02-10 17:00:00",
          "2020-02-10 18:00:00",
          "2020-02-10 19:00:00",
          "2020-02-10 20:00:00",
          "2020-02-10 21:00:00",
          "2020-02-10 22:00:00",
          "2020-02-10 23:00:00"
         ],
         "xaxis": "x9",
         "y": [
          41,
          18,
          20,
          10,
          22,
          38,
          54,
          62,
          64,
          66,
          67,
          92,
          77,
          83,
          68,
          68,
          58,
          59,
          87,
          85,
          64,
          61,
          62,
          45
         ],
         "yaxis": "y9"
        },
        {
         "line": {
          "width": 0
         },
         "marker": {
          "color": "#444"
         },
         "mode": "lines",
         "name": "$Counts \\mu-2\\sigma$",
         "showlegend": false,
         "type": "scatter",
         "x": [
          "2020-02-10 00:00:00",
          "2020-02-10 01:00:00",
          "2020-02-10 02:00:00",
          "2020-02-10 03:00:00",
          "2020-02-10 04:00:00",
          "2020-02-10 05:00:00",
          "2020-02-10 06:00:00",
          "2020-02-10 07:00:00",
          "2020-02-10 08:00:00",
          "2020-02-10 09:00:00",
          "2020-02-10 10:00:00",
          "2020-02-10 11:00:00",
          "2020-02-10 12:00:00",
          "2020-02-10 13:00:00",
          "2020-02-10 14:00:00",
          "2020-02-10 15:00:00",
          "2020-02-10 16:00:00",
          "2020-02-10 17:00:00",
          "2020-02-10 18:00:00",
          "2020-02-10 19:00:00",
          "2020-02-10 20:00:00",
          "2020-02-10 21:00:00",
          "2020-02-10 22:00:00",
          "2020-02-10 23:00:00"
         ],
         "xaxis": "x12",
         "y": [
          9.82054331761351,
          12.627483852642163,
          15.3631472195214,
          19.752796596679516,
          22.946310063395316,
          27.24851085306771,
          31.31454787385633,
          35.98472444746805,
          41.12643754936185,
          44.71450199695711,
          50.360587144393165,
          53.047391276206014,
          56.18675505530426,
          59.20431553891176,
          59.28858139004727,
          59.51591677033982,
          58.96346026453553,
          57.98866521234348,
          55.42787993649897,
          52.37449230050494,
          48.14109094290217,
          43.08158238267466,
          39.704655005534235,
          34.81391425185907
         ],
         "yaxis": "y12"
        },
        {
         "fill": "tonexty",
         "fillcolor": "rgba(255,0,0,0.3)",
         "line": {
          "color": "rgb(255, 0, 0)"
         },
         "mode": "lines",
         "name": "Count predictions",
         "type": "scatter",
         "x": [
          "2020-02-10 00:00:00",
          "2020-02-10 01:00:00",
          "2020-02-10 02:00:00",
          "2020-02-10 03:00:00",
          "2020-02-10 04:00:00",
          "2020-02-10 05:00:00",
          "2020-02-10 06:00:00",
          "2020-02-10 07:00:00",
          "2020-02-10 08:00:00",
          "2020-02-10 09:00:00",
          "2020-02-10 10:00:00",
          "2020-02-10 11:00:00",
          "2020-02-10 12:00:00",
          "2020-02-10 13:00:00",
          "2020-02-10 14:00:00",
          "2020-02-10 15:00:00",
          "2020-02-10 16:00:00",
          "2020-02-10 17:00:00",
          "2020-02-10 18:00:00",
          "2020-02-10 19:00:00",
          "2020-02-10 20:00:00",
          "2020-02-10 21:00:00",
          "2020-02-10 22:00:00",
          "2020-02-10 23:00:00"
         ],
         "xaxis": "x12",
         "y": [
          19.727,
          22.962,
          26.778,
          31.412,
          36.008,
          41.081,
          46.106,
          51.481,
          56.993,
          61.803,
          66.783,
          71.184,
          74.54,
          77.175,
          77.855,
          78.037,
          77.206,
          76.172,
          72.952,
          69.762,
          65.74,
          60.259,
          55.879,
          51.584
         ],
         "yaxis": "y12"
        },
        {
         "fill": "tonexty",
         "fillcolor": "rgba(255,0,0,0.3)",
         "line": {
          "width": 0
         },
         "marker": {
          "color": "#444"
         },
         "mode": "lines",
         "name": "$Counts \\mu+2\\sigma$",
         "showlegend": false,
         "type": "scatter",
         "x": [
          "2020-02-10 00:00:00",
          "2020-02-10 01:00:00",
          "2020-02-10 02:00:00",
          "2020-02-10 03:00:00",
          "2020-02-10 04:00:00",
          "2020-02-10 05:00:00",
          "2020-02-10 06:00:00",
          "2020-02-10 07:00:00",
          "2020-02-10 08:00:00",
          "2020-02-10 09:00:00",
          "2020-02-10 10:00:00",
          "2020-02-10 11:00:00",
          "2020-02-10 12:00:00",
          "2020-02-10 13:00:00",
          "2020-02-10 14:00:00",
          "2020-02-10 15:00:00",
          "2020-02-10 16:00:00",
          "2020-02-10 17:00:00",
          "2020-02-10 18:00:00",
          "2020-02-10 19:00:00",
          "2020-02-10 20:00:00",
          "2020-02-10 21:00:00",
          "2020-02-10 22:00:00",
          "2020-02-10 23:00:00"
         ],
         "xaxis": "x12",
         "y": [
          29.63345668238649,
          33.296516147357835,
          38.192852780478596,
          43.07120340332048,
          49.06968993660469,
          54.91348914693229,
          60.897452126143676,
          66.97727555253196,
          72.85956245063815,
          78.89149800304288,
          83.20541285560684,
          89.32060872379398,
          92.89324494469575,
          95.14568446108824,
          96.42141860995274,
          96.55808322966018,
          95.44853973546448,
          94.35533478765652,
          90.47612006350103,
          87.14950769949506,
          83.33890905709782,
          77.43641761732533,
          72.05334499446576,
          68.35408574814093
         ],
         "yaxis": "y12"
        },
        {
         "line": {
          "width": 0
         },
         "marker": {
          "color": "#444"
         },
         "mode": "lines",
         "name": "$Intensity \\mu-2\\sigma$",
         "showlegend": false,
         "type": "scatter",
         "x": [
          "2020-02-10 00:00:00",
          "2020-02-10 01:00:00",
          "2020-02-10 02:00:00",
          "2020-02-10 03:00:00",
          "2020-02-10 04:00:00",
          "2020-02-10 05:00:00",
          "2020-02-10 06:00:00",
          "2020-02-10 07:00:00",
          "2020-02-10 08:00:00",
          "2020-02-10 09:00:00",
          "2020-02-10 10:00:00",
          "2020-02-10 11:00:00",
          "2020-02-10 12:00:00",
          "2020-02-10 13:00:00",
          "2020-02-10 14:00:00",
          "2020-02-10 15:00:00",
          "2020-02-10 16:00:00",
          "2020-02-10 17:00:00",
          "2020-02-10 18:00:00",
          "2020-02-10 19:00:00",
          "2020-02-10 20:00:00",
          "2020-02-10 21:00:00",
          "2020-02-10 22:00:00",
          "2020-02-10 23:00:00"
         ],
         "xaxis": "x12",
         "y": [
          15.349820668249672,
          18.93233132970021,
          22.942892163832823,
          27.351253730109757,
          32.06263805620475,
          37.00330802305195,
          42.08052176194756,
          47.19403635342668,
          52.24056389845688,
          57.06316254554389,
          61.49812845116595,
          65.37491164659649,
          68.49598313970864,
          70.73120936393282,
          72.00420395314936,
          72.28560494308864,
          71.54588192490188,
          69.86289444646896,
          67.2660539983104,
          63.79521848746012,
          59.44825037839897,
          54.330367577069666,
          48.63341944081774,
          42.615915852639475
         ],
         "yaxis": "y12"
        },
        {
         "fill": "tonexty",
         "fillcolor": "rgba(0,255,0,0.3)",
         "line": {
          "color": "rgb(0, 255, 0)"
         },
         "mode": "lines",
         "name": "Intensity predictions",
         "type": "scatter",
         "x": [
          "2020-02-10 00:00:00",
          "2020-02-10 01:00:00",
          "2020-02-10 02:00:00",
          "2020-02-10 03:00:00",
          "2020-02-10 04:00:00",
          "2020-02-10 05:00:00",
          "2020-02-10 06:00:00",
          "2020-02-10 07:00:00",
          "2020-02-10 08:00:00",
          "2020-02-10 09:00:00",
          "2020-02-10 10:00:00",
          "2020-02-10 11:00:00",
          "2020-02-10 12:00:00",
          "2020-02-10 13:00:00",
          "2020-02-10 14:00:00",
          "2020-02-10 15:00:00",
          "2020-02-10 16:00:00",
          "2020-02-10 17:00:00",
          "2020-02-10 18:00:00",
          "2020-02-10 19:00:00",
          "2020-02-10 20:00:00",
          "2020-02-10 21:00:00",
          "2020-02-10 22:00:00",
          "2020-02-10 23:00:00"
         ],
         "xaxis": "x12",
         "y": [
          19.821054395166783,
          23.204965384562772,
          27.033726809186973,
          31.303991845838663,
          35.9789714217513,
          40.99825745013637,
          46.261958909774314,
          51.646060056725794,
          56.99442811229528,
          62.124007859300264,
          66.8473663339611,
          70.97094658204418,
          74.31425255735391,
          76.73130241291028,
          78.12177586334845,
          78.426415029045,
          77.63366339156188,
          75.81163096689482,
          73.04428671331009,
          69.5031336182448,
          65.32612212524151,
          60.717561861521915,
          55.85435901262497,
          50.89616614113825
         ],
         "yaxis": "y12"
        },
        {
         "fill": "tonexty",
         "fillcolor": "rgba(0,255,0,0.3)",
         "line": {
          "width": 0
         },
         "marker": {
          "color": "#444"
         },
         "mode": "lines",
         "name": "Intensity $\\mu+2\\sigma$",
         "showlegend": false,
         "type": "scatter",
         "x": [
          "2020-02-10 00:00:00",
          "2020-02-10 01:00:00",
          "2020-02-10 02:00:00",
          "2020-02-10 03:00:00",
          "2020-02-10 04:00:00",
          "2020-02-10 05:00:00",
          "2020-02-10 06:00:00",
          "2020-02-10 07:00:00",
          "2020-02-10 08:00:00",
          "2020-02-10 09:00:00",
          "2020-02-10 10:00:00",
          "2020-02-10 11:00:00",
          "2020-02-10 12:00:00",
          "2020-02-10 13:00:00",
          "2020-02-10 14:00:00",
          "2020-02-10 15:00:00",
          "2020-02-10 16:00:00",
          "2020-02-10 17:00:00",
          "2020-02-10 18:00:00",
          "2020-02-10 19:00:00",
          "2020-02-10 20:00:00",
          "2020-02-10 21:00:00",
          "2020-02-10 22:00:00",
          "2020-02-10 23:00:00"
         ],
         "xaxis": "x12",
         "y": [
          24.292288122083896,
          27.477599439425333,
          31.124561454541123,
          35.256729961567565,
          39.895304787297846,
          44.99320687722079,
          50.44339605760107,
          56.098083760024906,
          61.74829232613369,
          67.18485317305664,
          72.19660421675627,
          76.56698151749187,
          80.13252197499918,
          82.73139546188774,
          84.23934777354754,
          84.56722511500136,
          83.72144485822189,
          81.76036748732069,
          78.82251942830977,
          75.21104874902949,
          71.20399387208406,
          67.10475614597416,
          63.0752985844322,
          59.17641642963703
         ],
         "yaxis": "y12"
        },
        {
         "line": {
          "color": "#1f77b4"
         },
         "mode": "lines+markers",
         "name": "Actual counts",
         "type": "scatter",
         "x": [
          "2020-02-10 00:00:00",
          "2020-02-10 01:00:00",
          "2020-02-10 02:00:00",
          "2020-02-10 03:00:00",
          "2020-02-10 04:00:00",
          "2020-02-10 05:00:00",
          "2020-02-10 06:00:00",
          "2020-02-10 07:00:00",
          "2020-02-10 08:00:00",
          "2020-02-10 09:00:00",
          "2020-02-10 10:00:00",
          "2020-02-10 11:00:00",
          "2020-02-10 12:00:00",
          "2020-02-10 13:00:00",
          "2020-02-10 14:00:00",
          "2020-02-10 15:00:00",
          "2020-02-10 16:00:00",
          "2020-02-10 17:00:00",
          "2020-02-10 18:00:00",
          "2020-02-10 19:00:00",
          "2020-02-10 20:00:00",
          "2020-02-10 21:00:00",
          "2020-02-10 22:00:00",
          "2020-02-10 23:00:00"
         ],
         "xaxis": "x12",
         "y": [
          41,
          18,
          20,
          10,
          22,
          38,
          54,
          62,
          64,
          66,
          67,
          92,
          77,
          83,
          68,
          68,
          58,
          59,
          87,
          85,
          64,
          61,
          62,
          45
         ],
         "yaxis": "y12"
        },
        {
         "line": {
          "width": 0
         },
         "marker": {
          "color": "#444"
         },
         "mode": "lines",
         "name": "$Counts \\mu-2\\sigma$",
         "showlegend": false,
         "type": "scatter",
         "x": [
          "2020-02-10 00:00:00",
          "2020-02-10 01:00:00",
          "2020-02-10 02:00:00",
          "2020-02-10 03:00:00",
          "2020-02-10 04:00:00",
          "2020-02-10 05:00:00",
          "2020-02-10 06:00:00",
          "2020-02-10 07:00:00",
          "2020-02-10 08:00:00",
          "2020-02-10 09:00:00",
          "2020-02-10 10:00:00",
          "2020-02-10 11:00:00",
          "2020-02-10 12:00:00",
          "2020-02-10 13:00:00",
          "2020-02-10 14:00:00",
          "2020-02-10 15:00:00",
          "2020-02-10 16:00:00",
          "2020-02-10 17:00:00",
          "2020-02-10 18:00:00",
          "2020-02-10 19:00:00",
          "2020-02-10 20:00:00",
          "2020-02-10 21:00:00",
          "2020-02-10 22:00:00",
          "2020-02-10 23:00:00"
         ],
         "xaxis": "x15",
         "y": [
          16.035345004458172,
          12.31959698691703,
          9.97848011550244,
          9.982472393975854,
          13.335726214846051,
          21.273847633009275,
          31.518151299760945,
          40.37655150808866,
          45.673835450417684,
          50.787208038471,
          52.117847978956945,
          56.1915667959444,
          60.55613918752576,
          57.26483684272795,
          49.53990566057263,
          45.63512456441245,
          46.02016189915204,
          46.90603334601773,
          53.560665556053934,
          56.60748833501923,
          49.842555750803655,
          43.90612633541714,
          38.370428748282265,
          27.753766197432125
         ],
         "yaxis": "y15"
        },
        {
         "fill": "tonexty",
         "fillcolor": "rgba(255,0,0,0.3)",
         "line": {
          "color": "rgb(255, 0, 0)"
         },
         "mode": "lines",
         "name": "Count predictions",
         "type": "scatter",
         "x": [
          "2020-02-10 00:00:00",
          "2020-02-10 01:00:00",
          "2020-02-10 02:00:00",
          "2020-02-10 03:00:00",
          "2020-02-10 04:00:00",
          "2020-02-10 05:00:00",
          "2020-02-10 06:00:00",
          "2020-02-10 07:00:00",
          "2020-02-10 08:00:00",
          "2020-02-10 09:00:00",
          "2020-02-10 10:00:00",
          "2020-02-10 11:00:00",
          "2020-02-10 12:00:00",
          "2020-02-10 13:00:00",
          "2020-02-10 14:00:00",
          "2020-02-10 15:00:00",
          "2020-02-10 16:00:00",
          "2020-02-10 17:00:00",
          "2020-02-10 18:00:00",
          "2020-02-10 19:00:00",
          "2020-02-10 20:00:00",
          "2020-02-10 21:00:00",
          "2020-02-10 22:00:00",
          "2020-02-10 23:00:00"
         ],
         "xaxis": "x15",
         "y": [
          30.506,
          24.075,
          19.98,
          20.012,
          24.644,
          34.725,
          47.222,
          58.745,
          65.519,
          69.649,
          73.809,
          79.608,
          82.354,
          78.64,
          72.33,
          65.705,
          64.056,
          67.973,
          74.37,
          76.914,
          73.396,
          64.692,
          55.449,
          47.018
         ],
         "yaxis": "y15"
        },
        {
         "fill": "tonexty",
         "fillcolor": "rgba(255,0,0,0.3)",
         "line": {
          "width": 0
         },
         "marker": {
          "color": "#444"
         },
         "mode": "lines",
         "name": "$Counts \\mu+2\\sigma$",
         "showlegend": false,
         "type": "scatter",
         "x": [
          "2020-02-10 00:00:00",
          "2020-02-10 01:00:00",
          "2020-02-10 02:00:00",
          "2020-02-10 03:00:00",
          "2020-02-10 04:00:00",
          "2020-02-10 05:00:00",
          "2020-02-10 06:00:00",
          "2020-02-10 07:00:00",
          "2020-02-10 08:00:00",
          "2020-02-10 09:00:00",
          "2020-02-10 10:00:00",
          "2020-02-10 11:00:00",
          "2020-02-10 12:00:00",
          "2020-02-10 13:00:00",
          "2020-02-10 14:00:00",
          "2020-02-10 15:00:00",
          "2020-02-10 16:00:00",
          "2020-02-10 17:00:00",
          "2020-02-10 18:00:00",
          "2020-02-10 19:00:00",
          "2020-02-10 20:00:00",
          "2020-02-10 21:00:00",
          "2020-02-10 22:00:00",
          "2020-02-10 23:00:00"
         ],
         "xaxis": "x15",
         "y": [
          44.97665499554183,
          35.83040301308297,
          29.98151988449756,
          30.041527606024147,
          35.95227378515395,
          48.17615236699073,
          62.92584870023906,
          77.11344849191133,
          85.36416454958233,
          88.51079196152901,
          95.50015202104305,
          103.02443320405561,
          104.15186081247424,
          100.01516315727204,
          95.12009433942737,
          85.77487543558755,
          82.09183810084795,
          89.03996665398228,
          95.17933444394608,
          97.22051166498078,
          96.94944424919635,
          85.47787366458284,
          72.52757125171773,
          66.28223380256787
         ],
         "yaxis": "y15"
        },
        {
         "line": {
          "width": 0
         },
         "marker": {
          "color": "#444"
         },
         "mode": "lines",
         "name": "$Intensity \\mu-2\\sigma$",
         "showlegend": false,
         "type": "scatter",
         "x": [
          "2020-02-10 00:00:00",
          "2020-02-10 01:00:00",
          "2020-02-10 02:00:00",
          "2020-02-10 03:00:00",
          "2020-02-10 04:00:00",
          "2020-02-10 05:00:00",
          "2020-02-10 06:00:00",
          "2020-02-10 07:00:00",
          "2020-02-10 08:00:00",
          "2020-02-10 09:00:00",
          "2020-02-10 10:00:00",
          "2020-02-10 11:00:00",
          "2020-02-10 12:00:00",
          "2020-02-10 13:00:00",
          "2020-02-10 14:00:00",
          "2020-02-10 15:00:00",
          "2020-02-10 16:00:00",
          "2020-02-10 17:00:00",
          "2020-02-10 18:00:00",
          "2020-02-10 19:00:00",
          "2020-02-10 20:00:00",
          "2020-02-10 21:00:00",
          "2020-02-10 22:00:00",
          "2020-02-10 23:00:00"
         ],
         "xaxis": "x15",
         "y": [
          21.31538859901749,
          18.290262525085595,
          15.500138487444007,
          15.537071621094494,
          19.611821046738385,
          27.949339132457414,
          39.188871060891124,
          48.84350374695455,
          53.573573208494466,
          59.8671418169142,
          62.58472737879408,
          64.46575287848029,
          70.20205438520951,
          64.35183281792023,
          55.25805452402322,
          53.534398791349226,
          54.96358260013824,
          55.43922679360955,
          62.601124686062754,
          66.18630144431984,
          57.24025128877443,
          50.51176044694828,
          46.71398259038451,
          32.65505080693748
         ],
         "yaxis": "y15"
        },
        {
         "fill": "tonexty",
         "fillcolor": "rgba(0,255,0,0.3)",
         "line": {
          "color": "rgb(0, 255, 0)"
         },
         "mode": "lines",
         "name": "Intensity predictions",
         "type": "scatter",
         "x": [
          "2020-02-10 00:00:00",
          "2020-02-10 01:00:00",
          "2020-02-10 02:00:00",
          "2020-02-10 03:00:00",
          "2020-02-10 04:00:00",
          "2020-02-10 05:00:00",
          "2020-02-10 06:00:00",
          "2020-02-10 07:00:00",
          "2020-02-10 08:00:00",
          "2020-02-10 09:00:00",
          "2020-02-10 10:00:00",
          "2020-02-10 11:00:00",
          "2020-02-10 12:00:00",
          "2020-02-10 13:00:00",
          "2020-02-10 14:00:00",
          "2020-02-10 15:00:00",
          "2020-02-10 16:00:00",
          "2020-02-10 17:00:00",
          "2020-02-10 18:00:00",
          "2020-02-10 19:00:00",
          "2020-02-10 20:00:00",
          "2020-02-10 21:00:00",
          "2020-02-10 22:00:00",
          "2020-02-10 23:00:00"
         ],
         "xaxis": "x15",
         "y": [
          30.54395545413017,
          23.97828959992548,
          20.149216934394676,
          20.227296466854977,
          24.943527290893286,
          34.78606138555845,
          47.42277894470913,
          58.654427282603656,
          65.6060068370372,
          69.62693384182096,
          74.56393075998956,
          79.81732725860768,
          81.83187527347077,
          78.20240507356928,
          71.25310712529284,
          65.37639200989742,
          64.1254953992554,
          68.35433292705866,
          74.25052759816424,
          76.91547241054866,
          73.22775537115918,
          64.99791646878087,
          55.311921234297195,
          47.218853485002874
         ],
         "yaxis": "y15"
        },
        {
         "fill": "tonexty",
         "fillcolor": "rgba(0,255,0,0.3)",
         "line": {
          "width": 0
         },
         "marker": {
          "color": "#444"
         },
         "mode": "lines",
         "name": "Intensity $\\mu+2\\sigma$",
         "showlegend": false,
         "type": "scatter",
         "x": [
          "2020-02-10 00:00:00",
          "2020-02-10 01:00:00",
          "2020-02-10 02:00:00",
          "2020-02-10 03:00:00",
          "2020-02-10 04:00:00",
          "2020-02-10 05:00:00",
          "2020-02-10 06:00:00",
          "2020-02-10 07:00:00",
          "2020-02-10 08:00:00",
          "2020-02-10 09:00:00",
          "2020-02-10 10:00:00",
          "2020-02-10 11:00:00",
          "2020-02-10 12:00:00",
          "2020-02-10 13:00:00",
          "2020-02-10 14:00:00",
          "2020-02-10 15:00:00",
          "2020-02-10 16:00:00",
          "2020-02-10 17:00:00",
          "2020-02-10 18:00:00",
          "2020-02-10 19:00:00",
          "2020-02-10 20:00:00",
          "2020-02-10 21:00:00",
          "2020-02-10 22:00:00",
          "2020-02-10 23:00:00"
         ],
         "xaxis": "x15",
         "y": [
          39.77252230924285,
          29.666316674765362,
          24.798295381345348,
          24.91752131261546,
          30.275233535048187,
          41.62278363865948,
          55.656686828527135,
          68.46535081825276,
          77.63844046557993,
          79.38672586672772,
          86.54313414118504,
          95.16890163873506,
          93.46169616173204,
          92.05297732921834,
          87.24815972656246,
          77.2183852284456,
          73.28740819837256,
          81.26943906050778,
          85.89993051026572,
          87.64464337677748,
          89.21525945354392,
          79.48407249061347,
          63.90985987820988,
          61.78265616306827
         ],
         "yaxis": "y15"
        },
        {
         "line": {
          "color": "#1f77b4"
         },
         "mode": "lines+markers",
         "name": "Actual counts",
         "type": "scatter",
         "x": [
          "2020-02-10 00:00:00",
          "2020-02-10 01:00:00",
          "2020-02-10 02:00:00",
          "2020-02-10 03:00:00",
          "2020-02-10 04:00:00",
          "2020-02-10 05:00:00",
          "2020-02-10 06:00:00",
          "2020-02-10 07:00:00",
          "2020-02-10 08:00:00",
          "2020-02-10 09:00:00",
          "2020-02-10 10:00:00",
          "2020-02-10 11:00:00",
          "2020-02-10 12:00:00",
          "2020-02-10 13:00:00",
          "2020-02-10 14:00:00",
          "2020-02-10 15:00:00",
          "2020-02-10 16:00:00",
          "2020-02-10 17:00:00",
          "2020-02-10 18:00:00",
          "2020-02-10 19:00:00",
          "2020-02-10 20:00:00",
          "2020-02-10 21:00:00",
          "2020-02-10 22:00:00",
          "2020-02-10 23:00:00"
         ],
         "xaxis": "x15",
         "y": [
          41,
          18,
          20,
          10,
          22,
          38,
          54,
          62,
          64,
          66,
          67,
          92,
          77,
          83,
          68,
          68,
          58,
          59,
          87,
          85,
          64,
          61,
          62,
          45
         ],
         "yaxis": "y15"
        },
        {
         "line": {
          "width": 0
         },
         "marker": {
          "color": "#444"
         },
         "mode": "lines",
         "name": "$Counts \\mu-2\\sigma$",
         "showlegend": false,
         "type": "scatter",
         "x": [
          "2020-02-10 00:00:00",
          "2020-02-10 01:00:00",
          "2020-02-10 02:00:00",
          "2020-02-10 03:00:00",
          "2020-02-10 04:00:00",
          "2020-02-10 05:00:00",
          "2020-02-10 06:00:00",
          "2020-02-10 07:00:00",
          "2020-02-10 08:00:00",
          "2020-02-10 09:00:00",
          "2020-02-10 10:00:00",
          "2020-02-10 11:00:00",
          "2020-02-10 12:00:00",
          "2020-02-10 13:00:00",
          "2020-02-10 14:00:00",
          "2020-02-10 15:00:00",
          "2020-02-10 16:00:00",
          "2020-02-10 17:00:00",
          "2020-02-10 18:00:00",
          "2020-02-10 19:00:00",
          "2020-02-10 20:00:00",
          "2020-02-10 21:00:00",
          "2020-02-10 22:00:00",
          "2020-02-10 23:00:00"
         ],
         "xaxis": "x18",
         "y": [
          15.892001833022185,
          13.080242088389506,
          9.63618204347872,
          9.858888867565714,
          13.42357389094907,
          21.256466713974,
          31.797259639253934,
          40.79769690151909,
          45.438111674935925,
          49.469601881770814,
          53.26733488810977,
          56.46522615489532,
          60.9061805303034,
          56.96067520089494,
          49.0734285172319,
          45.03765138996479,
          45.35414780448599,
          47.46314236060805,
          53.301748801284106,
          57.139797984539044,
          50.78904162392829,
          44.63688804108021,
          39.05255862838845,
          27.00342186622544
         ],
         "yaxis": "y18"
        },
        {
         "fill": "tonexty",
         "fillcolor": "rgba(255,0,0,0.3)",
         "line": {
          "color": "rgb(255, 0, 0)"
         },
         "mode": "lines",
         "name": "Count predictions",
         "type": "scatter",
         "x": [
          "2020-02-10 00:00:00",
          "2020-02-10 01:00:00",
          "2020-02-10 02:00:00",
          "2020-02-10 03:00:00",
          "2020-02-10 04:00:00",
          "2020-02-10 05:00:00",
          "2020-02-10 06:00:00",
          "2020-02-10 07:00:00",
          "2020-02-10 08:00:00",
          "2020-02-10 09:00:00",
          "2020-02-10 10:00:00",
          "2020-02-10 11:00:00",
          "2020-02-10 12:00:00",
          "2020-02-10 13:00:00",
          "2020-02-10 14:00:00",
          "2020-02-10 15:00:00",
          "2020-02-10 16:00:00",
          "2020-02-10 17:00:00",
          "2020-02-10 18:00:00",
          "2020-02-10 19:00:00",
          "2020-02-10 20:00:00",
          "2020-02-10 21:00:00",
          "2020-02-10 22:00:00",
          "2020-02-10 23:00:00"
         ],
         "xaxis": "x18",
         "y": [
          30.349,
          23.82,
          19.999,
          19.991,
          24.861,
          34.832,
          48.114,
          58.792,
          65.944,
          69.759,
          73.992,
          80.84,
          82.811,
          79.25,
          72.42,
          65.37,
          64.775,
          68.733,
          74.757,
          77.423,
          73.192,
          65.14,
          55.736,
          47.134
         ],
         "yaxis": "y18"
        },
        {
         "fill": "tonexty",
         "fillcolor": "rgba(255,0,0,0.3)",
         "line": {
          "width": 0
         },
         "marker": {
          "color": "#444"
         },
         "mode": "lines",
         "name": "$Counts \\mu+2\\sigma$",
         "showlegend": false,
         "type": "scatter",
         "x": [
          "2020-02-10 00:00:00",
          "2020-02-10 01:00:00",
          "2020-02-10 02:00:00",
          "2020-02-10 03:00:00",
          "2020-02-10 04:00:00",
          "2020-02-10 05:00:00",
          "2020-02-10 06:00:00",
          "2020-02-10 07:00:00",
          "2020-02-10 08:00:00",
          "2020-02-10 09:00:00",
          "2020-02-10 10:00:00",
          "2020-02-10 11:00:00",
          "2020-02-10 12:00:00",
          "2020-02-10 13:00:00",
          "2020-02-10 14:00:00",
          "2020-02-10 15:00:00",
          "2020-02-10 16:00:00",
          "2020-02-10 17:00:00",
          "2020-02-10 18:00:00",
          "2020-02-10 19:00:00",
          "2020-02-10 20:00:00",
          "2020-02-10 21:00:00",
          "2020-02-10 22:00:00",
          "2020-02-10 23:00:00"
         ],
         "xaxis": "x18",
         "y": [
          44.805998166977815,
          34.5597579116105,
          30.36181795652128,
          30.123111132434286,
          36.29842610905093,
          48.407533286026,
          64.43074036074606,
          76.78630309848091,
          86.44988832506408,
          90.04839811822919,
          94.71666511189024,
          105.21477384510469,
          104.71581946969661,
          101.53932479910506,
          95.7665714827681,
          85.70234861003522,
          84.19585219551402,
          90.00285763939195,
          96.2122511987159,
          97.70620201546096,
          95.5949583760717,
          85.64311195891979,
          72.41944137161155,
          67.26457813377456
         ],
         "yaxis": "y18"
        },
        {
         "line": {
          "width": 0
         },
         "marker": {
          "color": "#444"
         },
         "mode": "lines",
         "name": "$Intensity \\mu-2\\sigma$",
         "showlegend": false,
         "type": "scatter",
         "x": [
          "2020-02-10 00:00:00",
          "2020-02-10 01:00:00",
          "2020-02-10 02:00:00",
          "2020-02-10 03:00:00",
          "2020-02-10 04:00:00",
          "2020-02-10 05:00:00",
          "2020-02-10 06:00:00",
          "2020-02-10 07:00:00",
          "2020-02-10 08:00:00",
          "2020-02-10 09:00:00",
          "2020-02-10 10:00:00",
          "2020-02-10 11:00:00",
          "2020-02-10 12:00:00",
          "2020-02-10 13:00:00",
          "2020-02-10 14:00:00",
          "2020-02-10 15:00:00",
          "2020-02-10 16:00:00",
          "2020-02-10 17:00:00",
          "2020-02-10 18:00:00",
          "2020-02-10 19:00:00",
          "2020-02-10 20:00:00",
          "2020-02-10 21:00:00",
          "2020-02-10 22:00:00",
          "2020-02-10 23:00:00"
         ],
         "xaxis": "x18",
         "y": [
          21.49392602039407,
          17.96742594150322,
          15.419961653039973,
          15.681678950731234,
          19.615657641762866,
          27.601066300334097,
          39.37287070537652,
          48.98075480612472,
          53.43407125760355,
          60.1131777116922,
          62.704083978920394,
          65.5048632306677,
          71.3940686311037,
          64.97986348299058,
          55.865330733866585,
          54.21999956530148,
          54.93904310240137,
          55.39439897651439,
          63.10781491014881,
          66.89699499879934,
          57.692282152289735,
          51.01023901147943,
          47.076545573841,
          32.579018396370245
         ],
         "yaxis": "y18"
        },
        {
         "fill": "tonexty",
         "fillcolor": "rgba(0,255,0,0.3)",
         "line": {
          "color": "rgb(0, 255, 0)"
         },
         "mode": "lines",
         "name": "Intensity predictions",
         "type": "scatter",
         "x": [
          "2020-02-10 00:00:00",
          "2020-02-10 01:00:00",
          "2020-02-10 02:00:00",
          "2020-02-10 03:00:00",
          "2020-02-10 04:00:00",
          "2020-02-10 05:00:00",
          "2020-02-10 06:00:00",
          "2020-02-10 07:00:00",
          "2020-02-10 08:00:00",
          "2020-02-10 09:00:00",
          "2020-02-10 10:00:00",
          "2020-02-10 11:00:00",
          "2020-02-10 12:00:00",
          "2020-02-10 13:00:00",
          "2020-02-10 14:00:00",
          "2020-02-10 15:00:00",
          "2020-02-10 16:00:00",
          "2020-02-10 17:00:00",
          "2020-02-10 18:00:00",
          "2020-02-10 19:00:00",
          "2020-02-10 20:00:00",
          "2020-02-10 21:00:00",
          "2020-02-10 22:00:00",
          "2020-02-10 23:00:00"
         ],
         "xaxis": "x18",
         "y": [
          30.462875004387584,
          23.743075810986863,
          19.931059763643887,
          20.08608001278261,
          24.899576779265267,
          34.60908796840532,
          47.43251446164485,
          59.003930861002836,
          65.63120097480338,
          69.60858963751706,
          74.84507492700492,
          80.03037869228076,
          82.27627180233418,
          78.7660796077888,
          71.55472853651459,
          65.5595500954255,
          64.224050759403,
          68.6241214298235,
          74.74783565645268,
          77.47585634923324,
          73.355394078271,
          65.02487596354727,
          55.48592269571965,
          47.486903471730166
         ],
         "yaxis": "y18"
        },
        {
         "fill": "tonexty",
         "fillcolor": "rgba(0,255,0,0.3)",
         "line": {
          "width": 0
         },
         "marker": {
          "color": "#444"
         },
         "mode": "lines",
         "name": "Intensity $\\mu+2\\sigma$",
         "showlegend": false,
         "type": "scatter",
         "x": [
          "2020-02-10 00:00:00",
          "2020-02-10 01:00:00",
          "2020-02-10 02:00:00",
          "2020-02-10 03:00:00",
          "2020-02-10 04:00:00",
          "2020-02-10 05:00:00",
          "2020-02-10 06:00:00",
          "2020-02-10 07:00:00",
          "2020-02-10 08:00:00",
          "2020-02-10 09:00:00",
          "2020-02-10 10:00:00",
          "2020-02-10 11:00:00",
          "2020-02-10 12:00:00",
          "2020-02-10 13:00:00",
          "2020-02-10 14:00:00",
          "2020-02-10 15:00:00",
          "2020-02-10 16:00:00",
          "2020-02-10 17:00:00",
          "2020-02-10 18:00:00",
          "2020-02-10 19:00:00",
          "2020-02-10 20:00:00",
          "2020-02-10 21:00:00",
          "2020-02-10 22:00:00",
          "2020-02-10 23:00:00"
         ],
         "xaxis": "x18",
         "y": [
          39.4318239883811,
          29.518725680470506,
          24.4421578742478,
          24.490481074833987,
          30.18349591676767,
          41.61710963647654,
          55.49215821791318,
          69.02710691588095,
          77.8283306920032,
          79.10400156334191,
          86.98606587508944,
          94.55589415389383,
          93.15847497356465,
          92.55229573258701,
          87.24412633916259,
          76.89910062554951,
          73.50905841640463,
          81.85384388313263,
          86.38785640275655,
          88.05471769966714,
          89.01850600425227,
          79.03951291561512,
          63.8952998175983,
          62.39478854709009
         ],
         "yaxis": "y18"
        },
        {
         "line": {
          "color": "#1f77b4"
         },
         "mode": "lines+markers",
         "name": "Actual counts",
         "type": "scatter",
         "x": [
          "2020-02-10 00:00:00",
          "2020-02-10 01:00:00",
          "2020-02-10 02:00:00",
          "2020-02-10 03:00:00",
          "2020-02-10 04:00:00",
          "2020-02-10 05:00:00",
          "2020-02-10 06:00:00",
          "2020-02-10 07:00:00",
          "2020-02-10 08:00:00",
          "2020-02-10 09:00:00",
          "2020-02-10 10:00:00",
          "2020-02-10 11:00:00",
          "2020-02-10 12:00:00",
          "2020-02-10 13:00:00",
          "2020-02-10 14:00:00",
          "2020-02-10 15:00:00",
          "2020-02-10 16:00:00",
          "2020-02-10 17:00:00",
          "2020-02-10 18:00:00",
          "2020-02-10 19:00:00",
          "2020-02-10 20:00:00",
          "2020-02-10 21:00:00",
          "2020-02-10 22:00:00",
          "2020-02-10 23:00:00"
         ],
         "xaxis": "x18",
         "y": [
          41,
          18,
          20,
          10,
          22,
          38,
          54,
          62,
          64,
          66,
          67,
          92,
          77,
          83,
          68,
          68,
          58,
          59,
          87,
          85,
          64,
          61,
          62,
          45
         ],
         "yaxis": "y18"
        },
        {
         "line": {
          "width": 0
         },
         "marker": {
          "color": "#444"
         },
         "mode": "lines",
         "name": "$Counts \\mu-2\\sigma$",
         "showlegend": false,
         "type": "scatter",
         "x": [
          "2020-02-10 00:00:00",
          "2020-02-10 01:00:00",
          "2020-02-10 02:00:00",
          "2020-02-10 03:00:00",
          "2020-02-10 04:00:00",
          "2020-02-10 05:00:00",
          "2020-02-10 06:00:00",
          "2020-02-10 07:00:00",
          "2020-02-10 08:00:00",
          "2020-02-10 09:00:00",
          "2020-02-10 10:00:00",
          "2020-02-10 11:00:00",
          "2020-02-10 12:00:00",
          "2020-02-10 13:00:00",
          "2020-02-10 14:00:00",
          "2020-02-10 15:00:00",
          "2020-02-10 16:00:00",
          "2020-02-10 17:00:00",
          "2020-02-10 18:00:00",
          "2020-02-10 19:00:00",
          "2020-02-10 20:00:00",
          "2020-02-10 21:00:00",
          "2020-02-10 22:00:00",
          "2020-02-10 23:00:00"
         ],
         "xaxis": "x21",
         "y": [
          15.979533657409801,
          12.685297068388536,
          10.375582882210661,
          9.988682338888244,
          13.425592595004803,
          20.7881524548734,
          30.759010336164238,
          40.608629164705576,
          45.859598929136425,
          50.32282112151063,
          53.7509300319741,
          55.975897263342446,
          61.43709426739363,
          57.020912717688304,
          48.96905279991748,
          45.00875945545657,
          46.45399107848898,
          47.55612548281432,
          54.13034183143327,
          55.83546355614004,
          48.89470277541734,
          43.14145628815949,
          38.44693285777599,
          27.055038202894522
         ],
         "yaxis": "y21"
        },
        {
         "fill": "tonexty",
         "fillcolor": "rgba(255,0,0,0.3)",
         "line": {
          "color": "rgb(255, 0, 0)"
         },
         "mode": "lines",
         "name": "Count predictions",
         "type": "scatter",
         "x": [
          "2020-02-10 00:00:00",
          "2020-02-10 01:00:00",
          "2020-02-10 02:00:00",
          "2020-02-10 03:00:00",
          "2020-02-10 04:00:00",
          "2020-02-10 05:00:00",
          "2020-02-10 06:00:00",
          "2020-02-10 07:00:00",
          "2020-02-10 08:00:00",
          "2020-02-10 09:00:00",
          "2020-02-10 10:00:00",
          "2020-02-10 11:00:00",
          "2020-02-10 12:00:00",
          "2020-02-10 13:00:00",
          "2020-02-10 14:00:00",
          "2020-02-10 15:00:00",
          "2020-02-10 16:00:00",
          "2020-02-10 17:00:00",
          "2020-02-10 18:00:00",
          "2020-02-10 19:00:00",
          "2020-02-10 20:00:00",
          "2020-02-10 21:00:00",
          "2020-02-10 22:00:00",
          "2020-02-10 23:00:00"
         ],
         "xaxis": "x21",
         "y": [
          30.304,
          24.063,
          20.343,
          20.212,
          24.799,
          34.602,
          46.674,
          58.664,
          65.582,
          69.811,
          74.782,
          80.018,
          82.404,
          78.629,
          70.863,
          64.789,
          64.164,
          68.802,
          73.906,
          76.933,
          72.547,
          65.032,
          55.545,
          47.276
         ],
         "yaxis": "y21"
        },
        {
         "fill": "tonexty",
         "fillcolor": "rgba(255,0,0,0.3)",
         "line": {
          "width": 0
         },
         "marker": {
          "color": "#444"
         },
         "mode": "lines",
         "name": "$Counts \\mu+2\\sigma$",
         "showlegend": false,
         "type": "scatter",
         "x": [
          "2020-02-10 00:00:00",
          "2020-02-10 01:00:00",
          "2020-02-10 02:00:00",
          "2020-02-10 03:00:00",
          "2020-02-10 04:00:00",
          "2020-02-10 05:00:00",
          "2020-02-10 06:00:00",
          "2020-02-10 07:00:00",
          "2020-02-10 08:00:00",
          "2020-02-10 09:00:00",
          "2020-02-10 10:00:00",
          "2020-02-10 11:00:00",
          "2020-02-10 12:00:00",
          "2020-02-10 13:00:00",
          "2020-02-10 14:00:00",
          "2020-02-10 15:00:00",
          "2020-02-10 16:00:00",
          "2020-02-10 17:00:00",
          "2020-02-10 18:00:00",
          "2020-02-10 19:00:00",
          "2020-02-10 20:00:00",
          "2020-02-10 21:00:00",
          "2020-02-10 22:00:00",
          "2020-02-10 23:00:00"
         ],
         "xaxis": "x21",
         "y": [
          44.628466342590194,
          35.44070293161146,
          30.31041711778934,
          30.435317661111753,
          36.1724074049952,
          48.415847545126596,
          62.58898966383576,
          76.71937083529443,
          85.30440107086356,
          89.29917887848939,
          95.8130699680259,
          104.06010273665756,
          103.37090573260636,
          100.2370872823117,
          92.75694720008252,
          84.56924054454343,
          81.87400892151102,
          90.04787451718569,
          93.68165816856674,
          98.03053644385997,
          96.19929722458265,
          86.9225437118405,
          72.64306714222401,
          67.49696179710548
         ],
         "yaxis": "y21"
        },
        {
         "line": {
          "width": 0
         },
         "marker": {
          "color": "#444"
         },
         "mode": "lines",
         "name": "$Intensity \\mu-2\\sigma$",
         "showlegend": false,
         "type": "scatter",
         "x": [
          "2020-02-10 00:00:00",
          "2020-02-10 01:00:00",
          "2020-02-10 02:00:00",
          "2020-02-10 03:00:00",
          "2020-02-10 04:00:00",
          "2020-02-10 05:00:00",
          "2020-02-10 06:00:00",
          "2020-02-10 07:00:00",
          "2020-02-10 08:00:00",
          "2020-02-10 09:00:00",
          "2020-02-10 10:00:00",
          "2020-02-10 11:00:00",
          "2020-02-10 12:00:00",
          "2020-02-10 13:00:00",
          "2020-02-10 14:00:00",
          "2020-02-10 15:00:00",
          "2020-02-10 16:00:00",
          "2020-02-10 17:00:00",
          "2020-02-10 18:00:00",
          "2020-02-10 19:00:00",
          "2020-02-10 20:00:00",
          "2020-02-10 21:00:00",
          "2020-02-10 22:00:00",
          "2020-02-10 23:00:00"
         ],
         "xaxis": "x21",
         "y": [
          21.472897570777285,
          18.406880772008797,
          15.750973643607706,
          15.74992299388796,
          19.80695251080477,
          27.838765646435604,
          38.67066819124867,
          48.71751611592357,
          53.6929012887368,
          59.72820691168588,
          62.26826026617528,
          65.03684466498471,
          71.20556687720119,
          65.61943440956598,
          56.60784225986968,
          54.21420153918737,
          54.42970232405958,
          55.677723849509384,
          62.829808778567994,
          66.06021293804605,
          57.29497030005702,
          51.14922053144307,
          47.26889529855499,
          32.88974083898667
         ],
         "yaxis": "y21"
        },
        {
         "fill": "tonexty",
         "fillcolor": "rgba(0,255,0,0.3)",
         "line": {
          "color": "rgb(0, 255, 0)"
         },
         "mode": "lines",
         "name": "Intensity predictions",
         "type": "scatter",
         "x": [
          "2020-02-10 00:00:00",
          "2020-02-10 01:00:00",
          "2020-02-10 02:00:00",
          "2020-02-10 03:00:00",
          "2020-02-10 04:00:00",
          "2020-02-10 05:00:00",
          "2020-02-10 06:00:00",
          "2020-02-10 07:00:00",
          "2020-02-10 08:00:00",
          "2020-02-10 09:00:00",
          "2020-02-10 10:00:00",
          "2020-02-10 11:00:00",
          "2020-02-10 12:00:00",
          "2020-02-10 13:00:00",
          "2020-02-10 14:00:00",
          "2020-02-10 15:00:00",
          "2020-02-10 16:00:00",
          "2020-02-10 17:00:00",
          "2020-02-10 18:00:00",
          "2020-02-10 19:00:00",
          "2020-02-10 20:00:00",
          "2020-02-10 21:00:00",
          "2020-02-10 22:00:00",
          "2020-02-10 23:00:00"
         ],
         "xaxis": "x21",
         "y": [
          30.660310225234394,
          24.04818098720322,
          20.14750694978224,
          20.180573053542325,
          24.92583633354279,
          34.58676850122859,
          47.05855086761624,
          58.56595961447871,
          65.57978183931293,
          69.60428493737717,
          74.4174007706712,
          79.8060824502704,
          81.93693163286416,
          78.47091480826985,
          71.45739507606808,
          65.1812545279097,
          63.778383723384785,
          68.37295685426157,
          74.57754154357754,
          77.03515108568156,
          73.08481730287679,
          64.913643939243,
          55.51864277885538,
          47.55847807265818
         ],
         "yaxis": "y21"
        },
        {
         "fill": "tonexty",
         "fillcolor": "rgba(0,255,0,0.3)",
         "line": {
          "width": 0
         },
         "marker": {
          "color": "#444"
         },
         "mode": "lines",
         "name": "Intensity $\\mu+2\\sigma$",
         "showlegend": false,
         "type": "scatter",
         "x": [
          "2020-02-10 00:00:00",
          "2020-02-10 01:00:00",
          "2020-02-10 02:00:00",
          "2020-02-10 03:00:00",
          "2020-02-10 04:00:00",
          "2020-02-10 05:00:00",
          "2020-02-10 06:00:00",
          "2020-02-10 07:00:00",
          "2020-02-10 08:00:00",
          "2020-02-10 09:00:00",
          "2020-02-10 10:00:00",
          "2020-02-10 11:00:00",
          "2020-02-10 12:00:00",
          "2020-02-10 13:00:00",
          "2020-02-10 14:00:00",
          "2020-02-10 15:00:00",
          "2020-02-10 16:00:00",
          "2020-02-10 17:00:00",
          "2020-02-10 18:00:00",
          "2020-02-10 19:00:00",
          "2020-02-10 20:00:00",
          "2020-02-10 21:00:00",
          "2020-02-10 22:00:00",
          "2020-02-10 23:00:00"
         ],
         "xaxis": "x21",
         "y": [
          39.8477228796915,
          29.689481202397644,
          24.544040255956773,
          24.61122311319669,
          30.04472015628081,
          41.33477135602158,
          55.44643354398381,
          68.41440311303384,
          77.46666238988905,
          79.48036296306846,
          86.5665412751671,
          94.57532023555608,
          92.66829638852712,
          91.32239520697372,
          86.30694789226648,
          76.14830751663203,
          73.12706512270998,
          81.06818985901376,
          86.32527430858708,
          88.01008923331707,
          88.87466430569656,
          78.67806734704294,
          63.76839025915577,
          62.2272153063297
         ],
         "yaxis": "y21"
        },
        {
         "line": {
          "color": "#1f77b4"
         },
         "mode": "lines+markers",
         "name": "Actual counts",
         "type": "scatter",
         "x": [
          "2020-02-10 00:00:00",
          "2020-02-10 01:00:00",
          "2020-02-10 02:00:00",
          "2020-02-10 03:00:00",
          "2020-02-10 04:00:00",
          "2020-02-10 05:00:00",
          "2020-02-10 06:00:00",
          "2020-02-10 07:00:00",
          "2020-02-10 08:00:00",
          "2020-02-10 09:00:00",
          "2020-02-10 10:00:00",
          "2020-02-10 11:00:00",
          "2020-02-10 12:00:00",
          "2020-02-10 13:00:00",
          "2020-02-10 14:00:00",
          "2020-02-10 15:00:00",
          "2020-02-10 16:00:00",
          "2020-02-10 17:00:00",
          "2020-02-10 18:00:00",
          "2020-02-10 19:00:00",
          "2020-02-10 20:00:00",
          "2020-02-10 21:00:00",
          "2020-02-10 22:00:00",
          "2020-02-10 23:00:00"
         ],
         "xaxis": "x21",
         "y": [
          41,
          18,
          20,
          10,
          22,
          38,
          54,
          62,
          64,
          66,
          67,
          92,
          77,
          83,
          68,
          68,
          58,
          59,
          87,
          85,
          64,
          61,
          62,
          45
         ],
         "yaxis": "y21"
        },
        {
         "line": {
          "width": 0
         },
         "marker": {
          "color": "#444"
         },
         "mode": "lines",
         "name": "$Counts \\mu-2\\sigma$",
         "showlegend": false,
         "type": "scatter",
         "x": [
          "2020-02-10 00:00:00",
          "2020-02-10 01:00:00",
          "2020-02-10 02:00:00",
          "2020-02-10 03:00:00",
          "2020-02-10 04:00:00",
          "2020-02-10 05:00:00",
          "2020-02-10 06:00:00",
          "2020-02-10 07:00:00",
          "2020-02-10 08:00:00",
          "2020-02-10 09:00:00",
          "2020-02-10 10:00:00",
          "2020-02-10 11:00:00",
          "2020-02-10 12:00:00",
          "2020-02-10 13:00:00",
          "2020-02-10 14:00:00",
          "2020-02-10 15:00:00",
          "2020-02-10 16:00:00",
          "2020-02-10 17:00:00",
          "2020-02-10 18:00:00",
          "2020-02-10 19:00:00",
          "2020-02-10 20:00:00",
          "2020-02-10 21:00:00",
          "2020-02-10 22:00:00",
          "2020-02-10 23:00:00"
         ],
         "xaxis": "x24",
         "y": [
          16.828151327742116,
          13.258275315009485,
          9.768708845748543,
          10.285379494564943,
          14.044072560595826,
          20.878347744243413,
          31.3085128247887,
          41.02554567952646,
          45.135729266268015,
          50.24333496751882,
          54.08010968662508,
          56.78387002783943,
          60.82685524539087,
          55.79421408929635,
          48.45609385834341,
          45.50159938074535,
          45.64185081297225,
          47.18714531490545,
          54.1538872096105,
          55.605222154400636,
          49.725766386008544,
          43.07744013423814,
          37.9390454804292,
          27.283296783785833
         ],
         "yaxis": "y24"
        },
        {
         "fill": "tonexty",
         "fillcolor": "rgba(255,0,0,0.3)",
         "line": {
          "color": "rgb(255, 0, 0)"
         },
         "mode": "lines",
         "name": "Count predictions",
         "type": "scatter",
         "x": [
          "2020-02-10 00:00:00",
          "2020-02-10 01:00:00",
          "2020-02-10 02:00:00",
          "2020-02-10 03:00:00",
          "2020-02-10 04:00:00",
          "2020-02-10 05:00:00",
          "2020-02-10 06:00:00",
          "2020-02-10 07:00:00",
          "2020-02-10 08:00:00",
          "2020-02-10 09:00:00",
          "2020-02-10 10:00:00",
          "2020-02-10 11:00:00",
          "2020-02-10 12:00:00",
          "2020-02-10 13:00:00",
          "2020-02-10 14:00:00",
          "2020-02-10 15:00:00",
          "2020-02-10 16:00:00",
          "2020-02-10 17:00:00",
          "2020-02-10 18:00:00",
          "2020-02-10 19:00:00",
          "2020-02-10 20:00:00",
          "2020-02-10 21:00:00",
          "2020-02-10 22:00:00",
          "2020-02-10 23:00:00"
         ],
         "xaxis": "x24",
         "y": [
          30.996,
          24.251,
          20.016,
          20.035,
          24.773,
          34.217,
          47.069,
          59.264,
          65.584,
          69.451,
          74.707,
          79.358,
          81.714,
          78.224,
          71.283,
          65.235,
          64.045,
          68.465,
          74.794,
          77.358,
          73.62,
          64.657,
          55.54,
          46.671
         ],
         "yaxis": "y24"
        },
        {
         "fill": "tonexty",
         "fillcolor": "rgba(255,0,0,0.3)",
         "line": {
          "width": 0
         },
         "marker": {
          "color": "#444"
         },
         "mode": "lines",
         "name": "$Counts \\mu+2\\sigma$",
         "showlegend": false,
         "type": "scatter",
         "x": [
          "2020-02-10 00:00:00",
          "2020-02-10 01:00:00",
          "2020-02-10 02:00:00",
          "2020-02-10 03:00:00",
          "2020-02-10 04:00:00",
          "2020-02-10 05:00:00",
          "2020-02-10 06:00:00",
          "2020-02-10 07:00:00",
          "2020-02-10 08:00:00",
          "2020-02-10 09:00:00",
          "2020-02-10 10:00:00",
          "2020-02-10 11:00:00",
          "2020-02-10 12:00:00",
          "2020-02-10 13:00:00",
          "2020-02-10 14:00:00",
          "2020-02-10 15:00:00",
          "2020-02-10 16:00:00",
          "2020-02-10 17:00:00",
          "2020-02-10 18:00:00",
          "2020-02-10 19:00:00",
          "2020-02-10 20:00:00",
          "2020-02-10 21:00:00",
          "2020-02-10 22:00:00",
          "2020-02-10 23:00:00"
         ],
         "xaxis": "x24",
         "y": [
          45.163848672257885,
          35.24372468499052,
          30.263291154251455,
          29.784620505435058,
          35.50192743940417,
          47.555652255756584,
          62.829487175211305,
          77.50245432047355,
          86.03227073373199,
          88.65866503248117,
          95.33389031337491,
          101.93212997216058,
          102.60114475460912,
          100.65378591070366,
          94.1099061416566,
          84.96840061925465,
          82.44814918702775,
          89.74285468509456,
          95.43411279038949,
          99.11077784559937,
          97.51423361399146,
          86.23655986576185,
          73.1409545195708,
          66.05870321621417
         ],
         "yaxis": "y24"
        },
        {
         "line": {
          "width": 0
         },
         "marker": {
          "color": "#444"
         },
         "mode": "lines",
         "name": "$Intensity \\mu-2\\sigma$",
         "showlegend": false,
         "type": "scatter",
         "x": [
          "2020-02-10 00:00:00",
          "2020-02-10 01:00:00",
          "2020-02-10 02:00:00",
          "2020-02-10 03:00:00",
          "2020-02-10 04:00:00",
          "2020-02-10 05:00:00",
          "2020-02-10 06:00:00",
          "2020-02-10 07:00:00",
          "2020-02-10 08:00:00",
          "2020-02-10 09:00:00",
          "2020-02-10 10:00:00",
          "2020-02-10 11:00:00",
          "2020-02-10 12:00:00",
          "2020-02-10 13:00:00",
          "2020-02-10 14:00:00",
          "2020-02-10 15:00:00",
          "2020-02-10 16:00:00",
          "2020-02-10 17:00:00",
          "2020-02-10 18:00:00",
          "2020-02-10 19:00:00",
          "2020-02-10 20:00:00",
          "2020-02-10 21:00:00",
          "2020-02-10 22:00:00",
          "2020-02-10 23:00:00"
         ],
         "xaxis": "x24",
         "y": [
          21.402654670243724,
          18.3228250506892,
          15.400221666250069,
          15.461584376404092,
          19.69182996945716,
          27.963609313170643,
          39.215425176535334,
          48.95184126834236,
          53.67778908080565,
          59.61802729860837,
          61.70067153223697,
          64.82245779051942,
          71.2340252507549,
          65.26651555731655,
          56.097225044418835,
          53.80031551751699,
          54.595162419839156,
          55.224705669642546,
          62.77125778915948,
          66.44095528536032,
          57.64450556948856,
          51.058607017712724,
          46.763762656372975,
          32.504682936360325
         ],
         "yaxis": "y24"
        },
        {
         "fill": "tonexty",
         "fillcolor": "rgba(0,255,0,0.3)",
         "line": {
          "color": "rgb(0, 255, 0)"
         },
         "mode": "lines",
         "name": "Intensity predictions",
         "type": "scatter",
         "x": [
          "2020-02-10 00:00:00",
          "2020-02-10 01:00:00",
          "2020-02-10 02:00:00",
          "2020-02-10 03:00:00",
          "2020-02-10 04:00:00",
          "2020-02-10 05:00:00",
          "2020-02-10 06:00:00",
          "2020-02-10 07:00:00",
          "2020-02-10 08:00:00",
          "2020-02-10 09:00:00",
          "2020-02-10 10:00:00",
          "2020-02-10 11:00:00",
          "2020-02-10 12:00:00",
          "2020-02-10 13:00:00",
          "2020-02-10 14:00:00",
          "2020-02-10 15:00:00",
          "2020-02-10 16:00:00",
          "2020-02-10 17:00:00",
          "2020-02-10 18:00:00",
          "2020-02-10 19:00:00",
          "2020-02-10 20:00:00",
          "2020-02-10 21:00:00",
          "2020-02-10 22:00:00",
          "2020-02-10 23:00:00"
         ],
         "xaxis": "x24",
         "y": [
          30.7029966049407,
          23.956031885606922,
          20.049453061645828,
          20.152569609204612,
          24.897009018143738,
          34.56468022706429,
          47.19943434630865,
          58.559455240714406,
          65.29871816327608,
          69.42555610964622,
          74.43252514078372,
          79.58869011255818,
          81.86796458520016,
          78.11527525658171,
          70.95598686319468,
          64.88627239513296,
          63.596101602104014,
          68.21157510080195,
          74.53367793104228,
          77.08822423677636,
          73.18601584554645,
          64.86795720410429,
          55.29592395733327,
          47.34101093281999
         ],
         "yaxis": "y24"
        },
        {
         "fill": "tonexty",
         "fillcolor": "rgba(0,255,0,0.3)",
         "line": {
          "width": 0
         },
         "marker": {
          "color": "#444"
         },
         "mode": "lines",
         "name": "Intensity $\\mu+2\\sigma$",
         "showlegend": false,
         "type": "scatter",
         "x": [
          "2020-02-10 00:00:00",
          "2020-02-10 01:00:00",
          "2020-02-10 02:00:00",
          "2020-02-10 03:00:00",
          "2020-02-10 04:00:00",
          "2020-02-10 05:00:00",
          "2020-02-10 06:00:00",
          "2020-02-10 07:00:00",
          "2020-02-10 08:00:00",
          "2020-02-10 09:00:00",
          "2020-02-10 10:00:00",
          "2020-02-10 11:00:00",
          "2020-02-10 12:00:00",
          "2020-02-10 13:00:00",
          "2020-02-10 14:00:00",
          "2020-02-10 15:00:00",
          "2020-02-10 16:00:00",
          "2020-02-10 17:00:00",
          "2020-02-10 18:00:00",
          "2020-02-10 19:00:00",
          "2020-02-10 20:00:00",
          "2020-02-10 21:00:00",
          "2020-02-10 22:00:00",
          "2020-02-10 23:00:00"
         ],
         "xaxis": "x24",
         "y": [
          40.00333853963768,
          29.589238720524644,
          24.698684457041587,
          24.843554842005133,
          30.102188066830315,
          41.16575114095793,
          55.183443516081965,
          68.16706921308645,
          76.9196472457465,
          79.23308492068408,
          87.16437874933048,
          94.35492243459694,
          92.50190391964541,
          90.96403495584687,
          85.81474868197053,
          75.97222927274893,
          72.59704078436887,
          81.19844453196136,
          86.29609807292508,
          87.7354931881924,
          88.72752612160434,
          78.67730739049584,
          63.82808525829357,
          62.17733892927966
         ],
         "yaxis": "y24"
        },
        {
         "line": {
          "color": "#1f77b4"
         },
         "mode": "lines+markers",
         "name": "Actual counts",
         "type": "scatter",
         "x": [
          "2020-02-10 00:00:00",
          "2020-02-10 01:00:00",
          "2020-02-10 02:00:00",
          "2020-02-10 03:00:00",
          "2020-02-10 04:00:00",
          "2020-02-10 05:00:00",
          "2020-02-10 06:00:00",
          "2020-02-10 07:00:00",
          "2020-02-10 08:00:00",
          "2020-02-10 09:00:00",
          "2020-02-10 10:00:00",
          "2020-02-10 11:00:00",
          "2020-02-10 12:00:00",
          "2020-02-10 13:00:00",
          "2020-02-10 14:00:00",
          "2020-02-10 15:00:00",
          "2020-02-10 16:00:00",
          "2020-02-10 17:00:00",
          "2020-02-10 18:00:00",
          "2020-02-10 19:00:00",
          "2020-02-10 20:00:00",
          "2020-02-10 21:00:00",
          "2020-02-10 22:00:00",
          "2020-02-10 23:00:00"
         ],
         "xaxis": "x24",
         "y": [
          41,
          18,
          20,
          10,
          22,
          38,
          54,
          62,
          64,
          66,
          67,
          92,
          77,
          83,
          68,
          68,
          58,
          59,
          87,
          85,
          64,
          61,
          62,
          45
         ],
         "yaxis": "y24"
        }
       ],
       "layout": {
        "annotations": [
         {
          "font": {
           "size": 16
          },
          "showarrow": false,
          "text": "N00/002e1 with rbf_ls=0.1_v=0.1 kernel",
          "x": 0.14444444444444446,
          "xanchor": "center",
          "xref": "paper",
          "y": 1,
          "yanchor": "bottom",
          "yref": "paper"
         },
         {
          "font": {
           "size": 16
          },
          "showarrow": false,
          "text": "N00/002g1 with rbf_ls=0.1_v=0.1 kernel",
          "x": 0.5,
          "xanchor": "center",
          "xref": "paper",
          "y": 1,
          "yanchor": "bottom",
          "yref": "paper"
         },
         {
          "font": {
           "size": 16
          },
          "showarrow": false,
          "text": "N13/016a1 with rbf_ls=0.1_v=0.1 kernel",
          "x": 0.8555555555555556,
          "xanchor": "center",
          "xref": "paper",
          "y": 1,
          "yanchor": "bottom",
          "yref": "paper"
         },
         {
          "font": {
           "size": 16
          },
          "showarrow": false,
          "text": "N00/002e1 with rbf_ls=0.1_v=1 kernel",
          "x": 0.14444444444444446,
          "xanchor": "center",
          "xref": "paper",
          "y": 0.8671875,
          "yanchor": "bottom",
          "yref": "paper"
         },
         {
          "font": {
           "size": 16
          },
          "showarrow": false,
          "text": "N00/002g1 with rbf_ls=0.1_v=1 kernel",
          "x": 0.5,
          "xanchor": "center",
          "xref": "paper",
          "y": 0.8671875,
          "yanchor": "bottom",
          "yref": "paper"
         },
         {
          "font": {
           "size": 16
          },
          "showarrow": false,
          "text": "N13/016a1 with rbf_ls=0.1_v=1 kernel",
          "x": 0.8555555555555556,
          "xanchor": "center",
          "xref": "paper",
          "y": 0.8671875,
          "yanchor": "bottom",
          "yref": "paper"
         },
         {
          "font": {
           "size": 16
          },
          "showarrow": false,
          "text": "N00/002e1 with rbf_ls=1_v=0.1 kernel",
          "x": 0.14444444444444446,
          "xanchor": "center",
          "xref": "paper",
          "y": 0.734375,
          "yanchor": "bottom",
          "yref": "paper"
         },
         {
          "font": {
           "size": 16
          },
          "showarrow": false,
          "text": "N00/002g1 with rbf_ls=1_v=0.1 kernel",
          "x": 0.5,
          "xanchor": "center",
          "xref": "paper",
          "y": 0.734375,
          "yanchor": "bottom",
          "yref": "paper"
         },
         {
          "font": {
           "size": 16
          },
          "showarrow": false,
          "text": "N13/016a1 with rbf_ls=1_v=0.1 kernel",
          "x": 0.8555555555555556,
          "xanchor": "center",
          "xref": "paper",
          "y": 0.734375,
          "yanchor": "bottom",
          "yref": "paper"
         },
         {
          "font": {
           "size": 16
          },
          "showarrow": false,
          "text": "N00/002e1 with rbf_ls=1_v=1 kernel",
          "x": 0.14444444444444446,
          "xanchor": "center",
          "xref": "paper",
          "y": 0.6015625,
          "yanchor": "bottom",
          "yref": "paper"
         },
         {
          "font": {
           "size": 16
          },
          "showarrow": false,
          "text": "N00/002g1 with rbf_ls=1_v=1 kernel",
          "x": 0.5,
          "xanchor": "center",
          "xref": "paper",
          "y": 0.6015625,
          "yanchor": "bottom",
          "yref": "paper"
         },
         {
          "font": {
           "size": 16
          },
          "showarrow": false,
          "text": "N13/016a1 with rbf_ls=1_v=1 kernel",
          "x": 0.8555555555555556,
          "xanchor": "center",
          "xref": "paper",
          "y": 0.6015625,
          "yanchor": "bottom",
          "yref": "paper"
         },
         {
          "font": {
           "size": 16
          },
          "showarrow": false,
          "text": "N00/002e1 with matern32_ls=0.1_v=0.1 kernel",
          "x": 0.14444444444444446,
          "xanchor": "center",
          "xref": "paper",
          "y": 0.46875,
          "yanchor": "bottom",
          "yref": "paper"
         },
         {
          "font": {
           "size": 16
          },
          "showarrow": false,
          "text": "N00/002g1 with matern32_ls=0.1_v=0.1 kernel",
          "x": 0.5,
          "xanchor": "center",
          "xref": "paper",
          "y": 0.46875,
          "yanchor": "bottom",
          "yref": "paper"
         },
         {
          "font": {
           "size": 16
          },
          "showarrow": false,
          "text": "N13/016a1 with matern32_ls=0.1_v=0.1 kernel",
          "x": 0.8555555555555556,
          "xanchor": "center",
          "xref": "paper",
          "y": 0.46875,
          "yanchor": "bottom",
          "yref": "paper"
         },
         {
          "font": {
           "size": 16
          },
          "showarrow": false,
          "text": "N00/002e1 with matern32_ls=0.1_v=1 kernel",
          "x": 0.14444444444444446,
          "xanchor": "center",
          "xref": "paper",
          "y": 0.3359375,
          "yanchor": "bottom",
          "yref": "paper"
         },
         {
          "font": {
           "size": 16
          },
          "showarrow": false,
          "text": "N00/002g1 with matern32_ls=0.1_v=1 kernel",
          "x": 0.5,
          "xanchor": "center",
          "xref": "paper",
          "y": 0.3359375,
          "yanchor": "bottom",
          "yref": "paper"
         },
         {
          "font": {
           "size": 16
          },
          "showarrow": false,
          "text": "N13/016a1 with matern32_ls=0.1_v=1 kernel",
          "x": 0.8555555555555556,
          "xanchor": "center",
          "xref": "paper",
          "y": 0.3359375,
          "yanchor": "bottom",
          "yref": "paper"
         },
         {
          "font": {
           "size": 16
          },
          "showarrow": false,
          "text": "N00/002e1 with matern32_ls=1_v=0.1 kernel",
          "x": 0.14444444444444446,
          "xanchor": "center",
          "xref": "paper",
          "y": 0.203125,
          "yanchor": "bottom",
          "yref": "paper"
         },
         {
          "font": {
           "size": 16
          },
          "showarrow": false,
          "text": "N00/002g1 with matern32_ls=1_v=0.1 kernel",
          "x": 0.5,
          "xanchor": "center",
          "xref": "paper",
          "y": 0.203125,
          "yanchor": "bottom",
          "yref": "paper"
         },
         {
          "font": {
           "size": 16
          },
          "showarrow": false,
          "text": "N13/016a1 with matern32_ls=1_v=0.1 kernel",
          "x": 0.8555555555555556,
          "xanchor": "center",
          "xref": "paper",
          "y": 0.203125,
          "yanchor": "bottom",
          "yref": "paper"
         },
         {
          "font": {
           "size": 16
          },
          "showarrow": false,
          "text": "N00/002e1 with matern32_ls=1_v=1 kernel",
          "x": 0.14444444444444446,
          "xanchor": "center",
          "xref": "paper",
          "y": 0.0703125,
          "yanchor": "bottom",
          "yref": "paper"
         },
         {
          "font": {
           "size": 16
          },
          "showarrow": false,
          "text": "N00/002g1 with matern32_ls=1_v=1 kernel",
          "x": 0.5,
          "xanchor": "center",
          "xref": "paper",
          "y": 0.0703125,
          "yanchor": "bottom",
          "yref": "paper"
         },
         {
          "font": {
           "size": 16
          },
          "showarrow": false,
          "text": "N13/016a1 with matern32_ls=1_v=1 kernel",
          "x": 0.8555555555555556,
          "xanchor": "center",
          "xref": "paper",
          "y": 0.0703125,
          "yanchor": "bottom",
          "yref": "paper"
         }
        ],
        "height": 3000,
        "template": {
         "data": {
          "bar": [
           {
            "error_x": {
             "color": "#2a3f5f"
            },
            "error_y": {
             "color": "#2a3f5f"
            },
            "marker": {
             "line": {
              "color": "#E5ECF6",
              "width": 0.5
             }
            },
            "type": "bar"
           }
          ],
          "barpolar": [
           {
            "marker": {
             "line": {
              "color": "#E5ECF6",
              "width": 0.5
             }
            },
            "type": "barpolar"
           }
          ],
          "carpet": [
           {
            "aaxis": {
             "endlinecolor": "#2a3f5f",
             "gridcolor": "white",
             "linecolor": "white",
             "minorgridcolor": "white",
             "startlinecolor": "#2a3f5f"
            },
            "baxis": {
             "endlinecolor": "#2a3f5f",
             "gridcolor": "white",
             "linecolor": "white",
             "minorgridcolor": "white",
             "startlinecolor": "#2a3f5f"
            },
            "type": "carpet"
           }
          ],
          "choropleth": [
           {
            "colorbar": {
             "outlinewidth": 0,
             "ticks": ""
            },
            "type": "choropleth"
           }
          ],
          "contour": [
           {
            "colorbar": {
             "outlinewidth": 0,
             "ticks": ""
            },
            "colorscale": [
             [
              0,
              "#0d0887"
             ],
             [
              0.1111111111111111,
              "#46039f"
             ],
             [
              0.2222222222222222,
              "#7201a8"
             ],
             [
              0.3333333333333333,
              "#9c179e"
             ],
             [
              0.4444444444444444,
              "#bd3786"
             ],
             [
              0.5555555555555556,
              "#d8576b"
             ],
             [
              0.6666666666666666,
              "#ed7953"
             ],
             [
              0.7777777777777778,
              "#fb9f3a"
             ],
             [
              0.8888888888888888,
              "#fdca26"
             ],
             [
              1,
              "#f0f921"
             ]
            ],
            "type": "contour"
           }
          ],
          "contourcarpet": [
           {
            "colorbar": {
             "outlinewidth": 0,
             "ticks": ""
            },
            "type": "contourcarpet"
           }
          ],
          "heatmap": [
           {
            "colorbar": {
             "outlinewidth": 0,
             "ticks": ""
            },
            "colorscale": [
             [
              0,
              "#0d0887"
             ],
             [
              0.1111111111111111,
              "#46039f"
             ],
             [
              0.2222222222222222,
              "#7201a8"
             ],
             [
              0.3333333333333333,
              "#9c179e"
             ],
             [
              0.4444444444444444,
              "#bd3786"
             ],
             [
              0.5555555555555556,
              "#d8576b"
             ],
             [
              0.6666666666666666,
              "#ed7953"
             ],
             [
              0.7777777777777778,
              "#fb9f3a"
             ],
             [
              0.8888888888888888,
              "#fdca26"
             ],
             [
              1,
              "#f0f921"
             ]
            ],
            "type": "heatmap"
           }
          ],
          "heatmapgl": [
           {
            "colorbar": {
             "outlinewidth": 0,
             "ticks": ""
            },
            "colorscale": [
             [
              0,
              "#0d0887"
             ],
             [
              0.1111111111111111,
              "#46039f"
             ],
             [
              0.2222222222222222,
              "#7201a8"
             ],
             [
              0.3333333333333333,
              "#9c179e"
             ],
             [
              0.4444444444444444,
              "#bd3786"
             ],
             [
              0.5555555555555556,
              "#d8576b"
             ],
             [
              0.6666666666666666,
              "#ed7953"
             ],
             [
              0.7777777777777778,
              "#fb9f3a"
             ],
             [
              0.8888888888888888,
              "#fdca26"
             ],
             [
              1,
              "#f0f921"
             ]
            ],
            "type": "heatmapgl"
           }
          ],
          "histogram": [
           {
            "marker": {
             "colorbar": {
              "outlinewidth": 0,
              "ticks": ""
             }
            },
            "type": "histogram"
           }
          ],
          "histogram2d": [
           {
            "colorbar": {
             "outlinewidth": 0,
             "ticks": ""
            },
            "colorscale": [
             [
              0,
              "#0d0887"
             ],
             [
              0.1111111111111111,
              "#46039f"
             ],
             [
              0.2222222222222222,
              "#7201a8"
             ],
             [
              0.3333333333333333,
              "#9c179e"
             ],
             [
              0.4444444444444444,
              "#bd3786"
             ],
             [
              0.5555555555555556,
              "#d8576b"
             ],
             [
              0.6666666666666666,
              "#ed7953"
             ],
             [
              0.7777777777777778,
              "#fb9f3a"
             ],
             [
              0.8888888888888888,
              "#fdca26"
             ],
             [
              1,
              "#f0f921"
             ]
            ],
            "type": "histogram2d"
           }
          ],
          "histogram2dcontour": [
           {
            "colorbar": {
             "outlinewidth": 0,
             "ticks": ""
            },
            "colorscale": [
             [
              0,
              "#0d0887"
             ],
             [
              0.1111111111111111,
              "#46039f"
             ],
             [
              0.2222222222222222,
              "#7201a8"
             ],
             [
              0.3333333333333333,
              "#9c179e"
             ],
             [
              0.4444444444444444,
              "#bd3786"
             ],
             [
              0.5555555555555556,
              "#d8576b"
             ],
             [
              0.6666666666666666,
              "#ed7953"
             ],
             [
              0.7777777777777778,
              "#fb9f3a"
             ],
             [
              0.8888888888888888,
              "#fdca26"
             ],
             [
              1,
              "#f0f921"
             ]
            ],
            "type": "histogram2dcontour"
           }
          ],
          "mesh3d": [
           {
            "colorbar": {
             "outlinewidth": 0,
             "ticks": ""
            },
            "type": "mesh3d"
           }
          ],
          "parcoords": [
           {
            "line": {
             "colorbar": {
              "outlinewidth": 0,
              "ticks": ""
             }
            },
            "type": "parcoords"
           }
          ],
          "pie": [
           {
            "automargin": true,
            "type": "pie"
           }
          ],
          "scatter": [
           {
            "marker": {
             "colorbar": {
              "outlinewidth": 0,
              "ticks": ""
             }
            },
            "type": "scatter"
           }
          ],
          "scatter3d": [
           {
            "line": {
             "colorbar": {
              "outlinewidth": 0,
              "ticks": ""
             }
            },
            "marker": {
             "colorbar": {
              "outlinewidth": 0,
              "ticks": ""
             }
            },
            "type": "scatter3d"
           }
          ],
          "scattercarpet": [
           {
            "marker": {
             "colorbar": {
              "outlinewidth": 0,
              "ticks": ""
             }
            },
            "type": "scattercarpet"
           }
          ],
          "scattergeo": [
           {
            "marker": {
             "colorbar": {
              "outlinewidth": 0,
              "ticks": ""
             }
            },
            "type": "scattergeo"
           }
          ],
          "scattergl": [
           {
            "marker": {
             "colorbar": {
              "outlinewidth": 0,
              "ticks": ""
             }
            },
            "type": "scattergl"
           }
          ],
          "scattermapbox": [
           {
            "marker": {
             "colorbar": {
              "outlinewidth": 0,
              "ticks": ""
             }
            },
            "type": "scattermapbox"
           }
          ],
          "scatterpolar": [
           {
            "marker": {
             "colorbar": {
              "outlinewidth": 0,
              "ticks": ""
             }
            },
            "type": "scatterpolar"
           }
          ],
          "scatterpolargl": [
           {
            "marker": {
             "colorbar": {
              "outlinewidth": 0,
              "ticks": ""
             }
            },
            "type": "scatterpolargl"
           }
          ],
          "scatterternary": [
           {
            "marker": {
             "colorbar": {
              "outlinewidth": 0,
              "ticks": ""
             }
            },
            "type": "scatterternary"
           }
          ],
          "surface": [
           {
            "colorbar": {
             "outlinewidth": 0,
             "ticks": ""
            },
            "colorscale": [
             [
              0,
              "#0d0887"
             ],
             [
              0.1111111111111111,
              "#46039f"
             ],
             [
              0.2222222222222222,
              "#7201a8"
             ],
             [
              0.3333333333333333,
              "#9c179e"
             ],
             [
              0.4444444444444444,
              "#bd3786"
             ],
             [
              0.5555555555555556,
              "#d8576b"
             ],
             [
              0.6666666666666666,
              "#ed7953"
             ],
             [
              0.7777777777777778,
              "#fb9f3a"
             ],
             [
              0.8888888888888888,
              "#fdca26"
             ],
             [
              1,
              "#f0f921"
             ]
            ],
            "type": "surface"
           }
          ],
          "table": [
           {
            "cells": {
             "fill": {
              "color": "#EBF0F8"
             },
             "line": {
              "color": "white"
             }
            },
            "header": {
             "fill": {
              "color": "#C8D4E3"
             },
             "line": {
              "color": "white"
             }
            },
            "type": "table"
           }
          ]
         },
         "layout": {
          "annotationdefaults": {
           "arrowcolor": "#2a3f5f",
           "arrowhead": 0,
           "arrowwidth": 1
          },
          "coloraxis": {
           "colorbar": {
            "outlinewidth": 0,
            "ticks": ""
           }
          },
          "colorscale": {
           "diverging": [
            [
             0,
             "#8e0152"
            ],
            [
             0.1,
             "#c51b7d"
            ],
            [
             0.2,
             "#de77ae"
            ],
            [
             0.3,
             "#f1b6da"
            ],
            [
             0.4,
             "#fde0ef"
            ],
            [
             0.5,
             "#f7f7f7"
            ],
            [
             0.6,
             "#e6f5d0"
            ],
            [
             0.7,
             "#b8e186"
            ],
            [
             0.8,
             "#7fbc41"
            ],
            [
             0.9,
             "#4d9221"
            ],
            [
             1,
             "#276419"
            ]
           ],
           "sequential": [
            [
             0,
             "#0d0887"
            ],
            [
             0.1111111111111111,
             "#46039f"
            ],
            [
             0.2222222222222222,
             "#7201a8"
            ],
            [
             0.3333333333333333,
             "#9c179e"
            ],
            [
             0.4444444444444444,
             "#bd3786"
            ],
            [
             0.5555555555555556,
             "#d8576b"
            ],
            [
             0.6666666666666666,
             "#ed7953"
            ],
            [
             0.7777777777777778,
             "#fb9f3a"
            ],
            [
             0.8888888888888888,
             "#fdca26"
            ],
            [
             1,
             "#f0f921"
            ]
           ],
           "sequentialminus": [
            [
             0,
             "#0d0887"
            ],
            [
             0.1111111111111111,
             "#46039f"
            ],
            [
             0.2222222222222222,
             "#7201a8"
            ],
            [
             0.3333333333333333,
             "#9c179e"
            ],
            [
             0.4444444444444444,
             "#bd3786"
            ],
            [
             0.5555555555555556,
             "#d8576b"
            ],
            [
             0.6666666666666666,
             "#ed7953"
            ],
            [
             0.7777777777777778,
             "#fb9f3a"
            ],
            [
             0.8888888888888888,
             "#fdca26"
            ],
            [
             1,
             "#f0f921"
            ]
           ]
          },
          "colorway": [
           "#636efa",
           "#EF553B",
           "#00cc96",
           "#ab63fa",
           "#FFA15A",
           "#19d3f3",
           "#FF6692",
           "#B6E880",
           "#FF97FF",
           "#FECB52"
          ],
          "font": {
           "color": "#2a3f5f"
          },
          "geo": {
           "bgcolor": "white",
           "lakecolor": "white",
           "landcolor": "#E5ECF6",
           "showlakes": true,
           "showland": true,
           "subunitcolor": "white"
          },
          "hoverlabel": {
           "align": "left"
          },
          "hovermode": "closest",
          "mapbox": {
           "style": "light"
          },
          "paper_bgcolor": "white",
          "plot_bgcolor": "#E5ECF6",
          "polar": {
           "angularaxis": {
            "gridcolor": "white",
            "linecolor": "white",
            "ticks": ""
           },
           "bgcolor": "#E5ECF6",
           "radialaxis": {
            "gridcolor": "white",
            "linecolor": "white",
            "ticks": ""
           }
          },
          "scene": {
           "xaxis": {
            "backgroundcolor": "#E5ECF6",
            "gridcolor": "white",
            "gridwidth": 2,
            "linecolor": "white",
            "showbackground": true,
            "ticks": "",
            "zerolinecolor": "white"
           },
           "yaxis": {
            "backgroundcolor": "#E5ECF6",
            "gridcolor": "white",
            "gridwidth": 2,
            "linecolor": "white",
            "showbackground": true,
            "ticks": "",
            "zerolinecolor": "white"
           },
           "zaxis": {
            "backgroundcolor": "#E5ECF6",
            "gridcolor": "white",
            "gridwidth": 2,
            "linecolor": "white",
            "showbackground": true,
            "ticks": "",
            "zerolinecolor": "white"
           }
          },
          "shapedefaults": {
           "line": {
            "color": "#2a3f5f"
           }
          },
          "ternary": {
           "aaxis": {
            "gridcolor": "white",
            "linecolor": "white",
            "ticks": ""
           },
           "baxis": {
            "gridcolor": "white",
            "linecolor": "white",
            "ticks": ""
           },
           "bgcolor": "#E5ECF6",
           "caxis": {
            "gridcolor": "white",
            "linecolor": "white",
            "ticks": ""
           }
          },
          "title": {
           "x": 0.05
          },
          "xaxis": {
           "automargin": true,
           "gridcolor": "white",
           "linecolor": "white",
           "ticks": "",
           "title": {
            "standoff": 15
           },
           "zerolinecolor": "white",
           "zerolinewidth": 2
          },
          "yaxis": {
           "automargin": true,
           "gridcolor": "white",
           "linecolor": "white",
           "ticks": "",
           "title": {
            "standoff": 15
           },
           "zerolinecolor": "white",
           "zerolinewidth": 2
          }
         }
        },
        "width": 1500,
        "xaxis": {
         "anchor": "y",
         "domain": [
          0,
          0.2888888888888889
         ]
        },
        "xaxis10": {
         "anchor": "y10",
         "domain": [
          0,
          0.2888888888888889
         ]
        },
        "xaxis11": {
         "anchor": "y11",
         "domain": [
          0.35555555555555557,
          0.6444444444444445
         ]
        },
        "xaxis12": {
         "anchor": "y12",
         "domain": [
          0.7111111111111111,
          1
         ]
        },
        "xaxis13": {
         "anchor": "y13",
         "domain": [
          0,
          0.2888888888888889
         ]
        },
        "xaxis14": {
         "anchor": "y14",
         "domain": [
          0.35555555555555557,
          0.6444444444444445
         ]
        },
        "xaxis15": {
         "anchor": "y15",
         "domain": [
          0.7111111111111111,
          1
         ]
        },
        "xaxis16": {
         "anchor": "y16",
         "domain": [
          0,
          0.2888888888888889
         ]
        },
        "xaxis17": {
         "anchor": "y17",
         "domain": [
          0.35555555555555557,
          0.6444444444444445
         ]
        },
        "xaxis18": {
         "anchor": "y18",
         "domain": [
          0.7111111111111111,
          1
         ]
        },
        "xaxis19": {
         "anchor": "y19",
         "domain": [
          0,
          0.2888888888888889
         ]
        },
        "xaxis2": {
         "anchor": "y2",
         "domain": [
          0.35555555555555557,
          0.6444444444444445
         ]
        },
        "xaxis20": {
         "anchor": "y20",
         "domain": [
          0.35555555555555557,
          0.6444444444444445
         ]
        },
        "xaxis21": {
         "anchor": "y21",
         "domain": [
          0.7111111111111111,
          1
         ]
        },
        "xaxis22": {
         "anchor": "y22",
         "domain": [
          0,
          0.2888888888888889
         ]
        },
        "xaxis23": {
         "anchor": "y23",
         "domain": [
          0.35555555555555557,
          0.6444444444444445
         ]
        },
        "xaxis24": {
         "anchor": "y24",
         "domain": [
          0.7111111111111111,
          1
         ]
        },
        "xaxis3": {
         "anchor": "y3",
         "domain": [
          0.7111111111111111,
          1
         ]
        },
        "xaxis4": {
         "anchor": "y4",
         "domain": [
          0,
          0.2888888888888889
         ]
        },
        "xaxis5": {
         "anchor": "y5",
         "domain": [
          0.35555555555555557,
          0.6444444444444445
         ]
        },
        "xaxis6": {
         "anchor": "y6",
         "domain": [
          0.7111111111111111,
          1
         ]
        },
        "xaxis7": {
         "anchor": "y7",
         "domain": [
          0,
          0.2888888888888889
         ]
        },
        "xaxis8": {
         "anchor": "y8",
         "domain": [
          0.35555555555555557,
          0.6444444444444445
         ]
        },
        "xaxis9": {
         "anchor": "y9",
         "domain": [
          0.7111111111111111,
          1
         ]
        },
        "yaxis": {
         "anchor": "x",
         "domain": [
          0.9296875,
          1
         ]
        },
        "yaxis10": {
         "anchor": "x10",
         "domain": [
          0.53125,
          0.6015625
         ]
        },
        "yaxis11": {
         "anchor": "x11",
         "domain": [
          0.53125,
          0.6015625
         ],
         "matches": "y10",
         "showticklabels": false
        },
        "yaxis12": {
         "anchor": "x12",
         "domain": [
          0.53125,
          0.6015625
         ],
         "matches": "y10",
         "showticklabels": false
        },
        "yaxis13": {
         "anchor": "x13",
         "domain": [
          0.3984375,
          0.46875
         ]
        },
        "yaxis14": {
         "anchor": "x14",
         "domain": [
          0.3984375,
          0.46875
         ],
         "matches": "y13",
         "showticklabels": false
        },
        "yaxis15": {
         "anchor": "x15",
         "domain": [
          0.3984375,
          0.46875
         ],
         "matches": "y13",
         "showticklabels": false
        },
        "yaxis16": {
         "anchor": "x16",
         "domain": [
          0.265625,
          0.3359375
         ]
        },
        "yaxis17": {
         "anchor": "x17",
         "domain": [
          0.265625,
          0.3359375
         ],
         "matches": "y16",
         "showticklabels": false
        },
        "yaxis18": {
         "anchor": "x18",
         "domain": [
          0.265625,
          0.3359375
         ],
         "matches": "y16",
         "showticklabels": false
        },
        "yaxis19": {
         "anchor": "x19",
         "domain": [
          0.1328125,
          0.203125
         ]
        },
        "yaxis2": {
         "anchor": "x2",
         "domain": [
          0.9296875,
          1
         ],
         "matches": "y",
         "showticklabels": false
        },
        "yaxis20": {
         "anchor": "x20",
         "domain": [
          0.1328125,
          0.203125
         ],
         "matches": "y19",
         "showticklabels": false
        },
        "yaxis21": {
         "anchor": "x21",
         "domain": [
          0.1328125,
          0.203125
         ],
         "matches": "y19",
         "showticklabels": false
        },
        "yaxis22": {
         "anchor": "x22",
         "domain": [
          0,
          0.0703125
         ]
        },
        "yaxis23": {
         "anchor": "x23",
         "domain": [
          0,
          0.0703125
         ],
         "matches": "y22",
         "showticklabels": false
        },
        "yaxis24": {
         "anchor": "x24",
         "domain": [
          0,
          0.0703125
         ],
         "matches": "y22",
         "showticklabels": false
        },
        "yaxis3": {
         "anchor": "x3",
         "domain": [
          0.9296875,
          1
         ],
         "matches": "y",
         "showticklabels": false
        },
        "yaxis4": {
         "anchor": "x4",
         "domain": [
          0.796875,
          0.8671875
         ]
        },
        "yaxis5": {
         "anchor": "x5",
         "domain": [
          0.796875,
          0.8671875
         ],
         "matches": "y4",
         "showticklabels": false
        },
        "yaxis6": {
         "anchor": "x6",
         "domain": [
          0.796875,
          0.8671875
         ],
         "matches": "y4",
         "showticklabels": false
        },
        "yaxis7": {
         "anchor": "x7",
         "domain": [
          0.6640625,
          0.734375
         ]
        },
        "yaxis8": {
         "anchor": "x8",
         "domain": [
          0.6640625,
          0.734375
         ],
         "matches": "y7",
         "showticklabels": false
        },
        "yaxis9": {
         "anchor": "x9",
         "domain": [
          0.6640625,
          0.734375
         ],
         "matches": "y7",
         "showticklabels": false
        }
       }
      }
     },
     "metadata": {}
    }
   ],
   "source": [
    "fig.update_layout(\n",
    "    width=1500,\n",
    "    height=2500\n",
    ")\n",
    "fig.show()"
   ]
  },
  {
   "cell_type": "code",
   "execution_count": null,
   "metadata": {},
   "outputs": [],
   "source": []
  }
 ]
}