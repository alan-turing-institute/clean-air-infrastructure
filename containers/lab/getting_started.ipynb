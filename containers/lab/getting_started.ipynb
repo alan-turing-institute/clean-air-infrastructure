{
 "cells": [
  {
   "cell_type": "code",
   "execution_count": null,
   "metadata": {},
   "outputs": [],
   "source": [
    "from cleanair.dashboard import apps\n",
    "import numpy as np\n",
    "import pandas as pd\n",
    "import dash\n",
    "import dash_bootstrap_components as dbc\n",
    "import dash_html_components as html\n",
    "import jupyterlab_dash"
   ]
  },
  {
   "cell_type": "code",
   "execution_count": null,
   "metadata": {},
   "outputs": [],
   "source": [
    "top_container = dbc.Container([\n",
    "    dbc.Row([\n",
    "        dbc.Col(html.H6(\"Hello, world!\"), width=3),\n",
    "        dbc.Col(html.H1(\"Hello, world!\"), width=3),\n",
    "        dbc.Col(html.H6(\"Hello, world!\"), width=3),\n",
    "        dbc.Col(html.H1(\"Hello, world!\"), width=3),\n",
    "        dbc.Col(html.H6(\"Hello, world!\"), width=7),\n",
    "        dbc.Col(html.H6(\"Hello, world!\"), width=5),\n",
    "    ]),\n",
    "    dbc.Row([\n",
    "        dbc.Col(html.H1(\"Hello, world!\"), width=3),\n",
    "        dbc.Col(html.H1(\"Hello, world!\"), width=3),\n",
    "    ])\n",
    "])"
   ]
  },
  {
   "cell_type": "code",
   "execution_count": null,
   "metadata": {},
   "outputs": [],
   "source": [
    "app = dash.Dash(__name__, external_stylesheets=[dbc.themes.BOOTSTRAP])\n",
    "app.layout = html.Div([top_container])\n",
    "\n",
    "viewer = jupyterlab_dash.AppViewer()\n",
    "viewer.show(app)"
   ]
  },
  {
   "cell_type": "code",
   "execution_count": null,
   "metadata": {},
   "outputs": [],
   "source": []
  }
 ],
 "metadata": {
  "kernelspec": {
   "display_name": "cleanair3.7",
   "language": "python3.7",
   "name": "cleanair3.7"
  },
  "language_info": {
   "codemirror_mode": {
    "name": "ipython",
    "version": 3
   },
   "file_extension": ".py",
   "mimetype": "text/x-python",
   "name": "python",
   "nbconvert_exporter": "python",
   "pygments_lexer": "ipython3",
   "version": "3.7.6"
  }
 },
 "nbformat": 4,
 "nbformat_minor": 4
}
